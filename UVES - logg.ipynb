{
 "cells": [
  {
   "cell_type": "code",
   "execution_count": 1,
   "id": "ba77f90a-b00e-4fe0-b388-940e86456bdd",
   "metadata": {
    "tags": []
   },
   "outputs": [],
   "source": [
    "import matplotlib.pyplot as plt\n",
    "import pandas as pd\n",
    "import numpy as np\n",
    "import sys\n",
    "import os"
   ]
  },
  {
   "cell_type": "code",
   "execution_count": 2,
   "id": "c1237bdc-60b0-4983-ad5b-bab6be2df844",
   "metadata": {
    "tags": []
   },
   "outputs": [],
   "source": [
    "os.chdir('/home/fgran/gaiadr3_bcg/')\n",
    "import gdr3bcg.bcg as bcg\n",
    "sys.path.append('/home/fgran/Downloads/gaiadr3_bcg/')\n",
    "bc = bcg.BolometryTable()"
   ]
  },
  {
   "cell_type": "code",
   "execution_count": 3,
   "id": "7a1f435c-d852-454a-91ad-31d0ba2cc29a",
   "metadata": {
    "tags": []
   },
   "outputs": [],
   "source": [
    "#Move to the correct directory: Pristine-UVES\n",
    "os.chdir('/store/teams/cosmos/fgran/data/Pristine-UVES/')"
   ]
  },
  {
   "cell_type": "code",
   "execution_count": 4,
   "id": "9006ac9e-4578-4745-b2c2-16910648345a",
   "metadata": {
    "tags": []
   },
   "outputs": [],
   "source": [
    "uves_p111_p112_pristine_xgboost = pd.read_csv('uves_p111_p112_pristinedr1_xgboost.csv')\n",
    "# uves_p111_pristine_xgboost.rename(columns={'ra_y':'ra', 'dec_y':'dec'}, inplace=True)\n",
    "# uves_p111_pristine_xgboost.drop(['ra_x', 'dec_x'], axis=1, inplace=True)\n",
    "\n",
    "parsec_2p5 = pd.read_csv('iso/PARSEC_mh-2p5.dat', skiprows=13, delim_whitespace=True, comment='#')\n",
    "parsec_2p5 = parsec_2p5[parsec_2p5.label < 4.]"
   ]
  },
  {
   "cell_type": "code",
   "execution_count": 5,
   "id": "b9e1d52f-423b-46e8-ab6d-2f30593b5edc",
   "metadata": {
    "tags": []
   },
   "outputs": [
    {
     "data": {
      "text/html": [
       "<div>\n",
       "<style scoped>\n",
       "    .dataframe tbody tr th:only-of-type {\n",
       "        vertical-align: middle;\n",
       "    }\n",
       "\n",
       "    .dataframe tbody tr th {\n",
       "        vertical-align: top;\n",
       "    }\n",
       "\n",
       "    .dataframe thead th {\n",
       "        text-align: right;\n",
       "    }\n",
       "</style>\n",
       "<table border=\"1\" class=\"dataframe\">\n",
       "  <thead>\n",
       "    <tr style=\"text-align: right;\">\n",
       "      <th></th>\n",
       "      <th>source_id</th>\n",
       "      <th>ebv</th>\n",
       "      <th>g0</th>\n",
       "      <th>eg</th>\n",
       "      <th>bp0</th>\n",
       "      <th>ebp</th>\n",
       "      <th>rp0</th>\n",
       "      <th>erp</th>\n",
       "      <th>cahk0</th>\n",
       "      <th>ecahk</th>\n",
       "      <th>...</th>\n",
       "      <th>pmdec_error</th>\n",
       "      <th>radial_velocity</th>\n",
       "      <th>radial_velocity_error</th>\n",
       "      <th>feh_pristine_dr0</th>\n",
       "      <th>feh_pristine_dr0_sigma_up</th>\n",
       "      <th>feh_pristine_dr0_sigma_down</th>\n",
       "      <th>Vcalib</th>\n",
       "      <th>mh_xgboost</th>\n",
       "      <th>teff_xgboost</th>\n",
       "      <th>logg_xgboost</th>\n",
       "    </tr>\n",
       "  </thead>\n",
       "  <tbody>\n",
       "    <tr>\n",
       "      <th>0</th>\n",
       "      <td>1166634514845213568</td>\n",
       "      <td>0.034659</td>\n",
       "      <td>11.670373</td>\n",
       "      <td>0.002767</td>\n",
       "      <td>12.097350</td>\n",
       "      <td>0.002867</td>\n",
       "      <td>11.063974</td>\n",
       "      <td>0.003820</td>\n",
       "      <td>13.051166</td>\n",
       "      <td>0.009495</td>\n",
       "      <td>...</td>\n",
       "      <td>0.015382</td>\n",
       "      <td>97.427338</td>\n",
       "      <td>0.595712</td>\n",
       "      <td>-2.87</td>\n",
       "      <td>-99.989998</td>\n",
       "      <td>-99.989998</td>\n",
       "      <td>11.990169</td>\n",
       "      <td>-2.574</td>\n",
       "      <td>4956.7</td>\n",
       "      <td>1.916</td>\n",
       "    </tr>\n",
       "    <tr>\n",
       "      <th>1</th>\n",
       "      <td>1172165023972931072</td>\n",
       "      <td>0.026574</td>\n",
       "      <td>12.876005</td>\n",
       "      <td>0.002772</td>\n",
       "      <td>13.314315</td>\n",
       "      <td>0.003091</td>\n",
       "      <td>12.258079</td>\n",
       "      <td>0.003841</td>\n",
       "      <td>14.291629</td>\n",
       "      <td>0.016091</td>\n",
       "      <td>...</td>\n",
       "      <td>0.016281</td>\n",
       "      <td>-67.292206</td>\n",
       "      <td>2.540182</td>\n",
       "      <td>-3.02</td>\n",
       "      <td>-99.989998</td>\n",
       "      <td>-99.989998</td>\n",
       "      <td>13.182396</td>\n",
       "      <td>-2.780</td>\n",
       "      <td>5013.6</td>\n",
       "      <td>1.923</td>\n",
       "    </tr>\n",
       "  </tbody>\n",
       "</table>\n",
       "<p>2 rows × 57 columns</p>\n",
       "</div>"
      ],
      "text/plain": [
       "             source_id       ebv         g0        eg        bp0       ebp  \\\n",
       "0  1166634514845213568  0.034659  11.670373  0.002767  12.097350  0.002867   \n",
       "1  1172165023972931072  0.026574  12.876005  0.002772  13.314315  0.003091   \n",
       "\n",
       "         rp0       erp      cahk0     ecahk  ...  pmdec_error  \\\n",
       "0  11.063974  0.003820  13.051166  0.009495  ...     0.015382   \n",
       "1  12.258079  0.003841  14.291629  0.016091  ...     0.016281   \n",
       "\n",
       "   radial_velocity  radial_velocity_error  feh_pristine_dr0  \\\n",
       "0        97.427338               0.595712             -2.87   \n",
       "1       -67.292206               2.540182             -3.02   \n",
       "\n",
       "   feh_pristine_dr0_sigma_up  feh_pristine_dr0_sigma_down     Vcalib  \\\n",
       "0                 -99.989998                   -99.989998  11.990169   \n",
       "1                 -99.989998                   -99.989998  13.182396   \n",
       "\n",
       "   mh_xgboost teff_xgboost logg_xgboost  \n",
       "0      -2.574       4956.7        1.916  \n",
       "1      -2.780       5013.6        1.923  \n",
       "\n",
       "[2 rows x 57 columns]"
      ]
     },
     "execution_count": 5,
     "metadata": {},
     "output_type": "execute_result"
    }
   ],
   "source": [
    "uves_p111_p112_pristine_xgboost.head(2)"
   ]
  },
  {
   "cell_type": "code",
   "execution_count": 6,
   "id": "6721f56a-6f2f-4173-a318-747b0684a54f",
   "metadata": {
    "tags": []
   },
   "outputs": [],
   "source": [
    "#Bayler-Jones distances"
   ]
  },
  {
   "cell_type": "code",
   "execution_count": 7,
   "id": "66121e9c-3bc8-4f1e-9636-9bc8d75be185",
   "metadata": {
    "tags": []
   },
   "outputs": [],
   "source": [
    "from astroquery.vizier import Vizier\n",
    "import time"
   ]
  },
  {
   "cell_type": "code",
   "execution_count": 8,
   "id": "49a50f27-759e-4142-bd9f-dd3070269fb4",
   "metadata": {
    "tags": []
   },
   "outputs": [],
   "source": [
    "Vizier.ROW_LIMIT = 200"
   ]
  },
  {
   "cell_type": "code",
   "execution_count": 9,
   "id": "a76a210f-3764-415c-a6d8-aaf4f1ef28db",
   "metadata": {
    "tags": []
   },
   "outputs": [],
   "source": [
    "dist_table = pd.DataFrame(columns=['rpgeo', 'b_rpgeo', 'B_rpgeo'])\n",
    "dist_data = np.empty((uves_p111_p112_pristine_xgboost.ra.size, dist_table.columns.size))"
   ]
  },
  {
   "cell_type": "code",
   "execution_count": 10,
   "id": "3c019b2d-1592-4ad7-a095-0e6d87a5096a",
   "metadata": {
    "tags": []
   },
   "outputs": [
    {
     "name": "stdout",
     "output_type": "stream",
     "text": [
      "CPU times: user 893 ms, sys: 9.21 ms, total: 903 ms\n",
      "Wall time: 32.9 s\n"
     ]
    }
   ],
   "source": [
    "%%time\n",
    "\n",
    "for i, row in uves_p111_p112_pristine_xgboost.iterrows():\n",
    "    dist_data[i, :] = Vizier.query_constraints(catalog='I/352/gedr3dis', Source=row.source_id, return_type='votable')[0].to_pandas()[['rpgeo', 'b_rpgeo', 'B_rpgeo']].values\n",
    "    time.sleep(0.20)"
   ]
  },
  {
   "cell_type": "code",
   "execution_count": 11,
   "id": "3237215a-6fc7-4f25-9bf7-138a11828a88",
   "metadata": {
    "tags": []
   },
   "outputs": [],
   "source": [
    "dist_table = pd.DataFrame(data=dist_data, columns=['rpgeo', 'b_rpgeo', 'B_rpgeo'])"
   ]
  },
  {
   "cell_type": "code",
   "execution_count": 12,
   "id": "512c63f0-bc31-4e6b-bcdc-954873edc5cb",
   "metadata": {
    "tags": []
   },
   "outputs": [],
   "source": [
    "uves_p111_p112_pristine_xgboost['rpgeo'] = dist_table.rpgeo.values\n",
    "uves_p111_p112_pristine_xgboost['b_rpgeo'] = dist_table.b_rpgeo.values\n",
    "uves_p111_p112_pristine_xgboost['B_rpgeo'] = dist_table.B_rpgeo.values"
   ]
  },
  {
   "cell_type": "code",
   "execution_count": null,
   "id": "4cf08e5e-bbc9-465a-bae4-534ac45c06de",
   "metadata": {},
   "outputs": [],
   "source": []
  },
  {
   "cell_type": "code",
   "execution_count": 13,
   "id": "780e364a-c387-476c-b57e-d1f321e5289a",
   "metadata": {
    "tags": []
   },
   "outputs": [],
   "source": [
    "#Correct parallax zero point"
   ]
  },
  {
   "cell_type": "code",
   "execution_count": 14,
   "id": "47393113-f858-4ca3-8a39-b3753f95df6e",
   "metadata": {
    "tags": []
   },
   "outputs": [],
   "source": [
    "# from astropy.coordinates import SkyCoord\n",
    "# from astroquery.gaia import Gaia\n",
    "# from astropy.table import Table\n",
    "# import astropy.units as u"
   ]
  },
  {
   "cell_type": "code",
   "execution_count": 15,
   "id": "cdf843a4-0479-4741-a1fd-083a1ebbeec2",
   "metadata": {
    "tags": []
   },
   "outputs": [],
   "source": [
    "# Gaia.ROW_LIMIT = 200\n",
    "# Gaia.MAIN_GAIA_TABLE = 'gaiadr3.gaia_source'"
   ]
  },
  {
   "cell_type": "code",
   "execution_count": 16,
   "id": "ad44b56e-8e9b-4b9f-871e-5d4933a42d86",
   "metadata": {
    "tags": []
   },
   "outputs": [],
   "source": [
    "# zp_table = pd.DataFrame(columns=['source_id', 'rgeo', 'b_rgeo', 'B_rgeo', 'rpgeo', 'b_rpgeo', 'B_rpgeo'])\n",
    "# zp_data = np.zeros((uves_p111_p112_pristine_xgboost.ra.size, zp_table.columns.size))"
   ]
  },
  {
   "cell_type": "code",
   "execution_count": 17,
   "id": "ce551749-33ac-408a-a2a5-7e4bd96e4d2b",
   "metadata": {
    "tags": []
   },
   "outputs": [],
   "source": [
    "# %%time\n",
    "\n",
    "# for i, row in uves_p111_p112_pristine_xgboost.iterrows():\n",
    "#     coo = SkyCoord(ra=row.ra * u.deg, dec=row.dec * u.deg)\n",
    "#     zp_data[i, :] = Gaia.query_object_async(coordinate=coo, radius=0.5*u.arcsec, columns=['source_id', 'phot_g_mean_mag', 'nu_eff_used_in_astrometry', \n",
    "#                                                                                         'pseudocolour', 'ecl_lat', 'astrometric_params_solved']).to_pandas().values"
   ]
  },
  {
   "cell_type": "code",
   "execution_count": 18,
   "id": "d8c0ce98-0676-43ec-be28-fb10b614f413",
   "metadata": {
    "tags": []
   },
   "outputs": [],
   "source": [
    "# zp_table = pd.DataFrame(data = zp_data, columns=['source_id', 'phot_g_mean_mag', 'nu_eff_used_in_astrometry', 'pseudocolour', 'ecl_lat', 'astrometric_params_solved', 'dist'])"
   ]
  },
  {
   "cell_type": "code",
   "execution_count": null,
   "id": "7444be6c-fee5-40b1-9790-141efcecc135",
   "metadata": {},
   "outputs": [],
   "source": []
  },
  {
   "cell_type": "code",
   "execution_count": 19,
   "id": "edfe0c88-5fea-4560-ae99-8f5cf60ef3f7",
   "metadata": {
    "tags": []
   },
   "outputs": [],
   "source": [
    "#Correct parallax zero-point"
   ]
  },
  {
   "cell_type": "code",
   "execution_count": 20,
   "id": "df264902-5c96-4569-91dc-da11738360e5",
   "metadata": {
    "tags": []
   },
   "outputs": [],
   "source": [
    "# zpt.load_tables()"
   ]
  },
  {
   "cell_type": "code",
   "execution_count": 21,
   "id": "2ec57121-8dc4-488d-ae2a-9940bb0b7838",
   "metadata": {
    "tags": []
   },
   "outputs": [],
   "source": [
    "# parallax_zpt = zpt.get_zpt(zp_table.phot_g_mean_mag.values, zp_table.nu_eff_used_in_astrometry.values, zp_table.pseudocolour.values, zp_table.ecl_lat.values, zp_table.astrometric_params_solved.values)"
   ]
  },
  {
   "cell_type": "code",
   "execution_count": 22,
   "id": "73bdc697-7c6e-4e31-9595-294336f97c30",
   "metadata": {
    "tags": []
   },
   "outputs": [],
   "source": [
    "# uves_p111_pristine_xgboost['parallax_zpt'] = parallax_zpt"
   ]
  },
  {
   "cell_type": "code",
   "execution_count": null,
   "id": "5321cfe6-bf59-4d77-8f96-4e150dc767b6",
   "metadata": {},
   "outputs": [],
   "source": []
  },
  {
   "cell_type": "code",
   "execution_count": 23,
   "id": "76ff69cc-4976-4a75-a2c8-c564185c1646",
   "metadata": {
    "tags": []
   },
   "outputs": [],
   "source": [
    "#Derive loggs"
   ]
  },
  {
   "cell_type": "code",
   "execution_count": 24,
   "id": "d6e755f9-7555-44b8-a6d8-d28eaa81297b",
   "metadata": {
    "tags": []
   },
   "outputs": [],
   "source": [
    "def logg_from_BC(T_eff_star, logg_star, monh_star, MG_star, alpha_star = 0.4, Mass_ratio = 0.8):\n",
    "    T_eff_sun = 5770.\n",
    "    logg_sun = 4.44\n",
    "    M_bol_sun = 4.74\n",
    "    \n",
    "    return logg_sun + 4.*np.log10(T_eff_star/T_eff_sun) + 0.4*(MG_star + BC_G(T_eff_star, logg_star, monh_star, alpha_star) - M_bol_sun) + np.log10(Mass_ratio)\n",
    "\n",
    "def BC_G(T_eff_star, logg_star, feh_star, alpha_star):\n",
    "    \n",
    "    star = [T_eff_star, logg_star, feh_star, alpha_star] #Teff, logg, feh, alpha\n",
    "    return bc.computeBc(star)"
   ]
  },
  {
   "cell_type": "code",
   "execution_count": 25,
   "id": "6281a668-45bd-49c7-abf2-183b40209f45",
   "metadata": {
    "tags": []
   },
   "outputs": [],
   "source": [
    "mcmc_repetitions = 100\n",
    "sigma_teff = 100 #K\n",
    "sigma_logg = 0.2 #K\n",
    "sigma_monh = 0.1 #K\n",
    "mass_ratio = 0.8\n",
    "sigma_mass_ratio = 0.05 "
   ]
  },
  {
   "cell_type": "code",
   "execution_count": 26,
   "id": "55177cc5-2fc8-4a31-860e-25609ded1641",
   "metadata": {
    "tags": []
   },
   "outputs": [],
   "source": [
    "# logg_par = np.empty_like(uves_p111_pristine_xgboost.logg_xgboost.values)\n",
    "# elogg_par = np.empty_like(uves_p111_pristine_xgboost.logg_xgboost.values)\n",
    "\n",
    "logg_rpgeo = np.empty_like(uves_p111_p112_pristine_xgboost.logg_xgboost.values)\n",
    "elogg_rpgeo = np.empty_like(uves_p111_p112_pristine_xgboost.logg_xgboost.values)\n",
    "\n",
    "logg_samples = np.empty(mcmc_repetitions)"
   ]
  },
  {
   "cell_type": "code",
   "execution_count": 27,
   "id": "7e7f17ee-46b5-4af3-8057-e11256fb5c01",
   "metadata": {
    "tags": []
   },
   "outputs": [],
   "source": [
    "# %%time\n",
    "\n",
    "# for star_i in np.arange(logg_par.size):\n",
    "    \n",
    "#     teff_mcmc = np.random.normal(loc=uves_p111_pristine_xgboost.teff_xgboost.values[star_i], scale=sigma_teff, size=mcmc_repetitions)\n",
    "#     logg_mcmc = np.random.normal(loc=uves_p111_pristine_xgboost.logg_xgboost.values[star_i], scale=sigma_logg, size=mcmc_repetitions)\n",
    "#     monh_mcmc = np.random.normal(loc=uves_p111_pristine_xgboost.mh_xgboost.values[star_i], scale=sigma_monh, size=mcmc_repetitions)\n",
    "\n",
    "#     g0_mcmc = np.random.normal(loc=uves_p111_pristine_xgboost.g0.values[star_i], \n",
    "#                                scale=(2.5/np.log(10)) * (uves_p111_pristine_xgboost.phot_g_mean_flux_error.values[star_i]/uves_p111_pristine_xgboost.phot_g_mean_flux.values[star_i]), \n",
    "#                                size=mcmc_repetitions)\n",
    "#     mu_mcmc = 5*np.log10(1./(np.random.normal(loc=uves_p111_pristine_xgboost.parallax.values[star_i], scale=uves_p111_pristine_xgboost.parallax_error.values[star_i], \n",
    "#                                                                                        size=mcmc_repetitions) - uves_p111_pristine_xgboost.parallax_zpt.values[star_i])*1000.) - 5.\n",
    "#     MG_mcmc = g0_mcmc - mu_mcmc\n",
    "    \n",
    "#     mass_ratio_mcmc = np.random.normal(loc=mass_ratio, scale=sigma_mass_ratio, size=mcmc_repetitions)\n",
    "\n",
    "#     for mcmc_i in np.arange(mcmc_repetitions):\n",
    "        \n",
    "#         logg_samples[mcmc_i] = logg_from_BC(T_eff_star=teff_mcmc[mcmc_i], logg_star=logg_mcmc[mcmc_i], monh_star=monh_mcmc[mcmc_i], MG_star=MG_mcmc[mcmc_i], alpha_star=0.4, Mass_ratio=mass_ratio_mcmc[mcmc_i])\n",
    "    \n",
    "#     logg_par[star_i] = np.percentile(logg_samples, 50)\n",
    "#     elogg_par[star_i] = np.abs(np.percentile(logg_samples, 16) - np.percentile(logg_samples, 84))/2."
   ]
  },
  {
   "cell_type": "code",
   "execution_count": 28,
   "id": "4bc1750e-2a86-4edc-b42d-deb8a12f1626",
   "metadata": {
    "tags": []
   },
   "outputs": [
    {
     "name": "stdout",
     "output_type": "stream",
     "text": [
      "CPU times: user 8min 43s, sys: 8.76 ms, total: 8min 43s\n",
      "Wall time: 8min 44s\n"
     ]
    }
   ],
   "source": [
    "%%time\n",
    "\n",
    "for star_i in np.arange(logg_rpgeo.size):\n",
    "    \n",
    "    teff_mcmc = np.random.normal(loc=uves_p111_p112_pristine_xgboost.teff_xgboost.values[star_i], scale=sigma_teff, size=mcmc_repetitions)\n",
    "    logg_mcmc = np.random.normal(loc=uves_p111_p112_pristine_xgboost.logg_xgboost.values[star_i], scale=sigma_logg, size=mcmc_repetitions)\n",
    "    monh_mcmc = np.random.normal(loc=uves_p111_p112_pristine_xgboost.mh_xgboost.values[star_i], scale=sigma_monh, size=mcmc_repetitions)\n",
    "\n",
    "    g0_mcmc = np.random.normal(loc=uves_p111_p112_pristine_xgboost.g0.values[star_i], scale=uves_p111_p112_pristine_xgboost.eg.values[star_i], size=mcmc_repetitions)\n",
    "    mu_mcmc = 5*np.log10(np.random.normal(loc=uves_p111_p112_pristine_xgboost.rpgeo.values[star_i], \n",
    "                                          scale=(uves_p111_p112_pristine_xgboost.B_rpgeo.values[star_i] - uves_p111_p112_pristine_xgboost.b_rpgeo.values[star_i])/2., \n",
    "                                          size=mcmc_repetitions)) - 5.\n",
    "    MG_mcmc = g0_mcmc - mu_mcmc\n",
    "    \n",
    "    mass_ratio_mcmc = np.random.normal(loc=mass_ratio, scale=sigma_mass_ratio, size=mcmc_repetitions)\n",
    "\n",
    "    for mcmc_i in np.arange(mcmc_repetitions):\n",
    "        \n",
    "        logg_samples[mcmc_i] = logg_from_BC(T_eff_star=teff_mcmc[mcmc_i], logg_star=logg_mcmc[mcmc_i], monh_star=monh_mcmc[mcmc_i], MG_star=MG_mcmc[mcmc_i], alpha_star=0.4, Mass_ratio=mass_ratio_mcmc[mcmc_i])\n",
    "    \n",
    "    logg_rpgeo[star_i] = np.percentile(logg_samples, 50)\n",
    "    elogg_rpgeo[star_i] = np.abs(np.percentile(logg_samples, 16) - np.percentile(logg_samples, 84))/2."
   ]
  },
  {
   "cell_type": "code",
   "execution_count": 29,
   "id": "d7484d79-dee9-40c9-b3e9-e30f27fdf10f",
   "metadata": {
    "tags": []
   },
   "outputs": [
    {
     "data": {
      "image/png": "[encoded data removed]",
      "text/plain": [
       "<Figure size 432x288 with 1 Axes>"
      ]
     },
     "metadata": {
      "needs_background": "light"
     },
     "output_type": "display_data"
    }
   ],
   "source": [
    "plt.scatter(uves_p111_p112_pristine_xgboost.logg_xgboost.values, logg_rpgeo, s=1, color='k')\n",
    "plt.errorbar(uves_p111_p112_pristine_xgboost.logg_xgboost.values, logg_rpgeo, xerr=0.0, yerr=elogg_rpgeo, fmt='k.', alpha=0.5, lw=1)\n",
    "\n",
    "x = np.linspace(0.5, 3.5)\n",
    "plt.plot(x, x, color='r', alpha=0.5, ls='--')\n",
    "\n",
    "plt.xlabel(r'$\\log\\ g_{XGBOOST}$', size=14)\n",
    "plt.ylabel(r'$\\log\\ g_{BC}$', size=14)\n",
    "plt.show()"
   ]
  },
  {
   "cell_type": "code",
   "execution_count": null,
   "id": "45cba346-338c-403e-857b-c40401006cc6",
   "metadata": {},
   "outputs": [],
   "source": []
  },
  {
   "cell_type": "code",
   "execution_count": 30,
   "id": "8e213096-8c7f-4d4f-bca8-e8b59125f0ec",
   "metadata": {
    "tags": []
   },
   "outputs": [],
   "source": [
    "uves_p111_p112_pristine_xgboost['logg_bc'] = logg_rpgeo\n",
    "uves_p111_p112_pristine_xgboost['elogg_bc'] = elogg_rpgeo\n",
    "\n",
    "# uves_p111_pristine_xgboost['logg_par'] = logg_par\n",
    "# uves_p111_pristine_xgboost['elogg_par'] = elogg_par"
   ]
  },
  {
   "cell_type": "code",
   "execution_count": 31,
   "id": "a15752c7-128b-4605-9ae5-b1af17e74474",
   "metadata": {
    "tags": []
   },
   "outputs": [],
   "source": [
    "#Plottig new loggs"
   ]
  },
  {
   "cell_type": "code",
   "execution_count": 32,
   "id": "74b42aef-4de7-4e78-8e24-d343aa0b3a99",
   "metadata": {
    "tags": []
   },
   "outputs": [
    {
     "data": {
      "image/png": "[encoded data removed]",
      "text/plain": [
       "<Figure size 1080x432 with 5 Axes>"
      ]
     },
     "metadata": {
      "needs_background": "light"
     },
     "output_type": "display_data"
    }
   ],
   "source": [
    "plt.figure(figsize=(15,6))\n",
    "\n",
    "cmap = plt.cm.jet\n",
    "\n",
    "plt.subplot(1,4,1)\n",
    "plt.scatter(uves_p111_p112_pristine_xgboost.bp0.values - uves_p111_p112_pristine_xgboost.rp0.values, \n",
    "            uves_p111_p112_pristine_xgboost.g0.values - 5*np.log10(uves_p111_p112_pristine_xgboost.rpgeo.values) + 5., \n",
    "            s=20, c=uves_p111_p112_pristine_xgboost.mh_xgboost.values, cmap=cmap, edgecolors='k', vmin=-3.2)\n",
    "plt.plot(parsec_2p5.G_BPmag.values - parsec_2p5.G_RPmag.values, parsec_2p5.Gmag.values, color='k', zorder=0)\n",
    "# plt.gca().invert_yaxis()\n",
    "plt.ylim(4, -4.2)\n",
    "plt.xlim(0.5, 1.65)\n",
    "plt.xlabel(r'${\\rm BP-RP}$', size=14)\n",
    "plt.ylabel(r'M$_{\\rm G}$', size=14)\n",
    "\n",
    "plt.subplot(1,4,2)\n",
    "plt.scatter(uves_p111_p112_pristine_xgboost.bp0.values - uves_p111_p112_pristine_xgboost.rp0.values, uves_p111_p112_pristine_xgboost.logg_bc.values, \n",
    "            s=20, c=uves_p111_p112_pristine_xgboost.mh_xgboost.values, cmap=cmap, edgecolors='k', vmin=-3.2)\n",
    "plt.plot(parsec_2p5.G_BPmag.values - parsec_2p5.G_RPmag.values, parsec_2p5.logg.values, color='k', zorder=0)\n",
    "# plt.scatter(uves.bp0.values - uves.rp0.values, uves.logg_xgboost.values, s=10, color='k')\n",
    "# plt.gca().invert_yaxis()\n",
    "plt.ylim(4.2, 0.2)\n",
    "plt.xlim(0.5, 1.65)\n",
    "plt.xlabel(r'${\\rm BP-RP}$', size=14)\n",
    "plt.ylabel(r'$\\log\\ g$', size=14)\n",
    "\n",
    "\n",
    "plt.subplot(1,4,3)\n",
    "plt.scatter(uves_p111_p112_pristine_xgboost.teff_xgboost.values, uves_p111_p112_pristine_xgboost.logg_bc.values, \n",
    "            s=20, c=uves_p111_p112_pristine_xgboost.mh_xgboost.values, cmap=cmap, edgecolors='k', vmin=-3.2)\n",
    "# plt.scatter(uves.teff_xgboost.values, uves.logg_xgboost.values, s=10, color='k')\n",
    "plt.plot(10**parsec_2p5.logTe.values, parsec_2p5.logg.values, color='k', zorder=0)\n",
    "# plt.gca().invert_xaxis()\n",
    "# plt.gca().invert_yaxis()\n",
    "plt.ylim(4.2, 0.2)\n",
    "plt.xlim(6800, 4000)\n",
    "plt.xlabel(r'T$_{\\rm eff}$', size=14)\n",
    "plt.ylabel(r'$\\log\\ g$', size=14)\n",
    "\n",
    "plt.subplot(1,4,4)\n",
    "plt.scatter(uves_p111_p112_pristine_xgboost.teff_xgboost.values, uves_p111_p112_pristine_xgboost.g0.values - 5*np.log10(uves_p111_p112_pristine_xgboost.rpgeo.values) + 5., \n",
    "            s=20, c=uves_p111_p112_pristine_xgboost.mh_xgboost.values, cmap=cmap, edgecolors='k', vmin=-3.2)\n",
    "cb = plt.colorbar()\n",
    "# plt.scatter(uves.teff_xgboost.values, uves.g0.values - 5*np.log10(1./uves.parallax.values*1000.) + 5., s=10, color='k')\n",
    "# cb = plt.colorbar()\n",
    "cb.set_label(label=r'${\\rm [M/H]}$', fontsize=14)\n",
    "# plt.plot(10**parsec_2p5.logTe.values, parsec_2p5.logg.values, color='k', zorder=0)\n",
    "plt.gca().invert_xaxis()\n",
    "plt.gca().invert_yaxis()\n",
    "plt.ylim(4, -4.2)\n",
    "plt.xlim(6800, 4000)\n",
    "plt.xlabel(r'T$_{\\rm eff}$', size=14)\n",
    "plt.ylabel(r'$M_G$', size=14)\n",
    "\n",
    "plt.suptitle('XGBOOST parameters: Teff, [M/H] and derived logg (Bailer-Jones)', size=15)\n",
    "\n",
    "plt.tight_layout()\n",
    "plt.show()"
   ]
  },
  {
   "cell_type": "code",
   "execution_count": 33,
   "id": "8879470f-e7bd-4b10-b2dd-14a7c4e9a7e2",
   "metadata": {
    "tags": []
   },
   "outputs": [
    {
     "data": {
      "image/png": "[encoded data removed]",
      "text/plain": [
       "<Figure size 432x432 with 1 Axes>"
      ]
     },
     "metadata": {
      "needs_background": "light"
     },
     "output_type": "display_data"
    }
   ],
   "source": [
    "plt.figure(figsize=(6,6))\n",
    "plt.scatter(uves_p111_p112_pristine_xgboost.logg_bc.values, uves_p111_p112_pristine_xgboost.logg_xgboost.values, s=5, color='k')\n",
    "plt.errorbar(uves_p111_p112_pristine_xgboost.logg_bc.values, uves_p111_p112_pristine_xgboost.logg_xgboost.values, xerr=0.0, yerr=elogg_rpgeo, fmt='k.', alpha=0.8, lw=1)\n",
    "x = np.linspace(0.5, 3.5)\n",
    "plt.plot(x,x, color='g', zorder=0)\n",
    "\n",
    "plt.xlabel(r'$\\log\\ g_{BC}$', size=14)\n",
    "plt.ylabel(r'$\\log\\ g_{XGBOOST}$', size=14)\n",
    "plt.show()"
   ]
  },
  {
   "cell_type": "code",
   "execution_count": 34,
   "id": "d243d6c5-a6a1-4dc6-9858-c532ad8640c2",
   "metadata": {
    "tags": []
   },
   "outputs": [
    {
     "data": {
      "text/html": [
       "<div>\n",
       "<style scoped>\n",
       "    .dataframe tbody tr th:only-of-type {\n",
       "        vertical-align: middle;\n",
       "    }\n",
       "\n",
       "    .dataframe tbody tr th {\n",
       "        vertical-align: top;\n",
       "    }\n",
       "\n",
       "    .dataframe thead th {\n",
       "        text-align: right;\n",
       "    }\n",
       "</style>\n",
       "<table border=\"1\" class=\"dataframe\">\n",
       "  <thead>\n",
       "    <tr style=\"text-align: right;\">\n",
       "      <th></th>\n",
       "      <th>source_id</th>\n",
       "      <th>ebv</th>\n",
       "      <th>g0</th>\n",
       "      <th>eg</th>\n",
       "      <th>bp0</th>\n",
       "      <th>ebp</th>\n",
       "      <th>rp0</th>\n",
       "      <th>erp</th>\n",
       "      <th>cahk0</th>\n",
       "      <th>ecahk</th>\n",
       "      <th>...</th>\n",
       "      <th>feh_pristine_dr0_sigma_down</th>\n",
       "      <th>Vcalib</th>\n",
       "      <th>mh_xgboost</th>\n",
       "      <th>teff_xgboost</th>\n",
       "      <th>logg_xgboost</th>\n",
       "      <th>rpgeo</th>\n",
       "      <th>b_rpgeo</th>\n",
       "      <th>B_rpgeo</th>\n",
       "      <th>logg_bc</th>\n",
       "      <th>elogg_bc</th>\n",
       "    </tr>\n",
       "  </thead>\n",
       "  <tbody>\n",
       "    <tr>\n",
       "      <th>0</th>\n",
       "      <td>1166634514845213568</td>\n",
       "      <td>0.034659</td>\n",
       "      <td>11.670373</td>\n",
       "      <td>0.002767</td>\n",
       "      <td>12.097350</td>\n",
       "      <td>0.002867</td>\n",
       "      <td>11.063974</td>\n",
       "      <td>0.003820</td>\n",
       "      <td>13.051166</td>\n",
       "      <td>0.009495</td>\n",
       "      <td>...</td>\n",
       "      <td>-99.989998</td>\n",
       "      <td>11.990169</td>\n",
       "      <td>-2.574</td>\n",
       "      <td>4956.7</td>\n",
       "      <td>1.916</td>\n",
       "      <td>3266.93164</td>\n",
       "      <td>3126.28369</td>\n",
       "      <td>3439.83228</td>\n",
       "      <td>1.790389</td>\n",
       "      <td>0.065886</td>\n",
       "    </tr>\n",
       "    <tr>\n",
       "      <th>1</th>\n",
       "      <td>1172165023972931072</td>\n",
       "      <td>0.026574</td>\n",
       "      <td>12.876005</td>\n",
       "      <td>0.002772</td>\n",
       "      <td>13.314315</td>\n",
       "      <td>0.003091</td>\n",
       "      <td>12.258079</td>\n",
       "      <td>0.003841</td>\n",
       "      <td>14.291629</td>\n",
       "      <td>0.016091</td>\n",
       "      <td>...</td>\n",
       "      <td>-99.989998</td>\n",
       "      <td>13.182396</td>\n",
       "      <td>-2.780</td>\n",
       "      <td>5013.6</td>\n",
       "      <td>1.923</td>\n",
       "      <td>4296.39062</td>\n",
       "      <td>4074.40283</td>\n",
       "      <td>4545.38330</td>\n",
       "      <td>2.049237</td>\n",
       "      <td>0.066764</td>\n",
       "    </tr>\n",
       "  </tbody>\n",
       "</table>\n",
       "<p>2 rows × 62 columns</p>\n",
       "</div>"
      ],
      "text/plain": [
       "             source_id       ebv         g0        eg        bp0       ebp  \\\n",
       "0  1166634514845213568  0.034659  11.670373  0.002767  12.097350  0.002867   \n",
       "1  1172165023972931072  0.026574  12.876005  0.002772  13.314315  0.003091   \n",
       "\n",
       "         rp0       erp      cahk0     ecahk  ...  feh_pristine_dr0_sigma_down  \\\n",
       "0  11.063974  0.003820  13.051166  0.009495  ...                   -99.989998   \n",
       "1  12.258079  0.003841  14.291629  0.016091  ...                   -99.989998   \n",
       "\n",
       "      Vcalib  mh_xgboost  teff_xgboost  logg_xgboost       rpgeo     b_rpgeo  \\\n",
       "0  11.990169      -2.574        4956.7         1.916  3266.93164  3126.28369   \n",
       "1  13.182396      -2.780        5013.6         1.923  4296.39062  4074.40283   \n",
       "\n",
       "      B_rpgeo   logg_bc  elogg_bc  \n",
       "0  3439.83228  1.790389  0.065886  \n",
       "1  4545.38330  2.049237  0.066764  \n",
       "\n",
       "[2 rows x 62 columns]"
      ]
     },
     "execution_count": 34,
     "metadata": {},
     "output_type": "execute_result"
    }
   ],
   "source": [
    "uves_p111_p112_pristine_xgboost.head(2)"
   ]
  },
  {
   "cell_type": "code",
   "execution_count": 35,
   "id": "e3e5b7ac-b20a-4441-baaf-6c8f0384aa07",
   "metadata": {
    "tags": []
   },
   "outputs": [],
   "source": [
    "uves_p111_p112_pristine_xgboost.to_csv('uves_p111_p112_pristinedr1_xgboost_logg.csv', index=False, header=True)"
   ]
  },
  {
   "cell_type": "code",
   "execution_count": null,
   "id": "63123521-67d4-41a6-a147-1f30c08c6e9d",
   "metadata": {},
   "outputs": [],
   "source": []
  }
 ],
 "metadata": {
  "kernelspec": {
   "display_name": "Python 3 (ipykernel)",
   "language": "python",
   "name": "python3"
  },
  "language_info": {
   "codemirror_mode": {
    "name": "ipython",
    "version": 3
   },
   "file_extension": ".py",
   "mimetype": "text/x-python",
   "name": "python",
   "nbconvert_exporter": "python",
   "pygments_lexer": "ipython3",
   "version": "3.9.12"
  }
 },
 "nbformat": 4,
 "nbformat_minor": 5
}
