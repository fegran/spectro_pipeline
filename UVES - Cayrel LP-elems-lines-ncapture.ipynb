{
 "cells": [
  {
   "cell_type": "code",
   "execution_count": 1,
   "id": "d4428569-2cce-4fbc-8626-4865c17b5a56",
   "metadata": {},
   "outputs": [
    {
     "name": "stdout",
     "output_type": "stream",
     "text": [
      "CPU times: user 7.43 s, sys: 4.64 s, total: 12.1 s\n",
      "Wall time: 55.8 s\n"
     ]
    }
   ],
   "source": [
    "%%time\n",
    "\n",
    "from pysme.synthesize import synthesize_spectrum\n",
    "from pysme.linelist.linelist import LineList\n",
    "from pysme.linelist.vald import ValdFile\n",
    "from pysme.sme import SME_Structure\n",
    "from pysme.util import vac2air\n",
    "from pysme.solve import solve\n",
    "from pysme.abund import Abund\n",
    "from pysme import util\n",
    "\n",
    "from scipy.interpolate import interp1d\n",
    "from joblib import Parallel, delayed\n",
    "from scipy.signal import find_peaks\n",
    "from astropy.constants import c\n",
    "import matplotlib.pyplot as plt\n",
    "from io import StringIO\n",
    "import pandas as pd\n",
    "import numpy as np\n",
    "import warnings\n",
    "import glob\n",
    "import sys\n",
    "import os\n",
    "import gc\n",
    "\n",
    "warnings.filterwarnings('ignore')"
   ]
  },
  {
   "cell_type": "code",
   "execution_count": 2,
   "id": "6e9211b5-e250-4148-9422-e8f02d6f3587",
   "metadata": {},
   "outputs": [],
   "source": [
    "os.chdir('/home/fgran/iSpec/')\n",
    "import ispec\n",
    "sys.path.append('/home/fgran/iSpec/')"
   ]
  },
  {
   "cell_type": "code",
   "execution_count": 3,
   "id": "3ae55734-ae79-478c-b6c0-6b80bfe91ca3",
   "metadata": {},
   "outputs": [],
   "source": [
    "def pix_to_wl(pix, wl0, dwl):\n",
    "    return wl0 + pix * dwl"
   ]
  },
  {
   "cell_type": "code",
   "execution_count": 4,
   "id": "aa9ce0f0-b5db-487f-a7b4-70f7f4d5b899",
   "metadata": {},
   "outputs": [],
   "source": [
    "os.environ['NUMEXPR_MAX_THREADS'] = '40' #change this number using the correct number of cores/threads in jupyter.slurm"
   ]
  },
  {
   "cell_type": "code",
   "execution_count": 5,
   "id": "ea3ab0fd-0231-4006-a4b2-57e19d5c794a",
   "metadata": {},
   "outputs": [],
   "source": [
    "#Load Cayrel-LP results"
   ]
  },
  {
   "cell_type": "code",
   "execution_count": 6,
   "id": "2fa0d3f2-4f0e-40d5-9aa3-07fecc8b2549",
   "metadata": {},
   "outputs": [],
   "source": [
    "os.chdir('/store/teams/cosmos/fgran/data/Pristine-UVES/')\n",
    "stars = sorted(glob.glob('/store/teams/cosmos/hill/hill_extern7bis/LP/LPgiants/*/'))[:-1]"
   ]
  },
  {
   "cell_type": "code",
   "execution_count": 7,
   "id": "9f743649-1e73-4e1c-89f8-b1e3ea65fe23",
   "metadata": {},
   "outputs": [],
   "source": [
    "cayrel = pd.read_csv('tmp_merged/cayrel_atm_fe_cn.csv')"
   ]
  },
  {
   "cell_type": "code",
   "execution_count": 8,
   "id": "361ab48e-20f9-49b4-86fc-73d5d5456080",
   "metadata": {},
   "outputs": [
    {
     "data": {
      "text/html": [
       "<div>\n",
       "<style scoped>\n",
       "    .dataframe tbody tr th:only-of-type {\n",
       "        vertical-align: middle;\n",
       "    }\n",
       "\n",
       "    .dataframe tbody tr th {\n",
       "        vertical-align: top;\n",
       "    }\n",
       "\n",
       "    .dataframe thead th {\n",
       "        text-align: right;\n",
       "    }\n",
       "</style>\n",
       "<table border=\"1\" class=\"dataframe\">\n",
       "  <thead>\n",
       "    <tr style=\"text-align: right;\">\n",
       "      <th></th>\n",
       "      <th>spec_id</th>\n",
       "      <th>teff</th>\n",
       "      <th>eteff_sme</th>\n",
       "      <th>eteff_fit</th>\n",
       "      <th>logg</th>\n",
       "      <th>elogg_sme</th>\n",
       "      <th>elogg_fit</th>\n",
       "      <th>monh</th>\n",
       "      <th>emonh_sme</th>\n",
       "      <th>emonh_fit</th>\n",
       "      <th>...</th>\n",
       "      <th>is_limit_n_cn_s05</th>\n",
       "      <th>n_nh_s05</th>\n",
       "      <th>en_nh_s05</th>\n",
       "      <th>is_limit_n_nh_s05</th>\n",
       "      <th>nh_adopted_s05</th>\n",
       "      <th>is_limit_nh_adopted_s05</th>\n",
       "      <th>oh_s05</th>\n",
       "      <th>cnfe_s05</th>\n",
       "      <th>is_limit_cnfe_s05</th>\n",
       "      <th>mixed_s05</th>\n",
       "    </tr>\n",
       "  </thead>\n",
       "  <tbody>\n",
       "    <tr>\n",
       "      <th>0</th>\n",
       "      <td>01_HD2796</td>\n",
       "      <td>4939.899305</td>\n",
       "      <td>204.934803</td>\n",
       "      <td>11.533078</td>\n",
       "      <td>1.851909</td>\n",
       "      <td>0.047986</td>\n",
       "      <td>0.047986</td>\n",
       "      <td>-2.349789</td>\n",
       "      <td>0.215940</td>\n",
       "      <td>0.013301</td>\n",
       "      <td>...</td>\n",
       "      <td>False</td>\n",
       "      <td>-1.22</td>\n",
       "      <td>0.08</td>\n",
       "      <td>False</td>\n",
       "      <td>-1.62</td>\n",
       "      <td>False</td>\n",
       "      <td>-1.97</td>\n",
       "      <td>0.14</td>\n",
       "      <td>False</td>\n",
       "      <td>m</td>\n",
       "    </tr>\n",
       "    <tr>\n",
       "      <th>1</th>\n",
       "      <td>02_HD122563</td>\n",
       "      <td>4581.238720</td>\n",
       "      <td>163.183116</td>\n",
       "      <td>8.732404</td>\n",
       "      <td>1.328129</td>\n",
       "      <td>0.060962</td>\n",
       "      <td>0.060962</td>\n",
       "      <td>-2.679967</td>\n",
       "      <td>0.186471</td>\n",
       "      <td>0.010661</td>\n",
       "      <td>...</td>\n",
       "      <td>False</td>\n",
       "      <td>-1.72</td>\n",
       "      <td>0.15</td>\n",
       "      <td>False</td>\n",
       "      <td>-2.12</td>\n",
       "      <td>False</td>\n",
       "      <td>-2.20</td>\n",
       "      <td>0.04</td>\n",
       "      <td>False</td>\n",
       "      <td>m</td>\n",
       "    </tr>\n",
       "  </tbody>\n",
       "</table>\n",
       "<p>2 rows × 57 columns</p>\n",
       "</div>"
      ],
      "text/plain": [
       "       spec_id         teff   eteff_sme  eteff_fit      logg  elogg_sme  \\\n",
       "0    01_HD2796  4939.899305  204.934803  11.533078  1.851909   0.047986   \n",
       "1  02_HD122563  4581.238720  163.183116   8.732404  1.328129   0.060962   \n",
       "\n",
       "   elogg_fit      monh  emonh_sme  emonh_fit  ...  is_limit_n_cn_s05  \\\n",
       "0   0.047986 -2.349789   0.215940   0.013301  ...              False   \n",
       "1   0.060962 -2.679967   0.186471   0.010661  ...              False   \n",
       "\n",
       "   n_nh_s05  en_nh_s05  is_limit_n_nh_s05  nh_adopted_s05  \\\n",
       "0     -1.22       0.08              False           -1.62   \n",
       "1     -1.72       0.15              False           -2.12   \n",
       "\n",
       "   is_limit_nh_adopted_s05  oh_s05  cnfe_s05  is_limit_cnfe_s05  mixed_s05  \n",
       "0                    False   -1.97      0.14              False          m  \n",
       "1                    False   -2.20      0.04              False          m  \n",
       "\n",
       "[2 rows x 57 columns]"
      ]
     },
     "execution_count": 8,
     "metadata": {},
     "output_type": "execute_result"
    }
   ],
   "source": [
    "cayrel.head(2)"
   ]
  },
  {
   "cell_type": "code",
   "execution_count": null,
   "id": "e66a3cb6-730f-47af-8d1d-0e3eec67ce16",
   "metadata": {},
   "outputs": [],
   "source": []
  },
  {
   "cell_type": "code",
   "execution_count": 9,
   "id": "80b767cb-663d-4a55-91ad-be897d9205da",
   "metadata": {
    "scrolled": true
   },
   "outputs": [
    {
     "name": "stderr",
     "output_type": "stream",
     "text": [
      "[2025-05-27 11:54:43,780] [INFO] [vald:loads:174]: Loading VALD file linelist/3800-6800_long.lin\n"
     ]
    },
    {
     "name": "stdout",
     "output_type": "stream",
     "text": [
      "\u001b[32mINFO - Loading VALD file linelist/3800-6800_long.lin\u001b[0m\n"
     ]
    }
   ],
   "source": [
    "linelist = ValdFile('linelist/3800-6800_long.lin')\n",
    "\n",
    "wmin_blue = 3800 #3800\n",
    "# wmax_blue = 4975\n",
    "wmax_blue = 5800\n",
    "\n",
    "linelist = linelist[(linelist.wlcent > wmin_blue) & (linelist.wlcent < wmax_blue)]\n",
    "\n",
    "#Delta lines definitions\n",
    "delta_line = 1. #AA\n",
    "delta_cont = 1.5 #AA\n",
    "delta_cont_Ca = 25 #AA\n",
    "delta_wl_limit = 0.05\n",
    "\n",
    "wl_G_band = 4300. #AA\n",
    "delta_G_band = 40. #AA\n",
    "wl_CaHK_band = 3950. #AA\n",
    "delta_CaHK_band = 50. #AA\n",
    "delta_H_line_wing = 5.0 #AA\n",
    "delta_H_line_core = 0.75 #AA"
   ]
  },
  {
   "cell_type": "code",
   "execution_count": 10,
   "id": "981f950f-17eb-4ed4-a1b2-0be7e3721197",
   "metadata": {
    "jupyter": {
     "source_hidden": true
    }
   },
   "outputs": [],
   "source": [
    "    # if 'Eu_' in ll_name:\n",
    "    #     ll = ll.query('abs(wlcent - 3930.499) < 2.0 or abs(wlcent - 4129.725) < 2.0 or abs(wlcent - 4205.042) < 2.0 or abs(wlcent - 4435.578) < 2.0 or abs(wlcent - 4522.581) < 2.0')\n",
    "    # if 'Sr_' in ll_name:\n",
    "    #     ll = ll.query('abs(wlcent - 4077.709) < 2.0 or abs(wlcent - 4161.792) < 2.0 or abs(wlcent - 4215.519) < 2.0')\n",
    "    # if 'Ba_' in ll_name:\n",
    "    #     ll = ll.query('abs(wlcent - 3891.776) < 2.0 or abs(wlcent - 4130.645) < 2.0 or abs(wlcent - 4554.029) < 2.0 or abs(wlcent - 4934.076) < 2.0 or abs(wlcent - 5853.668) < 2.0')\n",
    "    # if 'Ce_' in ll_name:\n",
    "    #     ll = ll.query('abs(wlcent - 4073.474) < 2.0 or abs(wlcent - 4083.222) < 2.0 or abs(wlcent - 4120.827) < 2.0 or abs(wlcent - 4127.364) < 2.0 or abs(wlcent - 4222.597) < 2.0\\\n",
    "    #       or abs(wlcent - 4418.780) < 2.0 or abs(wlcent - 4486.909) < 2.0 or abs(wlcent - 4562.359) < 2.0 or abs(wlcent - 4628.161) < 2.0')\n",
    "    # if 'Dy_' in ll_name:\n",
    "    #     ll = ll.query('abs(wlcent - 3869.864) < 2.0 or abs(wlcent - 3996.689) < 2.0 or abs(wlcent - 4011.285) < 2.0 or abs(wlcent - 4103.306) < 2.0 or abs(wlcent - 4468.138) < 2.0\\\n",
    "    #       or abs(wlcent - 5169.688) < 2.0')\n",
    "    # if 'Er_' in ll_name:\n",
    "    #     ll = ll.query('abs(wlcent - 3692.649) < 2.0 or abs(wlcent - 3786.836) < 2.0 or abs(wlcent - 3830.482) < 2.0 or abs(wlcent - 3896.234) < 2.0 or abs(wlcent - 3938.626) < 2.0')\n",
    "    # if 'Gd_' in ll_name:\n",
    "    #     ll = ll.query('abs(wlcent - 3768.396) < 2.0 or abs(wlcent - 3796.384) < 2.0 or abs(wlcent - 3836.915) < 2.0 or abs(wlcent - 3844.578) < 2.0 or abs(wlcent - 3916.509) < 2.0\\\n",
    "    #       or abs(wlcent - 4037.893) < 2.0 or abs(wlcent - 4085.558) < 2.0 or abs(wlcent - 4130.366) < 2.0 or abs(wlcent - 4191.075) < 2.0')\n",
    "    # if 'Hf_' in ll_name:\n",
    "    #     ll = ll.query('abs(wlcent - 3399.793) < 2.0 or abs(wlcent - 3719.276) < 2.0')\n",
    "    # if 'Ir_' in ll_name:\n",
    "    #     ll = ll.query('abs(wlcent - 3800.120) < 2.0')\n",
    "    # if 'La_' in ll_name:\n",
    "    #     ll = ll.query('abs(wlcent - 3849.006) < 2.0 or abs(wlcent - 4086.709) < 2.0 or abs(wlcent - 4123.218) < 2.0 or abs(wlcent - 5122.988) < 2.0 or abs(wlcent - 6320.376) < 2.0')\n",
    "    # if 'Nd_' in ll_name:\n",
    "    #     ll = ll.query('abs(wlcent - 3973.260) < 2.0 or abs(wlcent - 4018.823) < 2.0 or abs(wlcent - 4021.327) < 2.0 or abs(wlcent - 4061.080) < 2.0 or abs(wlcent - 4069.265) < 2.0\\\n",
    "    #       or abs(wlcent - 4109.448) < 2.0 or abs(wlcent - 4232.374) < 2.0 or abs(wlcent - 4446.384) < 2.0 or abs(wlcent - 4462.979) < 2.0 or abs(wlcent - 5130.586) < 2.0\\\n",
    "    #       or abs(wlcent - 5212.361) < 2.0 or abs(wlcent - 5234.194) < 2.0 or abs(wlcent - 5249.576) < 2.0 or abs(wlcent - 5293.163) < 2.0 or abs(wlcent - 5311.453) < 2.0\\\n",
    "    #       or abs(wlcent - 5319.815) < 2.0 or abs(wlcent - 5361.467) < 2.0 or abs(wlcent - 5442.264) < 2.0')\n",
    "    # if 'Os_' in ll_name:\n",
    "    #     ll = ll.query('abs(wlcent - 4135.775) < 2.0 or abs(wlcent - 4260.848) < 2.0 or abs(wlcent - 4420.468) < 2.0')\n",
    "    # if 'Pb_' in ll_name:\n",
    "    #     ll = ll.query('abs(wlcent - 4057.807) < 2.0')\n",
    "    # if 'Pr_' in ll_name:\n",
    "    #     ll = ll.query('abs(wlcent - 3964.262) < 2.0 or abs(wlcent - 3964.812) < 2.0 or abs(wlcent - 3965.253) < 2.0 or abs(wlcent - 4062.805) < 2.0 or abs(wlcent - 5220.108) < 2.0\\\n",
    "    #       or abs(wlcent - 5259.728) < 2.0')\n",
    "    # if 'Sm_' in ll_name:\n",
    "    #     ll = ll.query('abs(wlcent - 3896.972) < 2.0 or abs(wlcent - 4023.222) < 2.0 or abs(wlcent - 4068.324) < 2.0 or abs(wlcent - 4318.927) < 2.0 or abs(wlcent - 4499.475) < 2.0\\\n",
    "    #       or abs(wlcent - 4519.630) < 2.0 or abs(wlcent - 4537.941) < 2.0 or abs(wlcent - 4577.688) < 2.0')\n",
    "    # if 'Th_' in ll_name:\n",
    "    #     ll = ll.query('abs(wlcent - 4019.129) < 2.0 or abs(wlcent - 4086.521) < 2.0 or abs(wlcent - 4094.747) < 2.0')\n",
    "    # if 'Tm_' in ll_name:\n",
    "    #     ll = ll.query('abs(wlcent - 3848.020) < 2.0')\n",
    "    # if 'U_' in ll_name:\n",
    "    #     ll = ll.query('abs(wlcent - 3859.571) < 2.0')\n",
    "    # if 'Y_' in ll_name:\n",
    "    #     ll = ll.query('abs(wlcent - 3818.341) < 2.0 or abs(wlcent - 3950.352) < 2.0 or abs(wlcent - 4398.013) < 2.0 or abs(wlcent - 4883.684) < 2.0 or abs(wlcent - 5087.416) < 2.0\\\n",
    "    #       or abs(wlcent - 5123.211) < 2.0 or abs(wlcent - 5200.406) < 2.0 or abs(wlcent - 5205.724) < 2.0')\n",
    "    # if 'Zr_' in ll_name:\n",
    "    #     ll = ll.query('abs(wlcent - 3836.762) < 2.0 or abs(wlcent - 4161.213) < 2.0 or abs(wlcent - 4208.977) < 2.0 or abs(wlcent - 4317.299) < 2.0 or abs(wlcent - 4496.980) < 2.0')"
   ]
  },
  {
   "cell_type": "code",
   "execution_count": 11,
   "id": "e261e819-ec57-467b-a110-2582730216cc",
   "metadata": {
    "jupyter": {
     "source_hidden": true
    },
    "scrolled": true
   },
   "outputs": [
    {
     "name": "stderr",
     "output_type": "stream",
     "text": [
      "[2025-05-27 11:54:45,409] [INFO] [vald:loads:174]: Loading VALD file linelist/3800-6800_long.lin\n"
     ]
    },
    {
     "name": "stdout",
     "output_type": "stream",
     "text": [
      "\u001b[32mINFO - Loading VALD file linelist/3800-6800_long.lin\u001b[0m\n"
     ]
    },
    {
     "name": "stderr",
     "output_type": "stream",
     "text": [
      "[2025-05-27 11:54:45,774] [INFO] [vald:loads:174]: Loading VALD file linelist/Eu_VALD_all.lin\n"
     ]
    },
    {
     "name": "stdout",
     "output_type": "stream",
     "text": [
      "linelist/Eu_VALD_all.lin 2\n",
      "\u001b[32mINFO - Loading VALD file linelist/Eu_VALD_all.lin\u001b[0m\n"
     ]
    },
    {
     "name": "stderr",
     "output_type": "stream",
     "text": [
      "[2025-05-27 11:54:46,724] [WARNING] [vald:parse_references:558]: Could not find citation key: MZH\n",
      "[2025-05-27 11:54:46,748] [INFO] [vald:loads:174]: Loading VALD file linelist/Sr_VALD_all.lin\n"
     ]
    },
    {
     "name": "stdout",
     "output_type": "stream",
     "text": [
      "\u001b[33mWARNING - Could not find citation key: MZH\u001b[0m\n",
      "linelist/Sr_VALD_all.lin 2\n",
      "\u001b[32mINFO - Loading VALD file linelist/Sr_VALD_all.lin\u001b[0m\n"
     ]
    },
    {
     "name": "stderr",
     "output_type": "stream",
     "text": [
      "[2025-05-27 11:54:47,100] [INFO] [vald:loads:174]: Loading VALD file linelist/Ba_VALD_all.lin\n"
     ]
    },
    {
     "name": "stdout",
     "output_type": "stream",
     "text": [
      "linelist/Ba_VALD_all.lin 2\n",
      "\u001b[32mINFO - Loading VALD file linelist/Ba_VALD_all.lin\u001b[0m\n"
     ]
    },
    {
     "name": "stderr",
     "output_type": "stream",
     "text": [
      "[2025-05-27 11:54:47,458] [INFO] [vald:loads:174]: Loading VALD file linelist/Ce_VALD_all.lin\n"
     ]
    },
    {
     "name": "stdout",
     "output_type": "stream",
     "text": [
      "linelist/Ce_VALD_all.lin 2\n",
      "\u001b[32mINFO - Loading VALD file linelist/Ce_VALD_all.lin\u001b[0m\n"
     ]
    },
    {
     "name": "stderr",
     "output_type": "stream",
     "text": [
      "[2025-05-27 11:54:48,477] [WARNING] [vald:parse_references:558]: Could not find citation key: LCNWS\n",
      "[2025-05-27 11:54:48,478] [WARNING] [vald:parse_references:558]: Could not find citation key: MZH\n",
      "[2025-05-27 11:54:48,554] [INFO] [vald:loads:174]: Loading VALD file linelist/Dy_VALD_all.lin\n"
     ]
    },
    {
     "name": "stdout",
     "output_type": "stream",
     "text": [
      "\u001b[33mWARNING - Could not find citation key: LCNWS\u001b[0m\n",
      "\u001b[33mWARNING - Could not find citation key: MZH\u001b[0m\n",
      "linelist/Dy_VALD_all.lin 2\n",
      "\u001b[32mINFO - Loading VALD file linelist/Dy_VALD_all.lin\u001b[0m\n"
     ]
    },
    {
     "name": "stderr",
     "output_type": "stream",
     "text": [
      "[2025-05-27 11:54:48,886] [WARNING] [vald:parse_references:558]: Could not find citation key: MZH\n",
      "[2025-05-27 11:54:48,905] [INFO] [vald:loads:174]: Loading VALD file linelist/Er_VALD_all.lin\n"
     ]
    },
    {
     "name": "stdout",
     "output_type": "stream",
     "text": [
      "\u001b[33mWARNING - Could not find citation key: MZH\u001b[0m\n",
      "linelist/Er_VALD_all.lin 2\n",
      "\u001b[32mINFO - Loading VALD file linelist/Er_VALD_all.lin\u001b[0m\n"
     ]
    },
    {
     "name": "stderr",
     "output_type": "stream",
     "text": [
      "[2025-05-27 11:54:49,593] [WARNING] [vald:parse_references:558]: Could not find citation key: MZH\n",
      "[2025-05-27 11:54:49,613] [INFO] [vald:loads:174]: Loading VALD file linelist/Gd_VALD_all.lin\n"
     ]
    },
    {
     "name": "stdout",
     "output_type": "stream",
     "text": [
      "\u001b[33mWARNING - Could not find citation key: MZH\u001b[0m\n",
      "linelist/Gd_VALD_all.lin 2\n",
      "\u001b[32mINFO - Loading VALD file linelist/Gd_VALD_all.lin\u001b[0m\n"
     ]
    },
    {
     "name": "stderr",
     "output_type": "stream",
     "text": [
      "[2025-05-27 11:54:50,096] [WARNING] [vald:parse_references:558]: Could not find citation key: MZH\n",
      "[2025-05-27 11:54:50,120] [INFO] [vald:loads:174]: Loading VALD file linelist/Hf_VALD_all.lin\n"
     ]
    },
    {
     "name": "stdout",
     "output_type": "stream",
     "text": [
      "\u001b[33mWARNING - Could not find citation key: MZH\u001b[0m\n",
      "linelist/Hf_VALD_all.lin 2\n",
      "\u001b[32mINFO - Loading VALD file linelist/Hf_VALD_all.lin\u001b[0m\n"
     ]
    },
    {
     "name": "stderr",
     "output_type": "stream",
     "text": [
      "[2025-05-27 11:54:50,497] [WARNING] [vald:parse_references:558]: Could not find citation key: DHLR\n",
      "[2025-05-27 11:54:50,514] [INFO] [vald:loads:174]: Loading VALD file linelist/Ir_VALD_all.lin\n"
     ]
    },
    {
     "name": "stdout",
     "output_type": "stream",
     "text": [
      "\u001b[33mWARNING - Could not find citation key: DHLR\u001b[0m\n",
      "linelist/Ir_VALD_all.lin 1\n",
      "\u001b[32mINFO - Loading VALD file linelist/Ir_VALD_all.lin\u001b[0m\n"
     ]
    },
    {
     "name": "stderr",
     "output_type": "stream",
     "text": [
      "[2025-05-27 11:54:51,042] [INFO] [vald:loads:174]: Loading VALD file linelist/La_VALD_all.lin\n"
     ]
    },
    {
     "name": "stdout",
     "output_type": "stream",
     "text": [
      "linelist/La_VALD_all.lin 2\n",
      "\u001b[32mINFO - Loading VALD file linelist/La_VALD_all.lin\u001b[0m\n"
     ]
    },
    {
     "name": "stderr",
     "output_type": "stream",
     "text": [
      "[2025-05-27 11:54:51,442] [WARNING] [vald:parse_references:558]: Could not find citation key: MZH\n",
      "[2025-05-27 11:54:51,474] [INFO] [vald:loads:174]: Loading VALD file linelist/Nd_VALD_all.lin\n"
     ]
    },
    {
     "name": "stdout",
     "output_type": "stream",
     "text": [
      "\u001b[33mWARNING - Could not find citation key: MZH\u001b[0m\n",
      "linelist/Nd_VALD_all.lin 2\n",
      "\u001b[32mINFO - Loading VALD file linelist/Nd_VALD_all.lin\u001b[0m\n"
     ]
    },
    {
     "name": "stderr",
     "output_type": "stream",
     "text": [
      "[2025-05-27 11:54:51,942] [WARNING] [vald:parse_references:558]: Could not find citation key: BWT\n",
      "[2025-05-27 11:54:51,943] [WARNING] [vald:parse_references:558]: Could not find citation key: MZH\n",
      "[2025-05-27 11:54:51,976] [INFO] [vald:loads:174]: Loading VALD file linelist/Os_VALD_all.lin\n"
     ]
    },
    {
     "name": "stdout",
     "output_type": "stream",
     "text": [
      "\u001b[33mWARNING - Could not find citation key: BWT\u001b[0m\n",
      "\u001b[33mWARNING - Could not find citation key: MZH\u001b[0m\n",
      "linelist/Os_VALD_all.lin 1\n",
      "\u001b[32mINFO - Loading VALD file linelist/Os_VALD_all.lin\u001b[0m\n"
     ]
    },
    {
     "name": "stderr",
     "output_type": "stream",
     "text": [
      "[2025-05-27 11:54:52,540] [INFO] [vald:loads:174]: Loading VALD file linelist/Pb_VALD_all.lin\n"
     ]
    },
    {
     "name": "stdout",
     "output_type": "stream",
     "text": [
      "linelist/Pb_VALD_all.lin 1\n",
      "\u001b[32mINFO - Loading VALD file linelist/Pb_VALD_all.lin\u001b[0m\n"
     ]
    },
    {
     "name": "stderr",
     "output_type": "stream",
     "text": [
      "[2025-05-27 11:54:52,854] [INFO] [vald:loads:174]: Loading VALD file linelist/Pr_VALD_all.lin\n"
     ]
    },
    {
     "name": "stdout",
     "output_type": "stream",
     "text": [
      "linelist/Pr_VALD_all.lin 2\n",
      "\u001b[32mINFO - Loading VALD file linelist/Pr_VALD_all.lin\u001b[0m\n"
     ]
    },
    {
     "name": "stderr",
     "output_type": "stream",
     "text": [
      "[2025-05-27 11:54:53,555] [INFO] [vald:loads:174]: Loading VALD file linelist/Sm_VALD_all.lin\n"
     ]
    },
    {
     "name": "stdout",
     "output_type": "stream",
     "text": [
      "linelist/Sm_VALD_all.lin 2\n",
      "\u001b[32mINFO - Loading VALD file linelist/Sm_VALD_all.lin\u001b[0m\n"
     ]
    },
    {
     "name": "stderr",
     "output_type": "stream",
     "text": [
      "[2025-05-27 11:54:54,143] [WARNING] [vald:parse_references:558]: Could not find citation key: MZH\n",
      "[2025-05-27 11:54:54,166] [INFO] [vald:loads:174]: Loading VALD file linelist/Th_VALD_all.lin\n"
     ]
    },
    {
     "name": "stdout",
     "output_type": "stream",
     "text": [
      "\u001b[33mWARNING - Could not find citation key: MZH\u001b[0m\n",
      "linelist/Th_VALD_all.lin 2\n",
      "\u001b[32mINFO - Loading VALD file linelist/Th_VALD_all.lin\u001b[0m\n"
     ]
    },
    {
     "name": "stderr",
     "output_type": "stream",
     "text": [
      "[2025-05-27 11:54:54,534] [INFO] [vald:loads:174]: Loading VALD file linelist/Tm_VALD_all.lin\n"
     ]
    },
    {
     "name": "stdout",
     "output_type": "stream",
     "text": [
      "linelist/Tm_VALD_all.lin 2\n",
      "\u001b[32mINFO - Loading VALD file linelist/Tm_VALD_all.lin\u001b[0m\n"
     ]
    },
    {
     "name": "stderr",
     "output_type": "stream",
     "text": [
      "[2025-05-27 11:54:55,024] [WARNING] [vald:parse_references:558]: Could not find citation key: MZH\n",
      "[2025-05-27 11:54:55,062] [INFO] [vald:loads:174]: Loading VALD file linelist/U_VALD_all.lin\n"
     ]
    },
    {
     "name": "stdout",
     "output_type": "stream",
     "text": [
      "\u001b[33mWARNING - Could not find citation key: MZH\u001b[0m\n",
      "linelist/U_VALD_all.lin 2\n",
      "\u001b[32mINFO - Loading VALD file linelist/U_VALD_all.lin\u001b[0m\n"
     ]
    },
    {
     "name": "stderr",
     "output_type": "stream",
     "text": [
      "[2025-05-27 11:54:55,769] [INFO] [vald:loads:174]: Loading VALD file linelist/Y_VALD_all.lin\n"
     ]
    },
    {
     "name": "stdout",
     "output_type": "stream",
     "text": [
      "linelist/Y_VALD_all.lin 2\n",
      "\u001b[32mINFO - Loading VALD file linelist/Y_VALD_all.lin\u001b[0m\n"
     ]
    },
    {
     "name": "stderr",
     "output_type": "stream",
     "text": [
      "[2025-05-27 11:54:56,205] [INFO] [vald:loads:174]: Loading VALD file linelist/Zr_VALD_all.lin\n"
     ]
    },
    {
     "name": "stdout",
     "output_type": "stream",
     "text": [
      "linelist/Zr_VALD_all.lin 2\n",
      "\u001b[32mINFO - Loading VALD file linelist/Zr_VALD_all.lin\u001b[0m\n",
      "Nlines in the linelist: 2666\n",
      "CPU times: user 7.44 s, sys: 60.8 ms, total: 7.5 s\n",
      "Wall time: 11.1 s\n"
     ]
    }
   ],
   "source": [
    "%%time\n",
    "\n",
    "#Only for n-capture elements\n",
    "\n",
    "linelist = pd.DataFrame(ValdFile('linelist/3800-6800_long.lin'))\n",
    "linelist = linelist[~linelist.species.str.contains('Sr|Ce|Gd|Hf|Ir|Os|Pb|Pr|Sm|Th|Tm|U|Ba|Dy|Er|Eu|La|Nd|Y|Zr', regex=True, case=True).values] #Remove n-capture transitions from the linelist\n",
    "\n",
    "wmin_blue = 3800\n",
    "wmax_blue = 5800\n",
    "\n",
    "lls_names = ['linelist/Eu_VALD_all.lin', 'linelist/Sr_VALD_all.lin', 'linelist/Ba_VALD_all.lin', 'linelist/Ce_VALD_all.lin', \n",
    "       'linelist/Dy_VALD_all.lin', 'linelist/Er_VALD_all.lin', 'linelist/Gd_VALD_all.lin', 'linelist/Hf_VALD_all.lin', 'linelist/Ir_VALD_all.lin',\n",
    "       'linelist/La_VALD_all.lin', 'linelist/Nd_VALD_all.lin', 'linelist/Os_VALD_all.lin', 'linelist/Pb_VALD_all.lin',\n",
    "       'linelist/Pr_VALD_all.lin', \n",
    "       'linelist/Sm_VALD_all.lin', 'linelist/Th_VALD_all.lin', 'linelist/Tm_VALD_all.lin', 'linelist/U_VALD_all.lin',\n",
    "       'linelist/Y_VALD_all.lin', 'linelist/Zr_VALD_all.lin']\n",
    "\n",
    "lls_ions = ['2', '2', '2', '2',\n",
    "       '2', '2', '2', '2', '1',\n",
    "       '2', '2', '1', '1',\n",
    "       '2',\n",
    "       '2', '2', '2', '2',\n",
    "       '2', '2']\n",
    "\n",
    "for ll_name, ll_ion in zip(lls_names, lls_ions):\n",
    "\n",
    "    print(ll_name, ll_ion)\n",
    "    ll = pd.DataFrame(ValdFile(ll_name))\n",
    "\n",
    "    if 'Eu_' in ll_name:\n",
    "        ll = ll.query('abs(wlcent - 3930.499) < 2.0 or abs(wlcent - 4129.725) < 2.0 or abs(wlcent - 4205.042) < 2.0 or abs(wlcent - 4435.578) < 2.0 or abs(wlcent - 4522.581) < 2.0')\n",
    "    if 'Sr_' in ll_name:\n",
    "        ll = ll.query('abs(wlcent - 4077.709) < 2.0 or abs(wlcent - 4161.792) < 2.0 or abs(wlcent - 4215.519) < 2.0')\n",
    "    if 'Ba_' in ll_name:\n",
    "        ll = ll.query('abs(wlcent - 3891.776) < 2.0 or abs(wlcent - 4130.645) < 2.0 or abs(wlcent - 4554.029) < 2.0 or abs(wlcent - 4934.076) < 2.0 or abs(wlcent - 5853.668) < 2.0')\n",
    "    if 'Ce_' in ll_name:\n",
    "        ll = ll.query('abs(wlcent - 4073.474) < 2.0 or abs(wlcent - 4083.222) < 2.0 or abs(wlcent - 4120.827) < 2.0 or abs(wlcent - 4127.364) < 2.0 or abs(wlcent - 4222.597) < 2.0\\\n",
    "          or abs(wlcent - 4418.780) < 2.0 or abs(wlcent - 4486.909) < 2.0 or abs(wlcent - 4562.359) < 2.0 or abs(wlcent - 4628.161) < 2.0')\n",
    "    if 'Dy_' in ll_name:\n",
    "        ll = ll.query('abs(wlcent - 3869.864) < 2.0 or abs(wlcent - 3996.689) < 2.0 or abs(wlcent - 4011.285) < 2.0 or abs(wlcent - 4103.306) < 2.0 or abs(wlcent - 4468.138) < 2.0\\\n",
    "          or abs(wlcent - 5169.688) < 2.0')\n",
    "    if 'Er_' in ll_name:\n",
    "        ll = ll.query('abs(wlcent - 3692.649) < 2.0 or abs(wlcent - 3786.836) < 2.0 or abs(wlcent - 3830.482) < 2.0 or abs(wlcent - 3896.234) < 2.0 or abs(wlcent - 3938.626) < 2.0')\n",
    "    if 'Gd_' in ll_name:\n",
    "        ll = ll.query('abs(wlcent - 3768.396) < 2.0 or abs(wlcent - 3796.384) < 2.0 or abs(wlcent - 3836.915) < 2.0 or abs(wlcent - 3844.578) < 2.0 or abs(wlcent - 3916.509) < 2.0\\\n",
    "          or abs(wlcent - 4037.893) < 2.0 or abs(wlcent - 4085.558) < 2.0 or abs(wlcent - 4130.366) < 2.0 or abs(wlcent - 4191.075) < 2.0')\n",
    "    if 'Hf_' in ll_name:\n",
    "        ll = ll.query('abs(wlcent - 3399.793) < 2.0 or abs(wlcent - 3719.276) < 2.0')\n",
    "    if 'Ir_' in ll_name:\n",
    "        ll = ll.query('abs(wlcent - 3800.120) < 2.0')\n",
    "    if 'La_' in ll_name:\n",
    "        ll = ll.query('abs(wlcent - 3849.006) < 2.0 or abs(wlcent - 4086.709) < 2.0 or abs(wlcent - 4123.218) < 2.0 or abs(wlcent - 5122.988) < 2.0 or abs(wlcent - 6320.376) < 2.0')\n",
    "    if 'Nd_' in ll_name:\n",
    "        ll = ll.query('abs(wlcent - 3973.260) < 2.0 or abs(wlcent - 4018.823) < 2.0 or abs(wlcent - 4021.327) < 2.0 or abs(wlcent - 4061.080) < 2.0 or abs(wlcent - 4069.265) < 2.0\\\n",
    "          or abs(wlcent - 4109.448) < 2.0 or abs(wlcent - 4232.374) < 2.0 or abs(wlcent - 4446.384) < 2.0 or abs(wlcent - 4462.979) < 2.0 or abs(wlcent - 5130.586) < 2.0\\\n",
    "          or abs(wlcent - 5212.361) < 2.0 or abs(wlcent - 5234.194) < 2.0 or abs(wlcent - 5249.576) < 2.0 or abs(wlcent - 5293.163) < 2.0 or abs(wlcent - 5311.453) < 2.0\\\n",
    "          or abs(wlcent - 5319.815) < 2.0 or abs(wlcent - 5361.467) < 2.0 or abs(wlcent - 5442.264) < 2.0')\n",
    "    if 'Os_' in ll_name:\n",
    "        ll = ll.query('abs(wlcent - 4135.775) < 2.0 or abs(wlcent - 4260.848) < 2.0 or abs(wlcent - 4420.468) < 2.0')\n",
    "    if 'Pb_' in ll_name:\n",
    "        ll = ll.query('abs(wlcent - 4057.807) < 2.0')\n",
    "    if 'Pr_' in ll_name:\n",
    "        ll = ll.query('abs(wlcent - 3964.262) < 2.0 or abs(wlcent - 3964.812) < 2.0 or abs(wlcent - 3965.253) < 2.0 or abs(wlcent - 4062.805) < 2.0 or abs(wlcent - 5220.108) < 2.0\\\n",
    "          or abs(wlcent - 5259.728) < 2.0')\n",
    "    if 'Sm_' in ll_name:\n",
    "        ll = ll.query('abs(wlcent - 3896.972) < 2.0 or abs(wlcent - 4023.222) < 2.0 or abs(wlcent - 4068.324) < 2.0 or abs(wlcent - 4318.927) < 2.0 or abs(wlcent - 4499.475) < 2.0\\\n",
    "          or abs(wlcent - 4519.630) < 2.0 or abs(wlcent - 4537.941) < 2.0 or abs(wlcent - 4577.688) < 2.0')\n",
    "    if 'Th_' in ll_name:\n",
    "        ll = ll.query('abs(wlcent - 4019.129) < 2.0 or abs(wlcent - 4086.521) < 2.0 or abs(wlcent - 4094.747) < 2.0')\n",
    "    if 'Tm_' in ll_name:\n",
    "        ll = ll.query('abs(wlcent - 3848.020) < 2.0')\n",
    "    if 'U_' in ll_name:\n",
    "        ll = ll.query('abs(wlcent - 3859.571) < 2.0')\n",
    "    if 'Y_' in ll_name:\n",
    "        ll = ll.query('abs(wlcent - 3818.341) < 2.0 or abs(wlcent - 3950.352) < 2.0 or abs(wlcent - 4398.013) < 2.0 or abs(wlcent - 4883.684) < 2.0 or abs(wlcent - 5087.416) < 2.0\\\n",
    "          or abs(wlcent - 5123.211) < 2.0 or abs(wlcent - 5200.406) < 2.0 or abs(wlcent - 5205.724) < 2.0')\n",
    "    if 'Zr_' in ll_name:\n",
    "        ll = ll.query('abs(wlcent - 3836.762) < 2.0 or abs(wlcent - 4161.213) < 2.0 or abs(wlcent - 4208.977) < 2.0 or abs(wlcent - 4317.299) < 2.0 or abs(wlcent - 4496.980) < 2.0')\n",
    "\n",
    "    # r-process scaling\n",
    "    if 'Eu_VALD_all' in ll_name:\n",
    "        ll.gflog[ll.reference.str.contains('151')] = np.log10(((1.- 0.0590) * (10**ll.gflog.values)/np.sum(10**ll.gflog.values[ll.reference.str.contains('151')])) * (np.sum(10**ll.gflog.values[ll.reference.str.contains('151')])/ (1.- 0.0590)))\n",
    "        ll.gflog[ll.reference.str.contains('153')] = np.log10(((1.- 0.0610) * (10**ll.gflog.values)/np.sum(10**ll.gflog.values[ll.reference.str.contains('153')])) * (np.sum(10**ll.gflog.values[ll.reference.str.contains('153')])/ (1.- 0.0610)))\n",
    "\n",
    "    if 'Ba_VALD_all' in ll_name:\n",
    "        ll.gflog[ll.reference.str.contains('130')] = -7.0 # No r-process contribution from this isotope\n",
    "        ll.gflog[ll.reference.str.contains('132')] = -7.0 # No r-process contribution from this isotope\n",
    "        ll.gflog[ll.reference.str.contains('134')] = np.log10(((1.- 0.0090) * (10**ll.gflog.values)/np.sum(10**ll.gflog.values[ll.reference.str.contains('134')])) * (np.sum(10**ll.gflog.values[ll.reference.str.contains('134')])/ (1.- 0.0090)))\n",
    "        ll.gflog[ll.reference.str.contains('135')] = np.log10(((1.- 0.2850) * (10**ll.gflog.values)/np.sum(10**ll.gflog.values[ll.reference.str.contains('135')])) * (np.sum(10**ll.gflog.values[ll.reference.str.contains('135')])/ (1.- 0.2850)))\n",
    "        ll.gflog[ll.reference.str.contains('136')] = np.log10(((1.- 0.0130) * (10**ll.gflog.values)/np.sum(10**ll.gflog.values[ll.reference.str.contains('136')])) * (np.sum(10**ll.gflog.values[ll.reference.str.contains('136')])/ (1.- 0.0130)))\n",
    "        ll.gflog[ll.reference.str.contains('137')] = np.log10(((1.- 0.6320) * (10**ll.gflog.values)/np.sum(10**ll.gflog.values[ll.reference.str.contains('137')])) * (np.sum(10**ll.gflog.values[ll.reference.str.contains('137')])/ (1.- 0.6320)))\n",
    "        ll.gflog[ll.reference.str.contains('138')] = np.log10(((1.- 0.9180) * (10**ll.gflog.values)/np.sum(10**ll.gflog.values[ll.reference.str.contains('138')])) * (np.sum(10**ll.gflog.values[ll.reference.str.contains('138')])/ (1.- 0.9180)))\n",
    "\n",
    "    linelist = pd.concat([linelist, ll[ll.species.str.contains(ll_ion)]])\n",
    "    linelist = linelist[linelist.gflog > -3]\n",
    "\n",
    "linelist = LineList(linedata=linelist, medium='air').sort()\n",
    "# linelist = LineList(linelist)\n",
    "\n",
    "linelist = linelist[(linelist.wlcent > wmin_blue) & (linelist.wlcent < wmax_blue)]\n",
    "\n",
    "print('Nlines in the linelist: %d' %linelist.species.size)"
   ]
  },
  {
   "cell_type": "code",
   "execution_count": null,
   "id": "eee50c46-e7a0-4381-b40b-ffe41f993e8d",
   "metadata": {},
   "outputs": [],
   "source": []
  },
  {
   "cell_type": "code",
   "execution_count": 12,
   "id": "74b3c8fb-4dab-4bef-8fb8-cecc703aec80",
   "metadata": {},
   "outputs": [
    {
     "data": {
      "text/html": [
       "<div>\n",
       "<style scoped>\n",
       "    .dataframe tbody tr th:only-of-type {\n",
       "        vertical-align: middle;\n",
       "    }\n",
       "\n",
       "    .dataframe tbody tr th {\n",
       "        vertical-align: top;\n",
       "    }\n",
       "\n",
       "    .dataframe thead th {\n",
       "        text-align: right;\n",
       "    }\n",
       "</style>\n",
       "<table border=\"1\" class=\"dataframe\">\n",
       "  <thead>\n",
       "    <tr style=\"text-align: right;\">\n",
       "      <th></th>\n",
       "      <th>species</th>\n",
       "      <th>wlcent</th>\n",
       "      <th>gflog</th>\n",
       "      <th>excit</th>\n",
       "      <th>j_lo</th>\n",
       "      <th>e_upp</th>\n",
       "      <th>j_up</th>\n",
       "      <th>lande_lower</th>\n",
       "      <th>lande_upper</th>\n",
       "      <th>lande</th>\n",
       "      <th>...</th>\n",
       "      <th>gamvw</th>\n",
       "      <th>depth</th>\n",
       "      <th>reference</th>\n",
       "      <th>couple_lower</th>\n",
       "      <th>term_lower</th>\n",
       "      <th>couple_upper</th>\n",
       "      <th>term_upper</th>\n",
       "      <th>error</th>\n",
       "      <th>atom_number</th>\n",
       "      <th>ionization</th>\n",
       "    </tr>\n",
       "  </thead>\n",
       "  <tbody>\n",
       "    <tr>\n",
       "      <th>1121</th>\n",
       "      <td>Sr 2</td>\n",
       "      <td>4077.70935</td>\n",
       "      <td>0.143</td>\n",
       "      <td>0.0000</td>\n",
       "      <td>0.5</td>\n",
       "      <td>3.0397</td>\n",
       "      <td>1.5</td>\n",
       "      <td>2.00</td>\n",
       "      <td>1.33</td>\n",
       "      <td>1.17</td>\n",
       "      <td>...</td>\n",
       "      <td>-7.71</td>\n",
       "      <td>NaN</td>\n",
       "      <td>_          Kurucz Sr II 201   2 wl:K17   2 gf:...</td>\n",
       "      <td>LS</td>\n",
       "      <td>4p6.5s 2S</td>\n",
       "      <td>LS</td>\n",
       "      <td>4p6.5p 2P*</td>\n",
       "      <td>0.5</td>\n",
       "      <td>1.0</td>\n",
       "      <td>2.0</td>\n",
       "    </tr>\n",
       "    <tr>\n",
       "      <th>1434</th>\n",
       "      <td>Sr 2</td>\n",
       "      <td>4161.07803</td>\n",
       "      <td>-2.661</td>\n",
       "      <td>7.5618</td>\n",
       "      <td>3.5</td>\n",
       "      <td>10.5406</td>\n",
       "      <td>2.5</td>\n",
       "      <td>1.14</td>\n",
       "      <td>1.20</td>\n",
       "      <td>1.07</td>\n",
       "      <td>...</td>\n",
       "      <td>-6.79</td>\n",
       "      <td>NaN</td>\n",
       "      <td>_          Kurucz Sr II 201   2 wl:K17   2 gf:...</td>\n",
       "      <td>LS</td>\n",
       "      <td>4p6.4f 2F*</td>\n",
       "      <td>LS</td>\n",
       "      <td>4p6.12d 2D</td>\n",
       "      <td>0.5</td>\n",
       "      <td>1.0</td>\n",
       "      <td>2.0</td>\n",
       "    </tr>\n",
       "    <tr>\n",
       "      <th>1436</th>\n",
       "      <td>Sr 2</td>\n",
       "      <td>4161.30319</td>\n",
       "      <td>-2.818</td>\n",
       "      <td>7.5620</td>\n",
       "      <td>2.5</td>\n",
       "      <td>10.5406</td>\n",
       "      <td>1.5</td>\n",
       "      <td>0.86</td>\n",
       "      <td>0.80</td>\n",
       "      <td>0.90</td>\n",
       "      <td>...</td>\n",
       "      <td>-6.79</td>\n",
       "      <td>NaN</td>\n",
       "      <td>_          Kurucz Sr II 201   2 wl:K17   2 gf:...</td>\n",
       "      <td>LS</td>\n",
       "      <td>4p6.4f 2F*</td>\n",
       "      <td>LS</td>\n",
       "      <td>4p6.12d 2D</td>\n",
       "      <td>0.5</td>\n",
       "      <td>1.0</td>\n",
       "      <td>2.0</td>\n",
       "    </tr>\n",
       "    <tr>\n",
       "      <th>1438</th>\n",
       "      <td>Sr 2</td>\n",
       "      <td>4161.79172</td>\n",
       "      <td>-0.327</td>\n",
       "      <td>2.9403</td>\n",
       "      <td>0.5</td>\n",
       "      <td>5.9186</td>\n",
       "      <td>0.5</td>\n",
       "      <td>0.67</td>\n",
       "      <td>2.00</td>\n",
       "      <td>1.33</td>\n",
       "      <td>...</td>\n",
       "      <td>-7.60</td>\n",
       "      <td>NaN</td>\n",
       "      <td>_          Kurucz Sr II 201   2 wl:K17   2 gf:...</td>\n",
       "      <td>LS</td>\n",
       "      <td>4p6.5p 2P*</td>\n",
       "      <td>LS</td>\n",
       "      <td>4p6.6s 2S</td>\n",
       "      <td>0.5</td>\n",
       "      <td>1.0</td>\n",
       "      <td>2.0</td>\n",
       "    </tr>\n",
       "    <tr>\n",
       "      <th>1508</th>\n",
       "      <td>Sr 2</td>\n",
       "      <td>4215.51920</td>\n",
       "      <td>-0.173</td>\n",
       "      <td>0.0000</td>\n",
       "      <td>0.5</td>\n",
       "      <td>2.9403</td>\n",
       "      <td>0.5</td>\n",
       "      <td>2.00</td>\n",
       "      <td>0.67</td>\n",
       "      <td>1.33</td>\n",
       "      <td>...</td>\n",
       "      <td>-7.71</td>\n",
       "      <td>NaN</td>\n",
       "      <td>_          Kurucz Sr II 201   2 wl:K17   2 gf:...</td>\n",
       "      <td>LS</td>\n",
       "      <td>4p6.5s 2S</td>\n",
       "      <td>LS</td>\n",
       "      <td>4p6.5p 2P*</td>\n",
       "      <td>0.5</td>\n",
       "      <td>1.0</td>\n",
       "      <td>2.0</td>\n",
       "    </tr>\n",
       "  </tbody>\n",
       "</table>\n",
       "<p>5 rows × 22 columns</p>\n",
       "</div>"
      ],
      "text/plain": [
       "     species      wlcent  gflog   excit  j_lo    e_upp  j_up  lande_lower  \\\n",
       "1121    Sr 2  4077.70935  0.143  0.0000   0.5   3.0397   1.5         2.00   \n",
       "1434    Sr 2  4161.07803 -2.661  7.5618   3.5  10.5406   2.5         1.14   \n",
       "1436    Sr 2  4161.30319 -2.818  7.5620   2.5  10.5406   1.5         0.86   \n",
       "1438    Sr 2  4161.79172 -0.327  2.9403   0.5   5.9186   0.5         0.67   \n",
       "1508    Sr 2  4215.51920 -0.173  0.0000   0.5   2.9403   0.5         2.00   \n",
       "\n",
       "      lande_upper  lande  ...  gamvw  depth  \\\n",
       "1121         1.33   1.17  ...  -7.71    NaN   \n",
       "1434         1.20   1.07  ...  -6.79    NaN   \n",
       "1436         0.80   0.90  ...  -6.79    NaN   \n",
       "1438         2.00   1.33  ...  -7.60    NaN   \n",
       "1508         0.67   1.33  ...  -7.71    NaN   \n",
       "\n",
       "                                              reference  couple_lower  \\\n",
       "1121  _          Kurucz Sr II 201   2 wl:K17   2 gf:...            LS   \n",
       "1434  _          Kurucz Sr II 201   2 wl:K17   2 gf:...            LS   \n",
       "1436  _          Kurucz Sr II 201   2 wl:K17   2 gf:...            LS   \n",
       "1438  _          Kurucz Sr II 201   2 wl:K17   2 gf:...            LS   \n",
       "1508  _          Kurucz Sr II 201   2 wl:K17   2 gf:...            LS   \n",
       "\n",
       "      term_lower couple_upper  term_upper error atom_number  ionization  \n",
       "1121   4p6.5s 2S           LS  4p6.5p 2P*   0.5         1.0         2.0  \n",
       "1434  4p6.4f 2F*           LS  4p6.12d 2D   0.5         1.0         2.0  \n",
       "1436  4p6.4f 2F*           LS  4p6.12d 2D   0.5         1.0         2.0  \n",
       "1438  4p6.5p 2P*           LS   4p6.6s 2S   0.5         1.0         2.0  \n",
       "1508   4p6.5s 2S           LS  4p6.5p 2P*   0.5         1.0         2.0  \n",
       "\n",
       "[5 rows x 22 columns]"
      ]
     },
     "execution_count": 12,
     "metadata": {},
     "output_type": "execute_result"
    }
   ],
   "source": [
    "pd.DataFrame(linelist).query('species == \"Sr 2\"')"
   ]
  },
  {
   "cell_type": "code",
   "execution_count": null,
   "id": "63e72536-ab9f-4ee1-88d2-f64a8da0608c",
   "metadata": {},
   "outputs": [],
   "source": []
  },
  {
   "cell_type": "code",
   "execution_count": 13,
   "id": "8fcefbbe-c174-4188-b211-aa41d342059b",
   "metadata": {},
   "outputs": [],
   "source": [
    "#Create solar scaled atmosphere with [alpha/Fe] = +0.4\n",
    "solar = SME_Structure()\n",
    "solar.abund = Abund(0.0, 'asplund2009')\n",
    "\n",
    "abund = solar.abund.pattern\n",
    "abund['O']  = abund['O']  + 0.4\n",
    "abund['Ne'] = abund['Ne'] + 0.4\n",
    "abund['Mg'] = abund['Mg'] + 0.4\n",
    "abund['Si'] = abund['Si'] + 0.4\n",
    "abund['S']  = abund['S']  + 0.4\n",
    "abund['Ar'] = abund['Ar'] + 0.4\n",
    "abund['Ca'] = abund['Ca'] + 0.4\n",
    "abund['Ti'] = abund['Ti'] + 0.4"
   ]
  },
  {
   "cell_type": "code",
   "execution_count": 14,
   "id": "21b336ef-d00a-40cd-89f1-af9cd927ef1c",
   "metadata": {},
   "outputs": [],
   "source": [
    "#Functions to calculate neutron-capture elements and associated limits"
   ]
  },
  {
   "cell_type": "code",
   "execution_count": 15,
   "id": "b311e8f8-cd94-408c-a59f-44c6fa0e20b5",
   "metadata": {
    "jupyter": {
     "source_hidden": true
    }
   },
   "outputs": [],
   "source": [
    "def abund_limit(spec_id, sme, elem_string, wl_line_center):\n",
    "\n",
    "    #Original results\n",
    "    elem, eelem_sme, eelem_fit = sme.fitresults.values[0], sme.fitresults.uncertainties[0], sme.fitresults.fit_uncertainties[0]\n",
    "    n_iters = sme.fitresults.iterations\n",
    "\n",
    "    #Create element-only synthetic\n",
    "    if os.path.exists('sme_save/tmp_limit_%s.sme' %spec_id): os.system('rm sme_save/tmp_limit_%s.sme' %spec_id)\n",
    "    sme.save('sme_save/tmp_limit_%s.sme' %spec_id)\n",
    "    elem_only_sme = SME_Structure.load('sme_save/tmp_limit_%s.sme' %spec_id)\n",
    "\n",
    "    for atom in elem_only_sme.abund.pattern.keys():\n",
    "        if (atom == 'H') or (atom == 'He'):\n",
    "            continue\n",
    "        if atom in elem_string:\n",
    "            continue\n",
    "        elem_only_sme.abund.update_pattern({atom:0.0})\n",
    "\n",
    "    elem_only_sme.cscale = 1.\n",
    "    elem_only_sme.vrad_flag = 'None'\n",
    "    elem_only_sme.cscale_flag = 'None'\n",
    "    elem_only_sme = synthesize_spectrum(elem_only_sme)\n",
    "    \n",
    "    #Limit checking\n",
    "    f_wl_limit = (sme.wave.data > wl_line_center - delta_wl_limit) & (sme.wave.data < wl_line_center + delta_wl_limit)\n",
    "    if np.min(elem_only_sme.synth.data[f_wl_limit]) > elem_only_sme.cscale - 2. * np.median(elem_only_sme.uncs.data):\n",
    "\n",
    "        #Limit search parameters\n",
    "        start, stop, step = -2.0, 9.0, 0.1\n",
    "        for limit_abund in np.linspace(start, stop, int((stop - start) / step + 1)):\n",
    "            \n",
    "            elem_only_sme.abund.update_pattern({elem_string:limit_abund})\n",
    "            elem_only_sme = synthesize_spectrum(elem_only_sme)\n",
    "\n",
    "            if np.min(elem_only_sme.synth.data[f_wl_limit]) < elem_only_sme.cscale - 2. * np.median(elem_only_sme.uncs.data):\n",
    "                os.system('rm sme_save/tmp_limit_%s.sme' %spec_id)\n",
    "                elem = limit_abund\n",
    "\n",
    "                # #Optinal plotting\n",
    "                # plt.figure(figsize=(6,3), dpi=100)\n",
    "                # plt.plot(sme.wave.data, sme.spec.data, color='k', lw=1)\n",
    "                # plt.plot(elem_only_sme.wave.data, elem_only_sme.synth.data, color='C2', lw=1)\n",
    "                # plt.fill_between(sme.wave.data, y1=sme.spec.data-sme.uncs.data, y2=sme.spec.data+sme.uncs.data, color='grey', alpha=0.5, zorder=0)\n",
    "                # elems_to_include = ['Eu 2']\n",
    "                # for wline, species in pd.DataFrame(sme.linelist)[['wlcent', 'species']].values:\n",
    "                #     if 'H 1' in species:\n",
    "                #         continue\n",
    "                #     if (species == 'Fe 1') | (species == 'Fe 2'):\n",
    "                #         plt.vlines(wline, 0.1, 0.15, color='r')\n",
    "                #         # plt.annotate(text='%s' %species, xy=(wline-0.09, 0.3), rotation=90, fontsize=10)\n",
    "                #     if species not in elems_to_include:\n",
    "                #         plt.vlines(wline, 0.1, 0.15, color='g', alpha=0.2)\n",
    "                #         # plt.annotate(text='%s' %species, xy=(wline-0.09, 0.3), rotation=90, fontsize=10)\n",
    "                #         continue     \n",
    "                #     plt.vlines(wline, 0.20, 0.25, color='C4', lw=1)\n",
    "                # plt.hlines(sme.cscale - 2*np.mean(sme.uncs.data), np.min(sme.wave.data), np.max(sme.wave.data), color='r')\n",
    "                # plt.title('%s' %elems_to_include[0])\n",
    "                # plt.ylim(0.92, 1.01)\n",
    "                # plt.xlabel(r'Wavelength ($\\AA$)', size=14)\n",
    "                # plt.ylabel('Normalised flux', size=15)\n",
    "                # plt.tight_layout()\n",
    "                # plt.show()\n",
    "\n",
    "                return elem, eelem_sme, eelem_fit, n_iters, 'True'\n",
    "            if limit_abund == stop:\n",
    "                os.system('rm sme_save/tmp_limit_%s.sme' %spec_id)\n",
    "                elem = limit_abund\n",
    "                return elem, eelem_sme, eelem_fit, n_iters, 'True'\n",
    "            continue\n",
    "    else:\n",
    "        os.system('rm sme_save/tmp_limit_%s.sme' %spec_id)\n",
    "        return elem, eelem_sme, eelem_fit, n_iters, 'False'"
   ]
  },
  {
   "cell_type": "code",
   "execution_count": 16,
   "id": "8aa7a557-71d8-4073-9938-281ac74ecfe2",
   "metadata": {
    "jupyter": {
     "source_hidden": true
    }
   },
   "outputs": [],
   "source": [
    "def sme_init(wave, spec, uncs, teff, logg, monh, vmic, vmac, abund, vrad_flag, linelist, ipress, vrad_bounds, elems_to_include):\n",
    "\n",
    "    #SME definitions\n",
    "    sme = SME_Structure()\n",
    "    \n",
    "    sme.ipres, sme.iptype, sme.gam6, sme.h2broad = ipress, 'gauss', True, True\n",
    "    sme.atmo.source, sme.atmo.method, sme.atmo.geom = 'marcs2012s_t2.0.sav', 'grid', 'SPH'\n",
    "\n",
    "    sme.accxt, sme.accgt, sme.accft = tol, tol, tol\n",
    "    sme.leastsquare3_ftol, sme.leastsquares_gtol, sme.leastsquares_xtol = tol, tol, tol\n",
    "    sme.accwi, sme.accrt, sme.clim, sme.chirat = tol, tol, tol, tol\n",
    "    sme.vrad_bounds = vrad_bounds\n",
    "    # sme.cscale_bounds = (0.99, 1.01)\n",
    "\n",
    "    # Redirect output to logs/RUN*/*.txt\n",
    "    util.start_logging(log_file='logs/Cayrel.txt', level='ERROR')\n",
    "\n",
    "    sme.cscale_flag = 'constant'\n",
    "    # sme.cscale_type = 'mcmc'\n",
    "    sme.fitresults.maxiter = 100\n",
    "\n",
    "    sme.wave = wave\n",
    "    sme.spec = spec\n",
    "    sme.uncs = uncs\n",
    "\n",
    "    #Masking process to derive Teff, logg, monh and vmic (vmac if needed)\n",
    "    # The mask values are: 0: bad pixel, 1: line pixel, 2: continuum pixel\n",
    "    line_regions = np.ones_like(sme.wave.data).astype(int)\n",
    "    # line_regions[(sme.spec.data > np.percentile(sme.spec.data, 90)) & (sme.spec.data < np.percentile(sme.spec.data, 95))] = 2\n",
    "    ll_mask = np.zeros(linelist.species.size).astype(bool)\n",
    "    \n",
    "    for wline, mask_species in linelist[['wlcent', 'species']]:\n",
    "        if mask_species in elems_to_include:\n",
    "            idx_ = (sme.wave.data > wline-delta_line) & (sme.wave.data < wline+delta_line)\n",
    "            line_regions[idx_] = 1\n",
    "            \n",
    "            ll_mask[(linelist.wlcent > wline-delta_line) & (linelist.wlcent < wline+delta_line)] = True\n",
    "            continue\n",
    "        \n",
    "    del idx_\n",
    "    \n",
    "    #Merge all the line_regions as int\n",
    "    line_regions = line_regions.astype(int)\n",
    "    line_regions[sme.spec.data == 0.0] = 0\n",
    "    sme.mask = line_regions\n",
    "    del line_regions\n",
    "\n",
    "    sme.linelist = linelist\n",
    "    del ll_mask\n",
    "\n",
    "    #Abundance scaling to create realistic synthetics\n",
    "    sme.abund = abund\n",
    "    #RV determination for each chip\n",
    "    sme.vrad_flag = vrad_flag\n",
    "\n",
    "    #input guesses from xgboost\n",
    "    sme.teff = teff\n",
    "    sme.logg = logg\n",
    "    sme.monh = monh\n",
    "    sme.vmic = vmic\n",
    "    sme.vmac = vmac\n",
    "    \n",
    "    return sme"
   ]
  },
  {
   "cell_type": "code",
   "execution_count": 20,
   "id": "f5b8c1dd-4585-484a-b664-c180a16f8b04",
   "metadata": {
    "jupyter": {
     "source_hidden": true
    }
   },
   "outputs": [],
   "source": [
    "def Cayrel_LP(i, star, elems_to_include, elem_string, vrad_flag, tol):\n",
    "\n",
    "    spec_id = star.split('/')[-2].replace('-','_')\n",
    "\n",
    "    #rm abund files for a fresh start\n",
    "    # os.system('rm tmp_cayrel/cayrel_elem_lines_%s_%s.csv' %(elem_string.lower(), spec_id))\n",
    "    \n",
    "    prev_run_exist = os.path.exists('tmp_cayrel/cayrel_elem_lines_%s_%s.csv' %(elem_string.lower(), spec_id))\n",
    "    if prev_run_exist:\n",
    "        prev_run = pd.read_csv('tmp_cayrel/cayrel_elem_lines_%s_%s.csv' %(elem_string.lower(), spec_id))\n",
    "    # if os.path.exists('tmp_cayrel/cayrel_elem_lines_%s_%s.csv' %(elem_string.lower(), spec_id)):\n",
    "    #     if pd.read_csv('tmp_cayrel/cayrel_elem_lines_%s_%s.csv' %(elem_string.lower(), spec_id)).species.values[0] in elems_to_include:\n",
    "    #         os.system('rm tmp_cayrel/cayrel_elem_lines_%s_%s.csv' %(elem_string.lower(), spec_id))\n",
    "    \n",
    "    header_spb = pd.read_csv('%s/spb' %star, nrows=1, skiprows=1, names=['npix', 'dpix', 'wl0', 'dwl', 'rv'], sep='\\s+')    \n",
    "    data_spb = pd.read_csv('%s/spb' %star, nrows=header_spb.npix.values[0], skiprows=3, names=['pix', 'flux'], sep='\\s+', comment='-')\n",
    "    data_spb.dropna(axis=0, inplace=True)\n",
    "    \n",
    "    wave_spb = pix_to_wl(data_spb.pix.values, header_spb.wl0.values[0], header_spb.dwl.values[0]) * np.sqrt((1.-(header_spb.rv[0]*1000.)/c.value)/(1.+(header_spb.rv[0]*1000.)/c.value))\n",
    "    spec_spb = data_spb.flux.values/10000.\n",
    "    uncs_spb = 0.001*np.ones_like(data_spb.flux.values)\n",
    "\n",
    "    #Normalisation\n",
    "    peaks, _ = find_peaks(spec_spb, rel_height=0.6)\n",
    "    delta = (1. - np.nanmedian(spec_spb[peaks]))\n",
    "    spec_spb = spec_spb + delta\n",
    "\n",
    "    try:\n",
    "        header_spvl = pd.read_csv('%s/spvl' %star, nrows=1, skiprows=1, names=['npix', 'dpix', 'wl0', 'dwl', 'rv'], sep='\\s+')    \n",
    "        data_spvl = pd.read_csv('%s/spvl' %star, nrows=header_spb.npix.values[0], skiprows=3, names=['pix', 'flux'], sep='\\s+', comment='-')\n",
    "        data_spvl.dropna(axis=0, inplace=True)\n",
    "    \n",
    "        wave_spvl = pix_to_wl(data_spvl.pix.values, header_spvl.wl0.values[0], header_spvl.dwl.values[0]) * np.sqrt((1.-(header_spvl.rv[0]*1000.)/c.value)/(1.+(header_spvl.rv[0]*1000.)/c.value))\n",
    "        spec_spvl = data_spvl.flux.values/10000.\n",
    "        uncs_spvl = 0.001*np.ones_like(data_spvl.flux.values)\n",
    "\n",
    "        #Normalisation\n",
    "        peaks, _ = find_peaks(spec_spvl, rel_height=0.6)\n",
    "        delta = (1. - np.nanmedian(spec_spvl[peaks]))\n",
    "        spec_spvl = spec_spvl + delta\n",
    "\n",
    "        wave = np.concatenate(([wave_spb, wave_spvl]))\n",
    "        spec = np.concatenate(([spec_spb, spec_spvl]))\n",
    "        uncs = np.concatenate(([uncs_spb, uncs_spvl]))\n",
    "\n",
    "        del header_spb, data_spb, header_spvl, data_spvl, wave_spb, wave_spvl, spec_spb, spec_spvl, uncs_spb, uncs_spvl\n",
    "    except: \n",
    "        wave = wave_spb\n",
    "        spec = spec_spb\n",
    "        uncs = uncs_spb\n",
    "    \n",
    "        del header_spb, data_spb, wave_spb, spec_spb, uncs_spb\n",
    "\n",
    "    #Elemental abundances line by line\n",
    "    linelist_per_elem = linelist[(linelist.species == elems_to_include[0]) & (linelist.wlcent > np.min(wave)) & (linelist.wlcent < np.max(wave))]\n",
    "    used_line = np.zeros_like(linelist_per_elem.wlcent, dtype=bool)\n",
    "\n",
    "    for idx_elem, (specie, wline, excit) in enumerate(linelist_per_elem[['species', 'wlcent', 'excit']]):\n",
    "        # Multiple lines\n",
    "        if used_line[idx_elem]:\n",
    "            continue\n",
    "\n",
    "        if prev_run_exist and (prev_run.query('species == \"%s\"' %elems_to_include[0]).wl_line.size > 0):\n",
    "            if np.round(wline, 2) <= 1.5+prev_run.query('species == \"%s\"' %elems_to_include[0]).wl_line.max():\n",
    "                continue\n",
    "\n",
    "        ll_line = pd.DataFrame(linelist_per_elem).query('wlcent > %f and wlcent < %f' %(wline-delta_cont, wline+delta_cont))\n",
    "        used_line[ll_line.species.str.contains(elem_string).index] = True\n",
    "        \n",
    "        wl_line_center = np.mean(ll_line.wlcent.values[ll_line.species.str.contains(elem_string).values])\n",
    "        wl_f_min = wl_line_center - delta_cont\n",
    "        wl_f_max = wl_line_center + delta_cont\n",
    "        gflog_total_transition = np.log10(np.sum(10**ll_line.gflog.values))\n",
    "        \n",
    "        if np.any(np.abs(wl_line_center - pd.DataFrame(linelist).query('species == \"H 1\"').wlcent.values) < 10.):\n",
    "            continue\n",
    "            \n",
    "        ll_line = pd.DataFrame(linelist).query('wlcent > %f and wlcent < %f' %(wl_f_min, wl_f_max))\n",
    "        ll_line = LineList(linedata=ll_line, lineformat='long')\n",
    "        ll_line = ll_line.sort()\n",
    "\n",
    "        y =  spec[(wave > wl_f_min) & (wave < wl_f_max)]\n",
    "        ey = uncs[(wave > wl_f_min) & (wave < wl_f_max)]\n",
    "        x =  wave[(wave > wl_f_min) & (wave < wl_f_max)]\n",
    "\n",
    "        if (x.size == 0) or (y.size == 0) or (ey.size == 0):\n",
    "            continue\n",
    "        \n",
    "        sme = sme_init(x, y, ey, \n",
    "                       cayrel.teff.values[i], cayrel.logg.values[i], cayrel.monh.values[i], cayrel.vmic.values[i], cayrel.vmac.values[i], \n",
    "                       abund, vrad_flag, ll_line, ipress = 47000, vrad_bounds=(-10, 10), elems_to_include = elems_to_include)\n",
    "\n",
    "        sme.abund.update_pattern({'Fe':cayrel.fe.values[i]})\n",
    "        sme.abund.update_pattern({'C':cayrel.c.values[i]})\n",
    "        \n",
    "        fitparameters = ['abund %s' %elem_string]\n",
    "\n",
    "        #Solve the elemental fits \n",
    "        sme = solve(sme, fitparameters)\n",
    "\n",
    "        #Is limit?\n",
    "        elem, eelem_sme, eelem_fit, n_iters, is_limit = abund_limit(spec_id, sme, elem_string, wl_line_center)\n",
    "            \n",
    "        #Save fits and results into files\n",
    "        data_to_write = np.vstack((spec_id, specie, '%4.2f' %wl_line_center, '%4.4f' %excit, '%4.4f' %gflog_total_transition, '%4.3f' %elem, '%4.3f' %eelem_sme, '%4.3f' %eelem_fit, n_iters, is_limit)).T\n",
    "        columns_elems = ['spec_id', 'species', 'wl_line', 'excit', 'gflog', '%s' %elem_string.lower(), 'e%s_sme' %elem_string.lower(), \n",
    "                         'e%s_fit' %elem_string.lower(), 'n_iter_%s' %elem_string.lower(), 'is_limit_%s' %elem_string.lower()]\n",
    "\n",
    "        if (not os.path.exists('tmp_cayrel/cayrel_elem_lines_%s_%s.csv' %(elem_string.lower(), spec_id))):\n",
    "            pd.DataFrame(data=data_to_write, columns=columns_elems).to_csv('tmp_cayrel/cayrel_elem_lines_%s_%s.csv' %(elem_string.lower(), spec_id), index=False, header=True)\n",
    "        else:\n",
    "            pd.DataFrame(data=data_to_write, columns=columns_elems).to_csv('tmp_cayrel/cayrel_elem_lines_%s_%s.csv' %(elem_string.lower(), spec_id), index=False, header=False, mode='a')\n",
    "        \n",
    "        del elem, eelem_sme, eelem_fit, data_to_write, columns_elems\n",
    "    \n",
    "        sme.save('sme_save/cayrel_elem_%s_lines_%s_%4.2f' %(elem_string.lower(), spec_id, wl_line_center))\n",
    "        del sme\n",
    "        \n",
    "        gc.collect()\n",
    "      \n",
    "    return"
   ]
  },
  {
   "cell_type": "code",
   "execution_count": 21,
   "id": "06dd5d19-efe7-490c-ac39-c84e6fc19308",
   "metadata": {},
   "outputs": [
    {
     "name": "stdout",
     "output_type": "stream",
     "text": [
      "Y 2\n"
     ]
    },
    {
     "name": "stderr",
     "output_type": "stream",
     "text": [
      "[Parallel(n_jobs=35)]: Using backend LokyBackend with 35 concurrent workers.\n",
      "[Parallel(n_jobs=35)]: Done   6 out of  35 | elapsed:  1.4min remaining:  6.6min\n",
      "[Parallel(n_jobs=35)]: Done  14 out of  35 | elapsed:  1.4min remaining:  2.1min\n",
      "[Parallel(n_jobs=35)]: Done  22 out of  35 | elapsed:  3.6min remaining:  2.1min\n",
      "[Parallel(n_jobs=35)]: Done  30 out of  35 | elapsed:  5.3min remaining:   53.0s\n"
     ]
    },
    {
     "name": "stdout",
     "output_type": "stream",
     "text": [
      "Zr 2\n"
     ]
    },
    {
     "name": "stderr",
     "output_type": "stream",
     "text": [
      "[Parallel(n_jobs=35)]: Done  35 out of  35 | elapsed: 10.0min finished\n",
      "[Parallel(n_jobs=35)]: Using backend LokyBackend with 35 concurrent workers.\n",
      "[Parallel(n_jobs=35)]: Done   6 out of  35 | elapsed:    0.4s remaining:    2.0s\n",
      "[Parallel(n_jobs=35)]: Done  14 out of  35 | elapsed:    0.6s remaining:    0.9s\n",
      "[Parallel(n_jobs=35)]: Done  22 out of  35 | elapsed:    1.5s remaining:    0.9s\n",
      "[Parallel(n_jobs=35)]: Done  30 out of  35 | elapsed:    4.1s remaining:    0.7s\n",
      "[Parallel(n_jobs=35)]: Done  35 out of  35 | elapsed:    4.1s finished\n"
     ]
    }
   ],
   "source": [
    "# %%time\n",
    "#Iteration of elements for line-by-line analysis\n",
    "\n",
    "# os.system('rm -r ~/.sme/cache/download/')\n",
    "cayrel = pd.read_csv('tmp_merged/cayrel_atm_fe_cn_corr.csv')\n",
    "vrad_flag = 'fix' # 'each' # 'whole' # 'each' # 'fix'\n",
    "\n",
    "# elems_to_include = ['Eu 2', 'Sr 2', 'Ba 2', 'Ce 2', 'Dy 2', 'Er 2', 'Gd 2', 'Hf 2', 'Ir 2', 'La 2', 'Nd 2', 'Os 2', 'Pb 2', \n",
    "#                     'Pr 2', 'Sm 2', 'Th 2', 'Tm 2', 'U 2', 'Y 2', 'Zr 2']\n",
    "# elems_string = ['Eu', 'Sr', 'Ba', 'Ce', 'Dy', 'Er', 'Gd', 'Hf', 'Ir', 'La', 'Nd', 'Os', 'Pb', \n",
    "#                 'Pr', 'Sm', 'Th', 'Tm', 'U', 'Y', 'Zr']\n",
    "\n",
    "# elems_to_include = ['Os 2', 'Pb 2', 'Pr 2', 'Sm 2', 'Th 2', 'Tm 2', 'U 2', 'Y 2', 'Zr 2']\n",
    "# elems_string = ['Os', 'Pb', 'Pr', 'Sm', 'Th', 'Tm', 'U', 'Y', 'Zr']\n",
    "\n",
    "elems_to_include = ['Y 2', 'Zr 2']\n",
    "elems_string = ['Y', 'Zr']\n",
    "\n",
    "for elem_to_include, elem_string in zip(elems_to_include, elems_string):\n",
    "    print(elem_to_include)\n",
    "    tol = 1e-8\n",
    "    Parallel(n_jobs=cayrel.teff.size, verbose=5)(delayed(Cayrel_LP)(i, star, elems_to_include=[elem_to_include], elem_string=elem_string,\n",
    "                                                                    vrad_flag=vrad_flag, tol=tol) for i, star in enumerate(stars));"
   ]
  },
  {
   "cell_type": "code",
   "execution_count": null,
   "id": "d3488f48-5c5f-4072-94c5-15928376b5dc",
   "metadata": {},
   "outputs": [],
   "source": []
  },
  {
   "cell_type": "code",
   "execution_count": 26,
   "id": "e123d281-c22d-46c8-be1b-9c9150a0b424",
   "metadata": {},
   "outputs": [],
   "source": [
    "#Plots for double check"
   ]
  },
  {
   "cell_type": "code",
   "execution_count": 34,
   "id": "f972a920-70c6-4e39-832d-f02036276e98",
   "metadata": {},
   "outputs": [
    {
     "name": "stderr",
     "output_type": "stream",
     "text": [
      "[2025-05-27 16:05:56,015] [INFO] [sme:load:839]: Loading SME file sme_save/cayrel_elem_zr_lines_01_HD2796_4161.20.sme\n"
     ]
    },
    {
     "name": "stdout",
     "output_type": "stream",
     "text": [
      "\u001b[32mINFO - Loading SME file sme_save/cayrel_elem_zr_lines_01_HD2796_4161.20.sme\u001b[0m\n"
     ]
    }
   ],
   "source": [
    "sme = SME_Structure.load('sme_save/cayrel_elem_zr_lines_01_HD2796_4161.20.sme')"
   ]
  },
  {
   "cell_type": "code",
   "execution_count": 35,
   "id": "53465212-ddb2-41bd-8a4c-5ca9d3c72fb4",
   "metadata": {},
   "outputs": [
    {
     "data": {
      "image/png": "[encoded data removed]",
      "text/plain": [
       "<Figure size 600x300 with 1 Axes>"
      ]
     },
     "metadata": {
      "needs_background": "light"
     },
     "output_type": "display_data"
    }
   ],
   "source": [
    "plt.figure(figsize=(6,3), dpi=100)\n",
    "\n",
    "plt.plot(sme.wave.data, sme.spec.data, color='k', lw=1)\n",
    "plt.plot(sme.wave.data, sme.synth.data, color='C2', lw=1)\n",
    "plt.fill_between(sme.wave.data, y1=sme.spec.data-sme.uncs.data, y2=sme.spec.data+sme.uncs.data, color='grey', alpha=0.5, zorder=0)\n",
    "\n",
    "elems_to_include = ['Zr 2']\n",
    "for wline, species in pd.DataFrame(sme.linelist)[['wlcent', 'species']].values:\n",
    "    if 'H 1' in species:\n",
    "        continue\n",
    "    if (species == 'Fe 1') | (species == 'Fe 2'):\n",
    "        plt.vlines(wline, 0.1, 0.15, color='r')\n",
    "        # plt.annotate(text='%s' %species, xy=(wline-0.09, 0.3), rotation=90, fontsize=10)\n",
    "    if species not in elems_to_include:\n",
    "        plt.vlines(wline, 0.1, 0.15, color='g', alpha=0.2)\n",
    "        # plt.annotate(text='%s' %species, xy=(wline-0.09, 0.3), rotation=90, fontsize=10)\n",
    "        continue\n",
    "    \n",
    "    plt.vlines(wline, 0.20, 0.25, color='C4', lw=1)\n",
    "    # plt.annotate(text='%s' %species, xy=(wline-0.09, 0.3), rotation=90, fontsize=10)\n",
    "\n",
    "# plt.hlines(sme.cscale - 2*np.mean(sme.uncs.data), np.min(sme.wave.data), np.max(sme.wave.data), color='r')\n",
    "# plt.vlines(5259.75+0.05, 1.0, 0.0, color='b')\n",
    "# plt.vlines(5259.75-0.05, 1.0, 0.0, color='b')\n",
    "\n",
    "plt.title('%s' %elems_to_include[0])\n",
    "plt.ylim(0.0, 1.05)\n",
    "plt.xlabel(r'Wavelength ($\\AA$)', size=14)\n",
    "plt.ylabel('Normalised flux', size=15)\n",
    "\n",
    "plt.tight_layout()\n",
    "plt.show()"
   ]
  },
  {
   "cell_type": "code",
   "execution_count": 122,
   "id": "33fb3c67-a0c4-4593-afa0-a91e5383d41b",
   "metadata": {},
   "outputs": [
    {
     "data": {
      "text/plain": [
       "array([-3.65957815])"
      ]
     },
     "execution_count": 122,
     "metadata": {},
     "output_type": "execute_result"
    }
   ],
   "source": [
    "sme.fitresults.values"
   ]
  },
  {
   "cell_type": "code",
   "execution_count": 93,
   "id": "f0ad9a59-f36d-451e-b558-8ac7caa4fe60",
   "metadata": {
    "scrolled": true
   },
   "outputs": [
    {
     "data": {
      "text/plain": [
       "0.006517509848606026"
      ]
     },
     "execution_count": 93,
     "metadata": {},
     "output_type": "execute_result"
    }
   ],
   "source": [
    "1./(sme.fitresults.gradient[0])"
   ]
  },
  {
   "cell_type": "code",
   "execution_count": null,
   "id": "05433f1b-9947-4166-a75b-5b19086cf0e6",
   "metadata": {},
   "outputs": [],
   "source": []
  },
  {
   "cell_type": "code",
   "execution_count": 149,
   "id": "a63f8c1f-3a0e-4cca-aca8-47f2ecc3bcae",
   "metadata": {},
   "outputs": [],
   "source": [
    "#Merging of files per element"
   ]
  },
  {
   "cell_type": "code",
   "execution_count": 38,
   "id": "7076196a-0801-403c-b7a4-5cceff48928b",
   "metadata": {},
   "outputs": [],
   "source": [
    "# elem_to_merge = 'zn' # ['mg', 'ca', 'si', 'sc', 'ti', 'cr', 'mn', 'co', 'ni', 'zn', 'al']"
   ]
  },
  {
   "cell_type": "code",
   "execution_count": 107,
   "id": "c6ade66d-719e-47f1-8842-aed6cb7d6f80",
   "metadata": {},
   "outputs": [],
   "source": [
    "# os.system('cat tmp_cayrel/cayrel_elem_lines_%s_* > tmp_merged/cayrel_elem_lines_%s.csv' %(elem_to_merge,elem_to_merge))\n",
    "# columns = pd.read_csv('tmp_cayrel/cayrel_elem_lines_%s_01_HD2796.csv' %elem_to_merge).columns\n",
    "# lines_mn = pd.read_csv('tmp_merged/cayrel_elem_lines_%s.csv' %elem_to_merge, names=columns, comment='s')"
   ]
  },
  {
   "cell_type": "code",
   "execution_count": 177,
   "id": "564f1bff-7a1c-414d-9943-a69a74259452",
   "metadata": {},
   "outputs": [
    {
     "data": {
      "text/plain": [
       "array(['01_HD2796', '02_HD122563', '03_HD186478', '04_BD17_3248',\n",
       "       '05_BD18_5550', '06_Eric38_245', '07_BS16467_62', '08_BS16477_3',\n",
       "       '09_BS17569_49', '10_CS22169_35', '11_CS22172_2', '12_CS22186_25',\n",
       "       '13_CS22189_09', '14_CS22873_55', '15_CS22873_166',\n",
       "       '16_CS22878_101', '17_CS22885_96', '18_CS22891_209',\n",
       "       '19_CS22892_52', '20_CS22896_154', '21_CS22897_8', '22_CS22948_66',\n",
       "       '23_CS22949_37', '24_CS22952_15', '25_CS22953_3', '26_CS22956_50',\n",
       "       '27_CS22966_57', '28_CS22968_14', '29_CS29491_53', '30_CS29495_41',\n",
       "       '31_CS29502_42', '32_CS29516_24', '33_CS29518_51', '34_CS30325_94',\n",
       "       '35_CS31082_01'], dtype=object)"
      ]
     },
     "execution_count": 177,
     "metadata": {},
     "output_type": "execute_result"
    }
   ],
   "source": [
    "lines_mn.spec_id.unique()"
   ]
  },
  {
   "cell_type": "code",
   "execution_count": 212,
   "id": "379da025-41a1-4b23-9150-01d7e98a9e06",
   "metadata": {},
   "outputs": [
    {
     "data": {
      "image/png": "[encoded data removed]",
      "text/plain": [
       "<Figure size 720x288 with 1 Axes>"
      ]
     },
     "metadata": {
      "needs_background": "light"
     },
     "output_type": "display_data"
    }
   ],
   "source": [
    "spec_id = '33_CS29518_51'\n",
    "plt.figure(figsize=(10,4))\n",
    "plt.scatter(lines_mn.query('spec_id == \"%s\" and emn_sme < 1.0' %spec_id).excit.values, lines_mn.query('spec_id == \"%s\" and emn_sme < 1.0' %spec_id).mn.values, color='k', s=10)\n",
    "plt.errorbar(lines_mn.query('spec_id == \"%s\" and emn_sme < 1.0' %spec_id).excit.values, lines_mn.query('spec_id == \"%s\" and emn_sme < 1.0' %spec_id).mn.values, fmt='.k', \n",
    "            yerr=lines_mn.query('spec_id == \"%s\" and emn_sme < 1.0' %spec_id).emn_sme.values)\n",
    "plt.hlines(np.average(lines_mn.query('spec_id == \"%s\" and emn_sme < 1.0' %spec_id).mn.values, \n",
    "                      weights=1./lines_mn.query('spec_id == \"%s\" and emn_sme < 1.0' %spec_id).emn_sme.values**2.), -3, -0.5, color='g', ls='--', alpha=0.5)\n",
    "plt.hlines(solar.abund.get_element('Mn'), -3, -0.5, color='r', alpha=0.5)\n",
    "plt.hlines(cayrel_mn.query('spec_id == \"%s\"' %spec_id).loge.values - cayrel_mn.query('spec_id == \"%s\"' %spec_id).monh.values, -3, -0.5, color='b')\n",
    "\n",
    "plt.ylim(4.0, 5.75)\n",
    "plt.show()"
   ]
  },
  {
   "cell_type": "code",
   "execution_count": 132,
   "id": "f6337240-61e9-49ff-9c50-7ef5f6489959",
   "metadata": {},
   "outputs": [
    {
     "data": {
      "image/png": "[encoded data removed]",
      "text/plain": [
       "<Figure size 432x288 with 1 Axes>"
      ]
     },
     "metadata": {
      "needs_background": "light"
     },
     "output_type": "display_data"
    }
   ],
   "source": [
    "for line in np.unique(lines_mg.wl_line.values):\n",
    "    try:\n",
    "        plt.hist(lines_mn.query('wl_line == %4.2f' %line).mn.values - lines_mn.query('wl_line == %4.2f' %line).mn.values[1], bins=30, histtype='step', color='k', stacked=True)\n",
    "    except:\n",
    "        continue\n",
    "# plt.xlim(-4, 2)\n",
    "plt.show()"
   ]
  },
  {
   "cell_type": "code",
   "execution_count": null,
   "id": "fe84a624-00d2-4fc8-a2b8-f297698534be",
   "metadata": {},
   "outputs": [],
   "source": []
  },
  {
   "cell_type": "code",
   "execution_count": null,
   "id": "ecfaeaee-7eb0-4458-8e5f-b777f388ebbf",
   "metadata": {},
   "outputs": [],
   "source": []
  },
  {
   "cell_type": "code",
   "execution_count": 41,
   "id": "d9d8a715-49b2-4702-8844-681619baa6e4",
   "metadata": {},
   "outputs": [],
   "source": [
    "#Plots for checking"
   ]
  },
  {
   "cell_type": "code",
   "execution_count": 63,
   "id": "8c3c6f7a-0dd9-466e-ba94-0cbcc9f67ff9",
   "metadata": {
    "editable": true,
    "slideshow": {
     "slide_type": ""
    },
    "tags": []
   },
   "outputs": [
    {
     "name": "stderr",
     "output_type": "stream",
     "text": [
      "[2025-04-22 11:23:42,210] [INFO] [sme:load:839]: Loading SME file sme_save/cayrel_elem_pr_lines_35_CS31082_01_5259.71.sme\n"
     ]
    },
    {
     "name": "stdout",
     "output_type": "stream",
     "text": [
      "\u001b[32mINFO - Loading SME file sme_save/cayrel_elem_pr_lines_35_CS31082_01_5259.71.sme\u001b[0m\n"
     ]
    }
   ],
   "source": [
    "# sme = SME_Structure.load('sme_save/Cayrel_01_HD2796.sme')\n",
    "# sme = SME_Structure.load('sme_save/Cayrel_03_HD186478.sme')\n",
    "# sme = SME_Structure.load('sme_save/cayrel_elem_ba_35_CS31082_01.sme')\n",
    "sme = SME_Structure.load('sme_save/cayrel_elem_pr_lines_35_CS31082_01_5259.71.sme')"
   ]
  },
  {
   "cell_type": "code",
   "execution_count": 65,
   "id": "21ff2899-6f88-4b38-a346-24d0261a4996",
   "metadata": {
    "editable": true,
    "slideshow": {
     "slide_type": ""
    },
    "tags": []
   },
   "outputs": [
    {
     "data": {
      "image/png": "[encoded data removed]",
      "text/plain": [
       "<Figure size 600x400 with 1 Axes>"
      ]
     },
     "metadata": {
      "needs_background": "light"
     },
     "output_type": "display_data"
    }
   ],
   "source": [
    "plt.figure(figsize=(6,4), dpi=100)\n",
    "\n",
    "plt.plot(sme.wave.data, sme.spec.data, color='k', lw=1)\n",
    "# plt.errorbar(sme.wave.data, sme.spec.data, fmt='k.', yerr=0.1*sme.uncs.data, lw=1, ms=1)\n",
    "plt.plot(sme.wave.data, sme.synth.data, color='C2', lw=1.5, alpha=0.8)\n",
    "\n",
    "plt.scatter(sme.wave.data, sme.mask.data, s=10, color='grey', alpha=0.2)\n",
    "\n",
    "elems_to_include = ['Pr 2']\n",
    "for wline, species in pd.DataFrame(sme.linelist)[['wlcent', 'species']].values:\n",
    "    if 'H 1' in species:\n",
    "        continue\n",
    "    if (species == 'Fe 1') | (species == 'Fe 2'):\n",
    "        plt.vlines(wline, 0.1, 0.15, color='r')\n",
    "    if species not in elems_to_include:\n",
    "        plt.vlines(wline, 0.1, 0.15, color='g', alpha=0.2)\n",
    "        # plt.annotate(text='%s' %species, xy=(wline-0.09, 0.3), rotation=90, fontsize=10)\n",
    "        continue\n",
    "    \n",
    "    plt.vlines(wline, 0.20, 0.25, color='C4', lw=1)\n",
    "    # plt.annotate(text='%s' %species, xy=(wline-0.09, 0.3), rotation=90, fontsize=10)\n",
    "plt.title('%s' %elems_to_include[0])\n",
    "# plt.xlim(4000, 4020)\n",
    "# plt.xlim(4128, 4131.5) #Eu\n",
    "# plt.xlim(4129.5, 4130) #Eu\n",
    "# plt.xlim(4203, 4207) #Eu\n",
    "# plt.xlim(3815, 3825)\n",
    "\n",
    "# plt.xlim(4125, 4135) #Ba\n",
    "# plt.xlim(4164, 4168) #Ba\n",
    "# plt.xlim(4285, 4290) #Ba\n",
    "# plt.xlim(4552, 4556) #Ba\n",
    "# plt.xlim(4932, 4936) #Ba\n",
    "\n",
    "# plt.xlim(4213, 4219) #Sr\n",
    "# plt.xlim(4075, 4080) #Sr\n",
    "\n",
    "# plt.xlim(3937, 3952) #Al\n",
    "# plt.ylim(0.0, 1.1)\n",
    "\n",
    "plt.xlabel(r'Wavelength ($\\AA$)', size=14)\n",
    "plt.ylabel('Normalised flux', size=15)\n",
    "plt.show()"
   ]
  },
  {
   "cell_type": "code",
   "execution_count": 66,
   "id": "421bfa8c-9d02-4c9b-bccf-a9e2d56925df",
   "metadata": {},
   "outputs": [
    {
     "data": {
      "text/plain": [
       "array([2.11338585])"
      ]
     },
     "execution_count": 66,
     "metadata": {},
     "output_type": "execute_result"
    }
   ],
   "source": [
    "sme.fitresults.values"
   ]
  },
  {
   "cell_type": "code",
   "execution_count": 67,
   "id": "2e6754f8-984b-4036-bee6-4d6e8f727c61",
   "metadata": {},
   "outputs": [
    {
     "data": {
      "text/plain": [
       "(array([-0.49087535]), array([0.54010985]))"
      ]
     },
     "execution_count": 67,
     "metadata": {},
     "output_type": "execute_result"
    }
   ],
   "source": [
    "sme.fitresults.values+sme.monh, sme.vrad"
   ]
  },
  {
   "cell_type": "code",
   "execution_count": 68,
   "id": "2f2a93df-e970-4dee-8de0-593bf4d61154",
   "metadata": {},
   "outputs": [
    {
     "data": {
      "text/plain": [
       "([0.016596916149868905], array([0.09969072]))"
      ]
     },
     "execution_count": 68,
     "metadata": {},
     "output_type": "execute_result"
    }
   ],
   "source": [
    "sme.fitresults.fit_uncertainties, sme.fitresults.uncertainties"
   ]
  },
  {
   "cell_type": "code",
   "execution_count": 69,
   "id": "18bded6f-f337-428f-986f-231c35791b2a",
   "metadata": {},
   "outputs": [
    {
     "data": {
      "text/plain": [
       "array([2.11338585])"
      ]
     },
     "execution_count": 69,
     "metadata": {},
     "output_type": "execute_result"
    }
   ],
   "source": [
    "sme.fitresults.values"
   ]
  },
  {
   "cell_type": "code",
   "execution_count": null,
   "id": "4b2f1213-06ee-4296-a186-a058cc08a077",
   "metadata": {},
   "outputs": [],
   "source": []
  },
  {
   "cell_type": "code",
   "execution_count": 70,
   "id": "4f2cdf75-aaaa-4dd4-9237-80fa02564aa7",
   "metadata": {},
   "outputs": [],
   "source": [
    "elem = 'pr'\n",
    "lines = pd.read_csv('tmp_cayrel/cayrel_elem_lines_%s_35_CS31082_01.csv' %elem)\n",
    "lines['log%s' %elem.upper()] = lines['%s' %elem].values + cayrel.query('spec_id == \"35_CS31082_01\"').monh.values"
   ]
  },
  {
   "cell_type": "code",
   "execution_count": 71,
   "id": "6f510da3-7754-4182-8b3b-9bfc75f7706a",
   "metadata": {},
   "outputs": [],
   "source": [
    "lines = lines.query('e%s_sme < 0.5 and e%s_sme > 0.0 and %s < 10.0' %(elem, elem, elem))"
   ]
  },
  {
   "cell_type": "code",
   "execution_count": 72,
   "id": "69b324a3-4af1-4821-bc90-d873c9129dc7",
   "metadata": {},
   "outputs": [
    {
     "data": {
      "text/html": [
       "<div>\n",
       "<style scoped>\n",
       "    .dataframe tbody tr th:only-of-type {\n",
       "        vertical-align: middle;\n",
       "    }\n",
       "\n",
       "    .dataframe tbody tr th {\n",
       "        vertical-align: top;\n",
       "    }\n",
       "\n",
       "    .dataframe thead th {\n",
       "        text-align: right;\n",
       "    }\n",
       "</style>\n",
       "<table border=\"1\" class=\"dataframe\">\n",
       "  <thead>\n",
       "    <tr style=\"text-align: right;\">\n",
       "      <th></th>\n",
       "      <th>spec_id</th>\n",
       "      <th>species</th>\n",
       "      <th>wl_line</th>\n",
       "      <th>excit</th>\n",
       "      <th>gflog</th>\n",
       "      <th>pr</th>\n",
       "      <th>epr_sme</th>\n",
       "      <th>epr_fit</th>\n",
       "      <th>n_iter_pr</th>\n",
       "      <th>logPR</th>\n",
       "    </tr>\n",
       "  </thead>\n",
       "  <tbody>\n",
       "    <tr>\n",
       "      <th>0</th>\n",
       "      <td>35_CS31082_01</td>\n",
       "      <td>Pr 2</td>\n",
       "      <td>4061.78</td>\n",
       "      <td>0.6333</td>\n",
       "      <td>-1.690</td>\n",
       "      <td>2.082</td>\n",
       "      <td>0.073</td>\n",
       "      <td>0.073</td>\n",
       "      <td>12</td>\n",
       "      <td>-0.522261</td>\n",
       "    </tr>\n",
       "    <tr>\n",
       "      <th>1</th>\n",
       "      <td>35_CS31082_01</td>\n",
       "      <td>Pr 2</td>\n",
       "      <td>4062.30</td>\n",
       "      <td>0.4219</td>\n",
       "      <td>-2.963</td>\n",
       "      <td>2.070</td>\n",
       "      <td>0.058</td>\n",
       "      <td>0.079</td>\n",
       "      <td>12</td>\n",
       "      <td>-0.534261</td>\n",
       "    </tr>\n",
       "    <tr>\n",
       "      <th>2</th>\n",
       "      <td>35_CS31082_01</td>\n",
       "      <td>Pr 2</td>\n",
       "      <td>5219.48</td>\n",
       "      <td>0.7953</td>\n",
       "      <td>-2.189</td>\n",
       "      <td>2.061</td>\n",
       "      <td>0.122</td>\n",
       "      <td>0.013</td>\n",
       "      <td>18</td>\n",
       "      <td>-0.543261</td>\n",
       "    </tr>\n",
       "    <tr>\n",
       "      <th>3</th>\n",
       "      <td>35_CS31082_01</td>\n",
       "      <td>Pr 2</td>\n",
       "      <td>5259.71</td>\n",
       "      <td>0.6334</td>\n",
       "      <td>-1.962</td>\n",
       "      <td>2.113</td>\n",
       "      <td>0.100</td>\n",
       "      <td>0.017</td>\n",
       "      <td>20</td>\n",
       "      <td>-0.491261</td>\n",
       "    </tr>\n",
       "  </tbody>\n",
       "</table>\n",
       "</div>"
      ],
      "text/plain": [
       "         spec_id species  wl_line   excit  gflog     pr  epr_sme  epr_fit  \\\n",
       "0  35_CS31082_01    Pr 2  4061.78  0.6333 -1.690  2.082    0.073    0.073   \n",
       "1  35_CS31082_01    Pr 2  4062.30  0.4219 -2.963  2.070    0.058    0.079   \n",
       "2  35_CS31082_01    Pr 2  5219.48  0.7953 -2.189  2.061    0.122    0.013   \n",
       "3  35_CS31082_01    Pr 2  5259.71  0.6334 -1.962  2.113    0.100    0.017   \n",
       "\n",
       "   n_iter_pr     logPR  \n",
       "0         12 -0.522261  \n",
       "1         12 -0.534261  \n",
       "2         18 -0.543261  \n",
       "3         20 -0.491261  "
      ]
     },
     "execution_count": 72,
     "metadata": {},
     "output_type": "execute_result"
    }
   ],
   "source": [
    "lines"
   ]
  },
  {
   "cell_type": "code",
   "execution_count": 150,
   "id": "1bd8eae6-0130-49cf-966f-3518c63fbd11",
   "metadata": {},
   "outputs": [
    {
     "data": {
      "image/png": "[encoded data removed]",
      "text/plain": [
       "<Figure size 576x216 with 1 Axes>"
      ]
     },
     "metadata": {
      "needs_background": "light"
     },
     "output_type": "display_data"
    }
   ],
   "source": [
    "plt.figure(figsize=(8,3))\n",
    "\n",
    "plt.scatter(lines.wl_line.values, lines['log%s' %elem.upper()].values, color='k')\n",
    "plt.errorbar(lines.wl_line.values, lines['log%s' %elem.upper()].values, fmt='k.', yerr=lines['e%s_sme' %elem].values, lw=1)\n",
    "plt.hlines(np.average(lines['log%s' %elem.upper()].values, weights=1./lines['e%s_sme' %elem].values**2.), 3800, 5300, color='C2', alpha=0.5, zorder=0)\n",
    "plt.show()"
   ]
  },
  {
   "cell_type": "code",
   "execution_count": 151,
   "id": "fc784b78-47bf-47c7-a55b-7306a7784327",
   "metadata": {},
   "outputs": [
    {
     "data": {
      "text/plain": [
       "array([4022.05, 4022.97, 4066.73, 4068.32, 4318.93, 4499.48, 4519.63,\n",
       "       4537.23, 4538.25, 4578.64])"
      ]
     },
     "execution_count": 151,
     "metadata": {},
     "output_type": "execute_result"
    }
   ],
   "source": [
    "lines.wl_line.values"
   ]
  },
  {
   "cell_type": "code",
   "execution_count": 152,
   "id": "8b347730-2455-42bf-84f8-2cdb49ce99b1",
   "metadata": {},
   "outputs": [
    {
     "data": {
      "text/plain": [
       "-0.09857645176076027"
      ]
     },
     "execution_count": 152,
     "metadata": {},
     "output_type": "execute_result"
    }
   ],
   "source": [
    "np.average(lines['log%s' %elem.upper()].values, weights=1./lines['e%s_sme' %elem].values**2.)"
   ]
  },
  {
   "cell_type": "code",
   "execution_count": null,
   "id": "abdc48ec-a3a1-448c-99ec-8db08fe4ded9",
   "metadata": {},
   "outputs": [],
   "source": []
  }
 ],
 "metadata": {
  "kernelspec": {
   "display_name": "Python 3 (ipykernel)",
   "language": "python",
   "name": "python3"
  },
  "language_info": {
   "codemirror_mode": {
    "name": "ipython",
    "version": 3
   },
   "file_extension": ".py",
   "mimetype": "text/x-python",
   "name": "python",
   "nbconvert_exporter": "python",
   "pygments_lexer": "ipython3",
   "version": "3.9.12"
  }
 },
 "nbformat": 4,
 "nbformat_minor": 5
}
