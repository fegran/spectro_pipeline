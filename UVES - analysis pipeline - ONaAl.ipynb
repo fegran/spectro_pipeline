{
 "cells": [
  {
   "cell_type": "code",
   "execution_count": 1,
   "id": "1de69ad8-eebc-43c3-8931-f9a5adb9ca2e",
   "metadata": {
    "tags": []
   },
   "outputs": [
    {
     "name": "stdout",
     "output_type": "stream",
     "text": [
      "CPU times: user 1.96 s, sys: 3.07 s, total: 5.03 s\n",
      "Wall time: 23.4 s\n"
     ]
    }
   ],
   "source": [
    "%%time\n",
    "\n",
    "from statsmodels.nonparametric.smoothers_lowess import lowess\n",
    "\n",
    "from pysme.synthesize import synthesize_spectrum\n",
    "from pysme.linelist.linelist import LineList\n",
    "from pysme.linelist.vald import ValdFile\n",
    "from pysme.sme import SME_Structure\n",
    "from pysme.util import vac2air\n",
    "from pysme.solve import solve\n",
    "from pysme.abund import Abund\n",
    "from pysme import sme as SME\n",
    "from pysme import util\n",
    "\n",
    "from joblib import Parallel, delayed\n",
    "import matplotlib.pyplot as plt\n",
    "from astropy.constants import c\n",
    "from scipy.stats import norm\n",
    "import pandas as pd\n",
    "import numpy as np\n",
    "import warnings\n",
    "import glob\n",
    "import sys\n",
    "import os\n",
    "\n",
    "warnings.filterwarnings('ignore')"
   ]
  },
  {
   "cell_type": "code",
   "execution_count": 2,
   "id": "f3759c1c-5ea4-4aec-960d-97f7867dca59",
   "metadata": {
    "tags": []
   },
   "outputs": [],
   "source": [
    "os.chdir('/home/fgran/iSpec/')\n",
    "import ispec\n",
    "sys.path.append('/home/fgran/iSpec/')"
   ]
  },
  {
   "cell_type": "code",
   "execution_count": 3,
   "id": "633140f1-87b1-4e68-8680-492a65bd906d",
   "metadata": {},
   "outputs": [],
   "source": [
    "os.environ['NUMEXPR_MAX_THREADS'] = '40' #change this number using the correct number of cores/threads in jupyter.slurm"
   ]
  },
  {
   "cell_type": "code",
   "execution_count": 4,
   "id": "872d5502-3cfa-4241-9647-9dbdc4d2a68a",
   "metadata": {
    "tags": []
   },
   "outputs": [],
   "source": [
    "#Move to the correct directory: Pristine-UVES\n",
    "os.chdir('/store/teams/cosmos/fgran/data/Pristine-UVES/')"
   ]
  },
  {
   "cell_type": "code",
   "execution_count": 5,
   "id": "f317b8a3-0598-44b9-9d32-d1111153f455",
   "metadata": {
    "tags": []
   },
   "outputs": [],
   "source": [
    "#Prepare catalogue ingestion\n",
    "uves = pd.read_csv('tmp_merged/UVES_p111_p112_pristinedr1_xgboost_logg_atm_uncs_fe_c_corr_n.csv')"
   ]
  },
  {
   "cell_type": "code",
   "execution_count": null,
   "id": "44692b1c-7ef9-433d-9524-c2710ffe7612",
   "metadata": {},
   "outputs": [],
   "source": []
  },
  {
   "cell_type": "code",
   "execution_count": 13,
   "id": "f9d4f52e-50c4-4c4e-997f-5deb911b163e",
   "metadata": {},
   "outputs": [],
   "source": [
    "wmin_O = 6295 #AA\n",
    "wmax_O = 6305 #AA\n",
    "wmin_Na = 5885 #AA\n",
    "wmax_Na = 5900 #AA\n",
    "wmin_Al = 3955 #AA\n",
    "wmax_Al = 3965 #AA\n",
    "wmin_Al = 3920 #AA Ca H&K\n",
    "wmax_Al = 3980 #AA Ca H&K"
   ]
  },
  {
   "cell_type": "code",
   "execution_count": null,
   "id": "edc34a8e-fe12-4a5f-9818-7120a0ba515f",
   "metadata": {},
   "outputs": [],
   "source": []
  },
  {
   "cell_type": "code",
   "execution_count": null,
   "id": "70ca3677-a0b5-4212-8258-da4fbcdaf75c",
   "metadata": {},
   "outputs": [],
   "source": []
  },
  {
   "cell_type": "code",
   "execution_count": null,
   "id": "37f8270a-ebab-4ac1-bab2-ef6441cc0b11",
   "metadata": {},
   "outputs": [],
   "source": []
  },
  {
   "cell_type": "code",
   "execution_count": 7,
   "id": "3d70dd3a-c3cc-4e98-92fc-8284c5ca425d",
   "metadata": {},
   "outputs": [
    {
     "name": "stderr",
     "output_type": "stream",
     "text": [
      "[2025-07-29 11:27:01,276] [INFO] [vald:loads:174]: Loading VALD file linelist/3800-6800_long.lin\n"
     ]
    },
    {
     "name": "stdout",
     "output_type": "stream",
     "text": [
      "\u001b[32mINFO - Loading VALD file linelist/3800-6800_long.lin\u001b[0m\n"
     ]
    }
   ],
   "source": [
    "linelist = pd.DataFrame(ValdFile('linelist/3800-6800_long.lin'))"
   ]
  },
  {
   "cell_type": "code",
   "execution_count": null,
   "id": "df979268-21b2-4c06-8e3f-3ffc1d5afce7",
   "metadata": {},
   "outputs": [],
   "source": []
  },
  {
   "cell_type": "code",
   "execution_count": 9,
   "id": "15a9099e-36b7-4d33-8d7b-15ae1d00d5db",
   "metadata": {},
   "outputs": [
    {
     "name": "stderr",
     "output_type": "stream",
     "text": [
      "[2025-07-29 11:27:25,713] [INFO] [vald:loads:174]: Loading VALD file linelist/3800-6800_long.lin\n"
     ]
    },
    {
     "name": "stdout",
     "output_type": "stream",
     "text": [
      "\u001b[32mINFO - Loading VALD file linelist/3800-6800_long.lin\u001b[0m\n"
     ]
    },
    {
     "name": "stderr",
     "output_type": "stream",
     "text": [
      "[2025-07-29 11:27:25,996] [INFO] [vald:loads:174]: Loading VALD file linelist/O_VALD_all.lin\n"
     ]
    },
    {
     "name": "stdout",
     "output_type": "stream",
     "text": [
      "\u001b[32mINFO - Loading VALD file linelist/O_VALD_all.lin\u001b[0m\n",
      "Number of lines in the linelist: 2903\n"
     ]
    }
   ],
   "source": [
    "linelist = pd.DataFrame(ValdFile('linelist/3800-6800_long.lin'))\n",
    "ll = pd.DataFrame(ValdFile('linelist/O_VALD_all.lin'))\n",
    "# ll_ch = pd.DataFrame(ValdFile('linelist/CH_VALD_all.lin'))\n",
    "# ll_cn = pd.DataFrame(ValdFile('linelist/CN_VALD_all.lin'))\n",
    "linelist = pd.concat([linelist, ll.query('6295 < wlcent < 6305 and gflog > -10')])\n",
    "linelist = LineList(linedata=linelist.sort_values(by='wlcent', ascending=True), medium='air').sort()\n",
    "\n",
    "print('Number of lines in the linelist: %d' %linelist.species.size)"
   ]
  },
  {
   "cell_type": "code",
   "execution_count": 10,
   "id": "ea0ac10a-013d-4e2f-96b9-90e8197e0ba9",
   "metadata": {},
   "outputs": [
    {
     "data": {
      "text/html": [
       "<div>\n",
       "<style scoped>\n",
       "    .dataframe tbody tr th:only-of-type {\n",
       "        vertical-align: middle;\n",
       "    }\n",
       "\n",
       "    .dataframe tbody tr th {\n",
       "        vertical-align: top;\n",
       "    }\n",
       "\n",
       "    .dataframe thead th {\n",
       "        text-align: right;\n",
       "    }\n",
       "</style>\n",
       "<table border=\"1\" class=\"dataframe\">\n",
       "  <thead>\n",
       "    <tr style=\"text-align: right;\">\n",
       "      <th></th>\n",
       "      <th>species</th>\n",
       "      <th>wlcent</th>\n",
       "      <th>gflog</th>\n",
       "      <th>excit</th>\n",
       "      <th>j_lo</th>\n",
       "      <th>e_upp</th>\n",
       "      <th>j_up</th>\n",
       "      <th>lande_lower</th>\n",
       "      <th>lande_upper</th>\n",
       "      <th>lande</th>\n",
       "      <th>...</th>\n",
       "      <th>gamvw</th>\n",
       "      <th>depth</th>\n",
       "      <th>reference</th>\n",
       "      <th>couple_lower</th>\n",
       "      <th>term_lower</th>\n",
       "      <th>couple_upper</th>\n",
       "      <th>term_upper</th>\n",
       "      <th>error</th>\n",
       "      <th>atom_number</th>\n",
       "      <th>ionization</th>\n",
       "    </tr>\n",
       "  </thead>\n",
       "  <tbody>\n",
       "    <tr>\n",
       "      <th>2865</th>\n",
       "      <td>O 1</td>\n",
       "      <td>6300.304</td>\n",
       "      <td>-9.776</td>\n",
       "      <td>0.0</td>\n",
       "      <td>2.0</td>\n",
       "      <td>1.9674</td>\n",
       "      <td>2.0</td>\n",
       "      <td>99.0</td>\n",
       "      <td>99.0</td>\n",
       "      <td>99.0</td>\n",
       "      <td>...</td>\n",
       "      <td>0.0</td>\n",
       "      <td>NaN</td>\n",
       "      <td>NB+    C   CNO, Na 1, Mg 1:   5 wl:NIST10   5 ...</td>\n",
       "      <td>LS</td>\n",
       "      <td>2s2.2p4 3P</td>\n",
       "      <td>LS</td>\n",
       "      <td>2s2.2p4 1D</td>\n",
       "      <td>0.07</td>\n",
       "      <td>1.0</td>\n",
       "      <td>1.0</td>\n",
       "    </tr>\n",
       "  </tbody>\n",
       "</table>\n",
       "<p>1 rows × 22 columns</p>\n",
       "</div>"
      ],
      "text/plain": [
       "     species    wlcent  gflog  excit  j_lo   e_upp  j_up  lande_lower  \\\n",
       "2865     O 1  6300.304 -9.776    0.0   2.0  1.9674   2.0         99.0   \n",
       "\n",
       "      lande_upper  lande  ...  gamvw  depth  \\\n",
       "2865         99.0   99.0  ...    0.0    NaN   \n",
       "\n",
       "                                              reference  couple_lower  \\\n",
       "2865  NB+    C   CNO, Na 1, Mg 1:   5 wl:NIST10   5 ...            LS   \n",
       "\n",
       "      term_lower couple_upper  term_upper error atom_number  ionization  \n",
       "2865  2s2.2p4 3P           LS  2s2.2p4 1D  0.07         1.0         1.0  \n",
       "\n",
       "[1 rows x 22 columns]"
      ]
     },
     "execution_count": 10,
     "metadata": {},
     "output_type": "execute_result"
    }
   ],
   "source": [
    "pd.DataFrame(linelist).query('species == \"O 1\"')"
   ]
  },
  {
   "cell_type": "code",
   "execution_count": 11,
   "id": "50f4dadb-63af-485d-9ee8-a6321827bf8c",
   "metadata": {
    "tags": []
   },
   "outputs": [],
   "source": [
    "#Create solar scaled atmosphere with [alpha/Fe] = +0.4\n",
    "solar = SME_Structure()\n",
    "solar.abund = Abund(0.0, 'asplund2009')\n",
    "\n",
    "abund = solar.abund.pattern\n",
    "abund['O'] = abund['O'] + 0.4\n",
    "abund['Ne'] = abund['Ne'] + 0.4\n",
    "abund['Mg'] = abund['Mg'] + 0.4\n",
    "abund['Si'] = abund['Si'] + 0.4\n",
    "abund['S'] = abund['S'] + 0.4\n",
    "abund['Ar'] = abund['Ar'] + 0.4\n",
    "abund['Ca'] = abund['Ca'] + 0.4\n",
    "abund['Ti'] = abund['Ti'] + 0.4"
   ]
  },
  {
   "cell_type": "code",
   "execution_count": null,
   "id": "fd397b02-2880-45da-85c5-eed14152b3a2",
   "metadata": {
    "tags": []
   },
   "outputs": [],
   "source": []
  },
  {
   "cell_type": "code",
   "execution_count": 14,
   "id": "ea74fbff-8486-492e-8c7b-0a1dca417576",
   "metadata": {},
   "outputs": [],
   "source": [
    "#SME parallel and init functions"
   ]
  },
  {
   "cell_type": "code",
   "execution_count": 42,
   "id": "ca3bd5e0-94a1-4559-8665-aaa386b1ec27",
   "metadata": {},
   "outputs": [],
   "source": [
    "def sme_init(wave, spec, uncs, teff, logg, monh, vmic, vmac, abund, vrad_flag, linelist, ipress, vrad_bounds, elems_to_include, wl_min, wl_max):\n",
    "\n",
    "    #SME definitions\n",
    "    sme = SME_Structure()\n",
    "\n",
    "    sme.ipres, sme.iptype, sme.gam6, sme.h2broad = ipress, 'gauss', True, True\n",
    "    sme.atmo.source, sme.atmo.method, sme.atmo.geom = 'marcs2012s_t2.0.sav', 'grid', 'SPH'\n",
    "\n",
    "    sme.accxt, sme.accgt, sme.accft = tol, tol, tol\n",
    "    sme.leastsquare3_ftol, sme.leastsquares_gtol, sme.leastsquares_xtol = tol, tol, tol\n",
    "    sme.accwi, sme.accrt, sme.clim, sme.chirat = tol, tol, tol, tol\n",
    "    sme.vrad_bounds = vrad_bounds\n",
    "\n",
    "    # Redirect output to logs/RUN*/*.txt\n",
    "    util.start_logging(log_file='logs/UVES_ONaAl.txt', level='ERROR')\n",
    "\n",
    "    sme.cscale_flag = 'cubic' # 'constant'\n",
    "    # sme.cscale = 1.0\n",
    "    sme.cscale_type = 'spline+mask'\n",
    "    sme.fitresults.maxiter = 100\n",
    "\n",
    "    if 'O 1' in elems_to_include: sme.cscale = 1.0\n",
    "\n",
    "    sme.wave = wave\n",
    "    sme.spec = spec\n",
    "    sme.uncs = uncs\n",
    "\n",
    "    # The mask values are: 0: bad pixel, 1: line pixel, 2: continuum pixel\n",
    "    line_regions = np.ones(wave.size)\n",
    "    line_regions[sme.spec.data == 0.0] = 0\n",
    "    line_regions[(sme.spec.data > np.percentile(sme.spec.data, 35)) & (sme.spec.data < np.percentile(sme.spec.data, 75))] = 2\n",
    "    line_regions = line_regions.astype(int)\n",
    "    sme.mask = line_regions\n",
    "    del line_regions\n",
    "\n",
    "    sme.linelist = linelist[(linelist.wlcent > wl_min) & (linelist.wlcent < wl_max)]\n",
    "\n",
    "    #Abundance scaling to create realistic synthetics\n",
    "    sme.abund = abund\n",
    "    #RV determination for each chip\n",
    "    sme.vrad_flag = vrad_flag\n",
    "\n",
    "    #Fixed values from pysme\n",
    "    sme.teff = teff\n",
    "    sme.logg = logg\n",
    "    sme.monh = monh\n",
    "    sme.vmic = vmic\n",
    "    sme.vmac = vmac\n",
    "    \n",
    "    return sme"
   ]
  },
  {
   "cell_type": "code",
   "execution_count": 43,
   "id": "a730954c-ebbe-43cd-a1f7-13daf58b6830",
   "metadata": {
    "tags": []
   },
   "outputs": [],
   "source": [
    "def sme_parallel(i, input_row, elems_to_include, vrad_flag, ipress, wl_min, wl_max, is_nlte, tol=1e-5):\n",
    "\n",
    "    #Load data to create SME structures\n",
    "    if 'Al 1' in elems_to_include:\n",
    "        spectra = ispec.read_spectrum('norm_RV_corr/%s/blue_%s' %(input_row.run, input_row.blue_file))\n",
    "        spectra.waveobs = spectra.waveobs * 10.\n",
    "        spectra.err[spectra.err == 0.0] = 1.0\n",
    "    \n",
    "    if 'O 1' in elems_to_include:\n",
    "        spectra = ispec.read_spectrum('norm_RV_corr/%s/red2_%s' %(input_row.run, input_row.red_file))\n",
    "        spectra.waveobs = spectra.waveobs * 10.\n",
    "        spectra.err[spectra.err == 0.0] = 1.0\n",
    "\n",
    "    if 'Na 1' in elems_to_include:\n",
    "        spectra = ispec.read_spectrum('norm_RV_corr/%s/red2_%s' %(input_row.run, input_row.red_file))\n",
    "        spectra.waveobs = spectra.waveobs * 10.\n",
    "        spectra.err[spectra.err == 0.0] = 1.0\n",
    "        \n",
    "    wave = spectra.waveobs[(spectra.waveobs > wl_min) & (spectra.waveobs < wl_max)]\n",
    "    spec = spectra.flux[(spectra.waveobs > wl_min) & (spectra.waveobs < wl_max)]\n",
    "    uncs = 1./spectra.err[(spectra.waveobs > wl_min) & (spectra.waveobs < wl_max)]\n",
    "\n",
    "    #Renormalisation for Al\n",
    "    # if 'Al 1' in elems_to_include: spec = spec/lowess(spec, wave, frac=0.2, it=15)[:, 1]\n",
    "    # spec = spec + (1. - np.median(spec))\n",
    "\n",
    "    del spectra\n",
    "\n",
    "    #input from pysme\n",
    "    teff = input_row.teff\n",
    "    logg = input_row.logg\n",
    "    monh = input_row.monh\n",
    "    vmic = input_row.vmic\n",
    "    vmac = input_row.vmac\n",
    "\n",
    "    sme = sme_init(wave, spec, uncs, teff, logg, monh, vmic, vmac, abund, vrad_flag, linelist, ipress = ipress, vrad_bounds = (-1,1), elems_to_include = elems_to_include, wl_min=wl_min, wl_max=wl_max)\n",
    "    del wave, spec, uncs\n",
    "\n",
    "    sme.abund.update_pattern({'Fe':input_row.fe})\n",
    "    if 'Al 1' in elems_to_include: sme.abund.update_pattern({'C':input_row.c})\n",
    "\n",
    "    #NLTE\n",
    "    # sme.nlte.set_nlte('Fe', 'nlte_Fe_ama51_Feb2022_pysme.grd')\n",
    "    if is_nlte and ('Al 1' in elems_to_include): sme.nlte.set_nlte('Al', 'nlte_Al_pysme.grd')\n",
    "    if is_nlte and ('Na 1' in elems_to_include): sme.nlte.set_nlte('Na', 'nlte_Na_pysme.grd')\n",
    "    if is_nlte and ('O 1'  in elems_to_include): sme.nlte.set_nlte('O' , 'nlte_O_pysme.grd')\n",
    "    \n",
    "    #Do the heavy lifting with\n",
    "    if 'Al 1' in elems_to_include: fitparameters = ['abund Al']\n",
    "    if 'Na 1' in elems_to_include: fitparameters = ['abund Na']\n",
    "    if 'O 1'  in elems_to_include: fitparameters = ['abund O']\n",
    "    \n",
    "    sme = solve(sme, fitparameters)\n",
    "\n",
    "    elem, eelem_sme, eelem_fit, n_iter_elem = sme.fitresults.values[0], sme.fitresults.uncertainties[0], sme.fitresults.fit_uncertainties[0], sme.fitresults.iterations\n",
    "    eelem_rms = eelem_sme\n",
    "    \n",
    "    sme.save('sme_save/uves_elem_%s_lines_%s' %(elems_to_include[0].replace(' ', '').lower(), input_row.spec_id))\n",
    "    del sme\n",
    "\n",
    "    if 'Al 1' in elems_to_include:\n",
    "        columns = ['spec_id', 'al1', 'eal1_rms', 'eal1_sme', 'n_lines_al1', 'min_iters_al1']\n",
    "        n_lines = 2\n",
    "    if 'Na 1' in elems_to_include:\n",
    "        columns = ['spec_id', 'na1', 'ena1_rms', 'ena1_sme', 'n_lines_na1', 'min_iters_na1']\n",
    "        n_lines = 2\n",
    "    if 'O 1'  in elems_to_include:\n",
    "        columns = ['spec_id', 'o1',  'eo1_rms',  'eo1_sme',   'n_lines_o1', 'min_iters_o1' ]\n",
    "        n_lines = 1\n",
    "    \n",
    "    data_to_write = np.vstack((input_row.spec_id, elem, eelem_rms, eelem_sme, n_lines, n_iter_elem)).T\n",
    "    del elem, eelem_sme, eelem_fit, n_iter_elem\n",
    "\n",
    "    pd.DataFrame(data=data_to_write, columns=columns).to_csv('abunds_merged/uves_lines_%s_merged.csv' %elems_to_include[0].replace(' ', '').lower(), index=False, header=False, mode='a')\n",
    "    del data_to_write\n",
    "\n",
    "    return"
   ]
  },
  {
   "cell_type": "code",
   "execution_count": 44,
   "id": "c3c70ea6-8a22-4314-ad5c-eeb9723774af",
   "metadata": {
    "jupyter": {
     "source_hidden": true
    }
   },
   "outputs": [],
   "source": [
    "def sme_parallel_nlte(i, input_row, elems_to_include, vrad_flag, ipress, wl_min, wl_max, is_nlte, tol=1e-5):\n",
    "\n",
    "    #Load data to create SME structures\n",
    "    if 'Al 1' in elems_to_include:\n",
    "        spectra = ispec.read_spectrum('norm_RV_corr/%s/blue_%s' %(input_row.run, input_row.blue_file))\n",
    "        spectra.waveobs = spectra.waveobs * 10.\n",
    "        spectra.err[spectra.err == 0.0] = 1.0\n",
    "    \n",
    "    if 'O 1' in elems_to_include:\n",
    "        spectra = ispec.read_spectrum('norm_RV_corr/%s/red2_%s' %(input_row.run, input_row.red_file))\n",
    "        spectra.waveobs = spectra.waveobs * 10.\n",
    "        spectra.err[spectra.err == 0.0] = 1.0\n",
    "\n",
    "    if 'Na 1' in elems_to_include:\n",
    "        spectra = ispec.read_spectrum('norm_RV_corr/%s/red2_%s' %(input_row.run, input_row.red_file))\n",
    "        spectra.waveobs = spectra.waveobs * 10.\n",
    "        spectra.err[spectra.err == 0.0] = 1.0\n",
    "        \n",
    "    wave = spectra.waveobs[(spectra.waveobs > wl_min) & (spectra.waveobs < wl_max)]\n",
    "    spec = spectra.flux[(spectra.waveobs > wl_min) & (spectra.waveobs < wl_max)]\n",
    "    uncs = 1./spectra.err[(spectra.waveobs > wl_min) & (spectra.waveobs < wl_max)]\n",
    "\n",
    "    #Renormalisation for Al\n",
    "    if 'Al 1' in elems_to_include: spec = spec/lowess(spec, wave, frac=0.2, it=15)[:, 1]\n",
    "    spec = spec + (1. - np.median(spec))\n",
    "\n",
    "    del spectra\n",
    "\n",
    "    #input from pysme\n",
    "    teff = input_row.teff\n",
    "    logg = input_row.logg\n",
    "    monh = input_row.monh\n",
    "    vmic = input_row.vmic\n",
    "    vmac = input_row.vmac\n",
    "\n",
    "    sme = sme_init(wave, spec, uncs, teff, logg, monh, vmic, vmac, abund, vrad_flag, linelist, ipress = ipress, vrad_bounds = (-1,1), elems_to_include = elems_to_include, wl_min=wl_min, wl_max=wl_max)\n",
    "    del wave, spec, uncs\n",
    "\n",
    "    sme.abund.update_pattern({'Fe':input_row.fe})\n",
    "    if 'Al 1' in elems_to_include: sme.abund.update_pattern({'C':input_row.c})\n",
    "\n",
    "    #NLTE\n",
    "    # sme.nlte.set_nlte('Fe', 'nlte_Fe_ama51_Feb2022_pysme.grd')\n",
    "    if 'Al 1' in elems_to_include: sme.nlte.set_nlte('Al', 'nlte_Al_pysme.grd')\n",
    "    if 'Na 1' in elems_to_include: sme.nlte.set_nlte('Na', 'nlte_Na_pysme.grd')\n",
    "    if 'O 1'  in elems_to_include: sme.nlte.set_nlte('O' , 'nlte_O_pysme.grd')\n",
    "    \n",
    "    #Do the heavy lifting with\n",
    "    if 'Al 1' in elems_to_include: fitparameters = ['abund Al']\n",
    "    if 'Na 1' in elems_to_include: fitparameters = ['abund Na']\n",
    "    if 'O 1'  in elems_to_include: fitparameters = ['abund O']\n",
    "    \n",
    "    sme = solve(sme, fitparameters)\n",
    "\n",
    "    elem, eelem_sme, eelem_fit, n_iter_elem = sme.fitresults.values[0], sme.fitresults.uncertainties[0], sme.fitresults.fit_uncertainties[0], sme.fitresults.iterations\n",
    "    eelem_rms = eelem_sme\n",
    "    \n",
    "    sme.save('sme_save/uves_elem_%s_nlte_lines_%s' %(elems_to_include[0].replace(' ', '').lower(), input_row.spec_id))\n",
    "    del sme\n",
    "\n",
    "    if 'Al 1' in elems_to_include:\n",
    "        columns = ['spec_id', 'al1', 'eal1_rms', 'eal1_sme', 'n_lines_al1', 'min_iters_al1']\n",
    "        n_lines = 2\n",
    "    if 'Na 1' in elems_to_include:\n",
    "        columns = ['spec_id', 'na1', 'ena1_rms', 'ena1_sme', 'n_lines_na1', 'min_iters_na1']\n",
    "        n_lines = 2\n",
    "    if 'O 1'  in elems_to_include:\n",
    "        columns = ['spec_id', 'o1',  'eo1_rms',  'eo1_sme',   'n_lines_o1', 'min_iters_o1' ]\n",
    "        n_lines = 1\n",
    "    \n",
    "    data_to_write = np.vstack((input_row.spec_id, elem, eelem_rms, eelem_sme, n_lines, n_iter_elem)).T\n",
    "    del elem, eelem_sme, eelem_fit, n_iter_elem\n",
    "\n",
    "    pd.DataFrame(data=data_to_write, columns=columns).to_csv('abunds_merged/uves_lines_%s_nlte_merged.csv' %elems_to_include[0].replace(' ', '').lower(), index=False, header=False, mode='a')\n",
    "    del data_to_write\n",
    "\n",
    "    return"
   ]
  },
  {
   "cell_type": "code",
   "execution_count": null,
   "id": "e27f33f5-08c1-48e7-a6b0-33578c2cdf68",
   "metadata": {},
   "outputs": [],
   "source": []
  },
  {
   "cell_type": "code",
   "execution_count": 66,
   "id": "22ac65a4-d070-4ec1-99c1-ad3650451b5d",
   "metadata": {},
   "outputs": [],
   "source": [
    "# %%time\n",
    "\n",
    "# elems_to_include = ['Al 1']\n",
    "# vrad_flag = 'None'\n",
    "# ipress = 42000\n",
    "# tol = 1e-4\n",
    "\n",
    "# sme = sme_parallel(25, uves.iloc[25], elems_to_include=elems_to_include, vrad_flag=vrad_flag, ipress=ipress, tol=tol, wl_min=wmin_Al, wl_max=wmax_Al, is_nlte=False)"
   ]
  },
  {
   "cell_type": "code",
   "execution_count": 67,
   "id": "2b1e3919-cf32-4aaf-8d53-c62413c8fb47",
   "metadata": {
    "scrolled": true,
    "tags": []
   },
   "outputs": [
    {
     "name": "stderr",
     "output_type": "stream",
     "text": [
      "[Parallel(n_jobs=40)]: Using backend LokyBackend with 40 concurrent workers.\n",
      "/misc/store/home_zztop/fgran/.local/lib/python3.9/site-packages/scipy/__init__.py:155: UserWarning: A NumPy version >=1.18.5 and <1.26.0 is required for this version of SciPy (detected version 1.26.4\n",
      "  warnings.warn(f\"A NumPy version >={np_minversion} and <{np_maxversion}\"\n",
      "/misc/store/home_zztop/fgran/.local/lib/python3.9/site-packages/scipy/__init__.py:155: UserWarning: A NumPy version >=1.18.5 and <1.26.0 is required for this version of SciPy (detected version 1.26.4\n",
      "  warnings.warn(f\"A NumPy version >={np_minversion} and <{np_maxversion}\"\n",
      "/misc/store/home_zztop/fgran/.local/lib/python3.9/site-packages/scipy/__init__.py:155: UserWarning: A NumPy version >=1.18.5 and <1.26.0 is required for this version of SciPy (detected version 1.26.4\n",
      "  warnings.warn(f\"A NumPy version >={np_minversion} and <{np_maxversion}\"\n",
      "/misc/store/home_zztop/fgran/.local/lib/python3.9/site-packages/scipy/__init__.py:155: UserWarning: A NumPy version >=1.18.5 and <1.26.0 is required for this version of SciPy (detected version 1.26.4\n",
      "  warnings.warn(f\"A NumPy version >={np_minversion} and <{np_maxversion}\"\n",
      "/misc/store/home_zztop/fgran/.local/lib/python3.9/site-packages/scipy/__init__.py:155: UserWarning: A NumPy version >=1.18.5 and <1.26.0 is required for this version of SciPy (detected version 1.26.4\n",
      "  warnings.warn(f\"A NumPy version >={np_minversion} and <{np_maxversion}\"\n",
      "/misc/store/home_zztop/fgran/.local/lib/python3.9/site-packages/scipy/__init__.py:155: UserWarning: A NumPy version >=1.18.5 and <1.26.0 is required for this version of SciPy (detected version 1.26.4\n",
      "  warnings.warn(f\"A NumPy version >={np_minversion} and <{np_maxversion}\"\n",
      "/misc/store/home_zztop/fgran/.local/lib/python3.9/site-packages/scipy/__init__.py:155: UserWarning: A NumPy version >=1.18.5 and <1.26.0 is required for this version of SciPy (detected version 1.26.4\n",
      "  warnings.warn(f\"A NumPy version >={np_minversion} and <{np_maxversion}\"\n",
      "/misc/store/home_zztop/fgran/.local/lib/python3.9/site-packages/scipy/__init__.py:155: UserWarning: A NumPy version >=1.18.5 and <1.26.0 is required for this version of SciPy (detected version 1.26.4\n",
      "  warnings.warn(f\"A NumPy version >={np_minversion} and <{np_maxversion}\"\n",
      "/misc/store/home_zztop/fgran/.local/lib/python3.9/site-packages/scipy/__init__.py:155: UserWarning: A NumPy version >=1.18.5 and <1.26.0 is required for this version of SciPy (detected version 1.26.4\n",
      "  warnings.warn(f\"A NumPy version >={np_minversion} and <{np_maxversion}\"\n",
      "/misc/store/home_zztop/fgran/.local/lib/python3.9/site-packages/scipy/__init__.py:155: UserWarning: A NumPy version >=1.18.5 and <1.26.0 is required for this version of SciPy (detected version 1.26.4\n",
      "  warnings.warn(f\"A NumPy version >={np_minversion} and <{np_maxversion}\"\n",
      "/misc/store/home_zztop/fgran/.local/lib/python3.9/site-packages/scipy/__init__.py:155: UserWarning: A NumPy version >=1.18.5 and <1.26.0 is required for this version of SciPy (detected version 1.26.4\n",
      "  warnings.warn(f\"A NumPy version >={np_minversion} and <{np_maxversion}\"\n",
      "/misc/store/home_zztop/fgran/.local/lib/python3.9/site-packages/scipy/__init__.py:155: UserWarning: A NumPy version >=1.18.5 and <1.26.0 is required for this version of SciPy (detected version 1.26.4\n",
      "  warnings.warn(f\"A NumPy version >={np_minversion} and <{np_maxversion}\"\n",
      "/misc/store/home_zztop/fgran/.local/lib/python3.9/site-packages/scipy/__init__.py:155: UserWarning: A NumPy version >=1.18.5 and <1.26.0 is required for this version of SciPy (detected version 1.26.4\n",
      "  warnings.warn(f\"A NumPy version >={np_minversion} and <{np_maxversion}\"\n",
      "/misc/store/home_zztop/fgran/.local/lib/python3.9/site-packages/scipy/__init__.py:155: UserWarning: A NumPy version >=1.18.5 and <1.26.0 is required for this version of SciPy (detected version 1.26.4\n",
      "  warnings.warn(f\"A NumPy version >={np_minversion} and <{np_maxversion}\"\n",
      "/misc/store/home_zztop/fgran/.local/lib/python3.9/site-packages/scipy/__init__.py:155: UserWarning: A NumPy version >=1.18.5 and <1.26.0 is required for this version of SciPy (detected version 1.26.4\n",
      "  warnings.warn(f\"A NumPy version >={np_minversion} and <{np_maxversion}\"\n",
      "/misc/store/home_zztop/fgran/.local/lib/python3.9/site-packages/scipy/__init__.py:155: UserWarning: A NumPy version >=1.18.5 and <1.26.0 is required for this version of SciPy (detected version 1.26.4\n",
      "  warnings.warn(f\"A NumPy version >={np_minversion} and <{np_maxversion}\"\n",
      "/misc/store/home_zztop/fgran/.local/lib/python3.9/site-packages/scipy/__init__.py:155: UserWarning: A NumPy version >=1.18.5 and <1.26.0 is required for this version of SciPy (detected version 1.26.4\n",
      "  warnings.warn(f\"A NumPy version >={np_minversion} and <{np_maxversion}\"\n",
      "/misc/store/home_zztop/fgran/.local/lib/python3.9/site-packages/scipy/__init__.py:155: UserWarning: A NumPy version >=1.18.5 and <1.26.0 is required for this version of SciPy (detected version 1.26.4\n",
      "  warnings.warn(f\"A NumPy version >={np_minversion} and <{np_maxversion}\"\n",
      "/misc/store/home_zztop/fgran/.local/lib/python3.9/site-packages/scipy/__init__.py:155: UserWarning: A NumPy version >=1.18.5 and <1.26.0 is required for this version of SciPy (detected version 1.26.4\n",
      "  warnings.warn(f\"A NumPy version >={np_minversion} and <{np_maxversion}\"\n",
      "/misc/store/home_zztop/fgran/.local/lib/python3.9/site-packages/scipy/__init__.py:155: UserWarning: A NumPy version >=1.18.5 and <1.26.0 is required for this version of SciPy (detected version 1.26.4\n",
      "  warnings.warn(f\"A NumPy version >={np_minversion} and <{np_maxversion}\"\n",
      "/misc/store/home_zztop/fgran/.local/lib/python3.9/site-packages/scipy/__init__.py:155: UserWarning: A NumPy version >=1.18.5 and <1.26.0 is required for this version of SciPy (detected version 1.26.4\n",
      "  warnings.warn(f\"A NumPy version >={np_minversion} and <{np_maxversion}\"\n",
      "/misc/store/home_zztop/fgran/.local/lib/python3.9/site-packages/scipy/__init__.py:155: UserWarning: A NumPy version >=1.18.5 and <1.26.0 is required for this version of SciPy (detected version 1.26.4\n",
      "  warnings.warn(f\"A NumPy version >={np_minversion} and <{np_maxversion}\"\n",
      "/misc/store/home_zztop/fgran/.local/lib/python3.9/site-packages/scipy/__init__.py:155: UserWarning: A NumPy version >=1.18.5 and <1.26.0 is required for this version of SciPy (detected version 1.26.4\n",
      "  warnings.warn(f\"A NumPy version >={np_minversion} and <{np_maxversion}\"\n",
      "/misc/store/home_zztop/fgran/.local/lib/python3.9/site-packages/scipy/__init__.py:155: UserWarning: A NumPy version >=1.18.5 and <1.26.0 is required for this version of SciPy (detected version 1.26.4\n",
      "  warnings.warn(f\"A NumPy version >={np_minversion} and <{np_maxversion}\"\n",
      "/misc/store/home_zztop/fgran/.local/lib/python3.9/site-packages/scipy/__init__.py:155: UserWarning: A NumPy version >=1.18.5 and <1.26.0 is required for this version of SciPy (detected version 1.26.4\n",
      "  warnings.warn(f\"A NumPy version >={np_minversion} and <{np_maxversion}\"\n",
      "/misc/store/home_zztop/fgran/.local/lib/python3.9/site-packages/scipy/__init__.py:155: UserWarning: A NumPy version >=1.18.5 and <1.26.0 is required for this version of SciPy (detected version 1.26.4\n",
      "  warnings.warn(f\"A NumPy version >={np_minversion} and <{np_maxversion}\"\n",
      "/misc/store/home_zztop/fgran/.local/lib/python3.9/site-packages/scipy/__init__.py:155: UserWarning: A NumPy version >=1.18.5 and <1.26.0 is required for this version of SciPy (detected version 1.26.4\n",
      "  warnings.warn(f\"A NumPy version >={np_minversion} and <{np_maxversion}\"\n",
      "/misc/store/home_zztop/fgran/.local/lib/python3.9/site-packages/scipy/__init__.py:155: UserWarning: A NumPy version >=1.18.5 and <1.26.0 is required for this version of SciPy (detected version 1.26.4\n",
      "  warnings.warn(f\"A NumPy version >={np_minversion} and <{np_maxversion}\"\n",
      "/misc/store/home_zztop/fgran/.local/lib/python3.9/site-packages/scipy/__init__.py:155: UserWarning: A NumPy version >=1.18.5 and <1.26.0 is required for this version of SciPy (detected version 1.26.4\n",
      "  warnings.warn(f\"A NumPy version >={np_minversion} and <{np_maxversion}\"\n",
      "/misc/store/home_zztop/fgran/.local/lib/python3.9/site-packages/scipy/__init__.py:155: UserWarning: A NumPy version >=1.18.5 and <1.26.0 is required for this version of SciPy (detected version 1.26.4\n",
      "  warnings.warn(f\"A NumPy version >={np_minversion} and <{np_maxversion}\"\n",
      "/misc/store/home_zztop/fgran/.local/lib/python3.9/site-packages/scipy/__init__.py:155: UserWarning: A NumPy version >=1.18.5 and <1.26.0 is required for this version of SciPy (detected version 1.26.4\n",
      "  warnings.warn(f\"A NumPy version >={np_minversion} and <{np_maxversion}\"\n",
      "/misc/store/home_zztop/fgran/.local/lib/python3.9/site-packages/scipy/__init__.py:155: UserWarning: A NumPy version >=1.18.5 and <1.26.0 is required for this version of SciPy (detected version 1.26.4\n",
      "  warnings.warn(f\"A NumPy version >={np_minversion} and <{np_maxversion}\"\n",
      "/misc/store/home_zztop/fgran/.local/lib/python3.9/site-packages/scipy/__init__.py:155: UserWarning: A NumPy version >=1.18.5 and <1.26.0 is required for this version of SciPy (detected version 1.26.4\n",
      "  warnings.warn(f\"A NumPy version >={np_minversion} and <{np_maxversion}\"\n",
      "/misc/store/home_zztop/fgran/.local/lib/python3.9/site-packages/scipy/__init__.py:155: UserWarning: A NumPy version >=1.18.5 and <1.26.0 is required for this version of SciPy (detected version 1.26.4\n",
      "  warnings.warn(f\"A NumPy version >={np_minversion} and <{np_maxversion}\"\n",
      "/misc/store/home_zztop/fgran/.local/lib/python3.9/site-packages/scipy/__init__.py:155: UserWarning: A NumPy version >=1.18.5 and <1.26.0 is required for this version of SciPy (detected version 1.26.4\n",
      "  warnings.warn(f\"A NumPy version >={np_minversion} and <{np_maxversion}\"\n",
      "/misc/store/home_zztop/fgran/.local/lib/python3.9/site-packages/scipy/__init__.py:155: UserWarning: A NumPy version >=1.18.5 and <1.26.0 is required for this version of SciPy (detected version 1.26.4\n",
      "  warnings.warn(f\"A NumPy version >={np_minversion} and <{np_maxversion}\"\n",
      "/misc/store/home_zztop/fgran/.local/lib/python3.9/site-packages/scipy/__init__.py:155: UserWarning: A NumPy version >=1.18.5 and <1.26.0 is required for this version of SciPy (detected version 1.26.4\n",
      "  warnings.warn(f\"A NumPy version >={np_minversion} and <{np_maxversion}\"\n",
      "/misc/store/home_zztop/fgran/.local/lib/python3.9/site-packages/scipy/__init__.py:155: UserWarning: A NumPy version >=1.18.5 and <1.26.0 is required for this version of SciPy (detected version 1.26.4\n",
      "  warnings.warn(f\"A NumPy version >={np_minversion} and <{np_maxversion}\"\n",
      "/misc/store/home_zztop/fgran/.local/lib/python3.9/site-packages/scipy/__init__.py:155: UserWarning: A NumPy version >=1.18.5 and <1.26.0 is required for this version of SciPy (detected version 1.26.4\n",
      "  warnings.warn(f\"A NumPy version >={np_minversion} and <{np_maxversion}\"\n",
      "/misc/store/home_zztop/fgran/.local/lib/python3.9/site-packages/scipy/__init__.py:155: UserWarning: A NumPy version >=1.18.5 and <1.26.0 is required for this version of SciPy (detected version 1.26.4\n",
      "  warnings.warn(f\"A NumPy version >={np_minversion} and <{np_maxversion}\"\n",
      "/misc/store/home_zztop/fgran/.local/lib/python3.9/site-packages/scipy/__init__.py:155: UserWarning: A NumPy version >=1.18.5 and <1.26.0 is required for this version of SciPy (detected version 1.26.4\n",
      "  warnings.warn(f\"A NumPy version >={np_minversion} and <{np_maxversion}\"\n",
      "/misc/store/home_zztop/fgran/.local/lib/python3.9/site-packages/scipy/__init__.py:155: UserWarning: A NumPy version >=1.18.5 and <1.26.0 is required for this version of SciPy (detected version 1.26.4\n",
      "  warnings.warn(f\"A NumPy version >={np_minversion} and <{np_maxversion}\"\n",
      "/misc/store/home_zztop/fgran/.local/lib/python3.9/site-packages/scipy/__init__.py:155: UserWarning: A NumPy version >=1.18.5 and <1.26.0 is required for this version of SciPy (detected version 1.26.4\n",
      "  warnings.warn(f\"A NumPy version >={np_minversion} and <{np_maxversion}\"\n",
      "/misc/store/home_zztop/fgran/.local/lib/python3.9/site-packages/scipy/__init__.py:155: UserWarning: A NumPy version >=1.18.5 and <1.26.0 is required for this version of SciPy (detected version 1.26.4\n",
      "  warnings.warn(f\"A NumPy version >={np_minversion} and <{np_maxversion}\"\n",
      "/misc/store/home_zztop/fgran/.local/lib/python3.9/site-packages/scipy/__init__.py:155: UserWarning: A NumPy version >=1.18.5 and <1.26.0 is required for this version of SciPy (detected version 1.26.4\n",
      "  warnings.warn(f\"A NumPy version >={np_minversion} and <{np_maxversion}\"\n",
      "/misc/store/home_zztop/fgran/.local/lib/python3.9/site-packages/scipy/__init__.py:155: UserWarning: A NumPy version >=1.18.5 and <1.26.0 is required for this version of SciPy (detected version 1.26.4\n",
      "  warnings.warn(f\"A NumPy version >={np_minversion} and <{np_maxversion}\"\n",
      "/misc/store/home_zztop/fgran/.local/lib/python3.9/site-packages/scipy/__init__.py:155: UserWarning: A NumPy version >=1.18.5 and <1.26.0 is required for this version of SciPy (detected version 1.26.4\n",
      "  warnings.warn(f\"A NumPy version >={np_minversion} and <{np_maxversion}\"\n",
      "/misc/store/home_zztop/fgran/.local/lib/python3.9/site-packages/scipy/__init__.py:155: UserWarning: A NumPy version >=1.18.5 and <1.26.0 is required for this version of SciPy (detected version 1.26.4\n",
      "  warnings.warn(f\"A NumPy version >={np_minversion} and <{np_maxversion}\"\n",
      "/misc/store/home_zztop/fgran/.local/lib/python3.9/site-packages/scipy/__init__.py:155: UserWarning: A NumPy version >=1.18.5 and <1.26.0 is required for this version of SciPy (detected version 1.26.4\n",
      "  warnings.warn(f\"A NumPy version >={np_minversion} and <{np_maxversion}\"\n",
      "/misc/store/home_zztop/fgran/.local/lib/python3.9/site-packages/scipy/__init__.py:155: UserWarning: A NumPy version >=1.18.5 and <1.26.0 is required for this version of SciPy (detected version 1.26.4\n",
      "  warnings.warn(f\"A NumPy version >={np_minversion} and <{np_maxversion}\"\n",
      "/misc/store/home_zztop/fgran/.local/lib/python3.9/site-packages/scipy/__init__.py:155: UserWarning: A NumPy version >=1.18.5 and <1.26.0 is required for this version of SciPy (detected version 1.26.4\n",
      "  warnings.warn(f\"A NumPy version >={np_minversion} and <{np_maxversion}\"\n",
      "/misc/store/home_zztop/fgran/.local/lib/python3.9/site-packages/scipy/__init__.py:155: UserWarning: A NumPy version >=1.18.5 and <1.26.0 is required for this version of SciPy (detected version 1.26.4\n",
      "  warnings.warn(f\"A NumPy version >={np_minversion} and <{np_maxversion}\"\n",
      "/misc/store/home_zztop/fgran/.local/lib/python3.9/site-packages/scipy/__init__.py:155: UserWarning: A NumPy version >=1.18.5 and <1.26.0 is required for this version of SciPy (detected version 1.26.4\n",
      "  warnings.warn(f\"A NumPy version >={np_minversion} and <{np_maxversion}\"\n",
      "/misc/store/home_zztop/fgran/.local/lib/python3.9/site-packages/scipy/__init__.py:155: UserWarning: A NumPy version >=1.18.5 and <1.26.0 is required for this version of SciPy (detected version 1.26.4\n",
      "  warnings.warn(f\"A NumPy version >={np_minversion} and <{np_maxversion}\"\n",
      "/misc/store/home_zztop/fgran/.local/lib/python3.9/site-packages/scipy/__init__.py:155: UserWarning: A NumPy version >=1.18.5 and <1.26.0 is required for this version of SciPy (detected version 1.26.4\n",
      "  warnings.warn(f\"A NumPy version >={np_minversion} and <{np_maxversion}\"\n",
      "/misc/store/home_zztop/fgran/.local/lib/python3.9/site-packages/scipy/__init__.py:155: UserWarning: A NumPy version >=1.18.5 and <1.26.0 is required for this version of SciPy (detected version 1.26.4\n",
      "  warnings.warn(f\"A NumPy version >={np_minversion} and <{np_maxversion}\"\n",
      "/misc/store/home_zztop/fgran/.local/lib/python3.9/site-packages/scipy/__init__.py:155: UserWarning: A NumPy version >=1.18.5 and <1.26.0 is required for this version of SciPy (detected version 1.26.4\n",
      "  warnings.warn(f\"A NumPy version >={np_minversion} and <{np_maxversion}\"\n",
      "/misc/store/home_zztop/fgran/.local/lib/python3.9/site-packages/scipy/__init__.py:155: UserWarning: A NumPy version >=1.18.5 and <1.26.0 is required for this version of SciPy (detected version 1.26.4\n",
      "  warnings.warn(f\"A NumPy version >={np_minversion} and <{np_maxversion}\"\n",
      "/misc/store/home_zztop/fgran/.local/lib/python3.9/site-packages/scipy/__init__.py:155: UserWarning: A NumPy version >=1.18.5 and <1.26.0 is required for this version of SciPy (detected version 1.26.4\n",
      "  warnings.warn(f\"A NumPy version >={np_minversion} and <{np_maxversion}\"\n",
      "/misc/store/home_zztop/fgran/.local/lib/python3.9/site-packages/scipy/__init__.py:155: UserWarning: A NumPy version >=1.18.5 and <1.26.0 is required for this version of SciPy (detected version 1.26.4\n",
      "  warnings.warn(f\"A NumPy version >={np_minversion} and <{np_maxversion}\"\n",
      "/misc/store/home_zztop/fgran/.local/lib/python3.9/site-packages/scipy/__init__.py:155: UserWarning: A NumPy version >=1.18.5 and <1.26.0 is required for this version of SciPy (detected version 1.26.4\n",
      "  warnings.warn(f\"A NumPy version >={np_minversion} and <{np_maxversion}\"\n",
      "/misc/store/home_zztop/fgran/.local/lib/python3.9/site-packages/scipy/__init__.py:155: UserWarning: A NumPy version >=1.18.5 and <1.26.0 is required for this version of SciPy (detected version 1.26.4\n",
      "  warnings.warn(f\"A NumPy version >={np_minversion} and <{np_maxversion}\"\n",
      "/misc/store/home_zztop/fgran/.local/lib/python3.9/site-packages/scipy/__init__.py:155: UserWarning: A NumPy version >=1.18.5 and <1.26.0 is required for this version of SciPy (detected version 1.26.4\n",
      "  warnings.warn(f\"A NumPy version >={np_minversion} and <{np_maxversion}\"\n",
      "/misc/store/home_zztop/fgran/.local/lib/python3.9/site-packages/scipy/__init__.py:155: UserWarning: A NumPy version >=1.18.5 and <1.26.0 is required for this version of SciPy (detected version 1.26.4\n",
      "  warnings.warn(f\"A NumPy version >={np_minversion} and <{np_maxversion}\"\n",
      "/misc/store/home_zztop/fgran/.local/lib/python3.9/site-packages/scipy/__init__.py:155: UserWarning: A NumPy version >=1.18.5 and <1.26.0 is required for this version of SciPy (detected version 1.26.4\n",
      "  warnings.warn(f\"A NumPy version >={np_minversion} and <{np_maxversion}\"\n",
      "/misc/store/home_zztop/fgran/.local/lib/python3.9/site-packages/scipy/__init__.py:155: UserWarning: A NumPy version >=1.18.5 and <1.26.0 is required for this version of SciPy (detected version 1.26.4\n",
      "  warnings.warn(f\"A NumPy version >={np_minversion} and <{np_maxversion}\"\n",
      "/misc/store/home_zztop/fgran/.local/lib/python3.9/site-packages/scipy/__init__.py:155: UserWarning: A NumPy version >=1.18.5 and <1.26.0 is required for this version of SciPy (detected version 1.26.4\n",
      "  warnings.warn(f\"A NumPy version >={np_minversion} and <{np_maxversion}\"\n",
      "/misc/store/home_zztop/fgran/.local/lib/python3.9/site-packages/scipy/__init__.py:155: UserWarning: A NumPy version >=1.18.5 and <1.26.0 is required for this version of SciPy (detected version 1.26.4\n",
      "  warnings.warn(f\"A NumPy version >={np_minversion} and <{np_maxversion}\"\n"
     ]
    },
    {
     "name": "stdout",
     "output_type": "stream",
     "text": [
      "CPU times: user 1.55 s, sys: 859 ms, total: 2.41 s\n",
      "Wall time: 52min 39s\n"
     ]
    },
    {
     "name": "stderr",
     "output_type": "stream",
     "text": [
      "[Parallel(n_jobs=40)]: Done 160 out of 160 | elapsed: 52.7min finished\n"
     ]
    }
   ],
   "source": [
    "%%time\n",
    "\n",
    "ipress = 42000\n",
    "tol = 1e-8\n",
    "\n",
    "elems_to_include = ['Al 1']\n",
    "vrad_flag = 'None'\n",
    "\n",
    "if os.path.exists('abunds_merged/uves_lines_%s_merged.csv' %elems_to_include[0].replace(' ', '').lower()):\n",
    "    os.system('rm abunds_merged/uves_lines_%s_merged.csv' %elems_to_include[0].replace(' ', '').lower())\n",
    "\n",
    "Parallel(n_jobs=40, verbose=1)(delayed(sme_parallel)(i, input_row, elems_to_include=elems_to_include, vrad_flag=vrad_flag, \n",
    "                                                     ipress=ipress, tol=tol, wl_min=wmin_Al, wl_max=wmax_Al, is_nlte=False) for i, input_row in uves.iterrows())\n",
    "!sed -i '1i \\spec_id,al1,eal1_rms,eal1_sme,n_lines_al1,min_iters_al1' abunds_merged/uves_lines_al1_merged.csv\n",
    "\n",
    "# elems_to_include = ['Na 1']\n",
    "# vrad_flag = 'fix'\n",
    "# if os.path.exists('abunds_merged/uves_lines_%s_merged.csv' %elems_to_include[0].replace(' ', '').lower()):\n",
    "#     os.system('rm abunds_merged/uves_lines_%s_merged.csv' %elems_to_include[0].replace(' ', '').lower())\n",
    "# Parallel(n_jobs=50, verbose=1)(delayed(sme_parallel)(i, input_row, elems_to_include=elems_to_include, vrad_flag=vrad_flag, \n",
    "#                                                      ipress=ipress, tol=tol, wl_min=wmin_Na, wl_max=wmax_Na, is_nlte=False) for i, input_row in uves.iterrows())\n",
    "# !sed -i '1i \\spec_id,na1,ena1_rms,ena1_sme,n_lines_na1,min_iters_na1' abunds_merged/uves_lines_na1_merged.csv\n",
    "\n",
    "# elems_to_include = ['O 1']\n",
    "# vrad_flag = 'fix'\n",
    "# if os.path.exists('abunds_merged/uves_lines_%s_merged.csv' %elems_to_include[0].replace(' ', '').lower()):\n",
    "#     os.system('rm abunds_merged/uves_lines_%s_merged.csv' %elems_to_include[0].replace(' ', '').lower())\n",
    "# Parallel(n_jobs=50, verbose=1)(delayed(sme_parallel)(i, input_row, elems_to_include=elems_to_include, vrad_flag=vrad_flag, \n",
    "#                                                      ipress=ipress, tol=tol, wl_min=wmin_O, wl_max=wmax_O, is_nlte=False) for i, input_row in uves.iterrows())\n",
    "# !sed -i '1i \\spec_id,o1,eo1_rms,eo1_sme,n_lines_o1,min_iters_o1' abunds_merged/uves_lines_o1_merged.csv"
   ]
  },
  {
   "cell_type": "code",
   "execution_count": 19,
   "id": "b4534bb5-22c5-426b-a5c2-95633a597f1f",
   "metadata": {
    "scrolled": true
   },
   "outputs": [],
   "source": [
    "# %%time\n",
    "\n",
    "# ipress = 42000\n",
    "# tol = 1e-8\n",
    "\n",
    "# elems_to_include = ['Al 1']\n",
    "# vrad_flag = 'whole'\n",
    "# if os.path.exists('abunds_merged/uves_lines_%s_nlte_merged.csv' %elems_to_include[0].replace(' ', '').lower()):\n",
    "#     os.system('rm abunds_merged/uves_lines_%s_nlte_merged.csv' %elems_to_include[0].replace(' ', '').lower())\n",
    "\n",
    "# Parallel(n_jobs=50, verbose=1)(delayed(sme_parallel_nlte)(i, input_row, elems_to_include=elems_to_include, vrad_flag=vrad_flag, \n",
    "#                                                      ipress=ipress, tol=tol, wl_min=wmin_Al, wl_max=wmax_Al, is_nlte=True) for i, input_row in uves.iterrows())\n",
    "# !sed -i '1i \\spec_id,al1_nlte,eal1_nlte_rms,eal1_nlte_sme,n_lines_al1_nlte,min_iters_al1_nlte' abunds_merged/uves_lines_al1_nlte_merged.csv\n",
    "\n",
    "# elems_to_include = ['Na 1']\n",
    "# vrad_flag = 'fix'\n",
    "# if os.path.exists('abunds_merged/uves_lines_%s_nlte_merged.csv' %elems_to_include[0].replace(' ', '').lower()):\n",
    "#     os.system('rm abunds_merged/uves_lines_%s_nlte_merged.csv' %elems_to_include[0].replace(' ', '').lower())\n",
    "# Parallel(n_jobs=50, verbose=1)(delayed(sme_parallel_nlte)(i, input_row, elems_to_include=elems_to_include, vrad_flag=vrad_flag, \n",
    "#                                                      ipress=ipress, tol=tol, wl_min=wmin_Na, wl_max=wmax_Na, is_nlte=True) for i, input_row in uves.iterrows())\n",
    "# !sed -i '1i \\spec_id,na1_nlte,ena1_nlte_rms,ena1_nlte_sme,n_lines_na1_nlte,min_iters_na1_nlte' abunds_merged/uves_lines_na1_nlte_merged.csv\n",
    "\n",
    "# elems_to_include = ['O 1']\n",
    "# vrad_flag = 'fix'\n",
    "# if os.path.exists('abunds_merged/uves_lines_%s_nlte_merged.csv' %elems_to_include[0].replace(' ', '').lower()):\n",
    "#     os.system('rm abunds_merged/uves_lines_%s_nlte_merged.csv' %elems_to_include[0].replace(' ', '').lower())\n",
    "# Parallel(n_jobs=50, verbose=1)(delayed(sme_parallel_nlte)(i, input_row, elems_to_include=elems_to_include, vrad_flag=vrad_flag, \n",
    "#                                                      ipress=ipress, tol=tol, wl_min=wmin_O, wl_max=wmax_O, is_nlte=True) for i, input_row in uves.iterrows())\n",
    "# !sed -i '1i \\spec_id,o1_nlte,eo1_nlte_rms,eo1_nlte_sme,n_lines_o1_nlte,min_iters_o1_nlte' abunds_merged/uves_lines_o1_nlte_merged.csv"
   ]
  },
  {
   "cell_type": "code",
   "execution_count": null,
   "id": "7f38f2f2-d509-49b4-ae1e-321c62a9f1b7",
   "metadata": {},
   "outputs": [],
   "source": []
  },
  {
   "cell_type": "code",
   "execution_count": 18,
   "id": "b04b148b-2721-404a-8748-a4e01398e9b9",
   "metadata": {
    "tags": []
   },
   "outputs": [],
   "source": [
    "#Plotting "
   ]
  },
  {
   "cell_type": "code",
   "execution_count": 124,
   "id": "f957f2c6-23c8-4ad3-b471-3ec3aff38bbe",
   "metadata": {},
   "outputs": [],
   "source": [
    "sme = SME_Structure.load('sme_save/uves_elem_o1_lines_6723486463964965120_3576295_071.sme')"
   ]
  },
  {
   "cell_type": "code",
   "execution_count": 125,
   "id": "df1c98b7-1e38-4048-8043-6f4cb2c10542",
   "metadata": {
    "tags": []
   },
   "outputs": [
    {
     "data": {
      "image/png": "[encoded data removed]",
      "text/plain": [
       "<Figure size 1500x600 with 1 Axes>"
      ]
     },
     "metadata": {
      "needs_background": "light"
     },
     "output_type": "display_data"
    }
   ],
   "source": [
    "plt.figure(figsize=(15,6), dpi=100)\n",
    "plt.plot(sme.wave.data, sme.spec.data, lw=1, color='k')\n",
    "plt.plot(sme.wave.data, sme.synth.data, color='C2', lw=1.5, alpha=0.5)\n",
    "\n",
    "elem_to_plot = 'O 1'\n",
    "for wline, species, depth in sme.linelist[['wlcent', 'species', 'depth']]:\n",
    "\n",
    "    if elem_to_plot in species:\n",
    "        plt.vlines(wline, 0.2, 0.25, color='C4')\n",
    "        plt.vlines(wline, 0.85, 0.87, color='C4')\n",
    "    else:\n",
    "        plt.vlines(wline, 0.1, 0.15, color='C3')\n",
    "        plt.vlines(wline, 0.81, 0.83, color='C3')\n",
    "        # plt.annotate(text='%s' %species, xy=(wline-0.15, 0.05), rotation=90)\n",
    "    # plt.annotate(text='%2.3f' %depth, xy=(wline-0.15, 0.5), rotation=90)\n",
    "    \n",
    "# plt.scatter(sme.wave.data, sme.mask.data, color='grey', s=5, alpha=0.5)\n",
    "plt.scatter(sme.wave.data[sme.mask.data == 2], sme.mask.data[sme.mask.data == 2] - 0.95, color='C4', s=5, alpha=0.5)\n",
    "\n",
    "plt.xlabel(r'Wavelength ($\\AA$)', size=15)\n",
    "plt.ylabel(r'Normalised flux', size=15)\n",
    "\n",
    "# plt.xlim(3940, 3948)\n",
    "# plt.xlim(3955, 3965)\n",
    "\n",
    "# plt.xlim(6297, 6303.0)\n",
    "# plt.ylim(0.8, 1.05)\n",
    "\n",
    "# plt.ylim(0.0, 1.1)\n",
    "plt.show()"
   ]
  },
  {
   "cell_type": "code",
   "execution_count": 118,
   "id": "c0a46651-f64e-410a-9b70-dd7d40ac081e",
   "metadata": {
    "tags": []
   },
   "outputs": [
    {
     "data": {
      "text/plain": [
       "(array([9.83136952]),\n",
       " array([4.60059294]),\n",
       " [0.4919052266483413],\n",
       " -2.880014054749,\n",
       " array([[1.00189283]]))"
      ]
     },
     "execution_count": 118,
     "metadata": {},
     "output_type": "execute_result"
    }
   ],
   "source": [
    "sme.fitresults.values, sme.fitresults.uncertainties, sme.fitresults.fit_uncertainties, sme.monh, sme.cscale"
   ]
  },
  {
   "cell_type": "code",
   "execution_count": 119,
   "id": "77786d67-b47c-4334-ab05-f29b0668af16",
   "metadata": {},
   "outputs": [
    {
     "data": {
      "text/plain": [
       "[-1.7976931348623157e+308, 1.7976931348623157e+308]"
      ]
     },
     "execution_count": 119,
     "metadata": {},
     "output_type": "execute_result"
    }
   ],
   "source": [
    "sme.cscale_bounds"
   ]
  },
  {
   "cell_type": "code",
   "execution_count": 92,
   "id": "bae20384-9a94-43f6-bc1b-a9f576f24287",
   "metadata": {},
   "outputs": [
    {
     "data": {
      "text/plain": [
       "-200.19"
      ]
     },
     "execution_count": 92,
     "metadata": {},
     "output_type": "execute_result"
    }
   ],
   "source": [
    "uves.rv_red2.values[-1]"
   ]
  },
  {
   "cell_type": "code",
   "execution_count": null,
   "id": "fdfad171-3d2a-43b9-8bd1-5d64e012d971",
   "metadata": {},
   "outputs": [],
   "source": [
    "#LOWESS regression to fir Al continuum"
   ]
  },
  {
   "cell_type": "code",
   "execution_count": 67,
   "id": "be49622c-cec6-47be-8fc7-fa1f995ece20",
   "metadata": {},
   "outputs": [],
   "source": []
  },
  {
   "cell_type": "code",
   "execution_count": 103,
   "id": "0487443e-fafc-46ff-8811-495a2ac976b3",
   "metadata": {},
   "outputs": [
    {
     "name": "stdout",
     "output_type": "stream",
     "text": [
      "CPU times: user 225 ms, sys: 13 µs, total: 225 ms\n",
      "Wall time: 227 ms\n"
     ]
    }
   ],
   "source": [
    "%%time\n",
    "# 2. Apply LOWESS for continuum fitting\n",
    "smoothed = lowess(sme.spec.data, sme.wave.data, frac=0.2, it=15)  # frac controls smoothing"
   ]
  },
  {
   "cell_type": "code",
   "execution_count": 104,
   "id": "c87e05ab-2d11-43bd-9567-d585603ea4a9",
   "metadata": {},
   "outputs": [
    {
     "data": {
      "image/png": "[encoded data removed]",
      "text/plain": [
       "<Figure size 720x432 with 1 Axes>"
      ]
     },
     "metadata": {
      "needs_background": "light"
     },
     "output_type": "display_data"
    }
   ],
   "source": [
    "# 3. Plot the original spectrum and the fitted continuum\n",
    "plt.figure(figsize=(10, 6))\n",
    "plt.plot(sme.wave.data, sme.spec.data/smoothed[:, 1], label='Noisy Spectrum', color='gray', alpha=0.7)\n",
    "plt.xlabel('Wavelength (Å)')\n",
    "plt.ylabel('Flux')\n",
    "plt.show()"
   ]
  },
  {
   "cell_type": "code",
   "execution_count": null,
   "id": "d09bd58e-2181-441c-8ece-49165ca0bf70",
   "metadata": {},
   "outputs": [],
   "source": []
  }
 ],
 "metadata": {
  "kernelspec": {
   "display_name": "Python 3 (ipykernel)",
   "language": "python",
   "name": "python3"
  },
  "language_info": {
   "codemirror_mode": {
    "name": "ipython",
    "version": 3
   },
   "file_extension": ".py",
   "mimetype": "text/x-python",
   "name": "python",
   "nbconvert_exporter": "python",
   "pygments_lexer": "ipython3",
   "version": "3.9.12"
  }
 },
 "nbformat": 4,
 "nbformat_minor": 5
}
