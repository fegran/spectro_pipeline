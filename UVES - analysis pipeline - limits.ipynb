{
 "cells": [
  {
   "cell_type": "code",
   "execution_count": 1,
   "id": "1de69ad8-eebc-43c3-8931-f9a5adb9ca2e",
   "metadata": {
    "tags": []
   },
   "outputs": [],
   "source": [
    "from pysme.linelist.vald import ValdFile\n",
    "from pysme.sme import SME_Structure\n",
    "from pysme.solve import solve\n",
    "from pysme.abund import Abund\n",
    "from pysme import sme as SME\n",
    "from pysme import util\n",
    "\n",
    "from pysme.synthesize import synthesize_spectrum\n",
    "from astropy.constants import c\n",
    "from pysme.util import vac2air\n",
    "\n",
    "from joblib import Parallel, delayed\n",
    "import matplotlib.pyplot as plt\n",
    "import pandas as pd\n",
    "import numpy as np\n",
    "import warnings\n",
    "import glob\n",
    "import sys\n",
    "import os\n",
    "\n",
    "warnings.filterwarnings('ignore')"
   ]
  },
  {
   "cell_type": "code",
   "execution_count": 2,
   "id": "f3759c1c-5ea4-4aec-960d-97f7867dca59",
   "metadata": {
    "tags": []
   },
   "outputs": [],
   "source": [
    "os.chdir('/home/fgran/iSpec/')\n",
    "import ispec\n",
    "sys.path.append('/home/fgran/iSpec/')"
   ]
  },
  {
   "cell_type": "code",
   "execution_count": 3,
   "id": "872d5502-3cfa-4241-9647-9dbdc4d2a68a",
   "metadata": {
    "tags": []
   },
   "outputs": [],
   "source": [
    "#Move to the correct directory: Pristine-UVES\n",
    "os.chdir('/store/teams/cosmos/fgran/data/Pristine-UVES/')"
   ]
  },
  {
   "cell_type": "code",
   "execution_count": 4,
   "id": "98b4ac5a-2833-4c8a-a116-876e60a91394",
   "metadata": {},
   "outputs": [],
   "source": [
    "os.environ['NUMEXPR_MAX_THREADS'] = '80' #change this number using the correct number of cores/threads in jupyter.slurm"
   ]
  },
  {
   "cell_type": "code",
   "execution_count": 5,
   "id": "b4d2273f-2f1c-4636-bbc9-cc48f889639a",
   "metadata": {
    "tags": []
   },
   "outputs": [],
   "source": [
    "#Prepare catalogue ingestion"
   ]
  },
  {
   "cell_type": "code",
   "execution_count": 6,
   "id": "f317b8a3-0598-44b9-9d32-d1111153f455",
   "metadata": {
    "tags": []
   },
   "outputs": [],
   "source": [
    "uves = pd.read_csv('uves_p111_p112_pristinedr1_xgboost_atm_means_carbon_nitrogen_limits_all_elems.csv')"
   ]
  },
  {
   "cell_type": "code",
   "execution_count": 7,
   "id": "02ea2a58-261f-4bc9-a993-957b6ecb1511",
   "metadata": {
    "tags": []
   },
   "outputs": [
    {
     "data": {
      "text/html": [
       "<div>\n",
       "<style scoped>\n",
       "    .dataframe tbody tr th:only-of-type {\n",
       "        vertical-align: middle;\n",
       "    }\n",
       "\n",
       "    .dataframe tbody tr th {\n",
       "        vertical-align: top;\n",
       "    }\n",
       "\n",
       "    .dataframe thead th {\n",
       "        text-align: right;\n",
       "    }\n",
       "</style>\n",
       "<table border=\"1\" class=\"dataframe\">\n",
       "  <thead>\n",
       "    <tr style=\"text-align: right;\">\n",
       "      <th></th>\n",
       "      <th>source_id</th>\n",
       "      <th>ebv</th>\n",
       "      <th>g0</th>\n",
       "      <th>eg</th>\n",
       "      <th>bp0</th>\n",
       "      <th>ebp</th>\n",
       "      <th>rp0</th>\n",
       "      <th>erp</th>\n",
       "      <th>cahk0</th>\n",
       "      <th>ecahk</th>\n",
       "      <th>...</th>\n",
       "      <th>zrfe</th>\n",
       "      <th>life</th>\n",
       "      <th>alfe</th>\n",
       "      <th>kfe</th>\n",
       "      <th>ofe</th>\n",
       "      <th>mofe</th>\n",
       "      <th>cefe</th>\n",
       "      <th>thfe</th>\n",
       "      <th>prfe</th>\n",
       "      <th>gdfe</th>\n",
       "    </tr>\n",
       "  </thead>\n",
       "  <tbody>\n",
       "    <tr>\n",
       "      <th>0</th>\n",
       "      <td>1166634514845213568</td>\n",
       "      <td>0.034659</td>\n",
       "      <td>11.670373</td>\n",
       "      <td>0.002767</td>\n",
       "      <td>12.097350</td>\n",
       "      <td>0.002867</td>\n",
       "      <td>11.063974</td>\n",
       "      <td>0.003820</td>\n",
       "      <td>13.051166</td>\n",
       "      <td>0.009495</td>\n",
       "      <td>...</td>\n",
       "      <td>0.009995</td>\n",
       "      <td>-2.665628</td>\n",
       "      <td>-0.833245</td>\n",
       "      <td>-2.665628</td>\n",
       "      <td>-2.265628</td>\n",
       "      <td>-2.665628</td>\n",
       "      <td>-2.665628</td>\n",
       "      <td>-2.665628</td>\n",
       "      <td>-2.665628</td>\n",
       "      <td>-2.665628</td>\n",
       "    </tr>\n",
       "    <tr>\n",
       "      <th>1</th>\n",
       "      <td>1172165023972931072</td>\n",
       "      <td>0.026574</td>\n",
       "      <td>12.876005</td>\n",
       "      <td>0.002772</td>\n",
       "      <td>13.314315</td>\n",
       "      <td>0.003091</td>\n",
       "      <td>12.258079</td>\n",
       "      <td>0.003841</td>\n",
       "      <td>14.291629</td>\n",
       "      <td>0.016091</td>\n",
       "      <td>...</td>\n",
       "      <td>0.651458</td>\n",
       "      <td>-3.166961</td>\n",
       "      <td>-0.832848</td>\n",
       "      <td>-3.166961</td>\n",
       "      <td>-2.766961</td>\n",
       "      <td>-3.166961</td>\n",
       "      <td>-3.166961</td>\n",
       "      <td>-3.166961</td>\n",
       "      <td>-3.166961</td>\n",
       "      <td>-3.166961</td>\n",
       "    </tr>\n",
       "  </tbody>\n",
       "</table>\n",
       "<p>2 rows × 249 columns</p>\n",
       "</div>"
      ],
      "text/plain": [
       "             source_id       ebv         g0        eg        bp0       ebp  \\\n",
       "0  1166634514845213568  0.034659  11.670373  0.002767  12.097350  0.002867   \n",
       "1  1172165023972931072  0.026574  12.876005  0.002772  13.314315  0.003091   \n",
       "\n",
       "         rp0       erp      cahk0     ecahk  ...      zrfe      life  \\\n",
       "0  11.063974  0.003820  13.051166  0.009495  ...  0.009995 -2.665628   \n",
       "1  12.258079  0.003841  14.291629  0.016091  ...  0.651458 -3.166961   \n",
       "\n",
       "       alfe       kfe       ofe      mofe      cefe      thfe      prfe  \\\n",
       "0 -0.833245 -2.665628 -2.265628 -2.665628 -2.665628 -2.665628 -2.665628   \n",
       "1 -0.832848 -3.166961 -2.766961 -3.166961 -3.166961 -3.166961 -3.166961   \n",
       "\n",
       "       gdfe  \n",
       "0 -2.665628  \n",
       "1 -3.166961  \n",
       "\n",
       "[2 rows x 249 columns]"
      ]
     },
     "execution_count": 7,
     "metadata": {},
     "output_type": "execute_result"
    }
   ],
   "source": [
    "uves.head(2)"
   ]
  },
  {
   "cell_type": "code",
   "execution_count": 8,
   "id": "a4ad2a5e-eb97-40e9-b6e8-2b55a7df986e",
   "metadata": {},
   "outputs": [
    {
     "data": {
      "image/png": "[encoded data removed]",
      "text/plain": [
       "<Figure size 432x288 with 1 Axes>"
      ]
     },
     "metadata": {
      "needs_background": "light"
     },
     "output_type": "display_data"
    }
   ],
   "source": [
    "plt.hist(uves.niter_eu.values, bins=50)\n",
    "plt.show()"
   ]
  },
  {
   "cell_type": "code",
   "execution_count": null,
   "id": "0697b291-7fab-4c41-a8a8-b4b801eeb1d1",
   "metadata": {},
   "outputs": [],
   "source": []
  },
  {
   "cell_type": "code",
   "execution_count": 9,
   "id": "67dcb35f-27fa-4da7-a1d5-d818ea9f2288",
   "metadata": {
    "tags": []
   },
   "outputs": [
    {
     "name": "stderr",
     "output_type": "stream",
     "text": [
      "[2024-06-20 10:55:09,910] [INFO] [vald:loads:173]: Loading VALD file linelist/VALD_korg_linelist_3000_9000.lin\n"
     ]
    },
    {
     "name": "stdout",
     "output_type": "stream",
     "text": [
      "\u001b[32mINFO - Loading VALD file linelist/VALD_korg_linelist_3000_9000.lin\u001b[0m\n"
     ]
    },
    {
     "name": "stderr",
     "output_type": "stream",
     "text": [
      "[2024-06-20 10:55:10,807] [WARNING] [vald:parse_references:530]: Could not find citation key: FBHM\n",
      "[2024-06-20 10:55:10,808] [DEBUG] [vald:parse_references:531]: 'fbhm'\n"
     ]
    },
    {
     "name": "stdout",
     "output_type": "stream",
     "text": [
      "\u001b[33mWARNING - Could not find citation key: FBHM\u001b[0m\n",
      "Number of lines in the linelist: 41861\n"
     ]
    }
   ],
   "source": [
    "#pysme that only need to be executed once\n",
    "# linelist_short_all = ValdFile('linelist/3800-6800_short.lin')\n",
    "# linelist_short_all = ValdFile('linelist/linelist_Li.lin')\n",
    "linelist_short_all = ValdFile('linelist/VALD_korg_linelist_3000_9000.lin', medium='air')\n",
    "linelist_short_all.wlcent = vac2air(linelist_short_all.wlcent, 'A')\n",
    "\n",
    "#Lithium only\n",
    "# linelist_short_all = linelist_short_all[pd.DataFrame(linelist_short_all).query(\"species == 'Li 1'\").index]\n",
    "\n",
    "# linelist_short_all = linelist_short_all[linelist_short_all.depth > 0.05]\n",
    "print('Number of lines in the linelist: %d' %linelist_short_all.species.size)\n",
    "\n",
    "delta_H_line = 10. #AA\n",
    "delta_line = 1.0 #AA\n",
    "wl_G_band = 4300 #AA\n",
    "delta_G_band = 40. #AA\n",
    "\n",
    "wl_Halpha_line = 6562.79 #AA\n",
    "delta_Halpha = 1.0 #AA\n",
    "wl_Hbeta_line = 4861.35 #AA\n",
    "delta_Hbeta = 0.75 #AA"
   ]
  },
  {
   "cell_type": "code",
   "execution_count": 10,
   "id": "10e603ce-b6ff-4bcc-8b69-2e7a820c84f7",
   "metadata": {},
   "outputs": [],
   "source": [
    "# linelist_short_all.add(species='Li 1', wlcent=6103.540, excit=1.8480, gflog=0.072, gamrad=8.020, gamqst=-4.660, gamvw=0.0)\n",
    "# linelist_short_all = linelist_short_all.sort()"
   ]
  },
  {
   "cell_type": "code",
   "execution_count": 11,
   "id": "cb46edf2-8c28-48c9-a2c5-2fb3f614403c",
   "metadata": {},
   "outputs": [],
   "source": [
    "# from pysme.linelist.linelist import LineList"
   ]
  },
  {
   "cell_type": "code",
   "execution_count": 12,
   "id": "a1d7440e-a182-4a5b-b5cf-a703b6b39c76",
   "metadata": {},
   "outputs": [],
   "source": [
    "# from io import StringIO\n",
    "\n",
    "# data_string = r\"\"\"species,wlcent,excit,vmic,gflog,gamrad,gamqst,gamvw,lande,depth,reference,atom_number,ionization\n",
    "# #Li 1,6103.540,1.8480, 1.0, 0.072,8.020,-4.660,99.000,0.011,'  62 iso:REB  62 YD  62 gf:YD  62 YD  62 YD  62 YD  62 YD (7)Li         ',1.0,1.0,1.0\n",
    "# #Li 1,6103.574,1.8480, 1.0,-1.014,8.020,-4.660,99.000,0.011,'  62 iso:REB  62 YD  62 gf:YD  62 YD  62 YD  62 YD  62 YD (7)Li         ',1.0,1.0,1.0\n",
    "# #Li 1,6103.651,1.8480, 1.0, 0.327,8.020,-4.660,99.000,0.011,'  62 iso:REB  62 YD  62 gf:YD  62 YD  62 YD  62 YD  62 YD (7)Li         ',1.0,1.0,1.0\n",
    "# #Li 1,6103.664,1.8480, 1.0,-0.627,8.020,-4.660,99.000,0.011,'  62 iso:REB  62 YD  62 gf:YD  62 YD  62 YD  62 YD  62 YD (7)Li         ',1.0,1.0,1.0\n",
    "# #Li 1,6103.686,1.8480, 1.0,-0.758,8.020,-4.660,99.000,0.011,'  62 iso:REB  62 YD  62 gf:YD  62 YD  62 YD  62 YD  62 YD (7)Li         ',1.0,1.0,1.0\n",
    "# #Li 1,6103.699,1.8480, 1.0,-1.713,8.020,-4.660,99.000,0.011,'  62 iso:REB  62 YD  62 gf:YD  62 YD  62 YD  62 YD  62 YD (7)Li         ',1.0,1.0,1.0\n",
    "# Li 1,6707.764,0.0000, 1.0,-0.036,7.560,-5.780,99.000,0.011,'  62 iso:REB  62 YD  62 gf:YD  62 YD  62 YD  62 YD  62 YD (7)Li         ',1.0,1.0,1.0\n",
    "# Li 1,6707.914,0.0000, 1.0,-0.337,7.560,-5.780,99.000,0.011,'  62 iso:REB  62 YD  62 gf:YD  62 YD  62 YD  62 YD  62 YD (7)Li         ',1.0,1.0,1.0\n",
    "# Li 1,6707.922,0.0000, 1.0,-1.122,7.560,-5.780,99.000,0.011,'  62 iso:REB  62 YD  62 gf:YD  62 YD  62 YD  62 YD  62 YD (7)Li         ',1.0,1.0,1.0\"\"\"\n",
    "\n",
    "# data_io = StringIO(data_string)\n",
    "# ll = pd.read_csv(data_io, comment='#')"
   ]
  },
  {
   "cell_type": "code",
   "execution_count": 13,
   "id": "ae0f147c-0791-499d-8388-e5dfa3a60b6f",
   "metadata": {},
   "outputs": [],
   "source": [
    "# ll.head(2)"
   ]
  },
  {
   "cell_type": "code",
   "execution_count": 14,
   "id": "123b31e0-1014-4835-b5b4-e2cf19254095",
   "metadata": {},
   "outputs": [],
   "source": [
    "# linelist_short_all = LineList(linedata=ll, medium='air')"
   ]
  },
  {
   "cell_type": "code",
   "execution_count": 15,
   "id": "823cffda-1459-4ce9-a97e-5946f2d47f83",
   "metadata": {
    "tags": []
   },
   "outputs": [],
   "source": [
    "wmin_blue = 4000 #AA\n",
    "wmax_blue = 4500 #AA\n",
    "wmin_red1 = 4730 #AA\n",
    "wmax_red1 = 5700 #AA\n",
    "wmin_red2 = 5850 #AA\n",
    "wmax_red2 = 6800 #AA"
   ]
  },
  {
   "cell_type": "code",
   "execution_count": 16,
   "id": "0d841db0-afcd-4d0b-9ae7-974a6ff1d69e",
   "metadata": {
    "tags": []
   },
   "outputs": [],
   "source": [
    "linelist_short_all = linelist_short_all[((linelist_short_all.wlcent > wmin_blue) & (linelist_short_all.wlcent < wmax_blue)) | \\\n",
    "                                         (linelist_short_all.wlcent > wmin_red1) & (linelist_short_all.wlcent < wmax_red1) | \\\n",
    "                                         (linelist_short_all.wlcent > wmin_red2) & (linelist_short_all.wlcent < wmax_red2)]"
   ]
  },
  {
   "cell_type": "code",
   "execution_count": 17,
   "id": "50f4dadb-63af-485d-9ee8-a6321827bf8c",
   "metadata": {
    "tags": []
   },
   "outputs": [],
   "source": [
    "#Create solar scaled atmosphere with [alpha/Fe] = +0.4\n",
    "solar = SME_Structure()\n",
    "solar.abund = Abund(0.0, 'asplund2009')\n",
    "\n",
    "abund = solar.abund.pattern\n",
    "abund['O'] = abund['O'] + 0.4\n",
    "abund['Ne'] = abund['Ne'] + 0.4\n",
    "abund['Mg'] = abund['Mg'] + 0.4\n",
    "abund['Si'] = abund['Si'] + 0.4\n",
    "abund['S'] = abund['S'] + 0.4\n",
    "abund['Ar'] = abund['Ar'] + 0.4\n",
    "abund['Ca'] = abund['Ca'] + 0.4\n",
    "abund['Ti'] = abund['Ti'] + 0.4"
   ]
  },
  {
   "cell_type": "code",
   "execution_count": 18,
   "id": "373a412c-f8cd-4f00-83d1-9026969451ec",
   "metadata": {
    "tags": []
   },
   "outputs": [],
   "source": [
    "# elems_to_include = ['H', 'Fe', 'Mg', 'Ti', 'Ca', 'Na'] #['Fe', 'Mg', 'Ti', 'Ca', 'Na', 'Si', 'Mn', 'Ni', 'Zr'] #['Fe', 'Mg', 'Ti', 'Ca', 'Na']\n",
    "# lines_min_depth = 0.00\n",
    "# lines_max_depth = 1.00\n",
    "# linelist_short_temp = linelist_short_all[(linelist_short_all.depth > lines_min_depth) & (linelist_short_all.depth < lines_max_depth)]\n",
    "linelist_short_temp = linelist_short_all\n",
    "# elems_to_include = ['H 1', 'Fe 1', 'Fe 2', 'Mg 1', 'Ti 1', 'Ti 2', 'Ca 1', 'Na 1'] #['H 1', 'Fe 1', 'Fe 2', 'Mg 1', 'Ti 1', 'Ti 2', 'Ca 1', 'Na 1', 'Si 1', 'Si 2', 'Mn 1', 'Mn 2', 'Ni 1', 'Zr 2']  #['Fe 1', 'Fe 2', 'Mg 1', 'Ti 1', 'Ti 2', 'Ca 1', 'Na 1']\n",
    "# f_linelist = np.asarray([True if elem in elems_to_include else False for elem in linelist_short_temp.species])\n",
    "# linelist = linelist_short_temp[f_linelist]"
   ]
  },
  {
   "cell_type": "code",
   "execution_count": 19,
   "id": "c2707702-9f87-4ab5-83fb-47941af1ab7f",
   "metadata": {
    "tags": []
   },
   "outputs": [],
   "source": [
    "#Check if the linelist contains all the elements !!"
   ]
  },
  {
   "cell_type": "code",
   "execution_count": 20,
   "id": "d6b8ce80-cb44-4328-b519-72b72de0bc35",
   "metadata": {
    "tags": []
   },
   "outputs": [
    {
     "name": "stdout",
     "output_type": "stream",
     "text": [
      "['Al 1' 'Ba 1' 'Ba 2' 'C 1' 'C2 1' 'CH 1' 'CN 1' 'Ca 1' 'Ca 2' 'Cd 1'\n",
      " 'Ce 2' 'Co 1' 'Co 2' 'Cr 1' 'Cr 2' 'Cu 1' 'Dy 1' 'Dy 2' 'Er 1' 'Er 2'\n",
      " 'Eu 2' 'Fe 1' 'Fe 2' 'Ga 1' 'Gd 2' 'Ge 1' 'H 1' 'Hf 2' 'Ho 2' 'In 1'\n",
      " 'K 1' 'La 2' 'Li 1' 'Lu 2' 'Mg 1' 'Mg 2' 'Mn 1' 'Mn 2' 'Mo 1' 'Mo 2'\n",
      " 'Na 1' 'Nb 1' 'Nb 2' 'Nd 2' 'Ni 1' 'Ni 2' 'O 1' 'Os 1' 'Pb 1' 'Pd 1'\n",
      " 'Pr 2' 'Pt 1' 'Rh 1' 'Ru 1' 'S 1' 'Sc 1' 'Sc 2' 'Si 1' 'Si 2' 'Sm 2'\n",
      " 'Sr 1' 'Sr 2' 'Tb 2' 'Th 2' 'Ti 1' 'Ti 2' 'Tl 1' 'Tm 2' 'U 2' 'V 1' 'V 2'\n",
      " 'W 1' 'Y 1' 'Y 2' 'Zn 1' 'Zr 1' 'Zr 2']\n",
      "10\n"
     ]
    }
   ],
   "source": [
    "print(np.unique(linelist_short_temp.species))\n",
    "\n",
    "ll = pd.DataFrame(linelist_short_temp)\n",
    "print(ll.query(\"species == 'Eu 2'\").species.size)"
   ]
  },
  {
   "cell_type": "code",
   "execution_count": 21,
   "id": "98e71222-6b14-4972-bd2d-96ee7e53f480",
   "metadata": {
    "tags": []
   },
   "outputs": [
    {
     "data": {
      "text/html": [
       "<div>\n",
       "<style scoped>\n",
       "    .dataframe tbody tr th:only-of-type {\n",
       "        vertical-align: middle;\n",
       "    }\n",
       "\n",
       "    .dataframe tbody tr th {\n",
       "        vertical-align: top;\n",
       "    }\n",
       "\n",
       "    .dataframe thead th {\n",
       "        text-align: right;\n",
       "    }\n",
       "</style>\n",
       "<table border=\"1\" class=\"dataframe\">\n",
       "  <thead>\n",
       "    <tr style=\"text-align: right;\">\n",
       "      <th></th>\n",
       "      <th>species</th>\n",
       "      <th>wlcent</th>\n",
       "      <th>excit</th>\n",
       "      <th>vmic</th>\n",
       "      <th>gflog</th>\n",
       "      <th>gamrad</th>\n",
       "      <th>gamqst</th>\n",
       "      <th>gamvw</th>\n",
       "      <th>lande</th>\n",
       "      <th>depth</th>\n",
       "      <th>reference</th>\n",
       "      <th>atom_number</th>\n",
       "      <th>ionization</th>\n",
       "    </tr>\n",
       "  </thead>\n",
       "  <tbody>\n",
       "    <tr>\n",
       "      <th>2055</th>\n",
       "      <td>Eu 2</td>\n",
       "      <td>4129.694041</td>\n",
       "      <td>0.0</td>\n",
       "      <td>1.0</td>\n",
       "      <td>-0.100</td>\n",
       "      <td>0.0</td>\n",
       "      <td>0.0</td>\n",
       "      <td>0.0</td>\n",
       "      <td>1.93</td>\n",
       "      <td>0.621</td>\n",
       "      <td>15 iso:LWHS  15 LWHS  15 gf:LWHS  15 LWHS  1...</td>\n",
       "      <td>1.0</td>\n",
       "      <td>2.0</td>\n",
       "    </tr>\n",
       "    <tr>\n",
       "      <th>2056</th>\n",
       "      <td>Eu 2</td>\n",
       "      <td>4129.720035</td>\n",
       "      <td>0.0</td>\n",
       "      <td>1.0</td>\n",
       "      <td>-0.062</td>\n",
       "      <td>0.0</td>\n",
       "      <td>0.0</td>\n",
       "      <td>0.0</td>\n",
       "      <td>1.93</td>\n",
       "      <td>0.639</td>\n",
       "      <td>15 iso:LWHS  15 LWHS  15 gf:LWHS  15 LWHS  1...</td>\n",
       "      <td>1.0</td>\n",
       "      <td>2.0</td>\n",
       "    </tr>\n",
       "    <tr>\n",
       "      <th>3461</th>\n",
       "      <td>Eu 2</td>\n",
       "      <td>4205.027982</td>\n",
       "      <td>0.0</td>\n",
       "      <td>1.0</td>\n",
       "      <td>-0.110</td>\n",
       "      <td>0.0</td>\n",
       "      <td>0.0</td>\n",
       "      <td>0.0</td>\n",
       "      <td>1.67</td>\n",
       "      <td>0.609</td>\n",
       "      <td>15 iso:LWHS  15 LWHS  15 gf:LWHS  15 LWHS  1...</td>\n",
       "      <td>1.0</td>\n",
       "      <td>2.0</td>\n",
       "    </tr>\n",
       "    <tr>\n",
       "      <th>3463</th>\n",
       "      <td>Eu 2</td>\n",
       "      <td>4205.053975</td>\n",
       "      <td>0.0</td>\n",
       "      <td>1.0</td>\n",
       "      <td>-0.072</td>\n",
       "      <td>0.0</td>\n",
       "      <td>0.0</td>\n",
       "      <td>0.0</td>\n",
       "      <td>1.67</td>\n",
       "      <td>0.627</td>\n",
       "      <td>15 iso:LWHS  15 LWHS  15 gf:LWHS  15 LWHS  1...</td>\n",
       "      <td>1.0</td>\n",
       "      <td>2.0</td>\n",
       "    </tr>\n",
       "  </tbody>\n",
       "</table>\n",
       "</div>"
      ],
      "text/plain": [
       "     species       wlcent  excit  vmic  gflog  gamrad  gamqst  gamvw  lande  \\\n",
       "2055    Eu 2  4129.694041    0.0   1.0 -0.100     0.0     0.0    0.0   1.93   \n",
       "2056    Eu 2  4129.720035    0.0   1.0 -0.062     0.0     0.0    0.0   1.93   \n",
       "3461    Eu 2  4205.027982    0.0   1.0 -0.110     0.0     0.0    0.0   1.67   \n",
       "3463    Eu 2  4205.053975    0.0   1.0 -0.072     0.0     0.0    0.0   1.67   \n",
       "\n",
       "      depth                                          reference  atom_number  \\\n",
       "2055  0.621    15 iso:LWHS  15 LWHS  15 gf:LWHS  15 LWHS  1...          1.0   \n",
       "2056  0.639    15 iso:LWHS  15 LWHS  15 gf:LWHS  15 LWHS  1...          1.0   \n",
       "3461  0.609    15 iso:LWHS  15 LWHS  15 gf:LWHS  15 LWHS  1...          1.0   \n",
       "3463  0.627    15 iso:LWHS  15 LWHS  15 gf:LWHS  15 LWHS  1...          1.0   \n",
       "\n",
       "      ionization  \n",
       "2055         2.0  \n",
       "2056         2.0  \n",
       "3461         2.0  \n",
       "3463         2.0  "
      ]
     },
     "execution_count": 21,
     "metadata": {},
     "output_type": "execute_result"
    }
   ],
   "source": [
    "ll.query(\"species == 'Eu 2'\").sort_values(by='excit', ascending=True).head(4)#.sort_values(by='depth', ascending=False)"
   ]
  },
  {
   "cell_type": "code",
   "execution_count": null,
   "id": "919e7f72-29b3-47ed-b72d-38ef561a3d51",
   "metadata": {},
   "outputs": [],
   "source": []
  },
  {
   "cell_type": "code",
   "execution_count": 22,
   "id": "dbad80ff-bee4-450a-99fb-4fe8be0022fd",
   "metadata": {},
   "outputs": [],
   "source": [
    "i = 0\n",
    "limit_elem = [0]"
   ]
  },
  {
   "cell_type": "code",
   "execution_count": 23,
   "id": "32f37735-33a6-4a18-9ebb-95c54d959874",
   "metadata": {},
   "outputs": [],
   "source": [
    "def limits(species = '', species_to_keep = [], spec_id = '', sme_file = '', wlmin = 0, wlmax = 0, start = -2.0, stop = 1.0, step = 0.25, limit_elem=limit_elem, i=i):\n",
    "    \n",
    "    if i > 5:\n",
    "        return\n",
    "    print(i)\n",
    "    \n",
    "    # plt.figure(figsize=(7,7), dpi=100)\n",
    "    \n",
    "    util.start_logging('logs/elems_limits.dat', level='WARNING')\n",
    "    species = species\n",
    "    limit = solar.abund.get_element('%s' %species)\n",
    "    # start, stop, step = -2.0, 2.0, 0.25\n",
    "\n",
    "    for delta_abund in np.linspace(start, stop, int((stop - start) / step + 1)):\n",
    "\n",
    "        synth = SME_Structure.load(sme_file)\n",
    "        # if delta_abund == start: print(synth.abund.get_element('C'))\n",
    "        # if delta_abund == start: plt.step(synth.wave.data, synth.synth.data, lw=1, color='r')\n",
    "        synth.linelist = linelist_short_all[(linelist_short_all.wlcent > wlmin) & (linelist_short_all.wlcent < wlmax)]\n",
    "\n",
    "        f_wl_limit = (synth.wave.data > wlmin) & (synth.wave.data < wlmax)\n",
    "\n",
    "        for elem in synth.abund.pattern.keys():\n",
    "            if (elem == 'H') or (elem == 'He'):\n",
    "                continue\n",
    "            if elem in species_to_keep:\n",
    "                continue\n",
    "            synth.abund.update_pattern({elem:0.0})\n",
    "        synth.abund.update_pattern({'%s' %species: solar.abund.get_element('%s' %species) + delta_abund})\n",
    "        # print('%s' %species, solar.abund.get_element('%s' %species) + delta_abund)\n",
    "\n",
    "        synth.vrad_flag = 'None'\n",
    "        synth.cscale_flag = 'None'\n",
    "        synth = synthesize_spectrum(synth)\n",
    "        # synth_data = synth.synth.data\n",
    "\n",
    "        mean_synth = np.percentile(synth.synth.data[f_wl_limit], 10)\n",
    "        std_spec = np.std(synth.spec.data[f_wl_limit])\n",
    "        \n",
    "        # if delta_abund == start: plt.step(synth.wave.data, synth.spec.data, lw=1, color='k')\n",
    "        # if delta_abund == start: plt.hlines(1.-std_spec, wlmin, wlmax, color='b', lw=1, ls='--')\n",
    "        # plt.step(synth.wave.data, synth.synth.data, lw=1, color='g', alpha=0.2, where='mid')\n",
    "        # plt.hlines(mean_synth, wlmin, wlmax, color='r', lw=1, ls='--', alpha=0.3)\n",
    "        # plt.xlim(wlmin, wlmax)\n",
    "        # plt.ylim(0.9, 1.1)\n",
    "\n",
    "        #If mean synth flux is more (bigger depth) that std: you are in outside limit regime\n",
    "        #linspace in the starst is fliped to ascend in abundance space\n",
    "        if mean_synth < (1. - std_spec):\n",
    "            # print(delta_abund, step/2)\n",
    "            limit = solar.abund.get_element('%s' %species) + delta_abund - step/2.\n",
    "            # plt.show()\n",
    "            pd.DataFrame(data=np.vstack((spec_id, limit)).T, columns=['spec_id', 'limit']).to_csv('tmp_merged/limits.csv', mode='a', header=False, index=False)\n",
    "            return\n",
    "        else:\n",
    "            continue\n",
    "    # plt.show()\n",
    "    pd.DataFrame(data=np.vstack((spec_id, limit)).T, columns=['spec_id', 'limit']).to_csv('tmp_merged/limits.csv', mode='a', header=False, index=False)\n",
    "    return "
   ]
  },
  {
   "cell_type": "code",
   "execution_count": null,
   "id": "8039d10e-e3d8-4101-81cb-be33f2892a32",
   "metadata": {},
   "outputs": [],
   "source": []
  },
  {
   "cell_type": "code",
   "execution_count": 62,
   "id": "ed5c0b75-db25-40a5-b8b1-c525f01eec75",
   "metadata": {},
   "outputs": [],
   "source": [
    "#Eu"
   ]
  },
  {
   "cell_type": "code",
   "execution_count": 24,
   "id": "479f8b62-a1d0-438f-9bb6-6db57d0f15c5",
   "metadata": {},
   "outputs": [],
   "source": [
    "is_limit_elem = np.zeros_like(uves.ra.values).astype(bool)\n",
    "elem = 'Eu'\n",
    "limit_elem = uves['%s' %elem.lower()].values\n",
    "\n",
    "f_is_limit = ((uves['e%s_sme' %elem.lower()].values > 0.15) & (uves['%s' %elem.lower()].values < 1.0)) | (uves['e%s_sme' %elem.lower()].values/uves['%s' %elem.lower()].values > 0.7)\n",
    "is_limit_elem[f_is_limit] = True"
   ]
  },
  {
   "cell_type": "code",
   "execution_count": 25,
   "id": "5c8bd25e-c660-47b8-82e9-c170e6b189b5",
   "metadata": {},
   "outputs": [
    {
     "data": {
      "text/plain": [
       "array([ 0.92345969,  0.87329759, -0.17290515,  0.82552624,  0.88120299,\n",
       "        0.78048003,  0.24037241,  0.93707561,  0.19241659,  0.94855477,\n",
       "        0.8320559 ,  0.46822537,  0.57454918,  0.87676192,  0.46390538,\n",
       "        0.84395309,  0.6473916 ,  0.46673812,  0.23887947,  0.2973824 ,\n",
       "        0.85247528,  0.85732094,  0.97236545,  0.43563308,  0.81121311,\n",
       "        0.36887358,  0.26664521,  0.78048668,  0.43962619,  0.10914014,\n",
       "        0.6013318 , -0.26873871,  0.61106582,  0.82994645,  0.66470164,\n",
       "        0.93460308, -0.04652269,  0.64984013,  0.97641766,  0.87427929,\n",
       "        0.95433633,  0.74472237,  0.53620738,  0.48007569,  0.88296483,\n",
       "        0.34167506,  0.63289998,  0.57522742,  0.77076239,  0.47093317,\n",
       "        0.32888538,  1.13835143,  0.67571992,  0.771711  ,  0.80208341,\n",
       "        0.94020678,  0.58134695,  0.77164588,  0.95113281,  0.40597368,\n",
       "        0.78211027,  0.83256727, -0.53230904,  0.73392381, -0.0666755 ,\n",
       "        0.85996043,  0.3718069 ,  0.23068616,  0.66061807,  0.50852418,\n",
       "       -3.20020866,  0.92504765,  0.37237107,  0.89730293,  0.30468951,\n",
       "        0.53173826,  0.6779423 ,  0.76582941,  0.48702172, -3.67921824,\n",
       "        0.5418554 ,  0.79729813])"
      ]
     },
     "execution_count": 25,
     "metadata": {},
     "output_type": "execute_result"
    }
   ],
   "source": [
    "limit_elem[f_is_limit]"
   ]
  },
  {
   "cell_type": "code",
   "execution_count": 94,
   "id": "3b147886-4e76-42c0-9c08-7b2a41ee52c5",
   "metadata": {},
   "outputs": [],
   "source": [
    "eu_wl_limits = [4129, 4130.5]"
   ]
  },
  {
   "cell_type": "code",
   "execution_count": 29,
   "id": "3f8fae9e-9779-4066-82ef-2c985f2e80e8",
   "metadata": {
    "collapsed": true,
    "jupyter": {
     "outputs_hidden": true
    },
    "tags": []
   },
   "outputs": [
    {
     "name": "stderr",
     "output_type": "stream",
     "text": [
      "[Parallel(n_jobs=-1)]: Using backend LokyBackend with 80 concurrent workers.\n",
      "[Parallel(n_jobs=-1)]: Done   8 out of  82 | elapsed:  4.6min remaining: 42.4min\n",
      "[Parallel(n_jobs=-1)]: Done  25 out of  82 | elapsed:  6.4min remaining: 14.7min\n",
      "[Parallel(n_jobs=-1)]: Done  42 out of  82 | elapsed:  7.6min remaining:  7.3min\n"
     ]
    },
    {
     "name": "stdout",
     "output_type": "stream",
     "text": [
      "0\n",
      "0\n",
      "0\n",
      "0\n"
     ]
    },
    {
     "name": "stderr",
     "output_type": "stream",
     "text": [
      "[Parallel(n_jobs=-1)]: Done  59 out of  82 | elapsed:  9.1min remaining:  3.6min\n"
     ]
    },
    {
     "name": "stdout",
     "output_type": "stream",
     "text": [
      "0\n",
      "0\n",
      "0\n",
      "0\n",
      "0\n",
      "0\n",
      "0\n",
      "0\n",
      "0\n",
      "0\n",
      "0\n",
      "0\n",
      "0\n",
      "0\n",
      "0\n",
      "0\n",
      "0\n",
      "0\n",
      "0\n",
      "0\n",
      "0\n",
      "0\n",
      "0\n",
      "0\n",
      "0\n",
      "0\n",
      "0\n",
      "0\n",
      "0\n",
      "0\n",
      "0\n",
      "0\n",
      "0\n",
      "0\n",
      "0\n",
      "0\n",
      "0\n",
      "0\n",
      "0\n",
      "0\n",
      "0\n",
      "0\n",
      "0\n",
      "0\n",
      "0\n",
      "0\n",
      "0\n",
      "0\n",
      "0\n"
     ]
    },
    {
     "name": "stderr",
     "output_type": "stream",
     "text": [
      "[Parallel(n_jobs=-1)]: Done  76 out of  82 | elapsed: 13.2min remaining:  1.0min\n"
     ]
    },
    {
     "name": "stdout",
     "output_type": "stream",
     "text": [
      "0\n",
      "0\n",
      "0\n",
      "0\n",
      "0\n",
      "0\n",
      "0\n",
      "0\n",
      "0\n",
      "0\n",
      "0\n",
      "0\n",
      "0\n",
      "0\n",
      "0\n",
      "0\n",
      "0\n",
      "0\n",
      "0\n"
     ]
    },
    {
     "name": "stderr",
     "output_type": "stream",
     "text": [
      "[Parallel(n_jobs=-1)]: Done  82 out of  82 | elapsed: 17.3min finished\n"
     ]
    },
    {
     "data": {
      "text/plain": [
       "[None,\n",
       " None,\n",
       " None,\n",
       " None,\n",
       " None,\n",
       " None,\n",
       " None,\n",
       " None,\n",
       " None,\n",
       " None,\n",
       " None,\n",
       " None,\n",
       " None,\n",
       " None,\n",
       " None,\n",
       " None,\n",
       " None,\n",
       " None,\n",
       " None,\n",
       " None,\n",
       " None,\n",
       " None,\n",
       " None,\n",
       " None,\n",
       " None,\n",
       " None,\n",
       " None,\n",
       " None,\n",
       " None,\n",
       " None,\n",
       " None,\n",
       " None,\n",
       " None,\n",
       " None,\n",
       " None,\n",
       " None,\n",
       " None,\n",
       " None,\n",
       " None,\n",
       " None,\n",
       " None,\n",
       " None,\n",
       " None,\n",
       " None,\n",
       " None,\n",
       " None,\n",
       " None,\n",
       " None,\n",
       " None,\n",
       " None,\n",
       " None,\n",
       " None,\n",
       " None,\n",
       " None,\n",
       " None,\n",
       " None,\n",
       " None,\n",
       " None,\n",
       " None,\n",
       " None,\n",
       " None,\n",
       " None,\n",
       " None,\n",
       " None,\n",
       " None,\n",
       " None,\n",
       " None,\n",
       " None,\n",
       " None,\n",
       " None,\n",
       " None,\n",
       " None,\n",
       " None,\n",
       " None,\n",
       " None,\n",
       " None,\n",
       " None,\n",
       " None,\n",
       " None,\n",
       " None,\n",
       " None,\n",
       " None]"
      ]
     },
     "execution_count": 29,
     "metadata": {},
     "output_type": "execute_result"
    },
    {
     "name": "stdout",
     "output_type": "stream",
     "text": [
      "0\n",
      "0\n",
      "0\n",
      "0\n",
      "0\n",
      "0\n",
      "0\n",
      "0\n",
      "0\n",
      "0\n"
     ]
    }
   ],
   "source": [
    "Parallel(n_jobs=-1, verbose=5)(delayed(limits)(species = '%s' %elem, species_to_keep = [], spec_id = '%s' %uves.spec_id.values[i], \n",
    "                                               sme_file = 'sme_save/elem_%s_%s.sme' %(elem.lower(), uves.spec_id.values[i]), wlmin = eu_wl_limits[0], wlmax = eu_wl_limits[1], \n",
    "                                               start = -1.0, stop = 1.0, step = 0.1) for i, input_row in uves.reset_index(inplace=False, drop=True).iloc[f_is_limit].iterrows())"
   ]
  },
  {
   "cell_type": "code",
   "execution_count": 30,
   "id": "1866e92b-60ef-47c2-b568-845ef5571c35",
   "metadata": {},
   "outputs": [],
   "source": [
    "limits_eu = pd.read_csv('tmp_merged/limits.csv', names=['spec_id', 'limit'])"
   ]
  },
  {
   "cell_type": "code",
   "execution_count": 48,
   "id": "e4e0f1b5-c8f3-44eb-9014-bdf6f3273f89",
   "metadata": {},
   "outputs": [],
   "source": [
    "limit_elem[f_is_limit] = uves.iloc[f_is_limit].merge(right=limits_eu, right_on='spec_id', left_on='spec_id').limit.values"
   ]
  },
  {
   "cell_type": "code",
   "execution_count": 51,
   "id": "40428ff2-8cba-49f0-b671-73c455532497",
   "metadata": {},
   "outputs": [],
   "source": [
    "uves['is_limit_%s' %elem.lower()] = is_limit_elem\n",
    "uves['limit_%s' %elem.lower()] = limit_elem"
   ]
  },
  {
   "cell_type": "code",
   "execution_count": 53,
   "id": "dcace54e-c94a-4c86-9e5b-6b175ccd3280",
   "metadata": {},
   "outputs": [],
   "source": [
    "uves.to_csv('uves_p111_p112_pristinedr1_xgboost_atm_means_carbon_nitrogen_limits_all_elems_lims_eu.csv', header=True, index=False)"
   ]
  },
  {
   "cell_type": "code",
   "execution_count": null,
   "id": "728042f8-0ba7-4de6-b1d5-4d3b7e6e70e4",
   "metadata": {},
   "outputs": [],
   "source": []
  },
  {
   "cell_type": "code",
   "execution_count": 25,
   "id": "f8ad3cda-ee21-490d-8c1d-4d0c7809f4b2",
   "metadata": {},
   "outputs": [],
   "source": [
    "#Ba"
   ]
  },
  {
   "cell_type": "code",
   "execution_count": 64,
   "id": "598a0524-4ba6-45dc-86ed-60eb18bc8d60",
   "metadata": {},
   "outputs": [],
   "source": [
    "uves = pd.read_csv('uves_p111_p112_pristinedr1_xgboost_atm_means_carbon_nitrogen_limits_all_elems_lims_eu.csv')"
   ]
  },
  {
   "cell_type": "code",
   "execution_count": 65,
   "id": "1260e1e2-a0bb-45e8-9be0-48229c61d760",
   "metadata": {},
   "outputs": [],
   "source": [
    "is_limit_elem = np.zeros_like(uves.ra.values).astype(bool)\n",
    "elem = 'Ba'\n",
    "limit_elem = uves.ba_nlte.values\n",
    "\n",
    "f_is_limit = uves['e%s_sme' %elem.lower()].values > 0.80\n",
    "is_limit_elem[f_is_limit] = True"
   ]
  },
  {
   "cell_type": "code",
   "execution_count": 66,
   "id": "19ec9633-e1b9-412e-b9ae-a7910ebb2491",
   "metadata": {},
   "outputs": [
    {
     "data": {
      "text/plain": [
       "array([0.42697944, 0.41575184, 0.85533906])"
      ]
     },
     "execution_count": 66,
     "metadata": {},
     "output_type": "execute_result"
    }
   ],
   "source": [
    "limit_elem[is_limit_elem]"
   ]
  },
  {
   "cell_type": "code",
   "execution_count": 67,
   "id": "9c31584f-2fa8-480d-97de-5123eb7b4d99",
   "metadata": {},
   "outputs": [],
   "source": [
    "ba_wl_limits = [4933.6, 4934.6]"
   ]
  },
  {
   "cell_type": "code",
   "execution_count": 48,
   "id": "5f80ecc5-b198-49f5-9be6-baee8b586ac3",
   "metadata": {
    "collapsed": true,
    "jupyter": {
     "outputs_hidden": true
    },
    "tags": []
   },
   "outputs": [
    {
     "name": "stderr",
     "output_type": "stream",
     "text": [
      "[Parallel(n_jobs=-1)]: Using backend LokyBackend with 5 concurrent workers.\n",
      "[Parallel(n_jobs=-1)]: Done   3 out of   3 | elapsed:   13.6s remaining:    0.0s\n"
     ]
    },
    {
     "ename": "KeyboardInterrupt",
     "evalue": "",
     "output_type": "error",
     "traceback": [
      "\u001b[0;31m---------------------------------------------------------------------------\u001b[0m",
      "\u001b[0;31mKeyboardInterrupt\u001b[0m                         Traceback (most recent call last)",
      "Input \u001b[0;32mIn [48]\u001b[0m, in \u001b[0;36m<cell line: 1>\u001b[0;34m()\u001b[0m\n\u001b[0;32m----> 1\u001b[0m \u001b[43mParallel\u001b[49m\u001b[43m(\u001b[49m\u001b[43mn_jobs\u001b[49m\u001b[38;5;241;43m=\u001b[39;49m\u001b[38;5;241;43m-\u001b[39;49m\u001b[38;5;241;43m1\u001b[39;49m\u001b[43m,\u001b[49m\u001b[43m \u001b[49m\u001b[43mverbose\u001b[49m\u001b[38;5;241;43m=\u001b[39;49m\u001b[38;5;241;43m5\u001b[39;49m\u001b[43m)\u001b[49m\u001b[43m(\u001b[49m\u001b[43mdelayed\u001b[49m\u001b[43m(\u001b[49m\u001b[43mlimits\u001b[49m\u001b[43m)\u001b[49m\u001b[43m(\u001b[49m\u001b[43mspecies\u001b[49m\u001b[43m \u001b[49m\u001b[38;5;241;43m=\u001b[39;49m\u001b[43m \u001b[49m\u001b[38;5;124;43m'\u001b[39;49m\u001b[38;5;132;43;01m%s\u001b[39;49;00m\u001b[38;5;124;43m'\u001b[39;49m\u001b[43m \u001b[49m\u001b[38;5;241;43m%\u001b[39;49m\u001b[43melem\u001b[49m\u001b[43m,\u001b[49m\u001b[43m \u001b[49m\u001b[43mspecies_to_keep\u001b[49m\u001b[43m \u001b[49m\u001b[38;5;241;43m=\u001b[39;49m\u001b[43m \u001b[49m\u001b[43m[\u001b[49m\u001b[43m]\u001b[49m\u001b[43m,\u001b[49m\u001b[43m \u001b[49m\u001b[43mspec_id\u001b[49m\u001b[43m \u001b[49m\u001b[38;5;241;43m=\u001b[39;49m\u001b[43m \u001b[49m\u001b[38;5;124;43m'\u001b[39;49m\u001b[38;5;132;43;01m%s\u001b[39;49;00m\u001b[38;5;124;43m'\u001b[39;49m\u001b[43m \u001b[49m\u001b[38;5;241;43m%\u001b[39;49m\u001b[43muves\u001b[49m\u001b[38;5;241;43m.\u001b[39;49m\u001b[43mspec_id\u001b[49m\u001b[38;5;241;43m.\u001b[39;49m\u001b[43mvalues\u001b[49m\u001b[43m[\u001b[49m\u001b[43mi\u001b[49m\u001b[43m]\u001b[49m\u001b[43m,\u001b[49m\u001b[43m \u001b[49m\n\u001b[1;32m      2\u001b[0m \u001b[43m                                               \u001b[49m\u001b[43msme_file\u001b[49m\u001b[43m \u001b[49m\u001b[38;5;241;43m=\u001b[39;49m\u001b[43m \u001b[49m\u001b[38;5;124;43m'\u001b[39;49m\u001b[38;5;124;43msme_save/elem_\u001b[39;49m\u001b[38;5;132;43;01m%s\u001b[39;49;00m\u001b[38;5;124;43m_\u001b[39;49m\u001b[38;5;132;43;01m%s\u001b[39;49;00m\u001b[38;5;124;43m.sme\u001b[39;49m\u001b[38;5;124;43m'\u001b[39;49m\u001b[43m \u001b[49m\u001b[38;5;241;43m%\u001b[39;49m\u001b[43m(\u001b[49m\u001b[43melem\u001b[49m\u001b[38;5;241;43m.\u001b[39;49m\u001b[43mlower\u001b[49m\u001b[43m(\u001b[49m\u001b[43m)\u001b[49m\u001b[43m,\u001b[49m\u001b[43m \u001b[49m\u001b[43muves\u001b[49m\u001b[38;5;241;43m.\u001b[39;49m\u001b[43mspec_id\u001b[49m\u001b[38;5;241;43m.\u001b[39;49m\u001b[43mvalues\u001b[49m\u001b[43m[\u001b[49m\u001b[43mi\u001b[49m\u001b[43m]\u001b[49m\u001b[43m)\u001b[49m\u001b[43m,\u001b[49m\u001b[43m \u001b[49m\u001b[43mwlmin\u001b[49m\u001b[43m \u001b[49m\u001b[38;5;241;43m=\u001b[39;49m\u001b[43m \u001b[49m\u001b[43mba_wl_limits\u001b[49m\u001b[43m[\u001b[49m\u001b[38;5;241;43m0\u001b[39;49m\u001b[43m]\u001b[49m\u001b[43m,\u001b[49m\u001b[43m \u001b[49m\u001b[43mwlmax\u001b[49m\u001b[43m \u001b[49m\u001b[38;5;241;43m=\u001b[39;49m\u001b[43m \u001b[49m\u001b[43mba_wl_limits\u001b[49m\u001b[43m[\u001b[49m\u001b[38;5;241;43m1\u001b[39;49m\u001b[43m]\u001b[49m\u001b[43m,\u001b[49m\u001b[43m \u001b[49m\n\u001b[1;32m      3\u001b[0m \u001b[43m                                               \u001b[49m\u001b[43mstart\u001b[49m\u001b[43m \u001b[49m\u001b[38;5;241;43m=\u001b[39;49m\u001b[43m \u001b[49m\u001b[38;5;241;43m-\u001b[39;49m\u001b[38;5;241;43m2.0\u001b[39;49m\u001b[43m,\u001b[49m\u001b[43m \u001b[49m\u001b[43mstop\u001b[49m\u001b[43m \u001b[49m\u001b[38;5;241;43m=\u001b[39;49m\u001b[43m \u001b[49m\u001b[38;5;241;43m1.0\u001b[39;49m\u001b[43m,\u001b[49m\u001b[43m \u001b[49m\u001b[43mstep\u001b[49m\u001b[43m \u001b[49m\u001b[38;5;241;43m=\u001b[39;49m\u001b[43m \u001b[49m\u001b[38;5;241;43m0.1\u001b[39;49m\u001b[43m)\u001b[49m\u001b[43m \u001b[49m\u001b[38;5;28;43;01mfor\u001b[39;49;00m\u001b[43m \u001b[49m\u001b[43mi\u001b[49m\u001b[43m,\u001b[49m\u001b[43m \u001b[49m\u001b[43minput_row\u001b[49m\u001b[43m \u001b[49m\u001b[38;5;129;43;01min\u001b[39;49;00m\u001b[43m \u001b[49m\u001b[43muves\u001b[49m\u001b[38;5;241;43m.\u001b[39;49m\u001b[43mreset_index\u001b[49m\u001b[43m(\u001b[49m\u001b[43minplace\u001b[49m\u001b[38;5;241;43m=\u001b[39;49m\u001b[38;5;28;43;01mFalse\u001b[39;49;00m\u001b[43m,\u001b[49m\u001b[43m \u001b[49m\u001b[43mdrop\u001b[49m\u001b[38;5;241;43m=\u001b[39;49m\u001b[38;5;28;43;01mTrue\u001b[39;49;00m\u001b[43m)\u001b[49m\u001b[38;5;241;43m.\u001b[39;49m\u001b[43miloc\u001b[49m\u001b[43m[\u001b[49m\u001b[43mf_is_limit\u001b[49m\u001b[43m]\u001b[49m\u001b[38;5;241;43m.\u001b[39;49m\u001b[43miterrows\u001b[49m\u001b[43m(\u001b[49m\u001b[43m)\u001b[49m\u001b[43m)\u001b[49m\n",
      "File \u001b[0;32m/opt/spack/opt/spack/linux-centos8-x86_64/gcc-12.2.0/anaconda3-2022.05-n4l3yju6zheasf546pdqgbdrlwmtrkq6/lib/python3.9/site-packages/joblib/parallel.py:1056\u001b[0m, in \u001b[0;36mParallel.__call__\u001b[0;34m(self, iterable)\u001b[0m\n\u001b[1;32m   1053\u001b[0m     \u001b[38;5;28mself\u001b[39m\u001b[38;5;241m.\u001b[39m_iterating \u001b[38;5;241m=\u001b[39m \u001b[38;5;28;01mFalse\u001b[39;00m\n\u001b[1;32m   1055\u001b[0m \u001b[38;5;28;01mwith\u001b[39;00m \u001b[38;5;28mself\u001b[39m\u001b[38;5;241m.\u001b[39m_backend\u001b[38;5;241m.\u001b[39mretrieval_context():\n\u001b[0;32m-> 1056\u001b[0m     \u001b[38;5;28;43mself\u001b[39;49m\u001b[38;5;241;43m.\u001b[39;49m\u001b[43mretrieve\u001b[49m\u001b[43m(\u001b[49m\u001b[43m)\u001b[49m\n\u001b[1;32m   1057\u001b[0m \u001b[38;5;66;03m# Make sure that we get a last message telling us we are done\u001b[39;00m\n\u001b[1;32m   1058\u001b[0m elapsed_time \u001b[38;5;241m=\u001b[39m time\u001b[38;5;241m.\u001b[39mtime() \u001b[38;5;241m-\u001b[39m \u001b[38;5;28mself\u001b[39m\u001b[38;5;241m.\u001b[39m_start_time\n",
      "File \u001b[0;32m/opt/spack/opt/spack/linux-centos8-x86_64/gcc-12.2.0/anaconda3-2022.05-n4l3yju6zheasf546pdqgbdrlwmtrkq6/lib/python3.9/site-packages/joblib/parallel.py:935\u001b[0m, in \u001b[0;36mParallel.retrieve\u001b[0;34m(self)\u001b[0m\n\u001b[1;32m    933\u001b[0m \u001b[38;5;28;01mtry\u001b[39;00m:\n\u001b[1;32m    934\u001b[0m     \u001b[38;5;28;01mif\u001b[39;00m \u001b[38;5;28mgetattr\u001b[39m(\u001b[38;5;28mself\u001b[39m\u001b[38;5;241m.\u001b[39m_backend, \u001b[38;5;124m'\u001b[39m\u001b[38;5;124msupports_timeout\u001b[39m\u001b[38;5;124m'\u001b[39m, \u001b[38;5;28;01mFalse\u001b[39;00m):\n\u001b[0;32m--> 935\u001b[0m         \u001b[38;5;28mself\u001b[39m\u001b[38;5;241m.\u001b[39m_output\u001b[38;5;241m.\u001b[39mextend(\u001b[43mjob\u001b[49m\u001b[38;5;241;43m.\u001b[39;49m\u001b[43mget\u001b[49m\u001b[43m(\u001b[49m\u001b[43mtimeout\u001b[49m\u001b[38;5;241;43m=\u001b[39;49m\u001b[38;5;28;43mself\u001b[39;49m\u001b[38;5;241;43m.\u001b[39;49m\u001b[43mtimeout\u001b[49m\u001b[43m)\u001b[49m)\n\u001b[1;32m    936\u001b[0m     \u001b[38;5;28;01melse\u001b[39;00m:\n\u001b[1;32m    937\u001b[0m         \u001b[38;5;28mself\u001b[39m\u001b[38;5;241m.\u001b[39m_output\u001b[38;5;241m.\u001b[39mextend(job\u001b[38;5;241m.\u001b[39mget())\n",
      "File \u001b[0;32m/opt/spack/opt/spack/linux-centos8-x86_64/gcc-12.2.0/anaconda3-2022.05-n4l3yju6zheasf546pdqgbdrlwmtrkq6/lib/python3.9/site-packages/joblib/_parallel_backends.py:542\u001b[0m, in \u001b[0;36mLokyBackend.wrap_future_result\u001b[0;34m(future, timeout)\u001b[0m\n\u001b[1;32m    539\u001b[0m \u001b[38;5;124;03m\"\"\"Wrapper for Future.result to implement the same behaviour as\u001b[39;00m\n\u001b[1;32m    540\u001b[0m \u001b[38;5;124;03mAsyncResults.get from multiprocessing.\"\"\"\u001b[39;00m\n\u001b[1;32m    541\u001b[0m \u001b[38;5;28;01mtry\u001b[39;00m:\n\u001b[0;32m--> 542\u001b[0m     \u001b[38;5;28;01mreturn\u001b[39;00m \u001b[43mfuture\u001b[49m\u001b[38;5;241;43m.\u001b[39;49m\u001b[43mresult\u001b[49m\u001b[43m(\u001b[49m\u001b[43mtimeout\u001b[49m\u001b[38;5;241;43m=\u001b[39;49m\u001b[43mtimeout\u001b[49m\u001b[43m)\u001b[49m\n\u001b[1;32m    543\u001b[0m \u001b[38;5;28;01mexcept\u001b[39;00m CfTimeoutError \u001b[38;5;28;01mas\u001b[39;00m e:\n\u001b[1;32m    544\u001b[0m     \u001b[38;5;28;01mraise\u001b[39;00m \u001b[38;5;167;01mTimeoutError\u001b[39;00m \u001b[38;5;28;01mfrom\u001b[39;00m \u001b[38;5;21;01me\u001b[39;00m\n",
      "File \u001b[0;32m/opt/spack/opt/spack/linux-centos8-x86_64/gcc-12.2.0/anaconda3-2022.05-n4l3yju6zheasf546pdqgbdrlwmtrkq6/lib/python3.9/concurrent/futures/_base.py:441\u001b[0m, in \u001b[0;36mFuture.result\u001b[0;34m(self, timeout)\u001b[0m\n\u001b[1;32m    438\u001b[0m \u001b[38;5;28;01melif\u001b[39;00m \u001b[38;5;28mself\u001b[39m\u001b[38;5;241m.\u001b[39m_state \u001b[38;5;241m==\u001b[39m FINISHED:\n\u001b[1;32m    439\u001b[0m     \u001b[38;5;28;01mreturn\u001b[39;00m \u001b[38;5;28mself\u001b[39m\u001b[38;5;241m.\u001b[39m__get_result()\n\u001b[0;32m--> 441\u001b[0m \u001b[38;5;28;43mself\u001b[39;49m\u001b[38;5;241;43m.\u001b[39;49m\u001b[43m_condition\u001b[49m\u001b[38;5;241;43m.\u001b[39;49m\u001b[43mwait\u001b[49m\u001b[43m(\u001b[49m\u001b[43mtimeout\u001b[49m\u001b[43m)\u001b[49m\n\u001b[1;32m    443\u001b[0m \u001b[38;5;28;01mif\u001b[39;00m \u001b[38;5;28mself\u001b[39m\u001b[38;5;241m.\u001b[39m_state \u001b[38;5;129;01min\u001b[39;00m [CANCELLED, CANCELLED_AND_NOTIFIED]:\n\u001b[1;32m    444\u001b[0m     \u001b[38;5;28;01mraise\u001b[39;00m CancelledError()\n",
      "File \u001b[0;32m/opt/spack/opt/spack/linux-centos8-x86_64/gcc-12.2.0/anaconda3-2022.05-n4l3yju6zheasf546pdqgbdrlwmtrkq6/lib/python3.9/threading.py:312\u001b[0m, in \u001b[0;36mCondition.wait\u001b[0;34m(self, timeout)\u001b[0m\n\u001b[1;32m    310\u001b[0m \u001b[38;5;28;01mtry\u001b[39;00m:    \u001b[38;5;66;03m# restore state no matter what (e.g., KeyboardInterrupt)\u001b[39;00m\n\u001b[1;32m    311\u001b[0m     \u001b[38;5;28;01mif\u001b[39;00m timeout \u001b[38;5;129;01mis\u001b[39;00m \u001b[38;5;28;01mNone\u001b[39;00m:\n\u001b[0;32m--> 312\u001b[0m         \u001b[43mwaiter\u001b[49m\u001b[38;5;241;43m.\u001b[39;49m\u001b[43macquire\u001b[49m\u001b[43m(\u001b[49m\u001b[43m)\u001b[49m\n\u001b[1;32m    313\u001b[0m         gotit \u001b[38;5;241m=\u001b[39m \u001b[38;5;28;01mTrue\u001b[39;00m\n\u001b[1;32m    314\u001b[0m     \u001b[38;5;28;01melse\u001b[39;00m:\n",
      "\u001b[0;31mKeyboardInterrupt\u001b[0m: "
     ]
    }
   ],
   "source": [
    "Parallel(n_jobs=-1, verbose=5)(delayed(limits)(species = '%s' %elem, species_to_keep = [], spec_id = '%s' %uves.spec_id.values[i], \n",
    "                                               sme_file = 'sme_save/elem_%s_%s.sme' %(elem.lower(), uves.spec_id.values[i]), wlmin = ba_wl_limits[0], wlmax = ba_wl_limits[1], \n",
    "                                               start = -2.0, stop = 1.0, step = 0.1) for i, input_row in uves.reset_index(inplace=False, drop=True).iloc[f_is_limit].iterrows())"
   ]
  },
  {
   "cell_type": "code",
   "execution_count": 68,
   "id": "34e336ab-f9e2-49fe-a8a6-abf10165eef6",
   "metadata": {},
   "outputs": [],
   "source": [
    "limits_ba = pd.read_csv('tmp_merged/limits.csv', names=['spec_id', 'limit'])"
   ]
  },
  {
   "cell_type": "code",
   "execution_count": 69,
   "id": "e1f6bd8f-7b28-4e70-9360-3c759b64637a",
   "metadata": {},
   "outputs": [],
   "source": [
    "limit_elem[f_is_limit] = uves.iloc[f_is_limit].merge(right=limits_ba, right_on='spec_id', left_on='spec_id').limit.values"
   ]
  },
  {
   "cell_type": "code",
   "execution_count": 70,
   "id": "c6b000df-d5a2-4569-8057-66c20989bcc0",
   "metadata": {},
   "outputs": [],
   "source": [
    "uves['is_limit_%s' %elem.lower()] = is_limit_elem\n",
    "uves['limit_%s' %elem.lower()] = limit_elem"
   ]
  },
  {
   "cell_type": "code",
   "execution_count": 72,
   "id": "10f86251-0824-4250-a4de-bbc9f3087053",
   "metadata": {},
   "outputs": [],
   "source": [
    "uves.to_csv('uves_p111_p112_pristinedr1_xgboost_atm_means_carbon_nitrogen_limits_all_elems_lims_euba.csv', header=True, index=False)"
   ]
  },
  {
   "cell_type": "code",
   "execution_count": null,
   "id": "922441be-a520-4669-8e87-6f33bd75a319",
   "metadata": {},
   "outputs": [],
   "source": []
  },
  {
   "cell_type": "code",
   "execution_count": null,
   "id": "7d3749e8-2bee-44a8-b9ae-ac9968f41b94",
   "metadata": {},
   "outputs": [],
   "source": []
  },
  {
   "cell_type": "code",
   "execution_count": 80,
   "id": "5ad41765-0cf7-4cb0-b5ea-5722821269b4",
   "metadata": {},
   "outputs": [
    {
     "data": {
      "text/plain": [
       "19    2882976353396129408_3708481_137\n",
       "20    2882976353396129408_3708481_142\n",
       "Name: spec_id, dtype: object"
      ]
     },
     "execution_count": 80,
     "metadata": {},
     "output_type": "execute_result"
    }
   ],
   "source": [
    "uves.query('sr < 0.5').spec_id"
   ]
  },
  {
   "cell_type": "code",
   "execution_count": null,
   "id": "8a60bdf6-6880-4e4a-a2a8-a1c4da392668",
   "metadata": {},
   "outputs": [],
   "source": []
  },
  {
   "cell_type": "code",
   "execution_count": 225,
   "id": "46a1e932-43f1-4eaf-9c19-8bda49a2d000",
   "metadata": {},
   "outputs": [],
   "source": [
    "#Final values for limit decision:\n",
    "#eBa > 0.7 (3 stars)\n",
    "#(eEu_sme > 0.15 & Eu < 1.0) | (eEu_sme/Eu > 0.7)"
   ]
  },
  {
   "cell_type": "code",
   "execution_count": null,
   "id": "db09921d-af74-4230-b89f-60e61474d201",
   "metadata": {},
   "outputs": [],
   "source": []
  },
  {
   "cell_type": "code",
   "execution_count": 92,
   "id": "23ad79cd-108f-4ad0-99e1-93a09a2afdd5",
   "metadata": {
    "tags": []
   },
   "outputs": [
    {
     "name": "stderr",
     "output_type": "stream",
     "text": [
      "[2024-06-20 11:12:12,881] [INFO] [sme:load:839]: Loading SME file sme_save/elem_sr_2882976353396129408_3708481_137.sme\n"
     ]
    },
    {
     "name": "stdout",
     "output_type": "stream",
     "text": [
      "\u001b[32mINFO - Loading SME file sme_save/elem_sr_2882976353396129408_3708481_137.sme\u001b[0m\n"
     ]
    }
   ],
   "source": [
    "sme = SME_Structure.load('sme_save/elem_sr_2882976353396129408_3708481_137.sme')"
   ]
  },
  {
   "cell_type": "code",
   "execution_count": 94,
   "id": "3b373bd1-2283-41e5-971e-41e7505e8c0f",
   "metadata": {
    "tags": []
   },
   "outputs": [
    {
     "data": {
      "image/png": "[encoded data removed]",
      "text/plain": [
       "<Figure size 1440x360 with 1 Axes>"
      ]
     },
     "metadata": {
      "needs_background": "light"
     },
     "output_type": "display_data"
    }
   ],
   "source": [
    "plt.figure(figsize=(20,5))\n",
    "\n",
    "elems_to_include = ['Sr 2']\n",
    "\n",
    "# plt.step(sme.wave.data, sme.spec.data, lw=0.8, color='k', where='mid')\n",
    "plt.errorbar(sme.wave.data, sme.spec.data, fmt='k.', lw=1, yerr=sme.uncs.data)\n",
    "\n",
    "#Al only\n",
    "# x = sme.wave.data\n",
    "# plt.plot(sme.wave.data, sme.spec.data/(sme.cscale[0][0]*(x-x[0])**2. + sme.cscale[0][1]*(x-x[0]) + sme.cscale[0][2]), lw=0.8, color='k')\n",
    "# plt.plot(sme.wave.data, sme.synth.data/(sme.cscale[0][0]*(x-x[0])**2. + sme.cscale[0][1]*(x-x[0]) + sme.cscale[0][2]), lw=1.5, color='C2', alpha=0.8)\n",
    "\n",
    "# synth_smooth = uniform_filter1d(sme.synth.data, size=50)\n",
    "# plt.plot(sme.wave.data, synth_smooth, lw=1.5, color='C2', alpha=0.8)\n",
    "plt.plot(sme.wave.data, sme.synth.data, lw=1.5, color='C2', alpha=0.8)\n",
    "\n",
    "# plt.scatter(sme.wave.data, sme.mask.data, color='grey', alpha=0.2)\n",
    "# plt.scatter(sme.wave.data[sme.mask.data == 2], sme.mask.data[sme.mask.data == 2] - 1, color='grey', alpha=0.2)\n",
    "\n",
    "for wline, species in pd.DataFrame(sme.linelist)[['wlcent', 'species']].values:\n",
    "    if 'H 1' in species:\n",
    "        continue\n",
    "    if (species == 'Fe 1') | (species == 'Fe 2'):\n",
    "        plt.vlines(wline, 0.1, 0.15, color='r')\n",
    "    if species not in elems_to_include:\n",
    "        continue\n",
    "#     # if (depth > 0.85) | (depth < 0.15):\n",
    "#     #     continue\n",
    "    plt.vlines(wline, 0.2, 0.25, color='C0')\n",
    "    # plt.annotate(text='%s' %species, xy=(wline-0.09, 0.3), rotation=90, fontsize=10)\n",
    "\n",
    "# plt.vlines(5167.3, 0, 1, )\n",
    "\n",
    "# plt.xlim(4400, 4500) #all\n",
    "# plt.xlim(4090, 4100) #Fe\n",
    "\n",
    "# plt.xlim(4930, 4938) #Ba\n",
    "# plt.xlim(5851, 5857) #Ba\n",
    "# plt.xlim(6139, 6145) #Ba\n",
    "# plt.xlim(6492, 6502) #Ba\n",
    "\n",
    "plt.xlim(4213, 4219) #Sr\n",
    "plt.xlim(4074, 4080) #Sr\n",
    "\n",
    "# plt.xlim(4128, 4132) #Eu\n",
    "# plt.xlim(4200, 4210) #Eu\n",
    "\n",
    "# plt.xlim(4390, 4402) #Ti\n",
    "# plt.xlim(4430, 4470) #Ti\n",
    "# plt.xlim(4980, 5020) #Ti\n",
    "\n",
    "# plt.xlim(5474, 5480) #Ni\n",
    "# plt.xlim(5077, 5083) #Ni\n",
    "# plt.xlim(4398, 4404) #Ni\n",
    "\n",
    "# plt.xlim(5165.5, 5185) #Mg\n",
    "\n",
    "# plt.xlim(4222, 4232) #Ca\n",
    "# plt.xlim(4433, 4458) #Ca\n",
    "# plt.xlim(6438, 6463) #Ca\n",
    "\n",
    "# plt.xlim(4175, 4180) #Y\n",
    "# plt.xlim(4200, 4210) #Y\n",
    "# plt.xlim(4230, 4240) #Y\n",
    "# plt.xlim(4372, 4378) #Y\n",
    "# plt.xlim(4880, 4905) #Y\n",
    "# plt.xlim(5200, 5210) #Y\n",
    "# plt.xlim(5084, 5091) #Y\n",
    "\n",
    "# plt.xlim(4025, 4038) #La\n",
    "# plt.xlim(4070, 4090) #La\n",
    "# plt.xlim(4120, 4130) #La\n",
    "\n",
    "# plt.xlim(4028, 4039) #Mn\n",
    "# plt.xlim(4125, 4131) #Mn\n",
    "\n",
    "# plt.xlim(5880, 5900) #Na\n",
    "\n",
    "# plt.xlim(4085, 4100) #Co\n",
    "# plt.xlim(4115, 4125) #Co\n",
    "\n",
    "# plt.xlim(4235, 4260) #Cr\n",
    "# plt.xlim(4343, 4355) #Cr\n",
    "# plt.xlim(5200, 5215) #Cr\n",
    "# plt.xlim(5342, 5354) #Cr\n",
    "\n",
    "# plt.xlim(4000, 4005) #Dy\n",
    "# plt.xlim(4070, 4080) #Dy\n",
    "# plt.xlim(4126, 4132) #Dy\n",
    "# plt.xlim(4954, 4960) #Dy\n",
    "# plt.xlim(4100, 4106) #Dy\n",
    "# plt.xlim(4072, 4079) #Dy\n",
    "\n",
    "# plt.xlim(4010, 4015) #Nd\n",
    "# plt.xlim(4105, 4114) #Nd\n",
    "# plt.xlim(4155, 4158) #Nd\n",
    "# plt.xlim(4176, 4180) #Nd\n",
    "# plt.xlim(4245, 4255) #Nd\n",
    "\n",
    "# plt.xlim(4010, 4020) #Sc\n",
    "# plt.xlim(4235, 4260) #Sc\n",
    "# plt.xlim(4370, 4420) #Sc\n",
    "# plt.xlim(4395, 4405) #Sc\n",
    "# plt.xlim(5025, 5040) #Sc\n",
    "# plt.xlim(5235, 5245) #Sc\n",
    "# plt.xlim(5525, 5532) #Sc\n",
    "\n",
    "# plt.xlim(4100, 4106) #Si\n",
    "# plt.xlim(4790, 4794) #Si\n",
    "# plt.xlim(6345, 6349) #Si\n",
    "\n",
    "# plt.xlim(4000, 4010) #V\n",
    "# plt.xlim(4020, 4025) #V\n",
    "# plt.xlim(4030, 4038) #V\n",
    "# plt.xlim(4108, 4118) #V\n",
    "# plt.xlim(4375, 4393) #V\n",
    "\n",
    "# plt.xlim(4808, 4814) #Zn\n",
    "# plt.xlim(6360, 6364) #Zn\n",
    "\n",
    "# plt.xlim(4025, 4035) #Zr\n",
    "# plt.xlim(4045, 4050) #Zr\n",
    "# plt.xlim(4145, 4165) #Zr\n",
    "# plt.xlim(4154, 4163) #Zr\n",
    "# plt.xlim(4205, 4220) #Zr\n",
    "\n",
    "# plt.xlim(6694, 6700) #Al\n",
    "# plt.xlim(5555, 5559) #Al\n",
    "# plt.xlim(6782, 6786) #Al\n",
    "# plt.xlim(4874, 4878) #Al\n",
    "# plt.xlim(3898, 3902) #Al\n",
    "# plt.xlim(3959, 3963) #Al\n",
    "# plt.xlim(3940, 3965) #Al\n",
    "\n",
    "# plt.xlim(6702, 6715) #Li\n",
    "# plt.xlim(6100, 6105) #Li\n",
    "\n",
    "# plt.xlim(4365, 4371) #O\n",
    "# plt.xlim(6150, 6160) #O\n",
    "# plt.xlim(6298, 6302) #[O]\n",
    "# plt.xlim(6360, 6366) #O\n",
    "\n",
    "# plt.xlim(4040, 4050) #K\n",
    "\n",
    "plt.ylim(0, 1.3)\n",
    "\n",
    "plt.xlabel(r'Wavelength ($\\AA$)', size=15)\n",
    "plt.ylabel(r'Normalised flux', size=15)\n",
    "# plt.xlim(6500, 6600)\n",
    "# plt.savefig('plots/CEMP.pdf')\n",
    "plt.show()"
   ]
  },
  {
   "cell_type": "code",
   "execution_count": null,
   "id": "b0d664e1-45c4-42c5-b6e4-f0c69cde2730",
   "metadata": {},
   "outputs": [],
   "source": []
  },
  {
   "cell_type": "code",
   "execution_count": 88,
   "id": "342851cd-3315-4007-a84e-1df6749be40a",
   "metadata": {},
   "outputs": [
    {
     "data": {
      "text/plain": [
       "4"
      ]
     },
     "execution_count": 88,
     "metadata": {},
     "output_type": "execute_result"
    }
   ],
   "source": [
    "sme.fitresults.iterations"
   ]
  },
  {
   "cell_type": "code",
   "execution_count": 89,
   "id": "a36acf44-0f16-4b9d-b8a6-22be44b0cee7",
   "metadata": {},
   "outputs": [
    {
     "data": {
      "text/plain": [
       "-2.5161154658435696"
      ]
     },
     "execution_count": 89,
     "metadata": {},
     "output_type": "execute_result"
    }
   ],
   "source": [
    "sme.monh"
   ]
  },
  {
   "cell_type": "code",
   "execution_count": 90,
   "id": "f96dde37-10f3-4f66-9fda-3eddab816474",
   "metadata": {
    "tags": []
   },
   "outputs": [
    {
     "data": {
      "text/plain": [
       "(array([0.43863759]),\n",
       " array([0.27925439]),\n",
       " [0.07291929963215027],\n",
       " -2.5161154658435696,\n",
       " 6.18664989343837)"
      ]
     },
     "execution_count": 90,
     "metadata": {},
     "output_type": "execute_result"
    }
   ],
   "source": [
    "sme.fitresults.values, sme.fitresults.uncertainties, sme.fitresults.fit_uncertainties, sme.monh, sme.vmac"
   ]
  },
  {
   "cell_type": "code",
   "execution_count": 91,
   "id": "e077c0d8-076e-4fc8-aec4-152ad3fca985",
   "metadata": {
    "tags": []
   },
   "outputs": [
    {
     "data": {
      "text/plain": [
       "4"
      ]
     },
     "execution_count": 91,
     "metadata": {},
     "output_type": "execute_result"
    }
   ],
   "source": [
    "sme.fitresults.iterations"
   ]
  },
  {
   "cell_type": "code",
   "execution_count": 158,
   "id": "58050bfe-95e2-466d-a1ca-2ee5f568828b",
   "metadata": {},
   "outputs": [
    {
     "data": {
      "text/plain": [
       "array([[0.98948319],\n",
       "       [0.99359499],\n",
       "       [0.99472645]])"
      ]
     },
     "execution_count": 158,
     "metadata": {},
     "output_type": "execute_result"
    }
   ],
   "source": [
    "sme.cscale"
   ]
  },
  {
   "cell_type": "code",
   "execution_count": 159,
   "id": "7a482c11-e470-4175-af72-85297d3e3dd9",
   "metadata": {},
   "outputs": [
    {
     "data": {
      "text/plain": [
       "array([0.14304188, 0.0247288 , 1.60177047])"
      ]
     },
     "execution_count": 159,
     "metadata": {},
     "output_type": "execute_result"
    }
   ],
   "source": [
    "sme.vrad"
   ]
  },
  {
   "cell_type": "code",
   "execution_count": 160,
   "id": "e2aa0b7f-d3bd-4566-bda6-2eb0e91a3c33",
   "metadata": {},
   "outputs": [
    {
     "data": {
      "text/plain": [
       "   species      wlcent  gflog   excit  j_lo   e_upp  j_up  lande_lower  \\\n",
       "0     Fe 2  4128.73910 -3.578  2.5827   2.5  5.5848   1.5         1.58   \n",
       "1     Ti 2  4129.15094 -1.770  1.8927   3.5  4.8945   2.5         0.89   \n",
       "2     Eu 2  4129.67754 -1.794  0.0000   4.0  3.0014   4.0         1.98   \n",
       "3     Eu 2  4129.68030 -1.317  0.0000   4.0  3.0014   4.0         1.98   \n",
       "4     Eu 2  4129.68396 -1.598  0.0000   4.0  3.0014   4.0         1.98   \n",
       "5     Eu 2  4129.68728 -1.259  0.0000   4.0  3.0014   4.0         1.98   \n",
       "6     Eu 2  4129.69004 -1.794  0.0000   4.0  3.0014   4.0         1.98   \n",
       "7     Eu 2  4129.69428 -1.539  0.0000   4.0  3.0014   4.0         1.98   \n",
       "8     Eu 2  4129.69760 -1.129  0.0000   4.0  3.0014   4.0         1.98   \n",
       "9     Eu 2  4129.70092 -1.598  0.0000   4.0  3.0014   4.0         1.98   \n",
       "10    Eu 2  4129.70920 -1.576  0.0000   4.0  3.0014   4.0         1.98   \n",
       "11    Eu 2  4129.71182 -0.978  0.0000   4.0  3.0014   4.0         1.98   \n",
       "12    Eu 2  4129.71513 -1.539  0.0000   4.0  3.0014   4.0         1.98   \n",
       "13    Eu 2  4129.72958 -1.762  0.0000   4.0  3.0014   4.0         1.98   \n",
       "14    Eu 2  4129.73063 -0.827  0.0000   4.0  3.0014   4.0         1.98   \n",
       "15    Eu 2  4129.73324 -1.576  0.0000   4.0  3.0014   4.0         1.98   \n",
       "16    Eu 2  4129.75490 -0.683  0.0000   4.0  3.0014   4.0         1.98   \n",
       "17    Eu 2  4129.75594 -1.762  0.0000   4.0  3.0014   4.0         1.98   \n",
       "18     Y 2  4204.69397 -1.760  0.0000   0.0  2.9479   1.0         0.00   \n",
       "19    Eu 2  4204.99375 -1.394  0.0000   4.0  2.9477   3.0         1.98   \n",
       "20    Eu 2  4204.99554 -1.695  0.0000   4.0  2.9477   3.0         1.98   \n",
       "21    Eu 2  4204.99834 -2.649  0.0000   4.0  2.9477   3.0         1.98   \n",
       "22    Eu 2  4205.00564 -1.218  0.0000   4.0  2.9477   3.0         1.98   \n",
       "23    Eu 2  4205.00844 -1.512  0.0000   4.0  2.9477   3.0         1.98   \n",
       "24    Eu 2  4205.01198 -2.540  0.0000   4.0  2.9477   3.0         1.98   \n",
       "25    Eu 2  4205.02258 -1.055  0.0000   4.0  2.9476   3.0         1.98   \n",
       "26    Eu 2  4205.02612 -1.453  0.0000   4.0  2.9476   3.0         1.98   \n",
       "27    Eu 2  4205.03002 -2.649  0.0000   4.0  2.9476   3.0         1.98   \n",
       "28    Eu 2  4205.04430 -0.909  0.0000   4.0  2.9476   3.0         1.98   \n",
       "29    Eu 2  4205.04820 -1.487  0.0000   4.0  2.9476   3.0         1.98   \n",
       "30    Eu 2  4205.05198 -2.992  0.0000   4.0  2.9476   3.0         1.98   \n",
       "31    Eu 2  4205.07042 -0.778  0.0000   4.0  2.9476   3.0         1.98   \n",
       "32    Eu 2  4205.07419 -1.670  0.0000   4.0  2.9476   3.0         1.98   \n",
       "33    Eu 2  4205.10044 -0.658  0.0000   4.0  2.9476   3.0         1.98   \n",
       "\n",
       "    lande_upper  lande  gamrad  gamqst  gamvw  depth  \\\n",
       "0          1.15   1.91    8.56   -6.54 -7.875  0.072   \n",
       "1          1.09   0.64    8.26   -6.41 -7.850  0.068   \n",
       "2          1.88   1.93    0.00    0.00  0.000  0.054   \n",
       "3          1.88   1.93    0.00    0.00  0.000  0.054   \n",
       "4          1.88   1.93    0.00    0.00  0.000  0.054   \n",
       "5          1.88   1.93    0.00    0.00  0.000  0.054   \n",
       "6          1.88   1.93    0.00    0.00  0.000  0.054   \n",
       "7          1.88   1.93    0.00    0.00  0.000  0.054   \n",
       "8          1.88   1.93    0.00    0.00  0.000  0.054   \n",
       "9          1.88   1.93    0.00    0.00  0.000  0.054   \n",
       "10         1.88   1.93    0.00    0.00  0.000  0.054   \n",
       "11         1.88   1.93    0.00    0.00  0.000  0.054   \n",
       "12         1.88   1.93    0.00    0.00  0.000  0.054   \n",
       "13         1.88   1.93    0.00    0.00  0.000  0.054   \n",
       "14         1.88   1.93    0.00    0.00  0.000  0.054   \n",
       "15         1.88   1.93    0.00    0.00  0.000  0.054   \n",
       "16         1.88   1.93    0.00    0.00  0.000  0.054   \n",
       "17         1.88   1.93    0.00    0.00  0.000  0.054   \n",
       "18         1.49   1.49    7.44   -6.18 -7.800  0.057   \n",
       "19         2.19   1.67    0.00    0.00  0.000  0.052   \n",
       "20         2.19   1.67    0.00    0.00  0.000  0.052   \n",
       "21         2.19   1.67    0.00    0.00  0.000  0.052   \n",
       "22         2.19   1.67    0.00    0.00  0.000  0.052   \n",
       "23         2.19   1.67    0.00    0.00  0.000  0.052   \n",
       "24         2.19   1.67    0.00    0.00  0.000  0.052   \n",
       "25         2.19   1.67    0.00    0.00  0.000  0.052   \n",
       "26         2.19   1.67    0.00    0.00  0.000  0.052   \n",
       "27         2.19   1.67    0.00    0.00  0.000  0.052   \n",
       "28         2.19   1.67    0.00    0.00  0.000  0.052   \n",
       "29         2.19   1.67    0.00    0.00  0.000  0.052   \n",
       "30         2.19   1.67    0.00    0.00  0.000  0.052   \n",
       "31         2.19   1.67    0.00    0.00  0.000  0.052   \n",
       "32         2.19   1.67    0.00    0.00  0.000  0.052   \n",
       "33         2.19   1.67    0.00    0.00  0.000  0.052   \n",
       "\n",
       "                                            reference        term_lower  \\\n",
       "0   _          Kurucz FeII 2013  33 wl:K13  34 gf:...  3d6.(3P2).4s b4P   \n",
       "1   _E 0.04    Kurucz TiII 2016   9 wl:K16  37 gf:...   3d2.(1G).4s b2G   \n",
       "2   E 0.02     Wisconsin REE ex  12 iso:LWHS  12 g...  4f7.(8S).6s a9S*   \n",
       "3   E 0.02     Wisconsin REE ex  12 iso:LWHS  12 g...  4f7.(8S).6s a9S*   \n",
       "4   E 0.02     Wisconsin REE ex  12 iso:LWHS  12 g...  4f7.(8S).6s a9S*   \n",
       "5   E 0.02     Wisconsin REE ex  12 iso:LWHS  12 g...  4f7.(8S).6s a9S*   \n",
       "6   E 0.02     Wisconsin REE ex  12 iso:LWHS  12 g...  4f7.(8S).6s a9S*   \n",
       "7   E 0.02     Wisconsin REE ex  12 iso:LWHS  12 g...  4f7.(8S).6s a9S*   \n",
       "8   E 0.02     Wisconsin REE ex  12 iso:LWHS  12 g...  4f7.(8S).6s a9S*   \n",
       "9   E 0.02     Wisconsin REE ex  12 iso:LWHS  12 g...  4f7.(8S).6s a9S*   \n",
       "10  E 0.02     Wisconsin REE ex  12 iso:LWHS  12 g...  4f7.(8S).6s a9S*   \n",
       "11  E 0.02     Wisconsin REE ex  12 iso:LWHS  12 g...  4f7.(8S).6s a9S*   \n",
       "12  E 0.02     Wisconsin REE ex  12 iso:LWHS  12 g...  4f7.(8S).6s a9S*   \n",
       "13  E 0.02     Wisconsin REE ex  12 iso:LWHS  12 g...  4f7.(8S).6s a9S*   \n",
       "14  E 0.02     Wisconsin REE ex  12 iso:LWHS  12 g...  4f7.(8S).6s a9S*   \n",
       "15  E 0.02     Wisconsin REE ex  12 iso:LWHS  12 g...  4f7.(8S).6s a9S*   \n",
       "16  E 0.02     Wisconsin REE ex  12 iso:LWHS  12 g...  4f7.(8S).6s a9S*   \n",
       "17  E 0.02     Wisconsin REE ex  12 iso:LWHS  12 g...  4f7.(8S).6s a9S*   \n",
       "18  E0.01      Kurucz Y II 2011  10 wl:K11  11 gf:...           5s2 a1S   \n",
       "19  E 0.02     Wisconsin REE ex  12 iso:LWHS  12 g...  4f7.(8S).6s a9S*   \n",
       "20  E 0.02     Wisconsin REE ex  12 iso:LWHS  12 g...  4f7.(8S).6s a9S*   \n",
       "21  E 0.02     Wisconsin REE ex  12 iso:LWHS  12 g...  4f7.(8S).6s a9S*   \n",
       "22  E 0.02     Wisconsin REE ex  12 iso:LWHS  12 g...  4f7.(8S).6s a9S*   \n",
       "23  E 0.02     Wisconsin REE ex  12 iso:LWHS  12 g...  4f7.(8S).6s a9S*   \n",
       "24  E 0.02     Wisconsin REE ex  12 iso:LWHS  12 g...  4f7.(8S).6s a9S*   \n",
       "25  E 0.02     Wisconsin REE ex  12 iso:LWHS  12 g...  4f7.(8S).6s a9S*   \n",
       "26  E 0.02     Wisconsin REE ex  12 iso:LWHS  12 g...  4f7.(8S).6s a9S*   \n",
       "27  E 0.02     Wisconsin REE ex  12 iso:LWHS  12 g...  4f7.(8S).6s a9S*   \n",
       "28  E 0.02     Wisconsin REE ex  12 iso:LWHS  12 g...  4f7.(8S).6s a9S*   \n",
       "29  E 0.02     Wisconsin REE ex  12 iso:LWHS  12 g...  4f7.(8S).6s a9S*   \n",
       "30  E 0.02     Wisconsin REE ex  12 iso:LWHS  12 g...  4f7.(8S).6s a9S*   \n",
       "31  E 0.02     Wisconsin REE ex  12 iso:LWHS  12 g...  4f7.(8S).6s a9S*   \n",
       "32  E 0.02     Wisconsin REE ex  12 iso:LWHS  12 g...  4f7.(8S).6s a9S*   \n",
       "33  E 0.02     Wisconsin REE ex  12 iso:LWHS  12 g...  4f7.(8S).6s a9S*   \n",
       "\n",
       "                         term_upper     error  atom_number  ionization  \n",
       "0                  3d6.(5D).4p z4D*  0.500000            1           2  \n",
       "1                  3d2.(1D).4p y2D*  0.500000            1           2  \n",
       "2   4f7.(8S<7/2>).6p<1/2> (7/2,1/2)  1.047129            1           2  \n",
       "3   4f7.(8S<7/2>).6p<1/2> (7/2,1/2)  1.047129            1           2  \n",
       "4   4f7.(8S<7/2>).6p<1/2> (7/2,1/2)  1.047129            1           2  \n",
       "5   4f7.(8S<7/2>).6p<1/2> (7/2,1/2)  1.047129            1           2  \n",
       "6   4f7.(8S<7/2>).6p<1/2> (7/2,1/2)  1.047129            1           2  \n",
       "7   4f7.(8S<7/2>).6p<1/2> (7/2,1/2)  1.047129            1           2  \n",
       "8   4f7.(8S<7/2>).6p<1/2> (7/2,1/2)  1.047129            1           2  \n",
       "9   4f7.(8S<7/2>).6p<1/2> (7/2,1/2)  1.047129            1           2  \n",
       "10  4f7.(8S<7/2>).6p<1/2> (7/2,1/2)  1.047129            1           2  \n",
       "11  4f7.(8S<7/2>).6p<1/2> (7/2,1/2)  1.047129            1           2  \n",
       "12  4f7.(8S<7/2>).6p<1/2> (7/2,1/2)  1.047129            1           2  \n",
       "13  4f7.(8S<7/2>).6p<1/2> (7/2,1/2)  1.047129            1           2  \n",
       "14  4f7.(8S<7/2>).6p<1/2> (7/2,1/2)  1.047129            1           2  \n",
       "15  4f7.(8S<7/2>).6p<1/2> (7/2,1/2)  1.047129            1           2  \n",
       "16  4f7.(8S<7/2>).6p<1/2> (7/2,1/2)  1.047129            1           2  \n",
       "17  4f7.(8S<7/2>).6p<1/2> (7/2,1/2)  1.047129            1           2  \n",
       "18                       5s.5p z3P*  1.023293            1           2  \n",
       "19  4f7.(8S<7/2>).6p<1/2> (7/2,1/2)  1.047129            1           2  \n",
       "20  4f7.(8S<7/2>).6p<1/2> (7/2,1/2)  1.047129            1           2  \n",
       "21  4f7.(8S<7/2>).6p<1/2> (7/2,1/2)  1.047129            1           2  \n",
       "22  4f7.(8S<7/2>).6p<1/2> (7/2,1/2)  1.047129            1           2  \n",
       "23  4f7.(8S<7/2>).6p<1/2> (7/2,1/2)  1.047129            1           2  \n",
       "24  4f7.(8S<7/2>).6p<1/2> (7/2,1/2)  1.047129            1           2  \n",
       "25  4f7.(8S<7/2>).6p<1/2> (7/2,1/2)  1.047129            1           2  \n",
       "26  4f7.(8S<7/2>).6p<1/2> (7/2,1/2)  1.047129            1           2  \n",
       "27  4f7.(8S<7/2>).6p<1/2> (7/2,1/2)  1.047129            1           2  \n",
       "28  4f7.(8S<7/2>).6p<1/2> (7/2,1/2)  1.047129            1           2  \n",
       "29  4f7.(8S<7/2>).6p<1/2> (7/2,1/2)  1.047129            1           2  \n",
       "30  4f7.(8S<7/2>).6p<1/2> (7/2,1/2)  1.047129            1           2  \n",
       "31  4f7.(8S<7/2>).6p<1/2> (7/2,1/2)  1.047129            1           2  \n",
       "32  4f7.(8S<7/2>).6p<1/2> (7/2,1/2)  1.047129            1           2  \n",
       "33  4f7.(8S<7/2>).6p<1/2> (7/2,1/2)  1.047129            1           2  "
      ]
     },
     "execution_count": 160,
     "metadata": {},
     "output_type": "execute_result"
    }
   ],
   "source": [
    "sme.linelist"
   ]
  },
  {
   "cell_type": "code",
   "execution_count": 221,
   "id": "602303ab-9114-4da6-a78e-070a3c258d48",
   "metadata": {
    "tags": []
   },
   "outputs": [
    {
     "data": {
      "text/plain": [
       "7      2541284393302759296_3708442_129\n",
       "62     4854289415101796608_3708430_135\n",
       "103    6488378098744387968_3576337_082\n",
       "70     5735381717990313216_3572855_004\n",
       "38     3572437218517370240_3573679_095\n",
       "                    ...               \n",
       "35     3543785319887452800_3572787_023\n",
       "133    6728409939582968192_3572831_014\n",
       "110    6631364397619544448_3572790_006\n",
       "64     4905666294932720000_3708505_125\n",
       "41     3608416056475856512_3708499_157\n",
       "Name: spec_id, Length: 160, dtype: object"
      ]
     },
     "execution_count": 221,
     "metadata": {},
     "output_type": "execute_result"
    }
   ],
   "source": [
    "uves_fe.sort_values(by='monh', ascending=True).spec_id"
   ]
  },
  {
   "cell_type": "code",
   "execution_count": null,
   "id": "0729d4a0-e465-4ae2-9d2c-62af1db2eec9",
   "metadata": {
    "tags": []
   },
   "outputs": [],
   "source": []
  },
  {
   "cell_type": "code",
   "execution_count": null,
   "id": "92803394-c81d-4866-8762-edda2a2172de",
   "metadata": {},
   "outputs": [],
   "source": []
  },
  {
   "cell_type": "code",
   "execution_count": null,
   "id": "0aa9b098-da32-4613-82ee-695f74701ec0",
   "metadata": {
    "tags": []
   },
   "outputs": [],
   "source": []
  },
  {
   "cell_type": "code",
   "execution_count": null,
   "id": "69cdebf2-1ea2-40af-9514-d3fe63d276e6",
   "metadata": {},
   "outputs": [],
   "source": [
    "#Small analysis of the elems mcmc"
   ]
  },
  {
   "cell_type": "code",
   "execution_count": 15,
   "id": "29a5ed0e-3552-4711-bcd1-8a50adeb2eba",
   "metadata": {
    "tags": []
   },
   "outputs": [],
   "source": [
    "%%time\n",
    "#Merge all files into one\n",
    "\n",
    "# os.system('cat tmp_elems/elem_fe_???????????????????_???????_???.csv > tmp_merged/elem_fe_merged.csv');\n",
    "# os.system('cat tmp_elems/elem_fe_nlte*.csv > tmp_merged/elem_fe_nlte_merged.csv');\n",
    "os.system('cat tmp_elems/elem_ba_???????????????????_???????_???.csv > tmp_merged/elem_ba_merged.csv');\n",
    "os.system('cat tmp_elems/elem_ba_nlte*.csv > tmp_merged/elem_ba_nlte_merged.csv');\n",
    "os.system('cat tmp_elems/elem_sr*.csv > tmp_merged/elem_sr_merged.csv');\n",
    "os.system('cat tmp_elems/elem_eu*.csv > tmp_merged/elem_eu_merged.csv');\n",
    "# os.system('cat tmp_elems/elem_ti_???????????????????_???????_???.csv > tmp_merged/elem_ti_merged.csv');\n",
    "# os.system('cat tmp_elems/elem_ti_nlte*.csv > tmp_merged/elem_ti_nlte_merged.csv');\n",
    "# os.system('cat tmp_elems/elem_ni*.csv > tmp_merged/elem_ni_merged.csv');\n",
    "# os.system('cat tmp_elems/elem_mg_???????????????????_???????_???.csv > tmp_merged/elem_mg_merged.csv');\n",
    "# os.system('cat tmp_elems/elem_mg_nlte*.csv > tmp_merged/elem_mg_nlte_merged.csv');\n",
    "# os.system('cat tmp_elems/elem_ca_???????????????????_???????_???.csv > tmp_merged/elem_ca_merged.csv');\n",
    "# os.system('cat tmp_elems/elem_ca_nlte*.csv > tmp_merged/elem_ca_nlte_merged.csv');\n",
    "# os.system('cat tmp_elems/elem_y*.csv  > tmp_merged/elem_y_merged.csv');\n",
    "# os.system('cat tmp_elems/elem_la*.csv > tmp_merged/elem_la_merged.csv');\n",
    "# os.system('cat tmp_elems/elem_mn*.csv > tmp_merged/elem_mn_merged.csv');\n",
    "# os.system('cat tmp_elems/elem_na*.csv > tmp_merged/elem_na_merged.csv');\n",
    "# os.system('cat tmp_elems/elem_co*.csv > tmp_merged/elem_co_merged.csv');\n",
    "# os.system('cat tmp_elems/elem_cr*.csv > tmp_merged/elem_cr_merged.csv');\n",
    "# os.system('cat tmp_elems/elem_dy*.csv > tmp_merged/elem_dy_merged.csv');\n",
    "# os.system('cat tmp_elems/elem_nd*.csv > tmp_merged/elem_nd_merged.csv');\n",
    "# os.system('cat tmp_elems/elem_sc*.csv > tmp_merged/elem_sc_merged.csv');\n",
    "# os.system('cat tmp_elems/elem_si_???????????????????_???????_???.csv > tmp_merged/elem_si_merged.csv');\n",
    "# os.system('cat tmp_elems/elem_si_nlte*.csv > tmp_merged/elem_si_nlte_merged.csv');\n",
    "# os.system('cat tmp_elems/elem_v*.csv  > tmp_merged/elem_v_merged.csv');\n",
    "# os.system('cat tmp_elems/elem_zn*.csv > tmp_merged/elem_zn_merged.csv');\n",
    "# os.system('cat tmp_elems/elem_zr*.csv > tmp_merged/elem_zr_merged.csv');\n",
    "# os.system('cat tmp_elems/elem_li*.csv > tmp_merged/elem_li_merged.csv');\n",
    "# os.system('cat tmp_elems/elem_al*.csv > tmp_merged/elem_al_merged.csv');\n",
    "# os.system('cat tmp_elems/elem_k*.csv > tmp_merged/elem_k_merged.csv');\n",
    "# os.system('cat tmp_elems/elem_o*.csv > tmp_merged/elem_o_merged.csv');\n",
    "# os.system('cat tmp_elems/elem_mo*.csv > tmp_merged/elem_mo_merged.csv');\n",
    "# os.system('cat tmp_elems/elem_ce*.csv > tmp_merged/elem_ce_merged.csv');\n",
    "# os.system('cat tmp_elems/elem_u*.csv > tmp_merged/elem_u_merged.csv');\n",
    "# os.system('cat tmp_elems/elem_th*.csv > tmp_merged/elem_th_merged.csv');\n",
    "# os.system('cat tmp_elems/elem_pr*.csv > tmp_merged/elem_pr_merged.csv');\n",
    "# os.system('cat tmp_elems/elem_gd*.csv > tmp_merged/elem_gd_merged.csv');\n",
    "\n",
    "# os.system(\"sed '1i spec_id,fe,efe_sme,efe_fit,sme_vrad1,sme_vrad2,sme_vrad3,vmac' tmp_merged/elem_fe_merged.csv -i \");\n",
    "# os.system(\"sed '1i spec_id,fe_nlte,efe_nlte_sme,efe_nlte_fit,sme_vrad1,sme_vrad2,sme_vrad3,vmac' tmp_merged/elem_fe_nlte_merged.csv -i \");\n",
    "os.system(\"sed '1i spec_id,ba,eba_sme,eba_fit,niter_ba' tmp_merged/elem_ba_merged.csv -i \");\n",
    "os.system(\"sed '1i spec_id,ba_nlte,eba_nlte_sme,eba_nlte_fit,niter_ba_nlte' tmp_merged/elem_ba_nlte_merged.csv -i \");\n",
    "os.system(\"sed '1i spec_id,sr,esr_sme,esr_fit,niter_sr' tmp_merged/elem_sr_merged.csv -i \");\n",
    "os.system(\"sed '1i spec_id,eu,eeu_sme,eeu_fit,niter_eu' tmp_merged/elem_eu_merged.csv -i \");\n",
    "# os.system(\"sed '1i spec_id,ti,eti_sme,eti_fit,niter_ti' tmp_merged/elem_ti_merged.csv -i \");\n",
    "# os.system(\"sed '1i spec_id,ti_nlte,eti_nlte_sme,eti_nlte_fit,niter_ti_nlte' tmp_merged/elem_ti_nlte_merged.csv -i \");\n",
    "# os.system(\"sed '1i spec_id,ni,eni_sme,eni_fit' tmp_merged/elem_ni_merged.csv -i \");\n",
    "# os.system(\"sed '1i spec_id,mg,emg_sme,emg_fit,niter_mg' tmp_merged/elem_mg_merged.csv -i \");\n",
    "# os.system(\"sed '1i spec_id,mg_nlte,emg_nlte_sme,emg_nlte_fit,niter_mg_nlte' tmp_merged/elem_mg_nlte_merged.csv -i \");\n",
    "# os.system(\"sed '1i spec_id,ca,eca_sme,eca_fit,niter_ca' tmp_merged/elem_ca_merged.csv -i \");\n",
    "# os.system(\"sed '1i spec_id,ca_nlte,eca_nlte_sme,eca_nlte_fit,niter_ca_nlte' tmp_merged/elem_ca_nlte_merged.csv -i \");\n",
    "# os.system(\"sed '1i spec_id,y,ey_sme,ey_fit,niter_y' tmp_merged/elem_y_merged.csv -i \");\n",
    "# os.system(\"sed '1i spec_id,la,ela_sme,ela_fit,niter_la' tmp_merged/elem_la_merged.csv -i \");\n",
    "# os.system(\"sed '1i spec_id,mn,emn_sme,emn_fit' tmp_merged/elem_mn_merged.csv -i \");\n",
    "# os.system(\"sed '1i spec_id,na,ena_sme,ena_fit' tmp_merged/elem_na_merged.csv -i \");\n",
    "# os.system(\"sed '1i spec_id,co,eco_sme,eco_fit' tmp_merged/elem_co_merged.csv -i \");\n",
    "# os.system(\"sed '1i spec_id,cr,ecr_sme,ecr_fit' tmp_merged/elem_cr_merged.csv -i \");\n",
    "# os.system(\"sed '1i spec_id,dy,edy_sme,edy_fit,niter_dy' tmp_merged/elem_dy_merged.csv -i \");\n",
    "# os.system(\"sed '1i spec_id,nd,end_sme,end_fit,niter_nd' tmp_merged/elem_nd_merged.csv -i \");\n",
    "# os.system(\"sed '1i spec_id,sc,esc_sme,esc_fit' tmp_merged/elem_sc_merged.csv -i \");\n",
    "# os.system(\"sed '1i spec_id,si_nlte,esi_nlte_sme,esi_nlte_fit,niter_si_nlte' tmp_merged/elem_si_nlte_merged.csv -i \");\n",
    "# os.system(\"sed '1i spec_id,si,esi_sme,esi_fit,niter_si' tmp_merged/elem_si_merged.csv -i \");\n",
    "# os.system(\"sed '1i spec_id,v,ev_sme,ev_fit' tmp_merged/elem_v_merged.csv -i \");\n",
    "# os.system(\"sed '1i spec_id,zn,ezn_sme,ezn_fit' tmp_merged/elem_zn_merged.csv -i \");\n",
    "# os.system(\"sed '1i spec_id,zr,ezr_sme,ezr_fit' tmp_merged/elem_zr_merged.csv -i \");\n",
    "# os.system(\"sed '1i spec_id,li,eli_sme,eli_fit,niter_li' tmp_merged/elem_li_merged.csv -i \");\n",
    "# os.system(\"sed '1i spec_id,al,eal_sme,eal_fit' tmp_merged/elem_al_merged.csv -i \");\n",
    "# os.system(\"sed '1i spec_id,k,ek_sme,ek_fit' tmp_merged/elem_k_merged.csv -i \");\n",
    "# os.system(\"sed '1i spec_id,o,eo_sme,eo_fit' tmp_merged/elem_o_merged.csv -i \");\n",
    "# os.system(\"sed '1i spec_id,mo,emo_sme,emo_fit' tmp_merged/elem_mo_merged.csv -i \");\n",
    "# os.system(\"sed '1i spec_id,ce,ece_sme,ece_fit' tmp_merged/elem_ce_merged.csv -i \");\n",
    "# os.system(\"sed '1i spec_id,u,eu_sme,eu_fit' tmp_merged/elem_u_merged.csv -i \");\n",
    "# os.system(\"sed '1i spec_id,th,eth_sme,eth_fit' tmp_merged/elem_th_merged.csv -i \");\n",
    "# os.system(\"sed '1i spec_id,pr,epr_sme,epr_fit' tmp_merged/elem_pr_merged.csv -i \");\n",
    "# os.system(\"sed '1i spec_id,gd,egd_sme,egd_fit' tmp_merged/elem_gd_merged.csv -i \");"
   ]
  },
  {
   "cell_type": "code",
   "execution_count": null,
   "id": "c8116f37-ce12-44a0-872a-92773119d1c3",
   "metadata": {},
   "outputs": [],
   "source": []
  },
  {
   "cell_type": "code",
   "execution_count": 17,
   "id": "b93baabf-2f16-4370-8a6c-acb60b1f3c69",
   "metadata": {},
   "outputs": [],
   "source": [
    "elems_x_merged = sorted(glob.glob('tmp_merged/elem_*_merged.csv'))"
   ]
  },
  {
   "cell_type": "code",
   "execution_count": 20,
   "id": "5bb90656-d1d4-43f9-bd7a-2ceef852f591",
   "metadata": {},
   "outputs": [],
   "source": [
    "solar = SME_Structure()\n",
    "solar.abund = Abund(0.0, 'asplund2009')"
   ]
  },
  {
   "cell_type": "code",
   "execution_count": 21,
   "id": "04de47b9-bafe-4497-8cc9-935e99c4491a",
   "metadata": {
    "tags": []
   },
   "outputs": [],
   "source": [
    "uves = pd.read_csv('uves_p111_p112_pristinedr1_xgboost_atm_means_carbon_nitrogen_limits.csv')\n",
    "uves.drop(columns=['sme_vrad1', 'sme_vrad2', 'sme_vrad3', 'vmac'], inplace=True)\n",
    "\n",
    "elems_x_merged = sorted(glob.glob('tmp_merged/elem_*_merged.csv'))\n",
    "\n",
    "for elem_x_merged in elems_x_merged:\n",
    "    elem_x = pd.read_csv(elem_x_merged)\n",
    "    if elem_x_merged == 'tmp_merged/elem_fe_merged.csv':\n",
    "        elem_x.drop(columns=['sme_vrad1', 'sme_vrad2', 'sme_vrad3', 'vmac'], inplace=True)\n",
    "    uves = uves.merge(right=elem_x, right_on='spec_id', left_on='spec_id')\n",
    "    # print(elem_x.columns, uves.ra.size)\n",
    "    \n",
    "uves['feh'] = uves.fe.values - solar.abund.get_element('Fe') + uves.monh.values\n",
    "uves['feh_nlte'] = uves.fe_nlte.values - solar.abund.get_element('Fe') + uves.monh.values\n",
    "uves['bafe'] = uves.ba.values - solar.abund.get_element('Ba')\n",
    "uves['bafe_nlte'] = uves.ba_nlte.values - solar.abund.get_element('Ba')\n",
    "uves['srfe'] = uves.sr.values - solar.abund.get_element('Sr')\n",
    "uves['eufe'] = uves.eu.values - solar.abund.get_element('Eu')\n",
    "uves['tife'] = uves.ti.values - solar.abund.get_element('Ti')\n",
    "uves['tife_nlte'] = uves.ti_nlte.values - solar.abund.get_element('Ti')\n",
    "uves['nife'] = uves.ni.values - solar.abund.get_element('Ni')\n",
    "uves['mgfe'] = uves.mg.values - solar.abund.get_element('Mg')\n",
    "uves['mgfe_nlte'] = uves.mg_nlte.values - solar.abund.get_element('Mg')\n",
    "uves['cafe'] = uves.ca.values - solar.abund.get_element('Ca')\n",
    "uves['cafe_nlte'] = uves.ca_nlte.values - solar.abund.get_element('Ca')\n",
    "uves['yfe'] = uves.y.values - solar.abund.get_element('Y')\n",
    "uves['lafe'] = uves.la.values - solar.abund.get_element('La')\n",
    "uves['mnfe'] = uves.mn.values - solar.abund.get_element('Mn')\n",
    "uves['nafe'] = uves.na.values - solar.abund.get_element('Na')\n",
    "uves['cofe'] = uves.co.values - solar.abund.get_element('Co')\n",
    "uves['crfe'] = uves.cr.values - solar.abund.get_element('Cr')\n",
    "uves['dyfe'] = uves.dy.values - solar.abund.get_element('Dy')\n",
    "uves['ndfe'] = uves.nd.values - solar.abund.get_element('Nd')\n",
    "uves['scfe'] = uves.sc.values - solar.abund.get_element('Sc')\n",
    "uves['sife'] = uves.si.values - solar.abund.get_element('Si')\n",
    "uves['sife_nlte'] = uves.si_nlte.values - solar.abund.get_element('Si')\n",
    "uves['vfe'] = uves.v.values - solar.abund.get_element('V')\n",
    "uves['znfe'] = uves.zn.values - solar.abund.get_element('Zn')\n",
    "uves['zrfe'] = uves.zr.values - solar.abund.get_element('Zr')\n",
    "uves['life'] = uves.li.values - solar.abund.get_element('Li')\n",
    "uves['alfe'] = uves.al.values - solar.abund.get_element('Al')\n",
    "uves['kfe'] = uves.k.values - solar.abund.get_element('K')\n",
    "uves['ofe'] = uves.o.values - solar.abund.get_element('O')\n",
    "uves['mofe'] = uves.mo.values - solar.abund.get_element('Mo')\n",
    "uves['cefe'] = uves.ce.values - solar.abund.get_element('Ce')\n",
    "# uves['ufe'] = uves.u.values - solar.abund.get_element('U')\n",
    "uves['thfe'] = uves.th.values - solar.abund.get_element('Th')\n",
    "uves['prfe'] = uves.pr.values - solar.abund.get_element('Pr')\n",
    "uves['gdfe'] = uves.gd.values - solar.abund.get_element('Gd')"
   ]
  },
  {
   "cell_type": "code",
   "execution_count": 30,
   "id": "da1e2428-8b11-4b74-9d3f-d12563d4e8e5",
   "metadata": {
    "tags": []
   },
   "outputs": [],
   "source": [
    "uves.to_csv('uves_p111_p112_pristinedr1_xgboost_atm_means_carbon_nitrogen_limits_all_elems.csv', index=False, header=True)"
   ]
  },
  {
   "cell_type": "code",
   "execution_count": null,
   "id": "324186f0-7a39-49e6-a9da-df7f0b9f7a39",
   "metadata": {
    "tags": []
   },
   "outputs": [],
   "source": []
  },
  {
   "cell_type": "code",
   "execution_count": null,
   "id": "699496a9-3dd2-4f04-b7f5-6f1b6d2708d5",
   "metadata": {
    "tags": []
   },
   "outputs": [],
   "source": []
  },
  {
   "cell_type": "code",
   "execution_count": null,
   "id": "6b8ef190-4e87-4e15-b87b-0a6d8b1e5c00",
   "metadata": {
    "tags": []
   },
   "outputs": [],
   "source": []
  },
  {
   "cell_type": "code",
   "execution_count": 20,
   "id": "ec82a528-c4ef-497f-8ec0-0ad43909562d",
   "metadata": {
    "tags": []
   },
   "outputs": [],
   "source": [
    "# REference De la Reza in brasil papers to look for "
   ]
  },
  {
   "cell_type": "code",
   "execution_count": 224,
   "id": "6017df2d-f4e1-4e89-a923-c93963a96548",
   "metadata": {
    "tags": []
   },
   "outputs": [
    {
     "data": {
      "text/plain": [
       "105    6661076122378750208_3572802_012\n",
       "19     2882976353396129408_3708481_136\n",
       "22     2970270979572570240_3708418_138\n",
       "59     5454289027730222848_3708466_148\n",
       "23     3067753616067185024_3708457_144\n",
       "38     3665739129549287808_3573703_091\n",
       "85     6445869192509584640_3573664_098\n",
       "84     6451871117247012864_3576367_065\n",
       "94     6572630135729345280_3572858_032\n",
       "37     3598383734427539840_3576364_061\n",
       "21     2967216093892060928_3708490_143\n",
       "13     2666382767566459264_3573733_102\n",
       "20     2900487695273194880_3708421_133\n",
       "25     3184578612007287680_3708454_140\n",
       "88     6456829704234138880_3573712_113\n",
       "104    6654901157699273600_3573661_096\n",
       "145    6901832159125681408_3576307_084\n",
       "87     6456829704234138880_3573712_110\n",
       "14     2694284013287934208_3572882_005\n",
       "12     2668140817939519744_3576352_067\n",
       "8      2599833353121973248_3573736_122\n",
       "40     3822507802379684608_3576289_059\n",
       "42     3864303022490267136_3572840_010\n",
       "134    6846461582481204096_3572822_024\n",
       "146    6913266534594667904_3576310_068\n",
       "61     5735381717990313216_3572855_004\n",
       "5      2378437233645989632_3573255_056\n",
       "102    6638289946484861184_3573754_112\n",
       "103    6638289946484861184_3573754_117\n",
       "4      1749801257286506880_3573721_089\n",
       "76     6324010937276922880_3572861_025\n",
       "75     6279500095244393728_3573718_120\n",
       "45     3910233647567741056_3573216_038\n",
       "1      1172165023972931072_3573727_087\n",
       "60     5584165230990237824_3708487_142\n",
       "89     6473118900280458240_3573196_049\n",
       "91     6517965235093153920_3572819_016\n",
       "55     4901776016635135488_3708493_124\n",
       "116    6710975288644549760_3573739_108\n",
       "29     3492757569356904320_3572799_018\n",
       "66     5805489018923755136_3573688_101\n",
       "52     4752197836317724160_3704064_123\n",
       "31     3523787024442853504_3576331_058\n",
       "24     3178512679373155712_3708475_132\n",
       "10     2629976155159613312_3573193_053\n",
       "46     4411228560308157184_3572825_009\n",
       "Name: spec_id, dtype: object"
      ]
     },
     "execution_count": 224,
     "metadata": {},
     "output_type": "execute_result"
    }
   ],
   "source": [
    "uves[uves.eli_sme < li_err].sort_values(by='li', ascending=False).spec_id"
   ]
  },
  {
   "cell_type": "code",
   "execution_count": 323,
   "id": "41423cf8-7040-4dc2-8905-6f1cdc8017ce",
   "metadata": {
    "tags": []
   },
   "outputs": [
    {
     "data": {
      "image/png": "[encoded data removed]",
      "text/plain": [
       "<Figure size 640x480 with 1 Axes>"
      ]
     },
     "metadata": {},
     "output_type": "display_data"
    }
   ],
   "source": [
    "plt.scatter(uves.feh.values, uves.bafe.values, s=10, color='k')\n",
    "plt.scatter(jina.feh.values, jina.bafe.values, color='grey', s=1, alpha=0.25)\n",
    "plt.xlim(-3.7, -2.2)\n",
    "plt.ylim(-2.5, 2.0)\n",
    "plt.show()"
   ]
  },
  {
   "cell_type": "code",
   "execution_count": 327,
   "id": "bb66ef50-501b-4214-b739-326e2caa6ca2",
   "metadata": {
    "tags": []
   },
   "outputs": [
    {
     "data": {
      "image/png": "[encoded data removed]",
      "text/plain": [
       "<Figure size 640x480 with 1 Axes>"
      ]
     },
     "metadata": {},
     "output_type": "display_data"
    }
   ],
   "source": [
    "plt.scatter(uves.feh.values, uves.eufe.values, s=1, color='k')\n",
    "plt.scatter(jina.feh.values, jina.eufe.values, color='grey', s=1, alpha=0.25)\n",
    "plt.xlim(-3.7, -2.1)\n",
    "plt.ylim(-0.8, 2.)\n",
    "plt.show()"
   ]
  },
  {
   "cell_type": "code",
   "execution_count": 309,
   "id": "448b017e-580b-43ab-a156-4a25931b562b",
   "metadata": {
    "tags": []
   },
   "outputs": [
    {
     "data": {
      "image/png": "[encoded data removed]",
      "text/plain": [
       "<Figure size 640x480 with 1 Axes>"
      ]
     },
     "metadata": {},
     "output_type": "display_data"
    }
   ],
   "source": [
    "plt.scatter(uves.bafe.values, uves.srfe.values - uves.bafe.values, s=1, color='k')\n",
    "# plt.ylim(-0.8, 2.)\n",
    "plt.show()"
   ]
  },
  {
   "cell_type": "code",
   "execution_count": 334,
   "id": "a98c79bb-d380-47f3-ad67-82be2de99a64",
   "metadata": {
    "tags": []
   },
   "outputs": [
    {
     "data": {
      "image/png": "[encoded data removed]",
      "text/plain": [
       "<Figure size 640x480 with 1 Axes>"
      ]
     },
     "metadata": {},
     "output_type": "display_data"
    }
   ],
   "source": [
    "plt.scatter(uves.bafe.values, uves.bafe.values - uves.eufe.values, s=1, color='k')\n",
    "plt.scatter(jina.bafe.values, jina.bafe.values - jina.eufe.values, color='grey', s=1, alpha=0.25)\n",
    "\n",
    "plt.xlim(-2.0, 1.)\n",
    "plt.ylim(-2.0, 1.)\n",
    "plt.show()"
   ]
  },
  {
   "cell_type": "code",
   "execution_count": null,
   "id": "60240f30-716e-4f0c-99ec-390cd3b77af3",
   "metadata": {},
   "outputs": [],
   "source": []
  },
  {
   "cell_type": "code",
   "execution_count": null,
   "id": "9a1e72cf-fdd2-4829-858f-2198f8ea2e1e",
   "metadata": {},
   "outputs": [],
   "source": []
  },
  {
   "cell_type": "code",
   "execution_count": 258,
   "id": "f19107ac-ca8c-4304-8a4f-ce34665de5e8",
   "metadata": {
    "tags": []
   },
   "outputs": [
    {
     "data": {
      "image/png": "[encoded data removed]",
      "text/plain": [
       "<Figure size 640x480 with 1 Axes>"
      ]
     },
     "metadata": {},
     "output_type": "display_data"
    }
   ],
   "source": [
    "# plt.hist(uves_fe0.efe_sme.values, bins=25, histtype='step')\n",
    "# plt.hist(uves_fe_sr.sr.values, bins=25, histtype='step')\n",
    "# plt.hist(uves_fe_eu.eu.values, bins=25, histtype='step')\n",
    "\n",
    "plt.hist(uves.eba_sme.values, bins=50, histtype='step', range=(0, 1.), label='Ba')\n",
    "plt.hist(uves.esr_sme.values, bins=50, histtype='step', range=(0, 1.), label='Sr')\n",
    "plt.hist(uves.eeu_sme.values, bins=50, histtype='step', range=(0, 1.), label='Eu')\n",
    "\n",
    "# plt.hist(uves_fe_ba.ba.values - solar.abund.get_element('Ba'), bins=50, histtype='step', density=True)\n",
    "# plt.hist(jina.bafe.values, bins=100, density=True)\n",
    "\n",
    "# plt.xlim(-2,1)\n",
    "plt.legend()\n",
    "plt.show()"
   ]
  },
  {
   "cell_type": "code",
   "execution_count": null,
   "id": "984893ad-5421-4410-a479-13e7aa999cb0",
   "metadata": {
    "tags": []
   },
   "outputs": [],
   "source": []
  },
  {
   "cell_type": "code",
   "execution_count": 286,
   "id": "036bf04e-a433-4a2c-be9f-6bda6bdae9a5",
   "metadata": {
    "tags": []
   },
   "outputs": [
    {
     "data": {
      "image/png": "[encoded data removed]",
      "text/plain": [
       "<Figure size 640x480 with 1 Axes>"
      ]
     },
     "metadata": {},
     "output_type": "display_data"
    }
   ],
   "source": [
    "plt.scatter(uves.snr_4030.values, uves.efe_sme.values, s=5, color='k')\n",
    "plt.scatter(uves.snr_4460.values, uves.efe_sme.values, s=5, color='g')\n",
    "\n",
    "x = np.linspace(10, 80)\n",
    "plt.plot(x, 1./x**0.5, color='C4')\n",
    "\n",
    "plt.xlabel('SNR')\n",
    "plt.ylabel(r'$\\sigma$')\n",
    "plt.ylim(0.0, 0.8)\n",
    "plt.show()"
   ]
  },
  {
   "cell_type": "code",
   "execution_count": null,
   "id": "23a3cb50-06fe-4761-852f-360ecf25e434",
   "metadata": {
    "tags": []
   },
   "outputs": [],
   "source": []
  },
  {
   "cell_type": "code",
   "execution_count": null,
   "id": "b04b148b-2721-404a-8748-a4e01398e9b9",
   "metadata": {
    "tags": []
   },
   "outputs": [],
   "source": []
  },
  {
   "cell_type": "code",
   "execution_count": 24,
   "id": "020ed55f-0e97-4791-a824-a8545536aa5e",
   "metadata": {},
   "outputs": [],
   "source": [
    "#NLTE grids\n",
    "\n",
    "# sme.nlte.set_nlte('Fe', 'nlte_Fe_ama51_Feb2022_pysme.grd')\n",
    "# sme.nlte.set_nlte('Mg', 'nlte_Mg_ama51_pysme.grd')\n",
    "# sme.nlte.set_nlte('Ba', 'nlte_Ba_ama51_pysme.grd')\n",
    "# sme.nlte.set_nlte('Ca', 'nlte_Ca_ama51_pysme.grd')\n",
    "# sme.nlte.set_nlte('H', 'nlte_H_ama51_pysme.grd')\n",
    "# sme.nlte.set_nlte('C', 'nlte_C_ama51_pysme.grd')\n",
    "# sme.nlte.set_nlte('N', 'nlte_N_ama51_pysme.grd')\n",
    "# sme.nlte.set_nlte('Al', 'nlte_Al_ama51_pysme.grd')\n",
    "# sme.nlte.set_nlte('Li', 'nlte_Li_ama51_pysme.grd')\n",
    "# sme.nlte.set_nlte('Na', 'nlte_Na_ama51_pysme.grd')\n",
    "# sme.nlte.set_nlte('Ti', 'marcs2012s_t2.0_Ti.grd')\n",
    "# sme.nlte.set_nlte('K', 'nlte_K_ama51_pysme.grd')\n",
    "# sme.nlte.set_nlte('Mn', 'nlte_Mn_ama51_pysme.grd')    \n",
    "# sme.nlte.set_nlte('Si', 'nlte_Si_ama51_pysme.grd')\n",
    "# sme.nlte.set_nlte('O', 'nlte_O_ama51_pysme.grd')"
   ]
  },
  {
   "cell_type": "code",
   "execution_count": null,
   "id": "e8375efe-588c-4a39-b95d-2f69dfd38cc5",
   "metadata": {},
   "outputs": [],
   "source": []
  }
 ],
 "metadata": {
  "kernelspec": {
   "display_name": "Python 3 (ipykernel)",
   "language": "python",
   "name": "python3"
  },
  "language_info": {
   "codemirror_mode": {
    "name": "ipython",
    "version": 3
   },
   "file_extension": ".py",
   "mimetype": "text/x-python",
   "name": "python",
   "nbconvert_exporter": "python",
   "pygments_lexer": "ipython3",
   "version": "3.9.12"
  }
 },
 "nbformat": 4,
 "nbformat_minor": 5
}
