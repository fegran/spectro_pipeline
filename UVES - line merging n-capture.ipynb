{
 "cells": [
  {
   "cell_type": "code",
   "execution_count": 1,
   "id": "d6dd8967-e2ea-4b74-988a-912c033e6e46",
   "metadata": {},
   "outputs": [
    {
     "name": "stdout",
     "output_type": "stream",
     "text": [
      "CPU times: user 669 ms, sys: 87.1 ms, total: 756 ms\n",
      "Wall time: 1.4 s\n"
     ]
    }
   ],
   "source": [
    "%%time\n",
    "\n",
    "from astropy.stats import mad_std\n",
    "import matplotlib.pyplot as plt\n",
    "import pandas as pd\n",
    "import numpy as np\n",
    "import warnings\n",
    "import glob\n",
    "import sys\n",
    "import os\n",
    "import gc\n",
    "\n",
    "# plt.rcParams.update({\n",
    "#     \"text.usetex\": True,\n",
    "#     \"font.family\": \"Helvetica\"\n",
    "# })\n",
    "\n",
    "warnings.filterwarnings('ignore')"
   ]
  },
  {
   "cell_type": "code",
   "execution_count": 2,
   "id": "8f0fcb40-341e-48db-993d-5647d5ee92fc",
   "metadata": {},
   "outputs": [],
   "source": [
    "os.chdir('/store/teams/cosmos/fgran/data/Pristine-UVES/')"
   ]
  },
  {
   "cell_type": "code",
   "execution_count": 3,
   "id": "869dfa44-d9c3-40e0-a1b4-1b91ef7698b6",
   "metadata": {},
   "outputs": [],
   "source": [
    "uves = pd.read_csv('tmp_merged/UVES_p111_p112_pristinedr1_xgboost_logg_atm_uncs_fe_c_corr_n.csv')\n",
    "cayrel = pd.read_csv('tmp_merged/cayrel_atm_fe_cn_corr.csv')"
   ]
  },
  {
   "cell_type": "code",
   "execution_count": null,
   "id": "f13f10b9-a2bb-458c-9bdb-77e073813dde",
   "metadata": {},
   "outputs": [],
   "source": []
  },
  {
   "cell_type": "code",
   "execution_count": 4,
   "id": "37eb4471-a1dd-49aa-b6b7-4e8533af7ef0",
   "metadata": {},
   "outputs": [],
   "source": [
    "#Part 1: defining good lines"
   ]
  },
  {
   "cell_type": "code",
   "execution_count": 5,
   "id": "2230ff7a-1839-4629-bd41-18f8e1824e44",
   "metadata": {
    "jupyter": {
     "source_hidden": true
    }
   },
   "outputs": [],
   "source": [
    "def merge_and_filter_all_lines_cayrel(elem_to_merge, delta_abund_bad = 0.50, std_abund_bad = 0.50, max_no_change_delta_abund = 0.25):\n",
    "    \n",
    "    os.system('cat tmp_cayrel/cayrel_elem_lines_%s_*.csv > abunds_merged/cayrel_all_%s_lines_merged.csv' %(elem_to_merge, elem_to_merge));\n",
    "\n",
    "    elem = pd.read_csv('abunds_merged/cayrel_all_%s_lines_merged.csv' %elem_to_merge, \n",
    "                       names=['spec_id','species','wl_line','excit','gflog',elem_to_merge,'e%s_sme' %elem_to_merge,\n",
    "                              'e%s_fit' %elem_to_merge,'n_iter_%s' %elem_to_merge], comment='s')\n",
    "\n",
    "    if ion_to_merge != None: elem = elem.query('species == \"%s\"' %ion_to_merge)\n",
    "    \n",
    "    elem_unique_lines_cayrel, elem_unique_lines_cayrel_counts = np.unique(elem.wl_line.values, return_counts=True)\n",
    "    grouped_stats_elem = elem.groupby('wl_line')[elem_to_merge].agg(['median', mad_std, 'count'])\n",
    "\n",
    "    argmin_elem = np.argmin(grouped_stats_elem.query('count > 0.50 * %2.2f' %grouped_stats_elem['count'].max())['mad_std'])\n",
    "    if elem_to_merge == 'ca': argmin_elem = argmin_elem - 1\n",
    "    if elem_to_merge == 'ti': argmin_elem = argmin_elem - 1\n",
    "    if elem_to_merge == 'cr': argmin_elem = argmin_elem - 2\n",
    "    if elem_to_merge == 'eu': argmin_elem = argmin_elem - 1\n",
    "    if elem_to_merge == 'ba': argmin_elem = argmin_elem + 1\n",
    "    if elem_to_merge == 'la': argmin_elem = argmin_elem - 1\n",
    "    elem_ref = elem.query('wl_line == %4.2f' %elem_unique_lines_cayrel[argmin_elem])[elem_to_merge].values\n",
    "\n",
    "    line_madstd_elem = grouped_stats_elem['mad_std'].values\n",
    "    line_median_elem = grouped_stats_elem['median'].values\n",
    "    delta_abund_elem_cayrel = line_median_elem - np.median(elem_ref)\n",
    "\n",
    "    bad_line_elem_cayrel = (np.abs(delta_abund_elem_cayrel) > delta_abund_bad) | (line_madstd_elem > std_abund_bad)\n",
    "    if np.sum(bad_line_elem_cayrel) == 0:\n",
    "        bad_line_elem_cayrel = ~bad_line_elem_cayrel\n",
    "    delta_abund_elem_cayrel[bad_line_elem_cayrel] = 0.0\n",
    "    delta_abund_elem_cayrel[np.abs(delta_abund_elem_cayrel) < max_no_change_delta_abund] = 0.0\n",
    "\n",
    "    print(grouped_stats_elem['median'].values)\n",
    "    \n",
    "    # Optional plot\n",
    "    plt.figure(figsize=(10,4))\n",
    "    \n",
    "    plt.errorbar(grouped_stats_elem.index, grouped_stats_elem['median'].values, yerr=grouped_stats_elem['mad_std'].values, fmt='k.', lw=1)\n",
    "    plt.errorbar(grouped_stats_elem.index, grouped_stats_elem['median'].values - delta_abund_elem_cayrel, yerr=grouped_stats_elem['mad_std'].values, fmt='g.', lw=1, zorder=0)\n",
    "    plt.hlines(np.median(elem_ref), 3750, 5750, color='C3', lw=2, alpha=0.5)\n",
    "    plt.scatter(grouped_stats_elem.index[bad_line_elem_cayrel], 6+np.ones_like(grouped_stats_elem.index[bad_line_elem_cayrel]), marker='x', color='r')\n",
    "    # w = 1./grouped_stats_elem['mad_std'].values[~bad_line_elem_cayrel]**2.\n",
    "    # w[w < 0.001] = 0.1\n",
    "    # plt.hlines(np.average(grouped_stats_elem['median'].values[~bad_line_elem_cayrel], weights=w), 3750, 5600, color='C4', lw=2, alpha=0.5)\n",
    "    # plt.hlines(np.median(grouped_stats_elem['median'].values[~bad_line_elem_cayrel]), 3750, 5750, color='C6', lw=2, alpha=0.5)\n",
    "    plt.ylabel(r'${\\rm %s}$' %ion_to_merge.lower().replace(' ', ''), size=14)\n",
    "    plt.xlabel(r'${\\rm Wavelength\\ (\\AA)}$', size=14)\n",
    "    q, eq = grouped_stats_elem['median'].values[~bad_line_elem_cayrel], grouped_stats_elem['mad_std'].values[~bad_line_elem_cayrel]\n",
    "    eq[eq < 0.001] = 0.1\n",
    "    plt.title(r'${\\rm %s\\ =\\ %2.2f\\ \\pm\\ %2.2f}$' %(elem_to_merge, np.average(q, weights=1./eq**2.), np.std(q)), size=14)\n",
    "    \n",
    "    plt.show()\n",
    "\n",
    "    print('%s number of lines: %d, good lines: %d' %(elem_to_merge, bad_line_elem_cayrel.size, elem_unique_lines_cayrel[~bad_line_elem_cayrel].size))\n",
    "\n",
    "    return elem_unique_lines_cayrel, bad_line_elem_cayrel, delta_abund_elem_cayrel"
   ]
  },
  {
   "cell_type": "code",
   "execution_count": 6,
   "id": "4ac3672e-062e-4498-9c26-15379453e7fe",
   "metadata": {
    "jupyter": {
     "source_hidden": true
    }
   },
   "outputs": [],
   "source": [
    "def merge_and_filter_all_nlte_lines_cayrel(elem_to_merge, ion_to_merge = None, delta_abund_bad = 0.50, std_abund_bad = 0.50, max_no_change_delta_abund = 0.25):\n",
    "    \n",
    "    os.system('cat tmp_cayrel/cayrel_elem_nlte_lines_%s*.csv > abunds_merged/cayrel_all_%s_nlte_lines_merged.csv' %(elem_to_merge, elem_to_merge));\n",
    "\n",
    "    elem = pd.read_csv('abunds_merged/cayrel_all_%s_nlte_lines_merged.csv' %elem_to_merge, \n",
    "                       names=['spec_id','species','wl_line','excit','gflog',elem_to_merge,'e%s_sme' %elem_to_merge,\n",
    "                              'e%s_fit' %elem_to_merge,'n_iter_%s' %elem_to_merge], comment='s')\n",
    "\n",
    "    if ion_to_merge != None: elem = elem.query('species == \"%s\"' %ion_to_merge)\n",
    "\n",
    "    elem_unique_lines_cayrel, elem_unique_lines_cayrel_counts = np.unique(elem.wl_line.values, return_counts=True)\n",
    "    grouped_stats_elem = elem.groupby('wl_line')[elem_to_merge].agg(['median', mad_std, 'count'])\n",
    "\n",
    "    argmin_elem = np.argmin(grouped_stats_elem.query('count > 0.50 * %2.2f' %grouped_stats_elem['count'].max())['mad_std'])\n",
    "    if elem_to_merge == 'mg': argmin_elem = argmin_elem - 2\n",
    "    if elem_to_merge == 'ca': argmin_elem = argmin_elem - 1\n",
    "    if elem_to_merge == 'ti': argmin_elem = argmin_elem + 1\n",
    "    if elem_to_merge == 'mn': argmin_elem = argmin_elem + 1\n",
    "    elem_ref = elem.query('wl_line == %4.2f' %elem_unique_lines_cayrel[argmin_elem])[elem_to_merge].values\n",
    "\n",
    "    line_madstd_elem = grouped_stats_elem['mad_std'].values\n",
    "    line_median_elem = grouped_stats_elem['median'].values\n",
    "    delta_abund_elem_cayrel = line_median_elem - np.median(elem_ref)\n",
    "\n",
    "    bad_line_elem_cayrel = (np.abs(delta_abund_elem_cayrel) > delta_abund_bad) | (line_madstd_elem > std_abund_bad)\n",
    "    delta_abund_elem_cayrel[bad_line_elem_cayrel] = 0.0\n",
    "    delta_abund_elem_cayrel[np.abs(delta_abund_elem_cayrel) < max_no_change_delta_abund] = 0.0\n",
    "\n",
    "    # # Optional plot\n",
    "    plt.figure(figsize=(10,4))\n",
    "    \n",
    "    plt.errorbar(grouped_stats_elem.index, grouped_stats_elem['median'].values, yerr=grouped_stats_elem['mad_std'].values, fmt='k.', lw=1)\n",
    "    plt.errorbar(grouped_stats_elem.index, grouped_stats_elem['median'].values - delta_abund_elem_cayrel, yerr=grouped_stats_elem['mad_std'].values, fmt='g.', lw=1, zorder=0)\n",
    "    plt.hlines(np.median(elem_ref), 3750, 5750, color='C3', lw=2, alpha=0.5)\n",
    "    plt.scatter(grouped_stats_elem.index[bad_line_elem_cayrel], 6+np.ones_like(grouped_stats_elem.index[bad_line_elem_cayrel]), marker='x', color='r')\n",
    "    plt.hlines(np.average(grouped_stats_elem['median'].values[~bad_line_elem_cayrel], weights=1./grouped_stats_elem['mad_std'].values[~bad_line_elem_cayrel]**2.), 3750, 5600, color='C4', lw=2, alpha=0.5)\n",
    "    plt.hlines(np.median(grouped_stats_elem['median'].values[~bad_line_elem_cayrel]), 3750, 5750, color='C6', lw=2, alpha=0.5)\n",
    "    plt.ylabel(r'${\\rm %s\\ NLTE}$' %ion_to_merge.lower().replace(' ', ''), size=14)\n",
    "    plt.xlabel(r'${\\rm Wavelength\\ (\\AA)}$', size=14)\n",
    "    q, eq = grouped_stats_elem['median'].values[~bad_line_elem_cayrel], grouped_stats_elem['mad_std'].values[~bad_line_elem_cayrel]\n",
    "    eq[eq < 0.001] = 0.1\n",
    "    plt.title(r'${\\rm %s\\ =\\ %2.2f\\ \\pm\\ %2.2f}$' %(elem_to_merge, np.average(q, weights=1./eq**2.), np.std(q)), size=14)\n",
    "    \n",
    "    plt.show()\n",
    "\n",
    "    print('%s number of lines: %d, good lines: %d' %(elem_to_merge, bad_line_elem_cayrel.size, elem_unique_lines_cayrel[~bad_line_elem_cayrel].size))\n",
    "\n",
    "    return elem_unique_lines_cayrel, bad_line_elem_cayrel, delta_abund_elem_cayrel"
   ]
  },
  {
   "cell_type": "code",
   "execution_count": 7,
   "id": "cb668735-8235-4d27-b5c0-613d3bcd3875",
   "metadata": {
    "jupyter": {
     "source_hidden": true
    }
   },
   "outputs": [],
   "source": [
    "def merge_and_filter_all_lines(elem_to_merge, delta_abund_bad = 0.50, std_abund_bad = 0.50, max_no_change_delta_abund = 0.25):\n",
    "    \n",
    "    os.system('cat tmp_elems/uves_elem_lines_%s*.csv > abunds_merged/uves_all_%s_lines_merged.csv' %(elem_to_merge, elem_to_merge));\n",
    "\n",
    "    elem = pd.read_csv('abunds_merged/uves_all_%s_lines_merged.csv' %elem_to_merge, \n",
    "                       names=['spec_id','species','wl_line','excit','gflog',elem_to_merge,'e%s_sme' %elem_to_merge,\n",
    "                              'e%s_fit' %elem_to_merge,'n_iter_%s' %elem_to_merge], comment='s')\n",
    "\n",
    "    elem_unique_lines, elem_unique_lines_counts = np.unique(elem.wl_line.values, return_counts=True)\n",
    "    grouped_stats_elem = elem.groupby('wl_line')[elem_to_merge].agg(['median', mad_std, 'count'])\n",
    "\n",
    "    argmin_elem = np.argmin(grouped_stats_elem.query('count > 0.50 * %2.2f' %grouped_stats_elem['count'].max())['mad_std'])\n",
    "    if elem_to_merge == 'eu': argmin_elem = argmin_elem + 1\n",
    "    if elem_to_merge == 'cr': argmin_elem = argmin_elem - 3\n",
    "    elem_ref = elem.query('wl_line == %4.2f' %elem_unique_lines[argmin_elem])[elem_to_merge].values\n",
    "\n",
    "    line_madstd_elem = grouped_stats_elem['mad_std'].values\n",
    "    line_median_elem = grouped_stats_elem['median'].values\n",
    "    delta_abund_elem = line_median_elem - np.median(elem_ref)\n",
    "\n",
    "    bad_line_elem = (np.abs(delta_abund_elem) > delta_abund_bad) | (line_madstd_elem > std_abund_bad)\n",
    "    delta_abund_elem[bad_line_elem] = 0.0\n",
    "    delta_abund_elem[np.abs(delta_abund_elem) < max_no_change_delta_abund] = 0.0\n",
    "\n",
    "    # # Optional plot\n",
    "    plt.figure(figsize=(10,4))\n",
    "    \n",
    "    plt.errorbar(grouped_stats_elem.index, grouped_stats_elem['median'].values, yerr=grouped_stats_elem['mad_std'].values, fmt='k.', lw=1)\n",
    "    plt.errorbar(grouped_stats_elem.index, grouped_stats_elem['median'].values - delta_abund_elem, yerr=grouped_stats_elem['mad_std'].values, fmt='g.', lw=1, zorder=0)\n",
    "    plt.hlines(np.median(elem_ref), 3750, 5600, color='C3', lw=2, alpha=0.5)\n",
    "    plt.scatter(grouped_stats_elem.index[bad_line_elem], 6+np.ones_like(grouped_stats_elem.index[bad_line_elem]), marker='x', color='r')\n",
    "    plt.hlines(np.average(grouped_stats_elem['median'].values[~bad_line_elem], weights=1./grouped_stats_elem['mad_std'].values[~bad_line_elem]**1.), 3750, 5600, color='C4', lw=2, alpha=0.5)\n",
    "    plt.hlines(np.median(grouped_stats_elem['median'].values[~bad_line_elem]), 3750, 5600, color='C6', lw=2, alpha=0.5)\n",
    "    plt.ylabel(r'${\\rm %s}$' %elem_to_merge, size=14)\n",
    "    plt.xlabel(r'${\\rm Wavelength\\ (\\AA)}$', size=14)\n",
    "    q, eq = grouped_stats_elem['median'].values[~bad_line_elem], grouped_stats_elem['mad_std'].values[~bad_line_elem]\n",
    "    eq[eq < 0.001] = 0.1\n",
    "    plt.title(r'${\\rm %s\\ =\\ %2.2f\\ \\pm\\ %2.2f}$' %(elem_to_merge, np.average(q, weights=1./eq**2.), np.std(q)), size=14)\n",
    "    \n",
    "    plt.show()\n",
    "\n",
    "    print('%s number of lines: %d, good lines: %d' %(elem_to_merge, bad_line_elem.size, elem_unique_lines[bad_line_elem].size))\n",
    "\n",
    "    return elem_unique_lines, bad_line_elem, delta_abund_elem"
   ]
  },
  {
   "cell_type": "code",
   "execution_count": 8,
   "id": "9b6ac4cb-ec87-4820-81e8-e1d15d5a61c3",
   "metadata": {
    "jupyter": {
     "source_hidden": true
    }
   },
   "outputs": [],
   "source": [
    "def merge_and_filter_all_nlte_lines(elem_to_merge, ion_to_merge = None, delta_abund_bad = 0.50, std_abund_bad = 0.50, max_no_change_delta_abund = 0.25):\n",
    "    \n",
    "    os.system('cat tmp_elems/uves_elem_nlte_lines_%s*.csv > abunds_merged/uves_all_%s_nlte_lines_merged.csv' %(elem_to_merge, elem_to_merge));\n",
    "\n",
    "    elem = pd.read_csv('abunds_merged/uves_all_%s_nlte_lines_merged.csv' %elem_to_merge, \n",
    "                       names=['spec_id','species','wl_line','excit','gflog',elem_to_merge,'e%s_sme' %elem_to_merge,\n",
    "                              'e%s_fit' %elem_to_merge,'n_iter_%s' %elem_to_merge], comment='s')\n",
    "\n",
    "    if ion_to_merge != None: elem = elem.query('species == \"%s\"' %ion_to_merge)\n",
    "\n",
    "    elem_unique_lines, elem_unique_lines_counts = np.unique(elem.wl_line.values, return_counts=True)\n",
    "    grouped_stats_elem = elem.groupby('wl_line')[elem_to_merge].agg(['median', mad_std, 'count'])\n",
    "\n",
    "    argmin_elem = np.argmin(grouped_stats_elem.query('count > 0.50 * %2.2f' %grouped_stats_elem['count'].max())['mad_std'])\n",
    "    if elem_to_merge == 'ti': argmin_elem = argmin_elem + 1\n",
    "    if elem_to_merge == 'mn': argmin_elem = argmin_elem - 1\n",
    "    elem_ref = elem.query('wl_line == %4.2f' %elem_unique_lines[argmin_elem])[elem_to_merge].values\n",
    "\n",
    "    line_madstd_elem = grouped_stats_elem['mad_std'].values\n",
    "    line_median_elem = grouped_stats_elem['median'].values\n",
    "    delta_abund_elem = line_median_elem - np.median(elem_ref)\n",
    "\n",
    "    bad_line_elem = (np.abs(delta_abund_elem) > delta_abund_bad) | (line_madstd_elem > std_abund_bad)\n",
    "    delta_abund_elem[bad_line_elem] = 0.0\n",
    "    delta_abund_elem[np.abs(delta_abund_elem) < max_no_change_delta_abund] = 0.0\n",
    "\n",
    "    # # Optional plot\n",
    "    plt.figure(figsize=(10,4))\n",
    "    \n",
    "    plt.errorbar(grouped_stats_elem.index, grouped_stats_elem['median'].values, yerr=grouped_stats_elem['mad_std'].values, fmt='k.', lw=1)\n",
    "    plt.errorbar(grouped_stats_elem.index, grouped_stats_elem['median'].values - delta_abund_elem, yerr=grouped_stats_elem['mad_std'].values, fmt='g.', lw=1, zorder=0)\n",
    "    plt.hlines(np.median(elem_ref), 3750, 5600, color='C3', lw=2, alpha=0.5)\n",
    "    plt.scatter(grouped_stats_elem.index[bad_line_elem], 6+np.ones_like(grouped_stats_elem.index[bad_line_elem]), marker='x', color='r')\n",
    "    plt.hlines(np.average(grouped_stats_elem['median'].values[~bad_line_elem], weights=1./grouped_stats_elem['mad_std'].values[~bad_line_elem]**2.), 3750, 5600, color='C4', lw=2, alpha=0.5)\n",
    "    plt.hlines(np.median(grouped_stats_elem['median'].values[~bad_line_elem]), 3750, 5600, color='C6', lw=2, alpha=0.5)\n",
    "    plt.ylabel(r'${\\rm %s\\ NLTE}$' %ion_to_merge.lower().replace(' ', ''), size=14)\n",
    "    plt.xlabel(r'${\\rm Wavelength\\ (\\AA)}$', size=14)\n",
    "    q, eq = grouped_stats_elem['median'].values[~bad_line_elem], grouped_stats_elem['mad_std'].values[~bad_line_elem]\n",
    "    eq[eq < 0.001] = 0.1\n",
    "    plt.title(r'${\\rm %s\\ =\\ %2.2f\\ \\pm\\ %2.2f}$' %(elem_to_merge, np.average(q, weights=1./eq**2.), np.std(q)), size=14)\n",
    "    \n",
    "    plt.show()\n",
    "\n",
    "    print('%s number of lines: %d, good lines: %d' %(elem_to_merge, bad_line_elem.size, elem_unique_lines[bad_line_elem].size))\n",
    "\n",
    "    return elem_unique_lines, bad_line_elem, delta_abund_elem"
   ]
  },
  {
   "cell_type": "code",
   "execution_count": 9,
   "id": "151868fb-892b-45fc-a678-911e7cf7ca05",
   "metadata": {},
   "outputs": [],
   "source": [
    "#Part 2: merge based on previous line information"
   ]
  },
  {
   "cell_type": "code",
   "execution_count": 10,
   "id": "6713a681-d7f3-4bb2-9cfa-753390546d52",
   "metadata": {
    "jupyter": {
     "source_hidden": true
    }
   },
   "outputs": [],
   "source": [
    "def merge_abund_files_cayrel(elem_to_merge, spec_ids, monhs, ion_to_merge = None, wls_to_filter = [], wls_to_correct = [], gflogs_shift = []):\n",
    "\n",
    "    if len(wls_to_filter) == 0: wls_to_filter = None\n",
    "    if len(wls_to_correct) == 0: wls_to_correct = None\n",
    "    if len(gflogs_shift) == 0: gflogs_shift = None\n",
    "\n",
    "    for i, (spec_id, monh) in enumerate(zip(spec_ids, monhs)):\n",
    "        df = pd.read_csv('tmp_cayrel/cayrel_elem_lines_%s_%s.csv' %(elem_to_merge, spec_id))\n",
    "        \n",
    "        if ion_to_merge != None: df = df.query('species == \"%s\"' %ion_to_merge)\n",
    "\n",
    "        if wls_to_filter is not None:\n",
    "            for wl_to_filter in wls_to_filter:\n",
    "                if wl_to_filter in np.unique(df.wl_line.values):\n",
    "                    df = df.query('wl_line != %4.2f' %wl_to_filter)\n",
    "                    df.reset_index(drop=True, inplace=True)\n",
    "\n",
    "        if (wls_to_correct is not None) and (gflogs_shift is not None):\n",
    "            for wl_to_correct, gflog_shift in zip(wls_to_correct, gflogs_shift):\n",
    "                if wl_to_correct in np.unique(df.wl_line.values):\n",
    "                    df.loc[df.query('wl_line == %4.2f' %wl_to_correct).index.values, '%s' %elem_to_merge] = df.query('wl_line == %4.2f' %wl_to_correct)['%s' %elem_to_merge].values - gflog_shift\n",
    "                    df['gflog_correction_%s' %ion_to_merge.lower().replace(' ', '')] = gflog_shift\n",
    "                    \n",
    "        df['loge%s' %ion_to_merge.replace(' ', '')] = np.round(df['%s' %elem_to_merge].values + monh, 3)\n",
    "\n",
    "        condition = '%s < 10 and e%s_sme != 0.0 and n_iter_%s > 1' %(elem_to_merge, elem_to_merge, elem_to_merge)\n",
    "        if df.spec_id.size == 1: condition = 'index == index'\n",
    "        df = df.query(condition)\n",
    "\n",
    "        if df.spec_id.size > 1:\n",
    "            average = np.average(a = df['%s' %elem_to_merge].values, weights=1./df['e%s_sme' %elem_to_merge].values**2.)\n",
    "            rms = np.average((average - df['%s' %elem_to_merge].values)**2., weights=1./df['e%s_sme' %elem_to_merge].values**1.)**0.5\n",
    "            e_sme_median = np.median(df['e%s_sme' %elem_to_merge].values)\n",
    "            n_lines = df['e%s_sme' %elem_to_merge].size\n",
    "            min_n_iters, max_n_iters = np.min(df['n_iter_%s' %elem_to_merge].values), np.max(df['n_iter_%s' %elem_to_merge].values)\n",
    "        else:\n",
    "            average = df['%s' %elem_to_merge].values\n",
    "            rms = df['e%s_sme' %elem_to_merge].values\n",
    "            e_sme_median = df['e%s_sme' %elem_to_merge].values\n",
    "            n_lines = 1\n",
    "            min_n_iters, max_n_iters = df['n_iter_%s' %elem_to_merge].values, df['n_iter_%s' %elem_to_merge].values\n",
    "\n",
    "        # Save individual files in the folder\n",
    "        df.rename(columns={elem_to_merge:ion_to_merge.lower().replace(' ', ''), 'e%s_sme' %elem_to_merge:'e%s_sme' %ion_to_merge.lower().replace(' ', ''), \n",
    "                           'e%s_fit' %elem_to_merge:'e%s_fit' %ion_to_merge.lower().replace(' ', '')}, inplace=True)\n",
    "        df.to_csv('abunds_merged/cayrel_lines_%s_%s.csv' %(ion_to_merge.lower().replace(' ', ''), spec_id), header=True, index=False)\n",
    "\n",
    "        if i == 0:\n",
    "            pd.DataFrame(data=np.vstack((spec_id, average, rms, e_sme_median, n_lines, min_n_iters)).T, \n",
    "                         columns=['spec_id', ion_to_merge.lower().replace(' ', ''), 'e%s_rms' %ion_to_merge.lower().replace(' ', ''), \n",
    "                                  'e%s_sme'  %ion_to_merge.lower().replace(' ', ''), 'n_lines_%s' %ion_to_merge.lower().replace(' ', ''), \n",
    "                                  'min_iters_%s' %ion_to_merge.lower().replace(' ', '')]).to_csv('abunds_merged/cayrel_lines_%s_merged.csv' %ion_to_merge.lower().replace(' ', ''), \n",
    "                                                                                                 header=True, index=False)\n",
    "        else:\n",
    "            pd.DataFrame(data=np.vstack((spec_id, average, rms, e_sme_median, n_lines, min_n_iters)).T, \n",
    "                         columns=['spec_id', ion_to_merge.lower().replace(' ', ''), 'e%s_rms' %ion_to_merge.lower().replace(' ', ''), \n",
    "                                  'e%s_sme'  %ion_to_merge.lower().replace(' ', ''), 'n_lines_%s' %ion_to_merge.lower().replace(' ', ''), \n",
    "                                  'min_iters_%s' %ion_to_merge.lower().replace(' ', '')]).to_csv('abunds_merged/cayrel_lines_%s_merged.csv' %ion_to_merge.lower().replace(' ', ''), \n",
    "                                                                                                 header=False, index=False, mode='a')\n",
    "            \n",
    "    return"
   ]
  },
  {
   "cell_type": "code",
   "execution_count": 11,
   "id": "60b525fe-e6f5-40ce-8330-124f861d05fa",
   "metadata": {
    "jupyter": {
     "source_hidden": true
    }
   },
   "outputs": [],
   "source": [
    "def merge_nlte_abund_files_cayrel(elem_to_merge, spec_ids, monhs, ion_to_merge = None, wls_to_filter = [], wls_to_correct = [], gflogs_shift = []):\n",
    "\n",
    "    if len(wls_to_filter) == 0: wls_to_filter = None\n",
    "    if len(wls_to_correct) == 0: wls_to_correct = None\n",
    "    if len(gflogs_shift) == 0: gflogs_shift = None\n",
    "\n",
    "    for i, (spec_id, monh) in enumerate(zip(spec_ids, monhs)):\n",
    "        df = pd.read_csv('tmp_cayrel/cayrel_elem_nlte_lines_%s_%s.csv' %(elem_to_merge, spec_id))\n",
    "\n",
    "        #Only for UVES, not Cayrel\n",
    "        # df.rename(columns={elem_to_merge:'%s_nlte' %elem_to_merge, 'e%s_sme' %elem_to_merge:'e%s_nlte_sme' %elem_to_merge, \n",
    "        #                    'e%s_fit' %elem_to_merge:'e%s_nlte_fit' %elem_to_merge, 'n_iter_%s' %elem_to_merge:'n_iter_%s_nlte' %elem_to_merge}, inplace=True)\n",
    "\n",
    "        if ion_to_merge != None: df = df.query('species == \"%s\"' %ion_to_merge)\n",
    "\n",
    "        if wls_to_filter is not None:\n",
    "            for wl_to_filter in wls_to_filter:\n",
    "                if wl_to_filter in np.unique(df.wl_line.values):\n",
    "                    df = df.query('wl_line != %4.2f' %wl_to_filter)\n",
    "                    df.reset_index(drop=True, inplace=True)\n",
    "\n",
    "        if (wls_to_correct is not None) and (gflogs_shift is not None):\n",
    "            for wl_to_correct, gflog_shift in zip(wls_to_correct, gflogs_shift):\n",
    "                if wl_to_correct in np.unique(df.wl_line.values):\n",
    "                    df.loc[df.query('wl_line == %4.2f' %wl_to_correct).index.values, '%s_nlte' %elem_to_merge] = df.query('wl_line == %4.2f' %wl_to_correct)['%s_nlte' %elem_to_merge].values - gflog_shift\n",
    "                    df['gflog_correction_%s_nlte' %ion_to_merge.lower().replace(' ', '')] = gflog_shift\n",
    "                    \n",
    "        df['loge%s_nlte' %ion_to_merge.replace(' ', '')] = np.round(df['%s_nlte' %elem_to_merge].values + monh, 3)\n",
    "    \n",
    "        condition = '%s_nlte < 10 and e%s_nlte_sme != 0.0' %(elem_to_merge, elem_to_merge)\n",
    "        df = df.query(condition)\n",
    "\n",
    "        if df.spec_id.size > 1:\n",
    "            average = np.average(a = df['%s_nlte' %elem_to_merge].values, weights=1./df['e%s_nlte_sme' %elem_to_merge].values**2.)\n",
    "            rms = np.average((average - df['%s_nlte' %elem_to_merge].values)**2., weights=1./df['e%s_nlte_sme' %elem_to_merge].values**1.)**0.5\n",
    "            e_sme_median = np.median(df['e%s_nlte_sme' %elem_to_merge].values)\n",
    "            n_lines = df['e%s_nlte_sme' %elem_to_merge].size\n",
    "            min_n_iters, max_n_iters = np.min(df['n_iter_%s_nlte' %elem_to_merge].values), np.max(df['n_iter_%s_nlte' %elem_to_merge].values)\n",
    "        else:\n",
    "            average = df['%s_nlte' %elem_to_merge].values\n",
    "            rms = df['e%s_nlte_sme' %elem_to_merge].values\n",
    "            e_sme_median = df['e%s_nlte_sme' %elem_to_merge].values\n",
    "            n_lines = 1\n",
    "            min_n_iters, max_n_iters = df['n_iter_%s_nlte' %elem_to_merge].values, df['n_iter_%s_nlte' %elem_to_merge].values\n",
    "\n",
    "        # Save individual files in the folder\n",
    "        df.rename(columns={'%s_nlte' %elem_to_merge:'%s_nlte' %ion_to_merge.lower().replace(' ', ''), 'e%s_nlte_sme' %elem_to_merge:'e%s_nlte_sme' %ion_to_merge.lower().replace(' ', ''), \n",
    "                           'e%s_nlte_fit' %elem_to_merge:'e%s_nlte_fit' %ion_to_merge.lower().replace(' ', '')}, inplace=True)\n",
    "        df.to_csv('abunds_merged/cayrel_lines_%s_nlte_%s.csv' %(ion_to_merge.lower().replace(' ', ''), spec_id), header=True, index=False)\n",
    "\n",
    "        if i == 0: \n",
    "            pd.DataFrame(data=np.vstack((spec_id, average, rms, e_sme_median, n_lines, min_n_iters)).T, \n",
    "                         columns=['spec_id', '%s_nlte' %ion_to_merge.lower().replace(' ', ''), 'e%s_nlte_rms' %ion_to_merge.lower().replace(' ', ''), \n",
    "                                  'e%s_nlte_sme'  %ion_to_merge.lower().replace(' ', ''), 'n_lines_%s_nlte' %ion_to_merge.lower().replace(' ', ''), \n",
    "                                  'min_iters_%s_nlte' %ion_to_merge.lower().replace(' ', '')]).to_csv('abunds_merged/cayrel_lines_%s_nlte_merged.csv' %ion_to_merge.lower().replace(' ', ''), \n",
    "                                                                                                 header=True, index=False)\n",
    "        else:\n",
    "            pd.DataFrame(data=np.vstack((spec_id, average, rms, e_sme_median, n_lines, min_n_iters)).T, \n",
    "                         columns=['spec_id', '%s_nlte' %ion_to_merge.lower().replace(' ', ''), 'e%s_nlte_rms' %ion_to_merge.lower().replace(' ', ''), \n",
    "                                  'e%s_nlte_sme'  %ion_to_merge.lower().replace(' ', ''), 'n_lines_%s_nlte' %ion_to_merge.lower().replace(' ', ''), \n",
    "                                  'min_iters_%s_nlte' %ion_to_merge.lower().replace(' ', '')]).to_csv('abunds_merged/cayrel_lines_%s_nlte_merged.csv' %ion_to_merge.lower().replace(' ', ''), \n",
    "                                                                                                 header=False, index=False, mode='a')\n",
    "            \n",
    "    return"
   ]
  },
  {
   "cell_type": "code",
   "execution_count": 12,
   "id": "6ddaf7c8-8a68-4a64-95ef-31e6cb8a97d0",
   "metadata": {
    "jupyter": {
     "source_hidden": true
    }
   },
   "outputs": [],
   "source": [
    "def merge_abund_files(elem_to_merge, spec_ids, monhs, ion_to_merge = None, wls_to_filter = [], wls_to_correct = [], gflogs_shift = []):\n",
    "\n",
    "    if len(wls_to_filter) == 0: wls_to_filter = None\n",
    "    if len(wls_to_correct) == 0: wls_to_correct = None\n",
    "    if len(gflogs_shift) == 0: gflogs_shift = None\n",
    "\n",
    "    for i, (spec_id, monh) in enumerate(zip(spec_ids, monhs)):\n",
    "        df = pd.read_csv('tmp_elems/uves_elem_lines_%s_%s.csv' %(elem_to_merge, spec_id))\n",
    "        \n",
    "        if ion_to_merge != None: df = df.query('species == \"%s\"' %ion_to_merge)\n",
    "\n",
    "        if wls_to_filter is not None:\n",
    "            for wl_to_filter in wls_to_filter:\n",
    "                if wl_to_filter in np.unique(df.wl_line.values):\n",
    "                    df = df.query('wl_line != %4.2f' %wl_to_filter)\n",
    "                    df.reset_index(drop=True, inplace=True)\n",
    "\n",
    "        if (wls_to_correct is not None) and (gflogs_shift is not None):\n",
    "            for wl_to_correct, gflog_shift in zip(wls_to_correct, gflogs_shift):\n",
    "                if wl_to_correct in np.unique(df.wl_line.values):\n",
    "                    df.loc[df.query('wl_line == %4.2f' %wl_to_correct).index.values, '%s' %elem_to_merge] = df.query('wl_line == %4.2f' %wl_to_correct)['%s' %elem_to_merge].values - gflog_shift\n",
    "                    df['gflog_correction_%s' %ion_to_merge.lower().replace(' ', '')] = gflog_shift\n",
    "                    \n",
    "        df['loge%s' %ion_to_merge.replace(' ', '')] = np.round(df['%s' %elem_to_merge].values + monh, 3)\n",
    "\n",
    "        condition = '%s < 10 and e%s_sme != 0.0 and n_iter_%s > 1' %(elem_to_merge, elem_to_merge, elem_to_merge)\n",
    "        if df.spec_id.size == 1: condition = 'index == index'\n",
    "        df = df.query(condition)\n",
    "\n",
    "        if df.spec_id.size > 1:\n",
    "            average = np.average(a = df['%s' %elem_to_merge].values, weights=1./df['e%s_sme' %elem_to_merge].values**2.)\n",
    "            rms = np.average((average - df['%s' %elem_to_merge].values)**2., weights=1./df['e%s_sme' %elem_to_merge].values**1.)**0.5\n",
    "            e_sme_median = np.median(df['e%s_sme' %elem_to_merge].values)\n",
    "            n_lines = df['e%s_sme' %elem_to_merge].size\n",
    "            min_n_iters, max_n_iters = np.min(df['n_iter_%s' %elem_to_merge].values), np.max(df['n_iter_%s' %elem_to_merge].values)\n",
    "        else:\n",
    "            average = df['%s' %elem_to_merge].values\n",
    "            rms = df['e%s_sme' %elem_to_merge].values\n",
    "            e_sme_median = df['e%s_sme' %elem_to_merge].values\n",
    "            n_lines = 1\n",
    "            min_n_iters, max_n_iters = df['n_iter_%s' %elem_to_merge].values, df['n_iter_%s' %elem_to_merge].values\n",
    "\n",
    "        # Save individual files in the folder\n",
    "        df.rename(columns={elem_to_merge:ion_to_merge.lower().replace(' ', ''), 'e%s_sme' %elem_to_merge:'e%s_sme' %ion_to_merge.lower().replace(' ', ''), \n",
    "                           'e%s_fit' %elem_to_merge:'e%s_fit' %ion_to_merge.lower().replace(' ', '')}, inplace=True)\n",
    "        df.to_csv('abunds_merged/uves_lines_%s_%s.csv' %(ion_to_merge.lower().replace(' ', ''), spec_id), header=True, index=False)\n",
    "\n",
    "        if i == 0:\n",
    "            pd.DataFrame(data=np.vstack((spec_id, average, rms, e_sme_median, n_lines, min_n_iters)).T, \n",
    "                         columns=['spec_id', ion_to_merge.lower().replace(' ', ''), 'e%s_rms' %ion_to_merge.lower().replace(' ', ''), \n",
    "                                  'e%s_sme'  %ion_to_merge.lower().replace(' ', ''), 'n_lines_%s' %ion_to_merge.lower().replace(' ', ''), \n",
    "                                  'min_iters_%s' %ion_to_merge.lower().replace(' ', '')]).to_csv('abunds_merged/uves_lines_%s_merged.csv' %ion_to_merge.lower().replace(' ', ''), \n",
    "                                                                                                 header=True, index=False)\n",
    "        else:\n",
    "            pd.DataFrame(data=np.vstack((spec_id, average, rms, e_sme_median, n_lines, min_n_iters)).T, \n",
    "                         columns=['spec_id', ion_to_merge.lower().replace(' ', ''), 'e%s_rms' %ion_to_merge.lower().replace(' ', ''), \n",
    "                                  'e%s_sme'  %ion_to_merge.lower().replace(' ', ''), 'n_lines_%s' %ion_to_merge.lower().replace(' ', ''), \n",
    "                                  'min_iters_%s' %ion_to_merge.lower().replace(' ', '')]).to_csv('abunds_merged/uves_lines_%s_merged.csv' %ion_to_merge.lower().replace(' ', ''), \n",
    "                                                                                                 header=False, index=False, mode='a')\n",
    "            \n",
    "    return"
   ]
  },
  {
   "cell_type": "code",
   "execution_count": 13,
   "id": "9360da07-d223-408a-af65-d89030b114e4",
   "metadata": {
    "jupyter": {
     "source_hidden": true
    }
   },
   "outputs": [],
   "source": [
    "def merge_nlte_abund_files(elem_to_merge, spec_ids, monhs, ion_to_merge = None, wls_to_filter = [], wls_to_correct = [], gflogs_shift = []):\n",
    "\n",
    "    if len(wls_to_filter) == 0: wls_to_filter = None\n",
    "    if len(wls_to_correct) == 0: wls_to_correct = None\n",
    "    if len(gflogs_shift) == 0: gflogs_shift = None\n",
    "\n",
    "    for i, (spec_id, monh) in enumerate(zip(spec_ids, monhs)):\n",
    "        df = pd.read_csv('tmp_elems/uves_elem_nlte_lines_%s_%s.csv' %(elem_to_merge, spec_id))\n",
    "\n",
    "        #Only for UVES not Cayrel\n",
    "        df.rename(columns={elem_to_merge:'%s_nlte' %elem_to_merge, 'e%s_sme' %elem_to_merge:'e%s_nlte_sme' %elem_to_merge, \n",
    "                           'e%s_fit' %elem_to_merge:'e%s_nlte_fit' %elem_to_merge, 'n_iter_%s' %elem_to_merge:'n_iter_%s_nlte' %elem_to_merge}, inplace=True)\n",
    "\n",
    "        if ion_to_merge != None: df = df.query('species == \"%s\"' %ion_to_merge)\n",
    "\n",
    "        if wls_to_filter is not None:\n",
    "            for wl_to_filter in wls_to_filter:\n",
    "                if wl_to_filter in np.unique(df.wl_line.values):\n",
    "                    df = df.query('wl_line != %4.2f' %wl_to_filter)\n",
    "                    df.reset_index(drop=True, inplace=True)\n",
    "\n",
    "        if (wls_to_correct is not None) and (gflogs_shift is not None):\n",
    "            for wl_to_correct, gflog_shift in zip(wls_to_correct, gflogs_shift):\n",
    "                if wl_to_correct in np.unique(df.wl_line.values):\n",
    "                    df.loc[df.query('wl_line == %4.2f' %wl_to_correct).index.values, '%s_nlte' %elem_to_merge] = df.query('wl_line == %4.2f' %wl_to_correct)['%s_nlte' %elem_to_merge].values - gflog_shift\n",
    "                    df['gflog_correction_%s_nlte' %ion_to_merge.lower().replace(' ', '')] = gflog_shift\n",
    "                    \n",
    "        df['loge%s_nlte' %ion_to_merge.replace(' ', '')] = np.round(df['%s_nlte' %elem_to_merge].values + monh, 3)\n",
    "    \n",
    "        condition = '%s_nlte < 10 and e%s_nlte_sme != 0.0' %(elem_to_merge, elem_to_merge)\n",
    "        df = df.query(condition)\n",
    "\n",
    "        if df.spec_id.size > 1:\n",
    "            average = np.average(a = df['%s_nlte' %elem_to_merge].values, weights=1./df['e%s_nlte_sme' %elem_to_merge].values**2.)\n",
    "            rms = np.average((average - df['%s_nlte' %elem_to_merge].values)**2., weights=1./df['e%s_nlte_sme' %elem_to_merge].values**1.)**0.5\n",
    "            e_sme_median = np.median(df['e%s_nlte_sme' %elem_to_merge].values)\n",
    "            n_lines = df['e%s_nlte_sme' %elem_to_merge].size\n",
    "            min_n_iters, max_n_iters = np.min(df['n_iter_%s_nlte' %elem_to_merge].values), np.max(df['n_iter_%s_nlte' %elem_to_merge].values)\n",
    "        else:\n",
    "            average = df['%s_nlte' %elem_to_merge].values\n",
    "            rms = df['e%s_nlte_sme' %elem_to_merge].values\n",
    "            e_sme_median = df['e%s_nlte_sme' %elem_to_merge].values\n",
    "            n_lines = 1\n",
    "            min_n_iters, max_n_iters = df['n_iter_%s_nlte' %elem_to_merge].values, df['n_iter_%s_nlte' %elem_to_merge].values\n",
    "\n",
    "        # Save individual files in the folder\n",
    "        df.rename(columns={'%s_nlte' %elem_to_merge:'%s_nlte' %ion_to_merge.lower().replace(' ', ''), 'e%s_nlte_sme' %elem_to_merge:'e%s_nlte_sme' %ion_to_merge.lower().replace(' ', ''), \n",
    "                           'e%s_nlte_fit' %elem_to_merge:'e%s_nlte_fit' %ion_to_merge.lower().replace(' ', '')}, inplace=True)\n",
    "        df.to_csv('abunds_merged/uves_lines_%s_nlte_%s.csv' %(ion_to_merge.lower().replace(' ', ''), spec_id), header=True, index=False)\n",
    "\n",
    "        if i == 0: \n",
    "            pd.DataFrame(data=np.vstack((spec_id, average, rms, e_sme_median, n_lines, min_n_iters)).T, \n",
    "                         columns=['spec_id', '%s_nlte' %ion_to_merge.lower().replace(' ', ''), 'e%s_nlte_rms' %ion_to_merge.lower().replace(' ', ''), \n",
    "                                  'e%s_nlte_sme'  %ion_to_merge.lower().replace(' ', ''), 'n_lines_%s_nlte' %ion_to_merge.lower().replace(' ', ''), \n",
    "                                  'min_iters_%s_nlte' %ion_to_merge.lower().replace(' ', '')]).to_csv('abunds_merged/uves_lines_%s_nlte_merged.csv' %ion_to_merge.lower().replace(' ', ''), \n",
    "                                                                                                 header=True, index=False)\n",
    "        else:\n",
    "            pd.DataFrame(data=np.vstack((spec_id, average, rms, e_sme_median, n_lines, min_n_iters)).T, \n",
    "                         columns=['spec_id', '%s_nlte' %ion_to_merge.lower().replace(' ', ''), 'e%s_nlte_rms' %ion_to_merge.lower().replace(' ', ''), \n",
    "                                  'e%s_nlte_sme'  %ion_to_merge.lower().replace(' ', ''), 'n_lines_%s_nlte' %ion_to_merge.lower().replace(' ', ''), \n",
    "                                  'min_iters_%s_nlte' %ion_to_merge.lower().replace(' ', '')]).to_csv('abunds_merged/uves_lines_%s_nlte_merged.csv' %ion_to_merge.lower().replace(' ', ''), \n",
    "                                                                                                 header=False, index=False, mode='a')\n",
    "            \n",
    "    return"
   ]
  },
  {
   "cell_type": "code",
   "execution_count": 15,
   "id": "c11a269d-c5db-4a05-8d22-c071ec523d69",
   "metadata": {},
   "outputs": [],
   "source": [
    "# What we want to merge\n",
    "elem_to_merge, ion_to_merge = 'sr', 'Sr 2'\n",
    "\n",
    "\n",
    "# elems_to_include = ['Eu 2', 'Sr 2', 'Ba 2', 'Ce 2', 'Dy 2', 'Er 2', 'Gd 2', 'Hf 2', 'Ir 2', 'La 2', 'Nd 2', 'Os 2', 'Pb 2', \n",
    "#                     'Pr 2', 'Sm 2', 'Th 2', 'Tm 2', 'U 2', 'Y 2', 'Zr 2']"
   ]
  },
  {
   "cell_type": "code",
   "execution_count": 16,
   "id": "f4941164-c973-4c62-a520-d63ce4486a67",
   "metadata": {
    "scrolled": true
   },
   "outputs": [
    {
     "ename": "UndefinedVariableError",
     "evalue": "name 'nan' is not defined",
     "output_type": "error",
     "traceback": [
      "\u001b[0;31m---------------------------------------------------------------------------\u001b[0m",
      "\u001b[0;31mKeyError\u001b[0m                                  Traceback (most recent call last)",
      "File \u001b[0;32m~/.local/lib/python3.9/site-packages/pandas/core/computation/scope.py:231\u001b[0m, in \u001b[0;36mScope.resolve\u001b[0;34m(self, key, is_local)\u001b[0m\n\u001b[1;32m    230\u001b[0m \u001b[38;5;28;01mif\u001b[39;00m \u001b[38;5;28mself\u001b[39m\u001b[38;5;241m.\u001b[39mhas_resolvers:\n\u001b[0;32m--> 231\u001b[0m     \u001b[38;5;28;01mreturn\u001b[39;00m \u001b[38;5;28;43mself\u001b[39;49m\u001b[38;5;241;43m.\u001b[39;49m\u001b[43mresolvers\u001b[49m\u001b[43m[\u001b[49m\u001b[43mkey\u001b[49m\u001b[43m]\u001b[49m\n\u001b[1;32m    233\u001b[0m \u001b[38;5;66;03m# if we're here that means that we have no locals and we also have\u001b[39;00m\n\u001b[1;32m    234\u001b[0m \u001b[38;5;66;03m# no resolvers\u001b[39;00m\n",
      "File \u001b[0;32m/opt/spack/opt/spack/linux-centos8-x86_64/gcc-12.2.0/anaconda3-2022.05-n4l3yju6zheasf546pdqgbdrlwmtrkq6/lib/python3.9/collections/__init__.py:941\u001b[0m, in \u001b[0;36mChainMap.__getitem__\u001b[0;34m(self, key)\u001b[0m\n\u001b[1;32m    940\u001b[0m         \u001b[38;5;28;01mpass\u001b[39;00m\n\u001b[0;32m--> 941\u001b[0m \u001b[38;5;28;01mreturn\u001b[39;00m \u001b[38;5;28;43mself\u001b[39;49m\u001b[38;5;241;43m.\u001b[39;49m\u001b[38;5;21;43m__missing__\u001b[39;49m\u001b[43m(\u001b[49m\u001b[43mkey\u001b[49m\u001b[43m)\u001b[49m\n",
      "File \u001b[0;32m/opt/spack/opt/spack/linux-centos8-x86_64/gcc-12.2.0/anaconda3-2022.05-n4l3yju6zheasf546pdqgbdrlwmtrkq6/lib/python3.9/collections/__init__.py:933\u001b[0m, in \u001b[0;36mChainMap.__missing__\u001b[0;34m(self, key)\u001b[0m\n\u001b[1;32m    932\u001b[0m \u001b[38;5;28;01mdef\u001b[39;00m \u001b[38;5;21m__missing__\u001b[39m(\u001b[38;5;28mself\u001b[39m, key):\n\u001b[0;32m--> 933\u001b[0m     \u001b[38;5;28;01mraise\u001b[39;00m \u001b[38;5;167;01mKeyError\u001b[39;00m(key)\n",
      "\u001b[0;31mKeyError\u001b[0m: 'nan'",
      "\nDuring handling of the above exception, another exception occurred:\n",
      "\u001b[0;31mKeyError\u001b[0m                                  Traceback (most recent call last)",
      "File \u001b[0;32m~/.local/lib/python3.9/site-packages/pandas/core/computation/scope.py:242\u001b[0m, in \u001b[0;36mScope.resolve\u001b[0;34m(self, key, is_local)\u001b[0m\n\u001b[1;32m    238\u001b[0m \u001b[38;5;28;01mtry\u001b[39;00m:\n\u001b[1;32m    239\u001b[0m     \u001b[38;5;66;03m# last ditch effort we look in temporaries\u001b[39;00m\n\u001b[1;32m    240\u001b[0m     \u001b[38;5;66;03m# these are created when parsing indexing expressions\u001b[39;00m\n\u001b[1;32m    241\u001b[0m     \u001b[38;5;66;03m# e.g., df[df > 0]\u001b[39;00m\n\u001b[0;32m--> 242\u001b[0m     \u001b[38;5;28;01mreturn\u001b[39;00m \u001b[38;5;28;43mself\u001b[39;49m\u001b[38;5;241;43m.\u001b[39;49m\u001b[43mtemps\u001b[49m\u001b[43m[\u001b[49m\u001b[43mkey\u001b[49m\u001b[43m]\u001b[49m\n\u001b[1;32m    243\u001b[0m \u001b[38;5;28;01mexcept\u001b[39;00m \u001b[38;5;167;01mKeyError\u001b[39;00m \u001b[38;5;28;01mas\u001b[39;00m err:\n",
      "\u001b[0;31mKeyError\u001b[0m: 'nan'",
      "\nThe above exception was the direct cause of the following exception:\n",
      "\u001b[0;31mUndefinedVariableError\u001b[0m                    Traceback (most recent call last)",
      "Input \u001b[0;32mIn [16]\u001b[0m, in \u001b[0;36m<cell line: 3>\u001b[0;34m()\u001b[0m\n\u001b[1;32m      1\u001b[0m \u001b[38;5;66;03m#Cayrel merging functions\u001b[39;00m\n\u001b[0;32m----> 3\u001b[0m elem_unique_lines_cayrel, bad_line_elem_cayrel, delta_abund_elem_cayrel \u001b[38;5;241m=\u001b[39m \u001b[43mmerge_and_filter_all_lines_cayrel\u001b[49m\u001b[43m(\u001b[49m\u001b[43melem_to_merge\u001b[49m\u001b[38;5;241;43m=\u001b[39;49m\u001b[43melem_to_merge\u001b[49m\u001b[43m,\u001b[49m\u001b[43m \u001b[49m\u001b[43mdelta_abund_bad\u001b[49m\u001b[38;5;241;43m=\u001b[39;49m\u001b[38;5;241;43m10.0\u001b[39;49m\u001b[43m,\u001b[49m\u001b[43m \u001b[49m\u001b[43mstd_abund_bad\u001b[49m\u001b[38;5;241;43m=\u001b[39;49m\u001b[38;5;241;43m10.0\u001b[39;49m\u001b[43m,\u001b[49m\u001b[43m \u001b[49m\u001b[43mmax_no_change_delta_abund\u001b[49m\u001b[38;5;241;43m=\u001b[39;49m\u001b[38;5;241;43m15.0\u001b[39;49m\u001b[43m)\u001b[49m\n\u001b[1;32m      5\u001b[0m merge_abund_files_cayrel(elem_to_merge, cayrel\u001b[38;5;241m.\u001b[39mspec_id\u001b[38;5;241m.\u001b[39mvalues, cayrel\u001b[38;5;241m.\u001b[39mmonh\u001b[38;5;241m.\u001b[39mvalues, ion_to_merge\u001b[38;5;241m=\u001b[39mion_to_merge, wls_to_filter\u001b[38;5;241m=\u001b[39melem_unique_lines_cayrel[bad_line_elem_cayrel], \n\u001b[1;32m      6\u001b[0m                   wls_to_correct \u001b[38;5;241m=\u001b[39m elem_unique_lines_cayrel[\u001b[38;5;241m~\u001b[39mbad_line_elem_cayrel], gflogs_shift \u001b[38;5;241m=\u001b[39m delta_abund_elem_cayrel[\u001b[38;5;241m~\u001b[39mbad_line_elem_cayrel])\n",
      "Input \u001b[0;32mIn [5]\u001b[0m, in \u001b[0;36mmerge_and_filter_all_lines_cayrel\u001b[0;34m(elem_to_merge, delta_abund_bad, std_abund_bad, max_no_change_delta_abund)\u001b[0m\n\u001b[1;32m     11\u001b[0m elem_unique_lines_cayrel, elem_unique_lines_cayrel_counts \u001b[38;5;241m=\u001b[39m np\u001b[38;5;241m.\u001b[39munique(elem\u001b[38;5;241m.\u001b[39mwl_line\u001b[38;5;241m.\u001b[39mvalues, return_counts\u001b[38;5;241m=\u001b[39m\u001b[38;5;28;01mTrue\u001b[39;00m)\n\u001b[1;32m     12\u001b[0m grouped_stats_elem \u001b[38;5;241m=\u001b[39m elem\u001b[38;5;241m.\u001b[39mgroupby(\u001b[38;5;124m'\u001b[39m\u001b[38;5;124mwl_line\u001b[39m\u001b[38;5;124m'\u001b[39m)[elem_to_merge]\u001b[38;5;241m.\u001b[39magg([\u001b[38;5;124m'\u001b[39m\u001b[38;5;124mmedian\u001b[39m\u001b[38;5;124m'\u001b[39m, mad_std, \u001b[38;5;124m'\u001b[39m\u001b[38;5;124mcount\u001b[39m\u001b[38;5;124m'\u001b[39m])\n\u001b[0;32m---> 14\u001b[0m argmin_elem \u001b[38;5;241m=\u001b[39m np\u001b[38;5;241m.\u001b[39margmin(\u001b[43mgrouped_stats_elem\u001b[49m\u001b[38;5;241;43m.\u001b[39;49m\u001b[43mquery\u001b[49m\u001b[43m(\u001b[49m\u001b[38;5;124;43m'\u001b[39;49m\u001b[38;5;124;43mcount > 0.50 * \u001b[39;49m\u001b[38;5;132;43;01m%2.2f\u001b[39;49;00m\u001b[38;5;124;43m'\u001b[39;49m\u001b[43m \u001b[49m\u001b[38;5;241;43m%\u001b[39;49m\u001b[43mgrouped_stats_elem\u001b[49m\u001b[43m[\u001b[49m\u001b[38;5;124;43m'\u001b[39;49m\u001b[38;5;124;43mcount\u001b[39;49m\u001b[38;5;124;43m'\u001b[39;49m\u001b[43m]\u001b[49m\u001b[38;5;241;43m.\u001b[39;49m\u001b[43mmax\u001b[49m\u001b[43m(\u001b[49m\u001b[43m)\u001b[49m\u001b[43m)\u001b[49m[\u001b[38;5;124m'\u001b[39m\u001b[38;5;124mmad_std\u001b[39m\u001b[38;5;124m'\u001b[39m])\n\u001b[1;32m     15\u001b[0m \u001b[38;5;28;01mif\u001b[39;00m elem_to_merge \u001b[38;5;241m==\u001b[39m \u001b[38;5;124m'\u001b[39m\u001b[38;5;124mca\u001b[39m\u001b[38;5;124m'\u001b[39m: argmin_elem \u001b[38;5;241m=\u001b[39m argmin_elem \u001b[38;5;241m-\u001b[39m \u001b[38;5;241m1\u001b[39m\n\u001b[1;32m     16\u001b[0m \u001b[38;5;28;01mif\u001b[39;00m elem_to_merge \u001b[38;5;241m==\u001b[39m \u001b[38;5;124m'\u001b[39m\u001b[38;5;124mti\u001b[39m\u001b[38;5;124m'\u001b[39m: argmin_elem \u001b[38;5;241m=\u001b[39m argmin_elem \u001b[38;5;241m-\u001b[39m \u001b[38;5;241m1\u001b[39m\n",
      "File \u001b[0;32m~/.local/lib/python3.9/site-packages/pandas/core/frame.py:4823\u001b[0m, in \u001b[0;36mDataFrame.query\u001b[0;34m(self, expr, inplace, **kwargs)\u001b[0m\n\u001b[1;32m   4821\u001b[0m kwargs[\u001b[38;5;124m\"\u001b[39m\u001b[38;5;124mlevel\u001b[39m\u001b[38;5;124m\"\u001b[39m] \u001b[38;5;241m=\u001b[39m kwargs\u001b[38;5;241m.\u001b[39mpop(\u001b[38;5;124m\"\u001b[39m\u001b[38;5;124mlevel\u001b[39m\u001b[38;5;124m\"\u001b[39m, \u001b[38;5;241m0\u001b[39m) \u001b[38;5;241m+\u001b[39m \u001b[38;5;241m1\u001b[39m\n\u001b[1;32m   4822\u001b[0m kwargs[\u001b[38;5;124m\"\u001b[39m\u001b[38;5;124mtarget\u001b[39m\u001b[38;5;124m\"\u001b[39m] \u001b[38;5;241m=\u001b[39m \u001b[38;5;28;01mNone\u001b[39;00m\n\u001b[0;32m-> 4823\u001b[0m res \u001b[38;5;241m=\u001b[39m \u001b[38;5;28;43mself\u001b[39;49m\u001b[38;5;241;43m.\u001b[39;49m\u001b[43meval\u001b[49m\u001b[43m(\u001b[49m\u001b[43mexpr\u001b[49m\u001b[43m,\u001b[49m\u001b[43m \u001b[49m\u001b[38;5;241;43m*\u001b[39;49m\u001b[38;5;241;43m*\u001b[39;49m\u001b[43mkwargs\u001b[49m\u001b[43m)\u001b[49m\n\u001b[1;32m   4825\u001b[0m \u001b[38;5;28;01mtry\u001b[39;00m:\n\u001b[1;32m   4826\u001b[0m     result \u001b[38;5;241m=\u001b[39m \u001b[38;5;28mself\u001b[39m\u001b[38;5;241m.\u001b[39mloc[res]\n",
      "File \u001b[0;32m~/.local/lib/python3.9/site-packages/pandas/core/frame.py:4949\u001b[0m, in \u001b[0;36mDataFrame.eval\u001b[0;34m(self, expr, inplace, **kwargs)\u001b[0m\n\u001b[1;32m   4946\u001b[0m     kwargs[\u001b[38;5;124m\"\u001b[39m\u001b[38;5;124mtarget\u001b[39m\u001b[38;5;124m\"\u001b[39m] \u001b[38;5;241m=\u001b[39m \u001b[38;5;28mself\u001b[39m\n\u001b[1;32m   4947\u001b[0m kwargs[\u001b[38;5;124m\"\u001b[39m\u001b[38;5;124mresolvers\u001b[39m\u001b[38;5;124m\"\u001b[39m] \u001b[38;5;241m=\u001b[39m \u001b[38;5;28mtuple\u001b[39m(kwargs\u001b[38;5;241m.\u001b[39mget(\u001b[38;5;124m\"\u001b[39m\u001b[38;5;124mresolvers\u001b[39m\u001b[38;5;124m\"\u001b[39m, ())) \u001b[38;5;241m+\u001b[39m resolvers\n\u001b[0;32m-> 4949\u001b[0m \u001b[38;5;28;01mreturn\u001b[39;00m \u001b[43m_eval\u001b[49m\u001b[43m(\u001b[49m\u001b[43mexpr\u001b[49m\u001b[43m,\u001b[49m\u001b[43m \u001b[49m\u001b[43minplace\u001b[49m\u001b[38;5;241;43m=\u001b[39;49m\u001b[43minplace\u001b[49m\u001b[43m,\u001b[49m\u001b[43m \u001b[49m\u001b[38;5;241;43m*\u001b[39;49m\u001b[38;5;241;43m*\u001b[39;49m\u001b[43mkwargs\u001b[49m\u001b[43m)\u001b[49m\n",
      "File \u001b[0;32m~/.local/lib/python3.9/site-packages/pandas/core/computation/eval.py:336\u001b[0m, in \u001b[0;36meval\u001b[0;34m(expr, parser, engine, local_dict, global_dict, resolvers, level, target, inplace)\u001b[0m\n\u001b[1;32m    327\u001b[0m \u001b[38;5;66;03m# get our (possibly passed-in) scope\u001b[39;00m\n\u001b[1;32m    328\u001b[0m env \u001b[38;5;241m=\u001b[39m ensure_scope(\n\u001b[1;32m    329\u001b[0m     level \u001b[38;5;241m+\u001b[39m \u001b[38;5;241m1\u001b[39m,\n\u001b[1;32m    330\u001b[0m     global_dict\u001b[38;5;241m=\u001b[39mglobal_dict,\n\u001b[0;32m   (...)\u001b[0m\n\u001b[1;32m    333\u001b[0m     target\u001b[38;5;241m=\u001b[39mtarget,\n\u001b[1;32m    334\u001b[0m )\n\u001b[0;32m--> 336\u001b[0m parsed_expr \u001b[38;5;241m=\u001b[39m \u001b[43mExpr\u001b[49m\u001b[43m(\u001b[49m\u001b[43mexpr\u001b[49m\u001b[43m,\u001b[49m\u001b[43m \u001b[49m\u001b[43mengine\u001b[49m\u001b[38;5;241;43m=\u001b[39;49m\u001b[43mengine\u001b[49m\u001b[43m,\u001b[49m\u001b[43m \u001b[49m\u001b[43mparser\u001b[49m\u001b[38;5;241;43m=\u001b[39;49m\u001b[43mparser\u001b[49m\u001b[43m,\u001b[49m\u001b[43m \u001b[49m\u001b[43menv\u001b[49m\u001b[38;5;241;43m=\u001b[39;49m\u001b[43menv\u001b[49m\u001b[43m)\u001b[49m\n\u001b[1;32m    338\u001b[0m \u001b[38;5;28;01mif\u001b[39;00m engine \u001b[38;5;241m==\u001b[39m \u001b[38;5;124m\"\u001b[39m\u001b[38;5;124mnumexpr\u001b[39m\u001b[38;5;124m\"\u001b[39m \u001b[38;5;129;01mand\u001b[39;00m (\n\u001b[1;32m    339\u001b[0m     is_extension_array_dtype(parsed_expr\u001b[38;5;241m.\u001b[39mterms\u001b[38;5;241m.\u001b[39mreturn_type)\n\u001b[1;32m    340\u001b[0m     \u001b[38;5;129;01mor\u001b[39;00m \u001b[38;5;28mgetattr\u001b[39m(parsed_expr\u001b[38;5;241m.\u001b[39mterms, \u001b[38;5;124m\"\u001b[39m\u001b[38;5;124moperand_types\u001b[39m\u001b[38;5;124m\"\u001b[39m, \u001b[38;5;28;01mNone\u001b[39;00m) \u001b[38;5;129;01mis\u001b[39;00m \u001b[38;5;129;01mnot\u001b[39;00m \u001b[38;5;28;01mNone\u001b[39;00m\n\u001b[0;32m   (...)\u001b[0m\n\u001b[1;32m    344\u001b[0m     )\n\u001b[1;32m    345\u001b[0m ):\n\u001b[1;32m    346\u001b[0m     warnings\u001b[38;5;241m.\u001b[39mwarn(\n\u001b[1;32m    347\u001b[0m         \u001b[38;5;124m\"\u001b[39m\u001b[38;5;124mEngine has switched to \u001b[39m\u001b[38;5;124m'\u001b[39m\u001b[38;5;124mpython\u001b[39m\u001b[38;5;124m'\u001b[39m\u001b[38;5;124m because numexpr does not support \u001b[39m\u001b[38;5;124m\"\u001b[39m\n\u001b[1;32m    348\u001b[0m         \u001b[38;5;124m\"\u001b[39m\u001b[38;5;124mextension array dtypes. Please set your engine to python manually.\u001b[39m\u001b[38;5;124m\"\u001b[39m,\n\u001b[1;32m    349\u001b[0m         \u001b[38;5;167;01mRuntimeWarning\u001b[39;00m,\n\u001b[1;32m    350\u001b[0m         stacklevel\u001b[38;5;241m=\u001b[39mfind_stack_level(),\n\u001b[1;32m    351\u001b[0m     )\n",
      "File \u001b[0;32m~/.local/lib/python3.9/site-packages/pandas/core/computation/expr.py:805\u001b[0m, in \u001b[0;36mExpr.__init__\u001b[0;34m(self, expr, engine, parser, env, level)\u001b[0m\n\u001b[1;32m    803\u001b[0m \u001b[38;5;28mself\u001b[39m\u001b[38;5;241m.\u001b[39mparser \u001b[38;5;241m=\u001b[39m parser\n\u001b[1;32m    804\u001b[0m \u001b[38;5;28mself\u001b[39m\u001b[38;5;241m.\u001b[39m_visitor \u001b[38;5;241m=\u001b[39m PARSERS[parser](\u001b[38;5;28mself\u001b[39m\u001b[38;5;241m.\u001b[39menv, \u001b[38;5;28mself\u001b[39m\u001b[38;5;241m.\u001b[39mengine, \u001b[38;5;28mself\u001b[39m\u001b[38;5;241m.\u001b[39mparser)\n\u001b[0;32m--> 805\u001b[0m \u001b[38;5;28mself\u001b[39m\u001b[38;5;241m.\u001b[39mterms \u001b[38;5;241m=\u001b[39m \u001b[38;5;28;43mself\u001b[39;49m\u001b[38;5;241;43m.\u001b[39;49m\u001b[43mparse\u001b[49m\u001b[43m(\u001b[49m\u001b[43m)\u001b[49m\n",
      "File \u001b[0;32m~/.local/lib/python3.9/site-packages/pandas/core/computation/expr.py:824\u001b[0m, in \u001b[0;36mExpr.parse\u001b[0;34m(self)\u001b[0m\n\u001b[1;32m    820\u001b[0m \u001b[38;5;28;01mdef\u001b[39;00m \u001b[38;5;21mparse\u001b[39m(\u001b[38;5;28mself\u001b[39m):\n\u001b[1;32m    821\u001b[0m     \u001b[38;5;124;03m\"\"\"\u001b[39;00m\n\u001b[1;32m    822\u001b[0m \u001b[38;5;124;03m    Parse an expression.\u001b[39;00m\n\u001b[1;32m    823\u001b[0m \u001b[38;5;124;03m    \"\"\"\u001b[39;00m\n\u001b[0;32m--> 824\u001b[0m     \u001b[38;5;28;01mreturn\u001b[39;00m \u001b[38;5;28;43mself\u001b[39;49m\u001b[38;5;241;43m.\u001b[39;49m\u001b[43m_visitor\u001b[49m\u001b[38;5;241;43m.\u001b[39;49m\u001b[43mvisit\u001b[49m\u001b[43m(\u001b[49m\u001b[38;5;28;43mself\u001b[39;49m\u001b[38;5;241;43m.\u001b[39;49m\u001b[43mexpr\u001b[49m\u001b[43m)\u001b[49m\n",
      "File \u001b[0;32m~/.local/lib/python3.9/site-packages/pandas/core/computation/expr.py:411\u001b[0m, in \u001b[0;36mBaseExprVisitor.visit\u001b[0;34m(self, node, **kwargs)\u001b[0m\n\u001b[1;32m    409\u001b[0m method \u001b[38;5;241m=\u001b[39m \u001b[38;5;124mf\u001b[39m\u001b[38;5;124m\"\u001b[39m\u001b[38;5;124mvisit_\u001b[39m\u001b[38;5;132;01m{\u001b[39;00m\u001b[38;5;28mtype\u001b[39m(node)\u001b[38;5;241m.\u001b[39m\u001b[38;5;18m__name__\u001b[39m\u001b[38;5;132;01m}\u001b[39;00m\u001b[38;5;124m\"\u001b[39m\n\u001b[1;32m    410\u001b[0m visitor \u001b[38;5;241m=\u001b[39m \u001b[38;5;28mgetattr\u001b[39m(\u001b[38;5;28mself\u001b[39m, method)\n\u001b[0;32m--> 411\u001b[0m \u001b[38;5;28;01mreturn\u001b[39;00m \u001b[43mvisitor\u001b[49m\u001b[43m(\u001b[49m\u001b[43mnode\u001b[49m\u001b[43m,\u001b[49m\u001b[43m \u001b[49m\u001b[38;5;241;43m*\u001b[39;49m\u001b[38;5;241;43m*\u001b[39;49m\u001b[43mkwargs\u001b[49m\u001b[43m)\u001b[49m\n",
      "File \u001b[0;32m~/.local/lib/python3.9/site-packages/pandas/core/computation/expr.py:417\u001b[0m, in \u001b[0;36mBaseExprVisitor.visit_Module\u001b[0;34m(self, node, **kwargs)\u001b[0m\n\u001b[1;32m    415\u001b[0m     \u001b[38;5;28;01mraise\u001b[39;00m \u001b[38;5;167;01mSyntaxError\u001b[39;00m(\u001b[38;5;124m\"\u001b[39m\u001b[38;5;124monly a single expression is allowed\u001b[39m\u001b[38;5;124m\"\u001b[39m)\n\u001b[1;32m    416\u001b[0m expr \u001b[38;5;241m=\u001b[39m node\u001b[38;5;241m.\u001b[39mbody[\u001b[38;5;241m0\u001b[39m]\n\u001b[0;32m--> 417\u001b[0m \u001b[38;5;28;01mreturn\u001b[39;00m \u001b[38;5;28;43mself\u001b[39;49m\u001b[38;5;241;43m.\u001b[39;49m\u001b[43mvisit\u001b[49m\u001b[43m(\u001b[49m\u001b[43mexpr\u001b[49m\u001b[43m,\u001b[49m\u001b[43m \u001b[49m\u001b[38;5;241;43m*\u001b[39;49m\u001b[38;5;241;43m*\u001b[39;49m\u001b[43mkwargs\u001b[49m\u001b[43m)\u001b[49m\n",
      "File \u001b[0;32m~/.local/lib/python3.9/site-packages/pandas/core/computation/expr.py:411\u001b[0m, in \u001b[0;36mBaseExprVisitor.visit\u001b[0;34m(self, node, **kwargs)\u001b[0m\n\u001b[1;32m    409\u001b[0m method \u001b[38;5;241m=\u001b[39m \u001b[38;5;124mf\u001b[39m\u001b[38;5;124m\"\u001b[39m\u001b[38;5;124mvisit_\u001b[39m\u001b[38;5;132;01m{\u001b[39;00m\u001b[38;5;28mtype\u001b[39m(node)\u001b[38;5;241m.\u001b[39m\u001b[38;5;18m__name__\u001b[39m\u001b[38;5;132;01m}\u001b[39;00m\u001b[38;5;124m\"\u001b[39m\n\u001b[1;32m    410\u001b[0m visitor \u001b[38;5;241m=\u001b[39m \u001b[38;5;28mgetattr\u001b[39m(\u001b[38;5;28mself\u001b[39m, method)\n\u001b[0;32m--> 411\u001b[0m \u001b[38;5;28;01mreturn\u001b[39;00m \u001b[43mvisitor\u001b[49m\u001b[43m(\u001b[49m\u001b[43mnode\u001b[49m\u001b[43m,\u001b[49m\u001b[43m \u001b[49m\u001b[38;5;241;43m*\u001b[39;49m\u001b[38;5;241;43m*\u001b[39;49m\u001b[43mkwargs\u001b[49m\u001b[43m)\u001b[49m\n",
      "File \u001b[0;32m~/.local/lib/python3.9/site-packages/pandas/core/computation/expr.py:420\u001b[0m, in \u001b[0;36mBaseExprVisitor.visit_Expr\u001b[0;34m(self, node, **kwargs)\u001b[0m\n\u001b[1;32m    419\u001b[0m \u001b[38;5;28;01mdef\u001b[39;00m \u001b[38;5;21mvisit_Expr\u001b[39m(\u001b[38;5;28mself\u001b[39m, node, \u001b[38;5;241m*\u001b[39m\u001b[38;5;241m*\u001b[39mkwargs):\n\u001b[0;32m--> 420\u001b[0m     \u001b[38;5;28;01mreturn\u001b[39;00m \u001b[38;5;28;43mself\u001b[39;49m\u001b[38;5;241;43m.\u001b[39;49m\u001b[43mvisit\u001b[49m\u001b[43m(\u001b[49m\u001b[43mnode\u001b[49m\u001b[38;5;241;43m.\u001b[39;49m\u001b[43mvalue\u001b[49m\u001b[43m,\u001b[49m\u001b[43m \u001b[49m\u001b[38;5;241;43m*\u001b[39;49m\u001b[38;5;241;43m*\u001b[39;49m\u001b[43mkwargs\u001b[49m\u001b[43m)\u001b[49m\n",
      "File \u001b[0;32m~/.local/lib/python3.9/site-packages/pandas/core/computation/expr.py:411\u001b[0m, in \u001b[0;36mBaseExprVisitor.visit\u001b[0;34m(self, node, **kwargs)\u001b[0m\n\u001b[1;32m    409\u001b[0m method \u001b[38;5;241m=\u001b[39m \u001b[38;5;124mf\u001b[39m\u001b[38;5;124m\"\u001b[39m\u001b[38;5;124mvisit_\u001b[39m\u001b[38;5;132;01m{\u001b[39;00m\u001b[38;5;28mtype\u001b[39m(node)\u001b[38;5;241m.\u001b[39m\u001b[38;5;18m__name__\u001b[39m\u001b[38;5;132;01m}\u001b[39;00m\u001b[38;5;124m\"\u001b[39m\n\u001b[1;32m    410\u001b[0m visitor \u001b[38;5;241m=\u001b[39m \u001b[38;5;28mgetattr\u001b[39m(\u001b[38;5;28mself\u001b[39m, method)\n\u001b[0;32m--> 411\u001b[0m \u001b[38;5;28;01mreturn\u001b[39;00m \u001b[43mvisitor\u001b[49m\u001b[43m(\u001b[49m\u001b[43mnode\u001b[49m\u001b[43m,\u001b[49m\u001b[43m \u001b[49m\u001b[38;5;241;43m*\u001b[39;49m\u001b[38;5;241;43m*\u001b[39;49m\u001b[43mkwargs\u001b[49m\u001b[43m)\u001b[49m\n",
      "File \u001b[0;32m~/.local/lib/python3.9/site-packages/pandas/core/computation/expr.py:715\u001b[0m, in \u001b[0;36mBaseExprVisitor.visit_Compare\u001b[0;34m(self, node, **kwargs)\u001b[0m\n\u001b[1;32m    713\u001b[0m     op \u001b[38;5;241m=\u001b[39m \u001b[38;5;28mself\u001b[39m\u001b[38;5;241m.\u001b[39mtranslate_In(ops[\u001b[38;5;241m0\u001b[39m])\n\u001b[1;32m    714\u001b[0m     binop \u001b[38;5;241m=\u001b[39m ast\u001b[38;5;241m.\u001b[39mBinOp(op\u001b[38;5;241m=\u001b[39mop, left\u001b[38;5;241m=\u001b[39mnode\u001b[38;5;241m.\u001b[39mleft, right\u001b[38;5;241m=\u001b[39mcomps[\u001b[38;5;241m0\u001b[39m])\n\u001b[0;32m--> 715\u001b[0m     \u001b[38;5;28;01mreturn\u001b[39;00m \u001b[38;5;28;43mself\u001b[39;49m\u001b[38;5;241;43m.\u001b[39;49m\u001b[43mvisit\u001b[49m\u001b[43m(\u001b[49m\u001b[43mbinop\u001b[49m\u001b[43m)\u001b[49m\n\u001b[1;32m    717\u001b[0m \u001b[38;5;66;03m# recursive case: we have a chained comparison, a CMP b CMP c, etc.\u001b[39;00m\n\u001b[1;32m    718\u001b[0m left \u001b[38;5;241m=\u001b[39m node\u001b[38;5;241m.\u001b[39mleft\n",
      "File \u001b[0;32m~/.local/lib/python3.9/site-packages/pandas/core/computation/expr.py:411\u001b[0m, in \u001b[0;36mBaseExprVisitor.visit\u001b[0;34m(self, node, **kwargs)\u001b[0m\n\u001b[1;32m    409\u001b[0m method \u001b[38;5;241m=\u001b[39m \u001b[38;5;124mf\u001b[39m\u001b[38;5;124m\"\u001b[39m\u001b[38;5;124mvisit_\u001b[39m\u001b[38;5;132;01m{\u001b[39;00m\u001b[38;5;28mtype\u001b[39m(node)\u001b[38;5;241m.\u001b[39m\u001b[38;5;18m__name__\u001b[39m\u001b[38;5;132;01m}\u001b[39;00m\u001b[38;5;124m\"\u001b[39m\n\u001b[1;32m    410\u001b[0m visitor \u001b[38;5;241m=\u001b[39m \u001b[38;5;28mgetattr\u001b[39m(\u001b[38;5;28mself\u001b[39m, method)\n\u001b[0;32m--> 411\u001b[0m \u001b[38;5;28;01mreturn\u001b[39;00m \u001b[43mvisitor\u001b[49m\u001b[43m(\u001b[49m\u001b[43mnode\u001b[49m\u001b[43m,\u001b[49m\u001b[43m \u001b[49m\u001b[38;5;241;43m*\u001b[39;49m\u001b[38;5;241;43m*\u001b[39;49m\u001b[43mkwargs\u001b[49m\u001b[43m)\u001b[49m\n",
      "File \u001b[0;32m~/.local/lib/python3.9/site-packages/pandas/core/computation/expr.py:531\u001b[0m, in \u001b[0;36mBaseExprVisitor.visit_BinOp\u001b[0;34m(self, node, **kwargs)\u001b[0m\n\u001b[1;32m    530\u001b[0m \u001b[38;5;28;01mdef\u001b[39;00m \u001b[38;5;21mvisit_BinOp\u001b[39m(\u001b[38;5;28mself\u001b[39m, node, \u001b[38;5;241m*\u001b[39m\u001b[38;5;241m*\u001b[39mkwargs):\n\u001b[0;32m--> 531\u001b[0m     op, op_class, left, right \u001b[38;5;241m=\u001b[39m \u001b[38;5;28;43mself\u001b[39;49m\u001b[38;5;241;43m.\u001b[39;49m\u001b[43m_maybe_transform_eq_ne\u001b[49m\u001b[43m(\u001b[49m\u001b[43mnode\u001b[49m\u001b[43m)\u001b[49m\n\u001b[1;32m    532\u001b[0m     left, right \u001b[38;5;241m=\u001b[39m \u001b[38;5;28mself\u001b[39m\u001b[38;5;241m.\u001b[39m_maybe_downcast_constants(left, right)\n\u001b[1;32m    533\u001b[0m     \u001b[38;5;28;01mreturn\u001b[39;00m \u001b[38;5;28mself\u001b[39m\u001b[38;5;241m.\u001b[39m_maybe_evaluate_binop(op, op_class, left, right)\n",
      "File \u001b[0;32m~/.local/lib/python3.9/site-packages/pandas/core/computation/expr.py:453\u001b[0m, in \u001b[0;36mBaseExprVisitor._maybe_transform_eq_ne\u001b[0;34m(self, node, left, right)\u001b[0m\n\u001b[1;32m    451\u001b[0m     left \u001b[38;5;241m=\u001b[39m \u001b[38;5;28mself\u001b[39m\u001b[38;5;241m.\u001b[39mvisit(node\u001b[38;5;241m.\u001b[39mleft, side\u001b[38;5;241m=\u001b[39m\u001b[38;5;124m\"\u001b[39m\u001b[38;5;124mleft\u001b[39m\u001b[38;5;124m\"\u001b[39m)\n\u001b[1;32m    452\u001b[0m \u001b[38;5;28;01mif\u001b[39;00m right \u001b[38;5;129;01mis\u001b[39;00m \u001b[38;5;28;01mNone\u001b[39;00m:\n\u001b[0;32m--> 453\u001b[0m     right \u001b[38;5;241m=\u001b[39m \u001b[38;5;28;43mself\u001b[39;49m\u001b[38;5;241;43m.\u001b[39;49m\u001b[43mvisit\u001b[49m\u001b[43m(\u001b[49m\u001b[43mnode\u001b[49m\u001b[38;5;241;43m.\u001b[39;49m\u001b[43mright\u001b[49m\u001b[43m,\u001b[49m\u001b[43m \u001b[49m\u001b[43mside\u001b[49m\u001b[38;5;241;43m=\u001b[39;49m\u001b[38;5;124;43m\"\u001b[39;49m\u001b[38;5;124;43mright\u001b[39;49m\u001b[38;5;124;43m\"\u001b[39;49m\u001b[43m)\u001b[49m\n\u001b[1;32m    454\u001b[0m op, op_class, left, right \u001b[38;5;241m=\u001b[39m \u001b[38;5;28mself\u001b[39m\u001b[38;5;241m.\u001b[39m_rewrite_membership_op(node, left, right)\n\u001b[1;32m    455\u001b[0m \u001b[38;5;28;01mreturn\u001b[39;00m op, op_class, left, right\n",
      "File \u001b[0;32m~/.local/lib/python3.9/site-packages/pandas/core/computation/expr.py:411\u001b[0m, in \u001b[0;36mBaseExprVisitor.visit\u001b[0;34m(self, node, **kwargs)\u001b[0m\n\u001b[1;32m    409\u001b[0m method \u001b[38;5;241m=\u001b[39m \u001b[38;5;124mf\u001b[39m\u001b[38;5;124m\"\u001b[39m\u001b[38;5;124mvisit_\u001b[39m\u001b[38;5;132;01m{\u001b[39;00m\u001b[38;5;28mtype\u001b[39m(node)\u001b[38;5;241m.\u001b[39m\u001b[38;5;18m__name__\u001b[39m\u001b[38;5;132;01m}\u001b[39;00m\u001b[38;5;124m\"\u001b[39m\n\u001b[1;32m    410\u001b[0m visitor \u001b[38;5;241m=\u001b[39m \u001b[38;5;28mgetattr\u001b[39m(\u001b[38;5;28mself\u001b[39m, method)\n\u001b[0;32m--> 411\u001b[0m \u001b[38;5;28;01mreturn\u001b[39;00m \u001b[43mvisitor\u001b[49m\u001b[43m(\u001b[49m\u001b[43mnode\u001b[49m\u001b[43m,\u001b[49m\u001b[43m \u001b[49m\u001b[38;5;241;43m*\u001b[39;49m\u001b[38;5;241;43m*\u001b[39;49m\u001b[43mkwargs\u001b[49m\u001b[43m)\u001b[49m\n",
      "File \u001b[0;32m~/.local/lib/python3.9/site-packages/pandas/core/computation/expr.py:531\u001b[0m, in \u001b[0;36mBaseExprVisitor.visit_BinOp\u001b[0;34m(self, node, **kwargs)\u001b[0m\n\u001b[1;32m    530\u001b[0m \u001b[38;5;28;01mdef\u001b[39;00m \u001b[38;5;21mvisit_BinOp\u001b[39m(\u001b[38;5;28mself\u001b[39m, node, \u001b[38;5;241m*\u001b[39m\u001b[38;5;241m*\u001b[39mkwargs):\n\u001b[0;32m--> 531\u001b[0m     op, op_class, left, right \u001b[38;5;241m=\u001b[39m \u001b[38;5;28;43mself\u001b[39;49m\u001b[38;5;241;43m.\u001b[39;49m\u001b[43m_maybe_transform_eq_ne\u001b[49m\u001b[43m(\u001b[49m\u001b[43mnode\u001b[49m\u001b[43m)\u001b[49m\n\u001b[1;32m    532\u001b[0m     left, right \u001b[38;5;241m=\u001b[39m \u001b[38;5;28mself\u001b[39m\u001b[38;5;241m.\u001b[39m_maybe_downcast_constants(left, right)\n\u001b[1;32m    533\u001b[0m     \u001b[38;5;28;01mreturn\u001b[39;00m \u001b[38;5;28mself\u001b[39m\u001b[38;5;241m.\u001b[39m_maybe_evaluate_binop(op, op_class, left, right)\n",
      "File \u001b[0;32m~/.local/lib/python3.9/site-packages/pandas/core/computation/expr.py:453\u001b[0m, in \u001b[0;36mBaseExprVisitor._maybe_transform_eq_ne\u001b[0;34m(self, node, left, right)\u001b[0m\n\u001b[1;32m    451\u001b[0m     left \u001b[38;5;241m=\u001b[39m \u001b[38;5;28mself\u001b[39m\u001b[38;5;241m.\u001b[39mvisit(node\u001b[38;5;241m.\u001b[39mleft, side\u001b[38;5;241m=\u001b[39m\u001b[38;5;124m\"\u001b[39m\u001b[38;5;124mleft\u001b[39m\u001b[38;5;124m\"\u001b[39m)\n\u001b[1;32m    452\u001b[0m \u001b[38;5;28;01mif\u001b[39;00m right \u001b[38;5;129;01mis\u001b[39;00m \u001b[38;5;28;01mNone\u001b[39;00m:\n\u001b[0;32m--> 453\u001b[0m     right \u001b[38;5;241m=\u001b[39m \u001b[38;5;28;43mself\u001b[39;49m\u001b[38;5;241;43m.\u001b[39;49m\u001b[43mvisit\u001b[49m\u001b[43m(\u001b[49m\u001b[43mnode\u001b[49m\u001b[38;5;241;43m.\u001b[39;49m\u001b[43mright\u001b[49m\u001b[43m,\u001b[49m\u001b[43m \u001b[49m\u001b[43mside\u001b[49m\u001b[38;5;241;43m=\u001b[39;49m\u001b[38;5;124;43m\"\u001b[39;49m\u001b[38;5;124;43mright\u001b[39;49m\u001b[38;5;124;43m\"\u001b[39;49m\u001b[43m)\u001b[49m\n\u001b[1;32m    454\u001b[0m op, op_class, left, right \u001b[38;5;241m=\u001b[39m \u001b[38;5;28mself\u001b[39m\u001b[38;5;241m.\u001b[39m_rewrite_membership_op(node, left, right)\n\u001b[1;32m    455\u001b[0m \u001b[38;5;28;01mreturn\u001b[39;00m op, op_class, left, right\n",
      "File \u001b[0;32m~/.local/lib/python3.9/site-packages/pandas/core/computation/expr.py:411\u001b[0m, in \u001b[0;36mBaseExprVisitor.visit\u001b[0;34m(self, node, **kwargs)\u001b[0m\n\u001b[1;32m    409\u001b[0m method \u001b[38;5;241m=\u001b[39m \u001b[38;5;124mf\u001b[39m\u001b[38;5;124m\"\u001b[39m\u001b[38;5;124mvisit_\u001b[39m\u001b[38;5;132;01m{\u001b[39;00m\u001b[38;5;28mtype\u001b[39m(node)\u001b[38;5;241m.\u001b[39m\u001b[38;5;18m__name__\u001b[39m\u001b[38;5;132;01m}\u001b[39;00m\u001b[38;5;124m\"\u001b[39m\n\u001b[1;32m    410\u001b[0m visitor \u001b[38;5;241m=\u001b[39m \u001b[38;5;28mgetattr\u001b[39m(\u001b[38;5;28mself\u001b[39m, method)\n\u001b[0;32m--> 411\u001b[0m \u001b[38;5;28;01mreturn\u001b[39;00m \u001b[43mvisitor\u001b[49m\u001b[43m(\u001b[49m\u001b[43mnode\u001b[49m\u001b[43m,\u001b[49m\u001b[43m \u001b[49m\u001b[38;5;241;43m*\u001b[39;49m\u001b[38;5;241;43m*\u001b[39;49m\u001b[43mkwargs\u001b[49m\u001b[43m)\u001b[49m\n",
      "File \u001b[0;32m~/.local/lib/python3.9/site-packages/pandas/core/computation/expr.py:541\u001b[0m, in \u001b[0;36mBaseExprVisitor.visit_Name\u001b[0;34m(self, node, **kwargs)\u001b[0m\n\u001b[1;32m    540\u001b[0m \u001b[38;5;28;01mdef\u001b[39;00m \u001b[38;5;21mvisit_Name\u001b[39m(\u001b[38;5;28mself\u001b[39m, node, \u001b[38;5;241m*\u001b[39m\u001b[38;5;241m*\u001b[39mkwargs) \u001b[38;5;241m-\u001b[39m\u001b[38;5;241m>\u001b[39m Term:\n\u001b[0;32m--> 541\u001b[0m     \u001b[38;5;28;01mreturn\u001b[39;00m \u001b[38;5;28;43mself\u001b[39;49m\u001b[38;5;241;43m.\u001b[39;49m\u001b[43mterm_type\u001b[49m\u001b[43m(\u001b[49m\u001b[43mnode\u001b[49m\u001b[38;5;241;43m.\u001b[39;49m\u001b[43mid\u001b[49m\u001b[43m,\u001b[49m\u001b[43m \u001b[49m\u001b[38;5;28;43mself\u001b[39;49m\u001b[38;5;241;43m.\u001b[39;49m\u001b[43menv\u001b[49m\u001b[43m,\u001b[49m\u001b[43m \u001b[49m\u001b[38;5;241;43m*\u001b[39;49m\u001b[38;5;241;43m*\u001b[39;49m\u001b[43mkwargs\u001b[49m\u001b[43m)\u001b[49m\n",
      "File \u001b[0;32m~/.local/lib/python3.9/site-packages/pandas/core/computation/ops.py:91\u001b[0m, in \u001b[0;36mTerm.__init__\u001b[0;34m(self, name, env, side, encoding)\u001b[0m\n\u001b[1;32m     89\u001b[0m tname \u001b[38;5;241m=\u001b[39m \u001b[38;5;28mstr\u001b[39m(name)\n\u001b[1;32m     90\u001b[0m \u001b[38;5;28mself\u001b[39m\u001b[38;5;241m.\u001b[39mis_local \u001b[38;5;241m=\u001b[39m tname\u001b[38;5;241m.\u001b[39mstartswith(LOCAL_TAG) \u001b[38;5;129;01mor\u001b[39;00m tname \u001b[38;5;129;01min\u001b[39;00m DEFAULT_GLOBALS\n\u001b[0;32m---> 91\u001b[0m \u001b[38;5;28mself\u001b[39m\u001b[38;5;241m.\u001b[39m_value \u001b[38;5;241m=\u001b[39m \u001b[38;5;28;43mself\u001b[39;49m\u001b[38;5;241;43m.\u001b[39;49m\u001b[43m_resolve_name\u001b[49m\u001b[43m(\u001b[49m\u001b[43m)\u001b[49m\n\u001b[1;32m     92\u001b[0m \u001b[38;5;28mself\u001b[39m\u001b[38;5;241m.\u001b[39mencoding \u001b[38;5;241m=\u001b[39m encoding\n",
      "File \u001b[0;32m~/.local/lib/python3.9/site-packages/pandas/core/computation/ops.py:115\u001b[0m, in \u001b[0;36mTerm._resolve_name\u001b[0;34m(self)\u001b[0m\n\u001b[1;32m    110\u001b[0m \u001b[38;5;28;01mif\u001b[39;00m local_name \u001b[38;5;129;01min\u001b[39;00m \u001b[38;5;28mself\u001b[39m\u001b[38;5;241m.\u001b[39menv\u001b[38;5;241m.\u001b[39mscope \u001b[38;5;129;01mand\u001b[39;00m \u001b[38;5;28misinstance\u001b[39m(\n\u001b[1;32m    111\u001b[0m     \u001b[38;5;28mself\u001b[39m\u001b[38;5;241m.\u001b[39menv\u001b[38;5;241m.\u001b[39mscope[local_name], \u001b[38;5;28mtype\u001b[39m\n\u001b[1;32m    112\u001b[0m ):\n\u001b[1;32m    113\u001b[0m     is_local \u001b[38;5;241m=\u001b[39m \u001b[38;5;28;01mFalse\u001b[39;00m\n\u001b[0;32m--> 115\u001b[0m res \u001b[38;5;241m=\u001b[39m \u001b[38;5;28;43mself\u001b[39;49m\u001b[38;5;241;43m.\u001b[39;49m\u001b[43menv\u001b[49m\u001b[38;5;241;43m.\u001b[39;49m\u001b[43mresolve\u001b[49m\u001b[43m(\u001b[49m\u001b[43mlocal_name\u001b[49m\u001b[43m,\u001b[49m\u001b[43m \u001b[49m\u001b[43mis_local\u001b[49m\u001b[38;5;241;43m=\u001b[39;49m\u001b[43mis_local\u001b[49m\u001b[43m)\u001b[49m\n\u001b[1;32m    116\u001b[0m \u001b[38;5;28mself\u001b[39m\u001b[38;5;241m.\u001b[39mupdate(res)\n\u001b[1;32m    118\u001b[0m \u001b[38;5;28;01mif\u001b[39;00m \u001b[38;5;28mhasattr\u001b[39m(res, \u001b[38;5;124m\"\u001b[39m\u001b[38;5;124mndim\u001b[39m\u001b[38;5;124m\"\u001b[39m) \u001b[38;5;129;01mand\u001b[39;00m res\u001b[38;5;241m.\u001b[39mndim \u001b[38;5;241m>\u001b[39m \u001b[38;5;241m2\u001b[39m:\n",
      "File \u001b[0;32m~/.local/lib/python3.9/site-packages/pandas/core/computation/scope.py:244\u001b[0m, in \u001b[0;36mScope.resolve\u001b[0;34m(self, key, is_local)\u001b[0m\n\u001b[1;32m    242\u001b[0m     \u001b[38;5;28;01mreturn\u001b[39;00m \u001b[38;5;28mself\u001b[39m\u001b[38;5;241m.\u001b[39mtemps[key]\n\u001b[1;32m    243\u001b[0m \u001b[38;5;28;01mexcept\u001b[39;00m \u001b[38;5;167;01mKeyError\u001b[39;00m \u001b[38;5;28;01mas\u001b[39;00m err:\n\u001b[0;32m--> 244\u001b[0m     \u001b[38;5;28;01mraise\u001b[39;00m UndefinedVariableError(key, is_local) \u001b[38;5;28;01mfrom\u001b[39;00m \u001b[38;5;21;01merr\u001b[39;00m\n",
      "\u001b[0;31mUndefinedVariableError\u001b[0m: name 'nan' is not defined"
     ]
    }
   ],
   "source": [
    "#Cayrel merging functions\n",
    "\n",
    "elem_unique_lines_cayrel, bad_line_elem_cayrel, delta_abund_elem_cayrel = merge_and_filter_all_lines_cayrel(elem_to_merge=elem_to_merge, delta_abund_bad=10.0, std_abund_bad=10.0, max_no_change_delta_abund=15.0)\n",
    "\n",
    "merge_abund_files_cayrel(elem_to_merge, cayrel.spec_id.values, cayrel.monh.values, ion_to_merge=ion_to_merge, wls_to_filter=elem_unique_lines_cayrel[bad_line_elem_cayrel], \n",
    "                  wls_to_correct = elem_unique_lines_cayrel[~bad_line_elem_cayrel], gflogs_shift = delta_abund_elem_cayrel[~bad_line_elem_cayrel])\n",
    "\n",
    "#NLTE Cayrel merging functions\n",
    "# elem_unique_lines_cayrel, bad_line_elem_cayrel, delta_abund_elem_cayrel = merge_and_filter_all_nlte_lines_cayrel(elem_to_merge=elem_to_merge, \n",
    "#                                                                                                                  ion_to_merge=ion_to_merge, delta_abund_bad=0.5, \n",
    "#                                                                                                                  std_abund_bad=0.5, max_no_change_delta_abund=0.25)\n",
    "\n",
    "# merge_nlte_abund_files_cayrel(elem_to_merge, cayrel.spec_id.values, cayrel.monh.values, ion_to_merge=ion_to_merge, wls_to_filter=elem_unique_lines_cayrel[bad_line_elem_cayrel], \n",
    "#                   wls_to_correct = elem_unique_lines_cayrel[~bad_line_elem_cayrel], gflogs_shift = delta_abund_elem_cayrel[~bad_line_elem_cayrel])"
   ]
  },
  {
   "cell_type": "code",
   "execution_count": null,
   "id": "0036298a-dda0-41ad-99da-c3866db590f7",
   "metadata": {},
   "outputs": [],
   "source": []
  },
  {
   "cell_type": "code",
   "execution_count": 17,
   "id": "bcd3bb8f-bdf8-4cb9-8b16-88ad36ce82c3",
   "metadata": {},
   "outputs": [],
   "source": [
    "# What we want to merge\n",
    "elem_to_merge, ion_to_merge = 'la', 'La 2'"
   ]
  },
  {
   "cell_type": "code",
   "execution_count": 19,
   "id": "acc3b060-19ea-410d-9ca0-fa75a72cce60",
   "metadata": {},
   "outputs": [
    {
     "data": {
      "image/png": "[encoded data removed]",
      "text/plain": [
       "<Figure size 720x288 with 1 Axes>"
      ]
     },
     "metadata": {
      "needs_background": "light"
     },
     "output_type": "display_data"
    },
    {
     "name": "stdout",
     "output_type": "stream",
     "text": [
      "la number of lines: 5, good lines: 1\n",
      "CPU times: user 4.06 s, sys: 242 ms, total: 4.3 s\n",
      "Wall time: 4.64 s\n"
     ]
    }
   ],
   "source": [
    "%%time\n",
    "\n",
    "elem_unique_lines, bad_line_elem, delta_abund_elem = merge_and_filter_all_lines(elem_to_merge=elem_to_merge, delta_abund_bad=1.0, std_abund_bad=1.0, max_no_change_delta_abund=15.0)\n",
    "\n",
    "merge_abund_files(elem_to_merge, uves.spec_id.values, uves.monh.values, ion_to_merge=ion_to_merge, wls_to_filter=elem_unique_lines[bad_line_elem], \n",
    "                  wls_to_correct = elem_unique_lines[~bad_line_elem], gflogs_shift = delta_abund_elem[~bad_line_elem])"
   ]
  },
  {
   "cell_type": "code",
   "execution_count": null,
   "id": "297a49c1-21f8-46ef-ab6b-24444fd6e381",
   "metadata": {},
   "outputs": [],
   "source": []
  },
  {
   "cell_type": "code",
   "execution_count": null,
   "id": "6e898dd3-aebe-4c9a-ba5c-17ae851a388b",
   "metadata": {},
   "outputs": [],
   "source": []
  },
  {
   "cell_type": "code",
   "execution_count": null,
   "id": "e447e890-cde0-4f0e-a699-df121cab064d",
   "metadata": {},
   "outputs": [],
   "source": []
  },
  {
   "cell_type": "code",
   "execution_count": null,
   "id": "d2de2fa0-0c11-4c4d-aac5-dc0f695ec3d1",
   "metadata": {},
   "outputs": [],
   "source": []
  },
  {
   "cell_type": "code",
   "execution_count": 39,
   "id": "d7969159-dd3b-45b9-ad49-8b290af45e41",
   "metadata": {},
   "outputs": [
    {
     "data": {
      "image/png": "[encoded data removed]",
      "text/plain": [
       "<Figure size 720x288 with 1 Axes>"
      ]
     },
     "metadata": {
      "needs_background": "light"
     },
     "output_type": "display_data"
    },
    {
     "name": "stdout",
     "output_type": "stream",
     "text": [
      "CPU times: user 7.69 s, sys: 259 ms, total: 7.95 s\n",
      "Wall time: 11.3 s\n"
     ]
    }
   ],
   "source": [
    "%%time\n",
    "\n",
    "elem_unique_lines_nlte, bad_line_elem_nlte, delta_abund_elem_nlte = merge_and_filter_all_nlte_lines(elem_to_merge=elem_to_merge, ion_to_merge=ion_to_merge)\n",
    "\n",
    "merge_nlte_abund_files(elem_to_merge, uves.spec_id.values, uves.monh.values, ion_to_merge=ion_to_merge, wls_to_filter=elem_unique_lines_nlte[bad_line_elem_nlte], \n",
    "                  wls_to_correct = elem_unique_lines_nlte[~bad_line_elem_nlte], gflogs_shift = delta_abund_elem_nlte[~bad_line_elem_nlte])"
   ]
  },
  {
   "cell_type": "code",
   "execution_count": null,
   "id": "3606b278-ce68-4dc4-952d-0afc4cbecb6a",
   "metadata": {},
   "outputs": [],
   "source": []
  },
  {
   "cell_type": "code",
   "execution_count": 310,
   "id": "dfbe1fc6-5616-4587-a8d3-1f6cc1595a40",
   "metadata": {},
   "outputs": [],
   "source": [
    "#Test is files were correctly merged"
   ]
  },
  {
   "cell_type": "code",
   "execution_count": null,
   "id": "8b490819-b392-476b-b9b9-52f8481c28b8",
   "metadata": {},
   "outputs": [],
   "source": []
  },
  {
   "cell_type": "code",
   "execution_count": 118,
   "id": "6204c2b3-6eaa-4602-aeac-fcf0ac237f83",
   "metadata": {},
   "outputs": [],
   "source": [
    "# elem_merged = pd.read_csv('abunds_merged/uves_lines_mg1_merged.csv')\n",
    "# star_lines = pd.read_csv('abunds_merged/uves_lines_mg1_1166634514845213568_3572891_000.csv')\n",
    "\n",
    "elem_merged = pd.read_csv('abunds_merged/cayrel_all_th_lines_merged.csv', comment='s', skiprows=1)\n",
    "# elem_merged = pd.read_csv('abunds_merged/uves_lines_mg1_merged.csv')\n",
    "# star_lines = pd.read_csv('abunds_merged/uves_lines_mg1_1166634514845213568_3572891_000.csv')"
   ]
  },
  {
   "cell_type": "code",
   "execution_count": 119,
   "id": "2b3ec242-b43b-4ddf-ad7a-fcc370471e4d",
   "metadata": {},
   "outputs": [
    {
     "data": {
      "text/html": [
       "<div>\n",
       "<style scoped>\n",
       "    .dataframe tbody tr th:only-of-type {\n",
       "        vertical-align: middle;\n",
       "    }\n",
       "\n",
       "    .dataframe tbody tr th {\n",
       "        vertical-align: top;\n",
       "    }\n",
       "\n",
       "    .dataframe thead th {\n",
       "        text-align: right;\n",
       "    }\n",
       "</style>\n",
       "<table border=\"1\" class=\"dataframe\">\n",
       "  <thead>\n",
       "    <tr style=\"text-align: right;\">\n",
       "      <th></th>\n",
       "      <th>01_HD2796</th>\n",
       "      <th>Th 2</th>\n",
       "      <th>4019.13</th>\n",
       "      <th>0.0</th>\n",
       "      <th>-0.228</th>\n",
       "      <th>0.670</th>\n",
       "      <th>0.337</th>\n",
       "      <th>0.134</th>\n",
       "      <th>16</th>\n",
       "    </tr>\n",
       "  </thead>\n",
       "  <tbody>\n",
       "    <tr>\n",
       "      <th>61</th>\n",
       "      <td>32_CS29516_24</td>\n",
       "      <td>Th 2</td>\n",
       "      <td>4019.13</td>\n",
       "      <td>0.0000</td>\n",
       "      <td>-0.228</td>\n",
       "      <td>-6.364</td>\n",
       "      <td>5582387.402</td>\n",
       "      <td>4435053.574</td>\n",
       "      <td>6</td>\n",
       "    </tr>\n",
       "    <tr>\n",
       "      <th>62</th>\n",
       "      <td>32_CS29516_24</td>\n",
       "      <td>Th 2</td>\n",
       "      <td>4085.78</td>\n",
       "      <td>1.2633</td>\n",
       "      <td>-0.209</td>\n",
       "      <td>0.496</td>\n",
       "      <td>2.818</td>\n",
       "      <td>1.557</td>\n",
       "      <td>21</td>\n",
       "    </tr>\n",
       "    <tr>\n",
       "      <th>63</th>\n",
       "      <td>33_CS29518_51</td>\n",
       "      <td>Th 2</td>\n",
       "      <td>4019.13</td>\n",
       "      <td>0.0000</td>\n",
       "      <td>-0.228</td>\n",
       "      <td>0.615</td>\n",
       "      <td>0.370</td>\n",
       "      <td>0.367</td>\n",
       "      <td>16</td>\n",
       "    </tr>\n",
       "    <tr>\n",
       "      <th>64</th>\n",
       "      <td>33_CS29518_51</td>\n",
       "      <td>Th 2</td>\n",
       "      <td>4085.78</td>\n",
       "      <td>1.2633</td>\n",
       "      <td>-0.209</td>\n",
       "      <td>-2.556</td>\n",
       "      <td>6008.708</td>\n",
       "      <td>1603.637</td>\n",
       "      <td>16</td>\n",
       "    </tr>\n",
       "    <tr>\n",
       "      <th>65</th>\n",
       "      <td>34_CS30325_94</td>\n",
       "      <td>Th 2</td>\n",
       "      <td>4019.13</td>\n",
       "      <td>0.0000</td>\n",
       "      <td>-0.228</td>\n",
       "      <td>-3.187</td>\n",
       "      <td>4796.627</td>\n",
       "      <td>3186.018</td>\n",
       "      <td>16</td>\n",
       "    </tr>\n",
       "    <tr>\n",
       "      <th>66</th>\n",
       "      <td>34_CS30325_94</td>\n",
       "      <td>Th 2</td>\n",
       "      <td>4085.78</td>\n",
       "      <td>1.2633</td>\n",
       "      <td>-0.209</td>\n",
       "      <td>-3.187</td>\n",
       "      <td>64831.869</td>\n",
       "      <td>11311.370</td>\n",
       "      <td>16</td>\n",
       "    </tr>\n",
       "    <tr>\n",
       "      <th>67</th>\n",
       "      <td>35_CS31082_01</td>\n",
       "      <td>Th 2</td>\n",
       "      <td>4019.13</td>\n",
       "      <td>0.0000</td>\n",
       "      <td>-0.228</td>\n",
       "      <td>1.920</td>\n",
       "      <td>0.126</td>\n",
       "      <td>0.070</td>\n",
       "      <td>15</td>\n",
       "    </tr>\n",
       "    <tr>\n",
       "      <th>68</th>\n",
       "      <td>35_CS31082_01</td>\n",
       "      <td>Th 2</td>\n",
       "      <td>4085.78</td>\n",
       "      <td>1.2633</td>\n",
       "      <td>-0.209</td>\n",
       "      <td>2.071</td>\n",
       "      <td>0.138</td>\n",
       "      <td>0.166</td>\n",
       "      <td>19</td>\n",
       "    </tr>\n",
       "  </tbody>\n",
       "</table>\n",
       "</div>"
      ],
      "text/plain": [
       "        01_HD2796  Th 2  4019.13     0.0  -0.228  0.670        0.337  \\\n",
       "61  32_CS29516_24  Th 2  4019.13  0.0000  -0.228 -6.364  5582387.402   \n",
       "62  32_CS29516_24  Th 2  4085.78  1.2633  -0.209  0.496        2.818   \n",
       "63  33_CS29518_51  Th 2  4019.13  0.0000  -0.228  0.615        0.370   \n",
       "64  33_CS29518_51  Th 2  4085.78  1.2633  -0.209 -2.556     6008.708   \n",
       "65  34_CS30325_94  Th 2  4019.13  0.0000  -0.228 -3.187     4796.627   \n",
       "66  34_CS30325_94  Th 2  4085.78  1.2633  -0.209 -3.187    64831.869   \n",
       "67  35_CS31082_01  Th 2  4019.13  0.0000  -0.228  1.920        0.126   \n",
       "68  35_CS31082_01  Th 2  4085.78  1.2633  -0.209  2.071        0.138   \n",
       "\n",
       "          0.134  16  \n",
       "61  4435053.574   6  \n",
       "62        1.557  21  \n",
       "63        0.367  16  \n",
       "64     1603.637  16  \n",
       "65     3186.018  16  \n",
       "66    11311.370  16  \n",
       "67        0.070  15  \n",
       "68        0.166  19  "
      ]
     },
     "execution_count": 119,
     "metadata": {},
     "output_type": "execute_result"
    }
   ],
   "source": [
    "# star_lines.head(10)\n",
    "elem_merged.tail(8)"
   ]
  },
  {
   "cell_type": "code",
   "execution_count": 44,
   "id": "1fb7aa06-d621-4b98-9811-a4c5b11e1721",
   "metadata": {},
   "outputs": [
    {
     "data": {
      "image/png": "[encoded data removed]",
      "text/plain": [
       "<Figure size 432x288 with 1 Axes>"
      ]
     },
     "metadata": {
      "needs_background": "light"
     },
     "output_type": "display_data"
    }
   ],
   "source": [
    "plt.scatter(uves.monh.values, elem_merged[ion_to_merge.lower().replace(' ', '')].values - 7.60, s=15, color='C2')\n",
    "plt.errorbar(uves.monh.values, elem_merged[ion_to_merge.lower().replace(' ', '')].values - 7.60, fmt='g.', yerr=elem_merged['e%s_rms' %ion_to_merge.lower().replace(' ', '')].values, alpha=0.2, lw=1)\n",
    "\n",
    "plt.scatter(uves.monh.values, elem_merged_nlte['%s_nlte' %ion_to_merge.lower().replace(' ', '')].values - 7.60, s=15, color='k')\n",
    "plt.errorbar(uves.monh.values, elem_merged_nlte['%s_nlte' %ion_to_merge.lower().replace(' ', '')].values - 7.60, fmt='k.', \n",
    "             yerr=elem_merged_nlte['e%s_nlte_rms' %ion_to_merge.lower().replace(' ', '')].values, alpha=0.2, lw=1)\n",
    "plt.xlim(-4, -2)\n",
    "# plt.ylim(-0.25, 1.5)\n",
    "plt.show()"
   ]
  },
  {
   "cell_type": "code",
   "execution_count": 36,
   "id": "57fd529b-77c3-4f9d-9a7f-de63210a2e7d",
   "metadata": {},
   "outputs": [],
   "source": [
    "# plt.scatter(uves.monh.values, elem_merged[ion_to_merge.lower().replace(' ', '')].values - 7.60, s=15, color='k')\n",
    "# plt.errorbar(uves.monh.values, elem_merged[ion_to_merge.lower().replace(' ', '')].values - 7.60, fmt='k.', yerr=elem_merged['e%s_rms' %ion_to_merge.lower().replace(' ', '')].values, alpha=0.2, lw=1)\n",
    "# plt.xlim(-4, -2)\n",
    "# # plt.ylim(-0.25, 1.5)\n",
    "# plt.show()"
   ]
  },
  {
   "cell_type": "code",
   "execution_count": 352,
   "id": "48dd69b1-aff0-4301-a186-5dd6fdb55268",
   "metadata": {},
   "outputs": [
    {
     "data": {
      "image/png": "[encoded data removed]",
      "text/plain": [
       "<Figure size 432x288 with 1 Axes>"
      ]
     },
     "metadata": {
      "needs_background": "light"
     },
     "output_type": "display_data"
    }
   ],
   "source": [
    "plt.hist(elem_merged.esi1_rms.values, bins=40)\n",
    "plt.show()"
   ]
  },
  {
   "cell_type": "code",
   "execution_count": 238,
   "id": "95f62b03-88a6-4d76-9b57-01e835a173b9",
   "metadata": {},
   "outputs": [
    {
     "data": {
      "text/html": [
       "<div>\n",
       "<style scoped>\n",
       "    .dataframe tbody tr th:only-of-type {\n",
       "        vertical-align: middle;\n",
       "    }\n",
       "\n",
       "    .dataframe tbody tr th {\n",
       "        vertical-align: top;\n",
       "    }\n",
       "\n",
       "    .dataframe thead th {\n",
       "        text-align: right;\n",
       "    }\n",
       "</style>\n",
       "<table border=\"1\" class=\"dataframe\">\n",
       "  <thead>\n",
       "    <tr style=\"text-align: right;\">\n",
       "      <th></th>\n",
       "      <th>spec_id</th>\n",
       "      <th>ti1</th>\n",
       "      <th>eti1_rms</th>\n",
       "      <th>eti1_sme</th>\n",
       "      <th>n_lines_ti1</th>\n",
       "      <th>min_iters_ti1</th>\n",
       "    </tr>\n",
       "  </thead>\n",
       "  <tbody>\n",
       "    <tr>\n",
       "      <th>68</th>\n",
       "      <td>5454289027730222848_3708466_149</td>\n",
       "      <td>5.193415</td>\n",
       "      <td>0.285996</td>\n",
       "      <td>0.1985</td>\n",
       "      <td>22</td>\n",
       "      <td>12</td>\n",
       "    </tr>\n",
       "    <tr>\n",
       "      <th>94</th>\n",
       "      <td>6425379106130933376_3573700_088</td>\n",
       "      <td>5.566729</td>\n",
       "      <td>0.471782</td>\n",
       "      <td>0.3575</td>\n",
       "      <td>22</td>\n",
       "      <td>9</td>\n",
       "    </tr>\n",
       "  </tbody>\n",
       "</table>\n",
       "</div>"
      ],
      "text/plain": [
       "                            spec_id       ti1  eti1_rms  eti1_sme  \\\n",
       "68  5454289027730222848_3708466_149  5.193415  0.285996    0.1985   \n",
       "94  6425379106130933376_3573700_088  5.566729  0.471782    0.3575   \n",
       "\n",
       "    n_lines_ti1  min_iters_ti1  \n",
       "68           22             12  \n",
       "94           22              9  "
      ]
     },
     "execution_count": 238,
     "metadata": {},
     "output_type": "execute_result"
    }
   ],
   "source": [
    "elem_merged.query('eti1_rms > 0.25')"
   ]
  },
  {
   "cell_type": "code",
   "execution_count": 239,
   "id": "5ac132e5-a156-4603-bb70-0753f7e4dee6",
   "metadata": {},
   "outputs": [
    {
     "data": {
      "text/plain": [
       "94   -3.810066\n",
       "Name: monh, dtype: float64"
      ]
     },
     "execution_count": 239,
     "metadata": {},
     "output_type": "execute_result"
    }
   ],
   "source": [
    "uves.query('spec_id == \"6425379106130933376_3573700_088\"').monh"
   ]
  },
  {
   "cell_type": "code",
   "execution_count": null,
   "id": "b77e41e4-b0a6-414c-a223-bfaa6b09a340",
   "metadata": {},
   "outputs": [],
   "source": []
  },
  {
   "cell_type": "code",
   "execution_count": null,
   "id": "585f5e52-771e-46a1-8233-b6bb557a6776",
   "metadata": {},
   "outputs": [],
   "source": [
    "#OLD CODE FROM HERE!!"
   ]
  },
  {
   "cell_type": "code",
   "execution_count": null,
   "id": "3448bf8f-e285-4eea-ba9b-05ae896ce163",
   "metadata": {},
   "outputs": [],
   "source": []
  },
  {
   "cell_type": "code",
   "execution_count": 55,
   "id": "4e7bd25a-45f0-46f7-a065-46bb8a7916bd",
   "metadata": {},
   "outputs": [],
   "source": [
    "os.system('cat tmp_elems/uves_elem_lines_%s*.csv > abunds_merged/uves_all_%s_lines_merged.csv' %(elem_to_merge, elem_to_merge));"
   ]
  },
  {
   "cell_type": "code",
   "execution_count": 57,
   "id": "1d5caec2-fcb4-44df-9c1a-ea195a7b4a04",
   "metadata": {},
   "outputs": [],
   "source": [
    "elem = pd.read_csv('abunds_merged/uves_%s_merged_lines.csv' %elem_to_merge, \n",
    "                   names=['spec_id','species','wl_line','excit','gflog',elem_to_merge,'e%s_sme' %elem_to_merge,\n",
    "                          'e%s_fit' %elem_to_merge,'n_iter_%s' %elem_to_merge], comment='s')"
   ]
  },
  {
   "cell_type": "code",
   "execution_count": 58,
   "id": "8cce073c-1080-4628-9a43-3860e026e028",
   "metadata": {},
   "outputs": [],
   "source": [
    "elem_unique_lines, elem_unique_lines_counts = np.unique(elem.wl_line.values, return_counts=True)\n",
    "grouped_stats_elem = elem.groupby('wl_line')[elem_to_merge].agg(['median', mad_std])"
   ]
  },
  {
   "cell_type": "code",
   "execution_count": 59,
   "id": "ad436981-b87a-4e75-b939-ebad576f5ca8",
   "metadata": {},
   "outputs": [],
   "source": [
    "elem_ref = elem.query('wl_line == %4.2f' %elem_unique_lines[np.argmin(grouped_stats_elem['mad_std'].values)])[elem_to_merge].values"
   ]
  },
  {
   "cell_type": "code",
   "execution_count": 60,
   "id": "e00825f5-c9a6-44ef-adae-39508ed61156",
   "metadata": {},
   "outputs": [],
   "source": [
    "line_madstd_elem = grouped_stats_elem['mad_std'].values\n",
    "line_median_elem = grouped_stats_elem['median'].values\n",
    "delta_abund_elem = line_median_elem - np.median(elem_ref)"
   ]
  },
  {
   "cell_type": "code",
   "execution_count": 61,
   "id": "aa41159a-b722-4453-abf2-c3631aa12806",
   "metadata": {},
   "outputs": [],
   "source": [
    "bad_line_elem = (np.abs(delta_abund_elem) > 0.50) | (line_madstd_elem > 0.50)\n",
    "delta_abund_elem[bad_line_elem] = 0.0\n",
    "delta_abund_elem[np.abs(delta_abund_elem) < 0.25] = 0.0\n",
    "# bad_line_elem[np.abs(delta_abund_elem) < 0.25] = False"
   ]
  },
  {
   "cell_type": "code",
   "execution_count": 62,
   "id": "36cc8536-b824-402c-b812-ae9b25ad33ad",
   "metadata": {},
   "outputs": [],
   "source": [
    "# # Optional plot\n",
    "# plt.figure(figsize=(10,5))\n",
    "\n",
    "# plt.errorbar(grouped_stats_elem.index, grouped_stats_elem['median'].values, yerr=grouped_stats_elem['mad_std'].values, fmt='k.', lw=1)\n",
    "# plt.errorbar(grouped_stats_elem.index, grouped_stats_elem['median'].values - delta_abund_elem, yerr=grouped_stats_elem['mad_std'].values, fmt='g.', lw=1, zorder=0)\n",
    "# plt.hlines(np.median(elem_ref), 3750, 5600, color='C3', lw=2, alpha=0.5)\n",
    "# plt.scatter(grouped_stats_elem.index[bad_line_elem], 6+np.ones_like(grouped_stats_elem.index[bad_line_elem]), marker='x', color='r')\n",
    "# plt.hlines(np.average(grouped_stats_elem['median'].values[~bad_line_elem], weights=1./grouped_stats_elem['mad_std'].values[~bad_line_elem]**2.), 3750, 5600, color='C4', lw=2, alpha=0.5)\n",
    "# plt.hlines(np.median(grouped_stats_elem['median'].values[~bad_line_elem]), 3750, 5600, color='C6', lw=2, alpha=0.5)\n",
    "\n",
    "# plt.show()\n",
    "# plt.close()"
   ]
  },
  {
   "cell_type": "code",
   "execution_count": null,
   "id": "930cb38a-2054-4c15-9b32-edee322e37ab",
   "metadata": {},
   "outputs": [],
   "source": []
  },
  {
   "cell_type": "code",
   "execution_count": null,
   "id": "d3b13630-fb15-4831-af44-604f3355577f",
   "metadata": {},
   "outputs": [],
   "source": []
  },
  {
   "cell_type": "code",
   "execution_count": 9,
   "id": "0e7386f5-f1b0-48fd-a948-3a8224879d9b",
   "metadata": {},
   "outputs": [],
   "source": [
    "# Reject or correct lines"
   ]
  },
  {
   "cell_type": "code",
   "execution_count": 10,
   "id": "d040d10f-fefa-496b-abce-835b98bde533",
   "metadata": {},
   "outputs": [],
   "source": [
    "# Merge line files\n",
    "os.system('cat tmp_elems/uves_elem_lines_mg*.csv > tmp_merged/uves_mg_merged_lines.csv');\n",
    "os.system('cat tmp_elems/uves_elem_lines_ca*.csv > tmp_merged/uves_ca_merged_lines.csv');"
   ]
  },
  {
   "cell_type": "code",
   "execution_count": 11,
   "id": "fde7554e-c6cd-4001-8377-e211bbb852e2",
   "metadata": {},
   "outputs": [],
   "source": [
    "mg = pd.read_csv('tmp_merged/uves_mg_merged_lines.csv', names=['spec_id','species','wl_line','excit','gflog','mg','emg_sme','emg_fit','n_iter_mg'], comment='s')\n",
    "ca = pd.read_csv('tmp_merged/uves_ca_merged_lines.csv', names=['spec_id','species','wl_line','excit','gflog','ca','eca_sme','eca_fit','n_iter_ca'], comment='s')"
   ]
  },
  {
   "cell_type": "code",
   "execution_count": 12,
   "id": "490b5848-ced1-4197-90e6-fb5fc70169a3",
   "metadata": {},
   "outputs": [],
   "source": [
    "mg_unique_lines, mg_unique_lines_counts = np.unique(mg.wl_line.values, return_counts=True)\n",
    "ca_unique_lines, ca_unique_lines_counts = np.unique(ca.wl_line.values, return_counts=True)"
   ]
  },
  {
   "cell_type": "code",
   "execution_count": 13,
   "id": "c4e75a09-c507-41da-a927-d970d800b294",
   "metadata": {},
   "outputs": [],
   "source": [
    "grouped_stats_mg = mg.groupby('wl_line')['mg'].agg(['median', 'mean', 'std', mad_std])\n",
    "grouped_stats_ca = ca.groupby('wl_line')['ca'].agg(['median', 'mean', 'std', mad_std])"
   ]
  },
  {
   "cell_type": "code",
   "execution_count": 14,
   "id": "6b60e355-f46e-4838-8a32-0894e47ee836",
   "metadata": {},
   "outputs": [],
   "source": [
    "mg_ref = mg.query('wl_line == %4.2f' %mg_unique_lines[np.argmin(grouped_stats_mg['std'].values)]).mg.values\n",
    "ca_ref = ca.query('wl_line == %4.2f' %ca_unique_lines[np.argmin(grouped_stats_ca['std'].values)]).ca.values"
   ]
  },
  {
   "cell_type": "code",
   "execution_count": 15,
   "id": "1bb8d2f0-90e7-4776-af26-a7719775de0c",
   "metadata": {},
   "outputs": [],
   "source": [
    "line_std_mg = grouped_stats_mg['std'].values\n",
    "line_madstd_mg = grouped_stats_mg['std'].values\n",
    "line_median_mg = grouped_stats_mg['median'].values\n",
    "delta_abund_mg = grouped_stats_mg['median'].values - np.median(mg_ref)\n",
    "\n",
    "line_std_ca = grouped_stats_ca['std'].values\n",
    "line_median_ca = grouped_stats_ca['median'].values\n",
    "delta_abund_ca = grouped_stats_ca['median'].values - np.median(ca_ref)"
   ]
  },
  {
   "cell_type": "code",
   "execution_count": 16,
   "id": "54d1736e-db6e-48da-8d4e-1fb993b14e69",
   "metadata": {},
   "outputs": [
    {
     "data": {
      "text/plain": [
       "array([0.5305193 , 0.20298061, 0.19038679, 0.65634615, 1.34422054,\n",
       "       1.58764776, 0.35550619, 0.32683895, 0.74119645, 1.1255767 ,\n",
       "       0.23678069, 0.11992922, 0.12324695, 0.95307325])"
      ]
     },
     "execution_count": 16,
     "metadata": {},
     "output_type": "execute_result"
    }
   ],
   "source": [
    "line_std_mg"
   ]
  },
  {
   "cell_type": "code",
   "execution_count": 17,
   "id": "dc91ebe1-5ada-4795-b2dd-6f30660843dc",
   "metadata": {},
   "outputs": [],
   "source": [
    "bad_line_mg = (np.abs(delta_abund_mg) > 0.5) | (line_std_mg > 0.50) \n",
    "delta_abund_mg[bad_line_mg] = 0.0\n",
    "delta_abund_mg[np.abs(delta_abund_mg) < 0.25] = 0.0\n",
    "\n",
    "bad_line_ca = (np.abs(delta_abund_ca) > 0.5) | (line_std_ca > 0.50) \n",
    "delta_abund_ca[bad_line_ca] = 0.0\n",
    "delta_abund_ca[np.abs(delta_abund_ca) < 0.10] = 0.0"
   ]
  },
  {
   "cell_type": "code",
   "execution_count": 18,
   "id": "44a1f3ae-6002-4a58-ac76-fb016f9728b7",
   "metadata": {},
   "outputs": [
    {
     "data": {
      "image/png": "[encoded data removed]",
      "text/plain": [
       "<Figure size 720x360 with 1 Axes>"
      ]
     },
     "metadata": {
      "needs_background": "light"
     },
     "output_type": "display_data"
    }
   ],
   "source": [
    "plt.figure(figsize=(10,5))\n",
    "\n",
    "plt.errorbar(grouped_stats_mg.index, grouped_stats_mg['median'].values, yerr=grouped_stats_mg['std'].values, fmt='k.', lw=1)\n",
    "plt.errorbar(grouped_stats_mg.index, grouped_stats_mg['median'].values - delta_abund_mg, yerr=grouped_stats_mg['std'].values, fmt='g.', lw=1, zorder=0)\n",
    "plt.hlines(np.median(mg_ref), 3750, 5600, color='C3', lw=2, alpha=0.5)\n",
    "plt.scatter(grouped_stats_mg.index[bad_line_mg], 6+np.ones_like(grouped_stats_mg.index[bad_line_mg]), marker='x', color='r')\n",
    "plt.hlines(np.average(grouped_stats_mg['median'].values[bad_line_mg], weights=1./grouped_stats_mg['std'].values[bad_line_mg]**2.), 3750, 5600, color='C4', lw=2, alpha=0.5)\n",
    "\n",
    "# plt.errorbar(grouped_stats_ca.index, grouped_stats_ca['median'].values, yerr=grouped_stats_ca['std'].values, fmt='k.', lw=1)\n",
    "# plt.errorbar(grouped_stats_ca.index, grouped_stats_ca['median'].values - delta_abund_ca, yerr=grouped_stats_ca['std'].values, fmt='g.', lw=1, zorder=0)\n",
    "# plt.hlines(np.median(ca_ref), 3750, 6500, color='C3', lw=2, alpha=0.5)\n",
    "# plt.scatter(grouped_stats_ca.index[bad_line_ca], 6+np.ones_like(grouped_stats_ca.index[bad_line_ca]), marker='x', color='r')\n",
    "# plt.hlines(np.average(grouped_stats_ca['median'].values[~bad_line_ca], weights=1./grouped_stats_ca['std'].values[~bad_line_ca]**2.), 3750, 6500, color='C4', lw=2, alpha=0.5)\n",
    "\n",
    "plt.show()"
   ]
  },
  {
   "cell_type": "code",
   "execution_count": 19,
   "id": "849776eb-d641-4e2b-9651-72e429ec0ccd",
   "metadata": {},
   "outputs": [
    {
     "data": {
      "text/plain": [
       "(7.873, 7.868012489212101)"
      ]
     },
     "execution_count": 19,
     "metadata": {},
     "output_type": "execute_result"
    }
   ],
   "source": [
    "np.median(mg_ref), np.average(grouped_stats_mg['median'].values[~bad_line_mg], weights=1./grouped_stats_mg['std'].values[~bad_line_mg]**2.)"
   ]
  },
  {
   "cell_type": "code",
   "execution_count": 20,
   "id": "cf789ef3-0a3d-4a77-a4d6-c9054e19b0e9",
   "metadata": {},
   "outputs": [
    {
     "data": {
      "text/plain": [
       "(6.6335, 6.647607557314772)"
      ]
     },
     "execution_count": 20,
     "metadata": {},
     "output_type": "execute_result"
    }
   ],
   "source": [
    "np.median(ca_ref), np.average(grouped_stats_ca['median'].values[~bad_line_ca], weights=1./grouped_stats_ca['std'].values[~bad_line_ca]**2.)"
   ]
  },
  {
   "cell_type": "code",
   "execution_count": 21,
   "id": "b5952ddc-494f-4cbb-b682-fa54bcb45454",
   "metadata": {},
   "outputs": [
    {
     "data": {
      "image/png": "[encoded data removed]",
      "text/plain": [
       "<Figure size 720x360 with 1 Axes>"
      ]
     },
     "metadata": {
      "needs_background": "light"
     },
     "output_type": "display_data"
    }
   ],
   "source": [
    "plt.figure(figsize=(10,5))\n",
    "\n",
    "for n_line, wl_line in enumerate(mg_unique_lines):\n",
    "    abunds = mg.query('wl_line == %4.2f' %mg_unique_lines[n_line])\n",
    "    abunds.reset_index(inplace=True)\n",
    "    \n",
    "    plt.boxplot(np.vstack((abunds.mg.values-mg_ref[abunds.index.values])), positions = [n_line], sym='o', widths=0.35, whis=(5, 95), showmeans=False)\n",
    "\n",
    "plt.gca().yaxis.grid('True', alpha=0.2, color='grey')\n",
    "plt.xticks(np.arange(0, mg_unique_lines.size), mg_unique_lines, rotation=90)\n",
    "plt.ylabel(r'${\\rm A(Mg)_i - A(Mg)_i}$', size=16)\n",
    "plt.xlabel(r'${\\rm Wavelength\\ (\\AA)}$', size=16)\n",
    "plt.ylim(-3, 3)\n",
    "plt.ylim(-1, 1)\n",
    "plt.xlim(-0.75, 13.75)\n",
    "plt.hlines([-0.20, 0.20], -1, 14, zorder=0, color='g', alpha=0.35, ls='--', lw=1.5)\n",
    "plt.hlines(0.0, -1, 14, zorder=-1, color='g', alpha=0.6, ls='-', lw=1.5)\n",
    "\n",
    "plt.tight_layout()\n",
    "plt.show()"
   ]
  },
  {
   "cell_type": "code",
   "execution_count": 22,
   "id": "6d187e71-9bc7-4c3e-aea9-d4b3c8293572",
   "metadata": {},
   "outputs": [
    {
     "data": {
      "image/png": "[encoded data removed]",
      "text/plain": [
       "<Figure size 720x360 with 1 Axes>"
      ]
     },
     "metadata": {
      "needs_background": "light"
     },
     "output_type": "display_data"
    }
   ],
   "source": [
    "plt.figure(figsize=(10,5))\n",
    "\n",
    "for n_line, wl_line in enumerate(ca_unique_lines):\n",
    "    abunds = ca.query('wl_line == %4.2f' %ca_unique_lines[n_line])\n",
    "    abunds.reset_index(inplace=True)\n",
    "    \n",
    "    plt.boxplot(np.vstack((abunds.ca.values-ca_ref[abunds.index.values])), positions = [n_line], sym='o', widths=0.35, whis=1.5, showmeans=False)\n",
    "\n",
    "# plt.gca().yaxis.grid('True', alpha=0.25, color='grey')\n",
    "plt.xticks(np.arange(0, ca_unique_lines.size), ca_unique_lines, rotation=90)\n",
    "plt.ylabel(r'${\\rm A(Ca)_i - A(Ca)_i}$', size=16)\n",
    "plt.xlabel(r'${\\rm Wavelength\\ (\\AA)}$', size=16)\n",
    "plt.ylim(-3, 3)\n",
    "plt.ylim(-1, 1)\n",
    "plt.xlim(-0.75, 24.75)\n",
    "plt.hlines([-0.20, 0.20], -1, 24, zorder=0, color='g', alpha=0.35, ls='--', lw=1.5)\n",
    "plt.hlines(0.0, -1, 24, zorder=-1, color='g', alpha=0.6, ls='-', lw=1.5)\n",
    "\n",
    "plt.tight_layout()\n",
    "plt.show()"
   ]
  },
  {
   "cell_type": "code",
   "execution_count": null,
   "id": "1889db35-f683-4530-b6de-f3d50df9f17a",
   "metadata": {},
   "outputs": [],
   "source": []
  },
  {
   "cell_type": "code",
   "execution_count": null,
   "id": "47195193-e518-42cd-a528-3c70c1979e37",
   "metadata": {},
   "outputs": [],
   "source": []
  },
  {
   "cell_type": "code",
   "execution_count": null,
   "id": "0309c563-ce9b-4b3b-9893-2571b48a1ff1",
   "metadata": {},
   "outputs": [],
   "source": []
  },
  {
   "cell_type": "code",
   "execution_count": null,
   "id": "20020dc8-6711-4074-8a11-1f333187e3c0",
   "metadata": {},
   "outputs": [],
   "source": []
  },
  {
   "cell_type": "code",
   "execution_count": 23,
   "id": "fde79535-feae-464b-87f8-2da20944b93d",
   "metadata": {},
   "outputs": [],
   "source": [
    "# Merge based on information"
   ]
  },
  {
   "cell_type": "code",
   "execution_count": null,
   "id": "08c1930a-8be8-4a3e-9efa-b521a0b44bb3",
   "metadata": {},
   "outputs": [],
   "source": []
  },
  {
   "cell_type": "code",
   "execution_count": 24,
   "id": "30593216-82bb-4785-adfc-7b660f64419a",
   "metadata": {},
   "outputs": [],
   "source": [
    "def merge_abund_files(elem_to_merge, spec_ids, monhs, ion_to_merge = None, wls_to_filter = None, wls_to_correct = None, gflogs_shift = None):\n",
    "\n",
    "    if len(wls_to_filter) == 0: wls_to_filter = None\n",
    "    if len(wls_to_correct) == 0: wls_to_correct = None\n",
    "    if len(gflogs_shift) == 0: gflogs_shift = None\n",
    "\n",
    "    for spec_id, monh in zip(spec_ids, monhs):\n",
    "        df = pd.read_csv('tmp_elems/uves_elem_lines_%s_%s.csv' %(elem_to_merge, spec_id))\n",
    "        # print(df)\n",
    "        if ion_to_merge != None: df = df.query('species == \"%s\"' %ion_to_merge)\n",
    "\n",
    "        if wls_to_filter is not None:\n",
    "            for wl_to_filter in wls_to_filter:\n",
    "                if wl_to_filter in np.unique(df.wl_line.values):\n",
    "                    df = df.query('wl_line != %4.2f' %wl_to_filter)\n",
    "                    df.reset_index(drop=True, inplace=True)\n",
    "\n",
    "        if (wls_to_correct is not None) and (gflogs_shift is not None):\n",
    "            for wl_to_correct, gflog_shift in zip(wls_to_correct, gflogs_shift):\n",
    "                if wl_to_correct in np.unique(df.wl_line.values):\n",
    "                    df.loc[df.query('wl_line == %4.2f' %wl_to_correct).index.values, '%s' %elem_to_merge] = df.query('wl_line == %4.2f' %wl_to_correct)['%s' %elem_to_merge].values + gflog_shift\n",
    "                    \n",
    "        df['loge%s' %elem_to_merge.capitalize()] = df['%s' %elem_to_merge].values + monh\n",
    "    \n",
    "        condition = '%s < 10 and e%s_sme < 0.5 and e%s_sme != 0.0 and n_iter_%s > 1' %(elem_to_merge, elem_to_merge, elem_to_merge, elem_to_merge)\n",
    "        df = df.query(condition)\n",
    "        print(df)\n",
    "\n",
    "        if df.spec_id.size > 1:\n",
    "            average = np.average(a = df['%s' %elem_to_merge].values, weights=1./df['e%s_sme' %elem_to_merge].values**2.)\n",
    "            rms = np.average((average - df['%s' %elem_to_merge].values)**2., weights=1./df['e%s_sme' %elem_to_merge].values**2.)**0.5\n",
    "            e_sme_mean = np.mean(df['e%s_sme' %elem_to_merge].values)\n",
    "            n_lines = df['e%s_sme' %elem_to_merge].size\n",
    "            min_n_iters, max_n_iters = np.min(df['n_iter_%s' %elem_to_merge].values), np.max(df['n_iter_%s' %elem_to_merge].values)\n",
    "        else:\n",
    "            average = df['%s' %elem_to_merge].values\n",
    "            rms = df['e%s_sme' %elem_to_merge].values\n",
    "            e_sme_mean = df['%s' %elem_to_merge].values\n",
    "            n_lines = 1\n",
    "            min_n_iters, max_n_iters = np.min(df['n_iter_%s' %elem_to_merge].values), np.max(df['n_iter_%s' %elem_to_merge].values)\n",
    "\n",
    "        print(average, rms, e_sme_mean, n_lines, min_n_iters, max_n_iters)\n",
    "        \n",
    "        return\n",
    "    \n",
    "    return"
   ]
  },
  {
   "cell_type": "code",
   "execution_count": 25,
   "id": "e97f17d2-5e8d-48d4-b84c-428f941b665f",
   "metadata": {},
   "outputs": [
    {
     "name": "stdout",
     "output_type": "stream",
     "text": [
      "                           spec_id species  wl_line   excit  gflog     mg  \\\n",
      "1  1166634514845213568_3572891_000    Mg 1  3838.29  2.7166 -1.527  7.758   \n",
      "2  1166634514845213568_3572891_000    Mg 1  3986.75  4.3458 -1.060  8.054   \n",
      "3  1166634514845213568_3572891_000    Mg 1  4057.51  4.3458 -0.900  8.138   \n",
      "4  1166634514845213568_3572891_000    Mg 1  5167.32  2.7091 -0.931  7.947   \n",
      "5  1166634514845213568_3572891_000    Mg 1  5172.68  2.7116 -0.450  7.888   \n",
      "6  1166634514845213568_3572891_000    Mg 1  5183.60  2.7166 -0.239  7.964   \n",
      "\n",
      "   emg_sme  emg_fit  n_iter_mg    logeMg  \n",
      "1    0.393    0.056         13  4.980851  \n",
      "2    0.456    0.096         18  5.276851  \n",
      "3    0.222    0.060         12  5.360851  \n",
      "4    0.415    0.051         13  5.169851  \n",
      "5    0.351    0.042         15  5.110851  \n",
      "6    0.218    0.031         12  5.186851  \n",
      "7.992765202618379 0.11768344303484597 0.3425 6 12 18\n"
     ]
    }
   ],
   "source": [
    "merge_abund_files('mg', uves.spec_id.values, uves.monh.values, ion_to_merge='Mg 1', wls_to_filter=mg_unique_lines[bad_line_mg], \n",
    "                  wls_to_correct = mg_unique_lines[~bad_line_mg], gflogs_shift = -delta_abund_mg[~bad_line_mg])"
   ]
  },
  {
   "cell_type": "code",
   "execution_count": 26,
   "id": "ede4c4ac-2838-4530-bda0-47278986847c",
   "metadata": {},
   "outputs": [
    {
     "name": "stdout",
     "output_type": "stream",
     "text": [
      "                            spec_id species  wl_line   excit  gflog     ca  \\\n",
      "0   1166634514845213568_3572891_000    Ca 1  4226.73  0.0000  0.244  6.706   \n",
      "1   1166634514845213568_3572891_000    Ca 1  4283.01  1.8858 -0.136  6.759   \n",
      "2   1166634514845213568_3572891_000    Ca 1  4298.99  1.8858 -0.359  6.738   \n",
      "4   1166634514845213568_3572891_000    Ca 1  4318.65  1.8989 -0.139  6.665   \n",
      "5   1166634514845213568_3572891_000    Ca 1  4425.44  1.8793 -0.358  6.752   \n",
      "6   1166634514845213568_3572891_000    Ca 1  4435.32  1.8858 -0.007  6.631   \n",
      "7   1166634514845213568_3572891_000    Ca 1  5265.56  2.5230 -0.113  6.697   \n",
      "8   1166634514845213568_3572891_000    Ca 1  5588.75  2.5257  0.358  6.647   \n",
      "9   1166634514845213568_3572891_000    Ca 1  5594.46  2.5230  0.097  6.647   \n",
      "10  1166634514845213568_3572891_000    Ca 1  5598.48  2.5213 -0.087  6.623   \n",
      "11  1166634514845213568_3572891_000    Ca 1  5857.45  2.9325  0.240  6.871   \n",
      "12  1166634514845213568_3572891_000    Ca 1  6102.72  1.8793 -0.793  6.773   \n",
      "13  1166634514845213568_3572891_000    Ca 1  6122.22  1.8858 -0.316  6.774   \n",
      "14  1166634514845213568_3572891_000    Ca 1  6162.17  1.8989 -0.090  6.801   \n",
      "15  1166634514845213568_3572891_000    Ca 1  6439.07  2.5257  0.390  6.759   \n",
      "16  1166634514845213568_3572891_000    Ca 1  6462.57  2.5230  0.262  6.876   \n",
      "17  1166634514845213568_3572891_000    Ca 1  6493.78  2.5213 -0.109  6.784   \n",
      "\n",
      "    eca_sme  eca_fit  n_iter_ca    logeCa  \n",
      "0     0.429    0.052         12  3.928851  \n",
      "1     0.221    0.072          7  3.981851  \n",
      "2     0.219    0.150         13  3.960851  \n",
      "4     0.118    0.059          9  3.887851  \n",
      "5     0.194    0.076         13  3.974851  \n",
      "6     0.259    0.048         13  3.853851  \n",
      "7     0.133    0.037          9  3.919851  \n",
      "8     0.194    0.031         11  3.869851  \n",
      "9     0.095    0.025          8  3.869851  \n",
      "10    0.156    0.030          8  3.845851  \n",
      "11    0.070    0.027          7  4.093851  \n",
      "12    0.120    0.026          9  3.995851  \n",
      "13    0.101    0.019         10  3.996851  \n",
      "14    0.132    0.034         10  4.023851  \n",
      "15    0.130    0.027          7  3.981851  \n",
      "16    0.118    0.027          8  4.098851  \n",
      "17    0.056    0.057         13  4.006851  \n",
      "6.76687742530927 0.07624525043703721 0.16147058823529412 17 7 13\n"
     ]
    }
   ],
   "source": [
    "merge_abund_files('ca', uves.spec_id.values, uves.monh.values, ion_to_merge='Ca 1', wls_to_filter=ca_unique_lines[bad_line_ca], \n",
    "                  wls_to_correct = ca_unique_lines[~bad_line_ca], gflogs_shift = -delta_abund_ca[~bad_line_ca])"
   ]
  },
  {
   "cell_type": "code",
   "execution_count": 31,
   "id": "0f9333b7-4e22-4367-b033-7282be40210e",
   "metadata": {},
   "outputs": [
    {
     "name": "stdout",
     "output_type": "stream",
     "text": [
      "Unique Mg lines: 7/14\n",
      "Unique Ca lines: 18/24\n"
     ]
    }
   ],
   "source": [
    "print('Unique Mg lines: %d/%d' %(mg_unique_lines[~bad_line_mg].size, bad_line_mg.size))\n",
    "print('Unique Ca lines: %d/%d' %(ca_unique_lines[~bad_line_ca].size, bad_line_ca.size))"
   ]
  },
  {
   "cell_type": "code",
   "execution_count": null,
   "id": "65f5688e-540d-44f3-ac79-18c71de18ba7",
   "metadata": {},
   "outputs": [],
   "source": [
    "delta_abund_ca.size\n",
    "\n"
   ]
  }
 ],
 "metadata": {
  "kernelspec": {
   "display_name": "Python 3 (ipykernel)",
   "language": "python",
   "name": "python3"
  },
  "language_info": {
   "codemirror_mode": {
    "name": "ipython",
    "version": 3
   },
   "file_extension": ".py",
   "mimetype": "text/x-python",
   "name": "python",
   "nbconvert_exporter": "python",
   "pygments_lexer": "ipython3",
   "version": "3.9.12"
  }
 },
 "nbformat": 4,
 "nbformat_minor": 5
}
