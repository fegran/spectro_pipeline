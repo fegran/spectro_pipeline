{
 "cells": [
  {
   "cell_type": "code",
   "execution_count": 1,
   "id": "d4428569-2cce-4fbc-8626-4865c17b5a56",
   "metadata": {},
   "outputs": [
    {
     "name": "stdout",
     "output_type": "stream",
     "text": [
      "CPU times: user 1.29 s, sys: 274 ms, total: 1.57 s\n",
      "Wall time: 2min 28s\n"
     ]
    }
   ],
   "source": [
    "%%time\n",
    "\n",
    "from pysme.synthesize import synthesize_spectrum\n",
    "from pysme.linelist.linelist import LineList\n",
    "from pysme.linelist.vald import ValdFile\n",
    "from pysme.sme import SME_Structure\n",
    "from pysme.util import vac2air\n",
    "from pysme.solve import solve\n",
    "from pysme.abund import Abund\n",
    "from pysme import util\n",
    "\n",
    "from scipy.interpolate import interp1d\n",
    "from joblib import Parallel, delayed\n",
    "from scipy.signal import find_peaks\n",
    "from astropy.constants import c\n",
    "import matplotlib.pyplot as plt\n",
    "from io import StringIO\n",
    "import pandas as pd\n",
    "import numpy as np\n",
    "import warnings\n",
    "import glob\n",
    "import sys\n",
    "import os\n",
    "import gc\n",
    "\n",
    "warnings.filterwarnings('ignore')"
   ]
  },
  {
   "cell_type": "code",
   "execution_count": 2,
   "id": "6e9211b5-e250-4148-9422-e8f02d6f3587",
   "metadata": {},
   "outputs": [],
   "source": [
    "os.chdir('/home/fgran/iSpec/')\n",
    "import ispec\n",
    "sys.path.append('/home/fgran/iSpec/')"
   ]
  },
  {
   "cell_type": "code",
   "execution_count": 3,
   "id": "3ae55734-ae79-478c-b6c0-6b80bfe91ca3",
   "metadata": {},
   "outputs": [],
   "source": [
    "def pix_to_wl(pix, wl0, dwl):\n",
    "    return wl0 + pix * dwl"
   ]
  },
  {
   "cell_type": "code",
   "execution_count": 4,
   "id": "aa9ce0f0-b5db-487f-a7b4-70f7f4d5b899",
   "metadata": {},
   "outputs": [],
   "source": [
    "os.environ['NUMEXPR_MAX_THREADS'] = '80' #change this number using the correct number of cores/threads in jupyter.slurm"
   ]
  },
  {
   "cell_type": "code",
   "execution_count": 5,
   "id": "ea3ab0fd-0231-4006-a4b2-57e19d5c794a",
   "metadata": {},
   "outputs": [],
   "source": [
    "#Load Cayrel-LP results"
   ]
  },
  {
   "cell_type": "code",
   "execution_count": 6,
   "id": "2fa0d3f2-4f0e-40d5-9aa3-07fecc8b2549",
   "metadata": {},
   "outputs": [],
   "source": [
    "os.chdir('/store/teams/cosmos/fgran/data/Pristine-UVES/')\n",
    "stars = sorted(glob.glob('/store/teams/cosmos/hill/hill_extern7bis/LP/LPgiants/*/'))[:-1]"
   ]
  },
  {
   "cell_type": "code",
   "execution_count": 7,
   "id": "9f743649-1e73-4e1c-89f8-b1e3ea65fe23",
   "metadata": {},
   "outputs": [],
   "source": [
    "cayrel = pd.read_csv('tmp_merged/cayrel_atm_fe_cn_corr_alpha_elements.csv')"
   ]
  },
  {
   "cell_type": "code",
   "execution_count": 8,
   "id": "361ab48e-20f9-49b4-86fc-73d5d5456080",
   "metadata": {},
   "outputs": [
    {
     "data": {
      "text/html": [
       "<div>\n",
       "<style scoped>\n",
       "    .dataframe tbody tr th:only-of-type {\n",
       "        vertical-align: middle;\n",
       "    }\n",
       "\n",
       "    .dataframe tbody tr th {\n",
       "        vertical-align: top;\n",
       "    }\n",
       "\n",
       "    .dataframe thead th {\n",
       "        text-align: right;\n",
       "    }\n",
       "</style>\n",
       "<table border=\"1\" class=\"dataframe\">\n",
       "  <thead>\n",
       "    <tr style=\"text-align: right;\">\n",
       "      <th></th>\n",
       "      <th>spec_id</th>\n",
       "      <th>teff</th>\n",
       "      <th>eteff_sme</th>\n",
       "      <th>eteff_fit</th>\n",
       "      <th>logg</th>\n",
       "      <th>elogg_sme</th>\n",
       "      <th>elogg_fit</th>\n",
       "      <th>monh</th>\n",
       "      <th>emonh_sme</th>\n",
       "      <th>emonh_fit</th>\n",
       "      <th>...</th>\n",
       "      <th>eti1fe_c04</th>\n",
       "      <th>nlines_ti1_c04</th>\n",
       "      <th>species_ti2_c04</th>\n",
       "      <th>logeTi2_c04</th>\n",
       "      <th>is_limit_ti2_c04</th>\n",
       "      <th>ti2h_c04</th>\n",
       "      <th>is_limit_ti2fe_c04</th>\n",
       "      <th>ti2fe_c04</th>\n",
       "      <th>eti2fe_c04</th>\n",
       "      <th>nlines_ti2_c04</th>\n",
       "    </tr>\n",
       "  </thead>\n",
       "  <tbody>\n",
       "    <tr>\n",
       "      <th>0</th>\n",
       "      <td>01_HD2796</td>\n",
       "      <td>4939.899305</td>\n",
       "      <td>204.934803</td>\n",
       "      <td>11.533078</td>\n",
       "      <td>1.851909</td>\n",
       "      <td>0.047986</td>\n",
       "      <td>0.047986</td>\n",
       "      <td>-2.349789</td>\n",
       "      <td>0.215940</td>\n",
       "      <td>0.013301</td>\n",
       "      <td>...</td>\n",
       "      <td>0.06</td>\n",
       "      <td>12.0</td>\n",
       "      <td>TiII</td>\n",
       "      <td>2.79</td>\n",
       "      <td>False</td>\n",
       "      <td>-2.23</td>\n",
       "      <td>False</td>\n",
       "      <td>0.24</td>\n",
       "      <td>0.09</td>\n",
       "      <td>28.0</td>\n",
       "    </tr>\n",
       "    <tr>\n",
       "      <th>1</th>\n",
       "      <td>02_HD122563</td>\n",
       "      <td>4581.238720</td>\n",
       "      <td>163.183116</td>\n",
       "      <td>8.732404</td>\n",
       "      <td>1.328129</td>\n",
       "      <td>0.060962</td>\n",
       "      <td>0.060962</td>\n",
       "      <td>-2.679967</td>\n",
       "      <td>0.186471</td>\n",
       "      <td>0.010661</td>\n",
       "      <td>...</td>\n",
       "      <td>0.10</td>\n",
       "      <td>14.0</td>\n",
       "      <td>TiII</td>\n",
       "      <td>2.38</td>\n",
       "      <td>False</td>\n",
       "      <td>-2.64</td>\n",
       "      <td>False</td>\n",
       "      <td>0.18</td>\n",
       "      <td>0.10</td>\n",
       "      <td>28.0</td>\n",
       "    </tr>\n",
       "  </tbody>\n",
       "</table>\n",
       "<p>2 rows × 138 columns</p>\n",
       "</div>"
      ],
      "text/plain": [
       "       spec_id         teff   eteff_sme  eteff_fit      logg  elogg_sme  \\\n",
       "0    01_HD2796  4939.899305  204.934803  11.533078  1.851909   0.047986   \n",
       "1  02_HD122563  4581.238720  163.183116   8.732404  1.328129   0.060962   \n",
       "\n",
       "   elogg_fit      monh  emonh_sme  emonh_fit  ...  eti1fe_c04  nlines_ti1_c04  \\\n",
       "0   0.047986 -2.349789   0.215940   0.013301  ...        0.06            12.0   \n",
       "1   0.060962 -2.679967   0.186471   0.010661  ...        0.10            14.0   \n",
       "\n",
       "   species_ti2_c04  logeTi2_c04  is_limit_ti2_c04  ti2h_c04  \\\n",
       "0             TiII         2.79             False     -2.23   \n",
       "1             TiII         2.38             False     -2.64   \n",
       "\n",
       "   is_limit_ti2fe_c04  ti2fe_c04  eti2fe_c04  nlines_ti2_c04  \n",
       "0               False       0.24        0.09            28.0  \n",
       "1               False       0.18        0.10            28.0  \n",
       "\n",
       "[2 rows x 138 columns]"
      ]
     },
     "execution_count": 8,
     "metadata": {},
     "output_type": "execute_result"
    }
   ],
   "source": [
    "cayrel.head(2)"
   ]
  },
  {
   "cell_type": "code",
   "execution_count": null,
   "id": "e66a3cb6-730f-47af-8d1d-0e3eec67ce16",
   "metadata": {},
   "outputs": [],
   "source": []
  },
  {
   "cell_type": "code",
   "execution_count": 9,
   "id": "80b767cb-663d-4a55-91ad-be897d9205da",
   "metadata": {
    "scrolled": true
   },
   "outputs": [
    {
     "name": "stderr",
     "output_type": "stream",
     "text": [
      "[2025-04-04 10:37:01,125] [INFO] [vald:loads:174]: Loading VALD file linelist/3800-6800_long.lin\n"
     ]
    },
    {
     "name": "stdout",
     "output_type": "stream",
     "text": [
      "\u001b[32mINFO - Loading VALD file linelist/3800-6800_long.lin\u001b[0m\n"
     ]
    }
   ],
   "source": [
    "linelist = ValdFile('linelist/3800-6800_long.lin')\n",
    "\n",
    "wmin_blue = 3800 #3800\n",
    "wmax_blue = 4975\n",
    "wmax_blue = 5800\n",
    "\n",
    "linelist = linelist[(linelist.wlcent > wmin_blue) & (linelist.wlcent < wmax_blue)]\n",
    "\n",
    "#Delta lines definitions\n",
    "delta_line = 1. #AA\n",
    "delta_cont = 1.5 #AA\n",
    "\n",
    "wl_G_band = 4300. #AA\n",
    "delta_G_band = 40. #AA\n",
    "wl_CaHK_band = 3950. #AA\n",
    "delta_CaHK_band = 50. #AA\n",
    "delta_H_line_wing = 5.0 #AA\n",
    "delta_H_line_core = 0.75 #AA"
   ]
  },
  {
   "cell_type": "code",
   "execution_count": null,
   "id": "83f9d718-0dfe-4a35-b986-9c3d06a2e06c",
   "metadata": {},
   "outputs": [],
   "source": []
  },
  {
   "cell_type": "code",
   "execution_count": 10,
   "id": "8fcefbbe-c174-4188-b211-aa41d342059b",
   "metadata": {},
   "outputs": [],
   "source": [
    "#Create solar scaled atmosphere with [alpha/Fe] = +0.4\n",
    "solar = SME_Structure()\n",
    "solar.abund = Abund(0.0, 'asplund2009')\n",
    "\n",
    "abund = solar.abund.pattern\n",
    "abund['O']  = abund['O']  + 0.4\n",
    "abund['Ne'] = abund['Ne'] + 0.4\n",
    "abund['Mg'] = abund['Mg'] + 0.4\n",
    "abund['Si'] = abund['Si'] + 0.4\n",
    "abund['S']  = abund['S']  + 0.4\n",
    "abund['Ar'] = abund['Ar'] + 0.4\n",
    "abund['Ca'] = abund['Ca'] + 0.4\n",
    "abund['Ti'] = abund['Ti'] + 0.4"
   ]
  },
  {
   "cell_type": "code",
   "execution_count": 12,
   "id": "4582ac6b-d10a-4050-8355-e2b0e1aaa43c",
   "metadata": {},
   "outputs": [],
   "source": [
    "#Uncs. scaling parameters\n",
    "percentile, percentile_sig_down, percentile_sig_up = 85, 0.25, 0.75"
   ]
  },
  {
   "cell_type": "code",
   "execution_count": 13,
   "id": "86febc1d-895e-48c6-a61f-42ae8829d246",
   "metadata": {
    "jupyter": {
     "source_hidden": true
    }
   },
   "outputs": [],
   "source": [
    "# def estimate_uncertainties_nice(resid, deriv, percentile, percentile_sig_down, percentile_sig_up):\n",
    "#         \"\"\"\n",
    "#         Estimate the uncertainties by fitting the cumulative distribution of\n",
    "#         derivative / uncertainties vs. residual / derivative\n",
    "#         with the generalized normal distribution and use the 68% percentile\n",
    "#         as the 1 sigma approximation for a normally distributed variable\n",
    "\n",
    "#         Parameters\n",
    "#         ----------\n",
    "#         unc : array of shape (n,)\n",
    "#             uncertainties\n",
    "#         resid : array of shape (n,)\n",
    "#             residuals of the least squares fit\n",
    "#         deriv : array of shape (n, p)\n",
    "#             derivatives (jacobian) of the least squares fit for each parameter\n",
    "\n",
    "#         Returns\n",
    "#         -------\n",
    "#         freep_unc : array of shape (p,)\n",
    "#             uncertainties for each free paramater, in the same order as self.parameter_names\n",
    "#         \"\"\"\n",
    "\n",
    "#         nparameters = deriv.shape[1]\n",
    "#         freep_unc = np.zeros(nparameters)\n",
    "\n",
    "#         for i in range(nparameters):\n",
    "#             pder = deriv[:, i]\n",
    "#             #Change #1\n",
    "#             # idx = pder != 0\n",
    "#             idx = np.abs(pder) > np.percentile(np.abs(pder), percentile)\n",
    "#             idx &= np.isfinite(pder)\n",
    "\n",
    "#             if np.count_nonzero(idx) <= 5:\n",
    "#                 logger.warning(\n",
    "#                     \"Not enough data points with a suitable derivative \"\n",
    "#                     \"to determine the uncertainties\"\n",
    "#                 )\n",
    "#                 continue\n",
    "#             # Sort pixels according to the change of the i\n",
    "#             # parameter needed to match the observations\n",
    "#             idx_sort = np.argsort(resid[idx] / pder[idx])\n",
    "#             ch_x = resid[idx][idx_sort] / pder[idx][idx_sort]\n",
    "#             # Weights of the individual pixels also sorted\n",
    "#             # uncertainties are already included in pder / unc[idx][idx_sort]\n",
    "#             ch_y = np.abs(pder[idx][idx_sort])\n",
    "#             # ch_y = np.abs(pder / unc[idx][idx_sort])\n",
    "#             # Cumulative weights\n",
    "#             ch_y = np.cumsum(ch_y)\n",
    "#             # Normalized cumulative weights\n",
    "#             ch_y /= ch_y[-1]\n",
    "\n",
    "#             # hmed = np.interp(0.5, ch_y, ch_x)\n",
    "#             interval = np.interp([percentile_sig_down, percentile_sig_up], ch_y, ch_x)\n",
    "#             sigma_estimate = (interval[1] - interval[0]) / 2.\n",
    "#             freep_unc[i] = sigma_estimate\n",
    "\n",
    "#         return freep_unc"
   ]
  },
  {
   "cell_type": "code",
   "execution_count": 14,
   "id": "8aa7a557-71d8-4073-9938-281ac74ecfe2",
   "metadata": {
    "jupyter": {
     "source_hidden": true
    }
   },
   "outputs": [],
   "source": [
    "def sme_init(wave, spec, uncs, teff, logg, monh, vmic, vmac, abund, vrad_flag, linelist, ipress, vrad_bounds, elems_to_include):\n",
    "\n",
    "    #SME definitions\n",
    "    sme = SME_Structure()\n",
    "\n",
    "    sme.ipres, sme.iptype, sme.gam6, sme.h2broad = ipress, 'gauss', True, True\n",
    "    sme.atmo.source, sme.atmo.method, sme.atmo.geom = 'marcs2012s_t2.0.sav', 'grid', 'SPH'\n",
    "\n",
    "    sme.accxt, sme.accgt, sme.accft = tol, tol, tol\n",
    "    sme.leastsquare3_ftol, sme.leastsquares_gtol, sme.leastsquares_xtol = tol, tol, tol\n",
    "    sme.accwi, sme.accrt, sme.clim, sme.chirat = tol, tol, tol, tol\n",
    "    sme.vrad_bounds = vrad_bounds\n",
    "    # sme.cscale_bounds = (0.99, 1.01)\n",
    "\n",
    "    # Redirect output to logs/RUN*/*.txt\n",
    "    util.start_logging(log_file='logs/Cayrel.txt', level='ERROR')\n",
    "\n",
    "    sme.cscale_flag = 'constant'\n",
    "    # sme.cscale_type = 'mcmc'\n",
    "    sme.fitresults.maxiter = 100\n",
    "    # sme.cscale = np.percentile(sme.spec.data, 95)\n",
    "\n",
    "    sme.wave = wave\n",
    "    sme.spec = spec\n",
    "    sme.uncs = uncs\n",
    "\n",
    "    #Masking process to derive Teff, logg, monh and vmic (vmac if needed)\n",
    "    # The mask values are: 0: bad pixel, 1: line pixel, 2: continuum pixel\n",
    "    line_regions = np.zeros_like(sme.wave.data).astype(int)\n",
    "    # line_regions[(sme.spec.data > np.percentile(sme.spec.data, 90)) & (sme.spec.data < np.percentile(sme.spec.data, 95))] = 2\n",
    "    ll_mask = np.zeros(linelist.species.size).astype(bool)\n",
    "    \n",
    "    for wline, mask_species in linelist[['wlcent', 'species']]:\n",
    "        if mask_species in elems_to_include:\n",
    "            idx_ = (sme.wave.data > wline-delta_line) & (sme.wave.data < wline+delta_line)\n",
    "            line_regions[idx_] = 1\n",
    "            \n",
    "            ll_mask[(linelist.wlcent > wline-delta_line) & (linelist.wlcent < wline+delta_line)] = True\n",
    "            continue\n",
    "        \n",
    "    # for wline, mask_species in linelist[['wlcent', 'species']]:\n",
    "    #     #Hydrogen lines\n",
    "    #     if 'H 1' == mask_species:\n",
    "    #         idx_ = (sme.wave.data > wline-delta_H_line_core) & (sme.wave.data < wline+delta_H_line_core)\n",
    "    #         line_regions[idx_] = 0\n",
    "    del idx_\n",
    "    \n",
    "    #G-band and CaHK regions\n",
    "    # line_regions[(sme.wave.data > wl_G_band-delta_G_band) & (sme.wave.data < wl_G_band+delta_G_band)] = 0\n",
    "    # line_regions[(sme.wave.data > wl_CaHK_band-delta_CaHK_band) & (sme.wave.data < wl_CaHK_band+delta_CaHK_band)] = 0\n",
    "    # line_regions[sme.wave.data < 4000] = 0\n",
    "    #Merge all the line_regions as int\n",
    "    line_regions = line_regions.astype(int)\n",
    "    line_regions[sme.spec.data == 0.0] = 0\n",
    "    sme.mask = line_regions\n",
    "    del line_regions\n",
    "\n",
    "    sme.linelist = linelist\n",
    "    del ll_mask\n",
    "\n",
    "    #Abundance scaling to create realistic synthetics\n",
    "    sme.abund = abund\n",
    "    #RV determination for each chip\n",
    "    sme.vrad_flag = vrad_flag\n",
    "\n",
    "    #input guesses from xgboost\n",
    "    sme.teff = teff\n",
    "    sme.logg = logg\n",
    "    sme.monh = monh\n",
    "    sme.vmic = vmic\n",
    "    sme.vmac = vmac\n",
    "    \n",
    "    return sme"
   ]
  },
  {
   "cell_type": "code",
   "execution_count": 15,
   "id": "d4e138e3-d630-4b24-baae-e558f28125a1",
   "metadata": {},
   "outputs": [],
   "source": [
    "def Cayrel_LP_nlte(i, star, elems_to_include, elem_string, vrad_flag, tol):\n",
    "\n",
    "    spec_id = star.split('/')[-2].replace('-','_')\n",
    "\n",
    "    #remove elem file\n",
    "    prev_run_exist = os.path.exists('tmp_cayrel/cayrel_elem_nlte_lines_%s_%s.csv' %(elem_string.lower(), spec_id))\n",
    "    if prev_run_exist:\n",
    "        # os.system('rm tmp_elems/uves_elem_lines_%s_%s.csv' %(elem_string.lower(), star.spec_id))\n",
    "        prev_run = pd.read_csv('tmp_cayrel/cayrel_elem_nlte_lines_%s_%s.csv' %(elem_string.lower(), spec_id))\n",
    "\n",
    "    # Overwrite files if the next lines are not commented\n",
    "    # if os.path.exists('tmp_cayrel/cayrel_elem_nlte_lines_%s_%s.csv' %(elem_string.lower(), spec_id)):\n",
    "    #     if pd.read_csv('tmp_cayrel/cayrel_elem_nlte_lines_%s_%s.csv' %(elem_string.lower(), spec_id)).species.values[0] in elems_to_include:\n",
    "    #         os.system('rm tmp_cayrel/cayrel_elem_nlte_lines_%s_%s.csv' %(elem_string.lower(), spec_id))\n",
    "    \n",
    "    header_spb = pd.read_csv('%s/spb' %star, nrows=1, skiprows=1, names=['npix', 'dpix', 'wl0', 'dwl', 'rv'], delim_whitespace=True)    \n",
    "    data_spb = pd.read_csv('%s/spb' %star, nrows=header_spb.npix.values[0], skiprows=3, names=['pix', 'flux'], delim_whitespace=True, comment='-')\n",
    "    data_spb.dropna(axis=0, inplace=True)\n",
    "    \n",
    "    wave_spb = pix_to_wl(data_spb.pix.values, header_spb.wl0.values[0], header_spb.dwl.values[0]) * np.sqrt((1.-(header_spb.rv[0]*1000.)/c.value)/(1.+(header_spb.rv[0]*1000.)/c.value))\n",
    "    spec_spb = data_spb.flux.values/10000.\n",
    "    uncs_spb = 0.001*np.ones_like(data_spb.flux.values)\n",
    "\n",
    "    #Normalisation\n",
    "    peaks, _ = find_peaks(spec_spb, rel_height=0.6)\n",
    "    delta = (1. - np.nanmedian(spec_spb[peaks]))\n",
    "    spec_spb = spec_spb + delta\n",
    "\n",
    "    try:\n",
    "        header_spvl = pd.read_csv('%s/spvl' %star, nrows=1, skiprows=1, names=['npix', 'dpix', 'wl0', 'dwl', 'rv'], delim_whitespace=True)    \n",
    "        data_spvl = pd.read_csv('%s/spvl' %star, nrows=header_spb.npix.values[0], skiprows=3, names=['pix', 'flux'], delim_whitespace=True, comment='-')\n",
    "        data_spvl.dropna(axis=0, inplace=True)\n",
    "    \n",
    "        wave_spvl = pix_to_wl(data_spvl.pix.values, header_spvl.wl0.values[0], header_spvl.dwl.values[0]) * np.sqrt((1.-(header_spvl.rv[0]*1000.)/c.value)/(1.+(header_spvl.rv[0]*1000.)/c.value))\n",
    "        spec_spvl = data_spvl.flux.values/10000.\n",
    "        uncs_spvl = 0.001*np.ones_like(data_spvl.flux.values)\n",
    "\n",
    "        #Normalisation\n",
    "        peaks, _ = find_peaks(spec_spvl, rel_height=0.6)\n",
    "        delta = (1. - np.nanmedian(spec_spvl[peaks]))\n",
    "        spec_spvl = spec_spvl + delta\n",
    "\n",
    "        wave = np.concatenate(([wave_spb, wave_spvl]))\n",
    "        spec = np.concatenate(([spec_spb, spec_spvl]))\n",
    "        uncs = np.concatenate(([uncs_spb, uncs_spvl]))\n",
    "\n",
    "        del header_spb, data_spb, header_spvl, data_spvl, wave_spb, wave_spvl, spec_spb, spec_spvl, uncs_spb, uncs_spvl\n",
    "    except: \n",
    "        wave = wave_spb\n",
    "        spec = spec_spb\n",
    "        uncs = uncs_spb\n",
    "    \n",
    "        del header_spb, data_spb, wave_spb, spec_spb, uncs_spb\n",
    "\n",
    "    #Elemental abundances line by line\n",
    "    if len(elems_to_include) == 1:\n",
    "        linelist_per_elem = linelist[(linelist.species == elems_to_include[0]) & (linelist.wlcent > np.min(wave)) & (linelist.wlcent < np.max(wave))]\n",
    "    else: #Only two elements per time :>\n",
    "        linelist_per_elem = linelist[((linelist.species == elems_to_include[0]) | (linelist.species == elems_to_include[1])) & (linelist.wlcent > np.min(wave)) & (linelist.wlcent < np.max(wave))]\n",
    "    \n",
    "    used_line = np.zeros_like(linelist_per_elem.wlcent, dtype=bool)\n",
    "\n",
    "    for idx_elem, (specie, wline, excit, gflog) in enumerate(linelist_per_elem[['species', 'wlcent', 'excit', 'gflog']]):\n",
    "        # Multiple lines\n",
    "        if used_line[idx_elem]:\n",
    "            continue\n",
    "        if prev_run_exist and (prev_run.query('species == \"%s\"' %elems_to_include[0]).wl_line.size > 0):\n",
    "            if np.round(wline, 2) <= 1.5+prev_run.query('species == \"%s\"' %elems_to_include[0]).wl_line.max():\n",
    "                continue\n",
    "\n",
    "        ll_line = pd.DataFrame(linelist_per_elem).query('wlcent > %f and wlcent < %f' %(wline-delta_cont, wline+delta_cont))\n",
    "        used_line[ll_line.species.str.contains(elem_string).index] = True\n",
    "\n",
    "        wl_line_center = np.mean(ll_line.wlcent.values[ll_line.species.str.contains(elem_string).values])\n",
    "\n",
    "        wl_f_min = wl_line_center - delta_cont\n",
    "        wl_f_max = wl_line_center + delta_cont\n",
    "        \n",
    "        is_ll_ready = False\n",
    "        # if np.any(np.abs(wl_line_center - pd.DataFrame(linelist).query('species == \"Ca 2\" and wlcent < 4000 and excit == 0.0').wlcent) < 10.):\n",
    "        #     # ll_line = pd.concat([pd.DataFrame(linelist).query('wlcent > %f and wlcent < %f' %(wl_f_min, wl_f_max)), \n",
    "        #     #                      pd.DataFrame(linelist).query('species == \"Ca 2\" and wlcent < 4000 and excit == 0.0')], ignore_index=True)\n",
    "        #     continue\n",
    "\n",
    "        if np.any(np.abs(wl_line_center - pd.DataFrame(linelist).query('species == \"H 1\"').wlcent) < 10.):\n",
    "             ll_line = pd.concat([ll_line, pd.DataFrame(linelist).query('species == \"H 1\" and abs(wlcent - %f) < 10.' %wl_line_center)], ignore_index=True)\n",
    "            # ll_line = pd.concat([pd.DataFrame(linelist).query('wlcent > %f and wlcent < %f' %(wl_f_min, wl_f_max)), \n",
    "            #                      pd.DataFrame(linelist).query('species == \"H 1\" and abs(wlcent - %f) < 50.' %wl_line_center)], ignore_index=True)\n",
    "            # continue\n",
    "            \n",
    "        if not is_ll_ready:\n",
    "            ll_line = pd.DataFrame(linelist).query('wlcent > %f and wlcent < %f' %(wl_f_min, wl_f_max))\n",
    "        ll_line = LineList(linedata=ll_line, lineformat='long')\n",
    "        ll_line = ll_line.sort()\n",
    "\n",
    "        y =  spec[(wave > wl_f_min) & (wave < wl_f_max)]\n",
    "        ey = uncs[(wave > wl_f_min) & (wave < wl_f_max)]\n",
    "        x =  wave[(wave > wl_f_min) & (wave < wl_f_max)]\n",
    "\n",
    "\n",
    "        sme = sme_init(x, y, ey, \n",
    "                       cayrel.teff.values[i], cayrel.logg.values[i], cayrel.monh.values[i], cayrel.vmic.values[i], cayrel.vmac.values[i], \n",
    "                       abund, vrad_flag, ll_line, ipress = 47000, vrad_bounds=(-10, 10), elems_to_include = elems_to_include)\n",
    "    \n",
    "        if elem_string != 'Fe':\n",
    "            sme.abund.update_pattern({'Fe':cayrel.fe.values[i]})\n",
    "        if elem_string == 'Mg':\n",
    "            sme.abund.update_pattern({'Mg':cayrel.mg.values[i]})\n",
    "        if elem_string == 'Ca':\n",
    "            sme.abund.update_pattern({'Ca':cayrel.ca.values[i]})\n",
    "        if elem_string == 'Si':\n",
    "            sme.abund.update_pattern({'Si':cayrel.si.values[i]})\n",
    "        if elem_string == 'Ti':\n",
    "            sme.abund.update_pattern({'Ti':cayrel['%s' %elems_to_include[0].replace(' ', '').lower()].values[i]})\n",
    "        \n",
    "        # NLTE\n",
    "        sme.nlte.set_nlte('H', grid=os.path.abspath('/store/teams/cosmos/fgran/data/Pristine-UVES/nlte/nlte_H_scatt_pysme.grd'))\n",
    "        sme.nlte.set_nlte('Fe', grid=os.path.abspath('/store/teams/cosmos/fgran/data/Pristine-UVES/nlte/nlte_marcs2014_Fe_ama51_Feb2022_pysme.grd'))\n",
    "        if elem_string == 'Mg':\n",
    "            sme.nlte.set_nlte('Mg', grid=os.path.abspath('/store/teams/cosmos/fgran/data/Pristine-UVES/nlte/nlte_Mg_scatt_pysme.grd'))\n",
    "        if elem_string == 'Ti':\n",
    "            sme.nlte.set_nlte('Ti', grid=os.path.abspath('/store/teams/cosmos/fgran/data/Pristine-UVES/nlte/nlte_Ti_ama51_Aug2024_pysme.grd'))\n",
    "        if elem_string == 'Si':\n",
    "            sme.nlte.set_nlte('Si', grid=os.path.abspath('/store/teams/cosmos/fgran/data/Pristine-UVES/nlte/nlte_Si_scatt_pysme.grd'))\n",
    "        if elem_string == 'Ca':\n",
    "            sme.nlte.set_nlte('Ca', grid=os.path.abspath('/store/teams/cosmos/fgran/data/Pristine-UVES/nlte/nlte_Ca_scatt_pysme.grd'))\n",
    "        if elem_string == 'Mn':\n",
    "            sme.nlte.set_nlte('Mn', grid=os.path.abspath('/store/teams/cosmos/fgran/data/Pristine-UVES/nlte/nlte_Mn_ama51_pysme.grd'))\n",
    "        if elem_string == 'Cu':\n",
    "            sme.nlte.set_nlte('Cu', grid=os.path.abspath('/store/teams/cosmos/fgran/data/Pristine-UVES/nlte/ nlte_Cu_ioncov_kaulakys_Oct2024_pysme.grd'))\n",
    "            \n",
    "           \n",
    "        try:\n",
    "            fitparameters = ['abund %s' %elem_string]\n",
    "            sme = solve(sme, fitparameters)\n",
    "    \n",
    "            if elem_to_include not in sme.linelist.species[sme.nlte.flags]:\n",
    "                continue\n",
    "    \n",
    "            tol = 1e-8\n",
    "            sme.accxt, sme.accgt, sme.accft = tol, tol, tol\n",
    "            sme.leastsquare3_ftol, sme.leastsquares_gtol, sme.leastsquares_xtol = tol, tol, tol\n",
    "            sme.accwi, sme.accrt, sme.clim, sme.chirat = tol, tol, tol, tol\n",
    "    \n",
    "            sme = solve(sme, fitparameters)\n",
    "    \n",
    "            elem, eelem_sme, eelem_fit = sme.fitresults.values[0], sme.fitresults.uncertainties[0], sme.fitresults.fit_uncertainties[0]\n",
    "            data_to_write = np.vstack((spec_id, specie, '%4.2f' %wl_line_center, excit, gflog, '%4.3f' %elem, '%4.3f' %eelem_sme, '%4.3f' %eelem_fit, sme.fitresults.iterations)).T\n",
    "            columns_elems = ['spec_id', 'species', 'wl_line', 'excit', 'gflog', '%s_nlte' %elem_string.lower(), 'e%s_nlte_sme' %elem_string.lower(), 'e%s_nlte_fit' %elem_string.lower(), 'n_iter_%s_nlte' %elem_string.lower()]\n",
    "    \n",
    "            if (not os.path.exists('tmp_cayrel/cayrel_elem_nlte_lines_%s_%s.csv' %(elem_string.lower(), spec_id))):\n",
    "                pd.DataFrame(data=data_to_write, columns=columns_elems).to_csv('tmp_cayrel/cayrel_elem_nlte_lines_%s_%s.csv' %(elem_string.lower(), spec_id), index=False, header=True)\n",
    "            else:\n",
    "                pd.DataFrame(data=data_to_write, columns=columns_elems).to_csv('tmp_cayrel/cayrel_elem_nlte_lines_%s_%s.csv' %(elem_string.lower(), spec_id), index=False, header=False, mode='a')\n",
    "            \n",
    "            del elem, eelem_sme, eelem_fit, data_to_write, columns_elems\n",
    "        \n",
    "            sme.save('sme_save/cayrel_elem_nlte_%s_lines_%s_%4.2f' %(elem_string.lower(), spec_id, wl_line_center))\n",
    "            del sme\n",
    "            gc.collect()\n",
    "        except:\n",
    "            gc.collect()\n",
    "    \n",
    "    return"
   ]
  },
  {
   "cell_type": "code",
   "execution_count": 37,
   "id": "06dd5d19-efe7-490c-ac39-c84e6fc19308",
   "metadata": {
    "scrolled": true
   },
   "outputs": [
    {
     "name": "stdout",
     "output_type": "stream",
     "text": [
      "Mn 1\n"
     ]
    },
    {
     "name": "stderr",
     "output_type": "stream",
     "text": [
      "[Parallel(n_jobs=35)]: Using backend LokyBackend with 35 concurrent workers.\n",
      "[Parallel(n_jobs=35)]: Done   2 out of  35 | elapsed: 12.2min remaining: 201.8min\n"
     ]
    },
    {
     "name": "stdout",
     "output_type": "stream",
     "text": [
      "Mn 2\n"
     ]
    },
    {
     "name": "stderr",
     "output_type": "stream",
     "text": [
      "[Parallel(n_jobs=35)]: Done  35 out of  35 | elapsed: 19.0min finished\n",
      "[Parallel(n_jobs=35)]: Using backend LokyBackend with 35 concurrent workers.\n",
      "[Parallel(n_jobs=35)]: Done   2 out of  35 | elapsed:   14.4s remaining:  4.0min\n",
      "[Parallel(n_jobs=35)]: Done  35 out of  35 | elapsed:  1.3min finished\n"
     ]
    }
   ],
   "source": [
    "# %%time\n",
    "#Iteration of elements for line-by-line analysis\n",
    "\n",
    "# os.system('rm -r ~/.sme/cache/download/')\n",
    "cayrel = pd.read_csv('tmp_merged/cayrel_atm_fe_cn_corr_alpha_elements.csv')\n",
    "vrad_flag = 'whole' # 'each' # 'whole' # 'each'\n",
    "# elems_to_include = ['Al 1', 'Ba 2', 'Ca 1', 'Ca 2', 'Co 1', 'Cr 1', 'Cr 2', 'Dy 2', 'Er 2', 'Eu 2', 'La 2', 'Mg 1', 'Mn 1', \n",
    "#                     'Mn 2', 'Nd 2', 'Ni 1', 'Sc 2', 'Si 1', 'Si 2', 'Sr 2', 'Ti 1', 'Ti 2', 'V 1', 'V 2', 'Y 2', 'Zn 1', 'Zr 2']\n",
    "# elems_string = ['Al', 'Ba', 'Ca', 'Ca', 'Co', 'Cr', 'Cr', 'Dy', 'Er', 'Eu', 'La', 'Mg', 'Mn', 'Mn', 'Nd', 'Ni', 'Sc', 'Si', 'Si', 'Sr', 'Ti', 'Ti', 'V', 'V', 'Y', 'Zn', 'Zr']\n",
    "\n",
    "# elems_to_include = ['Al 1', 'Ca 1', 'Ca 2', 'Co 1', 'Mg 1', 'Mn 1', 'Mn 2', 'Ni 1', 'Sc 2', 'Si 1', 'Si 2', 'Ti 1', 'Ti 2', 'Zn 1']\n",
    "# elems_string = ['Al', 'Ca', 'Ca', 'Co', 'Mg', 'Mn', 'Mn', 'Ni', 'Sc', 'Si', 'Si', 'Ti', 'Ti', 'Zn']\n",
    "\n",
    "elems_to_include = ['Mn 1', 'Mn 2']\n",
    "elems_string = ['Mn', 'Mn']\n",
    "\n",
    "# elems_to_include = ['Ca 1']\n",
    "# elems_string = ['Ca']\n",
    "\n",
    "for elem_to_include, elem_string in zip(elems_to_include, elems_string):\n",
    "    print(elem_to_include)\n",
    "    tol = 1e-3\n",
    "    Parallel(n_jobs=cayrel.teff.size, verbose=1)(delayed(Cayrel_LP_nlte)(i, star, elems_to_include=[elem_to_include], elem_string=elem_string,\n",
    "                                                                    vrad_flag=vrad_flag, tol=tol) for i, star in enumerate(stars));"
   ]
  },
  {
   "cell_type": "code",
   "execution_count": null,
   "id": "88fe9b1d-d6f1-4701-bf49-2a4ac3cf1773",
   "metadata": {},
   "outputs": [],
   "source": [
    "Cay"
   ]
  },
  {
   "cell_type": "code",
   "execution_count": 33,
   "id": "ba980e45-8f4b-40cc-8a1b-fba3b78a155c",
   "metadata": {},
   "outputs": [],
   "source": [
    "#Read and compare and save elems merged file"
   ]
  },
  {
   "cell_type": "code",
   "execution_count": 38,
   "id": "723d1401-c29f-40ad-b927-d0e8aeeffcd8",
   "metadata": {},
   "outputs": [],
   "source": [
    "cayrel = pd.read_csv('tmp_merged/cayrel_atm_fe_cn_corr.csv')"
   ]
  },
  {
   "cell_type": "code",
   "execution_count": 76,
   "id": "12872fd5-2829-4c10-95ed-b1adba78ef45",
   "metadata": {},
   "outputs": [],
   "source": [
    "def merge_abund_files(elem_to_merge, spec_ids, monhs, ion_to_merge = None, wls_to_filter = None, wls_to_correct = None, gflogs_shift = None):\n",
    "\n",
    "    if ion_to_merge is not None: species_string = ion_to_merge.lower().replace(' ', '')\n",
    "    else: species_string = elem_to_merge\n",
    "        \n",
    "    df_to_export = pd.DataFrame(columns=['spec_id', 'species_%s' %species_string, 'loge%s' %species_string.capitalize(), '%s' %species_string,\n",
    "                                         'e%s_rms' %species_string, 'e%s_sme' %species_string, 'n_lines_%s' %species_string, 'min_n_iter_%s' %species_string, 'max_n_iter_%s' %species_string])\n",
    "    \n",
    "    for i, (spec_id, monh) in enumerate(zip(spec_ids, monhs)):\n",
    "        df = pd.read_csv('tmp_cayrel/cayrel_elem_lines_%s_%s.csv' %(elem_to_merge, spec_id))\n",
    "        \n",
    "        if ion_to_merge != None: df = df.query('species == \"%s\"' %ion_to_merge)\n",
    "\n",
    "        if wls_to_filter is not None:\n",
    "            for wl_to_filter in wls_to_filter:\n",
    "                if wl_to_filter in np.unique(df.wl_line.values):\n",
    "                    df = df.query('wl_line != %4.2f' %wl_to_filter)\n",
    "                    df.reset_index(inplace=True)\n",
    "\n",
    "        if (wls_to_correct is not None) and (gflogs_shift is not None):\n",
    "            for wl_to_correct, gflog_shift in zip(wls_to_correct, gflogs_shift):\n",
    "                if wl_to_correct in np.unique(df.wl_line.values):\n",
    "                    df.loc[df.query('wl_line == %4.2f' %wl_to_correct).index.values, '%s' %elem_to_merge] = df.query('wl_line == %4.2f' %wl_to_correct)['%s' %elem_to_merge].values + gflog_shift\n",
    "                    \n",
    "        df['loge%s' %elem_to_merge.capitalize()] = df['%s' %elem_to_merge].values + monh\n",
    "    \n",
    "        condition = '%s < 10 and e%s_sme < 0.5 and e%s_sme != 0.0 and n_iter_%s > 1' %(elem_to_merge, elem_to_merge, elem_to_merge, elem_to_merge)\n",
    "        df = df.query(condition)\n",
    "\n",
    "        if df.spec_id.size > 1:\n",
    "            average = np.average(a = df['%s' %elem_to_merge].values, weights=1./df['e%s_sme' %elem_to_merge].values**2.)\n",
    "            rms = np.average((average - df['%s' %elem_to_merge].values)**2., weights=1./df['e%s_sme' %elem_to_merge].values**2.)**0.5\n",
    "            e_sme_mean = np.mean(df['e%s_sme' %elem_to_merge].values)\n",
    "            n_lines = df['e%s_sme' %elem_to_merge].size\n",
    "            min_n_iters, max_n_iters = np.min(df['n_iter_%s' %elem_to_merge].values), np.max(df['n_iter_%s' %elem_to_merge].values)\n",
    "        else:\n",
    "            average = df['%s' %elem_to_merge].values[0]\n",
    "            rms = df['e%s_sme' %elem_to_merge].values[0]\n",
    "            e_sme_mean = df['%s' %elem_to_merge].values[0]\n",
    "            n_lines = 1\n",
    "            min_n_iters, max_n_iters = np.min(df['n_iter_%s' %elem_to_merge].values), np.max(df['n_iter_%s' %elem_to_merge].values)\n",
    "\n",
    "        df_to_export.loc[i] = spec_id, species_string, average + monh, average, rms, e_sme_mean, n_lines, min_n_iters, max_n_iters\n",
    "        \n",
    "    return df_to_export"
   ]
  },
  {
   "cell_type": "code",
   "execution_count": null,
   "id": "2890d70c-59a3-4af4-832f-34ec92bde4fb",
   "metadata": {},
   "outputs": [],
   "source": []
  },
  {
   "cell_type": "code",
   "execution_count": 77,
   "id": "39cdc80e-e40c-4f18-bacd-f499d0e11bf2",
   "metadata": {
    "scrolled": true
   },
   "outputs": [],
   "source": [
    "# %%time\n",
    "\n",
    "# elem_to_merge = ['mg', 'ca', 'si', 'sc', 'ti', 'cr', 'mn', 'co', 'ni', 'zn', 'al']\n",
    "# cayrel_line_by_line = pd.DataFrame()\n",
    "# merged_spec_id = np.empty_like(cayrel.teff.values, dtype=object)\n",
    "# merged_elem, merged_logeelem, merged_eelem_rms = np.empty_like(cayrel.teff.values), np.empty_like(cayrel.teff.values), np.empty_like(cayrel.teff.values)\n",
    "# merged_eelem_sme, merged_lines = np.empty_like(cayrel.teff.values), np.empty_like(cayrel.teff.values)\n",
    "# is_limit_elem = np.empty_like(cayrel.teff.values, dtype=bool)\n",
    "\n",
    "# for j, elem in enumerate(elem_to_merge):\n",
    "\n",
    "#     elem_lines_files = sorted(glob.glob('tmp_cayrel/cayrel_elem_lines_%s_*' %elem))\n",
    "\n",
    "#     for i, elem_lines_file in enumerate(elem_lines_files):\n",
    "\n",
    "#         df = pd.read_csv(elem_lines_file)\n",
    "#         df['loge%s' %elem.capitalize()] = df['%s' %elem].values + cayrel.monh.values[i]\n",
    "#         condition = 'e%s_sme < 10' %(elem)\n",
    "\n",
    "#         if df.query(condition).spec_id.size == 0:\n",
    "#             df = df.sort_values(by='e%s_sme' %elem, ascending=True)\n",
    "            \n",
    "#             merged_spec_id[i] = df.spec_id.values[0]\n",
    "#             merged_elem[i] = df['%s' %elem].values[0]\n",
    "#             merged_logeelem[i] = df['loge%s' %elem.capitalize()].values[0]\n",
    "#             merged_eelem_rms[i] = df['e%s_sme' %elem].values[0]\n",
    "#             merged_eelem_sme[i] = df['e%s_sme' %elem].values[0]\n",
    "#             merged_lines = df['n_iter_%s' %elem].size\n",
    "#             is_limit_elem[i] = True\n",
    "#         else:\n",
    "#             df = df.query(condition)\n",
    "#             merged_spec_id[i] = df.spec_id.values[0]\n",
    "#             merged_elem[i] = np.average(a = df['%s' %elem].values, weights=1./df['e%s_sme' %elem].values**2.)\n",
    "#             merged_logeelem[i] = np.average(a = df['loge%s' %elem.capitalize()].values, weights=1./df['e%s_sme' %elem].values**2.)\n",
    "#             merged_eelem_rms[i] = np.std(df['loge%s' %elem.capitalize()].values)\n",
    "#             merged_eelem_sme[i] = np.sqrt(np.sum(df['e%s_sme' %elem].values**2.))\n",
    "#             merged_lines = df['n_iter_%s' %elem].size\n",
    "#             is_limit_elem[i] = False\n",
    "\n",
    "#     if j == 0:\n",
    "#         cayrel_line_by_line['spec_id'] = merged_spec_id\n",
    "#     cayrel_line_by_line['loge%s' %elem.capitalize()] = merged_logeelem\n",
    "#     cayrel_line_by_line['%s' %elem] = merged_elem\n",
    "#     cayrel_line_by_line['e%s_rms' %elem] = merged_eelem_rms\n",
    "#     cayrel_line_by_line['e%s_sme' %elem] = merged_eelem_sme\n",
    "#     cayrel_line_by_line['%s_nlines' %elem] = merged_lines\n",
    "#     cayrel_line_by_line['is_limit_%s' %elem] = is_limit_elem"
   ]
  },
  {
   "cell_type": "code",
   "execution_count": 111,
   "id": "06d3944e-c909-4aba-91b3-4e70bef6574a",
   "metadata": {},
   "outputs": [
    {
     "name": "stdout",
     "output_type": "stream",
     "text": [
      "CPU times: user 1.39 s, sys: 10.7 ms, total: 1.4 s\n",
      "Wall time: 1min 3s\n"
     ]
    }
   ],
   "source": [
    "%%time\n",
    "# ['mg', 'ca', 'si', 'sc', 'ti', 'cr', 'mn', 'co', 'ni', 'zn', 'al']\n",
    "\n",
    "mg = merge_abund_files(elem_to_merge='mg', spec_ids=cayrel.spec_id.values, monhs=cayrel.monh.values, wls_to_filter=[3938.40, 4351.91], wls_to_correct=[3878.31, 3903.86], gflogs_shift=[+0.65, +0.80])\n",
    "ca = merge_abund_files(elem_to_merge='ca', spec_ids=cayrel.spec_id.values, monhs=cayrel.monh.values, wls_to_filter=[3968.46, 3933.66, 3968.46], wls_to_correct=[4226.73, 4302.53], gflogs_shift=[+0.30, +0.25])\n",
    "si = merge_abund_files(elem_to_merge='si', spec_ids=cayrel.spec_id.values, monhs=cayrel.monh.values, wls_to_filter=[3856.02, 4102.94])\n",
    "ti1 = merge_abund_files(elem_to_merge='ti', ion_to_merge='Ti 1', spec_ids=cayrel.spec_id.values, monhs=cayrel.monh.values)\n",
    "ti2 = merge_abund_files(elem_to_merge='ti', ion_to_merge='Ti 2', spec_ids=cayrel.spec_id.values, monhs=cayrel.monh.values)"
   ]
  },
  {
   "cell_type": "code",
   "execution_count": 112,
   "id": "87e7348e-fd00-413d-8f9d-2865da134320",
   "metadata": {},
   "outputs": [],
   "source": [
    "cayrel_line_by_line = mg.merge(right=ca, on='spec_id').merge(right=si, on='spec_id').merge(right=ti1, on='spec_id').merge(right=ti2, on='spec_id')"
   ]
  },
  {
   "cell_type": "code",
   "execution_count": 113,
   "id": "972bef42-e22f-420f-86c7-51eb76b49c7a",
   "metadata": {
    "editable": true,
    "slideshow": {
     "slide_type": ""
    },
    "tags": []
   },
   "outputs": [
    {
     "data": {
      "text/html": [
       "<div>\n",
       "<style scoped>\n",
       "    .dataframe tbody tr th:only-of-type {\n",
       "        vertical-align: middle;\n",
       "    }\n",
       "\n",
       "    .dataframe tbody tr th {\n",
       "        vertical-align: top;\n",
       "    }\n",
       "\n",
       "    .dataframe thead th {\n",
       "        text-align: right;\n",
       "    }\n",
       "</style>\n",
       "<table border=\"1\" class=\"dataframe\">\n",
       "  <thead>\n",
       "    <tr style=\"text-align: right;\">\n",
       "      <th></th>\n",
       "      <th>spec_id</th>\n",
       "      <th>species_mg</th>\n",
       "      <th>logeMg</th>\n",
       "      <th>mg</th>\n",
       "      <th>emg_rms</th>\n",
       "      <th>emg_sme</th>\n",
       "      <th>n_lines_mg</th>\n",
       "      <th>min_n_iter_mg</th>\n",
       "      <th>max_n_iter_mg</th>\n",
       "      <th>species_ca</th>\n",
       "      <th>...</th>\n",
       "      <th>min_n_iter_ti1</th>\n",
       "      <th>max_n_iter_ti1</th>\n",
       "      <th>species_ti2</th>\n",
       "      <th>logeTi2</th>\n",
       "      <th>ti2</th>\n",
       "      <th>eti2_rms</th>\n",
       "      <th>eti2_sme</th>\n",
       "      <th>n_lines_ti2</th>\n",
       "      <th>min_n_iter_ti2</th>\n",
       "      <th>max_n_iter_ti2</th>\n",
       "    </tr>\n",
       "  </thead>\n",
       "  <tbody>\n",
       "    <tr>\n",
       "      <th>30</th>\n",
       "      <td>31_CS29502_42</td>\n",
       "      <td>mg</td>\n",
       "      <td>4.968193</td>\n",
       "      <td>7.982487</td>\n",
       "      <td>0.052201</td>\n",
       "      <td>0.167333</td>\n",
       "      <td>6</td>\n",
       "      <td>12</td>\n",
       "      <td>19</td>\n",
       "      <td>ca</td>\n",
       "      <td>...</td>\n",
       "      <td>8</td>\n",
       "      <td>18</td>\n",
       "      <td>ti2</td>\n",
       "      <td>2.330401</td>\n",
       "      <td>5.344695</td>\n",
       "      <td>0.148940</td>\n",
       "      <td>0.175043</td>\n",
       "      <td>47</td>\n",
       "      <td>7</td>\n",
       "      <td>18</td>\n",
       "    </tr>\n",
       "    <tr>\n",
       "      <th>31</th>\n",
       "      <td>32_CS29516_24</td>\n",
       "      <td>mg</td>\n",
       "      <td>5.451561</td>\n",
       "      <td>7.895888</td>\n",
       "      <td>0.022842</td>\n",
       "      <td>0.135600</td>\n",
       "      <td>5</td>\n",
       "      <td>11</td>\n",
       "      <td>16</td>\n",
       "      <td>ca</td>\n",
       "      <td>...</td>\n",
       "      <td>6</td>\n",
       "      <td>18</td>\n",
       "      <td>ti2</td>\n",
       "      <td>2.887225</td>\n",
       "      <td>5.331552</td>\n",
       "      <td>0.125294</td>\n",
       "      <td>0.206705</td>\n",
       "      <td>44</td>\n",
       "      <td>6</td>\n",
       "      <td>18</td>\n",
       "    </tr>\n",
       "    <tr>\n",
       "      <th>32</th>\n",
       "      <td>33_CS29518_51</td>\n",
       "      <td>mg</td>\n",
       "      <td>5.311893</td>\n",
       "      <td>7.888279</td>\n",
       "      <td>0.123293</td>\n",
       "      <td>0.097167</td>\n",
       "      <td>6</td>\n",
       "      <td>10</td>\n",
       "      <td>17</td>\n",
       "      <td>ca</td>\n",
       "      <td>...</td>\n",
       "      <td>6</td>\n",
       "      <td>14</td>\n",
       "      <td>ti2</td>\n",
       "      <td>2.855316</td>\n",
       "      <td>5.431701</td>\n",
       "      <td>0.131353</td>\n",
       "      <td>0.166408</td>\n",
       "      <td>49</td>\n",
       "      <td>6</td>\n",
       "      <td>19</td>\n",
       "    </tr>\n",
       "    <tr>\n",
       "      <th>33</th>\n",
       "      <td>34_CS30325_94</td>\n",
       "      <td>mg</td>\n",
       "      <td>4.866166</td>\n",
       "      <td>8.073129</td>\n",
       "      <td>0.077658</td>\n",
       "      <td>0.079600</td>\n",
       "      <td>5</td>\n",
       "      <td>9</td>\n",
       "      <td>15</td>\n",
       "      <td>ca</td>\n",
       "      <td>...</td>\n",
       "      <td>9</td>\n",
       "      <td>18</td>\n",
       "      <td>ti2</td>\n",
       "      <td>2.181739</td>\n",
       "      <td>5.388702</td>\n",
       "      <td>0.150356</td>\n",
       "      <td>0.181795</td>\n",
       "      <td>44</td>\n",
       "      <td>8</td>\n",
       "      <td>21</td>\n",
       "    </tr>\n",
       "    <tr>\n",
       "      <th>34</th>\n",
       "      <td>35_CS31082_01</td>\n",
       "      <td>mg</td>\n",
       "      <td>5.347027</td>\n",
       "      <td>7.951288</td>\n",
       "      <td>0.101641</td>\n",
       "      <td>0.213167</td>\n",
       "      <td>6</td>\n",
       "      <td>11</td>\n",
       "      <td>17</td>\n",
       "      <td>ca</td>\n",
       "      <td>...</td>\n",
       "      <td>7</td>\n",
       "      <td>14</td>\n",
       "      <td>ti2</td>\n",
       "      <td>2.842522</td>\n",
       "      <td>5.446784</td>\n",
       "      <td>0.235524</td>\n",
       "      <td>0.202078</td>\n",
       "      <td>51</td>\n",
       "      <td>5</td>\n",
       "      <td>21</td>\n",
       "    </tr>\n",
       "  </tbody>\n",
       "</table>\n",
       "<p>5 rows × 41 columns</p>\n",
       "</div>"
      ],
      "text/plain": [
       "          spec_id species_mg    logeMg        mg   emg_rms   emg_sme  \\\n",
       "30  31_CS29502_42         mg  4.968193  7.982487  0.052201  0.167333   \n",
       "31  32_CS29516_24         mg  5.451561  7.895888  0.022842  0.135600   \n",
       "32  33_CS29518_51         mg  5.311893  7.888279  0.123293  0.097167   \n",
       "33  34_CS30325_94         mg  4.866166  8.073129  0.077658  0.079600   \n",
       "34  35_CS31082_01         mg  5.347027  7.951288  0.101641  0.213167   \n",
       "\n",
       "    n_lines_mg  min_n_iter_mg  max_n_iter_mg species_ca  ...  min_n_iter_ti1  \\\n",
       "30           6             12             19         ca  ...               8   \n",
       "31           5             11             16         ca  ...               6   \n",
       "32           6             10             17         ca  ...               6   \n",
       "33           5              9             15         ca  ...               9   \n",
       "34           6             11             17         ca  ...               7   \n",
       "\n",
       "    max_n_iter_ti1  species_ti2   logeTi2       ti2  eti2_rms  eti2_sme  \\\n",
       "30              18          ti2  2.330401  5.344695  0.148940  0.175043   \n",
       "31              18          ti2  2.887225  5.331552  0.125294  0.206705   \n",
       "32              14          ti2  2.855316  5.431701  0.131353  0.166408   \n",
       "33              18          ti2  2.181739  5.388702  0.150356  0.181795   \n",
       "34              14          ti2  2.842522  5.446784  0.235524  0.202078   \n",
       "\n",
       "   n_lines_ti2  min_n_iter_ti2  max_n_iter_ti2  \n",
       "30          47               7              18  \n",
       "31          44               6              18  \n",
       "32          49               6              19  \n",
       "33          44               8              21  \n",
       "34          51               5              21  \n",
       "\n",
       "[5 rows x 41 columns]"
      ]
     },
     "execution_count": 113,
     "metadata": {},
     "output_type": "execute_result"
    }
   ],
   "source": [
    "cayrel_line_by_line.tail()"
   ]
  },
  {
   "cell_type": "code",
   "execution_count": null,
   "id": "e24e2f6a-cde7-4c03-82e3-97a600685884",
   "metadata": {},
   "outputs": [],
   "source": []
  },
  {
   "cell_type": "code",
   "execution_count": 114,
   "id": "76509472-57d2-4dbb-a6f1-2bbe17bc0af8",
   "metadata": {},
   "outputs": [],
   "source": [
    "#Merge now with Cayrel values"
   ]
  },
  {
   "cell_type": "code",
   "execution_count": 115,
   "id": "abef1013-6af1-4ba6-996d-65c6fa3bc17c",
   "metadata": {},
   "outputs": [],
   "source": [
    "cayrel_lelements = pd.read_csv('cayrel/Cayrel_light_elements.csv')"
   ]
  },
  {
   "cell_type": "code",
   "execution_count": 116,
   "id": "eab9ffc7-872e-45ee-9e75-93971a8f1dc1",
   "metadata": {},
   "outputs": [
    {
     "data": {
      "text/html": [
       "<div>\n",
       "<style scoped>\n",
       "    .dataframe tbody tr th:only-of-type {\n",
       "        vertical-align: middle;\n",
       "    }\n",
       "\n",
       "    .dataframe tbody tr th {\n",
       "        vertical-align: top;\n",
       "    }\n",
       "\n",
       "    .dataframe thead th {\n",
       "        text-align: right;\n",
       "    }\n",
       "</style>\n",
       "<table border=\"1\" class=\"dataframe\">\n",
       "  <thead>\n",
       "    <tr style=\"text-align: right;\">\n",
       "      <th></th>\n",
       "      <th>spec_id</th>\n",
       "      <th>feh_c04</th>\n",
       "      <th>species</th>\n",
       "      <th>loge</th>\n",
       "      <th>is_limit_am</th>\n",
       "      <th>am</th>\n",
       "      <th>is_limit_afe</th>\n",
       "      <th>afe</th>\n",
       "      <th>eafe</th>\n",
       "      <th>nlines_c04</th>\n",
       "    </tr>\n",
       "  </thead>\n",
       "  <tbody>\n",
       "    <tr>\n",
       "      <th>0</th>\n",
       "      <td>01_HD2796</td>\n",
       "      <td>-2.47</td>\n",
       "      <td>C</td>\n",
       "      <td>5.55</td>\n",
       "      <td>False</td>\n",
       "      <td>-2.97</td>\n",
       "      <td>False</td>\n",
       "      <td>-0.51</td>\n",
       "      <td>NaN</td>\n",
       "      <td>NaN</td>\n",
       "    </tr>\n",
       "    <tr>\n",
       "      <th>1</th>\n",
       "      <td>01_HD2796</td>\n",
       "      <td>-2.47</td>\n",
       "      <td>N</td>\n",
       "      <td>NaN</td>\n",
       "      <td>True</td>\n",
       "      <td>NaN</td>\n",
       "      <td>True</td>\n",
       "      <td>NaN</td>\n",
       "      <td>NaN</td>\n",
       "      <td>NaN</td>\n",
       "    </tr>\n",
       "  </tbody>\n",
       "</table>\n",
       "</div>"
      ],
      "text/plain": [
       "     spec_id  feh_c04 species  loge is_limit_am    am  is_limit_afe   afe  \\\n",
       "0  01_HD2796    -2.47       C  5.55       False -2.97         False -0.51   \n",
       "1  01_HD2796    -2.47       N   NaN        True   NaN          True   NaN   \n",
       "\n",
       "   eafe  nlines_c04  \n",
       "0   NaN         NaN  \n",
       "1   NaN         NaN  "
      ]
     },
     "execution_count": 116,
     "metadata": {},
     "output_type": "execute_result"
    }
   ],
   "source": [
    "cayrel_lelements.head(2)"
   ]
  },
  {
   "cell_type": "code",
   "execution_count": 117,
   "id": "f42ba8d3-10e7-4f0a-a9fb-02bda91613df",
   "metadata": {},
   "outputs": [],
   "source": [
    "cayrel_merged = cayrel.merge(right=cayrel_line_by_line, on='spec_id')\n",
    "\n",
    "cayrel_merged = cayrel_merged.merge(right=cayrel_lelements.drop(columns=['feh_c04']).query('species == \"Mg\"').rename(columns={'species':'species_mg_c04', 'loge':'logeMg_c04', 'is_limit_am':'is_limit_mg_c04', 'am':'mgh_c04', 'is_limit_afe':'is_limit_mgfe_c04', 'afe':'mgfe_c04', 'eafe':'emgfe_c04', 'nlines_c04':'nlines_mg_c04'}), on='spec_id')\n",
    "cayrel_merged = cayrel_merged.merge(right=cayrel_lelements.drop(columns=['feh_c04']).query('species == \"Ca\"').rename(columns={'species':'species_ca_c04', 'loge':'logeCa_c04', 'is_limit_am':'is_limit_ca_c04', 'am':'cah_c04', 'is_limit_afe':'is_limit_cafe_c04', 'afe':'cafe_c04', 'eafe':'ecafe_c04', 'nlines_c04':'nlines_ca_c04'}), on='spec_id')\n",
    "# cayrel_merged = cayrel_merged.merge(right=cayrel_lelements.drop(columns=['feh_c04']).query('species == \"Sc\"').rename(columns={'species':'species_sc', 'loge':'logeSc_c04', 'is_limit_am':'is_limit_sc_c04', 'am':'sch_c04', 'is_limit_afe':'is_limit_scfe_c04', 'afe':'scfe_c04', 'eafe':'escfe_c04', 'nlines_c04':'nlines_sc_c04'}), on='spec_id')\n",
    "cayrel_merged = cayrel_merged.merge(right=cayrel_lelements.drop(columns=['feh_c04']).query('species == \"Si\"').rename(columns={'species':'species_si_c04', 'loge':'logeSi_c04', 'is_limit_am':'is_limit_si_c04', 'am':'sih_c04', 'is_limit_afe':'is_limit_sife_c04', 'afe':'sife_c04', 'eafe':'esife_c04', 'nlines_c04':'nlines_si_c04'}), on='spec_id')\n",
    "cayrel_merged = cayrel_merged.merge(right=cayrel_lelements.drop(columns=['feh_c04']).query('species == \"TiI\"').rename(columns={'species':'species_ti1_c04', 'loge':'logeTi1_c04', 'is_limit_am':'is_limit_ti1_c04', 'am':'ti1h_c04', 'is_limit_afe':'is_limit_ti1fe_c04', 'afe':'ti1fe_c04', 'eafe':'eti1fe_c04', 'nlines_c04':'nlines_ti1_c04'}), on='spec_id')\n",
    "cayrel_merged = cayrel_merged.merge(right=cayrel_lelements.drop(columns=['feh_c04']).query('species == \"TiII\"').rename(columns={'species':'species_ti2_c04', 'loge':'logeTi2_c04', 'is_limit_am':'is_limit_ti2_c04', 'am':'ti2h_c04', 'is_limit_afe':'is_limit_ti2fe_c04', 'afe':'ti2fe_c04', 'eafe':'eti2fe_c04', 'nlines_c04':'nlines_ti2_c04'}), on='spec_id')\n",
    "# cayrel_merged = cayrel_merged.merge(right=cayrel_lelements.drop(columns=['feh_c04']).query('species == \"Cr\"').rename(columns={'species':'species_cr', 'loge':'logeCr_c04', 'is_limit_am':'is_limit_cr_c04', 'am':'crh_c04', 'is_limit_afe':'is_limit_crfe_c04', 'afe':'crfe_c04', 'eafe':'ecrfe_c04', 'nlines_c04':'nlines_cr_c04'}), on='spec_id')\n",
    "# cayrel_merged = cayrel_merged.merge(right=cayrel_lelements.drop(columns=['feh_c04']).query('species == \"Mn\"').rename(columns={'species':'species_mn', 'loge':'logeMn_c04', 'is_limit_am':'is_limit_mn_c04', 'am':'mnh_c04', 'is_limit_afe':'is_limit_mnfe_c04', 'afe':'mnfe_c04', 'eafe':'emnfe_c04', 'nlines_c04':'nlines_mn_c04'}), on='spec_id')\n",
    "# cayrel_merged = cayrel_merged.merge(right=cayrel_lelements.drop(columns=['feh_c04']).query('species == \"Co\"').rename(columns={'species':'species_co', 'loge':'logeCo_c04', 'is_limit_am':'is_limit_co_c04', 'am':'coh_c04', 'is_limit_afe':'is_limit_cofe_c04', 'afe':'cofe_c04', 'eafe':'ecofe_c04', 'nlines_c04':'nlines_co_c04'}), on='spec_id')\n",
    "# cayrel_merged = cayrel_merged.merge(right=cayrel_lelements.drop(columns=['feh_c04']).query('species == \"Ni\"').rename(columns={'species':'species_ni', 'loge':'logeNi_c04', 'is_limit_am':'is_limit_ni_c04', 'am':'nih_c04', 'is_limit_afe':'is_limit_nife_c04', 'afe':'nife_c04', 'eafe':'enife_c04', 'nlines_c04':'nlines_ni_c04'}), on='spec_id')\n",
    "# cayrel_merged = cayrel_merged.merge(right=cayrel_lelements.drop(columns=['feh_c04']).query('species == \"Zn\"').rename(columns={'species':'species_zn', 'loge':'logeZn_c04', 'is_limit_am':'is_limit_zn_c04', 'am':'znh_c04', 'is_limit_afe':'is_limit_znfe_c04', 'afe':'znfe_c04', 'eafe':'eznfe_c04', 'nlines_c04':'nlines_zn_c04'}), on='spec_id')\n",
    "# cayrel_merged = cayrel_merged.merge(right=cayrel_lelements.drop(columns=['feh_c04']).query('species == \"Al\"').rename(columns={'species':'species_al', 'loge':'logeAl_c04', 'is_limit_am':'is_limit_al_c04', 'am':'alh_c04', 'is_limit_afe':'is_limit_alfe_c04', 'afe':'alfe_c04', 'eafe':'ealfe_c04', 'nlines_c04':'nlines_al_c04'}), on='spec_id')"
   ]
  },
  {
   "cell_type": "code",
   "execution_count": 118,
   "id": "a0703716-ce3f-4888-b3b5-7d19d92e15e6",
   "metadata": {
    "scrolled": true
   },
   "outputs": [],
   "source": [
    "cayrel_merged.to_csv('tmp_merged/cayrel_atm_fe_cn_corr_alpha_elements.csv', header=True, index=False)"
   ]
  },
  {
   "cell_type": "code",
   "execution_count": null,
   "id": "d29daacb-ad92-492e-9739-f35fc6a59026",
   "metadata": {},
   "outputs": [],
   "source": []
  },
  {
   "cell_type": "code",
   "execution_count": null,
   "id": "ade7f99f-db47-4bcf-8656-890db69b511d",
   "metadata": {},
   "outputs": [],
   "source": []
  },
  {
   "cell_type": "code",
   "execution_count": 93,
   "id": "436a8f63-4671-472e-9958-4218a22ab48d",
   "metadata": {},
   "outputs": [
    {
     "data": {
      "image/png": "[encoded data removed]",
      "text/plain": [
       "<Figure size 1000x800 with 13 Axes>"
      ]
     },
     "metadata": {
      "needs_background": "light"
     },
     "output_type": "display_data"
    }
   ],
   "source": [
    "fig, axes = plt.subplots(nrows=4, ncols=3, figsize=(10,8), dpi=100)\n",
    "\n",
    "plt.subplot(4,3,1)\n",
    "plt.title('Mg', size=15)\n",
    "scatter = plt.scatter(cayrel_merged.logeMg.values, cayrel_merged.logeMg_c04.values, s=40, ec='k', c=cayrel_merged.teff.values - cayrel_merged.teff_cayrel.values, vmin=-250, vmax=250, cmap=plt.cm.coolwarm)\n",
    "# plt.colorbar()\n",
    "x = np.linspace(3.8, 5.8)\n",
    "plt.plot(x,x, color='k', zorder=0)\n",
    "plt.plot(x,x+0.2, color='k', zorder=0, ls='--')\n",
    "plt.plot(x,x-0.2, color='k', zorder=0, ls='--')\n",
    "\n",
    "plt.subplot(4,3,2)\n",
    "plt.title('Ca', size=15)\n",
    "plt.scatter(cayrel_merged.logeCa.values, cayrel_merged.logeCa_c04.values, s=40, ec='k', c=cayrel_merged.teff.values - cayrel_merged.teff_cayrel.values, vmin=-250, vmax=250, cmap=plt.cm.coolwarm)\n",
    "# plt.colorbar()\n",
    "x = np.linspace(2.0, 5.0)\n",
    "plt.plot(x,x, color='k', zorder=0)\n",
    "plt.plot(x,x+0.2, color='k', zorder=0, ls='--')\n",
    "plt.plot(x,x-0.2, color='k', zorder=0, ls='--')\n",
    "\n",
    "plt.subplot(4,3,3)\n",
    "plt.title('Si', size=15)\n",
    "plt.scatter(cayrel_merged.logeSi.values, cayrel_merged.logeSi_c04.values, s=40, ec='k', c=cayrel_merged.teff.values - cayrel_merged.teff_cayrel.values, vmin=-250, vmax=250, cmap=plt.cm.coolwarm)\n",
    "# plt.colorbar()\n",
    "x = np.linspace(3.5, 6.2)\n",
    "plt.plot(x,x, color='k', zorder=0)\n",
    "plt.plot(x,x+0.2, color='k', zorder=0, ls='--')\n",
    "plt.plot(x,x-0.2, color='k', zorder=0, ls='--')\n",
    "plt.xlim(3,6.5)\n",
    "\n",
    "# ['mg', 'ca', 'si', 'sc', 'ti', 'cr', 'mn', 'co', 'ni', 'zn', 'al', 'k']\n",
    "\n",
    "plt.subplot(4,3,4)\n",
    "plt.title('Sc', size=15)\n",
    "plt.scatter(cayrel_merged.logeSc.values, cayrel_merged.logeSc_c04.values, s=40, ec='k', c=cayrel_merged.teff.values - cayrel_merged.teff_cayrel.values, vmin=-250, vmax=250, cmap=plt.cm.coolwarm)\n",
    "# plt.colorbar()\n",
    "x = np.linspace(-1,1.5)\n",
    "plt.plot(x,x, color='k', zorder=0)\n",
    "plt.plot(x,x+0.2, color='k', zorder=0, ls='--')\n",
    "plt.plot(x,x-0.2, color='k', zorder=0, ls='--')\n",
    "plt.ylabel(r'$\\log{\\epsilon}$ Cayrel', size=15)\n",
    "plt.xlim(-1.1,1.8)\n",
    "\n",
    "plt.subplot(4,3,5)\n",
    "plt.title('Ti', size=15)\n",
    "plt.scatter(cayrel_merged.logeTi.values, cayrel_merged.logeTi_c04.values, s=40, ec='k', c=cayrel_merged.teff.values - cayrel_merged.teff_cayrel.values, vmin=-250, vmax=250, cmap=plt.cm.coolwarm)\n",
    "# plt.colorbar()\n",
    "x = np.linspace(1,3.5)\n",
    "plt.plot(x,x, color='k', zorder=0)\n",
    "plt.plot(x,x+0.2, color='k', zorder=0, ls='--')\n",
    "plt.plot(x,x-0.2, color='k', zorder=0, ls='--')\n",
    "\n",
    "plt.subplot(4,3,6)\n",
    "plt.axis('off')\n",
    "# plt.title('Cr')\n",
    "# plt.scatter(cayrel_cr.logeCr.values, cayrel_cr.loge.values, s=40, ec='k', c=cayrel_cr.teff.values - cayrel_cr.teff_cayrel.values, vmin=-250, vmax=250)\n",
    "# plt.colorbar()\n",
    "# x = np.linspace(2,4.5)\n",
    "# plt.plot(x,x, color='k', zorder=0)\n",
    "# plt.plot(x,x+0.2, color='k', zorder=0, ls='--')\n",
    "# plt.plot(x,x-0.2, color='k', zorder=0, ls='--')\n",
    "# plt.xlim(2,5)\n",
    "\n",
    "# ['mg', 'ca', 'si', 'sc', 'ti', 'cr', 'mn', 'co', 'ni', 'zn', 'al', 'k']\n",
    "\n",
    "plt.subplot(4,3,7)\n",
    "plt.title('Mn', size=15)\n",
    "plt.scatter(cayrel_merged.logeMn.values, cayrel_merged.logeMn_c04.values, s=40, ec='k', c=cayrel_merged.teff.values - cayrel_merged.teff_cayrel.values, vmin=-250, vmax=250, cmap=plt.cm.coolwarm)\n",
    "# plt.colorbar()\n",
    "x = np.linspace(0.0,3.2)\n",
    "plt.plot(x,x, color='k', zorder=0)\n",
    "plt.plot(x,x+0.2, color='k', zorder=0, ls='--')\n",
    "plt.plot(x,x-0.2, color='k', zorder=0, ls='--')\n",
    "plt.xlim(-0.5,3.3)\n",
    "plt.ylabel(r'$\\log{\\epsilon}$ Cayrel', size=15)\n",
    "\n",
    "plt.subplot(4,3,8)\n",
    "plt.title('Co', size=15)\n",
    "plt.scatter(cayrel_merged.logeCo.values, cayrel_merged.logeCo_c04.values, s=40, ec='k', c=cayrel_merged.teff.values - cayrel_merged.teff_cayrel.values, vmin=-250, vmax=250, cmap=plt.cm.coolwarm)\n",
    "# plt.colorbar()\n",
    "x = np.linspace(1,3)\n",
    "plt.plot(x,x, color='k', zorder=0)\n",
    "plt.plot(x,x+0.2, color='k', zorder=0, ls='--')\n",
    "plt.plot(x,x-0.2, color='k', zorder=0, ls='--')\n",
    "\n",
    "plt.subplot(4,3,9)\n",
    "plt.title('Ni', size=15)\n",
    "plt.scatter(cayrel_merged.logeNi.values, cayrel_merged.logeNi_c04.values, s=40, ec='k', c=cayrel_merged.teff.values - cayrel_merged.teff_cayrel.values, vmin=-250, vmax=250, cmap=plt.cm.coolwarm)\n",
    "# plt.colorbar()\n",
    "x = np.linspace(2,4)\n",
    "plt.plot(x,x, color='k', zorder=0)\n",
    "plt.plot(x,x+0.2, color='k', zorder=0, ls='--')\n",
    "plt.plot(x,x-0.2, color='k', zorder=0, ls='--')\n",
    "\n",
    "plt.subplot(4,3,10)\n",
    "plt.title('Zn', size=15)\n",
    "plt.scatter(cayrel_merged.logeZn.values, cayrel_merged.logeZn_c04.values, s=40, ec='k', c=cayrel_merged.teff.values - cayrel_merged.teff_cayrel.values, vmin=-250, vmax=250, cmap=plt.cm.coolwarm)\n",
    "# plt.colorbar()\n",
    "x = np.linspace(2,4)\n",
    "plt.plot(x,x, color='k', zorder=0)\n",
    "plt.plot(x,x+0.2, color='k', zorder=0, ls='--')\n",
    "plt.plot(x,x-0.2, color='k', zorder=0, ls='--')\n",
    "\n",
    "# ['mg', 'ca', 'si', 'sc', 'ti', 'cr', 'mn', 'co', 'ni', 'zn', 'al', 'k']\n",
    "\n",
    "plt.subplot(4,3,11)\n",
    "plt.title('Al', size=15)\n",
    "plt.scatter(cayrel_merged.logeAl.values, cayrel_merged.logeAl_c04.values, s=40, ec='k', c=cayrel_merged.teff.values - cayrel_merged.teff_cayrel.values, vmin=-250, vmax=250, cmap=plt.cm.coolwarm)\n",
    "# plt.colorbar()\n",
    "x = np.linspace(1.5, 5)\n",
    "plt.plot(x,x, color='k', zorder=0)\n",
    "plt.plot(x,x+0.2, color='k', zorder=0, ls='--')\n",
    "plt.plot(x,x-0.2, color='k', zorder=0, ls='--')\n",
    "plt.xlabel(r'$\\log{\\epsilon}$ pySME', size=15)\n",
    "\n",
    "plt.subplot(4,3,12)\n",
    "plt.axis('off')\n",
    "# plt.title('K')\n",
    "# plt.scatter(cayrel_k.logeK.values, cayrel_k.loge.values, s=40, ec='k', c=cayrel_k.teff.values - cayrel_k.teff_cayrel.values, vmin=-250, vmax=250)\n",
    "# plt.colorbar()\n",
    "# x = np.linspace(2,5)\n",
    "# plt.plot(x,x, color='k', zorder=0)\n",
    "# plt.plot(x,x+0.2, color='k', zorder=0, ls='--')\n",
    "# plt.plot(x,x-0.2, color='k', zorder=0, ls='--')\n",
    "\n",
    "cbar_ax = fig.add_axes([1.05, 0.10, 0.02, 0.75]) #[left, bottom, width, height]\n",
    "cb = fig.colorbar(scatter, cax=cbar_ax)\n",
    "cb.set_label(r'${\\rm \\Delta T_{eff}\\ (pySME\\ -\\ Cayrel)}$', labelpad=10, fontsize=14)\n",
    "\n",
    "plt.tight_layout()\n",
    "# plt.savefig('plots/UVES_pySME_Cayrel_element_comparison.pdf', bbox_inches='tight', dpi=300)\n",
    "plt.show()"
   ]
  },
  {
   "cell_type": "code",
   "execution_count": 94,
   "id": "534e2a66-6c01-418b-90d7-b1bad18a1940",
   "metadata": {},
   "outputs": [
    {
     "data": {
      "text/html": [
       "<div>\n",
       "<style scoped>\n",
       "    .dataframe tbody tr th:only-of-type {\n",
       "        vertical-align: middle;\n",
       "    }\n",
       "\n",
       "    .dataframe tbody tr th {\n",
       "        vertical-align: top;\n",
       "    }\n",
       "\n",
       "    .dataframe thead th {\n",
       "        text-align: right;\n",
       "    }\n",
       "</style>\n",
       "<table border=\"1\" class=\"dataframe\">\n",
       "  <thead>\n",
       "    <tr style=\"text-align: right;\">\n",
       "      <th></th>\n",
       "      <th>spec_id</th>\n",
       "      <th>feh_c04</th>\n",
       "      <th>species</th>\n",
       "      <th>loge</th>\n",
       "      <th>is_limit_am</th>\n",
       "      <th>am</th>\n",
       "      <th>is_limit_afe</th>\n",
       "      <th>afe</th>\n",
       "      <th>eafe</th>\n",
       "      <th>nlines_c04</th>\n",
       "    </tr>\n",
       "  </thead>\n",
       "  <tbody>\n",
       "    <tr>\n",
       "      <th>5</th>\n",
       "      <td>01_HD2796</td>\n",
       "      <td>-2.47</td>\n",
       "      <td>Al</td>\n",
       "      <td>3.35</td>\n",
       "      <td>False</td>\n",
       "      <td>-3.12</td>\n",
       "      <td>False</td>\n",
       "      <td>-0.66</td>\n",
       "      <td>NaN</td>\n",
       "      <td>2.0</td>\n",
       "    </tr>\n",
       "    <tr>\n",
       "      <th>24</th>\n",
       "      <td>02_HD122563</td>\n",
       "      <td>-2.82</td>\n",
       "      <td>Al</td>\n",
       "      <td>3.28</td>\n",
       "      <td>False</td>\n",
       "      <td>-3.19</td>\n",
       "      <td>False</td>\n",
       "      <td>-0.38</td>\n",
       "      <td>NaN</td>\n",
       "      <td>2.0</td>\n",
       "    </tr>\n",
       "  </tbody>\n",
       "</table>\n",
       "</div>"
      ],
      "text/plain": [
       "        spec_id  feh_c04 species  loge is_limit_am    am  is_limit_afe   afe  \\\n",
       "5     01_HD2796    -2.47      Al  3.35       False -3.12         False -0.66   \n",
       "24  02_HD122563    -2.82      Al  3.28       False -3.19         False -0.38   \n",
       "\n",
       "    eafe  nlines_c04  \n",
       "5    NaN         2.0  \n",
       "24   NaN         2.0  "
      ]
     },
     "execution_count": 94,
     "metadata": {},
     "output_type": "execute_result"
    }
   ],
   "source": [
    "cayrel_lelements.query('species == \"Al\"').head(2)"
   ]
  },
  {
   "cell_type": "code",
   "execution_count": 95,
   "id": "013f2267-830f-4b09-8f84-12e0e4824415",
   "metadata": {},
   "outputs": [
    {
     "name": "stdout",
     "output_type": "stream",
     "text": [
      "Mg: 0.22\n",
      "Ca: 0.05\n",
      "Si: 0.20\n"
     ]
    }
   ],
   "source": [
    "delta_teff = 200.\n",
    "print ('Mg: %2.2f' %np.mean((cayrel_merged.logeMg.values - cayrel_merged.logeMg_c04.values)[np.abs(cayrel_merged.teff.values - cayrel_merged.teff_cayrel.values) < delta_teff]))\n",
    "print ('Ca: %2.2f' %np.mean((cayrel_merged.logeCa.values - cayrel_merged.logeCa_c04.values)[np.abs(cayrel_merged.teff.values - cayrel_merged.teff_cayrel.values) < delta_teff]))\n",
    "print ('Si: %2.2f' %np.nanmean((cayrel_merged.logeSi.values - cayrel_merged.logeSi_c04.values)[np.abs(cayrel_merged.teff.values - cayrel_merged.teff_cayrel.values) < delta_teff]))\n",
    "# print ('Mn: %2.2f' %np.std((cayrel_mn.logeMn.values - cayrel_mn.loge.values)[np.abs(cayrel_mn.teff.values - cayrel_mn.teff_cayrel.values) < delta_teff]))\n",
    "# print ('Al: %2.2f' %np.std((cayrel_al.logeAl.values - cayrel_al.loge.values)[np.abs(cayrel_al.logeAl.values < 4.)]))"
   ]
  },
  {
   "cell_type": "code",
   "execution_count": null,
   "id": "94574b77-1ff1-4055-90a5-64d887956ec9",
   "metadata": {},
   "outputs": [],
   "source": []
  },
  {
   "cell_type": "code",
   "execution_count": 98,
   "id": "7def53d7-8c9d-4b1c-82e6-f9ceea5bf7ad",
   "metadata": {},
   "outputs": [],
   "source": [
    "#Saving the Cayrel light elements file"
   ]
  },
  {
   "cell_type": "code",
   "execution_count": 99,
   "id": "a84b15be-7d19-4c4d-93a5-5da9699287a3",
   "metadata": {},
   "outputs": [],
   "source": [
    "cayrel_merged.to_csv('tmp_merged/cayrel_atm_fe_cn_corr_lelements.csv', header=True, index=False)"
   ]
  },
  {
   "cell_type": "code",
   "execution_count": null,
   "id": "9848bb5d-8233-460e-864e-d8e09a5a029c",
   "metadata": {},
   "outputs": [],
   "source": []
  },
  {
   "cell_type": "code",
   "execution_count": null,
   "id": "ebf9f7ec-8f16-434c-8111-a90a468f1164",
   "metadata": {},
   "outputs": [],
   "source": []
  },
  {
   "cell_type": "code",
   "execution_count": null,
   "id": "085bc77a-7bcb-4c21-bcf8-ba58d0227c49",
   "metadata": {},
   "outputs": [],
   "source": []
  },
  {
   "cell_type": "code",
   "execution_count": 100,
   "id": "ee982cd3-2474-45e5-9cb2-b9855c77e2b1",
   "metadata": {},
   "outputs": [],
   "source": [
    "#Old code from here!"
   ]
  },
  {
   "cell_type": "code",
   "execution_count": null,
   "id": "c5189eeb-0fdc-4c7d-b59c-a48d98e03c6f",
   "metadata": {},
   "outputs": [],
   "source": []
  },
  {
   "cell_type": "code",
   "execution_count": 149,
   "id": "a63f8c1f-3a0e-4cca-aca8-47f2ecc3bcae",
   "metadata": {},
   "outputs": [],
   "source": [
    "#Merging of files per element"
   ]
  },
  {
   "cell_type": "code",
   "execution_count": 38,
   "id": "7076196a-0801-403c-b7a4-5cceff48928b",
   "metadata": {},
   "outputs": [],
   "source": [
    "elem_to_merge = 'zn' # ['mg', 'ca', 'si', 'sc', 'ti', 'cr', 'mn', 'co', 'ni', 'zn', 'al']"
   ]
  },
  {
   "cell_type": "code",
   "execution_count": 107,
   "id": "c6ade66d-719e-47f1-8842-aed6cb7d6f80",
   "metadata": {},
   "outputs": [],
   "source": [
    "# os.system('cat tmp_cayrel/cayrel_elem_lines_%s_* > tmp_merged/cayrel_elem_lines_%s.csv' %(elem_to_merge,elem_to_merge))\n",
    "# columns = pd.read_csv('tmp_cayrel/cayrel_elem_lines_%s_01_HD2796.csv' %elem_to_merge).columns\n",
    "# lines_mn = pd.read_csv('tmp_merged/cayrel_elem_lines_%s.csv' %elem_to_merge, names=columns, comment='s')"
   ]
  },
  {
   "cell_type": "code",
   "execution_count": 177,
   "id": "564f1bff-7a1c-414d-9943-a69a74259452",
   "metadata": {},
   "outputs": [
    {
     "data": {
      "text/plain": [
       "array(['01_HD2796', '02_HD122563', '03_HD186478', '04_BD17_3248',\n",
       "       '05_BD18_5550', '06_Eric38_245', '07_BS16467_62', '08_BS16477_3',\n",
       "       '09_BS17569_49', '10_CS22169_35', '11_CS22172_2', '12_CS22186_25',\n",
       "       '13_CS22189_09', '14_CS22873_55', '15_CS22873_166',\n",
       "       '16_CS22878_101', '17_CS22885_96', '18_CS22891_209',\n",
       "       '19_CS22892_52', '20_CS22896_154', '21_CS22897_8', '22_CS22948_66',\n",
       "       '23_CS22949_37', '24_CS22952_15', '25_CS22953_3', '26_CS22956_50',\n",
       "       '27_CS22966_57', '28_CS22968_14', '29_CS29491_53', '30_CS29495_41',\n",
       "       '31_CS29502_42', '32_CS29516_24', '33_CS29518_51', '34_CS30325_94',\n",
       "       '35_CS31082_01'], dtype=object)"
      ]
     },
     "execution_count": 177,
     "metadata": {},
     "output_type": "execute_result"
    }
   ],
   "source": [
    "lines_mn.spec_id.unique()"
   ]
  },
  {
   "cell_type": "code",
   "execution_count": 212,
   "id": "379da025-41a1-4b23-9150-01d7e98a9e06",
   "metadata": {},
   "outputs": [
    {
     "data": {
      "image/png": "[encoded data removed]",
      "text/plain": [
       "<Figure size 720x288 with 1 Axes>"
      ]
     },
     "metadata": {
      "needs_background": "light"
     },
     "output_type": "display_data"
    }
   ],
   "source": [
    "spec_id = '33_CS29518_51'\n",
    "plt.figure(figsize=(10,4))\n",
    "plt.scatter(lines_mn.query('spec_id == \"%s\" and emn_sme < 1.0' %spec_id).excit.values, lines_mn.query('spec_id == \"%s\" and emn_sme < 1.0' %spec_id).mn.values, color='k', s=10)\n",
    "plt.errorbar(lines_mn.query('spec_id == \"%s\" and emn_sme < 1.0' %spec_id).excit.values, lines_mn.query('spec_id == \"%s\" and emn_sme < 1.0' %spec_id).mn.values, fmt='.k', \n",
    "            yerr=lines_mn.query('spec_id == \"%s\" and emn_sme < 1.0' %spec_id).emn_sme.values)\n",
    "plt.hlines(np.average(lines_mn.query('spec_id == \"%s\" and emn_sme < 1.0' %spec_id).mn.values, \n",
    "                      weights=1./lines_mn.query('spec_id == \"%s\" and emn_sme < 1.0' %spec_id).emn_sme.values**2.), -3, -0.5, color='g', ls='--', alpha=0.5)\n",
    "plt.hlines(solar.abund.get_element('Mn'), -3, -0.5, color='r', alpha=0.5)\n",
    "plt.hlines(cayrel_mn.query('spec_id == \"%s\"' %spec_id).loge.values - cayrel_mn.query('spec_id == \"%s\"' %spec_id).monh.values, -3, -0.5, color='b')\n",
    "\n",
    "plt.ylim(4.0, 5.75)\n",
    "plt.show()"
   ]
  },
  {
   "cell_type": "code",
   "execution_count": 132,
   "id": "f6337240-61e9-49ff-9c50-7ef5f6489959",
   "metadata": {},
   "outputs": [
    {
     "data": {
      "image/png": "[encoded data removed]",
      "text/plain": [
       "<Figure size 432x288 with 1 Axes>"
      ]
     },
     "metadata": {
      "needs_background": "light"
     },
     "output_type": "display_data"
    }
   ],
   "source": [
    "for line in np.unique(lines_mg.wl_line.values):\n",
    "    try:\n",
    "        plt.hist(lines_mn.query('wl_line == %4.2f' %line).mn.values - lines_mn.query('wl_line == %4.2f' %line).mn.values[1], bins=30, histtype='step', color='k', stacked=True)\n",
    "    except:\n",
    "        continue\n",
    "# plt.xlim(-4, 2)\n",
    "plt.show()"
   ]
  },
  {
   "cell_type": "code",
   "execution_count": null,
   "id": "fe84a624-00d2-4fc8-a2b8-f297698534be",
   "metadata": {},
   "outputs": [],
   "source": []
  },
  {
   "cell_type": "code",
   "execution_count": null,
   "id": "ecfaeaee-7eb0-4458-8e5f-b777f388ebbf",
   "metadata": {},
   "outputs": [],
   "source": []
  },
  {
   "cell_type": "code",
   "execution_count": 206,
   "id": "d9d8a715-49b2-4702-8844-681619baa6e4",
   "metadata": {},
   "outputs": [],
   "source": [
    "#Plots for checking"
   ]
  },
  {
   "cell_type": "code",
   "execution_count": 19,
   "id": "8c3c6f7a-0dd9-466e-ba94-0cbcc9f67ff9",
   "metadata": {
    "editable": true,
    "slideshow": {
     "slide_type": ""
    },
    "tags": []
   },
   "outputs": [],
   "source": [
    "# sme = SME_Structure.load('sme_save/Cayrel_01_HD2796.sme')\n",
    "# sme = SME_Structure.load('sme_save/Cayrel_03_HD186478.sme')\n",
    "# sme = SME_Structure.load('sme_save/cayrel_elem_ba_35_CS31082_01.sme')\n",
    "sme = SME_Structure.load('sme_save/cayrel_elem_nlte_mg_lines_01_HD2796_3829.35.sme')"
   ]
  },
  {
   "cell_type": "code",
   "execution_count": 20,
   "id": "21ff2899-6f88-4b38-a346-24d0261a4996",
   "metadata": {
    "editable": true,
    "slideshow": {
     "slide_type": ""
    },
    "tags": []
   },
   "outputs": [
    {
     "data": {
      "image/png": "[encoded data removed]",
      "text/plain": [
       "<Figure size 600x400 with 1 Axes>"
      ]
     },
     "metadata": {
      "needs_background": "light"
     },
     "output_type": "display_data"
    }
   ],
   "source": [
    "plt.figure(figsize=(6,4), dpi=100)\n",
    "\n",
    "plt.plot(sme.wave.data, sme.spec.data, color='k', lw=1)\n",
    "# plt.errorbar(sme.wave.data, sme.spec.data, fmt='k.', yerr=0.1*sme.uncs.data, lw=1, ms=1)\n",
    "plt.plot(sme.wave.data, sme.synth.data, color='C2', lw=1.5, alpha=0.8)\n",
    "\n",
    "plt.scatter(sme.wave.data, sme.mask.data, s=10, color='grey', alpha=0.2)\n",
    "\n",
    "elems_to_include = ['Mg 1']\n",
    "for wline, species in pd.DataFrame(sme.linelist)[['wlcent', 'species']].values:\n",
    "    if 'H 1' in species:\n",
    "        continue\n",
    "    if (species == 'Fe 1') | (species == 'Fe 2'):\n",
    "        plt.vlines(wline, 0.1, 0.15, color='r')\n",
    "    if species not in elems_to_include:\n",
    "        plt.vlines(wline, 0.1, 0.15, color='g', alpha=0.2)\n",
    "        plt.annotate(text='%s' %species, xy=(wline-0.09, 0.3), rotation=90, fontsize=10)\n",
    "        continue\n",
    "    \n",
    "    plt.vlines(wline, 0.20, 0.25, color='C4', lw=1)\n",
    "    # plt.annotate(text='%s' %species, xy=(wline-0.09, 0.3), rotation=90, fontsize=10)\n",
    "plt.title('%s' %elems_to_include[0])\n",
    "# plt.xlim(4000, 4020)\n",
    "# plt.xlim(4128, 4131.5) #Eu\n",
    "# plt.xlim(4129.5, 4130) #Eu\n",
    "# plt.xlim(4203, 4207) #Eu\n",
    "# plt.xlim(3815, 3825)\n",
    "\n",
    "# plt.xlim(4125, 4135) #Ba\n",
    "# plt.xlim(4164, 4168) #Ba\n",
    "# plt.xlim(4285, 4290) #Ba\n",
    "# plt.xlim(4552, 4556) #Ba\n",
    "# plt.xlim(4932, 4936) #Ba\n",
    "\n",
    "# plt.xlim(4213, 4219) #Sr\n",
    "# plt.xlim(4075, 4080) #Sr\n",
    "plt.ylim(0.0, 1.1)\n",
    "\n",
    "plt.xlabel(r'Wavelength ($\\AA$)', size=14)\n",
    "plt.ylabel('Normalised flux', size=15)\n",
    "plt.show()"
   ]
  },
  {
   "cell_type": "code",
   "execution_count": 21,
   "id": "5539ce1a-3b49-41b1-8308-4fe3c6f93441",
   "metadata": {},
   "outputs": [
    {
     "data": {
      "text/plain": [
       "(array([7.98118162]), array([0.20159166]))"
      ]
     },
     "execution_count": 21,
     "metadata": {},
     "output_type": "execute_result"
    }
   ],
   "source": [
    "sme.fitresults.values, sme.fitresults.uncertainties"
   ]
  },
  {
   "cell_type": "code",
   "execution_count": 22,
   "id": "4b2f1213-06ee-4296-a186-a058cc08a077",
   "metadata": {},
   "outputs": [
    {
     "data": {
      "text/plain": [
       "array([ True,  True,  True,  True])"
      ]
     },
     "execution_count": 22,
     "metadata": {},
     "output_type": "execute_result"
    }
   ],
   "source": [
    "sme.nlte.flags"
   ]
  },
  {
   "cell_type": "code",
   "execution_count": 23,
   "id": "7a6112e0-8db7-4d98-bded-70e58cfa7105",
   "metadata": {},
   "outputs": [
    {
     "data": {
      "text/plain": [
       "array(['Mg 1', 'Fe 1', 'Fe 1', 'Fe 1'], dtype='<U4')"
      ]
     },
     "execution_count": 23,
     "metadata": {},
     "output_type": "execute_result"
    }
   ],
   "source": [
    "sme.linelist.species"
   ]
  },
  {
   "cell_type": "code",
   "execution_count": 24,
   "id": "d884d5bb-16b9-4902-9af0-4437ee33e7a0",
   "metadata": {},
   "outputs": [
    {
     "data": {
      "text/plain": [
       "True"
      ]
     },
     "execution_count": 24,
     "metadata": {},
     "output_type": "execute_result"
    }
   ],
   "source": [
    "'Mg 1' in sme.linelist.species[sme.nlte.flags]"
   ]
  },
  {
   "cell_type": "code",
   "execution_count": 68,
   "id": "7845f64b-7405-4717-8109-58fe7d4d845d",
   "metadata": {},
   "outputs": [
    {
     "data": {
      "text/plain": [
       "1e-08"
      ]
     },
     "execution_count": 68,
     "metadata": {},
     "output_type": "execute_result"
    }
   ],
   "source": [
    "sme.accxt, sme.accgt, sme.accft = tol, tol, tol\n",
    "sme.leastsquare3_ftol, sme.leastsquares_gtol, sme.leastsquares_xtol = tol, tol, tol\n",
    "sme.accwi, sme.accrt, sme.clim, sme.chirat = tol, tol, tol, tol"
   ]
  },
  {
   "cell_type": "code",
   "execution_count": null,
   "id": "0254672d-5ec7-4204-a3be-fefb6b998034",
   "metadata": {},
   "outputs": [],
   "source": [
    "sme.nlte.flags"
   ]
  }
 ],
 "metadata": {
  "kernelspec": {
   "display_name": "Python 3 (ipykernel)",
   "language": "python",
   "name": "python3"
  },
  "language_info": {
   "codemirror_mode": {
    "name": "ipython",
    "version": 3
   },
   "file_extension": ".py",
   "mimetype": "text/x-python",
   "name": "python",
   "nbconvert_exporter": "python",
   "pygments_lexer": "ipython3",
   "version": "3.9.12"
  }
 },
 "nbformat": 4,
 "nbformat_minor": 5
}
