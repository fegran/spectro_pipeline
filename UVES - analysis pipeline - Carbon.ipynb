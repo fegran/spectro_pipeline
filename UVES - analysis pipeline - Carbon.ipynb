{
 "cells": [
  {
   "cell_type": "code",
   "execution_count": 1,
   "id": "1de69ad8-eebc-43c3-8931-f9a5adb9ca2e",
   "metadata": {
    "tags": []
   },
   "outputs": [],
   "source": [
    "from pysme.linelist.vald import ValdFile\n",
    "from pysme.sme import SME_Structure\n",
    "from pysme.solve import solve\n",
    "from pysme.abund import Abund\n",
    "from pysme import sme as SME\n",
    "from pysme import util\n",
    "\n",
    "from pysme.synthesize import synthesize_spectrum\n",
    "from astropy.constants import c\n",
    "from pysme.util import vac2air\n",
    "\n",
    "from joblib import Parallel, delayed\n",
    "import matplotlib.pyplot as plt\n",
    "import pandas as pd\n",
    "import numpy as np\n",
    "import warnings\n",
    "import sys\n",
    "import os\n",
    "\n",
    "warnings.filterwarnings('ignore')"
   ]
  },
  {
   "cell_type": "code",
   "execution_count": 2,
   "id": "f3759c1c-5ea4-4aec-960d-97f7867dca59",
   "metadata": {
    "tags": []
   },
   "outputs": [],
   "source": [
    "os.chdir('/home/fgran/iSpec/')\n",
    "import ispec\n",
    "sys.path.append('/home/fgran/iSpec/')"
   ]
  },
  {
   "cell_type": "code",
   "execution_count": 3,
   "id": "872d5502-3cfa-4241-9647-9dbdc4d2a68a",
   "metadata": {
    "tags": []
   },
   "outputs": [],
   "source": [
    "#Move to the correct directory: Pristine-UVES\n",
    "os.chdir('/store/teams/cosmos/fgran/data/Pristine-UVES/')"
   ]
  },
  {
   "cell_type": "code",
   "execution_count": 4,
   "id": "def8774a-2948-4d7e-8212-d4b282d0b36f",
   "metadata": {},
   "outputs": [],
   "source": [
    "os.environ['NUMEXPR_MAX_THREADS'] = '80' #change this number using the correct number of cores/threads in jupyter.slurm"
   ]
  },
  {
   "cell_type": "code",
   "execution_count": 5,
   "id": "b4d2273f-2f1c-4636-bbc9-cc48f889639a",
   "metadata": {
    "tags": []
   },
   "outputs": [],
   "source": [
    "#Prepare catalogue ingestion"
   ]
  },
  {
   "cell_type": "code",
   "execution_count": 6,
   "id": "f317b8a3-0598-44b9-9d32-d1111153f455",
   "metadata": {
    "tags": []
   },
   "outputs": [],
   "source": [
    "uves = pd.read_csv('tmp_merged/UVES_p111_p112_pristinedr1_xgboost_logg_atm_uncs_fe.csv')"
   ]
  },
  {
   "cell_type": "code",
   "execution_count": 7,
   "id": "02ea2a58-261f-4bc9-a993-957b6ecb1511",
   "metadata": {
    "tags": []
   },
   "outputs": [
    {
     "data": {
      "text/html": [
       "<div>\n",
       "<style scoped>\n",
       "    .dataframe tbody tr th:only-of-type {\n",
       "        vertical-align: middle;\n",
       "    }\n",
       "\n",
       "    .dataframe tbody tr th {\n",
       "        vertical-align: top;\n",
       "    }\n",
       "\n",
       "    .dataframe thead th {\n",
       "        text-align: right;\n",
       "    }\n",
       "</style>\n",
       "<table border=\"1\" class=\"dataframe\">\n",
       "  <thead>\n",
       "    <tr style=\"text-align: right;\">\n",
       "      <th></th>\n",
       "      <th>source_id</th>\n",
       "      <th>ebv</th>\n",
       "      <th>g0</th>\n",
       "      <th>eg</th>\n",
       "      <th>bp0</th>\n",
       "      <th>ebp</th>\n",
       "      <th>rp0</th>\n",
       "      <th>erp</th>\n",
       "      <th>cahk0</th>\n",
       "      <th>ecahk</th>\n",
       "      <th>...</th>\n",
       "      <th>sme_fe_vrad3</th>\n",
       "      <th>fe_nlte</th>\n",
       "      <th>efe_nlte_sme</th>\n",
       "      <th>efe_nlte_fit</th>\n",
       "      <th>vmac_nlte</th>\n",
       "      <th>evmac_nlte_sme</th>\n",
       "      <th>evmac_nlte_fit</th>\n",
       "      <th>sme_nlte_vrad1</th>\n",
       "      <th>sme_nlte_vrad2</th>\n",
       "      <th>sme_nlte_vrad3</th>\n",
       "    </tr>\n",
       "  </thead>\n",
       "  <tbody>\n",
       "    <tr>\n",
       "      <th>0</th>\n",
       "      <td>1166634514845213568</td>\n",
       "      <td>0.034659</td>\n",
       "      <td>11.670373</td>\n",
       "      <td>0.002767</td>\n",
       "      <td>12.097350</td>\n",
       "      <td>0.002867</td>\n",
       "      <td>11.063974</td>\n",
       "      <td>0.003820</td>\n",
       "      <td>13.051166</td>\n",
       "      <td>0.009495</td>\n",
       "      <td>...</td>\n",
       "      <td>-0.160502</td>\n",
       "      <td>7.502974</td>\n",
       "      <td>0.253366</td>\n",
       "      <td>0.005697</td>\n",
       "      <td>5.270773</td>\n",
       "      <td>5.138584</td>\n",
       "      <td>0.091985</td>\n",
       "      <td>0.085946</td>\n",
       "      <td>0.066876</td>\n",
       "      <td>-0.149777</td>\n",
       "    </tr>\n",
       "    <tr>\n",
       "      <th>1</th>\n",
       "      <td>1172165023972931072</td>\n",
       "      <td>0.026574</td>\n",
       "      <td>12.876005</td>\n",
       "      <td>0.002772</td>\n",
       "      <td>13.314315</td>\n",
       "      <td>0.003091</td>\n",
       "      <td>12.258079</td>\n",
       "      <td>0.003841</td>\n",
       "      <td>14.291629</td>\n",
       "      <td>0.016091</td>\n",
       "      <td>...</td>\n",
       "      <td>-0.151334</td>\n",
       "      <td>7.515217</td>\n",
       "      <td>0.244008</td>\n",
       "      <td>0.004638</td>\n",
       "      <td>4.753303</td>\n",
       "      <td>5.172595</td>\n",
       "      <td>0.079677</td>\n",
       "      <td>0.068610</td>\n",
       "      <td>0.068886</td>\n",
       "      <td>-0.103765</td>\n",
       "    </tr>\n",
       "  </tbody>\n",
       "</table>\n",
       "<p>2 rows × 121 columns</p>\n",
       "</div>"
      ],
      "text/plain": [
       "             source_id       ebv         g0        eg        bp0       ebp  \\\n",
       "0  1166634514845213568  0.034659  11.670373  0.002767  12.097350  0.002867   \n",
       "1  1172165023972931072  0.026574  12.876005  0.002772  13.314315  0.003091   \n",
       "\n",
       "         rp0       erp      cahk0     ecahk  ...  sme_fe_vrad3   fe_nlte  \\\n",
       "0  11.063974  0.003820  13.051166  0.009495  ...     -0.160502  7.502974   \n",
       "1  12.258079  0.003841  14.291629  0.016091  ...     -0.151334  7.515217   \n",
       "\n",
       "   efe_nlte_sme  efe_nlte_fit  vmac_nlte  evmac_nlte_sme  evmac_nlte_fit  \\\n",
       "0      0.253366      0.005697   5.270773        5.138584        0.091985   \n",
       "1      0.244008      0.004638   4.753303        5.172595        0.079677   \n",
       "\n",
       "   sme_nlte_vrad1 sme_nlte_vrad2 sme_nlte_vrad3  \n",
       "0        0.085946       0.066876      -0.149777  \n",
       "1        0.068610       0.068886      -0.103765  \n",
       "\n",
       "[2 rows x 121 columns]"
      ]
     },
     "execution_count": 7,
     "metadata": {},
     "output_type": "execute_result"
    }
   ],
   "source": [
    "uves.head(2)"
   ]
  },
  {
   "cell_type": "code",
   "execution_count": null,
   "id": "ad888ea6-10da-402a-9c38-d30a6c24a54c",
   "metadata": {},
   "outputs": [],
   "source": []
  },
  {
   "cell_type": "code",
   "execution_count": 8,
   "id": "67dcb35f-27fa-4da7-a1d5-d818ea9f2288",
   "metadata": {
    "tags": []
   },
   "outputs": [
    {
     "name": "stderr",
     "output_type": "stream",
     "text": [
      "[2024-11-14 11:27:26,273] [INFO] [vald:loads:173]: Loading VALD file linelist/VALD_korg_linelist_3000_9000.lin\n"
     ]
    },
    {
     "name": "stdout",
     "output_type": "stream",
     "text": [
      "\u001b[32mINFO - Loading VALD file linelist/VALD_korg_linelist_3000_9000.lin\u001b[0m\n"
     ]
    },
    {
     "name": "stderr",
     "output_type": "stream",
     "text": [
      "[2024-11-14 11:27:27,797] [WARNING] [vald:parse_references:530]: Could not find citation key: FBHM\n",
      "[2024-11-14 11:27:27,799] [DEBUG] [vald:parse_references:531]: 'fbhm'\n"
     ]
    },
    {
     "name": "stdout",
     "output_type": "stream",
     "text": [
      "\u001b[33mWARNING - Could not find citation key: FBHM\u001b[0m\n",
      "Number of lines in the linelist: 41861\n"
     ]
    }
   ],
   "source": [
    "#pysme that only need to be executed once\n",
    "# linelist_short_all = ValdFile('linelist/3800-6800_short.lin')\n",
    "linelist = ValdFile('linelist/VALD_korg_linelist_3000_9000.lin', medium='air')\n",
    "linelist.wlcent = vac2air(linelist.wlcent, 'A')\n",
    "\n",
    "print('Number of lines in the linelist: %d' %linelist.species.size)\n",
    "\n",
    "delta_H_line = 10. #AA\n",
    "delta_line = 0.75 #AA\n",
    "wl_G_band = 4300 #AA\n",
    "delta_G_band = 40. #AA\n",
    "\n",
    "wl_Halpha_line = 6562.79 #AA\n",
    "delta_Halpha = 1.0 #AA\n",
    "wl_Hbeta_line = 4861.35 #AA\n",
    "delta_Hbeta = 0.75 #AA"
   ]
  },
  {
   "cell_type": "code",
   "execution_count": 9,
   "id": "823cffda-1459-4ce9-a97e-5946f2d47f83",
   "metadata": {
    "tags": []
   },
   "outputs": [],
   "source": [
    "wmin_blue = 4200\n",
    "wmax_blue = 4350"
   ]
  },
  {
   "cell_type": "code",
   "execution_count": 10,
   "id": "0d841db0-afcd-4d0b-9ae7-974a6ff1d69e",
   "metadata": {
    "tags": []
   },
   "outputs": [],
   "source": [
    "linelist = linelist[(linelist.wlcent > wmin_blue) & (linelist.wlcent < wmax_blue)]"
   ]
  },
  {
   "cell_type": "code",
   "execution_count": 11,
   "id": "50f4dadb-63af-485d-9ee8-a6321827bf8c",
   "metadata": {
    "tags": []
   },
   "outputs": [],
   "source": [
    "#Create solar scaled atmosphere with [alpha/Fe] = +0.4\n",
    "solar = SME_Structure()\n",
    "solar.abund = Abund(0.0, 'asplund2009')\n",
    "\n",
    "abund = solar.abund.pattern\n",
    "abund['O'] = abund['O'] + 0.4\n",
    "abund['Ne'] = abund['Ne'] + 0.4\n",
    "abund['Mg'] = abund['Mg'] + 0.4\n",
    "abund['Si'] = abund['Si'] + 0.4\n",
    "abund['S'] = abund['S'] + 0.4\n",
    "abund['Ar'] = abund['Ar'] + 0.4\n",
    "abund['Ca'] = abund['Ca'] + 0.4\n",
    "abund['Ti'] = abund['Ti'] + 0.4"
   ]
  },
  {
   "cell_type": "code",
   "execution_count": null,
   "id": "373a412c-f8cd-4f00-83d1-9026969451ec",
   "metadata": {
    "tags": []
   },
   "outputs": [],
   "source": []
  },
  {
   "cell_type": "code",
   "execution_count": 12,
   "id": "9be265c8-4ed3-438f-8e0e-700ff4e71bd5",
   "metadata": {
    "tags": []
   },
   "outputs": [],
   "source": [
    "elems_to_include = ['C 1', 'C2 1', 'CH 1', 'CN 1']"
   ]
  },
  {
   "cell_type": "code",
   "execution_count": 13,
   "id": "1e410df3-c179-4d8f-a41f-b7452a2350ac",
   "metadata": {
    "tags": []
   },
   "outputs": [],
   "source": [
    "mask_cont = pd.read_csv('continuum_model/sme_cont_mask_blue', delim_whitespace=True, names=['wl', 'mask_values'])"
   ]
  },
  {
   "cell_type": "code",
   "execution_count": 14,
   "id": "89863909-bdcc-4cbf-b5f2-592f7d6d15c3",
   "metadata": {
    "tags": []
   },
   "outputs": [],
   "source": [
    "#SME parallel and limits functions"
   ]
  },
  {
   "cell_type": "code",
   "execution_count": 15,
   "id": "34a8f3c9-fa8b-4892-a043-f090474760a1",
   "metadata": {
    "tags": []
   },
   "outputs": [],
   "source": [
    "def limits(species = 'C', species_to_keep = [], spec_id = '', sme_file = '', wlmin = 0, wlmax = 0, start = -2.0, stop = 2.0, step = 0.25):\n",
    "    \n",
    "    # plt.figure(figsize=(7,7), dpi=100)\n",
    "    \n",
    "    util.start_logging('logs/elems_limits.dat', level='WARNING')\n",
    "    species = 'C'\n",
    "    limit = solar.abund.get_element('%s' %species)\n",
    "    # start, stop, step = -2.0, 2.0, 0.25\n",
    "\n",
    "    for delta_abund in np.linspace(start, stop, int((stop - start) / step + 1)):\n",
    "\n",
    "        synth = SME_Structure.load(sme_file)\n",
    "        # if delta_abund == start: print(synth.abund.get_element('C'))\n",
    "        # if delta_abund == start: plt.step(synth.wave.data, synth.synth.data, lw=1, color='r')\n",
    "        synth.linelist = linelist[(linelist.wlcent > wlmin) & (linelist.wlcent < wlmax)]\n",
    "\n",
    "        f_wl_limit = (synth.wave.data > wlmin) & (synth.wave.data < wlmax)\n",
    "\n",
    "        for elem in synth.abund.pattern.keys():\n",
    "            if (elem == 'H') or (elem == 'He'):\n",
    "                continue\n",
    "            if elem in species_to_keep:\n",
    "                continue\n",
    "            synth.abund.update_pattern({elem:0.0})\n",
    "        synth.abund.update_pattern({'%s' %species: solar.abund.get_element('%s' %species) + delta_abund})\n",
    "        # print('%s' %species, solar.abund.get_element('%s' %species) + delta_abund)\n",
    "\n",
    "        synth.vrad_flag = 'None'\n",
    "        synth.cscale_flag = 'None'\n",
    "        synth = synthesize_spectrum(synth)\n",
    "        # synth_data = synth.synth.data\n",
    "\n",
    "        mean_synth = np.percentile(synth.synth.data[f_wl_limit], 10)\n",
    "        std_spec = np.std(synth.spec.data[f_wl_limit])\n",
    "        \n",
    "        # if delta_abund == start: plt.step(synth.wave.data, synth.spec.data, lw=1, color='k')\n",
    "        # if delta_abund == start: plt.hlines(1.-std_spec, wlmin, wlmax, color='b', lw=1, ls='--')\n",
    "        # plt.step(synth.wave.data, synth.synth.data, lw=1, color='g', alpha=0.2)\n",
    "        # plt.hlines(mean_synth, wlmin, wlmax, color='r', lw=1, ls='--', alpha=0.3)\n",
    "        # plt.xlim(wlmin, wlmax)\n",
    "\n",
    "        #If mean synth flux is more (bigger depth) that std: you are in outside limit regime\n",
    "        #linspace in the starst is fliped to ascend in abundance space\n",
    "        if mean_synth < (1. - std_spec):\n",
    "            limit = solar.abund.get_element('%s' %species) + delta_abund - step/2.\n",
    "            # plt.show()\n",
    "            return limit\n",
    "        else:\n",
    "            continue\n",
    "    # plt.show()\n",
    "    return limit"
   ]
  },
  {
   "cell_type": "code",
   "execution_count": 16,
   "id": "fd78b968-19d9-4f19-8303-c64a580ca5aa",
   "metadata": {
    "tags": []
   },
   "outputs": [],
   "source": [
    "def sme_parallel(i, input_row, tol=1e-8):\n",
    "    \n",
    "    #Create SME structures\n",
    "    sme = SME_Structure()\n",
    "\n",
    "    sme.ipres, sme.iptype, sme.gam6, sme.h2broad = 42000, 'gauss', True, True\n",
    "\n",
    "    sme.atmo.source, sme.atmo.method, sme.atmo.geom = 'marcs2012s_t2.0.sav', 'grid', 'SPH'\n",
    "\n",
    "    sme.accxt, sme.accgt, sme.accft = tol, tol, tol\n",
    "    sme.leastsquare3_ftol, sme.leastsquares_gtol, sme.leastsquares_xtol = tol, tol, tol\n",
    "    sme.accwi, sme.accrt, sme.clim, sme.chirat = tol, tol, tol, tol    \n",
    "    sme.vrad_bounds = -5., 5.\n",
    "\n",
    "    sme.cscale_flag = 'constant'\n",
    "    # sme.cscale = 1.0\n",
    "    sme.cscale_type = 'mask' #'mcmc'\n",
    "    sme.fitresults.maxiter = 50\n",
    "\n",
    "    # Redirect output to logs/RUN*/*.txt\n",
    "    util.start_logging(log_file='logs/cfe_run.txt', level='ERROR')\n",
    "\n",
    "    #Reading norm specta from files\n",
    "    blue_spec = ispec.read_spectrum('norm_RV_corr/%s/blue_%s' %(input_row.run, input_row.blue_file))\n",
    "    blue_spec.waveobs = blue_spec.waveobs * 10.\n",
    "\n",
    "    sme.wave = blue_spec.waveobs[(blue_spec.waveobs > wmin_blue) & (blue_spec.waveobs < wmax_blue)]\n",
    "    sme.spec = blue_spec.flux[(blue_spec.waveobs > wmin_blue) & (blue_spec.waveobs < wmax_blue)]\n",
    "    sme.uncs = blue_spec.err[(blue_spec.waveobs > wmin_blue) & (blue_spec.waveobs < wmax_blue)]\n",
    "    del blue_spec\n",
    "\n",
    "    #Masking process to derive Teff, logg, monh and vmic (vmac if needed)\n",
    "    # The mask values are: 0: bad pixel, 1: line pixel, 2: continuum pixel\n",
    "    line_regions = mask_cont.mask_values.values[(mask_cont.wl.values > wmin_blue) & (mask_cont.wl.values < wmax_blue)] \n",
    "    ll_mask = np.zeros(linelist.species.size).astype(bool)\n",
    "\n",
    "    for wline, mask_species in linelist[['wlcent', 'species']]:\n",
    "        if mask_species in elems_to_include:\n",
    "            idx_ = (sme.wave.data > wline-delta_line) & (sme.wave.data < wline+delta_line)\n",
    "            line_regions[idx_] = 1\n",
    "\n",
    "            ll_mask[(linelist.wlcent > wline-delta_line) & (linelist.wlcent < wline+delta_line)] = True\n",
    "            continue\n",
    "    del idx_\n",
    "\n",
    "    #Merge all the line_regions as int\n",
    "    line_regions = line_regions.astype(int)\n",
    "    line_regions[sme.spec.data == 0.0] = 0\n",
    "    sme.mask = line_regions\n",
    "    del line_regions\n",
    "\n",
    "    sme.linelist = linelist[ll_mask]\n",
    "    del ll_mask\n",
    "\n",
    "    #Abundance scaling to create realistic synthetics\n",
    "    sme.abund = abund\n",
    "    #RV determination for each chip\n",
    "    sme.vrad_flag = 'whole'\n",
    "\n",
    "    #input guesses from SME\n",
    "    sme.teff = input_row.teff\n",
    "    sme.logg = input_row.logg\n",
    "    sme.monh = input_row.monh\n",
    "    sme.vmic = input_row.vmic\n",
    "    sme.vmac = input_row.vmac_fe\n",
    "    sme.vrad = input_row.sme_fe_vrad1\n",
    "\n",
    "    sme.abund.update_pattern({'Fe':uves.fe.values[i]})\n",
    "    sme.abund.update_pattern({'C':solar.abund.get_element('C') + sme.monh})\n",
    "    \n",
    "    #NLTE grids\n",
    "    # sme.nlte.set_nlte('Fe', 'nlte_Fe_ama51_Feb2022_pysme.grd')\n",
    "    # sme.nlte.set_nlte('C', 'nlte_C_ama51_pysme.grd')\n",
    "\n",
    "    fitparameters = ['abund C']\n",
    "    #Do the heavy lifting\n",
    "    sme = solve(sme, fitparameters)\n",
    "\n",
    "    c, ec_sme, ec_fit, niter_c = sme.fitresults.values[0], sme.fitresults.uncertainties[0], sme.fitresults.fit_uncertainties[0], sme.fitresults.iterations\n",
    "\n",
    "    #Bad C cases:\n",
    "    if (c > 10.) | (c < 4.) | (niter_c == 1.):\n",
    "\n",
    "        sme.abund.update_pattern({'C':solar.abund.get_element('C')})\n",
    "        sme.cscale = 1.0\n",
    "        \n",
    "        sme.accxt, sme.accgt, sme.accft = 1e-10, 1e-10, 1e-10\n",
    "        sme.leastsquare3_ftol, sme.leastsquares_gtol, sme.leastsquares_xtol = 1e-10, 1e-10, 1e-10\n",
    "        sme.accwi, sme.accrt, sme.clim, sme.chirat = 1e-10, 1e-10, 1e-10, 1e-10   \n",
    "\n",
    "        sme = solve(sme, fitparameters)\n",
    "        c, ec_sme, ec_fit, niter_c = sme.fitresults.values[0], sme.fitresults.uncertainties[0], sme.fitresults.fit_uncertainties[0], sme.fitresults.iterations\n",
    "\n",
    "    sme.save('sme_save/UVES_cfe_%s' %input_row.spec_id)\n",
    "    del sme\n",
    "    \n",
    "    #Limits: checking\n",
    "    is_limit = (c < 7.0) | (c > 10.) | (niter_c == 1.)\n",
    "    if is_limit:\n",
    "        c = limits('C', [], input_row.spec_id, 'sme_save/UVES_cfe_%s.sme' %input_row.spec_id, wlmin=4309, wlmax=4316)\n",
    "\n",
    "    data_to_write = np.vstack((input_row.spec_id, c, ec_sme, ec_fit, is_limit, niter_c)).T\n",
    "\n",
    "    columns_c = ['spec_id', 'c', 'ec_sme', 'ec_fit', 'is_limit_c', 'niter_c']\n",
    "    columns_c_nlte = ['spec_id', 'c_nlte', 'ec_nlte_sme', 'ec_nlte_fit', 'is_limit_c_nlte', 'niter_c_nlte']\n",
    "    pd.DataFrame(data=data_to_write, columns=columns_c).to_csv('tmp_carbon/UVES_cfe_%s.csv' %input_row.spec_id, index=False, header=False)\n",
    "    del data_to_write\n",
    "\n",
    "    return"
   ]
  },
  {
   "cell_type": "code",
   "execution_count": null,
   "id": "c451fab8-4bbf-4a3b-a90f-661685819749",
   "metadata": {},
   "outputs": [],
   "source": []
  },
  {
   "cell_type": "code",
   "execution_count": 74,
   "id": "2b1e3919-cf32-4aaf-8d53-c62413c8fb47",
   "metadata": {
    "collapsed": true,
    "jupyter": {
     "outputs_hidden": true
    },
    "tags": []
   },
   "outputs": [
    {
     "name": "stderr",
     "output_type": "stream",
     "text": [
      "[Parallel(n_jobs=-1)]: Using backend LokyBackend with 80 concurrent workers.\n",
      "[2024-11-01 12:24:21,180] [WARNING] [warnings:_showwarnmsg:109]: /misc/store/home_zztop/fgran/.local/lib/python3.9/site-packages/pysme/synthesize.py:565: Warning: WARNING: EOS-computed electron density differs from the model by 77% in layer 1\n",
      "  dll.Ionization(0)\n",
      "\n",
      "[2024-11-01 12:24:55,037] [WARNING] [warnings:_showwarnmsg:109]: /misc/store/home_zztop/fgran/.local/lib/python3.9/site-packages/pysme/synthesize.py:565: Warning: WARNING: EOS-computed electron density differs from the model by 77% in layer 1\n",
      "  dll.Ionization(0)\n",
      "\n",
      "[2024-11-01 12:25:28,892] [WARNING] [warnings:_showwarnmsg:109]: /misc/store/home_zztop/fgran/.local/lib/python3.9/site-packages/pysme/synthesize.py:565: Warning: WARNING: EOS-computed electron density differs from the model by 77% in layer 1\n",
      "  dll.Ionization(0)\n",
      "\n",
      "[2024-11-01 12:26:03,346] [WARNING] [warnings:_showwarnmsg:109]: /misc/store/home_zztop/fgran/.local/lib/python3.9/site-packages/pysme/synthesize.py:565: Warning: WARNING: EOS-computed electron density differs from the model by 77% in layer 1\n",
      "  dll.Ionization(0)\n",
      "\n",
      "[2024-11-01 12:26:38,018] [WARNING] [warnings:_showwarnmsg:109]: /misc/store/home_zztop/fgran/.local/lib/python3.9/site-packages/pysme/synthesize.py:565: Warning: WARNING: EOS-computed electron density differs from the model by 77% in layer 1\n",
      "  dll.Ionization(0)\n",
      "\n",
      "[2024-11-01 12:27:12,597] [WARNING] [warnings:_showwarnmsg:109]: /misc/store/home_zztop/fgran/.local/lib/python3.9/site-packages/pysme/synthesize.py:565: Warning: WARNING: EOS-computed electron density differs from the model by 77% in layer 1\n",
      "  dll.Ionization(0)\n",
      "\n",
      "[2024-11-01 12:27:47,503] [WARNING] [warnings:_showwarnmsg:109]: /misc/store/home_zztop/fgran/.local/lib/python3.9/site-packages/pysme/synthesize.py:565: Warning: WARNING: EOS-computed electron density differs from the model by 77% in layer 1\n",
      "  dll.Ionization(0)\n",
      "\n",
      "[2024-11-01 12:34:00,275] [WARNING] [warnings:_showwarnmsg:109]: /misc/store/home_zztop/fgran/.local/lib/python3.9/site-packages/pysme/iliffe_vector.py:164: RuntimeWarning: divide by zero encountered in divide\n",
      "  arr = ufunc(*inputs, **kwargs)\n",
      "\n",
      "[2024-11-01 13:01:54,559] [WARNING] [warnings:_showwarnmsg:109]: /misc/store/home_zztop/fgran/.local/lib/python3.9/site-packages/pysme/synthesize.py:565: Warning: WARNING: EOS-computed electron density differs from the model by 53% in layer 1\n",
      "  dll.Ionization(0)\n",
      "\n",
      "[2024-11-01 13:02:21,900] [WARNING] [warnings:_showwarnmsg:109]: /misc/store/home_zztop/fgran/.local/lib/python3.9/site-packages/pysme/synthesize.py:565: Warning: WARNING: EOS-computed electron density differs from the model by 53% in layer 1\n",
      "  dll.Ionization(0)\n",
      "\n",
      "[2024-11-01 13:02:49,344] [WARNING] [warnings:_showwarnmsg:109]: /misc/store/home_zztop/fgran/.local/lib/python3.9/site-packages/pysme/synthesize.py:565: Warning: WARNING: EOS-computed electron density differs from the model by 53% in layer 1\n",
      "  dll.Ionization(0)\n",
      "\n",
      "[2024-11-01 13:03:16,941] [WARNING] [warnings:_showwarnmsg:109]: /misc/store/home_zztop/fgran/.local/lib/python3.9/site-packages/pysme/synthesize.py:565: Warning: WARNING: EOS-computed electron density differs from the model by 53% in layer 1\n",
      "  dll.Ionization(0)\n",
      "\n",
      "[2024-11-01 13:03:44,682] [WARNING] [warnings:_showwarnmsg:109]: /misc/store/home_zztop/fgran/.local/lib/python3.9/site-packages/pysme/synthesize.py:565: Warning: WARNING: EOS-computed electron density differs from the model by 53% in layer 1\n",
      "  dll.Ionization(0)\n",
      "\n",
      "[2024-11-01 13:04:12,661] [WARNING] [warnings:_showwarnmsg:109]: /misc/store/home_zztop/fgran/.local/lib/python3.9/site-packages/pysme/synthesize.py:565: Warning: WARNING: EOS-computed electron density differs from the model by 53% in layer 1\n",
      "  dll.Ionization(0)\n",
      "\n",
      "[2024-11-01 13:04:40,819] [WARNING] [warnings:_showwarnmsg:109]: /misc/store/home_zztop/fgran/.local/lib/python3.9/site-packages/pysme/synthesize.py:565: Warning: WARNING: EOS-computed electron density differs from the model by 53% in layer 1\n",
      "  dll.Ionization(0)\n",
      "\n",
      "[2024-11-01 13:05:09,151] [WARNING] [warnings:_showwarnmsg:109]: /misc/store/home_zztop/fgran/.local/lib/python3.9/site-packages/pysme/synthesize.py:565: Warning: WARNING: EOS-computed electron density differs from the model by 53% in layer 1\n",
      "  dll.Ionization(0)\n",
      "\n"
     ]
    },
    {
     "name": "stdout",
     "output_type": "stream",
     "text": [
      "CPU times: user 1.24 s, sys: 941 ms, total: 2.18 s\n",
      "Wall time: 1h 36min 11s\n"
     ]
    },
    {
     "name": "stderr",
     "output_type": "stream",
     "text": [
      "[Parallel(n_jobs=-1)]: Done 160 out of 160 | elapsed: 96.2min finished\n"
     ]
    },
    {
     "data": {
      "text/plain": [
       "[None,\n",
       " None,\n",
       " None,\n",
       " None,\n",
       " None,\n",
       " None,\n",
       " None,\n",
       " None,\n",
       " None,\n",
       " None,\n",
       " None,\n",
       " None,\n",
       " None,\n",
       " None,\n",
       " None,\n",
       " None,\n",
       " None,\n",
       " None,\n",
       " None,\n",
       " None,\n",
       " None,\n",
       " None,\n",
       " None,\n",
       " None,\n",
       " None,\n",
       " None,\n",
       " None,\n",
       " None,\n",
       " None,\n",
       " None,\n",
       " None,\n",
       " None,\n",
       " None,\n",
       " None,\n",
       " None,\n",
       " None,\n",
       " None,\n",
       " None,\n",
       " None,\n",
       " None,\n",
       " None,\n",
       " None,\n",
       " None,\n",
       " None,\n",
       " None,\n",
       " None,\n",
       " None,\n",
       " None,\n",
       " None,\n",
       " None,\n",
       " None,\n",
       " None,\n",
       " None,\n",
       " None,\n",
       " None,\n",
       " None,\n",
       " None,\n",
       " None,\n",
       " None,\n",
       " None,\n",
       " None,\n",
       " None,\n",
       " None,\n",
       " None,\n",
       " None,\n",
       " None,\n",
       " None,\n",
       " None,\n",
       " None,\n",
       " None,\n",
       " None,\n",
       " None,\n",
       " None,\n",
       " None,\n",
       " None,\n",
       " None,\n",
       " None,\n",
       " None,\n",
       " None,\n",
       " None,\n",
       " None,\n",
       " None,\n",
       " None,\n",
       " None,\n",
       " None,\n",
       " None,\n",
       " None,\n",
       " None,\n",
       " None,\n",
       " None,\n",
       " None,\n",
       " None,\n",
       " None,\n",
       " None,\n",
       " None,\n",
       " None,\n",
       " None,\n",
       " None,\n",
       " None,\n",
       " None,\n",
       " None,\n",
       " None,\n",
       " None,\n",
       " None,\n",
       " None,\n",
       " None,\n",
       " None,\n",
       " None,\n",
       " None,\n",
       " None,\n",
       " None,\n",
       " None,\n",
       " None,\n",
       " None,\n",
       " None,\n",
       " None,\n",
       " None,\n",
       " None,\n",
       " None,\n",
       " None,\n",
       " None,\n",
       " None,\n",
       " None,\n",
       " None,\n",
       " None,\n",
       " None,\n",
       " None,\n",
       " None,\n",
       " None,\n",
       " None,\n",
       " None,\n",
       " None,\n",
       " None,\n",
       " None,\n",
       " None,\n",
       " None,\n",
       " None,\n",
       " None,\n",
       " None,\n",
       " None,\n",
       " None,\n",
       " None,\n",
       " None,\n",
       " None,\n",
       " None,\n",
       " None,\n",
       " None,\n",
       " None,\n",
       " None,\n",
       " None,\n",
       " None,\n",
       " None,\n",
       " None,\n",
       " None,\n",
       " None,\n",
       " None,\n",
       " None,\n",
       " None,\n",
       " None,\n",
       " None]"
      ]
     },
     "execution_count": 74,
     "metadata": {},
     "output_type": "execute_result"
    }
   ],
   "source": [
    "%%time\n",
    "#Parallel execution\n",
    "uves = pd.read_csv('tmp_merged/UVES_p111_p112_pristinedr1_xgboost_logg_atm_uncs_fe.csv')\n",
    "Parallel(n_jobs=-1, verbose=1)(delayed(sme_parallel)(i, input_row, tol=1e-9) for i, input_row in uves.iterrows())"
   ]
  },
  {
   "cell_type": "code",
   "execution_count": null,
   "id": "78c4d9c4-f9aa-43e1-8f0a-9e30dbc1b1a3",
   "metadata": {},
   "outputs": [],
   "source": []
  },
  {
   "cell_type": "code",
   "execution_count": null,
   "id": "24cd3028-602a-4d19-912a-b1e06b4ca6dd",
   "metadata": {},
   "outputs": [],
   "source": [
    "#Merge all files"
   ]
  },
  {
   "cell_type": "code",
   "execution_count": 75,
   "id": "f5cb4745-de2b-4ccd-aa7a-a3faa68b8233",
   "metadata": {
    "tags": []
   },
   "outputs": [],
   "source": [
    "os.system('cat tmp_carbon/UVES_cfe_* > tmp_merged/UVES_cfe.csv');"
   ]
  },
  {
   "cell_type": "code",
   "execution_count": 76,
   "id": "dcacb8fb-ffa8-4096-a45c-23100f9d33e6",
   "metadata": {},
   "outputs": [
    {
     "name": "stdout",
     "output_type": "stream",
     "text": [
      "1166634514845213568_3572891_000,8.35030447957724,0.15862997591953204,0.005420913953677479,False,13\n",
      "1172165023972931072_3573727_087,8.342535202409852,0.16428165154156532,0.007953275368053424,False,13\n"
     ]
    }
   ],
   "source": [
    "!head tmp_merged/UVES_cfe.csv -n 2"
   ]
  },
  {
   "cell_type": "code",
   "execution_count": 77,
   "id": "13fc84c1-4383-47b9-8b0b-b38105c5f6ea",
   "metadata": {},
   "outputs": [],
   "source": [
    "# 'spec_id', 'c', 'ec_sme', 'ec_fit', 'is_limit_c', 'niter_c'\n",
    "!sed -i '1i \\spec_id,c,ec_sme,ec_fit,is_limit_c,niter_c' tmp_merged/UVES_cfe.csv"
   ]
  },
  {
   "cell_type": "code",
   "execution_count": null,
   "id": "1387a435-3428-4f43-9c26-2fa17cf98bad",
   "metadata": {
    "tags": []
   },
   "outputs": [],
   "source": []
  },
  {
   "cell_type": "code",
   "execution_count": 78,
   "id": "7f38f2f2-d509-49b4-ae1e-321c62a9f1b7",
   "metadata": {
    "tags": []
   },
   "outputs": [],
   "source": [
    "# %%time\n",
    "# sme = sme_parallel(0, uves.iloc[0], tol=1e-4)"
   ]
  },
  {
   "cell_type": "code",
   "execution_count": null,
   "id": "2f741605-f058-4847-b883-7975b4a6ed22",
   "metadata": {},
   "outputs": [],
   "source": []
  },
  {
   "cell_type": "code",
   "execution_count": 17,
   "id": "a1d52457-01d8-44d4-944f-52d4f58ee022",
   "metadata": {
    "tags": []
   },
   "outputs": [],
   "source": [
    "#Retrieve carbon corrections from Placco:"
   ]
  },
  {
   "cell_type": "code",
   "execution_count": 35,
   "id": "8c0182cf-138f-4273-8e36-431e9b29df36",
   "metadata": {
    "tags": []
   },
   "outputs": [],
   "source": [
    "cfe = pd.read_csv('tmp_merged/UVES_cfe.csv')\n",
    "uves = pd.read_csv('tmp_merged/UVES_p111_p112_pristinedr1_xgboost_logg_atm_uncs_fe.csv')\n",
    "uves = uves.merge(right=cfe, on='spec_id')"
   ]
  },
  {
   "cell_type": "code",
   "execution_count": 19,
   "id": "e4ff45fd-59a2-478c-82a9-e54d8da63253",
   "metadata": {},
   "outputs": [],
   "source": [
    "from selenium.webdriver.firefox.options import Options\n",
    "from seleniumrequests import Firefox\n",
    "import time"
   ]
  },
  {
   "cell_type": "code",
   "execution_count": 20,
   "id": "9a2ebfef-e220-4b3b-97ef-86ca63fc5c26",
   "metadata": {},
   "outputs": [],
   "source": [
    "firefox_options = Options()\n",
    "firefox_options.add_argument(\"--headless\")\n",
    "firefox_options.add_argument(\"--no-sandbox\")\n",
    "firefox_options.add_argument(\"--disable-dev-shm-usage\")\n",
    "firefox_options.set_preference(\"dom.forms.number\", False)"
   ]
  },
  {
   "cell_type": "code",
   "execution_count": 26,
   "id": "2f400d26-41e5-47db-bf5f-80fa48d040bd",
   "metadata": {
    "scrolled": true
   },
   "outputs": [],
   "source": [
    "def Placco_parallel(i, input_row):\n",
    "    feh = np.round(input_row.fe + input_row.monh - solar.abund.get_element('Fe'), 2)\n",
    "    cfe = np.round(input_row.c - solar.abund.get_element('C'), 2)\n",
    "    lgg = input_row.logg - 0.5\n",
    "    ff = Firefox(options=firefox_options)\n",
    "    response = ff.request('POST', 'https://vplacco.pythonanywhere.com/', data={'lgg':lgg, 'feh':feh, 'cfe':cfe})\n",
    "    carbon_correction = float(response.text.split('The [C/Fe] correction is: ')[1].split(' ([N/Fe]=0.0 case)')[0])\n",
    "    ff.quit()\n",
    "\n",
    "    data_to_write = np.vstack((input_row.spec_id, carbon_correction)).T\n",
    "    pd.DataFrame(data=data_to_write, columns=['spec_id', 'carbon_correction']).to_csv('tmp_carbon/UVES_carbon_corrections_logg_05.csv', index=False, header=False, mode='a')\n",
    "    time.sleep(np.random.randint(low=10, high=20))\n",
    "\n",
    "    return"
   ]
  },
  {
   "cell_type": "code",
   "execution_count": 27,
   "id": "c1953d1c-ed2c-4a04-ba7a-72414c0427d9",
   "metadata": {
    "collapsed": true,
    "jupyter": {
     "outputs_hidden": true
    },
    "scrolled": true
   },
   "outputs": [
    {
     "name": "stderr",
     "output_type": "stream",
     "text": [
      "[Parallel(n_jobs=5)]: Using backend LokyBackend with 5 concurrent workers.\n",
      "[Parallel(n_jobs=5)]: Done   8 tasks      | elapsed:   30.3s\n"
     ]
    },
    {
     "ename": "SessionNotCreatedException",
     "evalue": "Message: Session is already started\n",
     "output_type": "error",
     "traceback": [
      "\u001b[0;31m---------------------------------------------------------------------------\u001b[0m",
      "\u001b[0;31m_RemoteTraceback\u001b[0m                          Traceback (most recent call last)",
      "\u001b[0;31m_RemoteTraceback\u001b[0m: \n\"\"\"\nTraceback (most recent call last):\n  File \"/opt/spack/opt/spack/linux-centos8-x86_64/gcc-12.2.0/anaconda3-2022.05-n4l3yju6zheasf546pdqgbdrlwmtrkq6/lib/python3.9/site-packages/joblib/externals/loky/process_executor.py\", line 436, in _process_worker\n    r = call_item()\n  File \"/opt/spack/opt/spack/linux-centos8-x86_64/gcc-12.2.0/anaconda3-2022.05-n4l3yju6zheasf546pdqgbdrlwmtrkq6/lib/python3.9/site-packages/joblib/externals/loky/process_executor.py\", line 288, in __call__\n    return self.fn(*self.args, **self.kwargs)\n  File \"/opt/spack/opt/spack/linux-centos8-x86_64/gcc-12.2.0/anaconda3-2022.05-n4l3yju6zheasf546pdqgbdrlwmtrkq6/lib/python3.9/site-packages/joblib/_parallel_backends.py\", line 595, in __call__\n    return self.func(*args, **kwargs)\n  File \"/opt/spack/opt/spack/linux-centos8-x86_64/gcc-12.2.0/anaconda3-2022.05-n4l3yju6zheasf546pdqgbdrlwmtrkq6/lib/python3.9/site-packages/joblib/parallel.py\", line 262, in __call__\n    return [func(*args, **kwargs)\n  File \"/opt/spack/opt/spack/linux-centos8-x86_64/gcc-12.2.0/anaconda3-2022.05-n4l3yju6zheasf546pdqgbdrlwmtrkq6/lib/python3.9/site-packages/joblib/parallel.py\", line 262, in <listcomp>\n    return [func(*args, **kwargs)\n  File \"/tmp/ipykernel_1323756/952492897.py\", line 5, in Placco_parallel\n  File \"/misc/store/home_zztop/fgran/.local/lib/python3.9/site-packages/seleniumrequests/request.py\", line 148, in __init__\n    super(RequestsSessionMixin, self).__init__(*args, **kwargs)\n  File \"/misc/store/home_zztop/fgran/.local/lib/python3.9/site-packages/selenium/webdriver/firefox/webdriver.py\", line 71, in __init__\n    super().__init__(command_executor=executor, options=options)\n  File \"/misc/store/home_zztop/fgran/.local/lib/python3.9/site-packages/selenium/webdriver/remote/webdriver.py\", line 238, in __init__\n    self.start_session(capabilities)\n  File \"/misc/store/home_zztop/fgran/.local/lib/python3.9/site-packages/selenium/webdriver/remote/webdriver.py\", line 325, in start_session\n    response = self.execute(Command.NEW_SESSION, caps)[\"value\"]\n  File \"/misc/store/home_zztop/fgran/.local/lib/python3.9/site-packages/selenium/webdriver/remote/webdriver.py\", line 380, in execute\n    self.error_handler.check_response(response)\n  File \"/misc/store/home_zztop/fgran/.local/lib/python3.9/site-packages/selenium/webdriver/remote/errorhandler.py\", line 229, in check_response\n    raise exception_class(message, screen, stacktrace)\nselenium.common.exceptions.SessionNotCreatedException: Message: Session is already started\n\n\"\"\"",
      "\nThe above exception was the direct cause of the following exception:\n",
      "\u001b[0;31mSessionNotCreatedException\u001b[0m                Traceback (most recent call last)",
      "Input \u001b[0;32mIn [27]\u001b[0m, in \u001b[0;36m<cell line: 4>\u001b[0;34m()\u001b[0m\n\u001b[1;32m      1\u001b[0m \u001b[38;5;66;03m# if os.path.exists('tmp_carbon/UVES_carbon_corrections.csv'): os.system('rm tmp_carbon/UVES_carbon_corrections.csv')\u001b[39;00m\n\u001b[1;32m      2\u001b[0m \u001b[38;5;66;03m# if os.path.exists('tmp_carbon/UVES_carbon_corrections_logg_03.csv'): os.system('rm tmp_carbon/UVES_carbon_corrections_logg_03.csv')\u001b[39;00m\n\u001b[1;32m      3\u001b[0m \u001b[38;5;66;03m# if os.path.exists('tmp_carbon/UVES_carbon_corrections_logg_05.csv'): os.system('rm tmp_carbon/UVES_carbon_corrections_logg_05.csv')\u001b[39;00m\n\u001b[0;32m----> 4\u001b[0m \u001b[43mParallel\u001b[49m\u001b[43m(\u001b[49m\u001b[43mn_jobs\u001b[49m\u001b[38;5;241;43m=\u001b[39;49m\u001b[38;5;241;43m5\u001b[39;49m\u001b[43m,\u001b[49m\u001b[43m \u001b[49m\u001b[43mverbose\u001b[49m\u001b[38;5;241;43m=\u001b[39;49m\u001b[38;5;241;43m5\u001b[39;49m\u001b[43m)\u001b[49m\u001b[43m(\u001b[49m\u001b[43mdelayed\u001b[49m\u001b[43m(\u001b[49m\u001b[43mPlacco_parallel\u001b[49m\u001b[43m)\u001b[49m\u001b[43m(\u001b[49m\u001b[43mi\u001b[49m\u001b[43m,\u001b[49m\u001b[43m \u001b[49m\u001b[43minput_row\u001b[49m\u001b[43m)\u001b[49m\u001b[43m \u001b[49m\u001b[38;5;28;43;01mfor\u001b[39;49;00m\u001b[43m \u001b[49m\u001b[43mi\u001b[49m\u001b[43m,\u001b[49m\u001b[43m \u001b[49m\u001b[43minput_row\u001b[49m\u001b[43m \u001b[49m\u001b[38;5;129;43;01min\u001b[39;49;00m\u001b[43m \u001b[49m\u001b[43muves\u001b[49m\u001b[38;5;241;43m.\u001b[39;49m\u001b[43miterrows\u001b[49m\u001b[43m(\u001b[49m\u001b[43m)\u001b[49m\u001b[43m)\u001b[49m\n",
      "File \u001b[0;32m/opt/spack/opt/spack/linux-centos8-x86_64/gcc-12.2.0/anaconda3-2022.05-n4l3yju6zheasf546pdqgbdrlwmtrkq6/lib/python3.9/site-packages/joblib/parallel.py:1056\u001b[0m, in \u001b[0;36mParallel.__call__\u001b[0;34m(self, iterable)\u001b[0m\n\u001b[1;32m   1053\u001b[0m     \u001b[38;5;28mself\u001b[39m\u001b[38;5;241m.\u001b[39m_iterating \u001b[38;5;241m=\u001b[39m \u001b[38;5;28;01mFalse\u001b[39;00m\n\u001b[1;32m   1055\u001b[0m \u001b[38;5;28;01mwith\u001b[39;00m \u001b[38;5;28mself\u001b[39m\u001b[38;5;241m.\u001b[39m_backend\u001b[38;5;241m.\u001b[39mretrieval_context():\n\u001b[0;32m-> 1056\u001b[0m     \u001b[38;5;28;43mself\u001b[39;49m\u001b[38;5;241;43m.\u001b[39;49m\u001b[43mretrieve\u001b[49m\u001b[43m(\u001b[49m\u001b[43m)\u001b[49m\n\u001b[1;32m   1057\u001b[0m \u001b[38;5;66;03m# Make sure that we get a last message telling us we are done\u001b[39;00m\n\u001b[1;32m   1058\u001b[0m elapsed_time \u001b[38;5;241m=\u001b[39m time\u001b[38;5;241m.\u001b[39mtime() \u001b[38;5;241m-\u001b[39m \u001b[38;5;28mself\u001b[39m\u001b[38;5;241m.\u001b[39m_start_time\n",
      "File \u001b[0;32m/opt/spack/opt/spack/linux-centos8-x86_64/gcc-12.2.0/anaconda3-2022.05-n4l3yju6zheasf546pdqgbdrlwmtrkq6/lib/python3.9/site-packages/joblib/parallel.py:935\u001b[0m, in \u001b[0;36mParallel.retrieve\u001b[0;34m(self)\u001b[0m\n\u001b[1;32m    933\u001b[0m \u001b[38;5;28;01mtry\u001b[39;00m:\n\u001b[1;32m    934\u001b[0m     \u001b[38;5;28;01mif\u001b[39;00m \u001b[38;5;28mgetattr\u001b[39m(\u001b[38;5;28mself\u001b[39m\u001b[38;5;241m.\u001b[39m_backend, \u001b[38;5;124m'\u001b[39m\u001b[38;5;124msupports_timeout\u001b[39m\u001b[38;5;124m'\u001b[39m, \u001b[38;5;28;01mFalse\u001b[39;00m):\n\u001b[0;32m--> 935\u001b[0m         \u001b[38;5;28mself\u001b[39m\u001b[38;5;241m.\u001b[39m_output\u001b[38;5;241m.\u001b[39mextend(\u001b[43mjob\u001b[49m\u001b[38;5;241;43m.\u001b[39;49m\u001b[43mget\u001b[49m\u001b[43m(\u001b[49m\u001b[43mtimeout\u001b[49m\u001b[38;5;241;43m=\u001b[39;49m\u001b[38;5;28;43mself\u001b[39;49m\u001b[38;5;241;43m.\u001b[39;49m\u001b[43mtimeout\u001b[49m\u001b[43m)\u001b[49m)\n\u001b[1;32m    936\u001b[0m     \u001b[38;5;28;01melse\u001b[39;00m:\n\u001b[1;32m    937\u001b[0m         \u001b[38;5;28mself\u001b[39m\u001b[38;5;241m.\u001b[39m_output\u001b[38;5;241m.\u001b[39mextend(job\u001b[38;5;241m.\u001b[39mget())\n",
      "File \u001b[0;32m/opt/spack/opt/spack/linux-centos8-x86_64/gcc-12.2.0/anaconda3-2022.05-n4l3yju6zheasf546pdqgbdrlwmtrkq6/lib/python3.9/site-packages/joblib/_parallel_backends.py:542\u001b[0m, in \u001b[0;36mLokyBackend.wrap_future_result\u001b[0;34m(future, timeout)\u001b[0m\n\u001b[1;32m    539\u001b[0m \u001b[38;5;124;03m\"\"\"Wrapper for Future.result to implement the same behaviour as\u001b[39;00m\n\u001b[1;32m    540\u001b[0m \u001b[38;5;124;03mAsyncResults.get from multiprocessing.\"\"\"\u001b[39;00m\n\u001b[1;32m    541\u001b[0m \u001b[38;5;28;01mtry\u001b[39;00m:\n\u001b[0;32m--> 542\u001b[0m     \u001b[38;5;28;01mreturn\u001b[39;00m \u001b[43mfuture\u001b[49m\u001b[38;5;241;43m.\u001b[39;49m\u001b[43mresult\u001b[49m\u001b[43m(\u001b[49m\u001b[43mtimeout\u001b[49m\u001b[38;5;241;43m=\u001b[39;49m\u001b[43mtimeout\u001b[49m\u001b[43m)\u001b[49m\n\u001b[1;32m    543\u001b[0m \u001b[38;5;28;01mexcept\u001b[39;00m CfTimeoutError \u001b[38;5;28;01mas\u001b[39;00m e:\n\u001b[1;32m    544\u001b[0m     \u001b[38;5;28;01mraise\u001b[39;00m \u001b[38;5;167;01mTimeoutError\u001b[39;00m \u001b[38;5;28;01mfrom\u001b[39;00m \u001b[38;5;21;01me\u001b[39;00m\n",
      "File \u001b[0;32m/opt/spack/opt/spack/linux-centos8-x86_64/gcc-12.2.0/anaconda3-2022.05-n4l3yju6zheasf546pdqgbdrlwmtrkq6/lib/python3.9/concurrent/futures/_base.py:439\u001b[0m, in \u001b[0;36mFuture.result\u001b[0;34m(self, timeout)\u001b[0m\n\u001b[1;32m    437\u001b[0m     \u001b[38;5;28;01mraise\u001b[39;00m CancelledError()\n\u001b[1;32m    438\u001b[0m \u001b[38;5;28;01melif\u001b[39;00m \u001b[38;5;28mself\u001b[39m\u001b[38;5;241m.\u001b[39m_state \u001b[38;5;241m==\u001b[39m FINISHED:\n\u001b[0;32m--> 439\u001b[0m     \u001b[38;5;28;01mreturn\u001b[39;00m \u001b[38;5;28;43mself\u001b[39;49m\u001b[38;5;241;43m.\u001b[39;49m\u001b[43m__get_result\u001b[49m\u001b[43m(\u001b[49m\u001b[43m)\u001b[49m\n\u001b[1;32m    441\u001b[0m \u001b[38;5;28mself\u001b[39m\u001b[38;5;241m.\u001b[39m_condition\u001b[38;5;241m.\u001b[39mwait(timeout)\n\u001b[1;32m    443\u001b[0m \u001b[38;5;28;01mif\u001b[39;00m \u001b[38;5;28mself\u001b[39m\u001b[38;5;241m.\u001b[39m_state \u001b[38;5;129;01min\u001b[39;00m [CANCELLED, CANCELLED_AND_NOTIFIED]:\n",
      "File \u001b[0;32m/opt/spack/opt/spack/linux-centos8-x86_64/gcc-12.2.0/anaconda3-2022.05-n4l3yju6zheasf546pdqgbdrlwmtrkq6/lib/python3.9/concurrent/futures/_base.py:391\u001b[0m, in \u001b[0;36mFuture.__get_result\u001b[0;34m(self)\u001b[0m\n\u001b[1;32m    389\u001b[0m \u001b[38;5;28;01mif\u001b[39;00m \u001b[38;5;28mself\u001b[39m\u001b[38;5;241m.\u001b[39m_exception:\n\u001b[1;32m    390\u001b[0m     \u001b[38;5;28;01mtry\u001b[39;00m:\n\u001b[0;32m--> 391\u001b[0m         \u001b[38;5;28;01mraise\u001b[39;00m \u001b[38;5;28mself\u001b[39m\u001b[38;5;241m.\u001b[39m_exception\n\u001b[1;32m    392\u001b[0m     \u001b[38;5;28;01mfinally\u001b[39;00m:\n\u001b[1;32m    393\u001b[0m         \u001b[38;5;66;03m# Break a reference cycle with the exception in self._exception\u001b[39;00m\n\u001b[1;32m    394\u001b[0m         \u001b[38;5;28mself\u001b[39m \u001b[38;5;241m=\u001b[39m \u001b[38;5;28;01mNone\u001b[39;00m\n",
      "\u001b[0;31mSessionNotCreatedException\u001b[0m: Message: Session is already started\n"
     ]
    }
   ],
   "source": [
    "# if os.path.exists('tmp_carbon/UVES_carbon_corrections.csv'): os.system('rm tmp_carbon/UVES_carbon_corrections.csv')\n",
    "# if os.path.exists('tmp_carbon/UVES_carbon_corrections_logg_03.csv'): os.system('rm tmp_carbon/UVES_carbon_corrections_logg_03.csv')\n",
    "# if os.path.exists('tmp_carbon/UVES_carbon_corrections_logg_05.csv'): os.system('rm tmp_carbon/UVES_carbon_corrections_logg_05.csv')\n",
    "Parallel(n_jobs=5, verbose=5)(delayed(Placco_parallel)(i, input_row) for i, input_row in uves.iterrows());"
   ]
  },
  {
   "cell_type": "code",
   "execution_count": 28,
   "id": "82b19b6c-0199-4053-b9be-b52e2c4b8df0",
   "metadata": {},
   "outputs": [],
   "source": [
    "# !sed -i '1i \\spec_id,carbon_correction' tmp_carbon/UVES_carbon_corrections_logg.csv\n",
    "!sed -i '1i \\spec_id,carbon_correction_03' tmp_carbon/UVES_carbon_corrections_logg_03.csv\n",
    "# !sed -i '1i \\spec_id,carbon_correction_05' tmp_carbon/UVES_carbon_corrections_logg_05.csv"
   ]
  },
  {
   "cell_type": "code",
   "execution_count": null,
   "id": "1700e8e6-c986-40e4-9796-09be2dbbd571",
   "metadata": {},
   "outputs": [],
   "source": []
  },
  {
   "cell_type": "code",
   "execution_count": 36,
   "id": "037371ea-feb2-44a6-8a81-8450f19ab3ec",
   "metadata": {},
   "outputs": [],
   "source": [
    "carbon_correction = pd.read_csv('tmp_carbon/UVES_carbon_corrections_logg_03.csv')"
   ]
  },
  {
   "cell_type": "code",
   "execution_count": 37,
   "id": "3ca8ee2f-5245-495b-979e-400f867b7520",
   "metadata": {},
   "outputs": [],
   "source": [
    "uves = uves.merge(right=carbon_correction, on='spec_id')"
   ]
  },
  {
   "cell_type": "code",
   "execution_count": 38,
   "id": "2b7a3420-1bab-4256-b9ba-96f59866ad05",
   "metadata": {},
   "outputs": [],
   "source": [
    "uves.to_csv('tmp_merged/UVES_p111_p112_pristinedr1_xgboost_logg_atm_uncs_fe_c_corr.csv', index=False, header=True)"
   ]
  },
  {
   "cell_type": "code",
   "execution_count": null,
   "id": "677e660d-3f7d-4e71-9d93-8704e6e641f1",
   "metadata": {},
   "outputs": [],
   "source": []
  },
  {
   "cell_type": "code",
   "execution_count": 57,
   "id": "ea7687a7-5d01-4977-8568-1883af853701",
   "metadata": {},
   "outputs": [],
   "source": [
    "#Plotting to check carbon and corrections"
   ]
  },
  {
   "cell_type": "code",
   "execution_count": 39,
   "id": "3e3e008c-1e27-4178-ad7f-9571b6a7a118",
   "metadata": {},
   "outputs": [],
   "source": [
    "uves = pd.read_csv('tmp_merged/UVES_p111_p112_pristinedr1_xgboost_logg_atm_uncs_fe_c_corr.csv')"
   ]
  },
  {
   "cell_type": "code",
   "execution_count": 40,
   "id": "be096ec6-b0ec-4fd2-8e24-7bd5388f98c1",
   "metadata": {
    "tags": []
   },
   "outputs": [],
   "source": [
    "# uves_cfe.rename(columns={'ec_sme':'ec'}, inplace=True)\n",
    "# uves_cfe_extra.rename(columns={'ec_sme':'ec'}, inplace=True)"
   ]
  },
  {
   "cell_type": "code",
   "execution_count": 41,
   "id": "5db0a9af-6294-4232-ad19-f33d6137aa6d",
   "metadata": {
    "tags": []
   },
   "outputs": [],
   "source": [
    "# uves_cfe = uves_cfe.drop(columns=['ec_fit'])\n",
    "# uves_cfe_extra = uves_cfe_extra.drop(columns=['ec_fit'])"
   ]
  },
  {
   "cell_type": "code",
   "execution_count": 42,
   "id": "dd421acf-a97d-45b2-94fb-6a42d0381811",
   "metadata": {
    "tags": []
   },
   "outputs": [
    {
     "data": {
      "text/html": [
       "<div>\n",
       "<style scoped>\n",
       "    .dataframe tbody tr th:only-of-type {\n",
       "        vertical-align: middle;\n",
       "    }\n",
       "\n",
       "    .dataframe tbody tr th {\n",
       "        vertical-align: top;\n",
       "    }\n",
       "\n",
       "    .dataframe thead th {\n",
       "        text-align: right;\n",
       "    }\n",
       "</style>\n",
       "<table border=\"1\" class=\"dataframe\">\n",
       "  <thead>\n",
       "    <tr style=\"text-align: right;\">\n",
       "      <th></th>\n",
       "      <th>source_id</th>\n",
       "      <th>ebv</th>\n",
       "      <th>g0</th>\n",
       "      <th>eg</th>\n",
       "      <th>bp0</th>\n",
       "      <th>ebp</th>\n",
       "      <th>rp0</th>\n",
       "      <th>erp</th>\n",
       "      <th>cahk0</th>\n",
       "      <th>ecahk</th>\n",
       "      <th>...</th>\n",
       "      <th>evmac_nlte_fit</th>\n",
       "      <th>sme_nlte_vrad1</th>\n",
       "      <th>sme_nlte_vrad2</th>\n",
       "      <th>sme_nlte_vrad3</th>\n",
       "      <th>c</th>\n",
       "      <th>ec_sme</th>\n",
       "      <th>ec_fit</th>\n",
       "      <th>is_limit_c</th>\n",
       "      <th>niter_c</th>\n",
       "      <th>carbon_correction_03</th>\n",
       "    </tr>\n",
       "  </thead>\n",
       "  <tbody>\n",
       "    <tr>\n",
       "      <th>0</th>\n",
       "      <td>1166634514845213568</td>\n",
       "      <td>0.034659</td>\n",
       "      <td>11.670373</td>\n",
       "      <td>0.002767</td>\n",
       "      <td>12.097350</td>\n",
       "      <td>0.002867</td>\n",
       "      <td>11.063974</td>\n",
       "      <td>0.003820</td>\n",
       "      <td>13.051166</td>\n",
       "      <td>0.009495</td>\n",
       "      <td>...</td>\n",
       "      <td>0.091985</td>\n",
       "      <td>0.085946</td>\n",
       "      <td>0.066876</td>\n",
       "      <td>-0.149777</td>\n",
       "      <td>8.350304</td>\n",
       "      <td>0.158630</td>\n",
       "      <td>0.005421</td>\n",
       "      <td>False</td>\n",
       "      <td>13</td>\n",
       "      <td>0.45</td>\n",
       "    </tr>\n",
       "    <tr>\n",
       "      <th>1</th>\n",
       "      <td>1172165023972931072</td>\n",
       "      <td>0.026574</td>\n",
       "      <td>12.876005</td>\n",
       "      <td>0.002772</td>\n",
       "      <td>13.314315</td>\n",
       "      <td>0.003091</td>\n",
       "      <td>12.258079</td>\n",
       "      <td>0.003841</td>\n",
       "      <td>14.291629</td>\n",
       "      <td>0.016091</td>\n",
       "      <td>...</td>\n",
       "      <td>0.079677</td>\n",
       "      <td>0.068610</td>\n",
       "      <td>0.068886</td>\n",
       "      <td>-0.103765</td>\n",
       "      <td>8.342535</td>\n",
       "      <td>0.164282</td>\n",
       "      <td>0.007953</td>\n",
       "      <td>False</td>\n",
       "      <td>13</td>\n",
       "      <td>0.19</td>\n",
       "    </tr>\n",
       "  </tbody>\n",
       "</table>\n",
       "<p>2 rows × 127 columns</p>\n",
       "</div>"
      ],
      "text/plain": [
       "             source_id       ebv         g0        eg        bp0       ebp  \\\n",
       "0  1166634514845213568  0.034659  11.670373  0.002767  12.097350  0.002867   \n",
       "1  1172165023972931072  0.026574  12.876005  0.002772  13.314315  0.003091   \n",
       "\n",
       "         rp0       erp      cahk0     ecahk  ...  evmac_nlte_fit  \\\n",
       "0  11.063974  0.003820  13.051166  0.009495  ...        0.091985   \n",
       "1  12.258079  0.003841  14.291629  0.016091  ...        0.079677   \n",
       "\n",
       "   sme_nlte_vrad1  sme_nlte_vrad2  sme_nlte_vrad3         c    ec_sme  \\\n",
       "0        0.085946        0.066876       -0.149777  8.350304  0.158630   \n",
       "1        0.068610        0.068886       -0.103765  8.342535  0.164282   \n",
       "\n",
       "     ec_fit  is_limit_c niter_c carbon_correction_03  \n",
       "0  0.005421       False      13                 0.45  \n",
       "1  0.007953       False      13                 0.19  \n",
       "\n",
       "[2 rows x 127 columns]"
      ]
     },
     "execution_count": 42,
     "metadata": {},
     "output_type": "execute_result"
    }
   ],
   "source": [
    "uves.head(2)"
   ]
  },
  {
   "cell_type": "code",
   "execution_count": 85,
   "id": "d9b8ed92-89ef-478e-90ed-e7a2d96c5a3c",
   "metadata": {},
   "outputs": [
    {
     "data": {
      "image/png": "[encoded data removed]",
      "text/plain": [
       "<Figure size 432x288 with 1 Axes>"
      ]
     },
     "metadata": {
      "needs_background": "light"
     },
     "output_type": "display_data"
    }
   ],
   "source": [
    "f_ec = (uves.ec_sme.values < 0.5)\n",
    "\n",
    "plt.scatter(uves.fe.values[f_ec] + uves.monh.values[f_ec] - solar.abund.get_element('Fe'), uves.c.values[f_ec] + uves.monh.values[f_ec] + uves.carbon_correction_03.values[f_ec], color='k', s=5)\n",
    "plt.errorbar(uves.fe.values[f_ec] + uves.monh.values[f_ec] - solar.abund.get_element('Fe'), uves.c.values[f_ec] + uves.monh.values[f_ec] + uves.carbon_correction_03.values[f_ec], \n",
    "            fmt='k.', yerr=uves.ec_sme.values[f_ec], lw=1)\n",
    "x = np.linspace(-4, -2)\n",
    "plt.plot(x, solar.abund.get_element('C') + x + 0.7, ls='--', color='C2', label='[C/Fe] = 0.7', lw=2)\n",
    "\n",
    "plt.ylim(3.5, 7)\n",
    "plt.show()"
   ]
  },
  {
   "cell_type": "code",
   "execution_count": 69,
   "id": "920cba8d-421f-4ebc-827a-8f60338330aa",
   "metadata": {},
   "outputs": [
    {
     "data": {
      "text/plain": [
       "'6167441439259305088_3573234_046'"
      ]
     },
     "execution_count": 69,
     "metadata": {},
     "output_type": "execute_result"
    }
   ],
   "source": [
    "uves.spec_id[np.argmin(uves.fe.values[f_ec] + uves.monh.values[f_ec] - solar.abund.get_element('Fe'))]"
   ]
  },
  {
   "cell_type": "code",
   "execution_count": null,
   "id": "ec1ef02d-987e-45b4-a1ea-dd433a260161",
   "metadata": {},
   "outputs": [],
   "source": []
  },
  {
   "cell_type": "code",
   "execution_count": 121,
   "id": "ea953ff0-4bcc-4708-982b-e1d793abea9c",
   "metadata": {},
   "outputs": [],
   "source": []
  },
  {
   "cell_type": "code",
   "execution_count": 122,
   "id": "243f6d5d-b567-4d7b-a970-4e7acc0409d2",
   "metadata": {},
   "outputs": [],
   "source": [
    "  "
   ]
  },
  {
   "cell_type": "code",
   "execution_count": 123,
   "id": "3ea0f54b-601b-413a-b034-4b7d4d791e8f",
   "metadata": {},
   "outputs": [],
   "source": []
  },
  {
   "cell_type": "code",
   "execution_count": 124,
   "id": "b4ead4bf-d9fe-40ad-bbd3-36dcfb72951e",
   "metadata": {},
   "outputs": [
    {
     "data": {
      "text/plain": [
       "'0.35'"
      ]
     },
     "execution_count": 124,
     "metadata": {},
     "output_type": "execute_result"
    }
   ],
   "source": []
  },
  {
   "cell_type": "code",
   "execution_count": null,
   "id": "aa1abfc3-f87c-4620-be56-90457ab7eb29",
   "metadata": {},
   "outputs": [],
   "source": []
  },
  {
   "cell_type": "code",
   "execution_count": 91,
   "id": "c75b6b9d-115d-41a2-ada2-daedba5b7c2d",
   "metadata": {},
   "outputs": [],
   "source": []
  },
  {
   "cell_type": "code",
   "execution_count": null,
   "id": "9bd9d947-932c-4afc-ba87-e2849955d845",
   "metadata": {},
   "outputs": [],
   "source": []
  },
  {
   "cell_type": "code",
   "execution_count": 28,
   "id": "165ffa65-cde2-468c-b500-bc01dca76795",
   "metadata": {
    "tags": []
   },
   "outputs": [],
   "source": [
    "# uves_cfe0.to_csv('uves_p111_p112_pristinedr1_xgboost_atm_means_carbon.csv', index=False, header=True)\n",
    "# uves_cfe.to_csv('uves_p111_p112_pristinedr1_xgboost_atm_means_carbon.csv', index=False, header=True)"
   ]
  },
  {
   "cell_type": "code",
   "execution_count": 29,
   "id": "f1d2fd2a-098e-49df-a53c-111997b2e618",
   "metadata": {
    "tags": []
   },
   "outputs": [],
   "source": [
    "# pd.options.display.float_format = '{:,.2f}'.format"
   ]
  },
  {
   "cell_type": "code",
   "execution_count": 30,
   "id": "402e36ae-36c7-4297-b56e-0d322a2e6b8d",
   "metadata": {
    "tags": []
   },
   "outputs": [],
   "source": [
    "# uves_cfe['cfe'] = uves_cfe.c.values - solar.abund.get_element('C')\n",
    "# uves_cfe[['logg', 'monh', 'cfe']].to_csv('Carbon_correction_Placco.csv', index=False, header=True, mode='w')"
   ]
  },
  {
   "cell_type": "code",
   "execution_count": 31,
   "id": "dc3e1020-27ff-40fb-b17b-24e5d335c88d",
   "metadata": {
    "tags": []
   },
   "outputs": [],
   "source": [
    "# carbon = np.loadtxt('Carbon_correction_Placco.csv', skiprows=1, delimiter=',')\n",
    "# np.savetxt('Carbon_correction_Placco.csv', carbon, fmt='%2.3f', delimiter=',')"
   ]
  },
  {
   "cell_type": "code",
   "execution_count": null,
   "id": "ad27430e-13b6-4130-b496-24122c041820",
   "metadata": {},
   "outputs": [],
   "source": []
  },
  {
   "cell_type": "code",
   "execution_count": 107,
   "id": "ffbfe189-fd09-412b-9f68-114e2e5166aa",
   "metadata": {},
   "outputs": [],
   "source": [
    "#Read Carbon file"
   ]
  },
  {
   "cell_type": "code",
   "execution_count": 32,
   "id": "03e2c629-b3f7-4406-bbf7-727cf2f118a9",
   "metadata": {
    "tags": []
   },
   "outputs": [],
   "source": [
    "# uves_cfe = pd.read_csv('uves_p111_p112_pristinedr1_xgboost_atm_means_carbon.csv')"
   ]
  },
  {
   "cell_type": "code",
   "execution_count": 119,
   "id": "64f3e87a-4d48-4980-8227-fd570a61665c",
   "metadata": {},
   "outputs": [],
   "source": [
    "# uves_cfe.drop(columns=['Unnamed: 0.1','Unnamed: 0'], inplace=True)"
   ]
  },
  {
   "cell_type": "code",
   "execution_count": 122,
   "id": "de99b90b-1cda-471f-ad95-dfb7e06d0eb7",
   "metadata": {},
   "outputs": [],
   "source": [
    "# bad_c = uves_cfe.query(\"(ec > 1.2) | (c < 7.0)\")"
   ]
  },
  {
   "cell_type": "code",
   "execution_count": 121,
   "id": "431b46ce-46d6-4752-a698-fc193cc1b6d4",
   "metadata": {
    "tags": []
   },
   "outputs": [],
   "source": [
    "# bad_c.spec_id.values[1]"
   ]
  },
  {
   "cell_type": "code",
   "execution_count": 33,
   "id": "d6e99b9b-6b9f-450c-9fb6-27cdc138192a",
   "metadata": {
    "tags": []
   },
   "outputs": [],
   "source": [
    "# %%time\n",
    "# sme = sme_parallel(0, bad_c.iloc[0])"
   ]
  },
  {
   "cell_type": "code",
   "execution_count": 34,
   "id": "d767967a-f12d-4efa-b807-b3576cbdc131",
   "metadata": {
    "tags": []
   },
   "outputs": [],
   "source": [
    "# %%time\n",
    "\n",
    "# #Single execution\n",
    "# Parallel(n_jobs=-1, verbose=0)(delayed(sme_parallel)(i, input_row, tol=5e-9) for i, input_row in bad_c.iterrows())\n",
    "\n",
    "# # j = 0\n",
    "# # os.system('cat tmp_carbon/mcmc_cfe_* > tmp_merged/mcmc_cfe_%d.csv' %j);\n",
    "# # spec_id,cfe,ecfe_sme,cfe_fit"
   ]
  },
  {
   "cell_type": "code",
   "execution_count": 35,
   "id": "7e2f2830-b8af-4b9b-af78-86a54a10ba89",
   "metadata": {},
   "outputs": [],
   "source": [
    "# os.system('cat tmp_carbon/cfe_* > tmp_merged/cfe.csv');\n",
    "# !sed -i '1i \\spec_id,c,ec_sme,ec_fit' tmp_merged/cfe*"
   ]
  },
  {
   "cell_type": "code",
   "execution_count": null,
   "id": "7efd5331-a8c9-40c3-a188-3920ab51e684",
   "metadata": {},
   "outputs": [],
   "source": []
  },
  {
   "cell_type": "code",
   "execution_count": 123,
   "id": "30fd345e-634e-4ec1-8f3b-70ca068735c2",
   "metadata": {},
   "outputs": [],
   "source": [
    "#Limits"
   ]
  },
  {
   "cell_type": "code",
   "execution_count": 124,
   "id": "e6301994-4b8f-4d91-8b6e-a51ad4dddffb",
   "metadata": {},
   "outputs": [],
   "source": [
    "def limits(species = 'C', species_to_keep = [], spec_id = '', sme_file = '', wlmin = 0, wlmax = 0, start = -2.0, stop = 2.0, step = 0.25):\n",
    "    \n",
    "    # plt.figure(figsize=(7,7), dpi=100)\n",
    "    \n",
    "    util.start_logging('logs/elems_limits.dat', level='WARNING')\n",
    "    species = 'C'\n",
    "    limit = solar.abund.get_element('%s' %species)\n",
    "    # start, stop, step = -2.0, 2.0, 0.25\n",
    "\n",
    "    for delta_abund in np.linspace(start, stop, int((stop - start) / step + 1)):\n",
    "\n",
    "        synth = SME_Structure.load(sme_file)\n",
    "        # if delta_abund == start: print(synth.abund.get_element('C'))\n",
    "        # if delta_abund == start: plt.step(synth.wave.data, synth.synth.data, lw=1, color='r')\n",
    "        synth.linelist = linelist_short_all[(linelist_short_all.wlcent > wlmin) & (linelist_short_all.wlcent < wlmax)]\n",
    "\n",
    "        f_wl_limit = (synth.wave.data > wlmin) & (synth.wave.data < wlmax)\n",
    "\n",
    "        for elem in synth.abund.pattern.keys():\n",
    "            if (elem == 'H') or (elem == 'He'):\n",
    "                continue\n",
    "            if elem in species_to_keep:\n",
    "                continue\n",
    "            synth.abund.update_pattern({elem:0.0})\n",
    "        synth.abund.update_pattern({'%s' %species: solar.abund.get_element('%s' %species) + delta_abund})\n",
    "        # print('%s' %species, solar.abund.get_element('%s' %species) + delta_abund)\n",
    "\n",
    "        synth.vrad_flag = 'None'\n",
    "        synth.cscale_flag = 'None'\n",
    "        synth = synthesize_spectrum(synth)\n",
    "        # synth_data = synth.synth.data\n",
    "\n",
    "        mean_synth = np.percentile(synth.synth.data[f_wl_limit], 10)\n",
    "        std_spec = np.std(synth.spec.data[f_wl_limit])\n",
    "        \n",
    "        # if delta_abund == start: plt.step(synth.wave.data, synth.spec.data, lw=1, color='k')\n",
    "        # if delta_abund == start: plt.hlines(1.-std_spec, wlmin, wlmax, color='b', lw=1, ls='--')\n",
    "        # plt.step(synth.wave.data, synth.synth.data, lw=1, color='g', alpha=0.2)\n",
    "        # plt.hlines(mean_synth, wlmin, wlmax, color='r', lw=1, ls='--', alpha=0.3)\n",
    "        # plt.xlim(wlmin, wlmax)\n",
    "\n",
    "        #If mean synth flux is more (bigger depth) that std: you are in outside limit regime\n",
    "        #linspace in the starst is fliped to ascend in abundance space\n",
    "        if mean_synth < (1. - std_spec):\n",
    "            limit = solar.abund.get_element('%s' %species) + delta_abund - step/2.\n",
    "            # plt.show()\n",
    "            return limit\n",
    "        else:\n",
    "            continue\n",
    "    # plt.show()\n",
    "    return limit"
   ]
  },
  {
   "cell_type": "code",
   "execution_count": 125,
   "id": "85c41dc1-b3a6-4b9e-b8cf-1f60d4478f96",
   "metadata": {},
   "outputs": [],
   "source": [
    "is_limit = np.zeros_like(uves_cfe.c.values).astype(bool)\n",
    "abund_limit = uves_cfe.c.values"
   ]
  },
  {
   "cell_type": "code",
   "execution_count": 126,
   "id": "4ffef854-c6d8-40a3-aea0-73a092ee6eb7",
   "metadata": {},
   "outputs": [],
   "source": [
    "is_limit[(uves_cfe.ec.values > 1.0) | (uves_cfe.c.values < 7.0)] = True"
   ]
  },
  {
   "cell_type": "code",
   "execution_count": 127,
   "id": "2cb8773a-0931-4e2c-a3b6-7c9fd1bece3f",
   "metadata": {
    "tags": []
   },
   "outputs": [
    {
     "name": "stdout",
     "output_type": "stream",
     "text": [
      "CPU times: user 1min 26s, sys: 277 ms, total: 1min 27s\n",
      "Wall time: 1min 27s\n"
     ]
    }
   ],
   "source": [
    "%%time\n",
    "\n",
    "for i, limit in enumerate(is_limit):\n",
    "    if limit:\n",
    "        abund_limit[i] = limits('C', [], uves_cfe.spec_id.values[i], 'sme_save/cfe_%s.sme' %uves_cfe.spec_id.values[i], wlmin=4309, wlmax=4315)"
   ]
  },
  {
   "cell_type": "code",
   "execution_count": 128,
   "id": "20ee14b4-251f-4be1-ad8c-079e040fb0b9",
   "metadata": {},
   "outputs": [],
   "source": [
    "uves_cfe['is_limit_c'] = is_limit\n",
    "uves_cfe['limit_c'] = abund_limit"
   ]
  },
  {
   "cell_type": "code",
   "execution_count": 129,
   "id": "d26f0f46-d809-423a-a823-d8dac0f98db0",
   "metadata": {},
   "outputs": [
    {
     "data": {
      "text/html": [
       "<div>\n",
       "<style scoped>\n",
       "    .dataframe tbody tr th:only-of-type {\n",
       "        vertical-align: middle;\n",
       "    }\n",
       "\n",
       "    .dataframe tbody tr th {\n",
       "        vertical-align: top;\n",
       "    }\n",
       "\n",
       "    .dataframe thead th {\n",
       "        text-align: right;\n",
       "    }\n",
       "</style>\n",
       "<table border=\"1\" class=\"dataframe\">\n",
       "  <thead>\n",
       "    <tr style=\"text-align: right;\">\n",
       "      <th></th>\n",
       "      <th>source_id</th>\n",
       "      <th>ebv</th>\n",
       "      <th>g0</th>\n",
       "      <th>eg</th>\n",
       "      <th>bp0</th>\n",
       "      <th>ebp</th>\n",
       "      <th>rp0</th>\n",
       "      <th>erp</th>\n",
       "      <th>cahk0</th>\n",
       "      <th>ecahk</th>\n",
       "      <th>...</th>\n",
       "      <th>emonh</th>\n",
       "      <th>vmic</th>\n",
       "      <th>evmic</th>\n",
       "      <th>vmac</th>\n",
       "      <th>evmac</th>\n",
       "      <th>c</th>\n",
       "      <th>ec</th>\n",
       "      <th>ec_fit</th>\n",
       "      <th>is_limit_c</th>\n",
       "      <th>limit_c</th>\n",
       "    </tr>\n",
       "  </thead>\n",
       "  <tbody>\n",
       "    <tr>\n",
       "      <th>0</th>\n",
       "      <td>1166634514845213568</td>\n",
       "      <td>0.034659</td>\n",
       "      <td>11.670373</td>\n",
       "      <td>0.002767</td>\n",
       "      <td>12.097350</td>\n",
       "      <td>0.002867</td>\n",
       "      <td>11.063974</td>\n",
       "      <td>0.003820</td>\n",
       "      <td>13.051166</td>\n",
       "      <td>0.009495</td>\n",
       "      <td>...</td>\n",
       "      <td>0.131525</td>\n",
       "      <td>2.104566</td>\n",
       "      <td>0.078616</td>\n",
       "      <td>5.115226</td>\n",
       "      <td>0.110029</td>\n",
       "      <td>8.464024</td>\n",
       "      <td>0.149136</td>\n",
       "      <td>0.004981</td>\n",
       "      <td>False</td>\n",
       "      <td>8.464024</td>\n",
       "    </tr>\n",
       "    <tr>\n",
       "      <th>1</th>\n",
       "      <td>1172165023972931072</td>\n",
       "      <td>0.026574</td>\n",
       "      <td>12.876005</td>\n",
       "      <td>0.002772</td>\n",
       "      <td>13.314315</td>\n",
       "      <td>0.003091</td>\n",
       "      <td>12.258079</td>\n",
       "      <td>0.003841</td>\n",
       "      <td>14.291629</td>\n",
       "      <td>0.016091</td>\n",
       "      <td>...</td>\n",
       "      <td>0.026559</td>\n",
       "      <td>2.226055</td>\n",
       "      <td>0.089651</td>\n",
       "      <td>4.785015</td>\n",
       "      <td>0.274269</td>\n",
       "      <td>8.414520</td>\n",
       "      <td>0.139613</td>\n",
       "      <td>0.005474</td>\n",
       "      <td>False</td>\n",
       "      <td>8.414520</td>\n",
       "    </tr>\n",
       "  </tbody>\n",
       "</table>\n",
       "<p>2 rows × 83 columns</p>\n",
       "</div>"
      ],
      "text/plain": [
       "             source_id       ebv         g0        eg        bp0       ebp  \\\n",
       "0  1166634514845213568  0.034659  11.670373  0.002767  12.097350  0.002867   \n",
       "1  1172165023972931072  0.026574  12.876005  0.002772  13.314315  0.003091   \n",
       "\n",
       "         rp0       erp      cahk0     ecahk  ...     emonh      vmic  \\\n",
       "0  11.063974  0.003820  13.051166  0.009495  ...  0.131525  2.104566   \n",
       "1  12.258079  0.003841  14.291629  0.016091  ...  0.026559  2.226055   \n",
       "\n",
       "      evmic      vmac     evmac         c        ec    ec_fit is_limit_c  \\\n",
       "0  0.078616  5.115226  0.110029  8.464024  0.149136  0.004981      False   \n",
       "1  0.089651  4.785015  0.274269  8.414520  0.139613  0.005474      False   \n",
       "\n",
       "    limit_c  \n",
       "0  8.464024  \n",
       "1  8.414520  \n",
       "\n",
       "[2 rows x 83 columns]"
      ]
     },
     "execution_count": 129,
     "metadata": {},
     "output_type": "execute_result"
    }
   ],
   "source": [
    "uves_cfe.head(2)"
   ]
  },
  {
   "cell_type": "code",
   "execution_count": 130,
   "id": "cd8192b7-0ad6-4e4e-aece-f116d255fe79",
   "metadata": {},
   "outputs": [],
   "source": [
    "uves_cfe.to_csv('uves_p111_p112_pristinedr1_xgboost_atm_means_carbon_limits.csv')"
   ]
  },
  {
   "cell_type": "code",
   "execution_count": null,
   "id": "90e1621d-f44f-456f-b8de-2b96af48adc3",
   "metadata": {},
   "outputs": [],
   "source": []
  },
  {
   "cell_type": "code",
   "execution_count": null,
   "id": "7752c352-fc7e-4aac-aa28-46a475648492",
   "metadata": {},
   "outputs": [],
   "source": []
  },
  {
   "cell_type": "code",
   "execution_count": null,
   "id": "8226c0fe-d99f-4cd0-8f86-383e7f803453",
   "metadata": {},
   "outputs": [],
   "source": []
  },
  {
   "cell_type": "code",
   "execution_count": null,
   "id": "05c25dee-46f7-43ad-b592-b4dad3f076f7",
   "metadata": {},
   "outputs": [],
   "source": []
  },
  {
   "cell_type": "code",
   "execution_count": null,
   "id": "400a5156-6095-4331-a263-ec2f461c41bd",
   "metadata": {},
   "outputs": [],
   "source": []
  },
  {
   "cell_type": "code",
   "execution_count": 83,
   "id": "0c45a029-f956-44a1-a9ff-b19a0d3fb558",
   "metadata": {},
   "outputs": [
    {
     "data": {
      "text/plain": [
       "9      2569615268897126016_3708424_127\n",
       "62     4854289415101796608_3708430_135\n",
       "64     4905666294932720000_3708505_125\n",
       "66     4954240794503614720_3704133_132\n",
       "76     6107795579151078528_3573219_042\n",
       "96     6445544385605809152_3573258_043\n",
       "106    6523938984849548032_3573742_119\n",
       "138    6767541317898238976_3572828_022\n",
       "139    6776164134760319488_3576358_062\n",
       "150    6859555838257273600_3573691_106\n",
       "151    6859555838257273600_3573691_115\n",
       "Name: spec_id, dtype: object"
      ]
     },
     "execution_count": 83,
     "metadata": {},
     "output_type": "execute_result"
    }
   ],
   "source": [
    "uves_cfe.query(\"is_limit_c == True\").spec_id"
   ]
  },
  {
   "cell_type": "code",
   "execution_count": 99,
   "id": "198a28a4-5f9b-4195-83c4-c527e782b1eb",
   "metadata": {
    "tags": []
   },
   "outputs": [
    {
     "data": {
      "image/png": "[encoded data removed]",
      "text/plain": [
       "<Figure size 432x288 with 1 Axes>"
      ]
     },
     "metadata": {
      "needs_background": "light"
     },
     "output_type": "display_data"
    }
   ],
   "source": [
    "# plt.hist(uves_cfe0.cfe.values, bins=25, histtype='step')\n",
    "plt.hist(uves_cfe.ec.values, bins=25, histtype='step', range=(0, 1.25))\n",
    "# plt.hist(uves_cfe2.cfe.values, bins=25, histtype='step')\n",
    "plt.show()"
   ]
  },
  {
   "cell_type": "code",
   "execution_count": null,
   "id": "66068bf7-ae07-4522-aa58-f6df8c18b3ea",
   "metadata": {},
   "outputs": [],
   "source": []
  },
  {
   "cell_type": "code",
   "execution_count": 104,
   "id": "00f3cafc-a68d-4fc1-8eee-08b79f61e47e",
   "metadata": {
    "tags": []
   },
   "outputs": [
    {
     "data": {
      "image/png": "[encoded data removed]",
      "text/plain": [
       "<Figure size 600x400 with 1 Axes>"
      ]
     },
     "metadata": {
      "needs_background": "light"
     },
     "output_type": "display_data"
    }
   ],
   "source": [
    "plt.figure(dpi=100)\n",
    "plt.scatter(uves_cfe.monh.values[~is_limit], uves_cfe.c.values[~is_limit], s=5, color='k')\n",
    "plt.errorbar(uves_cfe.monh.values[~is_limit], uves_cfe.c.values[~is_limit], fmt='k.', yerr=uves_cfe.ec.values[~is_limit], ms=0.5, lw=1)\n",
    "\n",
    "plt.errorbar(uves_cfe.monh[is_limit], abund_limit[is_limit], fmt='.', yerr=0.2 * np.ones_like(uves_cfe.ec.values[is_limit]), ms=0.1, uplims=is_limit[is_limit], color='k', alpha=0.2)\n",
    "\n",
    "# x = np.linspace(-4, -2)\n",
    "# plt.plot(x, solar.abund.get_element('C') + x + 0.7, ls='--', color='C2', label='[C/Fe] = 0.7', lw=2)\n",
    "\n",
    "plt.hlines(7.0, -3.6, -2.2)\n",
    "plt.ylim(4, 10)\n",
    "# plt.ylim(-0.5,35)\n",
    "plt.xlabel('Star number', size=14)\n",
    "plt.ylabel('A(C) + [M/H]', size=14)\n",
    "plt.show()"
   ]
  },
  {
   "cell_type": "code",
   "execution_count": 64,
   "id": "3352a989-a6d2-4a26-a6dc-14169ea7e646",
   "metadata": {},
   "outputs": [
    {
     "data": {
      "image/png": "[encoded data removed]",
      "text/plain": [
       "<Figure size 720x360 with 2 Axes>"
      ]
     },
     "metadata": {
      "needs_background": "light"
     },
     "output_type": "display_data"
    }
   ],
   "source": [
    "plt.figure(figsize=(10,5))\n",
    "\n",
    "plt.subplot(1,2,1)\n",
    "plt.scatter(uves_cfe.monh.values, uves_cfe.c.values - solar.abund.get_element('C'), s=10, color='k', zorder=9)\n",
    "plt.errorbar(uves_cfe.monh.values, uves_cfe.c.values - solar.abund.get_element('C'), xerr=uves_cfe.emonh.values, yerr=uves_cfe.ec.values, fmt='k.', color='k', alpha=0.25)\n",
    "\n",
    "plt.hlines(0.7, -4, -2, ls='--', color='C2', lw=2)\n",
    "# plt.hlines(1.0, -4, -2, ls=':', color='C2')\n",
    "\n",
    "plt.xlabel('[M/H]', size=14)\n",
    "plt.ylabel('[C/Fe]', size=14)\n",
    "plt.xlim(-4, -2)\n",
    "plt.ylim(-2, 3.0)\n",
    "\n",
    "plt.subplot(1,2,2)\n",
    "plt.scatter(uves_cfe.monh.values, uves_cfe.c.values + uves_cfe.monh.values, s=10, color='k', zorder=9, label='_nolegend_')\n",
    "plt.errorbar(uves_cfe.monh.values, uves_cfe.c.values + uves_cfe.monh.values, xerr=uves_cfe.emonh.values, \n",
    "             yerr=(uves_cfe.ec.values**2. + uves_cfe.emonh.values**2.)**0.5, fmt='k.', color='k', alpha=0.25, label='_nolegend_')\n",
    "\n",
    "x = np.linspace(-4, -2)\n",
    "plt.plot(x, solar.abund.get_element('C') + x + 0.7, ls='--', color='C2', label='[C/Fe] = 0.7', lw=2)\n",
    "# plt.plot(x, solar.abund.get_element('C') + x + 1.0, ls=':', color='C2', label='[C/Fe] = 1.0')\n",
    "\n",
    "plt.legend(loc='lower right', fontsize=12)\n",
    "\n",
    "plt.xlabel('[M/H]', size=14)\n",
    "plt.ylabel('A(C)', size=14)\n",
    "plt.xlim(-4, -2)\n",
    "plt.ylim(3, 8)\n",
    "\n",
    "plt.tight_layout()\n",
    "plt.show()"
   ]
  },
  {
   "cell_type": "code",
   "execution_count": 38,
   "id": "7e940a71-aee9-4581-92b8-53a8c5f7f737",
   "metadata": {
    "tags": []
   },
   "outputs": [],
   "source": [
    "jina = pd.read_csv('JINA/JINAbase_2021_nolims.csv')\n",
    "\n",
    "carbon_corrections = pd.read_csv('Carbon_corrections.csv')\n",
    "\n",
    "solar = SME_Structure()\n",
    "solar.abund = Abund(0.0, 'asplund2009')"
   ]
  },
  {
   "cell_type": "code",
   "execution_count": 39,
   "id": "5f0379b3-e5e0-454e-b3eb-59b13cf49e24",
   "metadata": {
    "tags": []
   },
   "outputs": [],
   "source": [
    "uves_cfe['cfe'] = uves_cfe.c.values - solar.abund.get_element('C')\n",
    "uves_cfe['carbon_corr'] = carbon_corrections.cor.values"
   ]
  },
  {
   "cell_type": "code",
   "execution_count": 40,
   "id": "39eab0d9-6a14-4329-95a7-a0901ccca398",
   "metadata": {
    "tags": []
   },
   "outputs": [],
   "source": [
    "jina['feh'] = jina.Fe.values - solar.abund.get_element('Fe')\n",
    "jina['cfe'] = (jina.C.values - solar.abund.get_element('C')) - (jina.Fe.values - solar.abund.get_element('Fe'))"
   ]
  },
  {
   "cell_type": "code",
   "execution_count": 41,
   "id": "ce96974b-2124-4a38-b537-e84a5f9d1329",
   "metadata": {
    "tags": []
   },
   "outputs": [],
   "source": [
    "f_carbon = (uves_cfe.cfe.values > -2.)\n",
    "uves_cfe = uves_cfe[f_carbon]"
   ]
  },
  {
   "cell_type": "code",
   "execution_count": 44,
   "id": "0b7bf281-be3e-4711-a1c2-1a77f54508f5",
   "metadata": {
    "tags": []
   },
   "outputs": [
    {
     "data": {
      "image/png": "[encoded data removed]",
      "text/plain": [
       "<Figure size 1000x500 with 2 Axes>"
      ]
     },
     "metadata": {},
     "output_type": "display_data"
    }
   ],
   "source": [
    "plt.figure(figsize=(10,5))\n",
    "\n",
    "plt.subplot(1,2,1)\n",
    "plt.scatter(uves_cfe.monh.values, uves_cfe.cfe.values , s=10, color='k', zorder=9)\n",
    "plt.errorbar(uves_cfe.monh.values, uves_cfe.cfe.values , xerr=uves_cfe.emonh.values, yerr=uves_cfe.ec.values, fmt='k.', color='k', alpha=0.25)\n",
    "plt.scatter(jina.feh.values, jina.cfe.values, s=5, color='grey', alpha=0.25)\n",
    "\n",
    "plt.hlines(0.7, -4, -2, ls='--', color='C2', lw=2)\n",
    "# plt.hlines(1.0, -4, -2, ls=':', color='C2')\n",
    "\n",
    "plt.xlabel('[M/H]', size=14)\n",
    "plt.ylabel('[C/Fe]', size=14)\n",
    "plt.xlim(-4, -2)\n",
    "plt.ylim(-2, 3.0)\n",
    "\n",
    "plt.subplot(1,2,2)\n",
    "plt.scatter(uves_cfe.monh.values, uves_cfe.c.values  + uves_cfe.monh.values, s=10, color='k', zorder=9, label='_nolegend_')\n",
    "plt.errorbar(uves_cfe.monh.values, uves_cfe.c.values  + uves_cfe.monh.values, xerr=uves_cfe.emonh.values, \n",
    "             yerr=(uves_cfe.ec.values**2. + uves_cfe.emonh.values**2.)**0.5, fmt='k.', color='k', alpha=0.25, label='_nolegend_')\n",
    "\n",
    "plt.scatter(jina.feh.values, jina.C.values, s=5, color='grey', alpha=0.25, label='_nolegend_')\n",
    "\n",
    "x = np.linspace(-4, -2)\n",
    "plt.plot(x, solar.abund.get_element('C') + x + 0.7, ls='--', color='C2', label='[C/Fe] = 0.7', lw=2)\n",
    "# plt.plot(x, solar.abund.get_element('C') + x + 1.0, ls=':', color='C2', label='[C/Fe] = 1.0')\n",
    "\n",
    "plt.legend(loc='lower right', fontsize=12)\n",
    "\n",
    "plt.xlabel('[M/H]', size=14)\n",
    "plt.ylabel('A(C)', size=14)\n",
    "plt.xlim(-4, -2)\n",
    "plt.ylim(3, 8)\n",
    "\n",
    "plt.tight_layout()\n",
    "plt.savefig('plots/UVES_carbon.pdf', dpi=300)\n",
    "plt.show()"
   ]
  },
  {
   "cell_type": "code",
   "execution_count": 43,
   "id": "f342801a-bbc7-41ff-8392-66a68b0237e8",
   "metadata": {
    "tags": []
   },
   "outputs": [
    {
     "name": "stdout",
     "output_type": "stream",
     "text": [
      "Total number of UVES stars: 153, and 12 (7%) CMEP with [C/Fe] > 0.7\n"
     ]
    }
   ],
   "source": [
    "n_cemp = np.sum(uves_cfe.cfe.values + uves_cfe.carbon_corr.values > 0.7)\n",
    "n_tot = uves_cfe.ra.size\n",
    "\n",
    "print('Total number of UVES stars: %d, and %d (%d%%) CMEP with [C/Fe] > 0.7' %(n_tot, n_cemp, 100*n_cemp/n_tot))"
   ]
  },
  {
   "cell_type": "code",
   "execution_count": 45,
   "id": "71c8c929-eb33-4cb2-9646-89dd600e0b50",
   "metadata": {
    "tags": []
   },
   "outputs": [
    {
     "name": "stdout",
     "output_type": "stream",
     "text": [
      "['3598383734427539840_3576364_061' '6167441439259305088_3573234_046'\n",
      " '6425379106130933376_3573700_088'] [9.02782073 9.19649213 9.51631897]\n"
     ]
    }
   ],
   "source": [
    "print(uves_cfe.spec_id.values[(uves_cfe.c.values > 9.0)], \n",
    "uves_cfe.c.values[(uves_cfe.c.values > 9.0)])"
   ]
  },
  {
   "cell_type": "code",
   "execution_count": null,
   "id": "2faf5997-da5d-43ee-9e51-85c692c2798d",
   "metadata": {},
   "outputs": [],
   "source": [
    "#Read complete file"
   ]
  },
  {
   "cell_type": "code",
   "execution_count": 40,
   "id": "42bcc74c-2bbc-4253-8bec-4dc43a090b0a",
   "metadata": {},
   "outputs": [
    {
     "data": {
      "text/html": [
       "<div>\n",
       "<style scoped>\n",
       "    .dataframe tbody tr th:only-of-type {\n",
       "        vertical-align: middle;\n",
       "    }\n",
       "\n",
       "    .dataframe tbody tr th {\n",
       "        vertical-align: top;\n",
       "    }\n",
       "\n",
       "    .dataframe thead th {\n",
       "        text-align: right;\n",
       "    }\n",
       "</style>\n",
       "<table border=\"1\" class=\"dataframe\">\n",
       "  <thead>\n",
       "    <tr style=\"text-align: right;\">\n",
       "      <th></th>\n",
       "      <th>source_id</th>\n",
       "      <th>ebv</th>\n",
       "      <th>g0</th>\n",
       "      <th>eg</th>\n",
       "      <th>bp0</th>\n",
       "      <th>ebp</th>\n",
       "      <th>rp0</th>\n",
       "      <th>erp</th>\n",
       "      <th>cahk0</th>\n",
       "      <th>ecahk</th>\n",
       "      <th>...</th>\n",
       "      <th>teff</th>\n",
       "      <th>eteff</th>\n",
       "      <th>logg</th>\n",
       "      <th>elogg</th>\n",
       "      <th>monh</th>\n",
       "      <th>emonh</th>\n",
       "      <th>vmic</th>\n",
       "      <th>evmic</th>\n",
       "      <th>vmac</th>\n",
       "      <th>evmac</th>\n",
       "    </tr>\n",
       "  </thead>\n",
       "  <tbody>\n",
       "    <tr>\n",
       "      <th>83</th>\n",
       "      <td>6167441439259305088</td>\n",
       "      <td>0.061413</td>\n",
       "      <td>11.966476</td>\n",
       "      <td>0.002767</td>\n",
       "      <td>12.400405</td>\n",
       "      <td>0.002961</td>\n",
       "      <td>11.354571</td>\n",
       "      <td>0.0038</td>\n",
       "      <td>13.373514</td>\n",
       "      <td>0.008205</td>\n",
       "      <td>...</td>\n",
       "      <td>4842.658431</td>\n",
       "      <td>62.388589</td>\n",
       "      <td>1.619493</td>\n",
       "      <td>0.057071</td>\n",
       "      <td>-3.143767</td>\n",
       "      <td>0.033567</td>\n",
       "      <td>2.338611</td>\n",
       "      <td>0.124232</td>\n",
       "      <td>6.161349</td>\n",
       "      <td>0.20273</td>\n",
       "    </tr>\n",
       "  </tbody>\n",
       "</table>\n",
       "<p>1 rows × 78 columns</p>\n",
       "</div>"
      ],
      "text/plain": [
       "              source_id       ebv         g0        eg        bp0       ebp  \\\n",
       "83  6167441439259305088  0.061413  11.966476  0.002767  12.400405  0.002961   \n",
       "\n",
       "          rp0     erp      cahk0     ecahk  ...         teff      eteff  \\\n",
       "83  11.354571  0.0038  13.373514  0.008205  ...  4842.658431  62.388589   \n",
       "\n",
       "        logg     elogg      monh     emonh      vmic     evmic      vmac  \\\n",
       "83  1.619493  0.057071 -3.143767  0.033567  2.338611  0.124232  6.161349   \n",
       "\n",
       "      evmac  \n",
       "83  0.20273  \n",
       "\n",
       "[1 rows x 78 columns]"
      ]
     },
     "execution_count": 40,
     "metadata": {},
     "output_type": "execute_result"
    }
   ],
   "source": [
    "uves.query(\"spec_id == '6167441439259305088_3573234_046'\")"
   ]
  },
  {
   "cell_type": "code",
   "execution_count": 17,
   "id": "392bcbde-2bc4-4bac-9e60-02c231cac57f",
   "metadata": {
    "tags": []
   },
   "outputs": [
    {
     "name": "stderr",
     "output_type": "stream",
     "text": [
      "[2024-11-14 11:27:30,898] [INFO] [sme:load:839]: Loading SME file sme_save/UVES_cfe_6167441439259305088_3573234_046.sme\n"
     ]
    },
    {
     "name": "stdout",
     "output_type": "stream",
     "text": [
      "\u001b[32mINFO - Loading SME file sme_save/UVES_cfe_6167441439259305088_3573234_046.sme\u001b[0m\n"
     ]
    }
   ],
   "source": [
    "sme = SME_Structure.load('sme_save/UVES_cfe_6167441439259305088_3573234_046.sme')"
   ]
  },
  {
   "cell_type": "code",
   "execution_count": 18,
   "id": "51486556-190b-4426-af0c-cf0bbc590235",
   "metadata": {
    "tags": []
   },
   "outputs": [],
   "source": [
    "# spec_id = '2541284393302759296_3708442_129'"
   ]
  },
  {
   "cell_type": "code",
   "execution_count": 19,
   "id": "a7da1aa6-6c68-4ed9-a05e-9703408ea1ab",
   "metadata": {
    "tags": []
   },
   "outputs": [],
   "source": [
    "# sme.linelist = linelist_short_all\n",
    "# sme.abund.update_pattern({'C':9.4})\n",
    "# # sme.vmac = 5.\n",
    "# sme = synthesize_spectrum(sme);"
   ]
  },
  {
   "cell_type": "code",
   "execution_count": 38,
   "id": "72cb6e90-84c4-49ac-934c-482ac23a1354",
   "metadata": {
    "scrolled": true
   },
   "outputs": [
    {
     "name": "stderr",
     "output_type": "stream",
     "text": [
      "[2024-11-14 11:47:53,869] [INFO] [sme:load:839]: Loading SME file sme_save/UVES_cfe_6167441439259305088_3573234_046.sme\n",
      "[2024-11-14 11:47:53,896] [INFO] [config:__init__:28]: No cconfiguration file found at /misc/store/home_zztop/fgran/.sme/config.json, using default values instead\n",
      "[2024-11-14 11:47:53,898] [INFO] [synthesize:__init__:48]: Don't forget to cite your sources. Use sme.citation()\n",
      "[2024-11-14 11:47:53,899] [DEBUG] [synthesize:synthesize_spectrum:511]: Synthesize spectrum\n",
      "[2024-11-14 11:47:53,899] [DEBUG] [synthesize:synthesize_spectrum:512]: SME_Structure(citation_info='\\n            @ARTICLE{2017A&A...597A..16P,\\n                author = {{Piskunov}, Nikolai and {Valenti}, Jeff A.},\\n                title = \"{Spectroscopy Made Easy: Evolution}\",\\n                journal = {\\\\aap},\\n                keywords = {stars: abundances, radiative transfer, stars: fundamental parameters, stars: atmospheres, techniques: spectroscopic, Astrophysics - Instrumentation and Methods for Astrophysics, Astrophysics - Solar and Stellar Astrophysics},\\n                year = \"2017\",\\n                month = \"Jan\",\\n                volume = {597},\\n                eid = {A16},\\n                pages = {A16},\\n                doi = {10.1051/0004-6361/201629124},\\n                archivePrefix = {arXiv},\\n                eprint = {1606.06073},\\n                primaryClass = {astro-ph.IM},\\n                adsurl = {https://ui.adsabs.harvard.edu/abs/2017A&A...597A..16P},\\n                adsnote = {Provided by the SAO/NASA Astrophysics Data System}\\n            }\\n            @ARTICLE{1996A&AS..118..595V,\\n                author = {{Valenti}, J.~A. and {Piskunov}, N.},\\n                title = \"{Spectroscopy made easy: A new tool for fitting observations with synthetic spectra.}\",\\n                journal = {\\\\aaps},\\n                keywords = {RADIATIVE TRANSFER, METHODS: NUMERICAL, TECHNIQUES: SPECTROSCOPIC, STARS: FUNDAMENTAL PARAMETERS, SUN: FUNDAMENTAL PARAMETERS, ATOMIC DATA},\\n                year = \"1996\",\\n                month = \"Sep\",\\n                volume = {118},\\n                pages = {595-603},\\n                adsurl = {https://ui.adsabs.harvard.edu/abs/1996A&AS..118..595V},\\n                adsnote = {Provided by the SAO/NASA Astrophysics Data System}\\n            }\\n            ',\n",
      "teff=5070.840554500451,\n",
      "logg=1.619493144819061,\n",
      "abund= [M/H]=-3.057 applied to abundance pattern. Values below are abundances.\n",
      "  H      He     Li     Be     B      C      N      O      F      Ne     Na   \n",
      " 12.000 10.930 -2.007 -1.677 -0.357  6.091  4.773  6.033  1.503  5.273  3.183\n",
      "  Mg     Al     Si     P      S      Cl     Ar     K      Ca     Sc     Ti   \n",
      "  4.943  3.393  4.853  2.353  4.463  2.443  3.743  1.973  3.683  0.093  2.293\n",
      "  V      Cr     Mn     Fe     Co     Ni     Cu     Zn     Ga     Ge     As   \n",
      "  0.873  2.583  2.373  4.392  1.933  3.163  1.133  1.503 -0.017  0.593 -0.757\n",
      "  Se     Br     Kr     Rb     Sr     Y      Zr     Nb     Mo     Tc     Ru   \n",
      "  0.283 -0.517  0.193 -0.537 -0.187 -0.847 -0.477 -1.597 -1.177    nan -1.307\n",
      "  Rh     Pd     Ag     Cd     In     Sn     Sb     Te     I      Xe     Cs   \n",
      " -2.147 -1.487 -2.117 -1.347 -2.257 -1.017 -2.047 -0.877 -1.507 -0.817 -1.977\n",
      "  Ba     La     Ce     Pr     Nd     Pm     Sm     Eu     Gd     Tb     Dy   \n",
      " -0.877 -1.957 -1.477 -2.337 -1.637    nan -2.097 -2.537 -1.987 -2.757 -1.957\n",
      "  Ho     Er     Tm     Yb     Lu     Hf     Ta     W      Re     Os     Ir   \n",
      " -2.577 -2.137 -2.957 -2.217 -2.957 -2.207 -3.177 -2.207 -2.797 -1.657 -1.677\n",
      "  Pt     Au     Hg     Tl     Pb     Bi     Po     At     Rn     Fr     Ra   \n",
      " -1.437 -2.137 -1.887 -2.157 -1.307 -2.407    nan    nan    nan    nan    nan\n",
      "  Ac     Th     Pa     U      Np     Pu     Am     Cm     Bk     Cf     Es   \n",
      "    nan -3.037    nan -3.597    nan    nan    nan    nan    nan    nan    nan,\n",
      "vmic=2.030637240292523,\n",
      "vmac=7.2771005415006496,\n",
      "vsini=0,\n",
      "id='2024-11-01 12:03:40.401489',\n",
      "meta={'object': ''},\n",
      "version='0.4.167',\n",
      "vrad_flag='none',\n",
      "vrad=array([0.]),\n",
      "vrad_bounds=array([-5.,  5.]),\n",
      "vrad_loss='soft_l1',\n",
      "vrad_method='dogbox',\n",
      "vrad_jac='3-point',\n",
      "vrad_xscale='jac',\n",
      "vrad_ftol=1e-08,\n",
      "vrad_xtol=1e-08,\n",
      "vrad_gtol=1e-08,\n",
      "cscale_flag='none',\n",
      "cscale_type='mask',\n",
      "cscale=array([[1.]]),\n",
      "cscale_bounds=[-1.7976931348623157e+308, 1.7976931348623157e+308],\n",
      "cscale_loss='soft_l1',\n",
      "cscale_method='dogbox',\n",
      "cscale_jac='3-point',\n",
      "cscale_xscale='jac',\n",
      "cscale_ftol=1e-08,\n",
      "cscale_xtol=1e-08,\n",
      "cscale_gtol=1e-08,\n",
      "normalize_by_continuum=True,\n",
      "specific_intensities_only=False,\n",
      "gam6=1.0,\n",
      "h2broad=True,\n",
      "accwi=1e-09,\n",
      "accrt=1e-09,\n",
      "leastsquares_method='dogbox',\n",
      "leastsquares_loss='linear',\n",
      "leastsquares_xscale=1.0,\n",
      "leastsquares_jac='2-point',\n",
      "leastsquares_ftol=1e-09,\n",
      "leastsquares_xtol=1e-09,\n",
      "leastsquares_gtol=1e-09,\n",
      "iptype='gauss',\n",
      "ipres=array([42000.]),\n",
      "ip_x=None,\n",
      "ip_y=None,\n",
      "mu=array([0.96362411, 0.88640526, 0.80178373, 0.70710678, 0.5976143 ,\n",
      "       0.46291005, 0.26726124]),\n",
      "wran=array([[4200.024, 4349.992]]),\n",
      "wave=Iliffe_vector([array([4200.024, 4200.052, 4200.08 , ..., 4349.936, 4349.964, 4349.992])]),\n",
      "spec=Iliffe_vector([array([0.94576788, 0.99825108, 0.98834544, ..., 0.99134797, 1.03866744,\n",
      "       1.01130319])]),\n",
      "uncs=Iliffe_vector([array([37.27850342, 37.15297699, 38.8850975 , ..., 42.09832764,\n",
      "       44.61578751, 40.82323074])]),\n",
      "telluric=None,\n",
      "mask=Iliffe_vector([array([0, 0, 0, ..., 1, 1, 1])]),\n",
      "synth=Iliffe_vector([array([1.00149319, 1.00149262, 1.00149202, ..., 0.99933937, 0.9994305 ,\n",
      "       0.99930934])]),\n",
      "cont=Iliffe_vector([array([2400787.93917295, 2400824.95317886, 2400861.96613291, ...,\n",
      "       2584295.19530628, 2584326.79166838, 2584358.38702522])]),\n",
      "linelist=     species       wlcent   excit  vmic  gflog  gamrad  gamqst    gamvw  \\\n",
      "0       Ce 2  4201.239776  0.9043     1 -0.350    0.00    0.00    0.000   \n",
      "1       Co 1  4201.295961  4.0719     1 -0.648    8.31   -4.15   -7.270   \n",
      "2       Ce 2  4201.324354  1.0418     1 -0.440    0.00    0.00    0.000   \n",
      "3       Dy 2  4201.370042  0.5896     1 -1.340    0.00    0.00    0.000   \n",
      "4       Zr 1  4201.460018  0.6228     1 -0.520    0.00    0.00    0.000   \n",
      "...      ...          ...     ...   ...    ...     ...     ...      ...   \n",
      "2264    Ti 2  4350.839447  2.0613     1 -2.967    8.26   -6.46   -7.850   \n",
      "2265    Ti 2  4350.841347  2.0613     1 -2.985    8.26   -6.46   -7.850   \n",
      "2266    Fe 1  4350.989608  3.3014     1 -2.894    8.01   -6.08   -7.780   \n",
      "2267    CH 1  4351.047992  0.4583     1 -1.934    6.27    0.00    0.000   \n",
      "2268    Cr 1  4351.048992  0.9684     1 -1.385    7.06   -6.05  248.244   \n",
      "\n",
      "      lande  depth                                          reference  \\\n",
      "0      0.77  0.094     7 wl:PQWB   7 PQWB   7 gf:PQWB   7 PQWB   7...   \n",
      "1      1.29  0.041    11 wl:K08  11 K08  11 gf:K08  11 K08  11 K08...   \n",
      "2      0.94  0.059     7 wl:PQWB   7 PQWB   7 gf:PQWB   7 PQWB   7...   \n",
      "3      1.19  0.029    15 wl:WLN  15 WLN  15 gf:WLN  15 WLN  15 WLN...   \n",
      "4      1.46  0.031    25 wl:CB  25 CB  25 gf:CB  25 CB  25 CB  25 ...   \n",
      "...     ...    ...                                                ...   \n",
      "2264   1.27  0.126    10 iso:NRLS  10 K16  20 gf:WLSC  10 K16  10 ...   \n",
      "2265   1.27  0.121    10 iso:NRLS  10 K16  20 gf:WLSC  10 K16  10 ...   \n",
      "2266   1.60  0.266     1 wl:K14   1 K14   1 gf:K14   1 K14   1 K14...   \n",
      "2267  99.00  0.081    75 wl:JLIY  75 JLIY  75 gf:JLIY  75 JLIY  75...   \n",
      "2268   0.75  0.812    32 wl:WLHK  32 WLHK  21 gf:K16  21 K16  21 K...   \n",
      "\n",
      "      atom_number  ionization  \n",
      "0               1           2  \n",
      "1               1           1  \n",
      "2               1           2  \n",
      "3               1           2  \n",
      "4               1           1  \n",
      "...           ...         ...  \n",
      "2264            1           2  \n",
      "2265            1           2  \n",
      "2266            1           1  \n",
      "2267            1           1  \n",
      "2268            1           1  \n",
      "\n",
      "[2269 rows x 13 columns],\n",
      "fitparameters=[],\n",
      "fitresults=Fitresults(citation_info='',\n",
      "iterations=7,\n",
      "chisq=3.66835002634651e-06,\n",
      "parameters=['Abund c'],\n",
      "values=array([9.14830418]),\n",
      "uncertainties=array([0.12852364]),\n",
      "covariance=array([[4.71865403]]),\n",
      "gradient=array([4.32533587e-09]),\n",
      "derivative=array([[-1.87136138e-09],\n",
      "       [-1.64900997e-09],\n",
      "       [-1.30968625e-09],\n",
      "       ...,\n",
      "       [-1.79048344e-06],\n",
      "       [-5.27312354e-06],\n",
      "       [-1.66014514e-05]]),\n",
      "residuals=array([-0.00127523, -0.00162494, -0.00011145, ..., -0.00018983,\n",
      "        0.00087944,  0.0002938 ]),\n",
      "fit_uncertainties=[0.004160489710337475]),\n",
      "atmo=Atmosphere(teff=4870.84055450045,\n",
      "logg=1.619493144819061,\n",
      "abund= [M/H]=-3.057 applied to abundance pattern. Values below are abundances.\n",
      "  H      He     Li     Be     B      C      N      O      F      Ne     Na   \n",
      " 12.000 23.034  5.852  6.182  7.502 13.192 12.582 13.862  9.362 13.042 10.972\n",
      "  Mg     Al     Si     P      S      Cl     Ar     K      Ca     Sc     Ti   \n",
      " 12.732 11.172 12.712 10.162 12.342 10.302 11.382  9.882 11.512  7.972 10.102\n",
      "  V      Cr     Mn     Fe     Co     Ni     Cu     Zn     Ga     Ge     As   \n",
      "  8.802 10.442 10.192 12.252  9.722 11.032  9.012  9.402  7.682  8.382  7.092\n",
      "  Se     Br     Kr     Rb     Sr     Y      Zr     Nb     Mo     Tc     Ru   \n",
      "  8.132  7.362  8.052  7.402  7.722  7.012  7.382  6.222  6.722 -0.101  6.642\n",
      "  Rh     Pd     Ag     Cd     In     Sn     Sb     Te     I      Xe     Cs   \n",
      "  5.922  6.462  5.742  6.572  6.402  6.802  5.802  6.992  6.312  7.042  5.872\n",
      "  Ba     La     Ce     Pr     Nd     Pm     Sm     Eu     Gd     Tb     Dy   \n",
      "  6.972  5.932  6.502  5.382  6.252 -0.101  5.802  5.322  5.912  5.082  5.942\n",
      "  Ho     Er     Tm     Yb     Lu     Hf     Ta     W      Re     Os     Ir   \n",
      "  5.312  5.732  4.802  5.882  4.862  5.682  4.632  5.912  5.032  6.052  6.182\n",
      "  Pt     Au     Hg     Tl     Pb     Bi     Po     At     Rn     Fr     Ra   \n",
      "  6.442  5.812  5.932  5.702  6.802  5.452 -0.101 -0.101 -0.101 -0.101 -0.101\n",
      "  Ac     Th     Pa     U      Np     Pu     Am     Cm     Bk     Cf     Es   \n",
      " -0.101  4.862 -0.101  4.282 -0.101 -0.101 -0.101 -0.101 -0.101 -0.101 -0.101,\n",
      "vturb=2.0,\n",
      "lonh=1.5,\n",
      "source='marcs2012s_t2.0.sav',\n",
      "method='grid',\n",
      "geom='SPH',\n",
      "radius=1789965717055.8423,\n",
      "height=array([ 5.07923988e+10,  4.77068001e+10,  4.49557996e+10, ...,\n",
      "       -1.58966003e+09, -1.84911002e+09, -2.15147008e+09]),\n",
      "opflag=array([1, 1, 1, ..., 0, 0, 0]),\n",
      "wlstd=5000.0,\n",
      "depth='RHOX',\n",
      "interp='TAU',\n",
      "rhox=array([  1.29510067,   1.84655166,   2.57443499, ..., 422.6542543 ,\n",
      "       430.63741897, 439.59861328]),\n",
      "tau=array([5.70585097e-04, 8.44030537e-04, 1.20844750e-03, ...,\n",
      "       3.06038267e+01, 4.63581821e+01, 7.04593531e+01]),\n",
      "temp=array([3638.13300616, 3674.59436875, 3709.91437743, ..., 7758.84113529,\n",
      "       7960.08328923, 8161.6171294 ]),\n",
      "rho=array([2.19825950e-10, 3.11887431e-10, 4.31908401e-10, ...,\n",
      "       3.37089575e-08, 3.33383526e-08, 3.30319607e-08]),\n",
      "xna=array([1.05656775e+14, 1.49902438e+14, 2.07584354e+14, ...,\n",
      "       1.62032550e+16, 1.60250960e+16, 1.58777966e+16]),\n",
      "xne=array([9.82514233e+07, 1.45480904e+08, 2.09883004e+08, ...,\n",
      "       1.87214652e+14, 2.45307288e+14, 3.17890904e+14]),\n",
      "citation_info='\\n                @ARTICLE{2008A&A...486..951G,\\n                    author = {{Gustafsson}, B. and {Edvardsson}, B. and {Eriksson}, K. and\\n                    {J{\\\\o}rgensen}, U.~G. and {Nordlund}, {\\\\r{A}}. and {Plez}, B.},\\n                    title = \"{A grid of MARCS model atmospheres for late-type stars. I. Methods and general properties}\",\\n                    journal = {Astronomy and Astrophysics},\\n                    keywords = {stars: atmospheres, Sun: abundances, stars: fundamental parameters, stars: general, stars: late-type, stars: supergiants, Astrophysics},\\n                    year = \"2008\",\\n                    month = \"Aug\",\\n                    volume = {486},\\n                    number = {3},\\n                    pages = {951-970},\\n                    doi = {10.1051/0004-6361:200809724},\\n                    archivePrefix = {arXiv},\\n                    eprint = {0805.0554},\\n                    primaryClass = {astro-ph},\\n                    adsurl = {https://ui.adsabs.harvard.edu/abs/2008A&A...486..951G},\\n                    adsnote = {Provided by the SAO/NASA Astrophysics Data System}\\n                }\\n            '),\n",
      "nlte=NLTE(citation_info='',\n",
      "elements=[],\n",
      "grids={},\n",
      "subgrid_size=array([3, 3, 3, 3]),\n",
      "flags=array([False, False, False, ..., False, False, False]),\n",
      "solar=None,\n",
      "abund_format='H=12',\n",
      "selection='energy',\n",
      "min_energy_diff=None),\n",
      "system_info=Version(citation_info='',\n",
      "arch='',\n",
      "os='',\n",
      "os_family='',\n",
      "os_name='',\n",
      "release='',\n",
      "build_date='',\n",
      "memory_bits=64,\n",
      "host=''))\n"
     ]
    },
    {
     "name": "stdout",
     "output_type": "stream",
     "text": [
      "\u001b[32mINFO - Loading SME file sme_save/UVES_cfe_6167441439259305088_3573234_046.sme\u001b[0m\n",
      "\u001b[32mINFO - No cconfiguration file found at /misc/store/home_zztop/fgran/.sme/config.json, using default values instead\u001b[0m\n",
      "\u001b[32mINFO - Don't forget to cite your sources. Use sme.citation()\u001b[0m\n"
     ]
    },
    {
     "name": "stderr",
     "output_type": "stream",
     "text": [
      "[2024-11-14 11:47:54,164] [DEBUG] [synthesize:synthesize_segment:695]: Segment 0 out of 1\n",
      "[2024-11-14 11:48:51,819] [DEBUG] [synthesize:synthesize_segment:730]: Integrate specific intensities\n",
      "[2024-11-14 11:48:57,165] [DEBUG] [synthesize:synthesize_segment:749]: Apply detector broadening\n",
      "[2024-11-14 11:48:57,205] [DEBUG] [synthesize:synthesize_spectrum:605]: Radial velocity: [0.]\n",
      "[2024-11-14 11:48:57,206] [DEBUG] [synthesize:synthesize_spectrum:606]: Continuum coefficients: [[1.]]\n",
      "[2024-11-14 11:48:57,207] [INFO] [sme:load:839]: Loading SME file sme_save/UVES_cfe_6167441439259305088_3573234_046.sme\n",
      "[2024-11-14 11:48:57,234] [INFO] [config:__init__:28]: No cconfiguration file found at /misc/store/home_zztop/fgran/.sme/config.json, using default values instead\n",
      "[2024-11-14 11:48:57,236] [INFO] [synthesize:__init__:48]: Don't forget to cite your sources. Use sme.citation()\n",
      "[2024-11-14 11:48:57,237] [DEBUG] [synthesize:synthesize_spectrum:511]: Synthesize spectrum\n",
      "[2024-11-14 11:48:57,237] [DEBUG] [synthesize:synthesize_spectrum:512]: SME_Structure(citation_info='\\n            @ARTICLE{2017A&A...597A..16P,\\n                author = {{Piskunov}, Nikolai and {Valenti}, Jeff A.},\\n                title = \"{Spectroscopy Made Easy: Evolution}\",\\n                journal = {\\\\aap},\\n                keywords = {stars: abundances, radiative transfer, stars: fundamental parameters, stars: atmospheres, techniques: spectroscopic, Astrophysics - Instrumentation and Methods for Astrophysics, Astrophysics - Solar and Stellar Astrophysics},\\n                year = \"2017\",\\n                month = \"Jan\",\\n                volume = {597},\\n                eid = {A16},\\n                pages = {A16},\\n                doi = {10.1051/0004-6361/201629124},\\n                archivePrefix = {arXiv},\\n                eprint = {1606.06073},\\n                primaryClass = {astro-ph.IM},\\n                adsurl = {https://ui.adsabs.harvard.edu/abs/2017A&A...597A..16P},\\n                adsnote = {Provided by the SAO/NASA Astrophysics Data System}\\n            }\\n            @ARTICLE{1996A&AS..118..595V,\\n                author = {{Valenti}, J.~A. and {Piskunov}, N.},\\n                title = \"{Spectroscopy made easy: A new tool for fitting observations with synthetic spectra.}\",\\n                journal = {\\\\aaps},\\n                keywords = {RADIATIVE TRANSFER, METHODS: NUMERICAL, TECHNIQUES: SPECTROSCOPIC, STARS: FUNDAMENTAL PARAMETERS, SUN: FUNDAMENTAL PARAMETERS, ATOMIC DATA},\\n                year = \"1996\",\\n                month = \"Sep\",\\n                volume = {118},\\n                pages = {595-603},\\n                adsurl = {https://ui.adsabs.harvard.edu/abs/1996A&AS..118..595V},\\n                adsnote = {Provided by the SAO/NASA Astrophysics Data System}\\n            }\\n            ',\n",
      "teff=4670.840554500451,\n",
      "logg=1.619493144819061,\n",
      "abund= [M/H]=-3.057 applied to abundance pattern. Values below are abundances.\n",
      "  H      He     Li     Be     B      C      N      O      F      Ne     Na   \n",
      " 12.000 10.930 -2.007 -1.677 -0.357  6.091  4.773  6.033  1.503  5.273  3.183\n",
      "  Mg     Al     Si     P      S      Cl     Ar     K      Ca     Sc     Ti   \n",
      "  4.943  3.393  4.853  2.353  4.463  2.443  3.743  1.973  3.683  0.093  2.293\n",
      "  V      Cr     Mn     Fe     Co     Ni     Cu     Zn     Ga     Ge     As   \n",
      "  0.873  2.583  2.373  4.392  1.933  3.163  1.133  1.503 -0.017  0.593 -0.757\n",
      "  Se     Br     Kr     Rb     Sr     Y      Zr     Nb     Mo     Tc     Ru   \n",
      "  0.283 -0.517  0.193 -0.537 -0.187 -0.847 -0.477 -1.597 -1.177    nan -1.307\n",
      "  Rh     Pd     Ag     Cd     In     Sn     Sb     Te     I      Xe     Cs   \n",
      " -2.147 -1.487 -2.117 -1.347 -2.257 -1.017 -2.047 -0.877 -1.507 -0.817 -1.977\n",
      "  Ba     La     Ce     Pr     Nd     Pm     Sm     Eu     Gd     Tb     Dy   \n",
      " -0.877 -1.957 -1.477 -2.337 -1.637    nan -2.097 -2.537 -1.987 -2.757 -1.957\n",
      "  Ho     Er     Tm     Yb     Lu     Hf     Ta     W      Re     Os     Ir   \n",
      " -2.577 -2.137 -2.957 -2.217 -2.957 -2.207 -3.177 -2.207 -2.797 -1.657 -1.677\n",
      "  Pt     Au     Hg     Tl     Pb     Bi     Po     At     Rn     Fr     Ra   \n",
      " -1.437 -2.137 -1.887 -2.157 -1.307 -2.407    nan    nan    nan    nan    nan\n",
      "  Ac     Th     Pa     U      Np     Pu     Am     Cm     Bk     Cf     Es   \n",
      "    nan -3.037    nan -3.597    nan    nan    nan    nan    nan    nan    nan,\n",
      "vmic=2.030637240292523,\n",
      "vmac=7.2771005415006496,\n",
      "vsini=0,\n",
      "id='2024-11-01 12:03:40.401489',\n",
      "meta={'object': ''},\n",
      "version='0.4.167',\n",
      "vrad_flag='none',\n",
      "vrad=array([0.]),\n",
      "vrad_bounds=array([-5.,  5.]),\n",
      "vrad_loss='soft_l1',\n",
      "vrad_method='dogbox',\n",
      "vrad_jac='3-point',\n",
      "vrad_xscale='jac',\n",
      "vrad_ftol=1e-08,\n",
      "vrad_xtol=1e-08,\n",
      "vrad_gtol=1e-08,\n",
      "cscale_flag='none',\n",
      "cscale_type='mask',\n",
      "cscale=array([[1.]]),\n",
      "cscale_bounds=[-1.7976931348623157e+308, 1.7976931348623157e+308],\n",
      "cscale_loss='soft_l1',\n",
      "cscale_method='dogbox',\n",
      "cscale_jac='3-point',\n",
      "cscale_xscale='jac',\n",
      "cscale_ftol=1e-08,\n",
      "cscale_xtol=1e-08,\n",
      "cscale_gtol=1e-08,\n",
      "normalize_by_continuum=True,\n",
      "specific_intensities_only=False,\n",
      "gam6=1.0,\n",
      "h2broad=True,\n",
      "accwi=1e-09,\n",
      "accrt=1e-09,\n",
      "leastsquares_method='dogbox',\n",
      "leastsquares_loss='linear',\n",
      "leastsquares_xscale=1.0,\n",
      "leastsquares_jac='2-point',\n",
      "leastsquares_ftol=1e-09,\n",
      "leastsquares_xtol=1e-09,\n",
      "leastsquares_gtol=1e-09,\n",
      "iptype='gauss',\n",
      "ipres=array([42000.]),\n",
      "ip_x=None,\n",
      "ip_y=None,\n",
      "mu=array([0.96362411, 0.88640526, 0.80178373, 0.70710678, 0.5976143 ,\n",
      "       0.46291005, 0.26726124]),\n",
      "wran=array([[4200.024, 4349.992]]),\n",
      "wave=Iliffe_vector([array([4200.024, 4200.052, 4200.08 , ..., 4349.936, 4349.964, 4349.992])]),\n",
      "spec=Iliffe_vector([array([0.94576788, 0.99825108, 0.98834544, ..., 0.99134797, 1.03866744,\n",
      "       1.01130319])]),\n",
      "uncs=Iliffe_vector([array([37.27850342, 37.15297699, 38.8850975 , ..., 42.09832764,\n",
      "       44.61578751, 40.82323074])]),\n",
      "telluric=None,\n",
      "mask=Iliffe_vector([array([0, 0, 0, ..., 1, 1, 1])]),\n",
      "synth=Iliffe_vector([array([1.00149319, 1.00149262, 1.00149202, ..., 0.99933937, 0.9994305 ,\n",
      "       0.99930934])]),\n",
      "cont=Iliffe_vector([array([2400787.93917295, 2400824.95317886, 2400861.96613291, ...,\n",
      "       2584295.19530628, 2584326.79166838, 2584358.38702522])]),\n",
      "linelist=     species       wlcent   excit  vmic  gflog  gamrad  gamqst    gamvw  \\\n",
      "0       Ce 2  4201.239776  0.9043     1 -0.350    0.00    0.00    0.000   \n",
      "1       Co 1  4201.295961  4.0719     1 -0.648    8.31   -4.15   -7.270   \n",
      "2       Ce 2  4201.324354  1.0418     1 -0.440    0.00    0.00    0.000   \n",
      "3       Dy 2  4201.370042  0.5896     1 -1.340    0.00    0.00    0.000   \n",
      "4       Zr 1  4201.460018  0.6228     1 -0.520    0.00    0.00    0.000   \n",
      "...      ...          ...     ...   ...    ...     ...     ...      ...   \n",
      "2264    Ti 2  4350.839447  2.0613     1 -2.967    8.26   -6.46   -7.850   \n",
      "2265    Ti 2  4350.841347  2.0613     1 -2.985    8.26   -6.46   -7.850   \n",
      "2266    Fe 1  4350.989608  3.3014     1 -2.894    8.01   -6.08   -7.780   \n",
      "2267    CH 1  4351.047992  0.4583     1 -1.934    6.27    0.00    0.000   \n",
      "2268    Cr 1  4351.048992  0.9684     1 -1.385    7.06   -6.05  248.244   \n",
      "\n",
      "      lande  depth                                          reference  \\\n",
      "0      0.77  0.094     7 wl:PQWB   7 PQWB   7 gf:PQWB   7 PQWB   7...   \n",
      "1      1.29  0.041    11 wl:K08  11 K08  11 gf:K08  11 K08  11 K08...   \n",
      "2      0.94  0.059     7 wl:PQWB   7 PQWB   7 gf:PQWB   7 PQWB   7...   \n",
      "3      1.19  0.029    15 wl:WLN  15 WLN  15 gf:WLN  15 WLN  15 WLN...   \n",
      "4      1.46  0.031    25 wl:CB  25 CB  25 gf:CB  25 CB  25 CB  25 ...   \n",
      "...     ...    ...                                                ...   \n",
      "2264   1.27  0.126    10 iso:NRLS  10 K16  20 gf:WLSC  10 K16  10 ...   \n",
      "2265   1.27  0.121    10 iso:NRLS  10 K16  20 gf:WLSC  10 K16  10 ...   \n",
      "2266   1.60  0.266     1 wl:K14   1 K14   1 gf:K14   1 K14   1 K14...   \n",
      "2267  99.00  0.081    75 wl:JLIY  75 JLIY  75 gf:JLIY  75 JLIY  75...   \n",
      "2268   0.75  0.812    32 wl:WLHK  32 WLHK  21 gf:K16  21 K16  21 K...   \n",
      "\n",
      "      atom_number  ionization  \n",
      "0               1           2  \n",
      "1               1           1  \n",
      "2               1           2  \n",
      "3               1           2  \n",
      "4               1           1  \n",
      "...           ...         ...  \n",
      "2264            1           2  \n",
      "2265            1           2  \n",
      "2266            1           1  \n",
      "2267            1           1  \n",
      "2268            1           1  \n",
      "\n",
      "[2269 rows x 13 columns],\n",
      "fitparameters=[],\n",
      "fitresults=Fitresults(citation_info='',\n",
      "iterations=7,\n",
      "chisq=3.66835002634651e-06,\n",
      "parameters=['Abund c'],\n",
      "values=array([9.14830418]),\n",
      "uncertainties=array([0.12852364]),\n",
      "covariance=array([[4.71865403]]),\n",
      "gradient=array([4.32533587e-09]),\n",
      "derivative=array([[-1.87136138e-09],\n",
      "       [-1.64900997e-09],\n",
      "       [-1.30968625e-09],\n",
      "       ...,\n",
      "       [-1.79048344e-06],\n",
      "       [-5.27312354e-06],\n",
      "       [-1.66014514e-05]]),\n",
      "residuals=array([-0.00127523, -0.00162494, -0.00011145, ..., -0.00018983,\n",
      "        0.00087944,  0.0002938 ]),\n",
      "fit_uncertainties=[0.004160489710337475]),\n",
      "atmo=Atmosphere(teff=4870.84055450045,\n",
      "logg=1.619493144819061,\n",
      "abund= [M/H]=-3.057 applied to abundance pattern. Values below are abundances.\n",
      "  H      He     Li     Be     B      C      N      O      F      Ne     Na   \n",
      " 12.000 23.034  5.852  6.182  7.502 13.192 12.582 13.862  9.362 13.042 10.972\n",
      "  Mg     Al     Si     P      S      Cl     Ar     K      Ca     Sc     Ti   \n",
      " 12.732 11.172 12.712 10.162 12.342 10.302 11.382  9.882 11.512  7.972 10.102\n",
      "  V      Cr     Mn     Fe     Co     Ni     Cu     Zn     Ga     Ge     As   \n",
      "  8.802 10.442 10.192 12.252  9.722 11.032  9.012  9.402  7.682  8.382  7.092\n",
      "  Se     Br     Kr     Rb     Sr     Y      Zr     Nb     Mo     Tc     Ru   \n",
      "  8.132  7.362  8.052  7.402  7.722  7.012  7.382  6.222  6.722 -0.101  6.642\n",
      "  Rh     Pd     Ag     Cd     In     Sn     Sb     Te     I      Xe     Cs   \n",
      "  5.922  6.462  5.742  6.572  6.402  6.802  5.802  6.992  6.312  7.042  5.872\n",
      "  Ba     La     Ce     Pr     Nd     Pm     Sm     Eu     Gd     Tb     Dy   \n",
      "  6.972  5.932  6.502  5.382  6.252 -0.101  5.802  5.322  5.912  5.082  5.942\n",
      "  Ho     Er     Tm     Yb     Lu     Hf     Ta     W      Re     Os     Ir   \n",
      "  5.312  5.732  4.802  5.882  4.862  5.682  4.632  5.912  5.032  6.052  6.182\n",
      "  Pt     Au     Hg     Tl     Pb     Bi     Po     At     Rn     Fr     Ra   \n",
      "  6.442  5.812  5.932  5.702  6.802  5.452 -0.101 -0.101 -0.101 -0.101 -0.101\n",
      "  Ac     Th     Pa     U      Np     Pu     Am     Cm     Bk     Cf     Es   \n",
      " -0.101  4.862 -0.101  4.282 -0.101 -0.101 -0.101 -0.101 -0.101 -0.101 -0.101,\n",
      "vturb=2.0,\n",
      "lonh=1.5,\n",
      "source='marcs2012s_t2.0.sav',\n",
      "method='grid',\n",
      "geom='SPH',\n",
      "radius=1789965717055.8423,\n",
      "height=array([ 5.07923988e+10,  4.77068001e+10,  4.49557996e+10, ...,\n",
      "       -1.58966003e+09, -1.84911002e+09, -2.15147008e+09]),\n",
      "opflag=array([1, 1, 1, ..., 0, 0, 0]),\n",
      "wlstd=5000.0,\n",
      "depth='RHOX',\n",
      "interp='TAU',\n",
      "rhox=array([  1.29510067,   1.84655166,   2.57443499, ..., 422.6542543 ,\n",
      "       430.63741897, 439.59861328]),\n",
      "tau=array([5.70585097e-04, 8.44030537e-04, 1.20844750e-03, ...,\n",
      "       3.06038267e+01, 4.63581821e+01, 7.04593531e+01]),\n",
      "temp=array([3638.13300616, 3674.59436875, 3709.91437743, ..., 7758.84113529,\n",
      "       7960.08328923, 8161.6171294 ]),\n",
      "rho=array([2.19825950e-10, 3.11887431e-10, 4.31908401e-10, ...,\n",
      "       3.37089575e-08, 3.33383526e-08, 3.30319607e-08]),\n",
      "xna=array([1.05656775e+14, 1.49902438e+14, 2.07584354e+14, ...,\n",
      "       1.62032550e+16, 1.60250960e+16, 1.58777966e+16]),\n",
      "xne=array([9.82514233e+07, 1.45480904e+08, 2.09883004e+08, ...,\n",
      "       1.87214652e+14, 2.45307288e+14, 3.17890904e+14]),\n",
      "citation_info='\\n                @ARTICLE{2008A&A...486..951G,\\n                    author = {{Gustafsson}, B. and {Edvardsson}, B. and {Eriksson}, K. and\\n                    {J{\\\\o}rgensen}, U.~G. and {Nordlund}, {\\\\r{A}}. and {Plez}, B.},\\n                    title = \"{A grid of MARCS model atmospheres for late-type stars. I. Methods and general properties}\",\\n                    journal = {Astronomy and Astrophysics},\\n                    keywords = {stars: atmospheres, Sun: abundances, stars: fundamental parameters, stars: general, stars: late-type, stars: supergiants, Astrophysics},\\n                    year = \"2008\",\\n                    month = \"Aug\",\\n                    volume = {486},\\n                    number = {3},\\n                    pages = {951-970},\\n                    doi = {10.1051/0004-6361:200809724},\\n                    archivePrefix = {arXiv},\\n                    eprint = {0805.0554},\\n                    primaryClass = {astro-ph},\\n                    adsurl = {https://ui.adsabs.harvard.edu/abs/2008A&A...486..951G},\\n                    adsnote = {Provided by the SAO/NASA Astrophysics Data System}\\n                }\\n            '),\n",
      "nlte=NLTE(citation_info='',\n",
      "elements=[],\n",
      "grids={},\n",
      "subgrid_size=array([3, 3, 3, 3]),\n",
      "flags=array([False, False, False, ..., False, False, False]),\n",
      "solar=None,\n",
      "abund_format='H=12',\n",
      "selection='energy',\n",
      "min_energy_diff=None),\n",
      "system_info=Version(citation_info='',\n",
      "arch='',\n",
      "os='',\n",
      "os_family='',\n",
      "os_name='',\n",
      "release='',\n",
      "build_date='',\n",
      "memory_bits=64,\n",
      "host=''))\n"
     ]
    },
    {
     "name": "stdout",
     "output_type": "stream",
     "text": [
      "\u001b[32mINFO - Loading SME file sme_save/UVES_cfe_6167441439259305088_3573234_046.sme\u001b[0m\n",
      "\u001b[32mINFO - No cconfiguration file found at /misc/store/home_zztop/fgran/.sme/config.json, using default values instead\u001b[0m\n",
      "\u001b[32mINFO - Don't forget to cite your sources. Use sme.citation()\u001b[0m\n"
     ]
    },
    {
     "name": "stderr",
     "output_type": "stream",
     "text": [
      "[2024-11-14 11:48:57,523] [DEBUG] [synthesize:synthesize_segment:695]: Segment 0 out of 1\n",
      "[2024-11-14 11:50:04,005] [DEBUG] [synthesize:synthesize_segment:730]: Integrate specific intensities\n",
      "[2024-11-14 11:50:09,362] [DEBUG] [synthesize:synthesize_segment:749]: Apply detector broadening\n",
      "[2024-11-14 11:50:09,402] [DEBUG] [synthesize:synthesize_spectrum:605]: Radial velocity: [0.]\n",
      "[2024-11-14 11:50:09,403] [DEBUG] [synthesize:synthesize_spectrum:606]: Continuum coefficients: [[1.]]\n"
     ]
    }
   ],
   "source": [
    "sme_p100k = SME_Structure.load('sme_save/UVES_cfe_6167441439259305088_3573234_046.sme')\n",
    "sme_p100k.teff = sme_p100k.teff + 200.\n",
    "sme_p100k.vrad_flag = 'None'\n",
    "sme_p100k.cscale_flag = 'None'\n",
    "sme_p100k = synthesize_spectrum(sme_p100k)\n",
    "\n",
    "sme_m100k = SME_Structure.load('sme_save/UVES_cfe_6167441439259305088_3573234_046.sme')\n",
    "sme_m100k.teff = sme_m100k.teff - 200.\n",
    "sme_m100k.vrad_flag = 'None'\n",
    "sme_m100k.cscale_flag = 'None'\n",
    "sme_m100k = synthesize_spectrum(sme_m100k)"
   ]
  },
  {
   "cell_type": "code",
   "execution_count": null,
   "id": "e5d101df-6525-450c-b45a-6de77ea55577",
   "metadata": {},
   "outputs": [],
   "source": []
  },
  {
   "cell_type": "code",
   "execution_count": 39,
   "id": "1802440c-fb1b-4103-a485-65c167d6e540",
   "metadata": {
    "tags": []
   },
   "outputs": [
    {
     "data": {
      "image/png": "[encoded data removed]",
      "text/plain": [
       "<Figure size 1500x500 with 1 Axes>"
      ]
     },
     "metadata": {
      "needs_background": "light"
     },
     "output_type": "display_data"
    }
   ],
   "source": [
    "plt.figure(figsize=(15,5), dpi=100)\n",
    "\n",
    "plt.step(sme.wave.data, sme.spec.data, lw=0.8, color='k', alpha=0.99, where='mid')\n",
    "plt.plot(sme.wave.data, sme.synth.data, lw=1.5, color='C2', alpha=0.5)\n",
    "\n",
    "plt.plot(sme_p100k.wave.data, sme_p100k.synth.data, lw=1.5, color='C1', alpha=0.5)\n",
    "plt.plot(sme_m100k.wave.data, sme_m100k.synth.data, lw=1.5, color='C1', alpha=0.5)\n",
    "\n",
    "\n",
    "# plt.scatter(sme.wave.data[sme.mask.data == 2], sme.mask.data[sme.mask.data == 2]-1, color='grey', alpha=0.1)\n",
    "# plt.scatter(sme.wave.data, sme.mask.data, color='C4', alpha=0.1)\n",
    "\n",
    "for wline, species, depth in pd.DataFrame(sme.linelist)[['wlcent', 'species', 'depth']].values:#linelist_short_all[['wlcent', 'species', 'depth']]:\n",
    "    # if 'H 1' in species:\n",
    "    #     continue\n",
    "    if (species == 'Fe 1') | (species == 'Fe 2'):\n",
    "        plt.vlines(wline, 0.1, 0.15, color='r')\n",
    "    if (species == 'CN 1'):\n",
    "        plt.vlines(wline, 0.05, 0.15, color='b')\n",
    "    if species not in elems_to_include:\n",
    "        continue\n",
    "#     # if (depth > 0.85) | (depth < 0.15):\n",
    "#     #     continue\n",
    "    plt.vlines(wline, 0.2, 0.25, color='C1')\n",
    "    # plt.annotate(text='%s' %species, xy=(wline, 0.05), rotation=90)\n",
    "\n",
    "# plt.xlim(4280, 4312)\n",
    "# plt.xlim(4250, 4325)\n",
    "# plt.xlim(4270, 4317)\n",
    "# plt.xlim(4250, 4275)\n",
    "# plt.xlim(4300, 4320)\n",
    "plt.xlim(4218, 4225)\n",
    "plt.ylim(0.0, 1.1)\n",
    "\n",
    "plt.xlabel(r'Wavelength ($\\AA$)', size=15)\n",
    "plt.ylabel(r'Normalised flux', size=15)\n",
    "# plt.xlim(6500, 6600)\n",
    "# plt.savefig('plots/CEMP2.pdf')\n",
    "plt.show()"
   ]
  },
  {
   "cell_type": "code",
   "execution_count": 74,
   "id": "6d3fb4c2-538b-4228-a8d9-d6aaca75af25",
   "metadata": {
    "tags": []
   },
   "outputs": [
    {
     "data": {
      "text/plain": [
       "(array([9.14830418]), array([0.12852364]), 7)"
      ]
     },
     "execution_count": 74,
     "metadata": {},
     "output_type": "execute_result"
    }
   ],
   "source": [
    "sme.fitresults.values, sme.fitresults.uncertainties, sme.fitresults.iterations"
   ]
  },
  {
   "cell_type": "code",
   "execution_count": 20,
   "id": "72ae721e-5971-4125-8b05-22767cbd363c",
   "metadata": {},
   "outputs": [
    {
     "data": {
      "text/plain": [
       "4870.840554500451"
      ]
     },
     "execution_count": 20,
     "metadata": {},
     "output_type": "execute_result"
    }
   ],
   "source": [
    "sme.teff"
   ]
  },
  {
   "cell_type": "code",
   "execution_count": 30,
   "id": "7e4256ad-2168-4cb2-bd29-3a20b1aa7f99",
   "metadata": {
    "tags": []
   },
   "outputs": [],
   "source": [
    "# ll = pd.DataFrame(linelist_short_all)"
   ]
  },
  {
   "cell_type": "code",
   "execution_count": 31,
   "id": "3764d899-f6ca-4461-87d9-2a7deddab9ab",
   "metadata": {
    "tags": []
   },
   "outputs": [],
   "source": [
    "# ll.query(\"species == 'CH 1'\")\n",
    "# np.unique(np.ravel(linelist_short_all[['species']]))"
   ]
  },
  {
   "cell_type": "code",
   "execution_count": 32,
   "id": "45ed7a8a-c141-4fe7-923e-f1a1500f9894",
   "metadata": {
    "tags": []
   },
   "outputs": [],
   "source": [
    "# plt.hist(ll.query(\"species == 'CH 1'\").wlcent, bins=100)\n",
    "# plt.show()"
   ]
  },
  {
   "cell_type": "code",
   "execution_count": 27,
   "id": "c81b420e-6da2-47ed-a4dc-ba95222331eb",
   "metadata": {
    "tags": []
   },
   "outputs": [],
   "source": [
    "sme.linelist = linelist_short_all"
   ]
  },
  {
   "cell_type": "code",
   "execution_count": 28,
   "id": "e010bbbc-583a-4350-8e7d-6b3b62fcd85e",
   "metadata": {
    "tags": []
   },
   "outputs": [],
   "source": [
    "# sme.abund.update_pattern({'C':7.8})\n",
    "# sme.abund.update_pattern({'Ba':2.1})"
   ]
  },
  {
   "cell_type": "code",
   "execution_count": 29,
   "id": "54a4a9f0-e669-43ef-8879-7d9dd46fbe14",
   "metadata": {
    "tags": []
   },
   "outputs": [
    {
     "name": "stderr",
     "output_type": "stream",
     "text": [
      "[2024-02-21 15:34:05,482] [INFO] [synthesize:__init__:48]: Don't forget to cite your sources. Use sme.citation()\n"
     ]
    },
    {
     "name": "stdout",
     "output_type": "stream",
     "text": [
      "\u001b[32mINFO - Don't forget to cite your sources. Use sme.citation()\u001b[0m\n",
      "CPU times: user 5.66 s, sys: 12 ms, total: 5.68 s\n",
      "Wall time: 5.67 s\n"
     ]
    }
   ],
   "source": [
    "%%time\n",
    "sme = synthesize_spectrum(sme)"
   ]
  },
  {
   "cell_type": "code",
   "execution_count": 30,
   "id": "959fc22b-ffd5-4a59-937c-9d3fedd94a15",
   "metadata": {
    "tags": []
   },
   "outputs": [
    {
     "data": {
      "text/plain": [
       "['C 1', 'C2 1', 'CH 1', 'CN 1']"
      ]
     },
     "execution_count": 30,
     "metadata": {},
     "output_type": "execute_result"
    }
   ],
   "source": [
    "elems_to_include"
   ]
  },
  {
   "cell_type": "code",
   "execution_count": 32,
   "id": "c19895b7-ddac-4853-bb42-01c364015693",
   "metadata": {
    "tags": []
   },
   "outputs": [
    {
     "data": {
      "image/png": "[encoded data removed]",
      "text/plain": [
       "<Figure size 1500x500 with 1 Axes>"
      ]
     },
     "metadata": {},
     "output_type": "display_data"
    }
   ],
   "source": [
    "plt.figure(figsize=(15,5))\n",
    "\n",
    "plt.step(sme.wave.data, sme.spec.data, lw=0.8, color='k')\n",
    "plt.plot(sme.wave.data, sme.synth.data, lw=1.5, color='C2', alpha=0.75)\n",
    "\n",
    "plt.scatter(sme.wave.data[sme.mask.data == 2], sme.mask.data[sme.mask.data == 2]-1, color='grey', alpha=0.4)\n",
    "# plt.scatter(sme.wave.data, sme.mask.data, color='grey', alpha=0.4)\n",
    "\n",
    "for wline, species, depth in linelist_short_all[['wlcent', 'species', 'depth']]:\n",
    "    # if 'H 1' in species:\n",
    "    #     continue\n",
    "    if (species == 'Fe 1') | (species == 'Fe 2'):\n",
    "        plt.vlines(wline, 0.1, 0.15, color='r')\n",
    "    if (species == 'CN 1'):\n",
    "        plt.vlines(wline, 0.05, 0.15, color='b')\n",
    "    if species not in elems_to_include:\n",
    "        continue\n",
    "#     # if (depth > 0.85) | (depth < 0.15):\n",
    "#     #     continue\n",
    "    plt.vlines(wline, 0.2, 0.25, color='C1')\n",
    "    # plt.annotate(text='%s' %species, xy=(wline, 0.05), rotation=90)\n",
    "\n",
    "# plt.hlines(1.02, 4250, 4300)\n",
    "\n",
    "# plt.ylim(0, 1.1)\n",
    "# plt.xlim(5165.5, 5185) #Mg\n",
    "# plt.xlim(4213, 4219) #Sr\n",
    "# plt.xlim(4074, 4080) #Sr\n",
    "# plt.xlim(4930, 4938) #Ba\n",
    "# plt.xlim(4882, 4885) #Y\n",
    "\n",
    "# plt.xlim(4250, 4350)\n",
    "# plt.xlim(4280, 4327)\n",
    "\n",
    "plt.xlim(4280, 4312)\n",
    "# plt.xlim(3790, 3885)\n",
    "\n",
    "plt.xlabel(r'Wavelength ($\\AA$)', size=15)\n",
    "plt.ylabel(r'Normalised flux', size=15)\n",
    "# plt.xlim(6500, 6600)\n",
    "plt.savefig('plots/CEMP2.pdf')\n",
    "plt.show()"
   ]
  },
  {
   "cell_type": "code",
   "execution_count": 21,
   "id": "404a62d1-cb25-4487-a431-7eb1ceacf5be",
   "metadata": {
    "tags": []
   },
   "outputs": [
    {
     "data": {
      "text/plain": [
       "(array([[0.97984875]]), array([0.6454197]))"
      ]
     },
     "execution_count": 21,
     "metadata": {},
     "output_type": "execute_result"
    }
   ],
   "source": [
    "sme.cscale, sme.fitresults.uncertainties"
   ]
  },
  {
   "cell_type": "code",
   "execution_count": null,
   "id": "93c753fe-21a0-450d-b2d2-47b51f77d6b6",
   "metadata": {},
   "outputs": [],
   "source": []
  },
  {
   "cell_type": "code",
   "execution_count": 20,
   "id": "55fdb8f7-9ddf-426e-9082-2a1ec462b965",
   "metadata": {
    "tags": []
   },
   "outputs": [],
   "source": [
    "#Carbon continuum regions"
   ]
  },
  {
   "cell_type": "code",
   "execution_count": 59,
   "id": "8e950224-3e26-4f7c-b590-b799a836fd33",
   "metadata": {},
   "outputs": [
    {
     "name": "stderr",
     "output_type": "stream",
     "text": [
      "[2024-11-01 11:08:58,482] [INFO] [sme:load:839]: Loading SME file sme_save/UVES_atm_2541284393302759296_3708442_129.sme\n"
     ]
    },
    {
     "name": "stdout",
     "output_type": "stream",
     "text": [
      "\u001b[32mINFO - Loading SME file sme_save/UVES_atm_2541284393302759296_3708442_129.sme\u001b[0m\n"
     ]
    }
   ],
   "source": [
    "sme = SME_Structure.load('sme_save/UVES_atm_2541284393302759296_3708442_129.sme')"
   ]
  },
  {
   "cell_type": "code",
   "execution_count": 28,
   "id": "7162a0ce-4af8-4f24-af12-20a90e667352",
   "metadata": {
    "tags": []
   },
   "outputs": [],
   "source": [
    "cont_blue = ispec.read_continuum_regions('continuum_model/continuum_regions_blue.txt')"
   ]
  },
  {
   "cell_type": "code",
   "execution_count": 29,
   "id": "f19e86ce-e628-4862-ba45-b534dd403054",
   "metadata": {
    "tags": []
   },
   "outputs": [
    {
     "ename": "KeyboardInterrupt",
     "evalue": "",
     "output_type": "error",
     "traceback": [
      "\u001b[0;31m---------------------------------------------------------------------------\u001b[0m",
      "\u001b[0;31mKeyboardInterrupt\u001b[0m                         Traceback (most recent call last)",
      "Input \u001b[0;32mIn [29]\u001b[0m, in \u001b[0;36m<cell line: 5>\u001b[0;34m()\u001b[0m\n\u001b[1;32m      3\u001b[0m cont_mask_blue \u001b[38;5;241m=\u001b[39m np\u001b[38;5;241m.\u001b[39mzeros_like(sme\u001b[38;5;241m.\u001b[39mwave[\u001b[38;5;241m0\u001b[39m])\n\u001b[1;32m      5\u001b[0m \u001b[38;5;28;01mfor\u001b[39;00m mask_i, wl \u001b[38;5;129;01min\u001b[39;00m \u001b[38;5;28menumerate\u001b[39m(sme\u001b[38;5;241m.\u001b[39mwave\u001b[38;5;241m.\u001b[39mdata\u001b[38;5;241m/\u001b[39m\u001b[38;5;241m10.\u001b[39m):\n\u001b[0;32m----> 6\u001b[0m     \u001b[38;5;28;01mfor\u001b[39;00m cont_low, cont_high \u001b[38;5;129;01min\u001b[39;00m cont_blue:\n\u001b[1;32m      7\u001b[0m         \u001b[38;5;28;01mif\u001b[39;00m (wl \u001b[38;5;241m<\u001b[39m\u001b[38;5;241m=\u001b[39m cont_low) \u001b[38;5;241m|\u001b[39m (wl \u001b[38;5;241m>\u001b[39m\u001b[38;5;241m=\u001b[39m cont_high):\n\u001b[1;32m      8\u001b[0m             \u001b[38;5;28;01mcontinue\u001b[39;00m\n",
      "\u001b[0;31mKeyboardInterrupt\u001b[0m: "
     ]
    }
   ],
   "source": [
    "# %%time\n",
    "\n",
    "cont_mask_blue = np.zeros_like(sme.wave[0])\n",
    "\n",
    "for mask_i, wl in enumerate(sme.wave.data/10.):\n",
    "    for cont_low, cont_high in cont_blue:\n",
    "        if (wl <= cont_low) | (wl >= cont_high):\n",
    "            continue\n",
    "        else:\n",
    "            cont_mask_blue[mask_i] = 2\n",
    "            break"
   ]
  },
  {
   "cell_type": "code",
   "execution_count": 77,
   "id": "26336f6b-eddd-46cb-9f17-5c766a8dc9b5",
   "metadata": {
    "tags": []
   },
   "outputs": [],
   "source": [
    "np.savetxt('continuum_model/sme_cont_mask_blue_carbon', cont_mask_blue, fmt='%d')"
   ]
  },
  {
   "cell_type": "code",
   "execution_count": null,
   "id": "c0f4162a-7b8c-42a0-b2ea-4539c3967b16",
   "metadata": {},
   "outputs": [],
   "source": []
  },
  {
   "cell_type": "code",
   "execution_count": null,
   "id": "5695154e-a057-4d12-acd9-0d9b0b1d09fd",
   "metadata": {},
   "outputs": [],
   "source": []
  },
  {
   "cell_type": "code",
   "execution_count": null,
   "id": "2cc1ea72-a6ab-4b0d-ad8e-ca88172b9680",
   "metadata": {},
   "outputs": [],
   "source": []
  },
  {
   "cell_type": "code",
   "execution_count": null,
   "id": "c0a46651-f64e-410a-9b70-dd7d40ac081e",
   "metadata": {
    "tags": []
   },
   "outputs": [],
   "source": []
  },
  {
   "cell_type": "code",
   "execution_count": null,
   "id": "164c0e61-a6bf-4e75-8f74-a34b12012548",
   "metadata": {
    "tags": []
   },
   "outputs": [],
   "source": []
  },
  {
   "cell_type": "code",
   "execution_count": null,
   "id": "020ed55f-0e97-4791-a824-a8545536aa5e",
   "metadata": {},
   "outputs": [],
   "source": [
    "    # # For marcs2012 atmosphere\n",
    "    # _default_grids = {\n",
    "    #     \"Al\": \"nlte_Al_ama51_pysme.grd\",\n",
    "    #     \"Fe\": \"marcs2012_Fe2016.grd\",\n",
    "    #     \"Li\": \"nlte_Li_ama51_pysme.grd\",\n",
    "    #     \"Mg\": \"nlte_Mg_ama51_pysme.grd\",\n",
    "    #     \"Na\": \"nlte_Na_ama51_pysme.grd\",\n",
    "    #     \"O\": \"nlte_O_ama51_pysme.grd\",\n",
    "    #     \"Ba\": \"nlte_Ba_ama51_pysme.grd\",\n",
    "    #     \"Ca\": \"nlte_Ca_ama51_pysme.grd\",\n",
    "    #     \"Si\": \"nlte_Si_ama51_pysme.grd\",\n",
    "    #     \"Ti\": \"marcs2012s_t2.0_Ti.grd\",\n",
    "    #     \"C\": \"nlte_C_ama51_pysme.grd\",\n",
    "    #     \"H\": \"nlte_H_ama51_pysme.grd\",\n",
    "    #     \"K\": \"nlte_K_ama51_pysme.grd\",\n",
    "    #     \"Mn\": \"nlte_Mn_ama51_pysme.grd\",\n",
    "    #     \"N\": \"nlte_N_ama51_pysme.grd\",\n",
    "    # }"
   ]
  }
 ],
 "metadata": {
  "kernelspec": {
   "display_name": "Python 3 (ipykernel)",
   "language": "python",
   "name": "python3"
  },
  "language_info": {
   "codemirror_mode": {
    "name": "ipython",
    "version": 3
   },
   "file_extension": ".py",
   "mimetype": "text/x-python",
   "name": "python",
   "nbconvert_exporter": "python",
   "pygments_lexer": "ipython3",
   "version": "3.9.12"
  }
 },
 "nbformat": 4,
 "nbformat_minor": 5
}
