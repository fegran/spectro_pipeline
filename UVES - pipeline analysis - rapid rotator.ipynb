{
 "cells": [
  {
   "cell_type": "code",
   "execution_count": 1,
   "id": "7be5e6da-cd18-4192-b190-63ef2e88ef59",
   "metadata": {},
   "outputs": [],
   "source": [
    "from pysme.synthesize import synthesize_spectrum\n",
    "from pysme.linelist.linelist import LineList\n",
    "from pysme.linelist.vald import ValdFile\n",
    "from pysme.sme import SME_Structure\n",
    "from pysme.util import vac2air\n",
    "from pysme.solve import solve\n",
    "from pysme.abund import Abund\n",
    "from pysme import util\n",
    "\n",
    "from joblib import Parallel, delayed\n",
    "import matplotlib.pyplot as plt\n",
    "import pandas as pd\n",
    "import numpy as np\n",
    "import warnings\n",
    "import sys\n",
    "import os\n",
    "\n",
    "warnings.filterwarnings('ignore')"
   ]
  },
  {
   "cell_type": "code",
   "execution_count": 2,
   "id": "a8a2797d-9264-43ef-a628-d35968a7b7e0",
   "metadata": {},
   "outputs": [],
   "source": [
    "os.chdir('/home/fgran/iSpec/')\n",
    "import ispec\n",
    "sys.path.append('/home/fgran/iSpec/')"
   ]
  },
  {
   "cell_type": "code",
   "execution_count": 3,
   "id": "54607112-6ac6-48ff-9000-6f765ea54271",
   "metadata": {},
   "outputs": [],
   "source": [
    "os.environ['NUMEXPR_MAX_THREADS'] = '80' #change this number using the correct number of cores/threads in jupyter.slurm"
   ]
  },
  {
   "cell_type": "code",
   "execution_count": 4,
   "id": "335d91c4-cc10-4e01-9cca-0a7223cc244c",
   "metadata": {},
   "outputs": [],
   "source": [
    "#Move to the correct directory: Pristine-UVES\n",
    "os.chdir('/store/teams/cosmos/fgran/data/Pristine-UVES/')"
   ]
  },
  {
   "cell_type": "code",
   "execution_count": 6,
   "id": "141d3972-a13d-48b2-b909-30dd92e6f888",
   "metadata": {},
   "outputs": [],
   "source": [
    "#Prepare catalogue ingestion\n",
    "uves = pd.read_csv('tmp_merged/UVES_p111_p112_pristinedr1_xgboost_logg_atm_uncs_fe.csv')"
   ]
  },
  {
   "cell_type": "code",
   "execution_count": 9,
   "id": "7a473213-58b6-4677-bd21-d69c96956eaa",
   "metadata": {},
   "outputs": [],
   "source": [
    "wmin_blue = 4000 #AA\n",
    "wmax_blue = 4500 #AA\n",
    "wmin_red1 = 4730 #AA\n",
    "wmax_red1 = 5700 #AA\n",
    "wmin_red2 = 5850 #AA\n",
    "wmax_red2 = 6800 #AA"
   ]
  },
  {
   "cell_type": "code",
   "execution_count": 10,
   "id": "003fb52c-f12c-4b95-b634-64f9a009fa8e",
   "metadata": {},
   "outputs": [
    {
     "name": "stderr",
     "output_type": "stream",
     "text": [
      "[2024-11-15 13:33:05,605] [INFO] [vald:loads:173]: Loading VALD file linelist/3800-6800_long.lin\n"
     ]
    },
    {
     "name": "stdout",
     "output_type": "stream",
     "text": [
      "\u001b[32mINFO - Loading VALD file linelist/3800-6800_long.lin\u001b[0m\n"
     ]
    },
    {
     "name": "stderr",
     "output_type": "stream",
     "text": [
      "[2024-11-15 13:33:05,977] [WARNING] [vald:parse_references:530]: Could not find citation key: SNave\n",
      "[2024-11-15 13:33:05,978] [DEBUG] [vald:parse_references:531]: 'snave'\n",
      "[2024-11-15 13:33:05,979] [WARNING] [vald:parse_references:530]: Could not find citation key: NIST22\n",
      "[2024-11-15 13:33:05,980] [DEBUG] [vald:parse_references:531]: 'nist22'\n",
      "[2024-11-15 13:33:05,980] [WARNING] [vald:parse_references:530]: Could not find citation key: SugCor\n",
      "[2024-11-15 13:33:05,981] [DEBUG] [vald:parse_references:531]: 'sugcor'\n",
      "[2024-11-15 13:33:05,981] [WARNING] [vald:parse_references:530]: Could not find citation key: TPSb\n",
      "[2024-11-15 13:33:05,982] [DEBUG] [vald:parse_references:531]: 'tpsb'\n",
      "[2024-11-15 13:33:05,982] [WARNING] [vald:parse_references:530]: Could not find citation key: LBT\n",
      "[2024-11-15 13:33:05,983] [DEBUG] [vald:parse_references:531]: 'lbt'\n",
      "[2024-11-15 13:33:05,983] [WARNING] [vald:parse_references:530]: Could not find citation key: Kra2010\n",
      "[2024-11-15 13:33:05,984] [DEBUG] [vald:parse_references:531]: 'kra2010'\n",
      "[2024-11-15 13:33:05,985] [WARNING] [vald:parse_references:530]: Could not find citation key: TPSa\n",
      "[2024-11-15 13:33:05,985] [DEBUG] [vald:parse_references:531]: 'tpsa'\n"
     ]
    },
    {
     "name": "stdout",
     "output_type": "stream",
     "text": [
      "\u001b[33mWARNING - Could not find citation key: SNave\u001b[0m\n",
      "\u001b[33mWARNING - Could not find citation key: NIST22\u001b[0m\n",
      "\u001b[33mWARNING - Could not find citation key: SugCor\u001b[0m\n",
      "\u001b[33mWARNING - Could not find citation key: TPSb\u001b[0m\n",
      "\u001b[33mWARNING - Could not find citation key: LBT\u001b[0m\n",
      "\u001b[33mWARNING - Could not find citation key: Kra2010\u001b[0m\n",
      "\u001b[33mWARNING - Could not find citation key: TPSa\u001b[0m\n",
      "Number of lines in the linelist: 2902\n"
     ]
    }
   ],
   "source": [
    "#pysme that only need to be executed once\n",
    "linelist = ValdFile('linelist/3800-6800_long.lin')\n",
    "print('Number of lines in the linelist: %d' %linelist.species.size)\n",
    "\n",
    "linelist = linelist[((linelist.wlcent > wmin_blue) & (linelist.wlcent < wmax_blue) | \\\n",
    "                     (linelist.wlcent > wmin_red1) & (linelist.wlcent < wmax_red1) | \\\n",
    "                     (linelist.wlcent > wmin_red2) & (linelist.wlcent < wmax_red2))]\n",
    "\n",
    "delta_H_line = 10. #AA\n",
    "delta_line = 1. #AA\n",
    "wl_G_band = 4300 #AA\n",
    "delta_G_band = 40. #AA\n",
    "\n",
    "wl_Halpha_line = 6562.79 #AA\n",
    "delta_Halpha = 10.0 #AA\n",
    "wl_Hbeta_line = 4861.35 #AA\n",
    "delta_Hbeta = 10.00 #AA"
   ]
  },
  {
   "cell_type": "code",
   "execution_count": 11,
   "id": "eff5080c-3eda-46f3-9ced-e1bf88da2087",
   "metadata": {},
   "outputs": [],
   "source": [
    "#Create solar scaled atmosphere with [alpha/Fe] = +0.4\n",
    "solar = SME_Structure()\n",
    "solar.abund = Abund(0.0, 'asplund2009')\n",
    "\n",
    "abund = solar.abund.pattern\n",
    "abund['O'] = abund['O'] + 0.4\n",
    "abund['Ne'] = abund['Ne'] + 0.4\n",
    "abund['Mg'] = abund['Mg'] + 0.4\n",
    "abund['Si'] = abund['Si'] + 0.4\n",
    "abund['S'] = abund['S'] + 0.4\n",
    "abund['Ar'] = abund['Ar'] + 0.4\n",
    "abund['Ca'] = abund['Ca'] + 0.4\n",
    "abund['Ti'] = abund['Ti'] + 0.4"
   ]
  },
  {
   "cell_type": "code",
   "execution_count": 13,
   "id": "69468ef2-6bb8-4636-a99f-c63f73de7b42",
   "metadata": {},
   "outputs": [],
   "source": [
    "elems_to_include = ['Fe 1', 'Fe 2', 'Mg 1', 'Ti 1', 'Ti 2', 'Na 1']\n",
    "linelist = linelist[np.asarray([True if elem in elems_to_include else False for elem in linelist.species])]"
   ]
  },
  {
   "cell_type": "code",
   "execution_count": 14,
   "id": "771259fe-edf2-40d2-b8ee-e7b2eb29878f",
   "metadata": {},
   "outputs": [
    {
     "name": "stdout",
     "output_type": "stream",
     "text": [
      "['Fe 1' 'Fe 2' 'Mg 1' 'Na 1' 'Ti 1' 'Ti 2']\n",
      "Nro de lineas 811\n"
     ]
    }
   ],
   "source": [
    "print(np.unique(linelist.species))\n",
    "print('Nro de lineas', linelist.species.size)"
   ]
  },
  {
   "cell_type": "code",
   "execution_count": 25,
   "id": "7f912692-fab3-4122-a16a-b360458ce282",
   "metadata": {},
   "outputs": [],
   "source": [
    "mask_cont = pd.read_csv('continuum_model/sme_cont_mask', sep=' ', names=['wl', 'mask_values'])"
   ]
  },
  {
   "cell_type": "code",
   "execution_count": 26,
   "id": "43bd7969-8221-4fbc-a346-415777b46f09",
   "metadata": {
    "jupyter": {
     "source_hidden": true
    }
   },
   "outputs": [],
   "source": [
    "def sme_init(wave, spec, uncs, teff, logg, monh, vmic, vmac, vsini, abund, vrad_flag, linelist, ipress, vrad_bounds, elems_to_include):\n",
    "\n",
    "    #SME definitions\n",
    "    sme = SME_Structure()\n",
    "\n",
    "    sme.ipres, sme.iptype, sme.gam6, sme.h2broad = ipress, 'gauss', True, True\n",
    "    sme.atmo.source, sme.atmo.method, sme.atmo.geom = 'marcs2012s_t2.0.sav', 'grid', 'SPH'\n",
    "\n",
    "    sme.accxt, sme.accgt, sme.accft = tol, tol, tol\n",
    "    sme.leastsquare3_ftol, sme.leastsquares_gtol, sme.leastsquares_xtol = tol, tol, tol\n",
    "    sme.accwi, sme.accrt, sme.clim, sme.chirat = tol, tol, tol, tol\n",
    "    sme.vrad_bounds = vrad_bounds\n",
    "\n",
    "    # Redirect output to logs/RUN*/*.txt\n",
    "    util.start_logging(log_file='logs/UVES_atm.txt', level='ERROR')\n",
    "\n",
    "    sme.cscale_flag = 'constant'\n",
    "    # sme.cscale = 1.0\n",
    "    sme.cscale_type = 'mask'\n",
    "    sme.fitresults.maxiter = 100\n",
    "\n",
    "    sme.wave = wave\n",
    "    sme.spec = spec\n",
    "    sme.uncs = uncs\n",
    "\n",
    "    # The mask values are: 0: bad pixel, 1: line pixel, 2: continuum pixel\n",
    "    line_regions = mask_cont.mask_values.values\n",
    "    ll_mask = np.zeros(linelist.species.size).astype(bool)\n",
    "    \n",
    "    for wline, mask_species in linelist[['wlcent', 'species']]:\n",
    "        if mask_species in elems_to_include:\n",
    "            idx_ = (sme.wave.data > wline-delta_line) & (sme.wave.data < wline+delta_line)\n",
    "            line_regions[idx_] = 1\n",
    "            \n",
    "            ll_mask[(linelist.wlcent > wline-delta_line) & (linelist.wlcent < wline+delta_line)] = True\n",
    "            continue\n",
    "        \n",
    "    for wline, mask_species in linelist[['wlcent', 'species']]:\n",
    "        #Hydrogen lines\n",
    "        if 'H 1' == mask_species:\n",
    "            idx_ = (sme.wave.data > wline-delta_Halpha) & (sme.wave.data < wline+delta_Halpha)\n",
    "            line_regions[idx_] = 0\n",
    "    del idx_\n",
    "    \n",
    "    #G-band and CaHK regions\n",
    "    # line_regions[(sme.wave.data > wl_G_band-delta_G_band) & (sme.wave.data < wl_G_band+delta_G_band)] = 0\n",
    "    # line_regions[(sme.wave.data > wl_CaHK_band-delta_CaHK_band) & (sme.wave.data < wl_CaHK_band+delta_CaHK_band)] = 0\n",
    "    # line_regions[sme.wave.data < 4000] = 0\n",
    "    #Merge all the line_regions as int\n",
    "    line_regions = line_regions.astype(int)\n",
    "    line_regions[sme.spec.data == 0.0] = 0\n",
    "    sme.mask = line_regions\n",
    "    del line_regions\n",
    "\n",
    "    sme.linelist = linelist[ll_mask]\n",
    "    del ll_mask\n",
    "\n",
    "    #Abundance scaling to create realistic synthetics\n",
    "    sme.abund = abund\n",
    "    #RV determination for each chip\n",
    "    sme.vrad_flag = vrad_flag\n",
    "\n",
    "    #input guesses from xgboost\n",
    "    sme.teff = teff\n",
    "    sme.logg = logg\n",
    "    sme.monh = monh\n",
    "    sme.vmic = vmic\n",
    "    sme.vmac = vmac\n",
    "    sme.vsini = vsini\n",
    "    \n",
    "    return sme"
   ]
  },
  {
   "cell_type": "code",
   "execution_count": 27,
   "id": "48cc451d-e5d4-4487-9524-af4f279f3e0d",
   "metadata": {
    "jupyter": {
     "source_hidden": true
    }
   },
   "outputs": [],
   "source": [
    "def sme_parallel(i, input_row, elems_to_include, vrad_flag, ipress, tol=1e-2):\n",
    "\n",
    "    #Load data to create SME structures\n",
    "    blue_spec = ispec.read_spectrum('norm_RV_corr/%s/blue_%s' %(input_row.run, input_row.blue_file))\n",
    "    blue_spec.waveobs = blue_spec.waveobs * 10.\n",
    "    blue_spec.err[blue_spec.err == 0.0] = 1.0\n",
    "    red1_spec = ispec.read_spectrum('norm_RV_corr/%s/red1_%s' %(input_row.run, input_row.red_file))\n",
    "    red1_spec.waveobs = red1_spec.waveobs * 10.\n",
    "    red1_spec.err[red1_spec.err == 0.0] = 1.0\n",
    "    red2_spec = ispec.read_spectrum('norm_RV_corr/%s/red2_%s' %(input_row.run, input_row.red_file))\n",
    "    red2_spec.waveobs = red2_spec.waveobs * 10.\n",
    "    red2_spec.err[red2_spec.err == 0.0] = 1.0\n",
    "\n",
    "    wave = [blue_spec.waveobs[(blue_spec.waveobs > wmin_blue) & (blue_spec.waveobs < wmax_blue)], \n",
    "            red1_spec.waveobs[(red1_spec.waveobs > wmin_red1) & (red1_spec.waveobs < wmax_red1)],\n",
    "            red2_spec.waveobs[(red2_spec.waveobs > wmin_red2) & (red2_spec.waveobs < wmax_red2)]]\n",
    "    spec = [blue_spec.flux[(blue_spec.waveobs > wmin_blue) & (blue_spec.waveobs < wmax_blue)],\n",
    "            red1_spec.flux[(red1_spec.waveobs > wmin_red1) & (red1_spec.waveobs < wmax_red1)],\n",
    "            red2_spec.flux[(red2_spec.waveobs > wmin_red2) & (red2_spec.waveobs < wmax_red2)]]\n",
    "    uncs = [1./blue_spec.err[(blue_spec.waveobs > wmin_blue) & (blue_spec.waveobs < wmax_blue)],\n",
    "            1./red1_spec.err[(red1_spec.waveobs > wmin_red1) & (red1_spec.waveobs < wmax_red1)],\n",
    "            1./red2_spec.err[(red2_spec.waveobs > wmin_red2) & (red2_spec.waveobs < wmax_red2)]]\n",
    "\n",
    "    del blue_spec, red1_spec, red2_spec\n",
    "\n",
    "    #input guesses from xgboost\n",
    "    teff = input_row.teff\n",
    "    logg = input_row.logg\n",
    "    monh = input_row.monh\n",
    "    vmic = input_row.vmic\n",
    "    vmac = input_row.vmac\n",
    "    vsini = 10.\n",
    "\n",
    "    sme = sme_init(wave, spec, uncs, teff, logg, monh, vmic, vmac, vsini, abund, vrad_flag, linelist, ipress = ipress, vrad_bounds = (-5,5), elems_to_include = elems_to_include)\n",
    "    del wave, spec, uncs\n",
    "   \n",
    "    #Do the heavy lifting with fix logg from distances+BC\n",
    "    fitparameters = ['vmac', 'vsini']\n",
    "    sme = solve(sme, fitparameters)\n",
    "\n",
    "    vmac, evmac_sme, evmac_fit = sme.vmac, sme.fitresults.uncertainties[0], sme.fitresults.fit_uncertainties[0]\n",
    "    vsini, evsini_sme, evsini_fit = sme.vsini, sme.fitresults.uncertainties[1], sme.fitresults.fit_uncertainties[1]\n",
    "\n",
    "    sme.save('sme_save/UVES_rr_%s' %input_row.spec_id)\n",
    "    del sme\n",
    "\n",
    "    columns = ['spec_id', 'vmac', 'evmac_sme', 'evmac_fit', 'vsini', 'evsini_sme', 'evsini_fit']\n",
    "    data_to_write = np.vstack((input_row.spec_id, vmac, evmac_sme, evmac_fit, vsini, evsini_sme, evsini_fit)).T\n",
    "\n",
    "    del vmac, evmac_sme, evmac_fit, vsini, evsini_sme, evsini_fit\n",
    "\n",
    "    pd.DataFrame(data=data_to_write, columns=columns).to_csv('tmp_atm/UVES_rr_%s.csv' %input_row.spec_id, index=False, header=False)\n",
    "    del data_to_write\n",
    "\n",
    "    return"
   ]
  },
  {
   "cell_type": "code",
   "execution_count": 28,
   "id": "21c09f02-8c79-4c64-8ce5-1bdc436ff45c",
   "metadata": {},
   "outputs": [],
   "source": [
    "vrad_flag = 'each'\n",
    "ipress = 42000\n",
    "tol = 1e-3"
   ]
  },
  {
   "cell_type": "code",
   "execution_count": null,
   "id": "a2dc4e7d-5844-42f7-b578-10e4f7acccc2",
   "metadata": {},
   "outputs": [],
   "source": []
  },
  {
   "cell_type": "code",
   "execution_count": 29,
   "id": "4d511f9c-8102-43cf-ac9a-a738aa55e236",
   "metadata": {},
   "outputs": [
    {
     "name": "stderr",
     "output_type": "stream",
     "text": [
      "[Parallel(n_jobs=2)]: Using backend LokyBackend with 2 concurrent workers.\n"
     ]
    },
    {
     "name": "stdout",
     "output_type": "stream",
     "text": [
      "CPU times: user 34.4 ms, sys: 26.1 ms, total: 60.5 ms\n",
      "Wall time: 9min\n"
     ]
    },
    {
     "name": "stderr",
     "output_type": "stream",
     "text": [
      "[Parallel(n_jobs=2)]: Done   2 out of   2 | elapsed:  9.0min remaining:    0.0s\n",
      "[Parallel(n_jobs=2)]: Done   2 out of   2 | elapsed:  9.0min finished\n"
     ]
    },
    {
     "data": {
      "text/plain": [
       "[None, None]"
      ]
     },
     "execution_count": 29,
     "metadata": {},
     "output_type": "execute_result"
    }
   ],
   "source": [
    "%%time\n",
    "\n",
    "#Single execution for all stars in uves\n",
    "uves = pd.read_csv('tmp_merged/UVES_p111_p112_pristinedr1_xgboost_logg_atm_uncs_fe.csv')\n",
    "uves = uves.query('vmac > 20')\n",
    "Parallel(n_jobs=2, verbose=5)(delayed(sme_parallel)(i, input_row, elems_to_include=elems_to_include, vrad_flag=vrad_flag, ipress=ipress, tol=tol) for i, input_row in uves.iterrows())"
   ]
  },
  {
   "cell_type": "code",
   "execution_count": null,
   "id": "6f93b5e0-99a6-4fb7-b1da-aaccee4517a8",
   "metadata": {},
   "outputs": [],
   "source": []
  },
  {
   "cell_type": "code",
   "execution_count": 53,
   "id": "f586474e-50ab-434e-9b79-34638e0f26a0",
   "metadata": {},
   "outputs": [
    {
     "name": "stderr",
     "output_type": "stream",
     "text": [
      "[2024-11-15 14:38:56,542] [INFO] [sme:load:839]: Loading SME file sme_save/UVES_rr_6859555838257273600_3573691_106.sme\n",
      "[2024-11-15 14:38:56,575] [INFO] [sme:load:839]: Loading SME file sme_save/UVES_rr_6859555838257273600_3573691_115.sme\n"
     ]
    },
    {
     "name": "stdout",
     "output_type": "stream",
     "text": [
      "\u001b[32mINFO - Loading SME file sme_save/UVES_rr_6859555838257273600_3573691_106.sme\u001b[0m\n",
      "\u001b[32mINFO - Loading SME file sme_save/UVES_rr_6859555838257273600_3573691_115.sme\u001b[0m\n"
     ]
    }
   ],
   "source": [
    "sme_rr1 = SME_Structure.load('sme_save/UVES_rr_6859555838257273600_3573691_106.sme')\n",
    "sme_rr2 = SME_Structure.load('sme_save/UVES_rr_6859555838257273600_3573691_115.sme')"
   ]
  },
  {
   "cell_type": "code",
   "execution_count": 83,
   "id": "bfdad857-2a97-4d3b-894f-390674acca47",
   "metadata": {},
   "outputs": [
    {
     "data": {
      "image/png": "[encoded data removed]",
      "text/plain": [
       "<Figure size 1000x400 with 1 Axes>"
      ]
     },
     "metadata": {
      "needs_background": "light"
     },
     "output_type": "display_data"
    }
   ],
   "source": [
    "plt.figure(figsize=(10,4), dpi=100)\n",
    "\n",
    "plt.step(sme_rr1.wave.data, sme_rr1.spec.data, lw=1, color='k')\n",
    "plt.step(sme_rr1.wave.data, sme_rr1.synth.data, color='C2', lw=1, alpha=0.8)\n",
    "\n",
    "# plt.step(sme_rr2.wave.data, sme_rr2.spec.data, lw=1, color='k')\n",
    "# plt.step(sme_rr2.wave.data, sme_rr2.synth.data, color='C2', lw=1, alpha=0.8)\n",
    "\n",
    "for wline, species, depth in linelist[['wlcent', 'species', 'depth']]:\n",
    "    if 'H 1' in species:\n",
    "        continue\n",
    "    # if (depth > 0.85) | (depth < 0.15):\n",
    "    #     continue\n",
    "    plt.vlines(wline, 0.2, 0.25, color='C4')\n",
    "    plt.annotate(text='%s' %species, xy=(wline-0.15, 0.05), rotation=90)\n",
    "    # plt.annotate(text='%2.3f' %depth, xy=(wline-0.15, 0.5), rotation=90)\n",
    "    \n",
    "# plt.scatter(sme.wave.data, sme.mask.data, color='grey', s=5)\n",
    "\n",
    "plt.xlabel(r'Wavelength ($\\AA$)', size=15)\n",
    "plt.ylabel(r'Normalised flux', size=15)\n",
    "\n",
    "# plt.xlim(4025, 4035)\n",
    "# plt.xlim(4330, 4350)\n",
    "# plt.xlim(4270, 4320)\n",
    "# plt.xlim(4200, 4220)\n",
    "# plt.xlim(4125, 4135)\n",
    "# plt.xlim(4172, 4190)\n",
    "# plt.xlim(4220, 4240)\n",
    "# plt.xlim(4460, 4470)\n",
    "# plt.xlim(5165, 5190)\n",
    "plt.xlim(5165, 5175)\n",
    "# plt.xlim(5167, 5172)\n",
    "# plt.xlim(5188, 5199)\n",
    "# plt.xlim(5885, 5900)\n",
    "# plt.xlim(6550, 6570)\n",
    "# plt.xlim(6100, 6106)\n",
    "# plt.xlim(6700, 6714)\n",
    "# plt.hlines(1, 4125, 4132)\n",
    "plt.ylim(0.0, 1.1)\n",
    "plt.show()"
   ]
  },
  {
   "cell_type": "code",
   "execution_count": 87,
   "id": "8334fb3d-4c1f-4715-bb84-6711360e4f15",
   "metadata": {},
   "outputs": [
    {
     "data": {
      "text/plain": [
       "(16.36865566653077, 12.271372882460362, 14.320014274495566)"
      ]
     },
     "execution_count": 87,
     "metadata": {},
     "output_type": "execute_result"
    }
   ],
   "source": [
    "sme_rr1.vmac, sme_rr2.vmac, np.mean([sme_rr1.vmac, sme_rr2.vmac])"
   ]
  },
  {
   "cell_type": "code",
   "execution_count": 88,
   "id": "2d5a2a34-7452-40ab-9086-ac4b27b9aab6",
   "metadata": {},
   "outputs": [
    {
     "data": {
      "text/plain": [
       "(22.380604627009806, 22.979543840698486, 22.680074233854146)"
      ]
     },
     "execution_count": 88,
     "metadata": {},
     "output_type": "execute_result"
    }
   ],
   "source": [
    "sme_rr1.vsini, sme_rr2.vsini, np.mean([sme_rr1.vsini, sme_rr2.vsini])"
   ]
  },
  {
   "cell_type": "code",
   "execution_count": null,
   "id": "a523d728-82a9-4a4e-b21f-92346b9e22da",
   "metadata": {},
   "outputs": [],
   "source": []
  },
  {
   "cell_type": "code",
   "execution_count": null,
   "id": "d7bcbeb6-3c5b-4226-bbb4-99b6faea9439",
   "metadata": {},
   "outputs": [],
   "source": []
  },
  {
   "cell_type": "code",
   "execution_count": null,
   "id": "c0aa5d1d-9667-495f-9357-a80c50c55345",
   "metadata": {},
   "outputs": [],
   "source": []
  }
 ],
 "metadata": {
  "kernelspec": {
   "display_name": "Python 3 (ipykernel)",
   "language": "python",
   "name": "python3"
  },
  "language_info": {
   "codemirror_mode": {
    "name": "ipython",
    "version": 3
   },
   "file_extension": ".py",
   "mimetype": "text/x-python",
   "name": "python",
   "nbconvert_exporter": "python",
   "pygments_lexer": "ipython3",
   "version": "3.9.12"
  }
 },
 "nbformat": 4,
 "nbformat_minor": 5
}
