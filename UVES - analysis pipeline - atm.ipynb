{
 "cells": [
  {
   "cell_type": "code",
   "execution_count": 1,
   "id": "1de69ad8-eebc-43c3-8931-f9a5adb9ca2e",
   "metadata": {
    "tags": []
   },
   "outputs": [],
   "source": [
    "from pysme.linelist.vald import ValdFile\n",
    "from pysme.sme import SME_Structure\n",
    "from pysme.util import vac2air, air2vac\n",
    "from pysme.solve import solve\n",
    "from pysme.abund import Abund\n",
    "from pysme import sme as SME\n",
    "from pysme import util\n",
    "\n",
    "from joblib import Parallel, delayed\n",
    "import matplotlib.pyplot as plt\n",
    "import pandas as pd\n",
    "import numpy as np\n",
    "import warnings\n",
    "import sys\n",
    "import os\n",
    "\n",
    "warnings.filterwarnings('ignore')"
   ]
  },
  {
   "cell_type": "code",
   "execution_count": 2,
   "id": "f3759c1c-5ea4-4aec-960d-97f7867dca59",
   "metadata": {
    "tags": []
   },
   "outputs": [],
   "source": [
    "os.chdir('/home/fgran/iSpec/')\n",
    "import ispec\n",
    "sys.path.append('/home/fgran/iSpec/')"
   ]
  },
  {
   "cell_type": "code",
   "execution_count": 3,
   "id": "633140f1-87b1-4e68-8680-492a65bd906d",
   "metadata": {},
   "outputs": [],
   "source": [
    "os.environ['NUMEXPR_MAX_THREADS'] = '80' #change this number using the correct number of cores/threads in jupyter.slurm"
   ]
  },
  {
   "cell_type": "code",
   "execution_count": 4,
   "id": "872d5502-3cfa-4241-9647-9dbdc4d2a68a",
   "metadata": {
    "tags": []
   },
   "outputs": [],
   "source": [
    "#Move to the correct directory: Pristine-UVES\n",
    "os.chdir('/store/teams/cosmos/fgran/data/Pristine-UVES/')"
   ]
  },
  {
   "cell_type": "code",
   "execution_count": 5,
   "id": "b4d2273f-2f1c-4636-bbc9-cc48f889639a",
   "metadata": {
    "tags": []
   },
   "outputs": [],
   "source": [
    "#Prepare catalogue ingestion"
   ]
  },
  {
   "cell_type": "code",
   "execution_count": 6,
   "id": "f317b8a3-0598-44b9-9d32-d1111153f455",
   "metadata": {
    "tags": []
   },
   "outputs": [],
   "source": [
    "uves = pd.read_csv('uves_p111_p112_pristinedr1_xgboost_logg.csv')"
   ]
  },
  {
   "cell_type": "code",
   "execution_count": null,
   "id": "44692b1c-7ef9-433d-9524-c2710ffe7612",
   "metadata": {},
   "outputs": [],
   "source": []
  },
  {
   "cell_type": "code",
   "execution_count": 7,
   "id": "67dcb35f-27fa-4da7-a1d5-d818ea9f2288",
   "metadata": {
    "tags": []
   },
   "outputs": [
    {
     "name": "stderr",
     "output_type": "stream",
     "text": [
      "[2024-11-11 11:50:30,655] [INFO] [vald:loads:173]: Loading VALD file linelist/3800-6800_long.lin\n"
     ]
    },
    {
     "name": "stdout",
     "output_type": "stream",
     "text": [
      "\u001b[32mINFO - Loading VALD file linelist/3800-6800_long.lin\u001b[0m\n"
     ]
    },
    {
     "name": "stderr",
     "output_type": "stream",
     "text": [
      "[2024-11-11 11:50:32,619] [WARNING] [vald:parse_references:530]: Could not find citation key: LBT\n",
      "[2024-11-11 11:50:32,620] [DEBUG] [vald:parse_references:531]: 'lbt'\n",
      "[2024-11-11 11:50:32,621] [WARNING] [vald:parse_references:530]: Could not find citation key: TPSb\n",
      "[2024-11-11 11:50:32,621] [DEBUG] [vald:parse_references:531]: 'tpsb'\n",
      "[2024-11-11 11:50:32,622] [WARNING] [vald:parse_references:530]: Could not find citation key: TPSa\n",
      "[2024-11-11 11:50:32,622] [DEBUG] [vald:parse_references:531]: 'tpsa'\n",
      "[2024-11-11 11:50:32,623] [WARNING] [vald:parse_references:530]: Could not find citation key: NIST22\n",
      "[2024-11-11 11:50:32,624] [DEBUG] [vald:parse_references:531]: 'nist22'\n",
      "[2024-11-11 11:50:32,624] [WARNING] [vald:parse_references:530]: Could not find citation key: SNave\n",
      "[2024-11-11 11:50:32,625] [DEBUG] [vald:parse_references:531]: 'snave'\n",
      "[2024-11-11 11:50:32,625] [WARNING] [vald:parse_references:530]: Could not find citation key: SugCor\n",
      "[2024-11-11 11:50:32,626] [DEBUG] [vald:parse_references:531]: 'sugcor'\n",
      "[2024-11-11 11:50:32,626] [WARNING] [vald:parse_references:530]: Could not find citation key: Kra2010\n",
      "[2024-11-11 11:50:32,627] [DEBUG] [vald:parse_references:531]: 'kra2010'\n"
     ]
    },
    {
     "name": "stdout",
     "output_type": "stream",
     "text": [
      "\u001b[33mWARNING - Could not find citation key: LBT\u001b[0m\n",
      "\u001b[33mWARNING - Could not find citation key: TPSb\u001b[0m\n",
      "\u001b[33mWARNING - Could not find citation key: TPSa\u001b[0m\n",
      "\u001b[33mWARNING - Could not find citation key: NIST22\u001b[0m\n",
      "\u001b[33mWARNING - Could not find citation key: SNave\u001b[0m\n",
      "\u001b[33mWARNING - Could not find citation key: SugCor\u001b[0m\n",
      "\u001b[33mWARNING - Could not find citation key: Kra2010\u001b[0m\n",
      "Number of lines in the linelist: 2902\n"
     ]
    }
   ],
   "source": [
    "#pysme that only need to be executed once\n",
    "linelist = ValdFile('linelist/3800-6800_long.lin')\n",
    "# linelist = ValdFile('linelist/VALD_korg_linelist_3000_9000.lin', medium='air')\n",
    "# linelist.wlcent = vac2air(linelist.wlcent, 'A')\n",
    "print('Number of lines in the linelist: %d' %linelist.species.size)\n",
    "\n",
    "delta_H_line = 10. #AA\n",
    "delta_line = 1. #AA\n",
    "wl_G_band = 4300 #AA\n",
    "delta_G_band = 40. #AA\n",
    "\n",
    "wl_Halpha_line = 6562.79 #AA\n",
    "delta_Halpha = 10.0 #AA\n",
    "wl_Hbeta_line = 4861.35 #AA\n",
    "delta_Hbeta = 10.00 #AA"
   ]
  },
  {
   "cell_type": "code",
   "execution_count": 8,
   "id": "823cffda-1459-4ce9-a97e-5946f2d47f83",
   "metadata": {
    "tags": []
   },
   "outputs": [],
   "source": [
    "wmin_blue = 4000 #AA\n",
    "wmax_blue = 4500 #AA\n",
    "wmin_red1 = 4730 #AA\n",
    "wmax_red1 = 5700 #AA\n",
    "wmin_red2 = 5850 #AA\n",
    "wmax_red2 = 6800 #AA"
   ]
  },
  {
   "cell_type": "code",
   "execution_count": 9,
   "id": "0d841db0-afcd-4d0b-9ae7-974a6ff1d69e",
   "metadata": {
    "tags": []
   },
   "outputs": [],
   "source": [
    "linelist = linelist[((linelist.wlcent > wmin_blue) & (linelist.wlcent < wmax_blue) | \\\n",
    "                     (linelist.wlcent > wmin_red1) & (linelist.wlcent < wmax_red1) | \\\n",
    "                     (linelist.wlcent > wmin_red2) & (linelist.wlcent < wmax_red2))]"
   ]
  },
  {
   "cell_type": "code",
   "execution_count": 10,
   "id": "50f4dadb-63af-485d-9ee8-a6321827bf8c",
   "metadata": {
    "tags": []
   },
   "outputs": [],
   "source": [
    "#Create solar scaled atmosphere with [alpha/Fe] = +0.4\n",
    "solar = SME_Structure()\n",
    "solar.abund = Abund(0.0, 'asplund2009')\n",
    "\n",
    "abund = solar.abund.pattern\n",
    "abund['O'] = abund['O'] + 0.4\n",
    "abund['Ne'] = abund['Ne'] + 0.4\n",
    "abund['Mg'] = abund['Mg'] + 0.4\n",
    "abund['Si'] = abund['Si'] + 0.4\n",
    "abund['S'] = abund['S'] + 0.4\n",
    "abund['Ar'] = abund['Ar'] + 0.4\n",
    "abund['Ca'] = abund['Ca'] + 0.4\n",
    "abund['Ti'] = abund['Ti'] + 0.4"
   ]
  },
  {
   "cell_type": "code",
   "execution_count": 11,
   "id": "373a412c-f8cd-4f00-83d1-9026969451ec",
   "metadata": {
    "tags": []
   },
   "outputs": [],
   "source": [
    "elems_to_include = ['Fe 1', 'Fe 2', 'Mg 1', 'Ti 1', 'Ti 2', 'Ni 1', 'Ni 2']\n",
    "linelist = linelist[np.asarray([True if elem in elems_to_include else False for elem in linelist.species])]"
   ]
  },
  {
   "cell_type": "code",
   "execution_count": 12,
   "id": "e9b55ddf-af44-4cc8-adc6-0812d118850a",
   "metadata": {
    "tags": []
   },
   "outputs": [
    {
     "name": "stdout",
     "output_type": "stream",
     "text": [
      "['Fe 1' 'Fe 2' 'Mg 1' 'Ni 1' 'Ti 1' 'Ti 2']\n",
      "Nro de lineas 809\n"
     ]
    }
   ],
   "source": [
    "print(np.unique(linelist.species))\n",
    "print('Nro de lineas', linelist.species.size)"
   ]
  },
  {
   "cell_type": "code",
   "execution_count": null,
   "id": "fd397b02-2880-45da-85c5-eed14152b3a2",
   "metadata": {
    "tags": []
   },
   "outputs": [],
   "source": []
  },
  {
   "cell_type": "code",
   "execution_count": 13,
   "id": "0cc83f79-536f-4971-9096-f24d4014a2e6",
   "metadata": {
    "tags": []
   },
   "outputs": [],
   "source": [
    "def snr(wl, flux, central_lambda, delta_lambda):\n",
    "    flux = flux[np.abs(wl - central_lambda) < delta_lambda]\n",
    "    return np.median(flux) / (1.482602 / np.sqrt(6.0) * np.median(np.abs(2 * flux - np.roll(flux, 2) - np.roll(flux, -2))))"
   ]
  },
  {
   "cell_type": "code",
   "execution_count": 14,
   "id": "fbf09c74-1581-43d4-b5a5-9e4a0a927d84",
   "metadata": {
    "tags": []
   },
   "outputs": [],
   "source": [
    "mask_cont = pd.read_csv('continuum_model/sme_cont_mask', sep=' ', names=['wl', 'mask_values'])"
   ]
  },
  {
   "cell_type": "code",
   "execution_count": 15,
   "id": "ea74fbff-8486-492e-8c7b-0a1dca417576",
   "metadata": {},
   "outputs": [],
   "source": [
    "#SME parallel and init functions"
   ]
  },
  {
   "cell_type": "code",
   "execution_count": 16,
   "id": "ca3bd5e0-94a1-4559-8665-aaa386b1ec27",
   "metadata": {},
   "outputs": [],
   "source": [
    "def sme_init(wave, spec, uncs, teff, logg, monh, vmic, vmac, abund, vrad_flag, linelist, ipress, vrad_bounds, elems_to_include):\n",
    "\n",
    "    #SME definitions\n",
    "    sme = SME_Structure()\n",
    "\n",
    "    sme.ipres, sme.iptype, sme.gam6, sme.h2broad = ipress, 'gauss', True, True\n",
    "    sme.atmo.source, sme.atmo.method, sme.atmo.geom = 'marcs2012s_t2.0.sav', 'grid', 'SPH'\n",
    "\n",
    "    sme.accxt, sme.accgt, sme.accft = tol, tol, tol\n",
    "    sme.leastsquare3_ftol, sme.leastsquares_gtol, sme.leastsquares_xtol = tol, tol, tol\n",
    "    sme.accwi, sme.accrt, sme.clim, sme.chirat = tol, tol, tol, tol\n",
    "    sme.vrad_bounds = vrad_bounds\n",
    "\n",
    "    # Redirect output to logs/RUN*/*.txt\n",
    "    util.start_logging(log_file='logs/UVES_atm.txt', level='ERROR')\n",
    "\n",
    "    sme.cscale_flag = 'constant'\n",
    "    # sme.cscale = 1.0\n",
    "    sme.cscale_type = 'mask'\n",
    "    sme.fitresults.maxiter = 100\n",
    "\n",
    "    sme.wave = wave\n",
    "    sme.spec = spec\n",
    "    sme.uncs = uncs\n",
    "\n",
    "    # The mask values are: 0: bad pixel, 1: line pixel, 2: continuum pixel\n",
    "    line_regions = mask_cont.mask_values.values\n",
    "    ll_mask = np.zeros(linelist.species.size).astype(bool)\n",
    "    \n",
    "    for wline, mask_species in linelist[['wlcent', 'species']]:\n",
    "        if mask_species in elems_to_include:\n",
    "            idx_ = (sme.wave.data > wline-delta_line) & (sme.wave.data < wline+delta_line)\n",
    "            line_regions[idx_] = 1\n",
    "            \n",
    "            ll_mask[(linelist.wlcent > wline-delta_line) & (linelist.wlcent < wline+delta_line)] = True\n",
    "            continue\n",
    "        \n",
    "    for wline, mask_species in linelist[['wlcent', 'species']]:\n",
    "        #Hydrogen lines\n",
    "        if 'H 1' == mask_species:\n",
    "            idx_ = (sme.wave.data > wline-delta_Halpha) & (sme.wave.data < wline+delta_Halpha)\n",
    "            line_regions[idx_] = 0\n",
    "    del idx_\n",
    "    \n",
    "    #G-band and CaHK regions\n",
    "    # line_regions[(sme.wave.data > wl_G_band-delta_G_band) & (sme.wave.data < wl_G_band+delta_G_band)] = 0\n",
    "    # line_regions[(sme.wave.data > wl_CaHK_band-delta_CaHK_band) & (sme.wave.data < wl_CaHK_band+delta_CaHK_band)] = 0\n",
    "    # line_regions[sme.wave.data < 4000] = 0\n",
    "    #Merge all the line_regions as int\n",
    "    line_regions = line_regions.astype(int)\n",
    "    line_regions[sme.spec.data == 0.0] = 0\n",
    "    sme.mask = line_regions\n",
    "    del line_regions\n",
    "\n",
    "    sme.linelist = linelist[ll_mask]\n",
    "    del ll_mask\n",
    "\n",
    "    #Abundance scaling to create realistic synthetics\n",
    "    sme.abund = abund\n",
    "    #RV determination for each chip\n",
    "    sme.vrad_flag = vrad_flag\n",
    "\n",
    "    #input guesses from xgboost\n",
    "    sme.teff = teff\n",
    "    sme.logg = logg\n",
    "    sme.monh = monh\n",
    "    sme.vmic = vmic\n",
    "    sme.vmac = vmac\n",
    "    \n",
    "    return sme"
   ]
  },
  {
   "cell_type": "code",
   "execution_count": 17,
   "id": "a730954c-ebbe-43cd-a1f7-13daf58b6830",
   "metadata": {
    "tags": []
   },
   "outputs": [],
   "source": [
    "def sme_parallel(i, input_row, elems_to_include, vrad_flag, ipress, tol=1e-2):\n",
    "\n",
    "    #Load data to create SME structures\n",
    "    blue_spec = ispec.read_spectrum('norm_RV_corr/%s/blue_%s' %(input_row.run, input_row.blue_file))\n",
    "    blue_spec.waveobs = blue_spec.waveobs * 10.\n",
    "    blue_spec.err[blue_spec.err == 0.0] = 1.0\n",
    "    red1_spec = ispec.read_spectrum('norm_RV_corr/%s/red1_%s' %(input_row.run, input_row.red_file))\n",
    "    red1_spec.waveobs = red1_spec.waveobs * 10.\n",
    "    red1_spec.err[red1_spec.err == 0.0] = 1.0\n",
    "    red2_spec = ispec.read_spectrum('norm_RV_corr/%s/red2_%s' %(input_row.run, input_row.red_file))\n",
    "    red2_spec.waveobs = red2_spec.waveobs * 10.\n",
    "    red2_spec.err[red2_spec.err == 0.0] = 1.0\n",
    "\n",
    "    wave = [blue_spec.waveobs[(blue_spec.waveobs > wmin_blue) & (blue_spec.waveobs < wmax_blue)], \n",
    "            red1_spec.waveobs[(red1_spec.waveobs > wmin_red1) & (red1_spec.waveobs < wmax_red1)],\n",
    "            red2_spec.waveobs[(red2_spec.waveobs > wmin_red2) & (red2_spec.waveobs < wmax_red2)]]\n",
    "    spec = [blue_spec.flux[(blue_spec.waveobs > wmin_blue) & (blue_spec.waveobs < wmax_blue)],\n",
    "            red1_spec.flux[(red1_spec.waveobs > wmin_red1) & (red1_spec.waveobs < wmax_red1)],\n",
    "            red2_spec.flux[(red2_spec.waveobs > wmin_red2) & (red2_spec.waveobs < wmax_red2)]]\n",
    "    uncs = [1./blue_spec.err[(blue_spec.waveobs > wmin_blue) & (blue_spec.waveobs < wmax_blue)],\n",
    "            1./red1_spec.err[(red1_spec.waveobs > wmin_red1) & (red1_spec.waveobs < wmax_red1)],\n",
    "            1./red2_spec.err[(red2_spec.waveobs > wmin_red2) & (red2_spec.waveobs < wmax_red2)]]\n",
    "\n",
    "    del blue_spec, red1_spec, red2_spec\n",
    "\n",
    "    #input guesses from xgboost\n",
    "    teff = input_row.teff_xgboost # np.random.normal(loc=input_row.teff_xgboost, scale=100.) #input_row.teff_xgboost #np.random.normal(loc=input_row.teff_xgboost, scale=100.)\n",
    "    logg = input_row.logg_bc # np.random.normal(loc=input_row.logg_bc, scale=input_row.elogg_bc) #input_row.logg_bc #np.random.normal(loc=input_row.logg_bc, scale=0.1)\n",
    "    monh = input_row.mh_xgboost  # np.random.normal(loc=input_row.mh_xgboost, scale=0.1) #input_row.mh_xgboost #np.random.normal(loc=input_row.mh_xgboost, scale=0.1)\n",
    "    vmic = 1.5 # np.random.normal(loc=2.0, scale=0.10) #1.5 #np.random.normal(loc=2.0, scale=0.10)\n",
    "    vmac = 4.5\n",
    "\n",
    "    sme = sme_init(wave, spec, uncs, teff, logg, monh, vmic, vmac, abund, vrad_flag, linelist, ipress = ipress, vrad_bounds = (-5,5), elems_to_include = elems_to_include)\n",
    "    del wave, spec, uncs\n",
    "\n",
    "    snr_4130 = snr(sme.wave.data, sme.spec.data, 4130, 2.5)\n",
    "    snr_4460 = snr(sme.wave.data, sme.spec.data, 4460, 2.5)\n",
    "    snr_5150 = snr(sme.wave.data, sme.spec.data, 5150, 2.5)\n",
    "    snr_6100 = snr(sme.wave.data, sme.spec.data, 6100, 2.5)\n",
    "    snr_6700 = snr(sme.wave.data, sme.spec.data, 6700, 2.5)\n",
    "    \n",
    "    #NLTE\n",
    "    # sme.nlte.set_nlte('Fe', 'nlte_Fe_ama51_Feb2022_pysme.grd')\n",
    "    # sme.nlte.set_nlte('H', 'nlte_H_ama51_pysme.grd')\n",
    "    # sme.nlte.set_nlte('Mg', 'marcs2012_Mg2016.grd')\n",
    "    # sme.nlte.set_nlte('Ti', 'marcs2012s_t2.0_Ti.grd')\n",
    "    \n",
    "    #Do the heavy lifting with fix logg from distances+BC\n",
    "    fitparameters = ['teff', 'monh', 'vmic', 'vmac']\n",
    "    sme = solve(sme, fitparameters)\n",
    "\n",
    "    teff, eteff_sme, eteff_fit = sme.teff, sme.fitresults.uncertainties[0], sme.fitresults.fit_uncertainties[0]\n",
    "    logg, elogg_sme, elogg_fit = input_row.logg_bc, input_row.elogg_bc, input_row.elogg_bc\n",
    "    monh, emonh_sme, emonh_fit = sme.monh, sme.fitresults.uncertainties[1], sme.fitresults.fit_uncertainties[1]\n",
    "    vmic, evmic_sme, evmic_fit = sme.vmic, sme.fitresults.uncertainties[2], sme.fitresults.fit_uncertainties[2]\n",
    "    vmac, evmac_sme, evmac_fit = sme.vmac, sme.fitresults.uncertainties[3], sme.fitresults.fit_uncertainties[3]\n",
    "    sme_vrad1, sme_vrad2, sme_vrad3 = sme.vrad\n",
    "\n",
    "    sme.save('sme_save/UVES_atm_%s' %input_row.spec_id)\n",
    "    del sme\n",
    "\n",
    "    columns = ['spec_id', 'teff', 'eteff_sme', 'eteff_fit', 'logg', 'elogg_sme', 'elogg_fit', \n",
    "               'monh', 'emonh_sme', 'emonh_fit', 'vmic', 'evmic_sme', 'evmic_fit', 'vmac', 'evmac_sme', 'evmac_fit', \n",
    "               'sme_vrad1', 'sme_vrad2', 'sme_vrad3', 'snr_4030', 'snr_4460', 'snr_5150', 'snr_6100', 'snr_6700']\n",
    "    data_to_write = np.vstack((input_row.spec_id, teff, eteff_sme, eteff_fit, logg, elogg_sme, elogg_fit,\n",
    "                               monh, emonh_sme, emonh_fit, vmic, evmic_sme, evmic_fit, vmac, evmac_sme, evmac_fit, \n",
    "                               sme_vrad1, sme_vrad2, sme_vrad3, snr_4130, snr_4460, snr_5150, snr_6100, snr_6700)).T\n",
    "\n",
    "    del teff, eteff_sme, eteff_fit, logg, elogg_sme, elogg_fit, monh, emonh_sme, emonh_fit, vmic, evmic_sme, evmic_fit, vmac, evmac_sme, evmac_fit\n",
    "    del snr_4130, snr_4460, snr_5150, snr_6100, snr_6700\n",
    "\n",
    "    pd.DataFrame(data=data_to_write, columns=columns).to_csv('tmp_atm/UVES_atm_%s.csv' %input_row.spec_id, index=False, header=False)\n",
    "    del data_to_write\n",
    "\n",
    "    return"
   ]
  },
  {
   "cell_type": "code",
   "execution_count": 18,
   "id": "69e495ee-0afd-471d-8c43-72c1269e12ec",
   "metadata": {
    "tags": []
   },
   "outputs": [],
   "source": [
    "vrad_flag = 'each'\n",
    "ipress = 42000\n",
    "tol = 1e-3"
   ]
  },
  {
   "cell_type": "code",
   "execution_count": 18,
   "id": "22ac65a4-d070-4ec1-99c1-ad3650451b5d",
   "metadata": {},
   "outputs": [],
   "source": [
    "# sme = sme_parallel(0, uves.iloc[0], elems_to_include=elems_to_include, vrad_flag=vrad_flag, ipress=ipress, tol=tol)"
   ]
  },
  {
   "cell_type": "code",
   "execution_count": 19,
   "id": "2b1e3919-cf32-4aaf-8d53-c62413c8fb47",
   "metadata": {
    "scrolled": true,
    "tags": []
   },
   "outputs": [
    {
     "name": "stderr",
     "output_type": "stream",
     "text": [
      "[Parallel(n_jobs=-1)]: Using backend LokyBackend with 75 concurrent workers.\n",
      "[Parallel(n_jobs=-1)]: Done  44 out of 160 | elapsed:  7.3min remaining: 19.3min\n",
      "[Parallel(n_jobs=-1)]: Done  77 out of 160 | elapsed:  9.8min remaining: 10.6min\n",
      "[Parallel(n_jobs=-1)]: Done 110 out of 160 | elapsed: 12.9min remaining:  5.9min\n",
      "[Parallel(n_jobs=-1)]: Done 143 out of 160 | elapsed: 15.7min remaining:  1.9min\n"
     ]
    },
    {
     "name": "stdout",
     "output_type": "stream",
     "text": [
      "CPU times: user 1.1 s, sys: 679 ms, total: 1.78 s\n",
      "Wall time: 20min 55s\n"
     ]
    },
    {
     "name": "stderr",
     "output_type": "stream",
     "text": [
      "[Parallel(n_jobs=-1)]: Done 160 out of 160 | elapsed: 20.9min finished\n"
     ]
    },
    {
     "data": {
      "text/plain": [
       "[None,\n",
       " None,\n",
       " None,\n",
       " None,\n",
       " None,\n",
       " None,\n",
       " None,\n",
       " None,\n",
       " None,\n",
       " None,\n",
       " None,\n",
       " None,\n",
       " None,\n",
       " None,\n",
       " None,\n",
       " None,\n",
       " None,\n",
       " None,\n",
       " None,\n",
       " None,\n",
       " None,\n",
       " None,\n",
       " None,\n",
       " None,\n",
       " None,\n",
       " None,\n",
       " None,\n",
       " None,\n",
       " None,\n",
       " None,\n",
       " None,\n",
       " None,\n",
       " None,\n",
       " None,\n",
       " None,\n",
       " None,\n",
       " None,\n",
       " None,\n",
       " None,\n",
       " None,\n",
       " None,\n",
       " None,\n",
       " None,\n",
       " None,\n",
       " None,\n",
       " None,\n",
       " None,\n",
       " None,\n",
       " None,\n",
       " None,\n",
       " None,\n",
       " None,\n",
       " None,\n",
       " None,\n",
       " None,\n",
       " None,\n",
       " None,\n",
       " None,\n",
       " None,\n",
       " None,\n",
       " None,\n",
       " None,\n",
       " None,\n",
       " None,\n",
       " None,\n",
       " None,\n",
       " None,\n",
       " None,\n",
       " None,\n",
       " None,\n",
       " None,\n",
       " None,\n",
       " None,\n",
       " None,\n",
       " None,\n",
       " None,\n",
       " None,\n",
       " None,\n",
       " None,\n",
       " None,\n",
       " None,\n",
       " None,\n",
       " None,\n",
       " None,\n",
       " None,\n",
       " None,\n",
       " None,\n",
       " None,\n",
       " None,\n",
       " None,\n",
       " None,\n",
       " None,\n",
       " None,\n",
       " None,\n",
       " None,\n",
       " None,\n",
       " None,\n",
       " None,\n",
       " None,\n",
       " None,\n",
       " None,\n",
       " None,\n",
       " None,\n",
       " None,\n",
       " None,\n",
       " None,\n",
       " None,\n",
       " None,\n",
       " None,\n",
       " None,\n",
       " None,\n",
       " None,\n",
       " None,\n",
       " None,\n",
       " None,\n",
       " None,\n",
       " None,\n",
       " None,\n",
       " None,\n",
       " None,\n",
       " None,\n",
       " None,\n",
       " None,\n",
       " None,\n",
       " None,\n",
       " None,\n",
       " None,\n",
       " None,\n",
       " None,\n",
       " None,\n",
       " None,\n",
       " None,\n",
       " None,\n",
       " None,\n",
       " None,\n",
       " None,\n",
       " None,\n",
       " None,\n",
       " None,\n",
       " None,\n",
       " None,\n",
       " None,\n",
       " None,\n",
       " None,\n",
       " None,\n",
       " None,\n",
       " None,\n",
       " None,\n",
       " None,\n",
       " None,\n",
       " None,\n",
       " None,\n",
       " None,\n",
       " None,\n",
       " None,\n",
       " None,\n",
       " None,\n",
       " None,\n",
       " None,\n",
       " None]"
      ]
     },
     "execution_count": 19,
     "metadata": {},
     "output_type": "execute_result"
    }
   ],
   "source": [
    "%%time\n",
    "\n",
    "#Single execution\n",
    "Parallel(n_jobs=-1, verbose=5)(delayed(sme_parallel)(i, input_row, elems_to_include=elems_to_include, vrad_flag=vrad_flag, ipress=ipress, tol=tol) for i, input_row in uves.iterrows())"
   ]
  },
  {
   "cell_type": "code",
   "execution_count": null,
   "id": "7f38f2f2-d509-49b4-ae1e-321c62a9f1b7",
   "metadata": {},
   "outputs": [],
   "source": []
  },
  {
   "cell_type": "code",
   "execution_count": 20,
   "id": "419a51f3-a906-44d3-915f-685b36a0fc55",
   "metadata": {},
   "outputs": [],
   "source": [
    "# ['spec_id', 'teff', 'eteff_sme', 'eteff_fit', 'logg', 'elogg_sme', 'elogg_fit', \n",
    "#                'monh', 'emonh_sme', 'emonh_fit', 'vmic', 'evmic_sme', 'evmic_fit', 'vmac', 'evmac_sme', 'evmac_fit', \n",
    "#                'sme_vrad1', 'sme_vrad2', 'sme_vrad3', 'snr_4030', 'snr_4460', 'snr_5150', 'snr_6100', 'snr_6700']\n",
    "os.system('cat tmp_atm/UVES_atm* > tmp_merged/UVES_atm.csv');"
   ]
  },
  {
   "cell_type": "code",
   "execution_count": 21,
   "id": "7873a4e0-0d8b-4533-ac02-0002b1de5b83",
   "metadata": {},
   "outputs": [],
   "source": [
    "!sed -i '1i \\spec_id,teff,eteff_sme,eteff_fit,logg,elogg_sme,elogg_fit,monh,emonh_sme,emonh_fit,vmic,evmic_sme,evmic_fit,vmac,evmac_sme,\\\n",
    "evmac_fit,sme_vrad1,sme_vrad2,sme_vrad3,snr_4030,snr_4460,snr_5150,snr_6100,snr_6700' tmp_merged/UVES_atm.csv"
   ]
  },
  {
   "cell_type": "code",
   "execution_count": null,
   "id": "e4a338fd-ef1e-445e-a111-977fecd78e6f",
   "metadata": {},
   "outputs": [],
   "source": []
  },
  {
   "cell_type": "code",
   "execution_count": 19,
   "id": "e2314f83-4018-4f3d-94da-390abd1a56e6",
   "metadata": {},
   "outputs": [],
   "source": [
    "#Determine unc scaling comparing with xgboost"
   ]
  },
  {
   "cell_type": "code",
   "execution_count": 20,
   "id": "ae0003a9-b338-4319-b088-3bc4341bb5f3",
   "metadata": {
    "jupyter": {
     "source_hidden": true
    }
   },
   "outputs": [],
   "source": [
    "def estimate_uncertainties_nice(resid, deriv, percentile, percentile_sig_down, percentile_sig_up):\n",
    "        \"\"\"\n",
    "        Estimate the uncertainties by fitting the cumulative distribution of\n",
    "        derivative / uncertainties vs. residual / derivative\n",
    "        with the generalized normal distribution and use the 68% percentile\n",
    "        as the 1 sigma approximation for a normally distributed variable\n",
    "\n",
    "        Parameters\n",
    "        ----------\n",
    "        unc : array of shape (n,)\n",
    "            uncertainties\n",
    "        resid : array of shape (n,)\n",
    "            residuals of the least squares fit\n",
    "        deriv : array of shape (n, p)\n",
    "            derivatives (jacobian) of the least squares fit for each parameter\n",
    "\n",
    "        Returns\n",
    "        -------\n",
    "        freep_unc : array of shape (p,)\n",
    "            uncertainties for each free paramater, in the same order as self.parameter_names\n",
    "        \"\"\"\n",
    "\n",
    "        nparameters = deriv.shape[1]\n",
    "        freep_unc = np.zeros(nparameters)\n",
    "\n",
    "        for i in range(nparameters):\n",
    "            pder = deriv[:, i]\n",
    "            #Change #1\n",
    "            # idx = pder != 0\n",
    "            idx = np.abs(pder) > np.percentile(np.abs(pder), percentile)\n",
    "            idx &= np.isfinite(pder)\n",
    "\n",
    "            if np.count_nonzero(idx) <= 5:\n",
    "                logger.warning(\n",
    "                    \"Not enough data points with a suitable derivative \"\n",
    "                    \"to determine the uncertainties\"\n",
    "                )\n",
    "                continue\n",
    "            # Sort pixels according to the change of the i\n",
    "            # parameter needed to match the observations\n",
    "            idx_sort = np.argsort(resid[idx] / pder[idx])\n",
    "            ch_x = resid[idx][idx_sort] / pder[idx][idx_sort]\n",
    "            # Weights of the individual pixels also sorted\n",
    "            # uncertainties are already included in pder / unc[idx][idx_sort]\n",
    "            ch_y = np.abs(pder[idx][idx_sort])\n",
    "            # ch_y = np.abs(pder / unc[idx][idx_sort])\n",
    "            # Cumulative weights\n",
    "            ch_y = np.cumsum(ch_y)\n",
    "            # Normalized cumulative weights\n",
    "            ch_y /= ch_y[-1]\n",
    "\n",
    "            # hmed = np.interp(0.5, ch_y, ch_x)\n",
    "            interval = np.interp([percentile_sig_down, percentile_sig_up], ch_y, ch_x)\n",
    "            sigma_estimate = (interval[1] - interval[0]) / 2.\n",
    "            freep_unc[i] = sigma_estimate\n",
    "\n",
    "        return freep_unc"
   ]
  },
  {
   "cell_type": "code",
   "execution_count": 21,
   "id": "0e4de952-2e92-410f-a05a-865dfacaf9e4",
   "metadata": {},
   "outputs": [],
   "source": [
    "#Andrae+2020: 0.10 dex in [M/H], 50K in Teff, and 0.08 dex in log g"
   ]
  },
  {
   "cell_type": "code",
   "execution_count": 22,
   "id": "1d418a24-183a-4a72-9d4d-20a81c239d66",
   "metadata": {},
   "outputs": [],
   "source": [
    "from scipy.stats import norm"
   ]
  },
  {
   "cell_type": "code",
   "execution_count": 28,
   "id": "9637430f-e8e5-4b43-a062-e64996950fa0",
   "metadata": {},
   "outputs": [],
   "source": [
    "uves = pd.read_csv('uves_p111_p112_pristinedr1_xgboost_logg.csv')\n",
    "uves = uves.merge(pd.read_csv('tmp_merged/UVES_atm.csv'), on='spec_id')"
   ]
  },
  {
   "cell_type": "code",
   "execution_count": null,
   "id": "7f00d274-8f47-4f1e-8878-8594450e6563",
   "metadata": {},
   "outputs": [],
   "source": []
  },
  {
   "cell_type": "code",
   "execution_count": 29,
   "id": "a91cb0a7-6381-433a-baae-f277212cb2ec",
   "metadata": {},
   "outputs": [
    {
     "data": {
      "image/png": "[encoded data removed]",
      "text/plain": [
       "<Figure size 864x360 with 3 Axes>"
      ]
     },
     "metadata": {
      "needs_background": "light"
     },
     "output_type": "display_data"
    }
   ],
   "source": [
    "plt.figure(figsize=(12,5))\n",
    "\n",
    "x = np.linspace(-3, 3, 100)\n",
    "\n",
    "plt.subplot(1,3,1)\n",
    "scale_factor_teff, shift_teff = 0.25, np.mean(uves.teff.values - uves.teff_xgboost.values)\n",
    "q = (uves.teff.values - uves.teff_xgboost.values - shift_teff) / np.sqrt((scale_factor_teff * uves.eteff_sme.values)**2. + (50 * np.ones_like(uves.teff.values))**2.)\n",
    "plt.hist(q, bins=50, histtype='step', density=True)\n",
    "plt.plot(x, norm.pdf(x), color='r', lw=2, alpha=0.6)\n",
    "plt.title(r'T$_{\\rm eff}$ mean: %2.2f, sigma: %2.2f' %(np.mean(q), np.std(q)))\n",
    "plt.xlabel(r'$\\left. \\Delta T_{\\rm eff} \\middle/ \\sqrt{\\sigma_{SME}^2 + \\sigma_{XGBOOST}^2} \\right.$', size=14)\n",
    "\n",
    "plt.subplot(1,3,2)\n",
    "scale_factor_logg, shift_logg = 1.9, np.mean(uves.logg.values - uves.logg_xgboost.values)\n",
    "q = (uves.logg.values - uves.logg_xgboost.values - shift_logg) / np.sqrt((scale_factor_logg * uves.elogg_sme.values)**2. + (0.08 * np.ones_like(uves.logg.values))**2.)\n",
    "plt.hist(q, bins=50, histtype='step', density=True)\n",
    "plt.plot(x, norm.pdf(x), color='r', lw=2, alpha=0.6)\n",
    "plt.title(r'$\\log\\ g$ -- mean: %2.2f, sigma: %2.2f' %(np.mean(q), np.std(q)))\n",
    "plt.xlabel(r'$\\left. \\Delta \\log\\ g \\middle/ \\sqrt{\\sigma_{SME}^2 + \\sigma_{XGBOOST}^2} \\right.$', size=14)\n",
    "\n",
    "plt.subplot(1,3,3)\n",
    "scale_factor_monh, shift_monh = 0.90, np.mean(uves.monh.values - uves.mh_xgboost.values)\n",
    "q = (uves.monh.values - uves.mh_xgboost.values - shift_monh) / np.sqrt((scale_factor_monh * uves.emonh_sme.values)**2. + (0.1 * np.ones_like(uves.monh.values))**2.)\n",
    "plt.hist(q, bins=50, histtype='step', density=True)\n",
    "plt.plot(x, norm.pdf(x), color='r', lw=2, alpha=0.6)\n",
    "plt.title(r'${\\rm [M/H]}$ -- mean: %2.2f, sigma: %2.2f' %(np.mean(q), np.std(q)))\n",
    "plt.xlabel(r'$\\left. \\Delta [M/H] \\middle/ \\sqrt{\\sigma_{SME}^2 + \\sigma_{XGBOOST}^2} \\right.$', size=14)\n",
    "\n",
    "plt.tight_layout()\n",
    "plt.show()"
   ]
  },
  {
   "cell_type": "code",
   "execution_count": 30,
   "id": "e23e375a-3dad-43c8-9698-b0fab44430f5",
   "metadata": {},
   "outputs": [
    {
     "name": "stdout",
     "output_type": "stream",
     "text": [
      "SME overestimation of uncs:\n",
      "Teff: 0.25\n",
      "logg: 1.90\n",
      "[M/H]: 0.90\n"
     ]
    }
   ],
   "source": [
    "print('SME overestimation of uncs:')\n",
    "print('Teff: %2.2f' %scale_factor_teff)\n",
    "print('logg: %2.2f' %scale_factor_logg)\n",
    "print('[M/H]: %2.2f' %scale_factor_monh)"
   ]
  },
  {
   "cell_type": "code",
   "execution_count": 31,
   "id": "d09ce40f-0f5d-49fa-9c24-fbb4d286389f",
   "metadata": {},
   "outputs": [],
   "source": [
    "uves.eteff_sme = uves.eteff_sme.values * scale_factor_teff\n",
    "uves.elogg_sme = uves.elogg_sme.values * scale_factor_logg\n",
    "uves.emonh_sme = uves.emonh_sme.values * scale_factor_monh"
   ]
  },
  {
   "cell_type": "code",
   "execution_count": 32,
   "id": "aeb7e1d8-7d07-4091-9fb0-80ab746291df",
   "metadata": {},
   "outputs": [],
   "source": [
    "uves.to_csv('tmp_merged/UVES_p111_p112_pristinedr1_xgboost_logg_atm_uncs.csv', header=True, index=False)"
   ]
  },
  {
   "cell_type": "code",
   "execution_count": null,
   "id": "2a12b0a9-feca-4562-8ceb-0ace27735fd5",
   "metadata": {},
   "outputs": [],
   "source": []
  },
  {
   "cell_type": "code",
   "execution_count": null,
   "id": "4944d7f1-88d7-4a32-a143-6158ce7f84de",
   "metadata": {},
   "outputs": [],
   "source": []
  },
  {
   "cell_type": "code",
   "execution_count": 16,
   "id": "273ed1de-7e4b-43b8-b093-8cf153fc1a13",
   "metadata": {},
   "outputs": [],
   "source": [
    "#Uncs. scaling parameters\n",
    "percentile, percentile_sig_down, percentile_sig_up = 85, 0.35, 0.65"
   ]
  },
  {
   "cell_type": "code",
   "execution_count": 17,
   "id": "11e73962-7ea9-49aa-abeb-129e6dd6aa91",
   "metadata": {
    "scrolled": true
   },
   "outputs": [
    {
     "name": "stderr",
     "output_type": "stream",
     "text": [
      "[2024-10-31 11:45:18,084] [INFO] [sme:load:839]: Loading SME file sme_save/UVES_atm_1166634514845213568_3572891_000.sme\n",
      "[2024-10-31 11:45:18,121] [INFO] [sme:load:839]: Loading SME file sme_save/UVES_atm_1172165023972931072_3573727_087.sme\n"
     ]
    },
    {
     "name": "stdout",
     "output_type": "stream",
     "text": [
      "\u001b[32mINFO - Loading SME file sme_save/UVES_atm_1166634514845213568_3572891_000.sme\u001b[0m\n",
      "\u001b[32mINFO - Loading SME file sme_save/UVES_atm_1172165023972931072_3573727_087.sme\u001b[0m\n"
     ]
    },
    {
     "name": "stderr",
     "output_type": "stream",
     "text": [
      "[2024-10-31 11:45:18,557] [INFO] [sme:load:839]: Loading SME file sme_save/UVES_atm_1738069055902080768_3572805_001.sme\n"
     ]
    },
    {
     "name": "stdout",
     "output_type": "stream",
     "text": [
      "\u001b[32mINFO - Loading SME file sme_save/UVES_atm_1738069055902080768_3572805_001.sme\u001b[0m\n"
     ]
    },
    {
     "name": "stderr",
     "output_type": "stream",
     "text": [
      "[2024-10-31 11:45:18,798] [INFO] [sme:load:839]: Loading SME file sme_save/UVES_atm_1741229533355306496_3573222_036.sme\n"
     ]
    },
    {
     "name": "stdout",
     "output_type": "stream",
     "text": [
      "\u001b[32mINFO - Loading SME file sme_save/UVES_atm_1741229533355306496_3573222_036.sme\u001b[0m\n"
     ]
    },
    {
     "name": "stderr",
     "output_type": "stream",
     "text": [
      "[2024-10-31 11:45:19,136] [INFO] [sme:load:839]: Loading SME file sme_save/UVES_atm_1749801257286506880_3573721_089.sme\n"
     ]
    },
    {
     "name": "stdout",
     "output_type": "stream",
     "text": [
      "\u001b[32mINFO - Loading SME file sme_save/UVES_atm_1749801257286506880_3573721_089.sme\u001b[0m\n"
     ]
    },
    {
     "name": "stderr",
     "output_type": "stream",
     "text": [
      "[2024-10-31 11:45:19,730] [INFO] [sme:load:839]: Loading SME file sme_save/UVES_atm_2378437233645989632_3573255_056.sme\n",
      "[2024-10-31 11:45:19,866] [INFO] [sme:load:839]: Loading SME file sme_save/UVES_atm_2386765901082612352_3573748_121.sme\n"
     ]
    },
    {
     "name": "stdout",
     "output_type": "stream",
     "text": [
      "\u001b[32mINFO - Loading SME file sme_save/UVES_atm_2378437233645989632_3573255_056.sme\u001b[0m\n",
      "\u001b[32mINFO - Loading SME file sme_save/UVES_atm_2386765901082612352_3573748_121.sme\u001b[0m\n"
     ]
    },
    {
     "name": "stderr",
     "output_type": "stream",
     "text": [
      "[2024-10-31 11:45:19,993] [INFO] [sme:load:839]: Loading SME file sme_save/UVES_atm_2541284393302759296_3708442_129.sme\n"
     ]
    },
    {
     "name": "stdout",
     "output_type": "stream",
     "text": [
      "\u001b[32mINFO - Loading SME file sme_save/UVES_atm_2541284393302759296_3708442_129.sme\u001b[0m\n"
     ]
    },
    {
     "name": "stderr",
     "output_type": "stream",
     "text": [
      "[2024-10-31 11:45:20,394] [INFO] [sme:load:839]: Loading SME file sme_save/UVES_atm_2599833353121973248_3573736_122.sme\n",
      "[2024-10-31 11:45:20,498] [INFO] [sme:load:839]: Loading SME file sme_save/UVES_atm_2569615268897126016_3708424_127.sme\n"
     ]
    },
    {
     "name": "stdout",
     "output_type": "stream",
     "text": [
      "\u001b[32mINFO - Loading SME file sme_save/UVES_atm_2599833353121973248_3573736_122.sme\u001b[0m\n",
      "\u001b[32mINFO - Loading SME file sme_save/UVES_atm_2569615268897126016_3708424_127.sme\u001b[0m\n"
     ]
    },
    {
     "name": "stderr",
     "output_type": "stream",
     "text": [
      "[2024-10-31 11:45:20,613] [INFO] [sme:load:839]: Loading SME file sme_save/UVES_atm_2629976155159613312_3573193_053.sme\n"
     ]
    },
    {
     "name": "stdout",
     "output_type": "stream",
     "text": [
      "\u001b[32mINFO - Loading SME file sme_save/UVES_atm_2629976155159613312_3573193_053.sme\u001b[0m\n"
     ]
    },
    {
     "name": "stderr",
     "output_type": "stream",
     "text": [
      "[2024-10-31 11:45:21,019] [INFO] [sme:load:839]: Loading SME file sme_save/UVES_atm_2618359849171681280_3576286_085.sme\n"
     ]
    },
    {
     "name": "stdout",
     "output_type": "stream",
     "text": [
      "\u001b[32mINFO - Loading SME file sme_save/UVES_atm_2618359849171681280_3576286_085.sme\u001b[0m\n"
     ]
    },
    {
     "name": "stderr",
     "output_type": "stream",
     "text": [
      "[2024-10-31 11:45:21,450] [INFO] [sme:load:839]: Loading SME file sme_save/UVES_atm_2668140817939519744_3576352_067.sme\n",
      "[2024-10-31 11:45:21,552] [INFO] [sme:load:839]: Loading SME file sme_save/UVES_atm_2666382767566459264_3573733_102.sme\n"
     ]
    },
    {
     "name": "stdout",
     "output_type": "stream",
     "text": [
      "\u001b[32mINFO - Loading SME file sme_save/UVES_atm_2668140817939519744_3576352_067.sme\u001b[0m\n",
      "\u001b[32mINFO - Loading SME file sme_save/UVES_atm_2666382767566459264_3573733_102.sme\u001b[0m\n"
     ]
    },
    {
     "name": "stderr",
     "output_type": "stream",
     "text": [
      "[2024-10-31 11:45:21,652] [INFO] [sme:load:839]: Loading SME file sme_save/UVES_atm_2694284013287934208_3572882_005.sme\n"
     ]
    },
    {
     "name": "stdout",
     "output_type": "stream",
     "text": [
      "\u001b[32mINFO - Loading SME file sme_save/UVES_atm_2694284013287934208_3572882_005.sme\u001b[0m\n"
     ]
    },
    {
     "name": "stderr",
     "output_type": "stream",
     "text": [
      "[2024-10-31 11:45:22,050] [INFO] [sme:load:839]: Loading SME file sme_save/UVES_atm_2686591069730583936_3576322_066.sme\n"
     ]
    },
    {
     "name": "stdout",
     "output_type": "stream",
     "text": [
      "\u001b[32mINFO - Loading SME file sme_save/UVES_atm_2686591069730583936_3576322_066.sme\u001b[0m\n"
     ]
    },
    {
     "name": "stderr",
     "output_type": "stream",
     "text": [
      "[2024-10-31 11:45:22,486] [INFO] [sme:load:839]: Loading SME file sme_save/UVES_atm_2706817140174260224_3576298_070.sme\n"
     ]
    },
    {
     "name": "stdout",
     "output_type": "stream",
     "text": [
      "\u001b[32mINFO - Loading SME file sme_save/UVES_atm_2706817140174260224_3576298_070.sme\u001b[0m\n"
     ]
    },
    {
     "name": "stderr",
     "output_type": "stream",
     "text": [
      "[2024-10-31 11:45:22,754] [INFO] [sme:load:839]: Loading SME file sme_save/UVES_atm_2745948518489568000_3708445_130.sme\n"
     ]
    },
    {
     "name": "stdout",
     "output_type": "stream",
     "text": [
      "\u001b[32mINFO - Loading SME file sme_save/UVES_atm_2745948518489568000_3708445_130.sme\u001b[0m\n"
     ]
    },
    {
     "name": "stderr",
     "output_type": "stream",
     "text": [
      "[2024-10-31 11:45:23,059] [INFO] [sme:load:839]: Loading SME file sme_save/UVES_atm_2747167636367013632_3708433_128.sme\n",
      "[2024-10-31 11:45:23,147] [INFO] [sme:load:839]: Loading SME file sme_save/UVES_atm_2882976353396129408_3708481_137.sme\n"
     ]
    },
    {
     "name": "stdout",
     "output_type": "stream",
     "text": [
      "\u001b[32mINFO - Loading SME file sme_save/UVES_atm_2747167636367013632_3708433_128.sme\u001b[0m\n",
      "\u001b[32mINFO - Loading SME file sme_save/UVES_atm_2882976353396129408_3708481_137.sme\u001b[0m\n"
     ]
    },
    {
     "name": "stderr",
     "output_type": "stream",
     "text": [
      "[2024-10-31 11:45:23,263] [INFO] [sme:load:839]: Loading SME file sme_save/UVES_atm_2882976353396129408_3708481_142.sme\n",
      "[2024-10-31 11:45:23,342] [INFO] [sme:load:839]: Loading SME file sme_save/UVES_atm_2900487695273194880_3708421_134.sme\n"
     ]
    },
    {
     "name": "stdout",
     "output_type": "stream",
     "text": [
      "\u001b[32mINFO - Loading SME file sme_save/UVES_atm_2882976353396129408_3708481_142.sme\u001b[0m\n",
      "\u001b[32mINFO - Loading SME file sme_save/UVES_atm_2900487695273194880_3708421_134.sme\u001b[0m\n"
     ]
    },
    {
     "name": "stderr",
     "output_type": "stream",
     "text": [
      "[2024-10-31 11:45:23,681] [INFO] [sme:load:839]: Loading SME file sme_save/UVES_atm_2967216093892060928_3708490_144.sme\n",
      "[2024-10-31 11:45:23,805] [INFO] [sme:load:839]: Loading SME file sme_save/UVES_atm_2970270979572570240_3708418_139.sme\n"
     ]
    },
    {
     "name": "stdout",
     "output_type": "stream",
     "text": [
      "\u001b[32mINFO - Loading SME file sme_save/UVES_atm_2967216093892060928_3708490_144.sme\u001b[0m\n",
      "\u001b[32mINFO - Loading SME file sme_save/UVES_atm_2970270979572570240_3708418_139.sme\u001b[0m\n"
     ]
    },
    {
     "name": "stderr",
     "output_type": "stream",
     "text": [
      "[2024-10-31 11:45:23,915] [INFO] [sme:load:839]: Loading SME file sme_save/UVES_atm_3067753616067185024_3708457_145.sme\n",
      "[2024-10-31 11:45:24,006] [INFO] [sme:load:839]: Loading SME file sme_save/UVES_atm_3178512679373155712_3708475_133.sme\n"
     ]
    },
    {
     "name": "stdout",
     "output_type": "stream",
     "text": [
      "\u001b[32mINFO - Loading SME file sme_save/UVES_atm_3067753616067185024_3708457_145.sme\u001b[0m\n",
      "\u001b[32mINFO - Loading SME file sme_save/UVES_atm_3178512679373155712_3708475_133.sme\u001b[0m\n"
     ]
    },
    {
     "name": "stderr",
     "output_type": "stream",
     "text": [
      "[2024-10-31 11:45:24,540] [INFO] [sme:load:839]: Loading SME file sme_save/UVES_atm_3184578612007287680_3708454_141.sme\n",
      "[2024-10-31 11:45:24,665] [INFO] [sme:load:839]: Loading SME file sme_save/UVES_atm_3185283059661339648_3708448_138.sme\n"
     ]
    },
    {
     "name": "stdout",
     "output_type": "stream",
     "text": [
      "\u001b[32mINFO - Loading SME file sme_save/UVES_atm_3184578612007287680_3708454_141.sme\u001b[0m\n",
      "\u001b[32mINFO - Loading SME file sme_save/UVES_atm_3185283059661339648_3708448_138.sme\u001b[0m\n"
     ]
    },
    {
     "name": "stderr",
     "output_type": "stream",
     "text": [
      "[2024-10-31 11:45:24,772] [INFO] [sme:load:839]: Loading SME file sme_save/UVES_atm_3474451177494568320_3576292_064.sme\n",
      "[2024-10-31 11:45:24,914] [INFO] [sme:load:839]: Loading SME file sme_save/UVES_atm_3473880535256883328_3708463_148.sme\n"
     ]
    },
    {
     "name": "stdout",
     "output_type": "stream",
     "text": [
      "\u001b[32mINFO - Loading SME file sme_save/UVES_atm_3474451177494568320_3576292_064.sme\u001b[0m\n",
      "\u001b[32mINFO - Loading SME file sme_save/UVES_atm_3473880535256883328_3708463_148.sme\u001b[0m\n"
     ]
    },
    {
     "name": "stderr",
     "output_type": "stream",
     "text": [
      "[2024-10-31 11:45:25,208] [INFO] [sme:load:839]: Loading SME file sme_save/UVES_atm_3492757569356904320_3572799_018.sme\n",
      "[2024-10-31 11:45:25,305] [INFO] [sme:load:839]: Loading SME file sme_save/UVES_atm_3497335970134475136_3708451_154.sme\n"
     ]
    },
    {
     "name": "stdout",
     "output_type": "stream",
     "text": [
      "\u001b[32mINFO - Loading SME file sme_save/UVES_atm_3492757569356904320_3572799_018.sme\u001b[0m\n",
      "\u001b[32mINFO - Loading SME file sme_save/UVES_atm_3497335970134475136_3708451_154.sme\u001b[0m\n"
     ]
    },
    {
     "name": "stderr",
     "output_type": "stream",
     "text": [
      "[2024-10-31 11:45:25,422] [INFO] [sme:load:839]: Loading SME file sme_save/UVES_atm_3513718345495642368_3573231_045.sme\n",
      "[2024-10-31 11:45:25,524] [INFO] [sme:load:839]: Loading SME file sme_save/UVES_atm_3523787024442853504_3576331_058.sme\n"
     ]
    },
    {
     "name": "stdout",
     "output_type": "stream",
     "text": [
      "\u001b[32mINFO - Loading SME file sme_save/UVES_atm_3513718345495642368_3573231_045.sme\u001b[0m\n",
      "\u001b[32mINFO - Loading SME file sme_save/UVES_atm_3523787024442853504_3576331_058.sme\u001b[0m\n"
     ]
    },
    {
     "name": "stderr",
     "output_type": "stream",
     "text": [
      "[2024-10-31 11:45:25,652] [INFO] [sme:load:839]: Loading SME file sme_save/UVES_atm_3532952961394037376_3572888_007.sme\n",
      "[2024-10-31 11:45:25,764] [INFO] [sme:load:839]: Loading SME file sme_save/UVES_atm_3543785319887452800_3572787_023.sme\n"
     ]
    },
    {
     "name": "stdout",
     "output_type": "stream",
     "text": [
      "\u001b[32mINFO - Loading SME file sme_save/UVES_atm_3532952961394037376_3572888_007.sme\u001b[0m\n",
      "\u001b[32mINFO - Loading SME file sme_save/UVES_atm_3543785319887452800_3572787_023.sme\u001b[0m\n"
     ]
    },
    {
     "name": "stderr",
     "output_type": "stream",
     "text": [
      "[2024-10-31 11:45:25,870] [INFO] [sme:load:839]: Loading SME file sme_save/UVES_atm_3543860498994891008_3573730_094.sme\n",
      "[2024-10-31 11:45:25,972] [INFO] [sme:load:839]: Loading SME file sme_save/UVES_atm_3549787824444153856_3708439_152.sme\n",
      "[2024-10-31 11:45:26,069] [INFO] [sme:load:839]: Loading SME file sme_save/UVES_atm_3572437218517370240_3573679_095.sme\n"
     ]
    },
    {
     "name": "stdout",
     "output_type": "stream",
     "text": [
      "\u001b[32mINFO - Loading SME file sme_save/UVES_atm_3543860498994891008_3573730_094.sme\u001b[0m\n",
      "\u001b[32mINFO - Loading SME file sme_save/UVES_atm_3549787824444153856_3708439_152.sme\u001b[0m\n",
      "\u001b[32mINFO - Loading SME file sme_save/UVES_atm_3572437218517370240_3573679_095.sme\u001b[0m\n"
     ]
    },
    {
     "name": "stderr",
     "output_type": "stream",
     "text": [
      "[2024-10-31 11:45:26,286] [INFO] [sme:load:839]: Loading SME file sme_save/UVES_atm_3606188789515275136_3572879_020.sme\n",
      "[2024-10-31 11:45:26,391] [INFO] [sme:load:839]: Loading SME file sme_save/UVES_atm_3598383734427539840_3576364_061.sme\n"
     ]
    },
    {
     "name": "stdout",
     "output_type": "stream",
     "text": [
      "\u001b[32mINFO - Loading SME file sme_save/UVES_atm_3606188789515275136_3572879_020.sme\u001b[0m\n",
      "\u001b[32mINFO - Loading SME file sme_save/UVES_atm_3598383734427539840_3576364_061.sme\u001b[0m\n"
     ]
    },
    {
     "name": "stderr",
     "output_type": "stream",
     "text": [
      "[2024-10-31 11:45:26,799] [INFO] [sme:load:839]: Loading SME file sme_save/UVES_atm_3608416056475856512_3708499_157.sme\n"
     ]
    },
    {
     "name": "stdout",
     "output_type": "stream",
     "text": [
      "\u001b[32mINFO - Loading SME file sme_save/UVES_atm_3608416056475856512_3708499_157.sme\u001b[0m\n"
     ]
    },
    {
     "name": "stderr",
     "output_type": "stream",
     "text": [
      "[2024-10-31 11:45:27,502] [INFO] [sme:load:839]: Loading SME file sme_save/UVES_atm_3665739129549287808_3573703_091.sme\n"
     ]
    },
    {
     "name": "stdout",
     "output_type": "stream",
     "text": [
      "\u001b[32mINFO - Loading SME file sme_save/UVES_atm_3665739129549287808_3573703_091.sme\u001b[0m\n"
     ]
    },
    {
     "name": "stderr",
     "output_type": "stream",
     "text": [
      "[2024-10-31 11:45:27,813] [INFO] [sme:load:839]: Loading SME file sme_save/UVES_atm_3708428046455751680_3708469_153.sme\n"
     ]
    },
    {
     "name": "stdout",
     "output_type": "stream",
     "text": [
      "\u001b[32mINFO - Loading SME file sme_save/UVES_atm_3708428046455751680_3708469_153.sme\u001b[0m\n"
     ]
    },
    {
     "name": "stderr",
     "output_type": "stream",
     "text": [
      "[2024-10-31 11:45:28,040] [INFO] [sme:load:839]: Loading SME file sme_save/UVES_atm_3725429210639578752_3708502_158.sme\n",
      "[2024-10-31 11:45:28,158] [INFO] [sme:load:839]: Loading SME file sme_save/UVES_atm_3818459160048340352_3573243_047.sme\n"
     ]
    },
    {
     "name": "stdout",
     "output_type": "stream",
     "text": [
      "\u001b[32mINFO - Loading SME file sme_save/UVES_atm_3725429210639578752_3708502_158.sme\u001b[0m\n",
      "\u001b[32mINFO - Loading SME file sme_save/UVES_atm_3818459160048340352_3573243_047.sme\u001b[0m\n"
     ]
    },
    {
     "name": "stderr",
     "output_type": "stream",
     "text": [
      "[2024-10-31 11:45:28,355] [INFO] [sme:load:839]: Loading SME file sme_save/UVES_atm_3822507802379684608_3576289_059.sme\n"
     ]
    },
    {
     "name": "stdout",
     "output_type": "stream",
     "text": [
      "\u001b[32mINFO - Loading SME file sme_save/UVES_atm_3822507802379684608_3576289_059.sme\u001b[0m\n"
     ]
    },
    {
     "name": "stderr",
     "output_type": "stream",
     "text": [
      "[2024-10-31 11:45:28,791] [INFO] [sme:load:839]: Loading SME file sme_save/UVES_atm_3833089781458744960_3708478_146.sme\n",
      "[2024-10-31 11:45:28,970] [INFO] [sme:load:839]: Loading SME file sme_save/UVES_atm_3864303022490267136_3572840_010.sme\n"
     ]
    },
    {
     "name": "stdout",
     "output_type": "stream",
     "text": [
      "\u001b[32mINFO - Loading SME file sme_save/UVES_atm_3833089781458744960_3708478_146.sme\u001b[0m\n",
      "\u001b[32mINFO - Loading SME file sme_save/UVES_atm_3864303022490267136_3572840_010.sme\u001b[0m\n"
     ]
    },
    {
     "name": "stderr",
     "output_type": "stream",
     "text": [
      "[2024-10-31 11:45:29,063] [INFO] [sme:load:839]: Loading SME file sme_save/UVES_atm_3874671039183974272_3573246_039.sme\n"
     ]
    },
    {
     "name": "stdout",
     "output_type": "stream",
     "text": [
      "\u001b[32mINFO - Loading SME file sme_save/UVES_atm_3874671039183974272_3573246_039.sme\u001b[0m\n"
     ]
    },
    {
     "name": "stderr",
     "output_type": "stream",
     "text": [
      "[2024-10-31 11:45:29,681] [INFO] [sme:load:839]: Loading SME file sme_save/UVES_atm_3892663864073428480_3576361_060.sme\n",
      "[2024-10-31 11:45:29,764] [INFO] [sme:load:839]: Loading SME file sme_save/UVES_atm_3876856013600995968_3708496_151.sme\n"
     ]
    },
    {
     "name": "stdout",
     "output_type": "stream",
     "text": [
      "\u001b[32mINFO - Loading SME file sme_save/UVES_atm_3892663864073428480_3576361_060.sme\u001b[0m\n",
      "\u001b[32mINFO - Loading SME file sme_save/UVES_atm_3876856013600995968_3708496_151.sme\u001b[0m\n"
     ]
    },
    {
     "name": "stderr",
     "output_type": "stream",
     "text": [
      "[2024-10-31 11:45:30,098] [INFO] [sme:load:839]: Loading SME file sme_save/UVES_atm_3910233647567741056_3573216_038.sme\n"
     ]
    },
    {
     "name": "stdout",
     "output_type": "stream",
     "text": [
      "\u001b[32mINFO - Loading SME file sme_save/UVES_atm_3910233647567741056_3573216_038.sme\u001b[0m\n"
     ]
    },
    {
     "name": "stderr",
     "output_type": "stream",
     "text": [
      "[2024-10-31 11:45:30,519] [INFO] [sme:load:839]: Loading SME file sme_save/UVES_atm_4411228560308157184_3572825_009.sme\n",
      "[2024-10-31 11:45:30,673] [INFO] [sme:load:839]: Loading SME file sme_save/UVES_atm_4423944137401740416_3572843_008.sme\n"
     ]
    },
    {
     "name": "stdout",
     "output_type": "stream",
     "text": [
      "\u001b[32mINFO - Loading SME file sme_save/UVES_atm_4411228560308157184_3572825_009.sme\u001b[0m\n",
      "\u001b[32mINFO - Loading SME file sme_save/UVES_atm_4423944137401740416_3572843_008.sme\u001b[0m\n"
     ]
    },
    {
     "name": "stderr",
     "output_type": "stream",
     "text": [
      "[2024-10-31 11:45:30,815] [INFO] [sme:load:839]: Loading SME file sme_save/UVES_atm_4441762925923597184_3573225_035.sme\n",
      "[2024-10-31 11:45:30,946] [INFO] [sme:load:839]: Loading SME file sme_save/UVES_atm_4433115644928113792_3573715_090.sme\n"
     ]
    },
    {
     "name": "stdout",
     "output_type": "stream",
     "text": [
      "\u001b[32mINFO - Loading SME file sme_save/UVES_atm_4441762925923597184_3573225_035.sme\u001b[0m\n",
      "\u001b[32mINFO - Loading SME file sme_save/UVES_atm_4433115644928113792_3573715_090.sme\u001b[0m\n"
     ]
    },
    {
     "name": "stderr",
     "output_type": "stream",
     "text": [
      "[2024-10-31 11:45:31,152] [INFO] [sme:load:839]: Loading SME file sme_save/UVES_atm_4439777345364165376_3573751_086.sme\n"
     ]
    },
    {
     "name": "stdout",
     "output_type": "stream",
     "text": [
      "\u001b[32mINFO - Loading SME file sme_save/UVES_atm_4439777345364165376_3573751_086.sme\u001b[0m\n"
     ]
    },
    {
     "name": "stderr",
     "output_type": "stream",
     "text": [
      "[2024-10-31 11:45:31,521] [INFO] [sme:load:839]: Loading SME file sme_save/UVES_atm_4450279330676186368_3576301_057.sme\n"
     ]
    },
    {
     "name": "stdout",
     "output_type": "stream",
     "text": [
      "\u001b[32mINFO - Loading SME file sme_save/UVES_atm_4450279330676186368_3576301_057.sme\u001b[0m\n"
     ]
    },
    {
     "name": "stderr",
     "output_type": "stream",
     "text": [
      "[2024-10-31 11:45:32,043] [INFO] [sme:load:839]: Loading SME file sme_save/UVES_atm_4752197836317724160_3704064_123.sme\n"
     ]
    },
    {
     "name": "stdout",
     "output_type": "stream",
     "text": [
      "\u001b[32mINFO - Loading SME file sme_save/UVES_atm_4752197836317724160_3704064_123.sme\u001b[0m\n"
     ]
    },
    {
     "name": "stderr",
     "output_type": "stream",
     "text": [
      "[2024-10-31 11:45:32,450] [INFO] [sme:load:839]: Loading SME file sme_save/UVES_atm_4757476003231981952_3708427_136.sme\n"
     ]
    },
    {
     "name": "stdout",
     "output_type": "stream",
     "text": [
      "\u001b[32mINFO - Loading SME file sme_save/UVES_atm_4757476003231981952_3708427_136.sme\u001b[0m\n"
     ]
    },
    {
     "name": "stderr",
     "output_type": "stream",
     "text": [
      "[2024-10-31 11:45:32,775] [INFO] [sme:load:839]: Loading SME file sme_save/UVES_atm_4757476003231981952_3708427_140.sme\n"
     ]
    },
    {
     "name": "stdout",
     "output_type": "stream",
     "text": [
      "\u001b[32mINFO - Loading SME file sme_save/UVES_atm_4757476003231981952_3708427_140.sme\u001b[0m\n"
     ]
    },
    {
     "name": "stderr",
     "output_type": "stream",
     "text": [
      "[2024-10-31 11:45:33,086] [INFO] [sme:load:839]: Loading SME file sme_save/UVES_atm_4854289415101796608_3708430_135.sme\n"
     ]
    },
    {
     "name": "stdout",
     "output_type": "stream",
     "text": [
      "\u001b[32mINFO - Loading SME file sme_save/UVES_atm_4854289415101796608_3708430_135.sme\u001b[0m\n"
     ]
    },
    {
     "name": "stderr",
     "output_type": "stream",
     "text": [
      "[2024-10-31 11:45:33,400] [INFO] [sme:load:839]: Loading SME file sme_save/UVES_atm_4901776016635135488_3708493_124.sme\n",
      "[2024-10-31 11:45:33,593] [INFO] [sme:load:839]: Loading SME file sme_save/UVES_atm_4905666294932720000_3708505_125.sme\n"
     ]
    },
    {
     "name": "stdout",
     "output_type": "stream",
     "text": [
      "\u001b[32mINFO - Loading SME file sme_save/UVES_atm_4901776016635135488_3708493_124.sme\u001b[0m\n",
      "\u001b[32mINFO - Loading SME file sme_save/UVES_atm_4905666294932720000_3708505_125.sme\u001b[0m\n"
     ]
    },
    {
     "name": "stderr",
     "output_type": "stream",
     "text": [
      "[2024-10-31 11:45:33,834] [INFO] [sme:load:839]: Loading SME file sme_save/UVES_atm_4913520175210033152_3708460_131.sme\n",
      "[2024-10-31 11:45:33,926] [INFO] [sme:load:839]: Loading SME file sme_save/UVES_atm_4954240794503614720_3704133_132.sme\n"
     ]
    },
    {
     "name": "stdout",
     "output_type": "stream",
     "text": [
      "\u001b[32mINFO - Loading SME file sme_save/UVES_atm_4913520175210033152_3708460_131.sme\u001b[0m\n",
      "\u001b[32mINFO - Loading SME file sme_save/UVES_atm_4954240794503614720_3704133_132.sme\u001b[0m\n"
     ]
    },
    {
     "name": "stderr",
     "output_type": "stream",
     "text": [
      "[2024-10-31 11:45:34,439] [INFO] [sme:load:839]: Loading SME file sme_save/UVES_atm_5050991770433282688_3704139_126.sme\n",
      "[2024-10-31 11:45:34,620] [INFO] [sme:load:839]: Loading SME file sme_save/UVES_atm_5454289027730222848_3708466_149.sme\n"
     ]
    },
    {
     "name": "stdout",
     "output_type": "stream",
     "text": [
      "\u001b[32mINFO - Loading SME file sme_save/UVES_atm_5050991770433282688_3704139_126.sme\u001b[0m\n",
      "\u001b[32mINFO - Loading SME file sme_save/UVES_atm_5454289027730222848_3708466_149.sme\u001b[0m\n"
     ]
    },
    {
     "name": "stderr",
     "output_type": "stream",
     "text": [
      "[2024-10-31 11:45:34,717] [INFO] [sme:load:839]: Loading SME file sme_save/UVES_atm_5584165230990237824_3708487_143.sme\n",
      "[2024-10-31 11:45:34,830] [INFO] [sme:load:839]: Loading SME file sme_save/UVES_atm_5735381717990313216_3572855_004.sme\n"
     ]
    },
    {
     "name": "stdout",
     "output_type": "stream",
     "text": [
      "\u001b[32mINFO - Loading SME file sme_save/UVES_atm_5584165230990237824_3708487_143.sme\u001b[0m\n",
      "\u001b[32mINFO - Loading SME file sme_save/UVES_atm_5735381717990313216_3572855_004.sme\u001b[0m\n"
     ]
    },
    {
     "name": "stderr",
     "output_type": "stream",
     "text": [
      "[2024-10-31 11:45:34,935] [INFO] [sme:load:839]: Loading SME file sme_save/UVES_atm_5736440096715771136_3573724_093.sme\n",
      "[2024-10-31 11:45:35,031] [INFO] [sme:load:839]: Loading SME file sme_save/UVES_atm_5755996908175855232_3572793_003.sme\n"
     ]
    },
    {
     "name": "stdout",
     "output_type": "stream",
     "text": [
      "\u001b[32mINFO - Loading SME file sme_save/UVES_atm_5736440096715771136_3573724_093.sme\u001b[0m\n",
      "\u001b[32mINFO - Loading SME file sme_save/UVES_atm_5755996908175855232_3572793_003.sme\u001b[0m\n"
     ]
    },
    {
     "name": "stderr",
     "output_type": "stream",
     "text": [
      "[2024-10-31 11:45:35,143] [INFO] [sme:load:839]: Loading SME file sme_save/UVES_atm_5803007691756413056_3572867_002.sme\n",
      "[2024-10-31 11:45:35,285] [INFO] [sme:load:839]: Loading SME file sme_save/UVES_atm_5805316292518188672_3573237_034.sme\n"
     ]
    },
    {
     "name": "stdout",
     "output_type": "stream",
     "text": [
      "\u001b[32mINFO - Loading SME file sme_save/UVES_atm_5803007691756413056_3572867_002.sme\u001b[0m\n",
      "\u001b[32mINFO - Loading SME file sme_save/UVES_atm_5805316292518188672_3573237_034.sme\u001b[0m\n"
     ]
    },
    {
     "name": "stderr",
     "output_type": "stream",
     "text": [
      "[2024-10-31 11:45:35,427] [INFO] [sme:load:839]: Loading SME file sme_save/UVES_atm_5805489018923755136_3573688_101.sme\n"
     ]
    },
    {
     "name": "stdout",
     "output_type": "stream",
     "text": [
      "\u001b[32mINFO - Loading SME file sme_save/UVES_atm_5805489018923755136_3573688_101.sme\u001b[0m\n"
     ]
    },
    {
     "name": "stderr",
     "output_type": "stream",
     "text": [
      "[2024-10-31 11:45:35,726] [INFO] [sme:load:839]: Loading SME file sme_save/UVES_atm_6107795579151078528_3573219_042.sme\n",
      "[2024-10-31 11:45:35,814] [INFO] [sme:load:839]: Loading SME file sme_save/UVES_atm_6100873608000306176_3576355_077.sme\n"
     ]
    },
    {
     "name": "stdout",
     "output_type": "stream",
     "text": [
      "\u001b[32mINFO - Loading SME file sme_save/UVES_atm_6107795579151078528_3573219_042.sme\u001b[0m\n",
      "\u001b[32mINFO - Loading SME file sme_save/UVES_atm_6100873608000306176_3576355_077.sme\u001b[0m\n"
     ]
    },
    {
     "name": "stderr",
     "output_type": "stream",
     "text": [
      "[2024-10-31 11:45:35,935] [INFO] [sme:load:839]: Loading SME file sme_save/UVES_atm_6119043621766704640_3576334_073.sme\n",
      "[2024-10-31 11:45:36,053] [INFO] [sme:load:839]: Loading SME file sme_save/UVES_atm_6133678941862384768_3576343_063.sme\n"
     ]
    },
    {
     "name": "stdout",
     "output_type": "stream",
     "text": [
      "\u001b[32mINFO - Loading SME file sme_save/UVES_atm_6119043621766704640_3576334_073.sme\u001b[0m\n",
      "\u001b[32mINFO - Loading SME file sme_save/UVES_atm_6133678941862384768_3576343_063.sme\u001b[0m\n"
     ]
    },
    {
     "name": "stderr",
     "output_type": "stream",
     "text": [
      "[2024-10-31 11:45:36,143] [INFO] [sme:load:839]: Loading SME file sme_save/UVES_atm_6150224495918526848_3573252_041.sme\n"
     ]
    },
    {
     "name": "stdout",
     "output_type": "stream",
     "text": [
      "\u001b[32mINFO - Loading SME file sme_save/UVES_atm_6150224495918526848_3573252_041.sme\u001b[0m\n"
     ]
    },
    {
     "name": "stderr",
     "output_type": "stream",
     "text": [
      "[2024-10-31 11:45:36,379] [INFO] [sme:load:839]: Loading SME file sme_save/UVES_atm_6158271340483740288_3708436_147.sme\n",
      "[2024-10-31 11:45:36,478] [INFO] [sme:load:839]: Loading SME file sme_save/UVES_atm_6158820275960197376_3708484_156.sme\n"
     ]
    },
    {
     "name": "stdout",
     "output_type": "stream",
     "text": [
      "\u001b[32mINFO - Loading SME file sme_save/UVES_atm_6158271340483740288_3708436_147.sme\u001b[0m\n",
      "\u001b[32mINFO - Loading SME file sme_save/UVES_atm_6158820275960197376_3708484_156.sme\u001b[0m\n"
     ]
    },
    {
     "name": "stderr",
     "output_type": "stream",
     "text": [
      "[2024-10-31 11:45:36,614] [INFO] [sme:load:839]: Loading SME file sme_save/UVES_atm_6167441439259305088_3573234_046.sme\n",
      "[2024-10-31 11:45:36,779] [INFO] [sme:load:839]: Loading SME file sme_save/UVES_atm_6180986292937221120_3708472_155.sme\n"
     ]
    },
    {
     "name": "stdout",
     "output_type": "stream",
     "text": [
      "\u001b[32mINFO - Loading SME file sme_save/UVES_atm_6167441439259305088_3573234_046.sme\u001b[0m\n",
      "\u001b[32mINFO - Loading SME file sme_save/UVES_atm_6180986292937221120_3708472_155.sme\u001b[0m\n"
     ]
    },
    {
     "name": "stderr",
     "output_type": "stream",
     "text": [
      "[2024-10-31 11:45:36,909] [INFO] [sme:load:839]: Loading SME file sme_save/UVES_atm_6180986292937221120_3708472_159.sme\n"
     ]
    },
    {
     "name": "stdout",
     "output_type": "stream",
     "text": [
      "\u001b[32mINFO - Loading SME file sme_save/UVES_atm_6180986292937221120_3708472_159.sme\u001b[0m\n"
     ]
    },
    {
     "name": "stderr",
     "output_type": "stream",
     "text": [
      "[2024-10-31 11:45:37,394] [INFO] [sme:load:839]: Loading SME file sme_save/UVES_atm_6223323778439145216_3572846_011.sme\n"
     ]
    },
    {
     "name": "stdout",
     "output_type": "stream",
     "text": [
      "\u001b[32mINFO - Loading SME file sme_save/UVES_atm_6223323778439145216_3572846_011.sme\u001b[0m\n"
     ]
    },
    {
     "name": "stderr",
     "output_type": "stream",
     "text": [
      "[2024-10-31 11:45:37,744] [INFO] [sme:load:839]: Loading SME file sme_save/UVES_atm_6279500095244393728_3573718_120.sme\n"
     ]
    },
    {
     "name": "stdout",
     "output_type": "stream",
     "text": [
      "\u001b[32mINFO - Loading SME file sme_save/UVES_atm_6279500095244393728_3573718_120.sme\u001b[0m\n"
     ]
    },
    {
     "name": "stderr",
     "output_type": "stream",
     "text": [
      "[2024-10-31 11:45:37,959] [INFO] [sme:load:839]: Loading SME file sme_save/UVES_atm_6292504156704893696_3704136_150.sme\n",
      "[2024-10-31 11:45:38,109] [INFO] [sme:load:839]: Loading SME file sme_save/UVES_atm_6324010937276922880_3572861_025.sme\n"
     ]
    },
    {
     "name": "stdout",
     "output_type": "stream",
     "text": [
      "\u001b[32mINFO - Loading SME file sme_save/UVES_atm_6292504156704893696_3704136_150.sme\u001b[0m\n",
      "\u001b[32mINFO - Loading SME file sme_save/UVES_atm_6324010937276922880_3572861_025.sme\u001b[0m\n"
     ]
    },
    {
     "name": "stderr",
     "output_type": "stream",
     "text": [
      "[2024-10-31 11:45:38,430] [INFO] [sme:load:839]: Loading SME file sme_save/UVES_atm_6312184792070759552_3573694_092.sme\n",
      "[2024-10-31 11:45:38,588] [INFO] [sme:load:839]: Loading SME file sme_save/UVES_atm_6354182945092770176_3572894_033.sme\n"
     ]
    },
    {
     "name": "stdout",
     "output_type": "stream",
     "text": [
      "\u001b[32mINFO - Loading SME file sme_save/UVES_atm_6312184792070759552_3573694_092.sme\u001b[0m\n",
      "\u001b[32mINFO - Loading SME file sme_save/UVES_atm_6354182945092770176_3572894_033.sme\u001b[0m\n"
     ]
    },
    {
     "name": "stderr",
     "output_type": "stream",
     "text": [
      "[2024-10-31 11:45:38,729] [INFO] [sme:load:839]: Loading SME file sme_save/UVES_atm_6373464839991607552_3572813_015.sme\n",
      "[2024-10-31 11:45:38,844] [INFO] [sme:load:839]: Loading SME file sme_save/UVES_atm_6392134513070641408_3572837_021.sme\n"
     ]
    },
    {
     "name": "stdout",
     "output_type": "stream",
     "text": [
      "\u001b[32mINFO - Loading SME file sme_save/UVES_atm_6373464839991607552_3572813_015.sme\u001b[0m\n",
      "\u001b[32mINFO - Loading SME file sme_save/UVES_atm_6392134513070641408_3572837_021.sme\u001b[0m\n"
     ]
    },
    {
     "name": "stderr",
     "output_type": "stream",
     "text": [
      "[2024-10-31 11:45:38,948] [INFO] [sme:load:839]: Loading SME file sme_save/UVES_atm_6425379106130933376_3573700_088.sme\n",
      "[2024-10-31 11:45:39,057] [INFO] [sme:load:839]: Loading SME file sme_save/UVES_atm_6441312919402521728_3573682_097.sme\n"
     ]
    },
    {
     "name": "stdout",
     "output_type": "stream",
     "text": [
      "\u001b[32mINFO - Loading SME file sme_save/UVES_atm_6425379106130933376_3573700_088.sme\u001b[0m\n",
      "\u001b[32mINFO - Loading SME file sme_save/UVES_atm_6441312919402521728_3573682_097.sme\u001b[0m\n"
     ]
    },
    {
     "name": "stderr",
     "output_type": "stream",
     "text": [
      "[2024-10-31 11:45:39,230] [INFO] [sme:load:839]: Loading SME file sme_save/UVES_atm_6445544385605809152_3573258_043.sme\n",
      "[2024-10-31 11:45:39,411] [INFO] [sme:load:839]: Loading SME file sme_save/UVES_atm_6451871117247012864_3576367_065.sme\n"
     ]
    },
    {
     "name": "stdout",
     "output_type": "stream",
     "text": [
      "\u001b[32mINFO - Loading SME file sme_save/UVES_atm_6445544385605809152_3573258_043.sme\u001b[0m\n",
      "\u001b[32mINFO - Loading SME file sme_save/UVES_atm_6451871117247012864_3576367_065.sme\u001b[0m\n"
     ]
    },
    {
     "name": "stderr",
     "output_type": "stream",
     "text": [
      "[2024-10-31 11:45:39,523] [INFO] [sme:load:839]: Loading SME file sme_save/UVES_atm_6445869192509584640_3573664_098.sme\n",
      "[2024-10-31 11:45:39,664] [INFO] [sme:load:839]: Loading SME file sme_save/UVES_atm_6459090785472607744_3572852_019.sme\n"
     ]
    },
    {
     "name": "stdout",
     "output_type": "stream",
     "text": [
      "\u001b[32mINFO - Loading SME file sme_save/UVES_atm_6445869192509584640_3573664_098.sme\u001b[0m\n",
      "\u001b[32mINFO - Loading SME file sme_save/UVES_atm_6459090785472607744_3572852_019.sme\u001b[0m\n"
     ]
    },
    {
     "name": "stderr",
     "output_type": "stream",
     "text": [
      "[2024-10-31 11:45:40,115] [INFO] [sme:load:839]: Loading SME file sme_save/UVES_atm_6456829704234138880_3573712_110.sme\n",
      "[2024-10-31 11:45:40,257] [INFO] [sme:load:839]: Loading SME file sme_save/UVES_atm_6456829704234138880_3573712_113.sme\n"
     ]
    },
    {
     "name": "stdout",
     "output_type": "stream",
     "text": [
      "\u001b[32mINFO - Loading SME file sme_save/UVES_atm_6456829704234138880_3573712_110.sme\u001b[0m\n",
      "\u001b[32mINFO - Loading SME file sme_save/UVES_atm_6456829704234138880_3573712_113.sme\u001b[0m\n"
     ]
    },
    {
     "name": "stderr",
     "output_type": "stream",
     "text": [
      "[2024-10-31 11:45:40,364] [INFO] [sme:load:839]: Loading SME file sme_save/UVES_atm_6473118900280458240_3573196_049.sme\n",
      "[2024-10-31 11:45:40,484] [INFO] [sme:load:839]: Loading SME file sme_save/UVES_atm_6488378098744387968_3576337_082.sme\n"
     ]
    },
    {
     "name": "stdout",
     "output_type": "stream",
     "text": [
      "\u001b[32mINFO - Loading SME file sme_save/UVES_atm_6473118900280458240_3573196_049.sme\u001b[0m\n",
      "\u001b[32mINFO - Loading SME file sme_save/UVES_atm_6488378098744387968_3576337_082.sme\u001b[0m\n"
     ]
    },
    {
     "name": "stderr",
     "output_type": "stream",
     "text": [
      "[2024-10-31 11:45:40,583] [INFO] [sme:load:839]: Loading SME file sme_save/UVES_atm_6517965235093153920_3572819_016.sme\n",
      "[2024-10-31 11:45:40,691] [INFO] [sme:load:839]: Loading SME file sme_save/UVES_atm_6520905878946665344_3573199_055.sme\n"
     ]
    },
    {
     "name": "stdout",
     "output_type": "stream",
     "text": [
      "\u001b[32mINFO - Loading SME file sme_save/UVES_atm_6517965235093153920_3572819_016.sme\u001b[0m\n",
      "\u001b[32mINFO - Loading SME file sme_save/UVES_atm_6520905878946665344_3573199_055.sme\u001b[0m\n"
     ]
    },
    {
     "name": "stderr",
     "output_type": "stream",
     "text": [
      "[2024-10-31 11:45:40,837] [INFO] [sme:load:839]: Loading SME file sme_save/UVES_atm_6523938984849548032_3573742_119.sme\n",
      "[2024-10-31 11:45:40,978] [INFO] [sme:load:839]: Loading SME file sme_save/UVES_atm_6572630135729345280_3572858_032.sme\n"
     ]
    },
    {
     "name": "stdout",
     "output_type": "stream",
     "text": [
      "\u001b[32mINFO - Loading SME file sme_save/UVES_atm_6523938984849548032_3573742_119.sme\u001b[0m\n",
      "\u001b[32mINFO - Loading SME file sme_save/UVES_atm_6572630135729345280_3572858_032.sme\u001b[0m\n"
     ]
    },
    {
     "name": "stderr",
     "output_type": "stream",
     "text": [
      "[2024-10-31 11:45:41,123] [INFO] [sme:load:839]: Loading SME file sme_save/UVES_atm_6575733885254308096_3572876_031.sme\n",
      "[2024-10-31 11:45:41,205] [INFO] [sme:load:839]: Loading SME file sme_save/UVES_atm_6565897654232474240_3576319_074.sme\n"
     ]
    },
    {
     "name": "stdout",
     "output_type": "stream",
     "text": [
      "\u001b[32mINFO - Loading SME file sme_save/UVES_atm_6575733885254308096_3572876_031.sme\u001b[0m\n",
      "\u001b[32mINFO - Loading SME file sme_save/UVES_atm_6565897654232474240_3576319_074.sme\u001b[0m\n"
     ]
    },
    {
     "name": "stderr",
     "output_type": "stream",
     "text": [
      "[2024-10-31 11:45:41,330] [INFO] [sme:load:839]: Loading SME file sme_save/UVES_atm_6631364397619544448_3572790_006.sme\n"
     ]
    },
    {
     "name": "stdout",
     "output_type": "stream",
     "text": [
      "\u001b[32mINFO - Loading SME file sme_save/UVES_atm_6631364397619544448_3572790_006.sme\u001b[0m\n"
     ]
    },
    {
     "name": "stderr",
     "output_type": "stream",
     "text": [
      "[2024-10-31 11:45:41,615] [INFO] [sme:load:839]: Loading SME file sme_save/UVES_atm_6629073801361978752_3576325_072.sme\n"
     ]
    },
    {
     "name": "stdout",
     "output_type": "stream",
     "text": [
      "\u001b[32mINFO - Loading SME file sme_save/UVES_atm_6629073801361978752_3576325_072.sme\u001b[0m\n"
     ]
    },
    {
     "name": "stderr",
     "output_type": "stream",
     "text": [
      "[2024-10-31 11:45:41,840] [INFO] [sme:load:839]: Loading SME file sme_save/UVES_atm_6636060098245932672_3573249_037.sme\n"
     ]
    },
    {
     "name": "stdout",
     "output_type": "stream",
     "text": [
      "\u001b[32mINFO - Loading SME file sme_save/UVES_atm_6636060098245932672_3573249_037.sme\u001b[0m\n"
     ]
    },
    {
     "name": "stderr",
     "output_type": "stream",
     "text": [
      "[2024-10-31 11:45:42,176] [INFO] [sme:load:839]: Loading SME file sme_save/UVES_atm_6636060098245932672_3573249_040.sme\n",
      "[2024-10-31 11:45:42,282] [INFO] [sme:load:839]: Loading SME file sme_save/UVES_atm_6638071689128024960_3573709_109.sme\n"
     ]
    },
    {
     "name": "stdout",
     "output_type": "stream",
     "text": [
      "\u001b[32mINFO - Loading SME file sme_save/UVES_atm_6636060098245932672_3573249_040.sme\u001b[0m\n",
      "\u001b[32mINFO - Loading SME file sme_save/UVES_atm_6638071689128024960_3573709_109.sme\u001b[0m\n"
     ]
    },
    {
     "name": "stderr",
     "output_type": "stream",
     "text": [
      "[2024-10-31 11:45:42,463] [INFO] [sme:load:839]: Loading SME file sme_save/UVES_atm_6638289946484861184_3573754_112.sme\n",
      "[2024-10-31 11:45:42,552] [INFO] [sme:load:839]: Loading SME file sme_save/UVES_atm_6638289946484861184_3573754_117.sme\n",
      "[2024-10-31 11:45:42,663] [INFO] [sme:load:839]: Loading SME file sme_save/UVES_atm_6654901157699273600_3573661_096.sme\n"
     ]
    },
    {
     "name": "stdout",
     "output_type": "stream",
     "text": [
      "\u001b[32mINFO - Loading SME file sme_save/UVES_atm_6638289946484861184_3573754_112.sme\u001b[0m\n",
      "\u001b[32mINFO - Loading SME file sme_save/UVES_atm_6638289946484861184_3573754_117.sme\u001b[0m\n",
      "\u001b[32mINFO - Loading SME file sme_save/UVES_atm_6654901157699273600_3573661_096.sme\u001b[0m\n"
     ]
    },
    {
     "name": "stderr",
     "output_type": "stream",
     "text": [
      "[2024-10-31 11:45:43,032] [INFO] [sme:load:839]: Loading SME file sme_save/UVES_atm_6661076122378750208_3572802_012.sme\n",
      "[2024-10-31 11:45:43,169] [INFO] [sme:load:839]: Loading SME file sme_save/UVES_atm_6662769232846184064_3573676_100.sme\n"
     ]
    },
    {
     "name": "stdout",
     "output_type": "stream",
     "text": [
      "\u001b[32mINFO - Loading SME file sme_save/UVES_atm_6661076122378750208_3572802_012.sme\u001b[0m\n",
      "\u001b[32mINFO - Loading SME file sme_save/UVES_atm_6662769232846184064_3573676_100.sme\u001b[0m\n"
     ]
    },
    {
     "name": "stderr",
     "output_type": "stream",
     "text": [
      "[2024-10-31 11:45:43,302] [INFO] [sme:load:839]: Loading SME file sme_save/UVES_atm_6667107184173771648_3572870_026.sme\n",
      "[2024-10-31 11:45:43,425] [INFO] [sme:load:839]: Loading SME file sme_save/UVES_atm_6676351809220383872_3573210_050.sme\n"
     ]
    },
    {
     "name": "stdout",
     "output_type": "stream",
     "text": [
      "\u001b[32mINFO - Loading SME file sme_save/UVES_atm_6667107184173771648_3572870_026.sme\u001b[0m\n",
      "\u001b[32mINFO - Loading SME file sme_save/UVES_atm_6676351809220383872_3573210_050.sme\u001b[0m\n"
     ]
    },
    {
     "name": "stderr",
     "output_type": "stream",
     "text": [
      "[2024-10-31 11:45:43,514] [INFO] [sme:load:839]: Loading SME file sme_save/UVES_atm_6678142192107202048_3573207_052.sme\n",
      "[2024-10-31 11:45:43,616] [INFO] [sme:load:839]: Loading SME file sme_save/UVES_atm_6691238917488008576_3573745_116.sme\n"
     ]
    },
    {
     "name": "stdout",
     "output_type": "stream",
     "text": [
      "\u001b[32mINFO - Loading SME file sme_save/UVES_atm_6678142192107202048_3573207_052.sme\u001b[0m\n",
      "\u001b[32mINFO - Loading SME file sme_save/UVES_atm_6691238917488008576_3573745_116.sme\u001b[0m\n"
     ]
    },
    {
     "name": "stderr",
     "output_type": "stream",
     "text": [
      "[2024-10-31 11:45:43,722] [INFO] [sme:load:839]: Loading SME file sme_save/UVES_atm_6694136650318351488_3573673_103.sme\n",
      "[2024-10-31 11:45:43,909] [INFO] [sme:load:839]: Loading SME file sme_save/UVES_atm_6702358209860679168_3573213_044.sme\n"
     ]
    },
    {
     "name": "stdout",
     "output_type": "stream",
     "text": [
      "\u001b[32mINFO - Loading SME file sme_save/UVES_atm_6694136650318351488_3573673_103.sme\u001b[0m\n",
      "\u001b[32mINFO - Loading SME file sme_save/UVES_atm_6702358209860679168_3573213_044.sme\u001b[0m\n"
     ]
    },
    {
     "name": "stderr",
     "output_type": "stream",
     "text": [
      "[2024-10-31 11:45:44,034] [INFO] [sme:load:839]: Loading SME file sme_save/UVES_atm_6704867982593521536_3573202_048.sme\n",
      "[2024-10-31 11:45:44,158] [INFO] [sme:load:839]: Loading SME file sme_save/UVES_atm_6705676437173390848_3576283_076.sme\n"
     ]
    },
    {
     "name": "stdout",
     "output_type": "stream",
     "text": [
      "\u001b[32mINFO - Loading SME file sme_save/UVES_atm_6704867982593521536_3573202_048.sme\u001b[0m\n",
      "\u001b[32mINFO - Loading SME file sme_save/UVES_atm_6705676437173390848_3576283_076.sme\u001b[0m\n"
     ]
    },
    {
     "name": "stderr",
     "output_type": "stream",
     "text": [
      "[2024-10-31 11:45:44,454] [INFO] [sme:load:839]: Loading SME file sme_save/UVES_atm_6706871675035800448_3576346_075.sme\n"
     ]
    },
    {
     "name": "stdout",
     "output_type": "stream",
     "text": [
      "\u001b[32mINFO - Loading SME file sme_save/UVES_atm_6706871675035800448_3576346_075.sme\u001b[0m\n"
     ]
    },
    {
     "name": "stderr",
     "output_type": "stream",
     "text": [
      "[2024-10-31 11:45:44,710] [INFO] [sme:load:839]: Loading SME file sme_save/UVES_atm_6710975288644549760_3573739_108.sme\n"
     ]
    },
    {
     "name": "stdout",
     "output_type": "stream",
     "text": [
      "\u001b[32mINFO - Loading SME file sme_save/UVES_atm_6710975288644549760_3573739_108.sme\u001b[0m\n"
     ]
    },
    {
     "name": "stderr",
     "output_type": "stream",
     "text": [
      "[2024-10-31 11:45:44,995] [INFO] [sme:load:839]: Loading SME file sme_save/UVES_atm_6710975288644549760_3573739_114.sme\n"
     ]
    },
    {
     "name": "stdout",
     "output_type": "stream",
     "text": [
      "\u001b[32mINFO - Loading SME file sme_save/UVES_atm_6710975288644549760_3573739_114.sme\u001b[0m\n"
     ]
    },
    {
     "name": "stderr",
     "output_type": "stream",
     "text": [
      "[2024-10-31 11:45:45,669] [INFO] [sme:load:839]: Loading SME file sme_save/UVES_atm_6715513046151135360_3576349_069.sme\n"
     ]
    },
    {
     "name": "stdout",
     "output_type": "stream",
     "text": [
      "\u001b[32mINFO - Loading SME file sme_save/UVES_atm_6715513046151135360_3576349_069.sme\u001b[0m\n"
     ]
    },
    {
     "name": "stderr",
     "output_type": "stream",
     "text": [
      "[2024-10-31 11:45:46,048] [INFO] [sme:load:839]: Loading SME file sme_save/UVES_atm_6723486463964965120_3576295_071.sme\n"
     ]
    },
    {
     "name": "stdout",
     "output_type": "stream",
     "text": [
      "\u001b[32mINFO - Loading SME file sme_save/UVES_atm_6723486463964965120_3576295_071.sme\u001b[0m\n"
     ]
    },
    {
     "name": "stderr",
     "output_type": "stream",
     "text": [
      "[2024-10-31 11:45:46,410] [INFO] [sme:load:839]: Loading SME file sme_save/UVES_atm_6728409939582968192_3572831_014.sme\n",
      "[2024-10-31 11:45:46,505] [INFO] [sme:load:839]: Loading SME file sme_save/UVES_atm_6730560614395195392_3573667_104.sme\n"
     ]
    },
    {
     "name": "stdout",
     "output_type": "stream",
     "text": [
      "\u001b[32mINFO - Loading SME file sme_save/UVES_atm_6728409939582968192_3572831_014.sme\u001b[0m\n",
      "\u001b[32mINFO - Loading SME file sme_save/UVES_atm_6730560614395195392_3573667_104.sme\u001b[0m\n"
     ]
    },
    {
     "name": "stderr",
     "output_type": "stream",
     "text": [
      "[2024-10-31 11:45:46,760] [INFO] [sme:load:839]: Loading SME file sme_save/UVES_atm_6730560614395195392_3573667_107.sme\n"
     ]
    },
    {
     "name": "stdout",
     "output_type": "stream",
     "text": [
      "\u001b[32mINFO - Loading SME file sme_save/UVES_atm_6730560614395195392_3573667_107.sme\u001b[0m\n"
     ]
    },
    {
     "name": "stderr",
     "output_type": "stream",
     "text": [
      "[2024-10-31 11:45:46,997] [INFO] [sme:load:839]: Loading SME file sme_save/UVES_atm_6758905508758832640_3572885_013.sme\n"
     ]
    },
    {
     "name": "stdout",
     "output_type": "stream",
     "text": [
      "\u001b[32mINFO - Loading SME file sme_save/UVES_atm_6758905508758832640_3572885_013.sme\u001b[0m\n"
     ]
    },
    {
     "name": "stderr",
     "output_type": "stream",
     "text": [
      "[2024-10-31 11:45:47,281] [INFO] [sme:load:839]: Loading SME file sme_save/UVES_atm_6758510681005269632_3573228_051.sme\n",
      "[2024-10-31 11:45:47,375] [INFO] [sme:load:839]: Loading SME file sme_save/UVES_atm_6767541317898238976_3572828_022.sme\n"
     ]
    },
    {
     "name": "stdout",
     "output_type": "stream",
     "text": [
      "\u001b[32mINFO - Loading SME file sme_save/UVES_atm_6758510681005269632_3573228_051.sme\u001b[0m\n",
      "\u001b[32mINFO - Loading SME file sme_save/UVES_atm_6767541317898238976_3572828_022.sme\u001b[0m\n"
     ]
    },
    {
     "name": "stderr",
     "output_type": "stream",
     "text": [
      "[2024-10-31 11:45:47,492] [INFO] [sme:load:839]: Loading SME file sme_save/UVES_atm_6776164134760319488_3576358_062.sme\n"
     ]
    },
    {
     "name": "stdout",
     "output_type": "stream",
     "text": [
      "\u001b[32mINFO - Loading SME file sme_save/UVES_atm_6776164134760319488_3576358_062.sme\u001b[0m\n"
     ]
    },
    {
     "name": "stderr",
     "output_type": "stream",
     "text": [
      "[2024-10-31 11:45:48,223] [INFO] [sme:load:839]: Loading SME file sme_save/UVES_atm_6782613904328340096_3572873_030.sme\n"
     ]
    },
    {
     "name": "stdout",
     "output_type": "stream",
     "text": [
      "\u001b[32mINFO - Loading SME file sme_save/UVES_atm_6782613904328340096_3572873_030.sme\u001b[0m\n"
     ]
    },
    {
     "name": "stderr",
     "output_type": "stream",
     "text": [
      "[2024-10-31 11:45:48,861] [INFO] [sme:load:839]: Loading SME file sme_save/UVES_atm_6796908723721277568_3572808_017.sme\n"
     ]
    },
    {
     "name": "stdout",
     "output_type": "stream",
     "text": [
      "\u001b[32mINFO - Loading SME file sme_save/UVES_atm_6796908723721277568_3572808_017.sme\u001b[0m\n"
     ]
    },
    {
     "name": "stderr",
     "output_type": "stream",
     "text": [
      "[2024-10-31 11:45:49,234] [INFO] [sme:load:839]: Loading SME file sme_save/UVES_atm_6796745957342984576_3576304_081.sme\n",
      "[2024-10-31 11:45:49,353] [INFO] [sme:load:839]: Loading SME file sme_save/UVES_atm_6797837428793125760_3573685_105.sme\n"
     ]
    },
    {
     "name": "stdout",
     "output_type": "stream",
     "text": [
      "\u001b[32mINFO - Loading SME file sme_save/UVES_atm_6796745957342984576_3576304_081.sme\u001b[0m\n",
      "\u001b[32mINFO - Loading SME file sme_save/UVES_atm_6797837428793125760_3573685_105.sme\u001b[0m\n"
     ]
    },
    {
     "name": "stderr",
     "output_type": "stream",
     "text": [
      "[2024-10-31 11:45:49,489] [INFO] [sme:load:839]: Loading SME file sme_save/UVES_atm_6807184278357672576_3576340_078.sme\n",
      "[2024-10-31 11:45:49,594] [INFO] [sme:load:839]: Loading SME file sme_save/UVES_atm_6833339632756724992_3573697_118.sme\n"
     ]
    },
    {
     "name": "stdout",
     "output_type": "stream",
     "text": [
      "\u001b[32mINFO - Loading SME file sme_save/UVES_atm_6807184278357672576_3576340_078.sme\u001b[0m\n",
      "\u001b[32mINFO - Loading SME file sme_save/UVES_atm_6833339632756724992_3573697_118.sme\u001b[0m\n"
     ]
    },
    {
     "name": "stderr",
     "output_type": "stream",
     "text": [
      "[2024-10-31 11:45:49,710] [INFO] [sme:load:839]: Loading SME file sme_save/UVES_atm_6844413467195214720_3572816_028.sme\n",
      "[2024-10-31 11:45:49,838] [INFO] [sme:load:839]: Loading SME file sme_save/UVES_atm_6846461582481204096_3572822_024.sme\n"
     ]
    },
    {
     "name": "stdout",
     "output_type": "stream",
     "text": [
      "\u001b[32mINFO - Loading SME file sme_save/UVES_atm_6844413467195214720_3572816_028.sme\u001b[0m\n",
      "\u001b[32mINFO - Loading SME file sme_save/UVES_atm_6846461582481204096_3572822_024.sme\u001b[0m\n"
     ]
    },
    {
     "name": "stderr",
     "output_type": "stream",
     "text": [
      "[2024-10-31 11:45:50,309] [INFO] [sme:load:839]: Loading SME file sme_save/UVES_atm_6854445926685734400_3572834_027.sme\n"
     ]
    },
    {
     "name": "stdout",
     "output_type": "stream",
     "text": [
      "\u001b[32mINFO - Loading SME file sme_save/UVES_atm_6854445926685734400_3572834_027.sme\u001b[0m\n"
     ]
    },
    {
     "name": "stderr",
     "output_type": "stream",
     "text": [
      "[2024-10-31 11:45:50,791] [INFO] [sme:load:839]: Loading SME file sme_save/UVES_atm_6859284155805054848_3573658_099.sme\n",
      "[2024-10-31 11:45:50,924] [INFO] [sme:load:839]: Loading SME file sme_save/UVES_atm_6859555838257273600_3573691_106.sme\n"
     ]
    },
    {
     "name": "stdout",
     "output_type": "stream",
     "text": [
      "\u001b[32mINFO - Loading SME file sme_save/UVES_atm_6859284155805054848_3573658_099.sme\u001b[0m\n",
      "\u001b[32mINFO - Loading SME file sme_save/UVES_atm_6859555838257273600_3573691_106.sme\u001b[0m\n"
     ]
    },
    {
     "name": "stderr",
     "output_type": "stream",
     "text": [
      "[2024-10-31 11:45:51,250] [INFO] [sme:load:839]: Loading SME file sme_save/UVES_atm_6859555838257273600_3573691_115.sme\n",
      "[2024-10-31 11:45:51,353] [INFO] [sme:load:839]: Loading SME file sme_save/UVES_atm_6862950683484751616_3572796_029.sme\n"
     ]
    },
    {
     "name": "stdout",
     "output_type": "stream",
     "text": [
      "\u001b[32mINFO - Loading SME file sme_save/UVES_atm_6859555838257273600_3573691_115.sme\u001b[0m\n",
      "\u001b[32mINFO - Loading SME file sme_save/UVES_atm_6862950683484751616_3572796_029.sme\u001b[0m\n"
     ]
    },
    {
     "name": "stderr",
     "output_type": "stream",
     "text": [
      "[2024-10-31 11:45:51,700] [INFO] [sme:load:839]: Loading SME file sme_save/UVES_atm_6863375296834450304_3576316_083.sme\n"
     ]
    },
    {
     "name": "stdout",
     "output_type": "stream",
     "text": [
      "\u001b[32mINFO - Loading SME file sme_save/UVES_atm_6863375296834450304_3576316_083.sme\u001b[0m\n"
     ]
    },
    {
     "name": "stderr",
     "output_type": "stream",
     "text": [
      "[2024-10-31 11:45:52,202] [INFO] [sme:load:839]: Loading SME file sme_save/UVES_atm_6873331791241472768_3576328_080.sme\n",
      "[2024-10-31 11:45:52,374] [INFO] [sme:load:839]: Loading SME file sme_save/UVES_atm_6881847646233384704_3573240_054.sme\n"
     ]
    },
    {
     "name": "stdout",
     "output_type": "stream",
     "text": [
      "\u001b[32mINFO - Loading SME file sme_save/UVES_atm_6873331791241472768_3576328_080.sme\u001b[0m\n",
      "\u001b[32mINFO - Loading SME file sme_save/UVES_atm_6881847646233384704_3573240_054.sme\u001b[0m\n"
     ]
    },
    {
     "name": "stderr",
     "output_type": "stream",
     "text": [
      "[2024-10-31 11:45:52,482] [INFO] [sme:load:839]: Loading SME file sme_save/UVES_atm_6874512834227642624_3576313_079.sme\n",
      "[2024-10-31 11:45:52,609] [INFO] [sme:load:839]: Loading SME file sme_save/UVES_atm_6887223673977641984_3573670_111.sme\n"
     ]
    },
    {
     "name": "stdout",
     "output_type": "stream",
     "text": [
      "\u001b[32mINFO - Loading SME file sme_save/UVES_atm_6874512834227642624_3576313_079.sme\u001b[0m\n",
      "\u001b[32mINFO - Loading SME file sme_save/UVES_atm_6887223673977641984_3573670_111.sme\u001b[0m\n"
     ]
    },
    {
     "name": "stderr",
     "output_type": "stream",
     "text": [
      "[2024-10-31 11:45:52,735] [INFO] [sme:load:839]: Loading SME file sme_save/UVES_atm_6901832159125681408_3576307_084.sme\n"
     ]
    },
    {
     "name": "stdout",
     "output_type": "stream",
     "text": [
      "\u001b[32mINFO - Loading SME file sme_save/UVES_atm_6901832159125681408_3576307_084.sme\u001b[0m\n"
     ]
    },
    {
     "name": "stderr",
     "output_type": "stream",
     "text": [
      "[2024-10-31 11:45:52,997] [INFO] [sme:load:839]: Loading SME file sme_save/UVES_atm_6913266534594667904_3576310_068.sme\n"
     ]
    },
    {
     "name": "stdout",
     "output_type": "stream",
     "text": [
      "\u001b[32mINFO - Loading SME file sme_save/UVES_atm_6913266534594667904_3576310_068.sme\u001b[0m\n"
     ]
    }
   ],
   "source": [
    "eteff_sme, emonh_sme, evmic_sme, evmac_sme = np.empty_like(uves.spec_id.values), np.empty_like(uves.spec_id.values), np.empty_like(uves.spec_id.values), np.empty_like(uves.spec_id.values)\n",
    "\n",
    "for i, sid in enumerate(uves.spec_id.values):\n",
    "\n",
    "    sme = SME_Structure.load('sme_save/UVES_atm_%s.sme' %sid)\n",
    "\n",
    "    #Re-scale uncs\n",
    "    eteff_sme[i], emonh_sme[i], evmic_sme[i], evmac_sme[i] = estimate_uncertainties_nice(resid=sme.fitresults.residuals, deriv=sme.fitresults.derivative, \n",
    "                                              percentile=percentile, percentile_sig_down=percentile_sig_down, percentile_sig_up=percentile_sig_up)"
   ]
  },
  {
   "cell_type": "code",
   "execution_count": 107,
   "id": "4c520843-c6bb-42d7-a164-54d4cdb0785e",
   "metadata": {
    "scrolled": true
   },
   "outputs": [],
   "source": [
    "# percentile, percentile_sig_down, percentile_sig_up = 85, 0.20, 0.80\n",
    "\n",
    "\n",
    "# for (percentile, percentile_sig_down, percentile_sig_up) in np.vstack(([70,70,70,80,80,80,85,85,85,90,90,90], [0.15, 0.25, 0.35, 0.15, 0.25, 0.35, 0.15, 0.25, 0.35, 0.15, 0.25, 0.35], \n",
    "#                                                                        [0.85, 0.75, 0.65,0.85, 0.75, 0.65, 0.85, 0.75, 0.65, 0.85, 0.75, 0.65])).T:\n",
    "\n",
    "#     eteff_sme, emonh_sme, evmic_sme, evmac_sme = np.empty_like(uves.spec_id.values), np.empty_like(uves.spec_id.values), np.empty_like(uves.spec_id.values), np.empty_like(uves.spec_id.values)\n",
    "#     util.start_logging(log_file='logs/UVES_atm.txt', level='ERROR')\n",
    "#     for i, sid in enumerate(uves.spec_id.values):\n",
    "    \n",
    "#         sme = SME_Structure.load('sme_save/UVES_atm_%s.sme' %sid)\n",
    "    \n",
    "#         #Re-scale uncs\n",
    "#         eteff_sme[i], emonh_sme[i], evmic_sme[i], evmac_sme[i] = estimate_uncertainties_nice(resid=sme.fitresults.residuals, deriv=sme.fitresults.derivative, \n",
    "#                                                   percentile=percentile, percentile_sig_down=percentile_sig_down, percentile_sig_up=percentile_sig_up)\n",
    "\n",
    "#     shift_teff, shift_monh = np.mean(uves.teff.values - uves.teff_xgboost.values), np.mean(uves.monh.values - uves.mh_xgboost.values)\n",
    "#     qt = (uves.teff.values - uves.teff_xgboost.values - shift_teff) / np.sqrt(eteff_sme.astype(float)**2. + (50 * np.ones_like(uves.teff.values))**2.)\n",
    "#     qm = (uves.monh.values - uves.mh_xgboost.values - shift_monh) / np.sqrt(emonh_sme.astype(float)**2. + (0.1 * np.ones_like(uves.monh.values))**2.)\n",
    "#     print('%d %1.2f %1.2f -- Teff: %2.2f +- %1.2f -- [M/H]: %2.2f +- %1.2f' %(percentile, percentile_sig_down, percentile_sig_up, np.mean(qt), np.std(qt), np.mean(qm), np.std(qm)))"
   ]
  },
  {
   "cell_type": "code",
   "execution_count": 18,
   "id": "df550fbd-4329-4e64-9c8e-f54a5d040b77",
   "metadata": {},
   "outputs": [
    {
     "data": {
      "image/png": "[encoded data removed]",
      "text/plain": [
       "<Figure size 864x360 with 3 Axes>"
      ]
     },
     "metadata": {
      "needs_background": "light"
     },
     "output_type": "display_data"
    }
   ],
   "source": [
    "plt.figure(figsize=(12,5))\n",
    "\n",
    "x = np.linspace(-3, 3, 100)\n",
    "\n",
    "plt.subplot(1,3,1)\n",
    "scale_factor_teff, shift_teff = 1., np.mean(uves.teff.values - uves.teff_xgboost.values)\n",
    "q = (uves.teff.values - uves.teff_xgboost.values - shift_teff) / np.sqrt((scale_factor_teff * eteff_sme.astype(float))**2. + (50 * np.ones_like(uves.teff.values))**2.)\n",
    "plt.hist(q, bins=50, histtype='step', density=True)\n",
    "plt.plot(x, norm.pdf(x), color='r', lw=2, alpha=0.6)\n",
    "plt.title(r'T$_{\\rm eff}$ mean: %2.2f, sigma: %2.2f' %(np.mean(q), np.std(q)))\n",
    "plt.xlabel(r'$\\left. \\Delta T_{\\rm eff} \\middle/ \\sqrt{\\sigma_{SME}^2 + \\sigma_{XGBOOST}^2} \\right.$', size=14)\n",
    "\n",
    "plt.subplot(1,3,2)\n",
    "scale_factor_logg, shift_logg = 1.9, np.mean(uves.logg.values - uves.logg_xgboost.values)\n",
    "q = (uves.logg.values - uves.logg_xgboost.values - shift_logg) / np.sqrt((scale_factor_logg * uves.elogg_sme.values)**2. + (0.08 * np.ones_like(uves.logg.values))**2.)\n",
    "plt.hist(q, bins=50, histtype='step', density=True)\n",
    "plt.plot(x, norm.pdf(x), color='r', lw=2, alpha=0.6)\n",
    "plt.title('\\log\\ g -- mean: %2.2f, sigma: %2.2f' %(np.mean(q), np.std(q)))\n",
    "plt.xlabel(r'$\\left. \\Delta \\log\\ g \\middle/ \\sqrt{\\sigma_{SME}^2 + \\sigma_{XGBOOST}^2} \\right.$', size=14)\n",
    "\n",
    "plt.subplot(1,3,3)\n",
    "scale_factor_monh, shift_monh = 3., np.mean(uves.monh.values - uves.mh_xgboost.values)\n",
    "q = (uves.monh.values - uves.mh_xgboost.values - shift_monh) / np.sqrt((scale_factor_monh * emonh_sme.astype(float))**2. + (0.1 * np.ones_like(uves.monh.values))**2.)\n",
    "plt.hist(q, bins=50, histtype='step', density=True)\n",
    "plt.plot(x, norm.pdf(x), color='r', lw=2, alpha=0.6)\n",
    "plt.title('[M/H] -- mean: %2.2f, sigma: %2.2f' %(np.mean(q), np.std(q)))\n",
    "plt.xlabel(r'$\\left. \\Delta [M/H] \\middle/ \\sqrt{\\sigma_{SME}^2 + \\sigma_{XGBOOST}^2} \\right.$', size=14)\n",
    "\n",
    "plt.tight_layout()\n",
    "plt.show()"
   ]
  },
  {
   "cell_type": "code",
   "execution_count": null,
   "id": "f4d91cfd-679c-4b9b-8140-59ceb7bb6da2",
   "metadata": {},
   "outputs": [],
   "source": []
  },
  {
   "cell_type": "code",
   "execution_count": null,
   "id": "68caa991-13e5-4435-8a88-1fc3561d601e",
   "metadata": {},
   "outputs": [],
   "source": []
  },
  {
   "cell_type": "code",
   "execution_count": 19,
   "id": "571a3f1e-d1ff-4cc7-abf1-773f3e9adb8b",
   "metadata": {
    "tags": []
   },
   "outputs": [],
   "source": [
    "atm = pd.read_csv('tmp_merged/UVES_atm.csv')\n",
    "uves = pd.read_csv('uves_p111_p112_pristinedr1_xgboost_logg.csv')\n",
    "uves = uves.merge(right=atm, right_on='spec_id', left_on='spec_id')"
   ]
  },
  {
   "cell_type": "code",
   "execution_count": 20,
   "id": "f19107ac-ca8c-4304-8a4f-ce34665de5e8",
   "metadata": {
    "tags": []
   },
   "outputs": [],
   "source": [
    "parsec_1p0 = pd.read_csv('iso/PARSEC_mh-1p0.dat', skiprows=13, delim_whitespace=True, comment='#')\n",
    "parsec_1p0 = parsec_1p0[(parsec_1p0.label < 4.) & (parsec_1p0.label > 0.)]\n",
    "parsec_1p5 = pd.read_csv('iso/PARSEC_mh-1p5.dat', skiprows=13, delim_whitespace=True, comment='#')\n",
    "parsec_1p5 = parsec_1p5[(parsec_1p5.label < 4.) & (parsec_1p5.label > 0.)]\n",
    "parsec_2p0 = pd.read_csv('iso/PARSEC_mh-2p0.dat', skiprows=13, delim_whitespace=True, comment='#')\n",
    "parsec_2p0 = parsec_2p0[(parsec_2p0.label < 4.) & (parsec_2p0.label > 0.)]\n",
    "parsec_2p5 = pd.read_csv('iso/PARSEC_mh-2p5.dat', skiprows=13, delim_whitespace=True, comment='#')\n",
    "parsec_2p5 = parsec_2p5[(parsec_2p5.label < 4.) & (parsec_2p5.label > 0.)]"
   ]
  },
  {
   "cell_type": "code",
   "execution_count": 24,
   "id": "036bf04e-a433-4a2c-be9f-6bda6bdae9a5",
   "metadata": {
    "tags": []
   },
   "outputs": [
    {
     "data": {
      "image/png": "[encoded data removed]",
      "text/plain": [
       "<Figure size 500x600 with 2 Axes>"
      ]
     },
     "metadata": {
      "needs_background": "light"
     },
     "output_type": "display_data"
    }
   ],
   "source": [
    "plt.figure(figsize=(5,6), dpi=100)\n",
    "\n",
    "plt.errorbar(uves.teff.values, uves.logg.values, xerr=scale_factor_teff * uves.eteff_sme.values, yerr=scale_factor_logg * uves.elogg_sme.values, fmt='k.', zorder=0, alpha=0.3)\n",
    "plt.scatter(uves.teff.values, uves.logg.values, s=10, c=uves.monh.values, cmap=plt.cm.inferno)\n",
    "\n",
    "plt.colorbar(label='[M/H]')\n",
    "\n",
    "plt.plot(10**parsec_1p0.logTe.values, parsec_1p0.logg.values, color='k', zorder=0, alpha=0.8)\n",
    "plt.plot(10**parsec_1p5.logTe.values, parsec_1p5.logg.values, color='k', zorder=0, alpha=0.8)\n",
    "plt.plot(10**parsec_2p0.logTe.values, parsec_2p0.logg.values, color='k', zorder=0, alpha=0.8)\n",
    "plt.plot(10**parsec_2p5.logTe.values, parsec_2p5.logg.values, color='k', zorder=0, alpha=0.8)\n",
    "\n",
    "plt.gca().invert_xaxis()\n",
    "plt.gca().invert_yaxis()\n",
    "\n",
    "plt.xlabel(r'$T_{\\rm eff}$', size=14)\n",
    "plt.ylabel(r'$\\log\\ g$', size=14)\n",
    "\n",
    "plt.ylim(4.2, 0.2)\n",
    "plt.xlim(6800, 4000)\n",
    "\n",
    "plt.show()"
   ]
  },
  {
   "cell_type": "code",
   "execution_count": null,
   "id": "95c18845-ac73-412b-98f9-32e22ea0fcaa",
   "metadata": {},
   "outputs": [],
   "source": []
  },
  {
   "cell_type": "code",
   "execution_count": 25,
   "id": "3a516e1e-63a3-43f4-ae9d-e6551b472ee9",
   "metadata": {},
   "outputs": [],
   "source": [
    "#Save atm parameters and scaled uncs"
   ]
  },
  {
   "cell_type": "code",
   "execution_count": 28,
   "id": "81522532-2a93-4c8d-a3f2-454d1ecba2e4",
   "metadata": {},
   "outputs": [],
   "source": [
    "uves.to_csv('tmp_merged/UVES_p111_p112_pristinedr1_xgboost_logg_atm_uncs.csv', header=True, index=False)"
   ]
  },
  {
   "cell_type": "code",
   "execution_count": null,
   "id": "d677fa62-6316-4a7b-8891-57f61d37719f",
   "metadata": {},
   "outputs": [],
   "source": []
  },
  {
   "cell_type": "code",
   "execution_count": 18,
   "id": "e750cc9a-3ef4-4180-9e7d-a05612d0ad8a",
   "metadata": {
    "tags": []
   },
   "outputs": [],
   "source": [
    "#Save Georges file to derive ages"
   ]
  },
  {
   "cell_type": "code",
   "execution_count": 28,
   "id": "2e487e0a-b572-407d-8901-154a24a62379",
   "metadata": {},
   "outputs": [],
   "source": [
    "from astropy.coordinates import SkyCoord\n",
    "from astroquery.vizier import Vizier\n",
    "import astropy.units as u"
   ]
  },
  {
   "cell_type": "code",
   "execution_count": 29,
   "id": "be3d233f-7c2e-4931-8edb-77ba175e7c82",
   "metadata": {},
   "outputs": [],
   "source": [
    "atm = pd.read_csv('tmp_merged/UVES_atm.csv')\n",
    "uves = pd.read_csv('uves_p111_p112_pristinedr1_xgboost_logg.csv')\n",
    "uves = uves.merge(right=atm, right_on='spec_id', left_on='spec_id')"
   ]
  },
  {
   "cell_type": "code",
   "execution_count": 30,
   "id": "b1f299cf-c84b-4d56-bc6f-b2cad4b257f8",
   "metadata": {},
   "outputs": [],
   "source": [
    "uves_skycoord = SkyCoord(ra=uves.ra.values * u.deg, dec=uves.dec.values * u.deg)"
   ]
  },
  {
   "cell_type": "code",
   "execution_count": 46,
   "id": "a9037f03-ffce-40ef-beb0-2e4fef1432ee",
   "metadata": {},
   "outputs": [],
   "source": [
    "uves_2mass = Vizier(row_limit=1).query_region(catalog='II/246/out', radius=10*u.arcsec, coordinates=uves_skycoord)[0].to_pandas()[['Jmag', 'e_Jmag', 'Hmag', 'e_Hmag', 'Kmag', 'e_Kmag']]\n",
    "uves_2mass.rename(columns={'Jmag':'j', 'e_Jmag':'ej', 'Hmag':'h', 'e_Hmag':'eh', 'Kmag':'k', 'e_Kmag':'ek'}, inplace=True)"
   ]
  },
  {
   "cell_type": "code",
   "execution_count": 47,
   "id": "3477ee00-474c-40e0-a924-bf2d53adae69",
   "metadata": {},
   "outputs": [],
   "source": [
    "uves['j'] = uves_2mass.j.values\n",
    "uves['ej'] = uves_2mass.ej.values\n",
    "uves['h'] = uves_2mass.h.values\n",
    "uves['eh'] = uves_2mass.eh.values\n",
    "uves['k'] = uves_2mass.k.values\n",
    "uves['ek'] = uves_2mass.ek.values"
   ]
  },
  {
   "cell_type": "code",
   "execution_count": 48,
   "id": "d827f9c9-670d-4d26-9635-5146ce1d636b",
   "metadata": {},
   "outputs": [],
   "source": [
    "ages_uves = uves[['source_id', 'spec_id', 'ra', 'dec', 'g0', 'eg', 'bp0', 'ebp', 'rp0', 'erp', \n",
    "                  'teff', 'eteff_sme', 'logg', 'elogg_sme', 'monh', 'emonh_sme', 'rpgeo', 'b_rpgeo', 'B_rpgeo',\n",
    "                  'j', 'ej', 'h', 'eh', 'k', 'ek']]\n",
    "ages_uves['eteff_sme'] = ages_uves.eteff_sme.values * scale_factor_teff\n",
    "ages_uves['elogg_sme'] = ages_uves.elogg_sme.values * scale_factor_logg\n",
    "ages_uves['emonh_sme'] = ages_uves.emonh_sme.values * scale_factor_monh\n",
    "ages_uves.to_csv('UVES_ages_28102024.csv', header=True, index=False)"
   ]
  },
  {
   "cell_type": "code",
   "execution_count": null,
   "id": "8b33a870-b2d4-436e-b02f-f08853ac6f87",
   "metadata": {},
   "outputs": [],
   "source": []
  },
  {
   "cell_type": "code",
   "execution_count": 27,
   "id": "35715df1-730f-43ac-a05c-ec83b496a2c1",
   "metadata": {
    "tags": []
   },
   "outputs": [
    {
     "data": {
      "image/png": "[encoded data removed]",
      "text/plain": [
       "<Figure size 600x600 with 2 Axes>"
      ]
     },
     "metadata": {
      "needs_background": "light"
     },
     "output_type": "display_data"
    }
   ],
   "source": [
    "plt.figure(figsize=(6,6), dpi=100)\n",
    "\n",
    "plt.scatter(uves.monh.values, uves.FeH_CaHKsyn_50th.values, c=uves.teff.values, s=5, cmap=plt.cm.inferno)\n",
    "plt.colorbar(label=r'T$_{\\rm eff}$')\n",
    "plt.errorbar(uves.monh.values, uves.FeH_CaHKsyn_50th.values, xerr=uves.emonh_sme.values, yerr=(uves.FeH_CaHKsyn_84th.values - uves.FeH_CaHKsyn_16th.values)/2., fmt='k.', alpha=0.3, zorder=0)\n",
    "x = np.linspace(-3.6, -2.2)\n",
    "#FeH_CaHKsyn,FeH_CaHKsyn_16th,FeH_CaHKsyn_84th\n",
    "# x = np.linspace(4400, 5400)\n",
    "plt.plot(x, x)\n",
    "plt.show()"
   ]
  },
  {
   "cell_type": "code",
   "execution_count": null,
   "id": "ef1def8f-3737-47d3-8903-5ed99728aa94",
   "metadata": {
    "tags": []
   },
   "outputs": [],
   "source": []
  },
  {
   "cell_type": "code",
   "execution_count": 28,
   "id": "70fe3cef-4b61-41d2-b120-caf428091019",
   "metadata": {},
   "outputs": [
    {
     "data": {
      "image/png": "[encoded data removed]",
      "text/plain": [
       "<Figure size 600x600 with 2 Axes>"
      ]
     },
     "metadata": {
      "needs_background": "light"
     },
     "output_type": "display_data"
    }
   ],
   "source": [
    "plt.figure(figsize=(6,6), dpi=100)\n",
    "\n",
    "plt.scatter(uves.teff.values, uves.teff_xgboost.values, c=uves.logg.values, s=5, cmap=plt.cm.inferno)\n",
    "plt.colorbar(label=r'T$_{\\rm eff}$')\n",
    "plt.errorbar(uves.teff.values, uves.teff_xgboost.values, xerr=uves.eteff_sme.values, fmt='k.', alpha=0.3, zorder=0)\n",
    "x = np.linspace(4100, 5600)\n",
    "#FeH_CaHKsyn,FeH_CaHKsyn_16th,FeH_CaHKsyn_84th\n",
    "# x = np.linspace(4400, 5400)\n",
    "plt.plot(x, x)\n",
    "plt.show()"
   ]
  },
  {
   "cell_type": "code",
   "execution_count": 29,
   "id": "897a5b19-0fcc-482f-928e-be8349b8d6a2",
   "metadata": {
    "tags": []
   },
   "outputs": [
    {
     "data": {
      "image/png": "[encoded data removed]",
      "text/plain": [
       "<Figure size 600x600 with 2 Axes>"
      ]
     },
     "metadata": {
      "needs_background": "light"
     },
     "output_type": "display_data"
    }
   ],
   "source": [
    "plt.figure(figsize=(6,6), dpi=100)\n",
    "\n",
    "plt.scatter(uves.monh.values, uves.mh_xgboost.values, c=uves.logg.values, s=5, cmap=plt.cm.inferno)\n",
    "plt.colorbar(label=r'T$_{\\rm eff}$')\n",
    "plt.errorbar(uves.monh.values, uves.mh_xgboost.values, xerr=uves.emonh_sme.values, fmt='k.', alpha=0.3, zorder=0)\n",
    "x = np.linspace(-3.75, -2.0)\n",
    "#FeH_CaHKsyn,FeH_CaHKsyn_16th,FeH_CaHKsyn_84th\n",
    "# x = np.linspace(4400, 5400)\n",
    "plt.plot(x, x)\n",
    "plt.show()"
   ]
  },
  {
   "cell_type": "code",
   "execution_count": 30,
   "id": "23a3cb50-06fe-4761-852f-360ecf25e434",
   "metadata": {
    "tags": []
   },
   "outputs": [
    {
     "data": {
      "image/png": "[encoded data removed]",
      "text/plain": [
       "<Figure size 1000x500 with 4 Axes>"
      ]
     },
     "metadata": {
      "needs_background": "light"
     },
     "output_type": "display_data"
    }
   ],
   "source": [
    "plt.figure(figsize=(10,5), dpi=100)\n",
    "\n",
    "plt.subplot(1,2,1)\n",
    "\n",
    "plt.scatter(uves.teff.values, uves.vmic.values, c=uves.monh.values, s=5, cmap=plt.cm.inferno)\n",
    "plt.colorbar(label='[M/H]')\n",
    "# plt.errorbar(uves.teff.values, uves.vmic.values, fmt='k.', xerr=uves.eteff_sme.values, yerr=uves.evmic_sme.values, alpha=0.3, zorder=0)\n",
    "\n",
    "plt.xlabel(r'$T_{\\rm eff}$', size=14)\n",
    "plt.ylabel(r'$v_{\\rm mic}$', size=14)\n",
    "\n",
    "plt.subplot(1,2,2)\n",
    "\n",
    "plt.scatter(uves.teff.values, uves.vmac.values, c=uves.monh.values, s=5, cmap=plt.cm.inferno)\n",
    "plt.colorbar(label='[M/H]')\n",
    "# plt.errorbar(uves.teff.values, uves.vmac.values, fmt='k.', xerr=uves.eteff_sme.values, yerr=uves.evmac_sme.values, alpha=0.3, zorder=0)\n",
    "\n",
    "plt.xlabel(r'$T_{\\rm eff}$', size=14)\n",
    "plt.ylabel(r'$v_{\\rm mac}$', size=14)\n",
    "\n",
    "# plt.ylim(0, 10)\n",
    "\n",
    "plt.tight_layout()\n",
    "plt.show()"
   ]
  },
  {
   "cell_type": "code",
   "execution_count": null,
   "id": "b04b148b-2721-404a-8748-a4e01398e9b9",
   "metadata": {
    "tags": []
   },
   "outputs": [],
   "source": []
  },
  {
   "cell_type": "code",
   "execution_count": 124,
   "id": "f957f2c6-23c8-4ad3-b471-3ec3aff38bbe",
   "metadata": {},
   "outputs": [
    {
     "name": "stderr",
     "output_type": "stream",
     "text": [
      "[2024-10-23 11:47:20,760] [INFO] [sme:load:839]: Loading SME file sme_save/atm_6859555838257273600_3573691_115.sme\n"
     ]
    },
    {
     "name": "stdout",
     "output_type": "stream",
     "text": [
      "\u001b[32mINFO - Loading SME file sme_save/atm_6859555838257273600_3573691_115.sme\u001b[0m\n"
     ]
    }
   ],
   "source": [
    "sme = SME_Structure.load('sme_save/atm_6859555838257273600_3573691_115.sme')\n",
    "# sme = SME_Structure.load('tests/atm_111.251N.001_1166634514845213568_000.sme')"
   ]
  },
  {
   "cell_type": "code",
   "execution_count": 146,
   "id": "df1c98b7-1e38-4048-8043-6f4cb2c10542",
   "metadata": {
    "tags": []
   },
   "outputs": [
    {
     "data": {
      "image/png": "[encoded data removed]",
      "text/plain": [
       "<Figure size 1000x400 with 1 Axes>"
      ]
     },
     "metadata": {
      "needs_background": "light"
     },
     "output_type": "display_data"
    }
   ],
   "source": [
    "plt.figure(figsize=(10,4), dpi=100)\n",
    "plt.step(sme.wave.data, sme.spec.data, lw=1, color='k')\n",
    "plt.step(sme.wave.data, sme.synth.data, color='C2', lw=1, alpha=0.8)\n",
    "\n",
    "for wline, species, depth in linelist[['wlcent', 'species', 'depth']]:\n",
    "    if 'H 1' in species:\n",
    "        continue\n",
    "    # if (depth > 0.85) | (depth < 0.15):\n",
    "    #     continue\n",
    "    plt.vlines(wline, 0.2, 0.25, color='C4')\n",
    "    plt.annotate(text='%s' %species, xy=(wline-0.15, 0.05), rotation=90)\n",
    "    # plt.annotate(text='%2.3f' %depth, xy=(wline-0.15, 0.5), rotation=90)\n",
    "    \n",
    "plt.scatter(sme.wave.data, sme.mask.data, color='grey', s=5)\n",
    "\n",
    "plt.xlabel(r'Wavelength ($\\AA$)', size=15)\n",
    "plt.ylabel(r'Normalised flux', size=15)\n",
    "\n",
    "# plt.xlim(4025, 4035)\n",
    "# plt.xlim(4270, 4320)\n",
    "plt.xlim(4200, 4220)\n",
    "# plt.xlim(4125, 4135)\n",
    "# plt.xlim(4172, 4190)\n",
    "# plt.xlim(4220, 4240)\n",
    "# plt.xlim(4460, 4470)\n",
    "# plt.xlim(4850, 4870)\n",
    "# plt.xlim(5165, 5190)\n",
    "# plt.xlim(5167, 5172)\n",
    "# plt.xlim(5188, 5199)\n",
    "# plt.xlim(5885, 5900)\n",
    "# plt.xlim(6550, 6570)\n",
    "# plt.hlines(1, 4125, 4132)\n",
    "plt.ylim(0.0, 1.1)\n",
    "plt.show()"
   ]
  },
  {
   "cell_type": "code",
   "execution_count": null,
   "id": "aabccd48-28a1-4bf2-84f7-83542d83fc88",
   "metadata": {
    "tags": []
   },
   "outputs": [],
   "source": []
  },
  {
   "cell_type": "code",
   "execution_count": null,
   "id": "c0a46651-f64e-410a-9b70-dd7d40ac081e",
   "metadata": {
    "tags": []
   },
   "outputs": [],
   "source": []
  },
  {
   "cell_type": "code",
   "execution_count": 5,
   "id": "164c0e61-a6bf-4e75-8f74-a34b12012548",
   "metadata": {
    "tags": []
   },
   "outputs": [],
   "source": [
    "#Continuum model in the SME format"
   ]
  },
  {
   "cell_type": "code",
   "execution_count": 6,
   "id": "020ed55f-0e97-4791-a824-a8545536aa5e",
   "metadata": {},
   "outputs": [],
   "source": [
    "cont_blue = ispec.read_continuum_regions('continuum_model/continuum_regions_blue.txt')\n",
    "cont_blue2 = ispec.read_continuum_regions('continuum_model/continuum_regions_blue2.txt')\n",
    "cont_red1 = ispec.read_continuum_regions('continuum_model/continuum_regions_red1.txt')\n",
    "cont_red2 = ispec.read_continuum_regions('continuum_model/continuum_regions_red2.txt')"
   ]
  },
  {
   "cell_type": "code",
   "execution_count": 8,
   "id": "b44d0be2-2dd5-4cea-870d-20a3175489f8",
   "metadata": {},
   "outputs": [],
   "source": [
    "wmin_blue = 4000 #AA\n",
    "wmax_blue = 4500 #AA\n",
    "\n",
    "wmin_blue2 = 3300 #AA\n",
    "wmax_blue2 = 3900 #AA\n",
    "\n",
    "wmin_red1 = 4730 #AA\n",
    "wmax_red1 = 5700 #AA\n",
    "wmin_red2 = 5850 #AA\n",
    "wmax_red2 = 6800 #AA"
   ]
  },
  {
   "cell_type": "code",
   "execution_count": 9,
   "id": "aa39a4ee-903c-448b-9aa9-672034ecc132",
   "metadata": {
    "tags": []
   },
   "outputs": [],
   "source": [
    "blue_spec = ispec.read_spectrum('norm_RV_corr/111.251N.001/blue_ADP.2023-04-24T10:49:45.001.fits')\n",
    "blue_spec.waveobs = blue_spec.waveobs\n",
    "blue2_spec = ispec.read_spectrum('norm_RV_corr/111.251N.001/blue2_ADP.2023-04-24T10:49:45.001.fits')\n",
    "blue2_spec.waveobs = blue2_spec.waveobs\n",
    "red1_spec = ispec.read_spectrum('norm_RV_corr/111.251N.001/red1_ADP.2023-04-24T10:49:45.012.fits')\n",
    "red1_spec.waveobs = red1_spec.waveobs\n",
    "red2_spec = ispec.read_spectrum('norm_RV_corr/111.251N.001/red2_ADP.2023-04-24T10:49:45.012.fits')\n",
    "red2_spec.waveobs = red2_spec.waveobs"
   ]
  },
  {
   "cell_type": "code",
   "execution_count": 10,
   "id": "56e9f686-b899-4fdc-bafd-ade000621733",
   "metadata": {
    "tags": []
   },
   "outputs": [
    {
     "name": "stderr",
     "output_type": "stream",
     "text": [
      "[2024-06-25 09:56:20,265] [INFO] [sme:load:839]: Loading SME file sme_save/atm_6425379106130933376_3573700_088.sme\n"
     ]
    },
    {
     "name": "stdout",
     "output_type": "stream",
     "text": [
      "\u001b[32mINFO - Loading SME file sme_save/atm_6425379106130933376_3573700_088.sme\u001b[0m\n"
     ]
    }
   ],
   "source": [
    "sme = SME_Structure.load('sme_save/atm_6425379106130933376_3573700_088.sme')"
   ]
  },
  {
   "cell_type": "code",
   "execution_count": 11,
   "id": "e531b841-fe39-4bb1-827d-c941201af050",
   "metadata": {
    "tags": []
   },
   "outputs": [
    {
     "data": {
      "text/plain": [
       "array([330.    , 330.0028, 330.0056, ..., 389.9928, 389.9956, 389.9984])"
      ]
     },
     "execution_count": 11,
     "metadata": {},
     "output_type": "execute_result"
    }
   ],
   "source": [
    "blue2_spec.waveobs"
   ]
  },
  {
   "cell_type": "code",
   "execution_count": 12,
   "id": "3bc93afc-25af-415d-84ab-dde5f0b4d46c",
   "metadata": {
    "tags": []
   },
   "outputs": [
    {
     "name": "stdout",
     "output_type": "stream",
     "text": [
      "CPU times: user 30.1 s, sys: 0 ns, total: 30.1 s\n",
      "Wall time: 30.2 s\n"
     ]
    }
   ],
   "source": [
    "%%time\n",
    "#Nitrogen continuum regions\n",
    "cont_mask_blue2 = np.zeros_like(blue2_spec.waveobs)\n",
    "\n",
    "for mask_i, wl in enumerate(blue2_spec.waveobs):\n",
    "    for cont_low, cont_high in cont_blue2:\n",
    "        if (wl <= cont_low) | (wl >= cont_high):\n",
    "            continue\n",
    "        else:\n",
    "            cont_mask_blue2[mask_i] = 2\n",
    "            break"
   ]
  },
  {
   "cell_type": "code",
   "execution_count": 13,
   "id": "051abf7a-899c-4269-bd28-b64b4f6e78ca",
   "metadata": {
    "tags": []
   },
   "outputs": [
    {
     "name": "stdout",
     "output_type": "stream",
     "text": [
      "CPU times: user 44.8 s, sys: 767 µs, total: 44.8 s\n",
      "Wall time: 44.9 s\n"
     ]
    }
   ],
   "source": [
    "%%time\n",
    "\n",
    "cont_mask_blue = np.zeros_like(sme.wave[0])\n",
    "\n",
    "for mask_i, wl in enumerate(sme.wave[0]/10.):\n",
    "    for cont_low, cont_high in cont_blue:\n",
    "        if (wl <= cont_low) | (wl >= cont_high):\n",
    "            continue\n",
    "        else:\n",
    "            cont_mask_blue[mask_i] = 2\n",
    "            break\n",
    "            \n",
    "cont_mask_red1 = np.zeros_like(sme.wave[1])\n",
    "\n",
    "for mask_i, wl in enumerate(sme.wave[1]/10.):\n",
    "    for cont_low, cont_high in cont_red1:\n",
    "        if (wl <= cont_low) | (wl >= cont_high):\n",
    "            continue\n",
    "        else:\n",
    "            cont_mask_red1[mask_i] = 2\n",
    "            break\n",
    "            \n",
    "cont_mask_red2 = np.zeros_like(sme.wave[2])\n",
    "\n",
    "for mask_i, wl in enumerate(sme.wave[2]/10.):\n",
    "    for cont_low, cont_high in cont_red2:\n",
    "        if (wl <= cont_low) | (wl >= cont_high):\n",
    "            continue\n",
    "        else:\n",
    "            cont_mask_red2[mask_i] = 2\n",
    "            break"
   ]
  },
  {
   "cell_type": "code",
   "execution_count": 14,
   "id": "3d7d50d0-e8c9-404f-9150-0c9e03b754ef",
   "metadata": {
    "tags": []
   },
   "outputs": [],
   "source": [
    "cont_mask_all = np.concatenate([cont_mask_blue, cont_mask_red1, cont_mask_red2])\n",
    "wl_mask_all = sme.wave.data"
   ]
  },
  {
   "cell_type": "code",
   "execution_count": 24,
   "id": "a1dcb9fd-7c5a-42a0-8626-e0b3c6ac082a",
   "metadata": {
    "tags": []
   },
   "outputs": [],
   "source": [
    "np.savetxt('continuum_model/sme_cont_mask_blue', np.column_stack((sme.wave[0], cont_mask_blue)), fmt=['%f', '%d'])\n",
    "np.savetxt('continuum_model/sme_cont_mask_red1', np.column_stack((sme.wave[1], cont_mask_red1)), fmt=['%f', '%d'])\n",
    "np.savetxt('continuum_model/sme_cont_mask_red2', np.column_stack((sme.wave[2], cont_mask_red2)), fmt=['%f', '%d'])\n",
    "\n",
    "np.savetxt('continuum_model/sme_cont_mask', np.column_stack((wl_mask_all, cont_mask_all)), fmt=['%f', '%d'])"
   ]
  },
  {
   "cell_type": "code",
   "execution_count": 25,
   "id": "f588868f-c13c-410b-820c-43f17b7a9c22",
   "metadata": {},
   "outputs": [],
   "source": [
    "np.savetxt('continuum_model/sme_cont_mask_blue2', np.column_stack((blue2_spec.waveobs*10., cont_mask_blue2)), fmt=['%f', '%d'])"
   ]
  },
  {
   "cell_type": "code",
   "execution_count": null,
   "id": "fdfad171-3d2a-43b9-8bd1-5d64e012d971",
   "metadata": {},
   "outputs": [],
   "source": []
  }
 ],
 "metadata": {
  "kernelspec": {
   "display_name": "Python 3 (ipykernel)",
   "language": "python",
   "name": "python3"
  },
  "language_info": {
   "codemirror_mode": {
    "name": "ipython",
    "version": 3
   },
   "file_extension": ".py",
   "mimetype": "text/x-python",
   "name": "python",
   "nbconvert_exporter": "python",
   "pygments_lexer": "ipython3",
   "version": "3.9.12"
  }
 },
 "nbformat": 4,
 "nbformat_minor": 5
}
