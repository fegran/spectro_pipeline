{
 "cells": [
  {
   "cell_type": "code",
   "execution_count": 1,
   "id": "d4428569-2cce-4fbc-8626-4865c17b5a56",
   "metadata": {},
   "outputs": [
    {
     "name": "stderr",
     "output_type": "stream",
     "text": [
      "Missing colon in file PosixPath('/misc/store/home_zztop/fgran/.local/lib/python3.9/site-packages/matplotlib/mpl-data/stylelib/seaborn-v0_8.mplstyle'), line 1 ('\\x00\\x00\\x00\\x00\\x00\\x00\\x00\\x00\\x00\\x00\\x00\\x00\\x00\\x00\\x00\\x00\\x00\\x00\\x00\\x00\\x00\\x00\\x00\\x00\\x00\\x00\\x00\\x00\\x00\\x00\\x00\\x00\\x00\\x00\\x00\\x00\\x00\\x00\\x00\\x00\\x00\\x00\\x00\\x00\\x00\\x00\\x00\\x00\\x00\\x00\\x00\\x00\\x00\\x00\\x00\\x00\\x00\\x00\\x00\\x00\\x00\\x00\\x00\\x00\\x00\\x00\\x00\\x00\\x00\\x00\\x00\\x00\\x00\\x00\\x00\\x00\\x00\\x00\\x00\\x00\\x00\\x00\\x00\\x00\\x00\\x00\\x00\\x00\\x00\\x00\\x00\\x00\\x00\\x00\\x00\\x00\\x00\\x00\\x00\\x00\\x00\\x00\\x00\\x00\\x00\\x00\\x00\\x00\\x00\\x00\\x00\\x00\\x00\\x00\\x00\\x00\\x00\\x00\\x00\\x00\\x00\\x00\\x00\\x00\\x00\\x00\\x00\\x00\\x00\\x00\\x00\\x00\\x00\\x00\\x00\\x00\\x00\\x00\\x00\\x00\\x00\\x00\\x00\\x00\\x00\\x00\\x00\\x00\\x00\\x00\\x00\\x00\\x00\\x00\\x00\\x00\\x00\\x00\\x00\\x00\\x00\\x00\\x00\\x00\\x00\\x00\\x00\\x00\\x00\\x00\\x00\\x00\\x00\\x00\\x00\\x00\\x00\\x00\\x00\\x00\\x00\\x00\\x00\\x00\\x00\\x00\\x00\\x00\\x00\\x00\\x00\\x00\\x00\\x00\\x00\\x00\\x00\\x00\\x00\\x00\\x00\\x00\\x00\\x00\\x00\\x00\\x00\\x00\\x00\\x00\\x00\\x00\\x00\\x00\\x00\\x00\\x00\\x00\\x00\\x00\\x00\\x00\\x00\\x00\\x00\\x00\\x00\\x00\\x00\\x00\\x00\\x00\\x00\\x00\\x00\\x00\\x00\\x00\\x00\\x00\\x00\\x00\\x00\\x00\\x00\\x00\\x00\\x00\\x00\\x00\\x00\\x00\\x00\\x00\\x00\\x00\\x00\\x00\\x00\\x00\\x00\\x00\\x00\\x00\\x00\\x00\\x00\\x00\\x00\\x00\\x00\\x00\\x00\\x00\\x00\\x00\\x00\\x00\\x00\\x00\\x00\\x00\\x00\\x00\\x00\\x00\\x00\\x00\\x00\\x00\\x00\\x00\\x00\\x00\\x00\\x00\\x00\\x00\\x00\\x00\\x00\\x00\\x00\\x00\\x00\\x00\\x00\\x00\\x00\\x00\\x00\\x00\\x00\\x00\\x00\\x00\\x00\\x00\\x00\\x00\\x00\\x00\\x00\\x00\\x00\\x00\\x00\\x00\\x00\\x00\\x00\\x00\\x00\\x00\\x00\\x00\\x00\\x00\\x00\\x00\\x00\\x00\\x00\\x00\\x00\\x00\\x00\\x00\\x00\\x00\\x00\\x00\\x00\\x00\\x00\\x00\\x00\\x00\\x00\\x00\\x00\\x00\\x00\\x00\\x00\\x00\\x00\\x00\\x00\\x00\\x00\\x00\\x00\\x00\\x00\\x00\\x00\\x00\\x00\\x00\\x00\\x00\\x00\\x00\\x00\\x00\\x00\\x00\\x00\\x00\\x00\\x00\\x00\\x00\\x00\\x00\\x00\\x00\\x00\\x00\\x00\\x00\\x00\\x00\\x00\\x00\\x00\\x00\\x00\\x00\\x00\\x00\\x00\\x00\\x00\\x00\\x00\\x00\\x00\\x00\\x00\\x00\\x00\\x00\\x00\\x00\\x00\\x00\\x00\\x00\\x00\\x00\\x00\\x00\\x00\\x00\\x00\\x00\\x00\\x00\\x00\\x00\\x00\\x00\\x00\\x00\\x00\\x00\\x00\\x00\\x00\\x00\\x00\\x00\\x00\\x00\\x00\\x00\\x00\\x00\\x00\\x00\\x00\\x00\\x00\\x00\\x00\\x00\\x00\\x00\\x00\\x00\\x00\\x00\\x00\\x00\\x00\\x00\\x00\\x00\\x00\\x00\\x00\\x00\\x00\\x00\\x00\\x00\\x00\\x00\\x00\\x00\\x00\\x00\\x00\\x00\\x00\\x00\\x00\\x00\\x00\\x00\\x00\\x00\\x00\\x00\\x00\\x00\\x00\\x00\\x00\\x00\\x00\\x00\\x00\\x00\\x00\\x00\\x00\\x00\\x00\\x00\\x00\\x00\\x00\\x00\\x00\\x00\\x00\\x00\\x00\\x00\\x00\\x00\\x00\\x00\\x00\\x00\\x00\\x00\\x00\\x00\\x00\\x00\\x00\\x00\\x00\\x00\\x00\\x00\\x00\\x00\\x00\\x00\\x00\\x00\\x00\\x00\\x00\\x00\\x00\\x00\\x00\\x00\\x00\\x00\\x00\\x00\\x00\\x00\\x00\\x00\\x00\\x00\\x00\\x00\\x00\\x00\\x00\\x00\\x00\\x00\\x00\\x00\\x00\\x00\\x00\\x00\\x00\\x00\\x00\\x00\\x00\\x00\\x00\\x00\\x00\\x00\\x00\\x00\\x00\\x00\\x00\\x00\\x00\\x00\\x00\\x00\\x00\\x00\\x00\\x00\\x00\\x00\\x00\\x00\\x00\\x00\\x00\\x00\\x00\\x00\\x00\\x00\\x00\\x00\\x00\\x00\\x00\\x00\\x00\\x00\\x00\\x00\\x00\\x00\\x00\\x00\\x00\\x00\\x00\\x00\\x00\\x00\\x00\\x00\\x00\\x00\\x00\\x00\\x00\\x00\\x00\\x00\\x00\\x00\\x00\\x00\\x00\\x00\\x00\\x00\\x00\\x00\\x00\\x00\\x00\\x00\\x00\\x00\\x00\\x00\\x00\\x00\\x00\\x00\\x00\\x00\\x00\\x00\\x00\\x00\\x00\\x00\\x00\\x00\\x00\\x00\\x00\\x00\\x00\\x00\\x00\\x00\\x00\\x00\\x00\\x00\\x00\\x00\\x00\\x00\\x00\\x00\\x00\\x00\\x00\\x00\\x00\\x00\\x00\\x00\\x00\\x00\\x00\\x00\\x00\\x00\\x00\\x00\\x00\\x00\\x00\\x00\\x00\\x00\\x00\\x00\\x00\\x00\\x00\\x00\\x00\\x00\\x00\\x00\\x00\\x00\\x00\\x00\\x00\\x00\\x00\\x00\\x00\\x00\\x00\\x00\\x00\\x00\\x00\\x00\\x00\\x00\\x00\\x00\\x00\\x00\\x00\\x00\\x00\\x00\\x00\\x00\\x00\\x00\\x00\\x00\\x00\\x00\\x00\\x00\\x00\\x00\\x00\\x00\\x00\\x00\\x00\\x00\\x00\\x00\\x00\\x00\\x00\\x00\\x00\\x00\\x00\\x00\\x00\\x00\\x00\\x00\\x00\\x00\\x00\\x00\\x00\\x00\\x00\\x00\\x00\\x00\\x00\\x00\\x00\\x00\\x00\\x00\\x00\\x00\\x00\\x00\\x00\\x00\\x00\\x00\\x00\\x00\\x00\\x00\\x00\\x00\\x00\\x00\\x00\\x00\\x00\\x00\\x00\\x00\\x00\\x00\\x00\\x00\\x00\\x00\\x00\\x00\\x00\\x00\\x00\\x00\\x00\\x00\\x00\\x00\\x00\\x00\\x00\\x00\\x00\\x00\\x00\\x00\\x00\\x00\\x00\\x00\\x00\\x00\\x00\\x00\\x00\\x00\\x00\\x00\\x00\\x00\\x00\\x00\\x00\\x00\\x00\\x00\\x00\\x00\\x00\\x00\\x00\\x00\\x00\\x00\\x00\\x00\\x00\\x00\\x00\\x00\\x00\\x00\\x00\\x00\\x00\\x00\\x00\\x00\\x00\\x00\\x00\\x00\\x00\\x00\\x00\\x00\\x00\\x00\\x00\\x00\\x00\\x00\\x00\\x00\\x00\\x00\\x00\\x00\\x00\\x00\\x00\\x00\\x00\\x00\\x00\\x00\\x00\\x00\\x00\\x00\\x00\\x00\\x00\\x00\\x00\\x00\\x00\\x00\\x00\\x00\\x00\\x00\\x00\\x00\\x00\\x00\\x00\\x00\\x00\\x00\\x00\\x00\\x00\\x00\\x00\\x00\\x00\\x00\\x00\\x00\\x00\\x00\\x00\\x00\\x00\\x00\\x00\\x00\\x00\\x00\\x00\\x00\\x00\\x00\\x00\\x00\\x00\\x00\\x00\\x00\\x00\\x00\\x00\\x00\\x00\\x00\\x00\\x00\\x00\\x00\\x00\\x00\\x00\\x00\\x00\\x00\\x00\\x00\\x00\\x00\\x00\\x00\\x00\\x00\\x00\\x00\\x00\\x00\\x00\\x00\\x00\\x00\\x00\\x00\\x00\\x00\\x00\\x00\\x00\\x00\\x00\\x00\\x00\\x00\\x00\\x00\\x00\\x00\\x00\\x00\\x00\\x00\\x00\\x00\\x00\\x00\\x00\\x00\\x00\\x00\\x00\\x00\\x00\\x00\\x00\\x00\\x00\\x00\\x00\\x00\\x00\\x00\\x00\\x00\\x00\\x00\\x00\\x00\\x00\\x00\\x00\\x00\\x00\\x00\\x00\\x00\\x00\\x00\\x00\\x00\\x00\\x00\\x00\\x00\\x00\\x00\\x00\\x00\\x00\\x00\\x00\\x00\\x00\\x00\\x00\\x00\\x00\\x00\\x00\\x00\\x00\\x00\\x00\\x00\\x00\\x00\\x00\\x00\\x00\\x00\\x00\\x00\\x00\\x00\\x00\\x00\\x00\\x00\\x00\\x00\\x00\\x00\\x00\\x00\\x00\\x00\\x00\\x00\\x00\\x00\\x00\\x00\\x00\\x00\\x00\\x00\\x00\\x00\\x00\\x00')\n"
     ]
    }
   ],
   "source": [
    "from pysme.synthesize import synthesize_spectrum\n",
    "from pysme.linelist.linelist import LineList\n",
    "from pysme.linelist.vald import ValdFile\n",
    "from pysme.sme import SME_Structure\n",
    "from pysme.util import vac2air\n",
    "from pysme.solve import solve\n",
    "from pysme.abund import Abund\n",
    "from pysme import util\n",
    "\n",
    "from scipy.interpolate import interp1d\n",
    "from joblib import Parallel, delayed\n",
    "from scipy.signal import find_peaks\n",
    "from astropy.constants import c as c_light\n",
    "import matplotlib.pyplot as plt\n",
    "from io import StringIO\n",
    "import pandas as pd\n",
    "import numpy as np\n",
    "import warnings\n",
    "import glob\n",
    "import sys\n",
    "import os\n",
    "\n",
    "warnings.filterwarnings('ignore')"
   ]
  },
  {
   "cell_type": "code",
   "execution_count": 2,
   "id": "6e9211b5-e250-4148-9422-e8f02d6f3587",
   "metadata": {},
   "outputs": [],
   "source": [
    "os.chdir('/home/fgran/iSpec/')\n",
    "import ispec\n",
    "sys.path.append('/home/fgran/iSpec/')"
   ]
  },
  {
   "cell_type": "code",
   "execution_count": 3,
   "id": "3ae55734-ae79-478c-b6c0-6b80bfe91ca3",
   "metadata": {},
   "outputs": [],
   "source": [
    "def pix_to_wl(pix, wl0, dwl):\n",
    "    return wl0 + pix * dwl"
   ]
  },
  {
   "cell_type": "code",
   "execution_count": 4,
   "id": "aa9ce0f0-b5db-487f-a7b4-70f7f4d5b899",
   "metadata": {},
   "outputs": [],
   "source": [
    "os.environ['NUMEXPR_MAX_THREADS'] = '35' #change this number using the correct number of cores/threads in jupyter.slurm"
   ]
  },
  {
   "cell_type": "code",
   "execution_count": 5,
   "id": "ea3ab0fd-0231-4006-a4b2-57e19d5c794a",
   "metadata": {},
   "outputs": [],
   "source": [
    "#Load Cayrel-LP results"
   ]
  },
  {
   "cell_type": "code",
   "execution_count": 6,
   "id": "2fa0d3f2-4f0e-40d5-9aa3-07fecc8b2549",
   "metadata": {},
   "outputs": [],
   "source": [
    "os.chdir('/store/teams/cosmos/fgran/data/Pristine-UVES/')\n",
    "stars = sorted(glob.glob('/store/teams/cosmos/hill/hill_extern7bis/LP/LPgiants/*/'))[:-1]"
   ]
  },
  {
   "cell_type": "code",
   "execution_count": 7,
   "id": "9f743649-1e73-4e1c-89f8-b1e3ea65fe23",
   "metadata": {},
   "outputs": [],
   "source": [
    "cayrel = pd.read_csv('tmp_merged/cayrel_loggbc_lp.csv')\n",
    "cayrel.drop(columns=['vmac', 'evmac_sme', 'evmac_fit'], inplace=True)\n",
    "cayrel_fe = pd.read_csv('tmp_cayrel/cayrel_fe.csv')\n",
    "\n",
    "cayrel = cayrel.merge(right=cayrel_fe, on='spec_id')"
   ]
  },
  {
   "cell_type": "code",
   "execution_count": 8,
   "id": "49ec8e9b-122b-41e5-b8f0-99c532b1a964",
   "metadata": {},
   "outputs": [
    {
     "data": {
      "text/html": [
       "<div>\n",
       "<style scoped>\n",
       "    .dataframe tbody tr th:only-of-type {\n",
       "        vertical-align: middle;\n",
       "    }\n",
       "\n",
       "    .dataframe tbody tr th {\n",
       "        vertical-align: top;\n",
       "    }\n",
       "\n",
       "    .dataframe thead th {\n",
       "        text-align: right;\n",
       "    }\n",
       "</style>\n",
       "<table border=\"1\" class=\"dataframe\">\n",
       "  <thead>\n",
       "    <tr style=\"text-align: right;\">\n",
       "      <th></th>\n",
       "      <th>spec_id</th>\n",
       "      <th>teff</th>\n",
       "      <th>eteff_sme</th>\n",
       "      <th>eteff_fit</th>\n",
       "      <th>logg</th>\n",
       "      <th>elogg_sme</th>\n",
       "      <th>elogg_fit</th>\n",
       "      <th>monh</th>\n",
       "      <th>emonh_sme</th>\n",
       "      <th>emonh_fit</th>\n",
       "      <th>...</th>\n",
       "      <th>logg_cayrel</th>\n",
       "      <th>monh_cayrel</th>\n",
       "      <th>vmic_cayrel</th>\n",
       "      <th>fe</th>\n",
       "      <th>efe_sme</th>\n",
       "      <th>efe_fit</th>\n",
       "      <th>vmac</th>\n",
       "      <th>evmac_sme</th>\n",
       "      <th>evmac_fit</th>\n",
       "      <th>sme_vrad1</th>\n",
       "    </tr>\n",
       "  </thead>\n",
       "  <tbody>\n",
       "    <tr>\n",
       "      <th>0</th>\n",
       "      <td>01_HD2796</td>\n",
       "      <td>4939.899305</td>\n",
       "      <td>204.934803</td>\n",
       "      <td>11.533078</td>\n",
       "      <td>1.851909</td>\n",
       "      <td>0.047986</td>\n",
       "      <td>0.047986</td>\n",
       "      <td>-2.349789</td>\n",
       "      <td>0.215940</td>\n",
       "      <td>0.013301</td>\n",
       "      <td>...</td>\n",
       "      <td>1.5</td>\n",
       "      <td>-2.47</td>\n",
       "      <td>2.1</td>\n",
       "      <td>7.479476</td>\n",
       "      <td>0.187220</td>\n",
       "      <td>0.010326</td>\n",
       "      <td>8.060534</td>\n",
       "      <td>3.096533</td>\n",
       "      <td>0.140182</td>\n",
       "      <td>1.862572</td>\n",
       "    </tr>\n",
       "    <tr>\n",
       "      <th>1</th>\n",
       "      <td>02_HD122563</td>\n",
       "      <td>4581.238720</td>\n",
       "      <td>163.183116</td>\n",
       "      <td>8.732404</td>\n",
       "      <td>1.328129</td>\n",
       "      <td>0.060962</td>\n",
       "      <td>0.060962</td>\n",
       "      <td>-2.679967</td>\n",
       "      <td>0.186471</td>\n",
       "      <td>0.010661</td>\n",
       "      <td>...</td>\n",
       "      <td>1.1</td>\n",
       "      <td>-2.82</td>\n",
       "      <td>2.0</td>\n",
       "      <td>7.423514</td>\n",
       "      <td>0.195194</td>\n",
       "      <td>0.008960</td>\n",
       "      <td>7.751097</td>\n",
       "      <td>3.291346</td>\n",
       "      <td>0.121694</td>\n",
       "      <td>1.046303</td>\n",
       "    </tr>\n",
       "  </tbody>\n",
       "</table>\n",
       "<p>2 rows × 24 columns</p>\n",
       "</div>"
      ],
      "text/plain": [
       "       spec_id         teff   eteff_sme  eteff_fit      logg  elogg_sme  \\\n",
       "0    01_HD2796  4939.899305  204.934803  11.533078  1.851909   0.047986   \n",
       "1  02_HD122563  4581.238720  163.183116   8.732404  1.328129   0.060962   \n",
       "\n",
       "   elogg_fit      monh  emonh_sme  emonh_fit  ...  logg_cayrel  monh_cayrel  \\\n",
       "0   0.047986 -2.349789   0.215940   0.013301  ...          1.5        -2.47   \n",
       "1   0.060962 -2.679967   0.186471   0.010661  ...          1.1        -2.82   \n",
       "\n",
       "   vmic_cayrel        fe   efe_sme   efe_fit      vmac  evmac_sme  evmac_fit  \\\n",
       "0          2.1  7.479476  0.187220  0.010326  8.060534   3.096533   0.140182   \n",
       "1          2.0  7.423514  0.195194  0.008960  7.751097   3.291346   0.121694   \n",
       "\n",
       "   sme_vrad1  \n",
       "0   1.862572  \n",
       "1   1.046303  \n",
       "\n",
       "[2 rows x 24 columns]"
      ]
     },
     "execution_count": 8,
     "metadata": {},
     "output_type": "execute_result"
    }
   ],
   "source": [
    "cayrel.head(2)"
   ]
  },
  {
   "cell_type": "code",
   "execution_count": 9,
   "id": "7d1d83db-d5b2-4287-acc6-e2bfc6d28bcc",
   "metadata": {
    "jupyter": {
     "source_hidden": true
    },
    "scrolled": true
   },
   "outputs": [],
   "source": [
    "# %%time\n",
    "# lls = sorted(glob.glob('linelist/*_VALD*.lin'))\n",
    "# linelist = pd.DataFrame()\n",
    "# for ll in lls:\n",
    "#     if ('CH' in ll) | ('CN' in ll) | ('NH' in ll) | ('Fe' in ll):\n",
    "#         linelist = pd.concat([linelist, pd.DataFrame(ValdFile(ll))])\n",
    "#     else:\n",
    "#         continue\n",
    "#         linelist = pd.concat([linelist, pd.DataFrame(ValdFile(ll)).query('gflog > -3.')])\n",
    "#     linelist = linelist[linelist.species.str.contains('1') | linelist.species.str.contains('2')]\n",
    "#     # linelist = linelist[linelist.gflog > -3]\n",
    "\n",
    "# #Carbon scaled to metal-poor\n",
    "# linelist.gflog[linelist.reference.str.contains('(12)CH')] = np.log10(1.0 * 10**linelist.gflog.values)\n",
    "# linelist.gflog[linelist.reference.str.contains('(13)CH')] = np.log10((1./5.) * 10**linelist.gflog.values)\n",
    "\n",
    "# # #Ba r-process scaled\n",
    "# # linelist.gflog[linelist.reference.str.contains('130')] = -7.0\n",
    "# # linelist.gflog[linelist.reference.str.contains('132')] = -7.0\n",
    "# # linelist.gflog[linelist.reference.str.contains('134')] = -7.0\n",
    "# # linelist.gflog[linelist.reference.str.contains('135')] = np.log10(0.40 * 10**linelist_ba.gflog.values)\n",
    "# # linelist.gflog[linelist.reference.str.contains('136')] = -7.0\n",
    "# # linelist.gflog[linelist.reference.str.contains('137')] = np.log10(0.32 * 10**linelist_ba.gflog.values)\n",
    "# # linelist.gflog[linelist.reference.str.contains('138')] = np.log10(0.28 * 10**linelist_ba.gflog.values)\n",
    "\n",
    "# linelist = LineList(linedata=linelist, medium='air').sort()\n",
    "# # linelist = LineList(linelist)"
   ]
  },
  {
   "cell_type": "code",
   "execution_count": 10,
   "id": "81309275-9488-4bab-8bbd-0e97b4c5e7fe",
   "metadata": {
    "jupyter": {
     "source_hidden": true
    },
    "tags": []
   },
   "outputs": [],
   "source": [
    "#pysme that only need to be executed once\n",
    "# linelist = ValdFile('linelist/3800-6800_long.lin')\n",
    "# linelist_eu = ValdFile('linelist/Eu_long.lin')\n",
    "# linelist_sr = ValdFile('linelist/Sr_long.lin')\n",
    "# linelist_ba = ValdFile('linelist/Ba_long.lin')\n",
    "\n",
    "# linelist = pd.DataFrame(linelist)\n",
    "\n",
    "# linelist_eu = pd.DataFrame(linelist_eu)\n",
    "# linelist_eu['depth'] = np.zeros_like(linelist_eu.species.values)\n",
    "# linelist_sr = pd.DataFrame(linelist_sr)\n",
    "# linelist_sr['depth'] = np.zeros_like(linelist_sr.species.values)\n",
    "# linelist_ba = pd.DataFrame(linelist_ba)\n",
    "# linelist_ba['depth'] = np.zeros_like(linelist_ba.species.values)\n",
    "\n",
    "# linelist_eu.gflog[~linelist_eu.reference.str.contains('151|153')] = -1.0 #np.log10(1 * 10**linelist_eu.gflog.values)\n",
    "# linelist_eu.gflog[linelist_eu.reference.str.contains('151')] = np.log10(1 * 10**linelist_eu.gflog.values)\n",
    "# linelist_eu.gflog[linelist_eu.reference.str.contains('153')] = np.log10(2 * 10**linelist_eu.gflog.values)\n",
    "\n",
    "# linelist_eu = linelist_eu[(linelist_eu.wlcent > 4120) & (linelist_eu.wlcent < 4210)]\n",
    "\n",
    "# linelist_ba.gflog[linelist_ba.reference.str.contains('130')] = -1.0 #np.log10(0.0 * 10**linelist_ba.gflog.values)\n",
    "# linelist_ba.gflog[linelist_ba.reference.str.contains('132')] = -1.0 #np.log10(0.135 * 10**linelist_ba.gflog.values)\n",
    "# linelist_ba.gflog[linelist_ba.reference.str.contains('134')] = -1.0 #np.log10(0.135 * 10**linelist_ba.gflog.values)\n",
    "# linelist_ba.gflog[linelist_ba.reference.str.contains('135')] = np.log10(0.42 * 10**linelist_ba.gflog.values)\n",
    "# linelist_ba.gflog[linelist_ba.reference.str.contains('136')] = -1.0 #np.log10(0.135 * 10**linelist_ba.gflog.values)\n",
    "# linelist_ba.gflog[linelist_ba.reference.str.contains('137')] = np.log10(0.32 * 10**linelist_ba.gflog.values)\n",
    "# linelist_ba.gflog[linelist_ba.reference.str.contains('138')] = np.log10(0.28 * 10**linelist_ba.gflog.values)\n",
    "\n",
    "# linelist = linelist[linelist.species.values != 'Eu 2']\n",
    "# linelist = linelist[linelist.species.values != 'Sr 2']\n",
    "# linelist = linelist[linelist.species.values != 'Ba 2']\n",
    "# linelist = pd.concat([linelist, linelist_eu, linelist_sr, linelist_ba], ignore_index=True).sort_values(by='wlcent', ascending=True).reset_index(drop=True)\n",
    "\n",
    "# linelist = LineList(linedata=linelist)\n",
    "\n",
    "# linelist = ValdFile('linelist/VALD_korg_linelist_3000_9000.lin', medium='air')\n",
    "# linelist.wlcent = vac2air(linelist.wlcent, 'A')\n",
    "\n",
    "# ll_columns = ['species', 'wlcent', 'excit', 'gflog', 'gamvw', 'gamrad', 'gamqst', 'upper_level', 'lower_level', 'eqw', 'eeqw', 'reference']\n",
    "# linelist = ValdFile('linelist/3800-6800_short.lin')\n",
    "# linelist_eu = pd.read_csv('linelist/Eu_Cayrel_linelist.lin', names=ll_columns)\n",
    "# linelist_ba = pd.read_csv('linelist/Ba_Cayrel_linelist.lin', names=ll_columns)\n",
    "# linelist_sr = pd.read_csv('linelist/Sr_Cayrel_linelist.lin', names=ll_columns)\n",
    "\n",
    "# linelist_eu['vmic'], linelist_eu['lande'], linelist_eu['depth'], linelist_eu['atom_number'], linelist_eu['ionization'] = 2.0, 99.0, 0.0, 63.0, 2.0, \n",
    "# linelist_ba['vmic'], linelist_ba['lande'], linelist_ba['depth'], linelist_ba['atom_number'], linelist_ba['ionization'] = 2.0, 99.0, 0.0, 56.0, 2.0, \n",
    "# linelist_sr['vmic'], linelist_sr['lande'], linelist_sr['depth'], linelist_sr['atom_number'], linelist_sr['ionization'] = 2.0, 99.0, 0.0, 38.0, 2.0, \n",
    "\n",
    "# linelist = pd.DataFrame(linelist)\n",
    "\n",
    "# linelist = linelist[linelist.species.values != 'Eu 2']\n",
    "# linelist = linelist[linelist.species.values != 'Sr 2']\n",
    "# linelist = linelist[linelist.species.values != 'Ba 2']\n",
    "# linelist = pd.concat([linelist, linelist_eu, linelist_sr, linelist_ba], ignore_index=True).sort_values(by='wlcent', ascending=True).reset_index(drop=True)\n",
    "# linelist = LineList(linedata=linelist)\n",
    "\n",
    "# ll_columns = ['species', 'wlcent', 'excit', 'gflog', 'fdamp', 'g_up', 'gamrad', 'gamqst', 'upper_level', 'lower_level', 'depth', 'eeqw', 'reference']\n",
    "# linelist = pd.read_csv('linelist/syn_all_3000_4570_newgfsHFS_Sep07_clean.csv', names=ll_columns, usecols=(0,1,2,3))\n",
    "# linelist.species = linelist.species.str.replace(\"'\", '')\n",
    "# linelist['vmic'], linelist['lande'], linelist['atom_number'], linelist['ionization'], linelist['reference'] = 2.0, 1.9, 1.0, 2.0, 'Cayrel_Hill'\n",
    "# linelist['gamrad'], linelist['gamqst'], linelist['gamvw'] = 0.0, 0.0, 0.0 #7.5, -6.0, -7.7\n",
    "# linelist = LineList(linedata=linelist, medium='air')\n",
    "# linelist = linelist.sort()\n",
    "\n",
    "# lls = sorted(glob.glob('linelist/*_VALD_all.lin'))\n",
    "# linelist = pd.DataFrame()\n",
    "# for ll in lls:\n",
    "#     if ('CN' in ll) or ('CH' in ll) or ('NH' in ll):\n",
    "#         continue\n",
    "#     print(ll)\n",
    "#     linelist = pd.concat([linelist, pd.DataFrame(ValdFile(ll))]);\n",
    "\n",
    "# linelist = linelist[(linelist.species.str.contains('1').values | linelist.species.str.contains('2').values) & (linelist.gflog.values > -5.)]\n",
    "# linelist = LineList(linedata=linelist, medium='air')\n",
    "# linelist = linelist.sort()\n",
    "\n",
    "# wmin_blue = 4200 #3800\n",
    "# wmax_blue = 4350\n",
    "\n",
    "# linelist = linelist[(linelist.wlcent > wmin_blue) & (linelist.wlcent < wmax_blue)]\n",
    "\n",
    "# #Delta lines definitions\n",
    "# delta_line = 1. #AA\n",
    "\n",
    "# wl_G_band = 4300. #AA\n",
    "# delta_G_band = 40. #AA\n",
    "# wl_CaHK_band = 3950. #AA\n",
    "# delta_CaHK_band = 50. #AA\n",
    "# delta_H_line_wing = 5.0 #AA\n",
    "# delta_H_line_core = 0.75 #AA"
   ]
  },
  {
   "cell_type": "code",
   "execution_count": 11,
   "id": "55b9a23b-578c-4afb-8c20-79675e014602",
   "metadata": {},
   "outputs": [
    {
     "name": "stderr",
     "output_type": "stream",
     "text": [
      "[2025-01-24 09:48:02,800] [INFO] [vald:loads:174]: Loading VALD file linelist/VALD_korg_linelist_3000_9000.lin\n"
     ]
    },
    {
     "name": "stdout",
     "output_type": "stream",
     "text": [
      "\u001b[32mINFO - Loading VALD file linelist/VALD_korg_linelist_3000_9000.lin\u001b[0m\n"
     ]
    }
   ],
   "source": [
    "linelist = ValdFile('linelist/VALD_korg_linelist_3000_9000.lin', medium='air')\n",
    "linelist.wlcent = vac2air(linelist.wlcent, 'A')"
   ]
  },
  {
   "cell_type": "code",
   "execution_count": null,
   "id": "5ba2a229-dd25-4a2c-8fe8-cdb77f3c8f60",
   "metadata": {},
   "outputs": [],
   "source": []
  },
  {
   "cell_type": "code",
   "execution_count": 12,
   "id": "20e27b56-cdee-4e52-9d56-7d30d3fdec57",
   "metadata": {},
   "outputs": [],
   "source": [
    "# linelist = LineList(linelist)\n",
    "\n",
    "wmin_blue = 4200\n",
    "wmax_blue = 4350\n",
    "\n",
    "# wmin_blue = 4228.5\n",
    "# wmax_blue = 4233.5\n",
    "\n",
    "linelist = linelist[(linelist.wlcent > wmin_blue) & (linelist.wlcent < wmax_blue)]\n",
    "\n",
    "#Delta lines definitions\n",
    "delta_line = 1. #AA\n",
    "\n",
    "wl_G_band = 4300. #AA\n",
    "delta_G_band = 40. #AA\n",
    "wl_CaHK_band = 3950. #AA\n",
    "delta_CaHK_band = 50. #AA\n",
    "delta_H_line_wing = 5.0 #AA\n",
    "delta_H_line_core = 0.75 #AA"
   ]
  },
  {
   "cell_type": "code",
   "execution_count": 13,
   "id": "8fcefbbe-c174-4188-b211-aa41d342059b",
   "metadata": {},
   "outputs": [],
   "source": [
    "#Create solar scaled atmosphere with [alpha/Fe] = +0.4\n",
    "solar = SME_Structure()\n",
    "solar.abund = Abund(0.0, 'asplund2009')\n",
    "\n",
    "abund = solar.abund.pattern\n",
    "abund['O']  = abund['O']  + 0.4\n",
    "abund['Ne'] = abund['Ne'] + 0.4\n",
    "abund['Mg'] = abund['Mg'] + 0.4\n",
    "abund['Si'] = abund['Si'] + 0.4\n",
    "abund['S']  = abund['S']  + 0.4\n",
    "abund['Ar'] = abund['Ar'] + 0.4\n",
    "abund['Ca'] = abund['Ca'] + 0.4\n",
    "abund['Ti'] = abund['Ti'] + 0.4"
   ]
  },
  {
   "cell_type": "code",
   "execution_count": 15,
   "id": "d4e138e3-d630-4b24-baae-e558f28125a1",
   "metadata": {
    "jupyter": {
     "source_hidden": true
    }
   },
   "outputs": [],
   "source": [
    "def Cayrel_LP(i, star, elems_to_include, elem_string, vrad_flag, tol=1e-2):\n",
    "    \n",
    "    spec_id = star.split('/')[-2].replace('-','_')\n",
    "    \n",
    "    header_spb = pd.read_csv('%s/spb' %star, nrows=1, skiprows=1, names=['npix', 'dpix', 'wl0', 'dwl', 'rv'], delim_whitespace=True)    \n",
    "    data_spb = pd.read_csv('%s/spb' %star, nrows=header_spb.npix.values[0], skiprows=3, names=['pix', 'flux'], delim_whitespace=True, comment='-')\n",
    "    data_spb.dropna(axis=0, inplace=True)\n",
    "    \n",
    "    #SME definitions\n",
    "    sme = SME_Structure()\n",
    "\n",
    "    sme.ipres, sme.iptype, sme.gam6, sme.h2broad = 47000, 'gauss', True, True\n",
    "    sme.atmo.source, sme.atmo.method, sme.atmo.geom = 'marcs2012s_t2.0.sav', 'grid', 'SPH'\n",
    "\n",
    "    sme.accxt, sme.accgt, sme.accft = tol, tol, tol\n",
    "    sme.leastsquare3_ftol, sme.leastsquares_gtol, sme.leastsquares_xtol = tol, tol, tol\n",
    "    sme.accwi, sme.accrt, sme.clim, sme.chirat = tol, tol, tol, tol\n",
    "    sme.vrad_bounds = -5., 5.\n",
    "\n",
    "    # Redirect output to logs/RUN*/*.txt\n",
    "    util.start_logging(log_file='logs/Cayrel.txt', level='ERROR')\n",
    "    # util.redirect_output_to_file('logs/Cayrel_all_sme.txt')\n",
    "\n",
    "    wave = pix_to_wl(data_spb.pix.values, header_spb.wl0.values[0], header_spb.dwl.values[0]) * np.sqrt((1.-(header_spb.rv[0]*1000.)/c_light.value)/(1.+(header_spb.rv[0]*1000.)/c_light.value))\n",
    "    spec = data_spb.flux.values/10000.\n",
    "    uncs = 0.004*np.ones_like(data_spb.flux.values)\n",
    "\n",
    "    sme.wave = wave[(wave > wmin_blue) & (wave < wmax_blue)]\n",
    "    sme.spec = spec[(wave > wmin_blue) & (wave < wmax_blue)]\n",
    "    sme.uncs = uncs[(wave > wmin_blue) & (wave < wmax_blue)]\n",
    "    \n",
    "    del header_spb, data_spb, wave, spec, uncs\n",
    "    \n",
    "    #Normalisation\n",
    "    peaks, _ = find_peaks(sme.spec.data, rel_height=0.6)\n",
    "    delta = (1. - np.nanmedian(sme.spec.data[peaks]))\n",
    "    sme.spec = sme.spec.data + delta\n",
    "    \n",
    "    sme.cscale_flag = 'constant'\n",
    "    # sme.cscale_type = 'mcmc'\n",
    "    sme.fitresults.maxiter = 100\n",
    "    # sme.cscale = np.percentile(sme.spec.data, 95)\n",
    "\n",
    "    #Masking process to derive Teff, logg, monh and vmic (vmac if needed)\n",
    "    # The mask values are: 0: bad pixel, 1: line pixel, 2: continuum pixel\n",
    "    line_regions = np.zeros_like(sme.wave.data).astype(int)\n",
    "    line_regions[(sme.spec.data > 0.98) % (sme.spec.data < 1.02)] == 2 #Define some continuum pixels\n",
    "    ll_mask = np.zeros(linelist.species.size).astype(bool)\n",
    "        \n",
    "    for wline, mask_species in linelist[['wlcent', 'species']]:\n",
    "        if mask_species in elems_to_include:\n",
    "            idx_ = (sme.wave.data > wline-delta_line) & (sme.wave.data < wline+delta_line)\n",
    "            line_regions[idx_] = 1\n",
    "            \n",
    "            ll_mask[(linelist.wlcent > wline-delta_line) & (linelist.wlcent < wline+delta_line)] = True\n",
    "            continue\n",
    "        \n",
    "    for wline, mask_species in linelist[['wlcent', 'species']]:\n",
    "        #Hydrogen lines\n",
    "        if 'H 1' == mask_species:\n",
    "            idx_ = (sme.wave.data > wline-delta_H_line_core) & (sme.wave.data < wline+delta_H_line_core)\n",
    "            line_regions[idx_] = 0\n",
    "    del idx_\n",
    "    \n",
    "    #G-band and CaHK regions\n",
    "    # line_regions[(sme.wave.data > wl_G_band-delta_G_band) & (sme.wave.data < wl_G_band+delta_G_band)] = 0\n",
    "    # line_regions[(sme.wave.data > wl_CaHK_band-delta_CaHK_band) & (sme.wave.data < wl_CaHK_band+delta_CaHK_band)] = 0\n",
    "    # line_regions[sme.wave.data < 4000] = 0\n",
    "    #Merge all the line_regions as int\n",
    "    line_regions = line_regions.astype(int)\n",
    "    line_regions[sme.spec.data == 0.0] = 0\n",
    "    sme.mask = line_regions\n",
    "    del line_regions\n",
    "    \n",
    "    if elem_string == '12C': f_c = pd.DataFrame(linelist).reference.str.contains('\\(12\\)CH').values\n",
    "    if elem_string == '13C': f_c = pd.DataFrame(linelist).reference.str.contains('\\(13\\)CH').values\n",
    "\n",
    "    if (elem_string == '12C') | (elem_string == '13C'):\n",
    "        sme.linelist = linelist[ll_mask & (linelist.wlcent > np.min(sme.wave.data)) & (linelist.wlcent < np.max(sme.wave.data)) & f_c].sort()\n",
    "    else:\n",
    "        sme.linelist = linelist[ll_mask & (linelist.wlcent > np.min(sme.wave.data)) & (linelist.wlcent < np.max(sme.wave.data))].sort()\n",
    "    del ll_mask\n",
    "    \n",
    "    #Abundance scaling to create realistic synthetics\n",
    "    sme.abund = abund\n",
    "    #RV determination for each chip\n",
    "    sme.vrad_flag = vrad_flag\n",
    "\n",
    "    #input guesses from xgboost\n",
    "    sme.teff = cayrel.teff.values[i]\n",
    "    sme.logg = cayrel.logg.values[i]\n",
    "    sme.monh = cayrel.monh.values[i]\n",
    "    sme.vmic = cayrel.vmic.values[i]\n",
    "    sme.vmac = cayrel.vmac.values[i]\n",
    "    sme.vrad = cayrel.sme_vrad1.values[i]\n",
    "\n",
    "    sme.abund.update_pattern({'Fe':cayrel.fe.values[i]})\n",
    "    sme.abund.update_pattern({'C':8.43 + cayrel.monh.values[i]})\n",
    "\n",
    "    #NLTE\n",
    "    # sme.nlte.set_nlte('H', 'nlte_H_ama51_pysme.grd')\n",
    "    # sme.nlte.set_nlte('Fe', 'nlte_Fe_ama51_Feb2022_pysme.grd')\n",
    "    # sme.nlte.set_nlte('Mg', 'marcs2012_Mg2016.grd')\n",
    "    # sme.nlte.set_nlte('Ti', 'marcs2012s_t2.0_Ti.grd')\n",
    "    # sme.nlte.set_nlte('Ba', 'nlte_Ba_ama51_pysme.grd')\n",
    "\n",
    "    fitparameters = ['abund C']\n",
    "    \n",
    "    #Do the heavy lifting\n",
    "    sme = solve(sme, fitparameters)\n",
    "    \n",
    "    if elem_string == '12C':\n",
    "        c12, ec12_sme, ec12_fit = sme.fitresults.values[0], sme.fitresults.uncertainties[0], sme.fitresults.fit_uncertainties[0]\n",
    "        data_to_write = np.vstack((spec_id, c12, ec12_sme, ec12_fit, sme.fitresults.iterations)).T\n",
    "        columns_c12 = ['spec_id', 'c12', 'ec12_sme', 'ec12_fit', 'niter']\n",
    "        pd.DataFrame(data=data_to_write, columns=columns_c12).to_csv('tmp_cayrel/cayrel_elem_c12_%s.csv' %spec_id, index=False, header=False)\n",
    "        \n",
    "        sme.save('sme_save/cayrel_elem_c12_%s' %spec_id)\n",
    "        \n",
    "        del c12, ec12_sme, ec12_fit, data_to_write, sme\n",
    "            \n",
    "    if elem_string == '13C':\n",
    "        c13, ec13_sme, ec13_fit = sme.fitresults.values[0], sme.fitresults.uncertainties[0], sme.fitresults.fit_uncertainties[0]\n",
    "        data_to_write = np.vstack((spec_id, c13, ec13_sme, ec13_fit, sme.fitresults.iterations)).T\n",
    "        columns_c13 = ['spec_id', 'c13', 'ec13_sme', 'ec13_fit', 'niter']\n",
    "        pd.DataFrame(data=data_to_write, columns=columns_c13).to_csv('tmp_cayrel/cayrel_elem_c13_%s.csv' %spec_id, index=False, header=False)\n",
    "\n",
    "        sme.save('sme_save/cayrel_elem_c13_%s' %spec_id)\n",
    "        \n",
    "        del c13, ec13_sme, ec13_fit, data_to_write, sme\n",
    "        \n",
    "    if elem_string == 'C':\n",
    "        c, ec_sme, ec_fit = sme.fitresults.values[0], sme.fitresults.uncertainties[0], sme.fitresults.fit_uncertainties[0]\n",
    "        data_to_write = np.vstack((spec_id, c, ec_sme, ec_fit, sme.fitresults.iterations)).T\n",
    "        columns_c = ['spec_id', 'c', 'ec_sme', 'ec_fit', 'niter']\n",
    "        pd.DataFrame(data=data_to_write, columns=columns_c).to_csv('tmp_cayrel/cayrel_elem_c_%s.csv' %spec_id, index=False, header=False)\n",
    "\n",
    "        sme.save('sme_save/cayrel_elem_c_%s' %spec_id)\n",
    "         \n",
    "        del c, ec_sme, ec_fit, data_to_write, sme\n",
    "      \n",
    "    return"
   ]
  },
  {
   "cell_type": "code",
   "execution_count": 16,
   "id": "7b995f30-ccdd-4b5a-a36d-1005ede34f2b",
   "metadata": {},
   "outputs": [],
   "source": [
    "vrad_flag = 'whole' # 'each' # 'whole' # 'each'\n",
    "\n",
    "elems_to_include, elem_string, tol = ['CH 1'], 'C', 1e-8\n",
    "# elems_to_include, elem_string, tol = ['CH 1'], '12C', 1e-4\n",
    "# elems_to_include, elem_string, tol = ['CH 1'], '13C', 1e-4"
   ]
  },
  {
   "cell_type": "code",
   "execution_count": null,
   "id": "bc79fa84-0dc5-43dc-aa4a-60325fb1c275",
   "metadata": {},
   "outputs": [],
   "source": []
  },
  {
   "cell_type": "code",
   "execution_count": 17,
   "id": "585b7ad0-435b-4170-bf20-f6cab7861cba",
   "metadata": {
    "scrolled": true,
    "tags": []
   },
   "outputs": [
    {
     "name": "stderr",
     "output_type": "stream",
     "text": [
      "[Parallel(n_jobs=35)]: Using backend LokyBackend with 35 concurrent workers.\n",
      "[Parallel(n_jobs=35)]: Done   6 out of  35 | elapsed: 15.9min remaining: 77.0min\n",
      "[Parallel(n_jobs=35)]: Done  14 out of  35 | elapsed: 18.6min remaining: 28.0min\n",
      "[Parallel(n_jobs=35)]: Done  22 out of  35 | elapsed: 21.3min remaining: 12.6min\n",
      "[Parallel(n_jobs=35)]: Done  30 out of  35 | elapsed: 24.9min remaining:  4.1min\n"
     ]
    },
    {
     "name": "stdout",
     "output_type": "stream",
     "text": [
      "CPU times: user 187 ms, sys: 316 ms, total: 503 ms\n",
      "Wall time: 28min 34s\n"
     ]
    },
    {
     "name": "stderr",
     "output_type": "stream",
     "text": [
      "[Parallel(n_jobs=35)]: Done  35 out of  35 | elapsed: 28.6min finished\n"
     ]
    },
    {
     "data": {
      "text/plain": [
       "[None,\n",
       " None,\n",
       " None,\n",
       " None,\n",
       " None,\n",
       " None,\n",
       " None,\n",
       " None,\n",
       " None,\n",
       " None,\n",
       " None,\n",
       " None,\n",
       " None,\n",
       " None,\n",
       " None,\n",
       " None,\n",
       " None,\n",
       " None,\n",
       " None,\n",
       " None,\n",
       " None,\n",
       " None,\n",
       " None,\n",
       " None,\n",
       " None,\n",
       " None,\n",
       " None,\n",
       " None,\n",
       " None,\n",
       " None,\n",
       " None,\n",
       " None,\n",
       " None,\n",
       " None,\n",
       " None]"
      ]
     },
     "execution_count": 17,
     "metadata": {},
     "output_type": "execute_result"
    }
   ],
   "source": [
    "%%time\n",
    "\n",
    "#parallel execution:\n",
    "cayrel = pd.read_csv('tmp_merged/cayrel_loggbc_lp.csv')\n",
    "cayrel.drop(columns=['vmac', 'evmac_sme', 'evmac_fit'], inplace=True)\n",
    "cayrel_fe = pd.read_csv('tmp_cayrel/cayrel_fe.csv')\n",
    "\n",
    "cayrel = cayrel.merge(right=cayrel_fe, on='spec_id')\n",
    "\n",
    "Parallel(n_jobs=cayrel.teff.size, verbose=5)(delayed(Cayrel_LP)(i, star, elems_to_include=elems_to_include, elem_string=elem_string, vrad_flag=vrad_flag, tol=tol) for i, star in enumerate(stars));"
   ]
  },
  {
   "cell_type": "code",
   "execution_count": null,
   "id": "5ffa0dce-22a0-4f2c-a9ac-41c4ac7be878",
   "metadata": {},
   "outputs": [],
   "source": []
  },
  {
   "cell_type": "code",
   "execution_count": 18,
   "id": "bcd3c331-6702-4119-bab2-c24e9a435037",
   "metadata": {
    "tags": []
   },
   "outputs": [],
   "source": [
    "# %%time\n",
    "# # single execution\n",
    "# cayrel = pd.read_csv('tmp_merged/cayrel_loggbc_lp.csv')\n",
    "# cayrel.drop(columns=['vmac', 'evmac_sme', 'evmac_fit'], inplace=True)\n",
    "# cayrel_fe = pd.read_csv('tmp_cayrel/cayrel_fe.csv')\n",
    "\n",
    "# cayrel = cayrel.merge(right=cayrel_fe, on='spec_id')\n",
    "\n",
    "# Cayrel_LP(34, stars[34], elems_to_include=elems_to_include, elem_string=elem_string, vrad_flag=vrad_flag, tol=tol)"
   ]
  },
  {
   "cell_type": "code",
   "execution_count": null,
   "id": "06c9b453-87df-415b-b0d6-892d6b1472cd",
   "metadata": {},
   "outputs": [],
   "source": []
  },
  {
   "cell_type": "code",
   "execution_count": 19,
   "id": "3b6c9fc1-4889-4887-9245-8b862edbf5d5",
   "metadata": {},
   "outputs": [],
   "source": [
    "#Plotting to be sure all is correct"
   ]
  },
  {
   "cell_type": "code",
   "execution_count": 18,
   "id": "a85f7a78-13e7-447a-9ec2-bad7bc87286f",
   "metadata": {},
   "outputs": [
    {
     "name": "stderr",
     "output_type": "stream",
     "text": [
      "[2024-12-12 13:22:34,552] [INFO] [sme:load:839]: Loading SME file sme_save/cayrel_elem_c_23_CS22949_37.sme\n"
     ]
    },
    {
     "name": "stdout",
     "output_type": "stream",
     "text": [
      "\u001b[32mINFO - Loading SME file sme_save/cayrel_elem_c_23_CS22949_37.sme\u001b[0m\n"
     ]
    }
   ],
   "source": [
    "sme = SME_Structure.load('sme_save/cayrel_elem_c_23_CS22949_37.sme')"
   ]
  },
  {
   "cell_type": "code",
   "execution_count": 19,
   "id": "300b45b7-c6a9-41bd-95ec-8eca2800d72a",
   "metadata": {},
   "outputs": [
    {
     "name": "stderr",
     "output_type": "stream",
     "text": [
      "[2024-12-12 13:22:36,834] [INFO] [vald:loads:174]: Loading VALD file linelist/CH_VALD_all.lin\n"
     ]
    },
    {
     "name": "stdout",
     "output_type": "stream",
     "text": [
      "\u001b[32mINFO - Loading VALD file linelist/CH_VALD_all.lin\u001b[0m\n"
     ]
    },
    {
     "data": {
      "image/png": "[encoded data removed]",
      "text/plain": [
       "<Figure size 1000x400 with 1 Axes>"
      ]
     },
     "metadata": {
      "needs_background": "light"
     },
     "output_type": "display_data"
    }
   ],
   "source": [
    "plt.figure(figsize=(10,4), dpi=100)\n",
    "\n",
    "plt.plot(sme.wave.data, sme.spec.data, color='k', lw=0.5)\n",
    "# plt.errorbar(sme.wave.data, sme.spec.data, fmt='k.', yerr=0.1*sme.uncs.data, lw=1, ms=1)\n",
    "plt.plot(sme.wave.data, sme.synth.data, color='C2', lw=1.0, alpha=0.75)\n",
    "\n",
    "plt.scatter(sme.wave.data, sme.mask.data, s=10, color='grey', alpha=0.2)\n",
    "\n",
    "elems_to_include = ['CH 1']\n",
    "for wline, species, ref in pd.DataFrame(ValdFile('linelist/CH_VALD_all.lin'))[['wlcent', 'species', 'reference']].values:\n",
    "    if (wline < np.min(sme.wave.data)) or (wline > np.max(sme.wave.data)):\n",
    "        continue\n",
    "    if (species == 'Fe 1') | (species == 'Fe 2'):\n",
    "        plt.vlines(wline, 0.2, 0.25, color='r')\n",
    "    if species not in elems_to_include:\n",
    "        continue\n",
    "        \n",
    "    plt.vlines(wline, 0.40, 0.45, color='C4', lw=0.5)\n",
    "    # if '(12)CH' in ref: plt.annotate(text=r'$^{12}$%s' %species.split(' ')[0], xy=(wline-0.04, 0.3), rotation=90, fontsize=8)\n",
    "    # if '(13)CH' in ref: plt.annotate(text=r'$^{13}$%s' %species.split(' ')[0], xy=(wline-0.04, 0.3), rotation=90, fontsize=8)\n",
    "    \n",
    "# plt.xlim(4229.6, 4233.4) #12C/13C\n",
    "plt.xlim(4270, 4320) #CH\n",
    "# plt.xlim(4315, 4330) #CH\n",
    "\n",
    "plt.ylim(0.2, 1.1)\n",
    "\n",
    "plt.xlabel(r'Wavelength ($\\AA$)', size=14)\n",
    "plt.ylabel('Normalised flux', size=15)\n",
    "plt.show()"
   ]
  },
  {
   "cell_type": "code",
   "execution_count": 20,
   "id": "adde8a73-ef83-4d41-a9ad-07df116b8c21",
   "metadata": {
    "scrolled": true
   },
   "outputs": [
    {
     "data": {
      "text/plain": [
       "array([0.11060525])"
      ]
     },
     "execution_count": 20,
     "metadata": {},
     "output_type": "execute_result"
    }
   ],
   "source": [
    "sme.fitresults.uncertainties"
   ]
  },
  {
   "cell_type": "code",
   "execution_count": null,
   "id": "a7c697e4-03ff-4f18-810c-0ff2f628f44d",
   "metadata": {},
   "outputs": [],
   "source": []
  },
  {
   "cell_type": "code",
   "execution_count": 29,
   "id": "6be87655-8e7b-42bb-bd2b-baa7bbd06535",
   "metadata": {},
   "outputs": [],
   "source": [
    "#Merging files after SME"
   ]
  },
  {
   "cell_type": "code",
   "execution_count": 21,
   "id": "3f1b906e-6060-44e2-95bb-51aa517538de",
   "metadata": {},
   "outputs": [],
   "source": [
    "os.system('cat tmp_cayrel/cayrel_elem_c_*.csv > tmp_cayrel/cayrel_c.csv');\n",
    "# os.system('cat tmp_cayrel/cayrel_elem_c12_*.csv > tmp_cayrel/cayrel_c12.csv');\n",
    "# os.system('cat tmp_cayrel/cayrel_elem_c13_*.csv > tmp_cayrel/cayrel_c13.csv');"
   ]
  },
  {
   "cell_type": "code",
   "execution_count": 22,
   "id": "6ad9f068-f625-451f-9b60-a1df385d42d1",
   "metadata": {},
   "outputs": [
    {
     "name": "stdout",
     "output_type": "stream",
     "text": [
      "01_HD2796,7.712457073748045,0.18319713320933617,0.005101199776976825,11\n",
      "02_HD122563,7.88703394453527,0.10874541476625145,0.002729569590077908,14\n"
     ]
    }
   ],
   "source": [
    "!head -n 2 tmp_cayrel/cayrel_c.csv"
   ]
  },
  {
   "cell_type": "code",
   "execution_count": 23,
   "id": "2134aa2e-6464-4eb9-b79b-c0911986f443",
   "metadata": {
    "tags": []
   },
   "outputs": [],
   "source": [
    "os.system(\"sed '1i spec_id,c,ec_sme,ec_fit,niter_c' tmp_cayrel/cayrel_c.csv -i\");\n",
    "# os.system(\"sed '1i spec_id,c12,ec12_sme,ec12_fit' tmp_cayrel/cayrel_c12.csv -i\");\n",
    "# os.system(\"sed '1i spec_id,c13,ec13_sme,ec13_fit' tmp_cayrel/cayrel_c13.csv -i\");"
   ]
  },
  {
   "cell_type": "code",
   "execution_count": null,
   "id": "3d561ad6-46a7-44fb-8866-93a8a3504eb7",
   "metadata": {},
   "outputs": [],
   "source": []
  },
  {
   "cell_type": "code",
   "execution_count": 47,
   "id": "8f0c8ff9-8826-42ce-a137-5b65a161ef51",
   "metadata": {},
   "outputs": [],
   "source": [
    "#Merge carbon files with atm and Fe for Cayrel sample"
   ]
  },
  {
   "cell_type": "code",
   "execution_count": 67,
   "id": "78567f67-1b96-4a74-a3d6-a256dd0e3da9",
   "metadata": {},
   "outputs": [],
   "source": [
    "cayrel = pd.read_csv('tmp_merged/cayrel_atm_fe.csv')\n",
    "cayrel_c = pd.read_csv('tmp_cayrel/cayrel_c.csv')\n",
    "\n",
    "cayrel_lelements = pd.read_csv('cayrel/Cayrel_light_elements.csv').query('species == \"C\"')\n",
    "cayrel_lelements.drop(columns=['feh_c04', 'species', 'eafe', 'nlines_c04'], inplace=True)\n",
    "cayrel_lelements.rename(columns={'loge':'logeC_c04', 'is_limit_am':'is_limit_c_c04', 'is_limit_afe':'is_limit_cfe_c04', 'afe':'cfe_c04', 'am':'cm_c04',}, inplace=True)\n",
    "cayrel_lelements = cayrel_lelements[['spec_id', 'logeC_c04', 'is_limit_c_c04', 'cm_c04', 'cfe_c04', 'is_limit_cfe_c04']]"
   ]
  },
  {
   "cell_type": "code",
   "execution_count": 69,
   "id": "4cc361fe-92d8-4643-b87b-8aa2e710afb2",
   "metadata": {},
   "outputs": [],
   "source": [
    "cayrel = cayrel.merge(right=cayrel_c, on='spec_id').merge(right=cayrel_lelements, on='spec_id')"
   ]
  },
  {
   "cell_type": "code",
   "execution_count": 71,
   "id": "f1e93479-8bbe-4112-bc47-afaf01e9ec4b",
   "metadata": {},
   "outputs": [
    {
     "data": {
      "text/html": [
       "<div>\n",
       "<style scoped>\n",
       "    .dataframe tbody tr th:only-of-type {\n",
       "        vertical-align: middle;\n",
       "    }\n",
       "\n",
       "    .dataframe tbody tr th {\n",
       "        vertical-align: top;\n",
       "    }\n",
       "\n",
       "    .dataframe thead th {\n",
       "        text-align: right;\n",
       "    }\n",
       "</style>\n",
       "<table border=\"1\" class=\"dataframe\">\n",
       "  <thead>\n",
       "    <tr style=\"text-align: right;\">\n",
       "      <th></th>\n",
       "      <th>spec_id</th>\n",
       "      <th>teff</th>\n",
       "      <th>eteff_sme</th>\n",
       "      <th>eteff_fit</th>\n",
       "      <th>logg</th>\n",
       "      <th>elogg_sme</th>\n",
       "      <th>elogg_fit</th>\n",
       "      <th>monh</th>\n",
       "      <th>emonh_sme</th>\n",
       "      <th>emonh_fit</th>\n",
       "      <th>...</th>\n",
       "      <th>is_limit_fe2</th>\n",
       "      <th>c</th>\n",
       "      <th>ec_sme</th>\n",
       "      <th>ec_fit</th>\n",
       "      <th>niter_c</th>\n",
       "      <th>logeC_c04</th>\n",
       "      <th>is_limit_c_c04</th>\n",
       "      <th>cm_c04</th>\n",
       "      <th>cfe_c04</th>\n",
       "      <th>is_limit_cfe_c04</th>\n",
       "    </tr>\n",
       "  </thead>\n",
       "  <tbody>\n",
       "    <tr>\n",
       "      <th>0</th>\n",
       "      <td>01_HD2796</td>\n",
       "      <td>4939.899305</td>\n",
       "      <td>204.934803</td>\n",
       "      <td>11.533078</td>\n",
       "      <td>1.851909</td>\n",
       "      <td>0.047986</td>\n",
       "      <td>0.047986</td>\n",
       "      <td>-2.349789</td>\n",
       "      <td>0.215940</td>\n",
       "      <td>0.013301</td>\n",
       "      <td>...</td>\n",
       "      <td>False</td>\n",
       "      <td>7.712457</td>\n",
       "      <td>0.183197</td>\n",
       "      <td>0.005101</td>\n",
       "      <td>11</td>\n",
       "      <td>5.55</td>\n",
       "      <td>False</td>\n",
       "      <td>-2.97</td>\n",
       "      <td>-0.51</td>\n",
       "      <td>False</td>\n",
       "    </tr>\n",
       "    <tr>\n",
       "      <th>1</th>\n",
       "      <td>02_HD122563</td>\n",
       "      <td>4581.238720</td>\n",
       "      <td>163.183116</td>\n",
       "      <td>8.732404</td>\n",
       "      <td>1.328129</td>\n",
       "      <td>0.060962</td>\n",
       "      <td>0.060962</td>\n",
       "      <td>-2.679967</td>\n",
       "      <td>0.186471</td>\n",
       "      <td>0.010661</td>\n",
       "      <td>...</td>\n",
       "      <td>False</td>\n",
       "      <td>7.887034</td>\n",
       "      <td>0.108745</td>\n",
       "      <td>0.002730</td>\n",
       "      <td>14</td>\n",
       "      <td>5.30</td>\n",
       "      <td>False</td>\n",
       "      <td>-3.22</td>\n",
       "      <td>-0.41</td>\n",
       "      <td>False</td>\n",
       "    </tr>\n",
       "  </tbody>\n",
       "</table>\n",
       "<p>2 rows × 39 columns</p>\n",
       "</div>"
      ],
      "text/plain": [
       "       spec_id         teff   eteff_sme  eteff_fit      logg  elogg_sme  \\\n",
       "0    01_HD2796  4939.899305  204.934803  11.533078  1.851909   0.047986   \n",
       "1  02_HD122563  4581.238720  163.183116   8.732404  1.328129   0.060962   \n",
       "\n",
       "   elogg_fit      monh  emonh_sme  emonh_fit  ...  is_limit_fe2         c  \\\n",
       "0   0.047986 -2.349789   0.215940   0.013301  ...         False  7.712457   \n",
       "1   0.060962 -2.679967   0.186471   0.010661  ...         False  7.887034   \n",
       "\n",
       "     ec_sme    ec_fit  niter_c  logeC_c04  is_limit_c_c04  cm_c04  cfe_c04  \\\n",
       "0  0.183197  0.005101       11       5.55           False   -2.97    -0.51   \n",
       "1  0.108745  0.002730       14       5.30           False   -3.22    -0.41   \n",
       "\n",
       "   is_limit_cfe_c04  \n",
       "0             False  \n",
       "1             False  \n",
       "\n",
       "[2 rows x 39 columns]"
      ]
     },
     "execution_count": 71,
     "metadata": {},
     "output_type": "execute_result"
    }
   ],
   "source": [
    "cayrel.head(2)"
   ]
  },
  {
   "cell_type": "code",
   "execution_count": 72,
   "id": "3f2bdec5-abfe-4389-816e-55bef740443b",
   "metadata": {},
   "outputs": [],
   "source": [
    "cayrel.to_csv('tmp_merged/cayrel_atm_fe_c.csv', header=True, index=False)"
   ]
  },
  {
   "cell_type": "code",
   "execution_count": null,
   "id": "ef296aa6-e0c5-4767-b27d-29b3c0da6d40",
   "metadata": {},
   "outputs": [],
   "source": []
  },
  {
   "cell_type": "code",
   "execution_count": 15,
   "id": "d4d823bd-c138-4429-80b9-22f1b3e38d59",
   "metadata": {},
   "outputs": [],
   "source": [
    "#Apply Placco corrections to the Cayrel sample"
   ]
  },
  {
   "cell_type": "code",
   "execution_count": 16,
   "id": "abd8891c-585f-4e89-985a-27e3cc992ccb",
   "metadata": {},
   "outputs": [],
   "source": [
    "from selenium.webdriver.firefox.options import Options\n",
    "from seleniumrequests import Firefox\n",
    "import time"
   ]
  },
  {
   "cell_type": "code",
   "execution_count": 17,
   "id": "895b1120-f05e-49d7-851c-7fdd42a76416",
   "metadata": {},
   "outputs": [],
   "source": [
    "firefox_options = Options()\n",
    "firefox_options.add_argument(\"--headless\")\n",
    "firefox_options.add_argument(\"--no-sandbox\")\n",
    "firefox_options.add_argument(\"--disable-dev-shm-usage\")\n",
    "firefox_options.set_preference(\"dom.forms.number\", False)"
   ]
  },
  {
   "cell_type": "code",
   "execution_count": 21,
   "id": "100995e2-a5f8-41a8-87ae-1fb401d7cff1",
   "metadata": {},
   "outputs": [
    {
     "data": {
      "text/plain": [
       "Index(['spec_id', 'teff', 'eteff_sme', 'eteff_fit', 'logg', 'elogg_sme',\n",
       "       'elogg_fit', 'monh', 'emonh_sme', 'emonh_fit', 'vmic', 'evmic_sme',\n",
       "       'evmic_fit', 'teff_cayrel', 'logg_cayrel', 'monh_cayrel', 'vmic_cayrel',\n",
       "       'fe', 'efe_sme', 'efe_fit', 'vmac', 'evmac_sme', 'evmac_fit',\n",
       "       'sme_vrad1', 'logeFe2', 'fe2', 'efe2_rms', 'efe2_sme', 'nlines_fe2',\n",
       "       'is_limit_fe2', 'c', 'ec_sme', 'ec_fit', 'niter_c', 'logeC_c04',\n",
       "       'is_limit_c_c04', 'cm_c04', 'cfe_c04', 'is_limit_cfe_c04', 'n',\n",
       "       'en_sme', 'en_fit', 'niter_n', 'ch_s05', 'ech_s05', 'is_limit_ch_s05',\n",
       "       'n_cn_s05', 'is_limit_n_cn_s05', 'n_nh_s05', 'en_nh_s05',\n",
       "       'is_limit_n_nh_s05', 'nh_adopted_s05', 'is_limit_nh_adopted_s05',\n",
       "       'oh_s05', 'cnfe_s05', 'is_limit_cnfe_s05', 'mixed_s05'],\n",
       "      dtype='object')"
      ]
     },
     "execution_count": 21,
     "metadata": {},
     "output_type": "execute_result"
    }
   ],
   "source": [
    "cayrel = pd.read_csv('tmp_merged/cayrel_atm_fe_cn.csv')\n",
    "cayrel.columns"
   ]
  },
  {
   "cell_type": "code",
   "execution_count": 22,
   "id": "d86ca6ff-d4dc-4643-a02f-6e7cb7500d30",
   "metadata": {},
   "outputs": [],
   "source": [
    "def Placco_parallel(i, input_row):\n",
    "    feh = np.round(input_row.fe + input_row.monh - solar.abund.get_element('Fe'), 2)\n",
    "    cfe = np.round(input_row.c - solar.abund.get_element('C'), 2)\n",
    "    lgg = input_row.logg - 0.3\n",
    "    ff = Firefox(options=firefox_options)\n",
    "    response = ff.request('POST', 'https://vplacco.pythonanywhere.com/', data={'lgg':lgg, 'feh':feh, 'cfe':cfe})\n",
    "    carbon_correction = float(response.text.split('The [C/Fe] correction is: ')[1].split(' ([N/Fe]=0.0 case)')[0])\n",
    "    ff.quit()\n",
    "\n",
    "    data_to_write = np.vstack((input_row.spec_id, carbon_correction)).T\n",
    "    pd.DataFrame(data=data_to_write, columns=['spec_id', 'carbon_correction']).to_csv('tmp_cayrel/cayrel_carbon_corrections_logg_03.csv', index=False, header=False, mode='a')\n",
    "    time.sleep(np.random.randint(low=10, high=20))\n",
    "\n",
    "    return"
   ]
  },
  {
   "cell_type": "code",
   "execution_count": 23,
   "id": "4587401a-39d7-4d93-9119-5ab62249db59",
   "metadata": {},
   "outputs": [
    {
     "name": "stderr",
     "output_type": "stream",
     "text": [
      "[Parallel(n_jobs=3)]: Using backend LokyBackend with 3 concurrent workers.\n",
      "[Parallel(n_jobs=3)]: Done  12 tasks      | elapsed:  3.1min\n",
      "[Parallel(n_jobs=3)]: Done  35 out of  35 | elapsed:  5.4min finished\n"
     ]
    }
   ],
   "source": [
    "Parallel(n_jobs=3, verbose=5)(delayed(Placco_parallel)(i, input_row) for i, input_row in cayrel.iterrows());"
   ]
  },
  {
   "cell_type": "code",
   "execution_count": 24,
   "id": "7050c834-3910-46e4-ad98-58279784adf2",
   "metadata": {},
   "outputs": [],
   "source": [
    "!sed -i '1i \\spec_id,carbon_correction_03' tmp_cayrel/cayrel_carbon_corrections_logg_03.csv"
   ]
  },
  {
   "cell_type": "code",
   "execution_count": 25,
   "id": "226ea4cf-a672-4c93-b75b-a6fee7f1ebae",
   "metadata": {},
   "outputs": [],
   "source": [
    "carbon_correction = pd.read_csv('tmp_cayrel/cayrel_carbon_corrections_logg_03.csv')"
   ]
  },
  {
   "cell_type": "code",
   "execution_count": 27,
   "id": "7e236e9d-1b01-4d8a-9570-335f5f9fb812",
   "metadata": {},
   "outputs": [],
   "source": [
    "cayrel = cayrel.merge(right=carbon_correction, on='spec_id')"
   ]
  },
  {
   "cell_type": "code",
   "execution_count": 28,
   "id": "4d68ebd9-a639-4aec-afe0-f7bc2395d836",
   "metadata": {},
   "outputs": [
    {
     "data": {
      "text/html": [
       "<div>\n",
       "<style scoped>\n",
       "    .dataframe tbody tr th:only-of-type {\n",
       "        vertical-align: middle;\n",
       "    }\n",
       "\n",
       "    .dataframe tbody tr th {\n",
       "        vertical-align: top;\n",
       "    }\n",
       "\n",
       "    .dataframe thead th {\n",
       "        text-align: right;\n",
       "    }\n",
       "</style>\n",
       "<table border=\"1\" class=\"dataframe\">\n",
       "  <thead>\n",
       "    <tr style=\"text-align: right;\">\n",
       "      <th></th>\n",
       "      <th>spec_id</th>\n",
       "      <th>teff</th>\n",
       "      <th>eteff_sme</th>\n",
       "      <th>eteff_fit</th>\n",
       "      <th>logg</th>\n",
       "      <th>elogg_sme</th>\n",
       "      <th>elogg_fit</th>\n",
       "      <th>monh</th>\n",
       "      <th>emonh_sme</th>\n",
       "      <th>emonh_fit</th>\n",
       "      <th>...</th>\n",
       "      <th>n_nh_s05</th>\n",
       "      <th>en_nh_s05</th>\n",
       "      <th>is_limit_n_nh_s05</th>\n",
       "      <th>nh_adopted_s05</th>\n",
       "      <th>is_limit_nh_adopted_s05</th>\n",
       "      <th>oh_s05</th>\n",
       "      <th>cnfe_s05</th>\n",
       "      <th>is_limit_cnfe_s05</th>\n",
       "      <th>mixed_s05</th>\n",
       "      <th>carbon_correction_03</th>\n",
       "    </tr>\n",
       "  </thead>\n",
       "  <tbody>\n",
       "    <tr>\n",
       "      <th>0</th>\n",
       "      <td>01_HD2796</td>\n",
       "      <td>4939.899305</td>\n",
       "      <td>204.934803</td>\n",
       "      <td>11.533078</td>\n",
       "      <td>1.851909</td>\n",
       "      <td>0.047986</td>\n",
       "      <td>0.047986</td>\n",
       "      <td>-2.349789</td>\n",
       "      <td>0.215940</td>\n",
       "      <td>0.013301</td>\n",
       "      <td>...</td>\n",
       "      <td>-1.22</td>\n",
       "      <td>0.08</td>\n",
       "      <td>False</td>\n",
       "      <td>-1.62</td>\n",
       "      <td>False</td>\n",
       "      <td>-1.97</td>\n",
       "      <td>0.14</td>\n",
       "      <td>False</td>\n",
       "      <td>m</td>\n",
       "      <td>0.40</td>\n",
       "    </tr>\n",
       "    <tr>\n",
       "      <th>1</th>\n",
       "      <td>02_HD122563</td>\n",
       "      <td>4581.238720</td>\n",
       "      <td>163.183116</td>\n",
       "      <td>8.732404</td>\n",
       "      <td>1.328129</td>\n",
       "      <td>0.060962</td>\n",
       "      <td>0.060962</td>\n",
       "      <td>-2.679967</td>\n",
       "      <td>0.186471</td>\n",
       "      <td>0.010661</td>\n",
       "      <td>...</td>\n",
       "      <td>-1.72</td>\n",
       "      <td>0.15</td>\n",
       "      <td>False</td>\n",
       "      <td>-2.12</td>\n",
       "      <td>False</td>\n",
       "      <td>-2.20</td>\n",
       "      <td>0.04</td>\n",
       "      <td>False</td>\n",
       "      <td>m</td>\n",
       "      <td>0.74</td>\n",
       "    </tr>\n",
       "  </tbody>\n",
       "</table>\n",
       "<p>2 rows × 58 columns</p>\n",
       "</div>"
      ],
      "text/plain": [
       "       spec_id         teff   eteff_sme  eteff_fit      logg  elogg_sme  \\\n",
       "0    01_HD2796  4939.899305  204.934803  11.533078  1.851909   0.047986   \n",
       "1  02_HD122563  4581.238720  163.183116   8.732404  1.328129   0.060962   \n",
       "\n",
       "   elogg_fit      monh  emonh_sme  emonh_fit  ...  n_nh_s05  en_nh_s05  \\\n",
       "0   0.047986 -2.349789   0.215940   0.013301  ...     -1.22       0.08   \n",
       "1   0.060962 -2.679967   0.186471   0.010661  ...     -1.72       0.15   \n",
       "\n",
       "   is_limit_n_nh_s05  nh_adopted_s05  is_limit_nh_adopted_s05  oh_s05  \\\n",
       "0              False           -1.62                    False   -1.97   \n",
       "1              False           -2.12                    False   -2.20   \n",
       "\n",
       "   cnfe_s05  is_limit_cnfe_s05  mixed_s05  carbon_correction_03  \n",
       "0      0.14              False          m                  0.40  \n",
       "1      0.04              False          m                  0.74  \n",
       "\n",
       "[2 rows x 58 columns]"
      ]
     },
     "execution_count": 28,
     "metadata": {},
     "output_type": "execute_result"
    }
   ],
   "source": [
    "cayrel.head(2)"
   ]
  },
  {
   "cell_type": "code",
   "execution_count": 29,
   "id": "37609b26-6640-43d8-b381-32416cab9032",
   "metadata": {},
   "outputs": [],
   "source": [
    "cayrel.to_csv('tmp_merged/cayrel_atm_fe_cn_corr.csv', index=False, header=True)"
   ]
  },
  {
   "cell_type": "code",
   "execution_count": null,
   "id": "7ef7ab5a-c7bd-457e-abf9-979f65d13ed0",
   "metadata": {},
   "outputs": [],
   "source": []
  },
  {
   "cell_type": "code",
   "execution_count": 24,
   "id": "bbc57126-d391-4235-824b-e071e1ccb71a",
   "metadata": {},
   "outputs": [],
   "source": [
    "#Read and compare [C/H]"
   ]
  },
  {
   "cell_type": "code",
   "execution_count": 25,
   "id": "1e8e7f8e-c80b-4695-b99d-0d5d3a48d6bb",
   "metadata": {},
   "outputs": [],
   "source": [
    "solar = SME_Structure()\n",
    "solar.abund = Abund(0.0, 'asplund2009')"
   ]
  },
  {
   "cell_type": "code",
   "execution_count": 73,
   "id": "e7dfb707-1769-4540-af35-e8900ef0bda0",
   "metadata": {},
   "outputs": [],
   "source": [
    "cayrel = pd.read_csv('tmp_merged/cayrel_atm_fe_c.csv')"
   ]
  },
  {
   "cell_type": "code",
   "execution_count": 74,
   "id": "634afd46-3224-4057-a103-bc42a42f6edd",
   "metadata": {},
   "outputs": [
    {
     "data": {
      "text/html": [
       "<div>\n",
       "<style scoped>\n",
       "    .dataframe tbody tr th:only-of-type {\n",
       "        vertical-align: middle;\n",
       "    }\n",
       "\n",
       "    .dataframe tbody tr th {\n",
       "        vertical-align: top;\n",
       "    }\n",
       "\n",
       "    .dataframe thead th {\n",
       "        text-align: right;\n",
       "    }\n",
       "</style>\n",
       "<table border=\"1\" class=\"dataframe\">\n",
       "  <thead>\n",
       "    <tr style=\"text-align: right;\">\n",
       "      <th></th>\n",
       "      <th>spec_id</th>\n",
       "      <th>teff</th>\n",
       "      <th>eteff_sme</th>\n",
       "      <th>eteff_fit</th>\n",
       "      <th>logg</th>\n",
       "      <th>elogg_sme</th>\n",
       "      <th>elogg_fit</th>\n",
       "      <th>monh</th>\n",
       "      <th>emonh_sme</th>\n",
       "      <th>emonh_fit</th>\n",
       "      <th>...</th>\n",
       "      <th>is_limit_fe2</th>\n",
       "      <th>c</th>\n",
       "      <th>ec_sme</th>\n",
       "      <th>ec_fit</th>\n",
       "      <th>niter_c</th>\n",
       "      <th>logeC_c04</th>\n",
       "      <th>is_limit_c_c04</th>\n",
       "      <th>cm_c04</th>\n",
       "      <th>cfe_c04</th>\n",
       "      <th>is_limit_cfe_c04</th>\n",
       "    </tr>\n",
       "  </thead>\n",
       "  <tbody>\n",
       "    <tr>\n",
       "      <th>0</th>\n",
       "      <td>01_HD2796</td>\n",
       "      <td>4939.899305</td>\n",
       "      <td>204.934803</td>\n",
       "      <td>11.533078</td>\n",
       "      <td>1.851909</td>\n",
       "      <td>0.047986</td>\n",
       "      <td>0.047986</td>\n",
       "      <td>-2.349789</td>\n",
       "      <td>0.215940</td>\n",
       "      <td>0.013301</td>\n",
       "      <td>...</td>\n",
       "      <td>False</td>\n",
       "      <td>7.712457</td>\n",
       "      <td>0.183197</td>\n",
       "      <td>0.005101</td>\n",
       "      <td>11</td>\n",
       "      <td>5.55</td>\n",
       "      <td>False</td>\n",
       "      <td>-2.97</td>\n",
       "      <td>-0.51</td>\n",
       "      <td>False</td>\n",
       "    </tr>\n",
       "    <tr>\n",
       "      <th>1</th>\n",
       "      <td>02_HD122563</td>\n",
       "      <td>4581.238720</td>\n",
       "      <td>163.183116</td>\n",
       "      <td>8.732404</td>\n",
       "      <td>1.328129</td>\n",
       "      <td>0.060962</td>\n",
       "      <td>0.060962</td>\n",
       "      <td>-2.679967</td>\n",
       "      <td>0.186471</td>\n",
       "      <td>0.010661</td>\n",
       "      <td>...</td>\n",
       "      <td>False</td>\n",
       "      <td>7.887034</td>\n",
       "      <td>0.108745</td>\n",
       "      <td>0.002730</td>\n",
       "      <td>14</td>\n",
       "      <td>5.30</td>\n",
       "      <td>False</td>\n",
       "      <td>-3.22</td>\n",
       "      <td>-0.41</td>\n",
       "      <td>False</td>\n",
       "    </tr>\n",
       "  </tbody>\n",
       "</table>\n",
       "<p>2 rows × 39 columns</p>\n",
       "</div>"
      ],
      "text/plain": [
       "       spec_id         teff   eteff_sme  eteff_fit      logg  elogg_sme  \\\n",
       "0    01_HD2796  4939.899305  204.934803  11.533078  1.851909   0.047986   \n",
       "1  02_HD122563  4581.238720  163.183116   8.732404  1.328129   0.060962   \n",
       "\n",
       "   elogg_fit      monh  emonh_sme  emonh_fit  ...  is_limit_fe2         c  \\\n",
       "0   0.047986 -2.349789   0.215940   0.013301  ...         False  7.712457   \n",
       "1   0.060962 -2.679967   0.186471   0.010661  ...         False  7.887034   \n",
       "\n",
       "     ec_sme    ec_fit  niter_c  logeC_c04  is_limit_c_c04  cm_c04  cfe_c04  \\\n",
       "0  0.183197  0.005101       11       5.55           False   -2.97    -0.51   \n",
       "1  0.108745  0.002730       14       5.30           False   -3.22    -0.41   \n",
       "\n",
       "   is_limit_cfe_c04  \n",
       "0             False  \n",
       "1             False  \n",
       "\n",
       "[2 rows x 39 columns]"
      ]
     },
     "execution_count": 74,
     "metadata": {},
     "output_type": "execute_result"
    }
   ],
   "source": [
    "cayrel.head(2)"
   ]
  },
  {
   "cell_type": "code",
   "execution_count": null,
   "id": "e6f148ac-7753-4835-8025-defef1888a6c",
   "metadata": {},
   "outputs": [],
   "source": []
  },
  {
   "cell_type": "code",
   "execution_count": 77,
   "id": "f9cc0801-2e29-47ce-b691-c368257558e5",
   "metadata": {},
   "outputs": [
    {
     "data": {
      "image/png": "[encoded data removed]",
      "text/plain": [
       "<Figure size 600x500 with 2 Axes>"
      ]
     },
     "metadata": {
      "needs_background": "light"
     },
     "output_type": "display_data"
    }
   ],
   "source": [
    "plt.figure(figsize=(6,5), dpi=100)\n",
    "\n",
    "f_ec = (cayrel.ec_sme < 1.0)\n",
    "plt.errorbar(cayrel.c.values[f_ec] + cayrel.monh.values[f_ec], cayrel.logeC_c04.values[f_ec], fmt='k.', \n",
    "             xerr=cayrel.ec_sme.values[f_ec], yerr=0.15*np.ones(np.sum(f_ec)), lw=1.0, zorder=0, alpha=0.5)\n",
    "plt.scatter(cayrel.c.values[f_ec] + cayrel.monh.values[f_ec], cayrel.logeC_c04.values[f_ec], \n",
    "            c=(cayrel.teff.values[f_ec] - cayrel.teff_cayrel.values[f_ec]), s=30, ec='k', cmap=plt.cm.coolwarm, vmin=-250, vmax=250)\n",
    "cb = plt.colorbar()\n",
    "cb.set_label(label=r'$\\Delta T_{\\rm eff}$', size=14)\n",
    "x = np.linspace(4.25, 6.75)\n",
    "plt.plot(x,x,color='g', zorder=0)\n",
    "plt.plot(x,x+0.2,color='g', ls='--', alpha=0.5, zorder=0)\n",
    "plt.plot(x,x-0.2,color='g', ls='--', alpha=0.5, zorder=0)\n",
    "plt.xlabel(r'$\\log\\epsilon\\ (C)$ pySME', size=14)\n",
    "plt.ylabel(r'$\\log\\epsilon\\ (C)$ Cayrel', size=14)\n",
    "\n",
    "# plt.xlim(3.5, 7)\n",
    "# plt.ylim(4.0, 7)\n",
    "plt.savefig('plots/UVES_carbon_comparison.pdf', dpi=300)\n",
    "plt.show()"
   ]
  },
  {
   "cell_type": "code",
   "execution_count": null,
   "id": "893d5d64-3638-4d09-a7df-ed1d5e6e4838",
   "metadata": {},
   "outputs": [],
   "source": []
  },
  {
   "cell_type": "code",
   "execution_count": 1,
   "id": "e2261fb3-647a-4208-a0af-2cc0ecd9b780",
   "metadata": {},
   "outputs": [],
   "source": [
    "    # # For marcs2012 atmosphere\n",
    "    # _default_grids = {\n",
    "    #     \"Al\": \"nlte_Al_ama51_pysme.grd\",\n",
    "    #     \"Fe\": \"marcs2012_Fe2016.grd\",\n",
    "    #     \"Li\": \"nlte_Li_ama51_pysme.grd\",\n",
    "    #     \"Mg\": \"nlte_Mg_ama51_pysme.grd\",\n",
    "    #     \"Na\": \"nlte_Na_ama51_pysme.grd\",\n",
    "    #     \"O\": \"nlte_O_ama51_pysme.grd\",\n",
    "    #     \"Ba\": \"nlte_Ba_ama51_pysme.grd\",\n",
    "    #     \"Ca\": \"nlte_Ca_ama51_pysme.grd\",\n",
    "    #     \"Si\": \"nlte_Si_ama51_pysme.grd\",\n",
    "    #     \"Ti\": \"marcs2012s_t2.0_Ti.grd\",\n",
    "    #     \"C\": \"nlte_C_ama51_pysme.grd\",\n",
    "    #     \"H\": \"nlte_H_ama51_pysme.grd\",\n",
    "    #     \"K\": \"nlte_K_ama51_pysme.grd\",\n",
    "    #     \"Mn\": \"nlte_Mn_ama51_pysme.grd\",\n",
    "    #     \"N\": \"nlte_N_ama51_pysme.grd\",\n",
    "    # }"
   ]
  },
  {
   "cell_type": "code",
   "execution_count": null,
   "id": "9ddd7264-1ad4-47aa-8eac-e176853d0b51",
   "metadata": {},
   "outputs": [],
   "source": []
  }
 ],
 "metadata": {
  "kernelspec": {
   "display_name": "Python 3 (ipykernel)",
   "language": "python",
   "name": "python3"
  },
  "language_info": {
   "codemirror_mode": {
    "name": "ipython",
    "version": 3
   },
   "file_extension": ".py",
   "mimetype": "text/x-python",
   "name": "python",
   "nbconvert_exporter": "python",
   "pygments_lexer": "ipython3",
   "version": "3.9.12"
  }
 },
 "nbformat": 4,
 "nbformat_minor": 5
}
